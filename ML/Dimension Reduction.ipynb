{
  "nbformat": 4,
  "nbformat_minor": 0,
  "metadata": {
    "colab": {
      "provenance": [],
      "collapsed_sections": [
        "8N7aotsEF7dL"
      ]
    },
    "kernelspec": {
      "name": "python3",
      "display_name": "Python 3"
    },
    "language_info": {
      "name": "python"
    }
  },
  "cells": [
    {
      "cell_type": "markdown",
      "source": [
        "# 차원 축소(Dimension Reduction)\n",
        "- 다차원의 데이터 셋의 차원을 축소해 새로운 차원의 데이터 셋을 생성하는 것이다.\n",
        "- 차원 축소는 단순히 데이터를 압축하는 것이 아닌 차원 축소를 통해 좀 더 데이터를 잘 설명할 수 있는 잠재적인 요소를 추출하는 데에 있다.\n",
        "- `차원`은 말은 학습데이터가 가지는 특성의 개수를 의미한다.\n",
        "- 일반적으로 차원이 증가할수록 데이터 간의 거리가 기하급수적으로 증가하기 때문에 희소한 구조를 가지게 되고 모델의 예측 신뢰도가 떨어지게 된다.\n",
        "- 차원 축소를 할 경우 학습 데이터의 크기가 줄어들어서 학습에 필요한 처리 능력도 줄일 수 있다.\n",
        "<br>\n",
        "\n",
        "- 차원 축소는 `특성 선택(Feature Selection)`과 `특성 추출(Feature Extraction)`로 나눌 수 있다.\n",
        "- `특성 선택`은 데이터의 특징을 잘 나타내는 주요 특성만 선택한다. 불필요한 특성은 제거하는 방법이다.\n",
        "- `특성 추출은` 기존의 특성을 저차원의 중요 특성으로 압축해서 기존의 특성과는 완전히 다른 새로운 특성을 만드는 방법이다.\n",
        "    - ex) PCA, SVD, NMF\n",
        "\n",
        "- 차원축소를 통해 `다중공선성` 문제와 `학습 속도`를 개선시킬 수 있다.\n",
        "- `PCA`, `LDA`, `SVD`, `NMF` 등의 기법이 존재한다."
      ],
      "metadata": {
        "id": "JFs154ooBUNB"
      }
    },
    {
      "cell_type": "code",
      "source": [
        "import pandas as pd\n",
        "import numpy as np\n",
        "import matplotlib.pyplot as plt\n",
        "import seaborn as sns\n",
        "from sklearn.datasets import load_iris\n",
        "from sklearn.preprocessing import StandardScaler\n",
        "\n",
        "%matplotlib inline"
      ],
      "metadata": {
        "id": "6LDHCgf7FSUR"
      },
      "execution_count": 1,
      "outputs": []
    },
    {
      "cell_type": "markdown",
      "source": [
        "## PCA(Principal Component Analysis)\n",
        "- `주성분분석`\n",
        "- 분산이 데이터의 특성을 가장 잘 나타내는 것으로 간주하여 데이터 변동성이 가장 큰 방향으로 축을 생성하고 새롭게 생성된 축으로 데이터를 투영하는 방식이다.\n",
        "- 여러 변수들의 변량을 주성분이라는 서로 상관관계가 높은 변수들의 선형결합으로 만들어 변수를 요약 및 축소하는 기법이다.\n",
        "- 다중공선성이 존재하는 경우 상관성이 적은 주성분으로 변수들을 축소한다.\n",
        "- 주성분분석을 통해 차원을 축소한 후 군집분석을 수행하면 군집화 결과와 연산 속도를 개선 가능하다.\n",
        "- 주성분은 원 변수들 집합에서 k개의 관찰변수 가중치의 결합이다. 이 중에서 주성분1은 가장 많은 분산을 설명하는 k개의 가중치 결합이다.\n",
        "\n",
        "<br>\n",
        "\n",
        "```python\n",
        "from sklearn.decomposition import PCA\n",
        "```\n",
        "```python\n",
        "# PCA 객체가 학습될 때 components_에 주성분이 저장된다.\n",
        "# 행은 주성분을 나타내고 중요도에 따라서 정렬되어 있다. \n",
        "# 열은 원본 데이터의 특성에 대응하는 값이다.\n",
        "pca.components_ \n",
        "```\n",
        "```python\n",
        "# 주성분이 원본 데이터의 분산을 얼마나 잘 나타내는지 기록한 값이다.\n",
        "pca.explained_variance_\n",
        "```\n",
        "```python\n",
        "# 각 주성분의 설명된 분산 비율\n",
        "pca.explained_variance_ratio_\n",
        "```\n",
        "```python\n",
        "# 분산 변동량의 누적합을 계산한다. => 누적 기여율\n",
        "# 누적 기여율이 85% 이상이면 주성분의 수로 결정한다.\n",
        "pca.explained_variance_ratio_.cumsum()\n",
        "```"
      ],
      "metadata": {
        "id": "EulOcS4TC9vX"
      }
    },
    {
      "cell_type": "markdown",
      "source": [
        "### mtcars data"
      ],
      "metadata": {
        "id": "8N7aotsEF7dL"
      }
    },
    {
      "cell_type": "code",
      "execution_count": null,
      "metadata": {
        "colab": {
          "base_uri": "https://localhost:8080/",
          "height": 269
        },
        "id": "hfn1KdCiBAVr",
        "outputId": "fa9aa406-de89-47ef-d533-ee19e4ee921d"
      },
      "outputs": [
        {
          "output_type": "stream",
          "name": "stdout",
          "text": [
            "(32, 12)\n"
          ]
        },
        {
          "output_type": "execute_result",
          "data": {
            "text/plain": [
              "               model   mpg  cyl   disp   hp  drat     wt   qsec  vs  am  gear  \\\n",
              "0          Mazda RX4  21.0    6  160.0  110  3.90  2.620  16.46   0   1     4   \n",
              "1      Mazda RX4 Wag  21.0    6  160.0  110  3.90  2.875  17.02   0   1     4   \n",
              "2         Datsun 710  22.8    4  108.0   93  3.85  2.320  18.61   1   1     4   \n",
              "3     Hornet 4 Drive  21.4    6  258.0  110  3.08  3.215  19.44   1   0     3   \n",
              "4  Hornet Sportabout  18.7    8  360.0  175  3.15  3.440  17.02   0   0     3   \n",
              "\n",
              "   carb  \n",
              "0     4  \n",
              "1     4  \n",
              "2     1  \n",
              "3     1  \n",
              "4     2  "
            ],
            "text/html": [
              "\n",
              "  <div id=\"df-eb90d3ac-3288-4028-94ac-4050756a1882\">\n",
              "    <div class=\"colab-df-container\">\n",
              "      <div>\n",
              "<style scoped>\n",
              "    .dataframe tbody tr th:only-of-type {\n",
              "        vertical-align: middle;\n",
              "    }\n",
              "\n",
              "    .dataframe tbody tr th {\n",
              "        vertical-align: top;\n",
              "    }\n",
              "\n",
              "    .dataframe thead th {\n",
              "        text-align: right;\n",
              "    }\n",
              "</style>\n",
              "<table border=\"1\" class=\"dataframe\">\n",
              "  <thead>\n",
              "    <tr style=\"text-align: right;\">\n",
              "      <th></th>\n",
              "      <th>model</th>\n",
              "      <th>mpg</th>\n",
              "      <th>cyl</th>\n",
              "      <th>disp</th>\n",
              "      <th>hp</th>\n",
              "      <th>drat</th>\n",
              "      <th>wt</th>\n",
              "      <th>qsec</th>\n",
              "      <th>vs</th>\n",
              "      <th>am</th>\n",
              "      <th>gear</th>\n",
              "      <th>carb</th>\n",
              "    </tr>\n",
              "  </thead>\n",
              "  <tbody>\n",
              "    <tr>\n",
              "      <th>0</th>\n",
              "      <td>Mazda RX4</td>\n",
              "      <td>21.0</td>\n",
              "      <td>6</td>\n",
              "      <td>160.0</td>\n",
              "      <td>110</td>\n",
              "      <td>3.90</td>\n",
              "      <td>2.620</td>\n",
              "      <td>16.46</td>\n",
              "      <td>0</td>\n",
              "      <td>1</td>\n",
              "      <td>4</td>\n",
              "      <td>4</td>\n",
              "    </tr>\n",
              "    <tr>\n",
              "      <th>1</th>\n",
              "      <td>Mazda RX4 Wag</td>\n",
              "      <td>21.0</td>\n",
              "      <td>6</td>\n",
              "      <td>160.0</td>\n",
              "      <td>110</td>\n",
              "      <td>3.90</td>\n",
              "      <td>2.875</td>\n",
              "      <td>17.02</td>\n",
              "      <td>0</td>\n",
              "      <td>1</td>\n",
              "      <td>4</td>\n",
              "      <td>4</td>\n",
              "    </tr>\n",
              "    <tr>\n",
              "      <th>2</th>\n",
              "      <td>Datsun 710</td>\n",
              "      <td>22.8</td>\n",
              "      <td>4</td>\n",
              "      <td>108.0</td>\n",
              "      <td>93</td>\n",
              "      <td>3.85</td>\n",
              "      <td>2.320</td>\n",
              "      <td>18.61</td>\n",
              "      <td>1</td>\n",
              "      <td>1</td>\n",
              "      <td>4</td>\n",
              "      <td>1</td>\n",
              "    </tr>\n",
              "    <tr>\n",
              "      <th>3</th>\n",
              "      <td>Hornet 4 Drive</td>\n",
              "      <td>21.4</td>\n",
              "      <td>6</td>\n",
              "      <td>258.0</td>\n",
              "      <td>110</td>\n",
              "      <td>3.08</td>\n",
              "      <td>3.215</td>\n",
              "      <td>19.44</td>\n",
              "      <td>1</td>\n",
              "      <td>0</td>\n",
              "      <td>3</td>\n",
              "      <td>1</td>\n",
              "    </tr>\n",
              "    <tr>\n",
              "      <th>4</th>\n",
              "      <td>Hornet Sportabout</td>\n",
              "      <td>18.7</td>\n",
              "      <td>8</td>\n",
              "      <td>360.0</td>\n",
              "      <td>175</td>\n",
              "      <td>3.15</td>\n",
              "      <td>3.440</td>\n",
              "      <td>17.02</td>\n",
              "      <td>0</td>\n",
              "      <td>0</td>\n",
              "      <td>3</td>\n",
              "      <td>2</td>\n",
              "    </tr>\n",
              "  </tbody>\n",
              "</table>\n",
              "</div>\n",
              "      <button class=\"colab-df-convert\" onclick=\"convertToInteractive('df-eb90d3ac-3288-4028-94ac-4050756a1882')\"\n",
              "              title=\"Convert this dataframe to an interactive table.\"\n",
              "              style=\"display:none;\">\n",
              "        \n",
              "  <svg xmlns=\"http://www.w3.org/2000/svg\" height=\"24px\"viewBox=\"0 0 24 24\"\n",
              "       width=\"24px\">\n",
              "    <path d=\"M0 0h24v24H0V0z\" fill=\"none\"/>\n",
              "    <path d=\"M18.56 5.44l.94 2.06.94-2.06 2.06-.94-2.06-.94-.94-2.06-.94 2.06-2.06.94zm-11 1L8.5 8.5l.94-2.06 2.06-.94-2.06-.94L8.5 2.5l-.94 2.06-2.06.94zm10 10l.94 2.06.94-2.06 2.06-.94-2.06-.94-.94-2.06-.94 2.06-2.06.94z\"/><path d=\"M17.41 7.96l-1.37-1.37c-.4-.4-.92-.59-1.43-.59-.52 0-1.04.2-1.43.59L10.3 9.45l-7.72 7.72c-.78.78-.78 2.05 0 2.83L4 21.41c.39.39.9.59 1.41.59.51 0 1.02-.2 1.41-.59l7.78-7.78 2.81-2.81c.8-.78.8-2.07 0-2.86zM5.41 20L4 18.59l7.72-7.72 1.47 1.35L5.41 20z\"/>\n",
              "  </svg>\n",
              "      </button>\n",
              "      \n",
              "  <style>\n",
              "    .colab-df-container {\n",
              "      display:flex;\n",
              "      flex-wrap:wrap;\n",
              "      gap: 12px;\n",
              "    }\n",
              "\n",
              "    .colab-df-convert {\n",
              "      background-color: #E8F0FE;\n",
              "      border: none;\n",
              "      border-radius: 50%;\n",
              "      cursor: pointer;\n",
              "      display: none;\n",
              "      fill: #1967D2;\n",
              "      height: 32px;\n",
              "      padding: 0 0 0 0;\n",
              "      width: 32px;\n",
              "    }\n",
              "\n",
              "    .colab-df-convert:hover {\n",
              "      background-color: #E2EBFA;\n",
              "      box-shadow: 0px 1px 2px rgba(60, 64, 67, 0.3), 0px 1px 3px 1px rgba(60, 64, 67, 0.15);\n",
              "      fill: #174EA6;\n",
              "    }\n",
              "\n",
              "    [theme=dark] .colab-df-convert {\n",
              "      background-color: #3B4455;\n",
              "      fill: #D2E3FC;\n",
              "    }\n",
              "\n",
              "    [theme=dark] .colab-df-convert:hover {\n",
              "      background-color: #434B5C;\n",
              "      box-shadow: 0px 1px 3px 1px rgba(0, 0, 0, 0.15);\n",
              "      filter: drop-shadow(0px 1px 2px rgba(0, 0, 0, 0.3));\n",
              "      fill: #FFFFFF;\n",
              "    }\n",
              "  </style>\n",
              "\n",
              "      <script>\n",
              "        const buttonEl =\n",
              "          document.querySelector('#df-eb90d3ac-3288-4028-94ac-4050756a1882 button.colab-df-convert');\n",
              "        buttonEl.style.display =\n",
              "          google.colab.kernel.accessAllowed ? 'block' : 'none';\n",
              "\n",
              "        async function convertToInteractive(key) {\n",
              "          const element = document.querySelector('#df-eb90d3ac-3288-4028-94ac-4050756a1882');\n",
              "          const dataTable =\n",
              "            await google.colab.kernel.invokeFunction('convertToInteractive',\n",
              "                                                     [key], {});\n",
              "          if (!dataTable) return;\n",
              "\n",
              "          const docLinkHtml = 'Like what you see? Visit the ' +\n",
              "            '<a target=\"_blank\" href=https://colab.research.google.com/notebooks/data_table.ipynb>data table notebook</a>'\n",
              "            + ' to learn more about interactive tables.';\n",
              "          element.innerHTML = '';\n",
              "          dataTable['output_type'] = 'display_data';\n",
              "          await google.colab.output.renderOutput(dataTable, element);\n",
              "          const docLink = document.createElement('div');\n",
              "          docLink.innerHTML = docLinkHtml;\n",
              "          element.appendChild(docLink);\n",
              "        }\n",
              "      </script>\n",
              "    </div>\n",
              "  </div>\n",
              "  "
            ]
          },
          "metadata": {},
          "execution_count": 14
        }
      ],
      "source": [
        "df = pd.read_csv('/content/mtcars.csv')\n",
        "print(df.shape)\n",
        "df.head()"
      ]
    },
    {
      "cell_type": "code",
      "source": [
        "from sklearn.decomposition import PCA\n",
        "from sklearn.preprocessing import StandardScaler"
      ],
      "metadata": {
        "id": "0J3FRrHAGH3O"
      },
      "execution_count": null,
      "outputs": []
    },
    {
      "cell_type": "code",
      "source": [
        "# PCA는 데이터의 스케일에 영향을 받기 때문에 PCA 전 스케일링을 해주어야 한다.\n",
        "scale = StandardScaler()"
      ],
      "metadata": {
        "id": "Ki3hb8IHGMtj"
      },
      "execution_count": null,
      "outputs": []
    },
    {
      "cell_type": "code",
      "source": [
        "scaled_df = scale.fit_transform(df.iloc[:, 1:])"
      ],
      "metadata": {
        "id": "ZvhHrY9kGSdk"
      },
      "execution_count": null,
      "outputs": []
    },
    {
      "cell_type": "code",
      "source": [
        "# 몇 개의 주성분으로 분해할지 지정해주어야 한다.\n",
        "pca = PCA(n_components=4)"
      ],
      "metadata": {
        "id": "6CudaZutGZ4l"
      },
      "execution_count": null,
      "outputs": []
    },
    {
      "cell_type": "code",
      "source": [
        "# PCA를 진행한 값으로 학습을 진행할 경우 입력값(x)에 comp 데이터를 입력해준다.\n",
        "comp = pca.fit_transform(scaled_df)"
      ],
      "metadata": {
        "id": "xUEXjER5II4B"
      },
      "execution_count": null,
      "outputs": []
    },
    {
      "cell_type": "code",
      "source": [
        "pca_df = pd.DataFrame(comp, columns=['Comp1', 'Comp2', 'Comp3', 'Comp4'], index=df.iloc[:, 0])\n",
        "\n",
        "print(pca_df.shape)\n",
        "pca_df.head()"
      ],
      "metadata": {
        "colab": {
          "base_uri": "https://localhost:8080/",
          "height": 256
        },
        "id": "Zvol9dN_IPRj",
        "outputId": "bc84809a-e916-40e3-9ceb-ec6ec95bba78"
      },
      "execution_count": null,
      "outputs": [
        {
          "output_type": "stream",
          "name": "stdout",
          "text": [
            "(32, 4)\n"
          ]
        },
        {
          "output_type": "execute_result",
          "data": {
            "text/plain": [
              "                      Comp1     Comp2     Comp3     Comp4\n",
              "model                                                    \n",
              "Mazda RX4          0.657213  1.735446 -0.601199  0.115522\n",
              "Mazda RX4 Wag      0.629396  1.550033 -0.382322  0.202307\n",
              "Datsun 710         2.779397 -0.146457 -0.241238 -0.249139\n",
              "Hornet 4 Drive     0.311771 -2.363019 -0.135759 -0.511862\n",
              "Hornet Sportabout -1.974489 -0.754402 -1.134402  0.075653"
            ],
            "text/html": [
              "\n",
              "  <div id=\"df-e6239ee0-d988-4c79-8095-51567c9df2d7\">\n",
              "    <div class=\"colab-df-container\">\n",
              "      <div>\n",
              "<style scoped>\n",
              "    .dataframe tbody tr th:only-of-type {\n",
              "        vertical-align: middle;\n",
              "    }\n",
              "\n",
              "    .dataframe tbody tr th {\n",
              "        vertical-align: top;\n",
              "    }\n",
              "\n",
              "    .dataframe thead th {\n",
              "        text-align: right;\n",
              "    }\n",
              "</style>\n",
              "<table border=\"1\" class=\"dataframe\">\n",
              "  <thead>\n",
              "    <tr style=\"text-align: right;\">\n",
              "      <th></th>\n",
              "      <th>Comp1</th>\n",
              "      <th>Comp2</th>\n",
              "      <th>Comp3</th>\n",
              "      <th>Comp4</th>\n",
              "    </tr>\n",
              "    <tr>\n",
              "      <th>model</th>\n",
              "      <th></th>\n",
              "      <th></th>\n",
              "      <th></th>\n",
              "      <th></th>\n",
              "    </tr>\n",
              "  </thead>\n",
              "  <tbody>\n",
              "    <tr>\n",
              "      <th>Mazda RX4</th>\n",
              "      <td>0.657213</td>\n",
              "      <td>1.735446</td>\n",
              "      <td>-0.601199</td>\n",
              "      <td>0.115522</td>\n",
              "    </tr>\n",
              "    <tr>\n",
              "      <th>Mazda RX4 Wag</th>\n",
              "      <td>0.629396</td>\n",
              "      <td>1.550033</td>\n",
              "      <td>-0.382322</td>\n",
              "      <td>0.202307</td>\n",
              "    </tr>\n",
              "    <tr>\n",
              "      <th>Datsun 710</th>\n",
              "      <td>2.779397</td>\n",
              "      <td>-0.146457</td>\n",
              "      <td>-0.241238</td>\n",
              "      <td>-0.249139</td>\n",
              "    </tr>\n",
              "    <tr>\n",
              "      <th>Hornet 4 Drive</th>\n",
              "      <td>0.311771</td>\n",
              "      <td>-2.363019</td>\n",
              "      <td>-0.135759</td>\n",
              "      <td>-0.511862</td>\n",
              "    </tr>\n",
              "    <tr>\n",
              "      <th>Hornet Sportabout</th>\n",
              "      <td>-1.974489</td>\n",
              "      <td>-0.754402</td>\n",
              "      <td>-1.134402</td>\n",
              "      <td>0.075653</td>\n",
              "    </tr>\n",
              "  </tbody>\n",
              "</table>\n",
              "</div>\n",
              "      <button class=\"colab-df-convert\" onclick=\"convertToInteractive('df-e6239ee0-d988-4c79-8095-51567c9df2d7')\"\n",
              "              title=\"Convert this dataframe to an interactive table.\"\n",
              "              style=\"display:none;\">\n",
              "        \n",
              "  <svg xmlns=\"http://www.w3.org/2000/svg\" height=\"24px\"viewBox=\"0 0 24 24\"\n",
              "       width=\"24px\">\n",
              "    <path d=\"M0 0h24v24H0V0z\" fill=\"none\"/>\n",
              "    <path d=\"M18.56 5.44l.94 2.06.94-2.06 2.06-.94-2.06-.94-.94-2.06-.94 2.06-2.06.94zm-11 1L8.5 8.5l.94-2.06 2.06-.94-2.06-.94L8.5 2.5l-.94 2.06-2.06.94zm10 10l.94 2.06.94-2.06 2.06-.94-2.06-.94-.94-2.06-.94 2.06-2.06.94z\"/><path d=\"M17.41 7.96l-1.37-1.37c-.4-.4-.92-.59-1.43-.59-.52 0-1.04.2-1.43.59L10.3 9.45l-7.72 7.72c-.78.78-.78 2.05 0 2.83L4 21.41c.39.39.9.59 1.41.59.51 0 1.02-.2 1.41-.59l7.78-7.78 2.81-2.81c.8-.78.8-2.07 0-2.86zM5.41 20L4 18.59l7.72-7.72 1.47 1.35L5.41 20z\"/>\n",
              "  </svg>\n",
              "      </button>\n",
              "      \n",
              "  <style>\n",
              "    .colab-df-container {\n",
              "      display:flex;\n",
              "      flex-wrap:wrap;\n",
              "      gap: 12px;\n",
              "    }\n",
              "\n",
              "    .colab-df-convert {\n",
              "      background-color: #E8F0FE;\n",
              "      border: none;\n",
              "      border-radius: 50%;\n",
              "      cursor: pointer;\n",
              "      display: none;\n",
              "      fill: #1967D2;\n",
              "      height: 32px;\n",
              "      padding: 0 0 0 0;\n",
              "      width: 32px;\n",
              "    }\n",
              "\n",
              "    .colab-df-convert:hover {\n",
              "      background-color: #E2EBFA;\n",
              "      box-shadow: 0px 1px 2px rgba(60, 64, 67, 0.3), 0px 1px 3px 1px rgba(60, 64, 67, 0.15);\n",
              "      fill: #174EA6;\n",
              "    }\n",
              "\n",
              "    [theme=dark] .colab-df-convert {\n",
              "      background-color: #3B4455;\n",
              "      fill: #D2E3FC;\n",
              "    }\n",
              "\n",
              "    [theme=dark] .colab-df-convert:hover {\n",
              "      background-color: #434B5C;\n",
              "      box-shadow: 0px 1px 3px 1px rgba(0, 0, 0, 0.15);\n",
              "      filter: drop-shadow(0px 1px 2px rgba(0, 0, 0, 0.3));\n",
              "      fill: #FFFFFF;\n",
              "    }\n",
              "  </style>\n",
              "\n",
              "      <script>\n",
              "        const buttonEl =\n",
              "          document.querySelector('#df-e6239ee0-d988-4c79-8095-51567c9df2d7 button.colab-df-convert');\n",
              "        buttonEl.style.display =\n",
              "          google.colab.kernel.accessAllowed ? 'block' : 'none';\n",
              "\n",
              "        async function convertToInteractive(key) {\n",
              "          const element = document.querySelector('#df-e6239ee0-d988-4c79-8095-51567c9df2d7');\n",
              "          const dataTable =\n",
              "            await google.colab.kernel.invokeFunction('convertToInteractive',\n",
              "                                                     [key], {});\n",
              "          if (!dataTable) return;\n",
              "\n",
              "          const docLinkHtml = 'Like what you see? Visit the ' +\n",
              "            '<a target=\"_blank\" href=https://colab.research.google.com/notebooks/data_table.ipynb>data table notebook</a>'\n",
              "            + ' to learn more about interactive tables.';\n",
              "          element.innerHTML = '';\n",
              "          dataTable['output_type'] = 'display_data';\n",
              "          await google.colab.output.renderOutput(dataTable, element);\n",
              "          const docLink = document.createElement('div');\n",
              "          docLink.innerHTML = docLinkHtml;\n",
              "          element.appendChild(docLink);\n",
              "        }\n",
              "      </script>\n",
              "    </div>\n",
              "  </div>\n",
              "  "
            ]
          },
          "metadata": {},
          "execution_count": 15
        }
      ]
    },
    {
      "cell_type": "code",
      "source": [
        "loadings = pd.DataFrame(pca.components_.T, columns=['Comp1', 'Comp2', 'Comp3', 'Comp4'], index=df.columns[1:])\n",
        "\n",
        "print(loadings.shape)\n",
        "loadings"
      ],
      "metadata": {
        "colab": {
          "base_uri": "https://localhost:8080/",
          "height": 413
        },
        "id": "EW_dqqflIbQE",
        "outputId": "5607e4a3-a49b-430c-beb2-27c74378a35a"
      },
      "execution_count": null,
      "outputs": [
        {
          "output_type": "stream",
          "name": "stdout",
          "text": [
            "(11, 4)\n"
          ]
        },
        {
          "output_type": "execute_result",
          "data": {
            "text/plain": [
              "         Comp1     Comp2     Comp3     Comp4\n",
              "mpg   0.362531  0.016124 -0.225744 -0.022540\n",
              "cyl  -0.373916  0.043744 -0.175311 -0.002592\n",
              "disp -0.368185 -0.049324 -0.061484  0.256608\n",
              "hp   -0.330057  0.248784  0.140015 -0.067676\n",
              "drat  0.294151  0.274694  0.161189  0.854829\n",
              "wt   -0.346103 -0.143038  0.341819  0.245899\n",
              "qsec  0.200456 -0.463375  0.403169  0.068077\n",
              "vs    0.306511 -0.231647  0.428815 -0.214849\n",
              "am    0.234943  0.429418 -0.205767 -0.030463\n",
              "gear  0.206916  0.462349  0.289780 -0.264691\n",
              "carb -0.214018  0.413571  0.528545 -0.126789"
            ],
            "text/html": [
              "\n",
              "  <div id=\"df-c426ae66-4e09-49cf-8021-8492729108ab\">\n",
              "    <div class=\"colab-df-container\">\n",
              "      <div>\n",
              "<style scoped>\n",
              "    .dataframe tbody tr th:only-of-type {\n",
              "        vertical-align: middle;\n",
              "    }\n",
              "\n",
              "    .dataframe tbody tr th {\n",
              "        vertical-align: top;\n",
              "    }\n",
              "\n",
              "    .dataframe thead th {\n",
              "        text-align: right;\n",
              "    }\n",
              "</style>\n",
              "<table border=\"1\" class=\"dataframe\">\n",
              "  <thead>\n",
              "    <tr style=\"text-align: right;\">\n",
              "      <th></th>\n",
              "      <th>Comp1</th>\n",
              "      <th>Comp2</th>\n",
              "      <th>Comp3</th>\n",
              "      <th>Comp4</th>\n",
              "    </tr>\n",
              "  </thead>\n",
              "  <tbody>\n",
              "    <tr>\n",
              "      <th>mpg</th>\n",
              "      <td>0.362531</td>\n",
              "      <td>0.016124</td>\n",
              "      <td>-0.225744</td>\n",
              "      <td>-0.022540</td>\n",
              "    </tr>\n",
              "    <tr>\n",
              "      <th>cyl</th>\n",
              "      <td>-0.373916</td>\n",
              "      <td>0.043744</td>\n",
              "      <td>-0.175311</td>\n",
              "      <td>-0.002592</td>\n",
              "    </tr>\n",
              "    <tr>\n",
              "      <th>disp</th>\n",
              "      <td>-0.368185</td>\n",
              "      <td>-0.049324</td>\n",
              "      <td>-0.061484</td>\n",
              "      <td>0.256608</td>\n",
              "    </tr>\n",
              "    <tr>\n",
              "      <th>hp</th>\n",
              "      <td>-0.330057</td>\n",
              "      <td>0.248784</td>\n",
              "      <td>0.140015</td>\n",
              "      <td>-0.067676</td>\n",
              "    </tr>\n",
              "    <tr>\n",
              "      <th>drat</th>\n",
              "      <td>0.294151</td>\n",
              "      <td>0.274694</td>\n",
              "      <td>0.161189</td>\n",
              "      <td>0.854829</td>\n",
              "    </tr>\n",
              "    <tr>\n",
              "      <th>wt</th>\n",
              "      <td>-0.346103</td>\n",
              "      <td>-0.143038</td>\n",
              "      <td>0.341819</td>\n",
              "      <td>0.245899</td>\n",
              "    </tr>\n",
              "    <tr>\n",
              "      <th>qsec</th>\n",
              "      <td>0.200456</td>\n",
              "      <td>-0.463375</td>\n",
              "      <td>0.403169</td>\n",
              "      <td>0.068077</td>\n",
              "    </tr>\n",
              "    <tr>\n",
              "      <th>vs</th>\n",
              "      <td>0.306511</td>\n",
              "      <td>-0.231647</td>\n",
              "      <td>0.428815</td>\n",
              "      <td>-0.214849</td>\n",
              "    </tr>\n",
              "    <tr>\n",
              "      <th>am</th>\n",
              "      <td>0.234943</td>\n",
              "      <td>0.429418</td>\n",
              "      <td>-0.205767</td>\n",
              "      <td>-0.030463</td>\n",
              "    </tr>\n",
              "    <tr>\n",
              "      <th>gear</th>\n",
              "      <td>0.206916</td>\n",
              "      <td>0.462349</td>\n",
              "      <td>0.289780</td>\n",
              "      <td>-0.264691</td>\n",
              "    </tr>\n",
              "    <tr>\n",
              "      <th>carb</th>\n",
              "      <td>-0.214018</td>\n",
              "      <td>0.413571</td>\n",
              "      <td>0.528545</td>\n",
              "      <td>-0.126789</td>\n",
              "    </tr>\n",
              "  </tbody>\n",
              "</table>\n",
              "</div>\n",
              "      <button class=\"colab-df-convert\" onclick=\"convertToInteractive('df-c426ae66-4e09-49cf-8021-8492729108ab')\"\n",
              "              title=\"Convert this dataframe to an interactive table.\"\n",
              "              style=\"display:none;\">\n",
              "        \n",
              "  <svg xmlns=\"http://www.w3.org/2000/svg\" height=\"24px\"viewBox=\"0 0 24 24\"\n",
              "       width=\"24px\">\n",
              "    <path d=\"M0 0h24v24H0V0z\" fill=\"none\"/>\n",
              "    <path d=\"M18.56 5.44l.94 2.06.94-2.06 2.06-.94-2.06-.94-.94-2.06-.94 2.06-2.06.94zm-11 1L8.5 8.5l.94-2.06 2.06-.94-2.06-.94L8.5 2.5l-.94 2.06-2.06.94zm10 10l.94 2.06.94-2.06 2.06-.94-2.06-.94-.94-2.06-.94 2.06-2.06.94z\"/><path d=\"M17.41 7.96l-1.37-1.37c-.4-.4-.92-.59-1.43-.59-.52 0-1.04.2-1.43.59L10.3 9.45l-7.72 7.72c-.78.78-.78 2.05 0 2.83L4 21.41c.39.39.9.59 1.41.59.51 0 1.02-.2 1.41-.59l7.78-7.78 2.81-2.81c.8-.78.8-2.07 0-2.86zM5.41 20L4 18.59l7.72-7.72 1.47 1.35L5.41 20z\"/>\n",
              "  </svg>\n",
              "      </button>\n",
              "      \n",
              "  <style>\n",
              "    .colab-df-container {\n",
              "      display:flex;\n",
              "      flex-wrap:wrap;\n",
              "      gap: 12px;\n",
              "    }\n",
              "\n",
              "    .colab-df-convert {\n",
              "      background-color: #E8F0FE;\n",
              "      border: none;\n",
              "      border-radius: 50%;\n",
              "      cursor: pointer;\n",
              "      display: none;\n",
              "      fill: #1967D2;\n",
              "      height: 32px;\n",
              "      padding: 0 0 0 0;\n",
              "      width: 32px;\n",
              "    }\n",
              "\n",
              "    .colab-df-convert:hover {\n",
              "      background-color: #E2EBFA;\n",
              "      box-shadow: 0px 1px 2px rgba(60, 64, 67, 0.3), 0px 1px 3px 1px rgba(60, 64, 67, 0.15);\n",
              "      fill: #174EA6;\n",
              "    }\n",
              "\n",
              "    [theme=dark] .colab-df-convert {\n",
              "      background-color: #3B4455;\n",
              "      fill: #D2E3FC;\n",
              "    }\n",
              "\n",
              "    [theme=dark] .colab-df-convert:hover {\n",
              "      background-color: #434B5C;\n",
              "      box-shadow: 0px 1px 3px 1px rgba(0, 0, 0, 0.15);\n",
              "      filter: drop-shadow(0px 1px 2px rgba(0, 0, 0, 0.3));\n",
              "      fill: #FFFFFF;\n",
              "    }\n",
              "  </style>\n",
              "\n",
              "      <script>\n",
              "        const buttonEl =\n",
              "          document.querySelector('#df-c426ae66-4e09-49cf-8021-8492729108ab button.colab-df-convert');\n",
              "        buttonEl.style.display =\n",
              "          google.colab.kernel.accessAllowed ? 'block' : 'none';\n",
              "\n",
              "        async function convertToInteractive(key) {\n",
              "          const element = document.querySelector('#df-c426ae66-4e09-49cf-8021-8492729108ab');\n",
              "          const dataTable =\n",
              "            await google.colab.kernel.invokeFunction('convertToInteractive',\n",
              "                                                     [key], {});\n",
              "          if (!dataTable) return;\n",
              "\n",
              "          const docLinkHtml = 'Like what you see? Visit the ' +\n",
              "            '<a target=\"_blank\" href=https://colab.research.google.com/notebooks/data_table.ipynb>data table notebook</a>'\n",
              "            + ' to learn more about interactive tables.';\n",
              "          element.innerHTML = '';\n",
              "          dataTable['output_type'] = 'display_data';\n",
              "          await google.colab.output.renderOutput(dataTable, element);\n",
              "          const docLink = document.createElement('div');\n",
              "          docLink.innerHTML = docLinkHtml;\n",
              "          element.appendChild(docLink);\n",
              "        }\n",
              "      </script>\n",
              "    </div>\n",
              "  </div>\n",
              "  "
            ]
          },
          "metadata": {},
          "execution_count": 16
        }
      ]
    },
    {
      "cell_type": "code",
      "source": [
        "# 표준편차\n",
        "ax = pd.DataFrame(pca_df.std()).T\n",
        "ax"
      ],
      "metadata": {
        "colab": {
          "base_uri": "https://localhost:8080/",
          "height": 81
        },
        "id": "lg4woFqNJez_",
        "outputId": "d4f7a66a-8c99-42f7-e89e-1b8757ebefdc"
      },
      "execution_count": null,
      "outputs": [
        {
          "output_type": "execute_result",
          "data": {
            "text/plain": [
              "      Comp1     Comp2    Comp3     Comp4\n",
              "0  2.611814  1.654076  0.80463  0.527536"
            ],
            "text/html": [
              "\n",
              "  <div id=\"df-2bbcf983-e1bf-4b16-925e-7023b6bcb3ed\">\n",
              "    <div class=\"colab-df-container\">\n",
              "      <div>\n",
              "<style scoped>\n",
              "    .dataframe tbody tr th:only-of-type {\n",
              "        vertical-align: middle;\n",
              "    }\n",
              "\n",
              "    .dataframe tbody tr th {\n",
              "        vertical-align: top;\n",
              "    }\n",
              "\n",
              "    .dataframe thead th {\n",
              "        text-align: right;\n",
              "    }\n",
              "</style>\n",
              "<table border=\"1\" class=\"dataframe\">\n",
              "  <thead>\n",
              "    <tr style=\"text-align: right;\">\n",
              "      <th></th>\n",
              "      <th>Comp1</th>\n",
              "      <th>Comp2</th>\n",
              "      <th>Comp3</th>\n",
              "      <th>Comp4</th>\n",
              "    </tr>\n",
              "  </thead>\n",
              "  <tbody>\n",
              "    <tr>\n",
              "      <th>0</th>\n",
              "      <td>2.611814</td>\n",
              "      <td>1.654076</td>\n",
              "      <td>0.80463</td>\n",
              "      <td>0.527536</td>\n",
              "    </tr>\n",
              "  </tbody>\n",
              "</table>\n",
              "</div>\n",
              "      <button class=\"colab-df-convert\" onclick=\"convertToInteractive('df-2bbcf983-e1bf-4b16-925e-7023b6bcb3ed')\"\n",
              "              title=\"Convert this dataframe to an interactive table.\"\n",
              "              style=\"display:none;\">\n",
              "        \n",
              "  <svg xmlns=\"http://www.w3.org/2000/svg\" height=\"24px\"viewBox=\"0 0 24 24\"\n",
              "       width=\"24px\">\n",
              "    <path d=\"M0 0h24v24H0V0z\" fill=\"none\"/>\n",
              "    <path d=\"M18.56 5.44l.94 2.06.94-2.06 2.06-.94-2.06-.94-.94-2.06-.94 2.06-2.06.94zm-11 1L8.5 8.5l.94-2.06 2.06-.94-2.06-.94L8.5 2.5l-.94 2.06-2.06.94zm10 10l.94 2.06.94-2.06 2.06-.94-2.06-.94-.94-2.06-.94 2.06-2.06.94z\"/><path d=\"M17.41 7.96l-1.37-1.37c-.4-.4-.92-.59-1.43-.59-.52 0-1.04.2-1.43.59L10.3 9.45l-7.72 7.72c-.78.78-.78 2.05 0 2.83L4 21.41c.39.39.9.59 1.41.59.51 0 1.02-.2 1.41-.59l7.78-7.78 2.81-2.81c.8-.78.8-2.07 0-2.86zM5.41 20L4 18.59l7.72-7.72 1.47 1.35L5.41 20z\"/>\n",
              "  </svg>\n",
              "      </button>\n",
              "      \n",
              "  <style>\n",
              "    .colab-df-container {\n",
              "      display:flex;\n",
              "      flex-wrap:wrap;\n",
              "      gap: 12px;\n",
              "    }\n",
              "\n",
              "    .colab-df-convert {\n",
              "      background-color: #E8F0FE;\n",
              "      border: none;\n",
              "      border-radius: 50%;\n",
              "      cursor: pointer;\n",
              "      display: none;\n",
              "      fill: #1967D2;\n",
              "      height: 32px;\n",
              "      padding: 0 0 0 0;\n",
              "      width: 32px;\n",
              "    }\n",
              "\n",
              "    .colab-df-convert:hover {\n",
              "      background-color: #E2EBFA;\n",
              "      box-shadow: 0px 1px 2px rgba(60, 64, 67, 0.3), 0px 1px 3px 1px rgba(60, 64, 67, 0.15);\n",
              "      fill: #174EA6;\n",
              "    }\n",
              "\n",
              "    [theme=dark] .colab-df-convert {\n",
              "      background-color: #3B4455;\n",
              "      fill: #D2E3FC;\n",
              "    }\n",
              "\n",
              "    [theme=dark] .colab-df-convert:hover {\n",
              "      background-color: #434B5C;\n",
              "      box-shadow: 0px 1px 3px 1px rgba(0, 0, 0, 0.15);\n",
              "      filter: drop-shadow(0px 1px 2px rgba(0, 0, 0, 0.3));\n",
              "      fill: #FFFFFF;\n",
              "    }\n",
              "  </style>\n",
              "\n",
              "      <script>\n",
              "        const buttonEl =\n",
              "          document.querySelector('#df-2bbcf983-e1bf-4b16-925e-7023b6bcb3ed button.colab-df-convert');\n",
              "        buttonEl.style.display =\n",
              "          google.colab.kernel.accessAllowed ? 'block' : 'none';\n",
              "\n",
              "        async function convertToInteractive(key) {\n",
              "          const element = document.querySelector('#df-2bbcf983-e1bf-4b16-925e-7023b6bcb3ed');\n",
              "          const dataTable =\n",
              "            await google.colab.kernel.invokeFunction('convertToInteractive',\n",
              "                                                     [key], {});\n",
              "          if (!dataTable) return;\n",
              "\n",
              "          const docLinkHtml = 'Like what you see? Visit the ' +\n",
              "            '<a target=\"_blank\" href=https://colab.research.google.com/notebooks/data_table.ipynb>data table notebook</a>'\n",
              "            + ' to learn more about interactive tables.';\n",
              "          element.innerHTML = '';\n",
              "          dataTable['output_type'] = 'display_data';\n",
              "          await google.colab.output.renderOutput(dataTable, element);\n",
              "          const docLink = document.createElement('div');\n",
              "          docLink.innerHTML = docLinkHtml;\n",
              "          element.appendChild(docLink);\n",
              "        }\n",
              "      </script>\n",
              "    </div>\n",
              "  </div>\n",
              "  "
            ]
          },
          "metadata": {},
          "execution_count": 20
        }
      ]
    },
    {
      "cell_type": "code",
      "source": [
        "# 표준변차와 분산의 변동량 concat으로 병합\n",
        "pca_summary = pd.concat([ax, pd.DataFrame(pca.explained_variance_ratio_).set_index(ax.columns).T])\n",
        "pca_summary"
      ],
      "metadata": {
        "colab": {
          "base_uri": "https://localhost:8080/",
          "height": 112
        },
        "id": "EJKF72CEK-Ye",
        "outputId": "321deaf9-7c13-46aa-ef93-f936aa2baee4"
      },
      "execution_count": null,
      "outputs": [
        {
          "output_type": "execute_result",
          "data": {
            "text/plain": [
              "      Comp1     Comp2     Comp3     Comp4\n",
              "0  2.611814  1.654076  0.804630  0.527536\n",
              "0  0.600764  0.240952  0.057018  0.024509"
            ],
            "text/html": [
              "\n",
              "  <div id=\"df-9c40b835-7607-4ddf-8e41-419ea4c0acc7\">\n",
              "    <div class=\"colab-df-container\">\n",
              "      <div>\n",
              "<style scoped>\n",
              "    .dataframe tbody tr th:only-of-type {\n",
              "        vertical-align: middle;\n",
              "    }\n",
              "\n",
              "    .dataframe tbody tr th {\n",
              "        vertical-align: top;\n",
              "    }\n",
              "\n",
              "    .dataframe thead th {\n",
              "        text-align: right;\n",
              "    }\n",
              "</style>\n",
              "<table border=\"1\" class=\"dataframe\">\n",
              "  <thead>\n",
              "    <tr style=\"text-align: right;\">\n",
              "      <th></th>\n",
              "      <th>Comp1</th>\n",
              "      <th>Comp2</th>\n",
              "      <th>Comp3</th>\n",
              "      <th>Comp4</th>\n",
              "    </tr>\n",
              "  </thead>\n",
              "  <tbody>\n",
              "    <tr>\n",
              "      <th>0</th>\n",
              "      <td>2.611814</td>\n",
              "      <td>1.654076</td>\n",
              "      <td>0.804630</td>\n",
              "      <td>0.527536</td>\n",
              "    </tr>\n",
              "    <tr>\n",
              "      <th>0</th>\n",
              "      <td>0.600764</td>\n",
              "      <td>0.240952</td>\n",
              "      <td>0.057018</td>\n",
              "      <td>0.024509</td>\n",
              "    </tr>\n",
              "  </tbody>\n",
              "</table>\n",
              "</div>\n",
              "      <button class=\"colab-df-convert\" onclick=\"convertToInteractive('df-9c40b835-7607-4ddf-8e41-419ea4c0acc7')\"\n",
              "              title=\"Convert this dataframe to an interactive table.\"\n",
              "              style=\"display:none;\">\n",
              "        \n",
              "  <svg xmlns=\"http://www.w3.org/2000/svg\" height=\"24px\"viewBox=\"0 0 24 24\"\n",
              "       width=\"24px\">\n",
              "    <path d=\"M0 0h24v24H0V0z\" fill=\"none\"/>\n",
              "    <path d=\"M18.56 5.44l.94 2.06.94-2.06 2.06-.94-2.06-.94-.94-2.06-.94 2.06-2.06.94zm-11 1L8.5 8.5l.94-2.06 2.06-.94-2.06-.94L8.5 2.5l-.94 2.06-2.06.94zm10 10l.94 2.06.94-2.06 2.06-.94-2.06-.94-.94-2.06-.94 2.06-2.06.94z\"/><path d=\"M17.41 7.96l-1.37-1.37c-.4-.4-.92-.59-1.43-.59-.52 0-1.04.2-1.43.59L10.3 9.45l-7.72 7.72c-.78.78-.78 2.05 0 2.83L4 21.41c.39.39.9.59 1.41.59.51 0 1.02-.2 1.41-.59l7.78-7.78 2.81-2.81c.8-.78.8-2.07 0-2.86zM5.41 20L4 18.59l7.72-7.72 1.47 1.35L5.41 20z\"/>\n",
              "  </svg>\n",
              "      </button>\n",
              "      \n",
              "  <style>\n",
              "    .colab-df-container {\n",
              "      display:flex;\n",
              "      flex-wrap:wrap;\n",
              "      gap: 12px;\n",
              "    }\n",
              "\n",
              "    .colab-df-convert {\n",
              "      background-color: #E8F0FE;\n",
              "      border: none;\n",
              "      border-radius: 50%;\n",
              "      cursor: pointer;\n",
              "      display: none;\n",
              "      fill: #1967D2;\n",
              "      height: 32px;\n",
              "      padding: 0 0 0 0;\n",
              "      width: 32px;\n",
              "    }\n",
              "\n",
              "    .colab-df-convert:hover {\n",
              "      background-color: #E2EBFA;\n",
              "      box-shadow: 0px 1px 2px rgba(60, 64, 67, 0.3), 0px 1px 3px 1px rgba(60, 64, 67, 0.15);\n",
              "      fill: #174EA6;\n",
              "    }\n",
              "\n",
              "    [theme=dark] .colab-df-convert {\n",
              "      background-color: #3B4455;\n",
              "      fill: #D2E3FC;\n",
              "    }\n",
              "\n",
              "    [theme=dark] .colab-df-convert:hover {\n",
              "      background-color: #434B5C;\n",
              "      box-shadow: 0px 1px 3px 1px rgba(0, 0, 0, 0.15);\n",
              "      filter: drop-shadow(0px 1px 2px rgba(0, 0, 0, 0.3));\n",
              "      fill: #FFFFFF;\n",
              "    }\n",
              "  </style>\n",
              "\n",
              "      <script>\n",
              "        const buttonEl =\n",
              "          document.querySelector('#df-9c40b835-7607-4ddf-8e41-419ea4c0acc7 button.colab-df-convert');\n",
              "        buttonEl.style.display =\n",
              "          google.colab.kernel.accessAllowed ? 'block' : 'none';\n",
              "\n",
              "        async function convertToInteractive(key) {\n",
              "          const element = document.querySelector('#df-9c40b835-7607-4ddf-8e41-419ea4c0acc7');\n",
              "          const dataTable =\n",
              "            await google.colab.kernel.invokeFunction('convertToInteractive',\n",
              "                                                     [key], {});\n",
              "          if (!dataTable) return;\n",
              "\n",
              "          const docLinkHtml = 'Like what you see? Visit the ' +\n",
              "            '<a target=\"_blank\" href=https://colab.research.google.com/notebooks/data_table.ipynb>data table notebook</a>'\n",
              "            + ' to learn more about interactive tables.';\n",
              "          element.innerHTML = '';\n",
              "          dataTable['output_type'] = 'display_data';\n",
              "          await google.colab.output.renderOutput(dataTable, element);\n",
              "          const docLink = document.createElement('div');\n",
              "          docLink.innerHTML = docLinkHtml;\n",
              "          element.appendChild(docLink);\n",
              "        }\n",
              "      </script>\n",
              "    </div>\n",
              "  </div>\n",
              "  "
            ]
          },
          "metadata": {},
          "execution_count": 21
        }
      ]
    },
    {
      "cell_type": "code",
      "source": [
        "# 반복문을 이용하여 누적합 계산하기\n",
        "proportion = pca.explained_variance_ratio_\n",
        "s = 0\n",
        "result = []\n",
        "for i in range(len(proportion)) :\n",
        "    s += proportion[i]\n",
        "    result.append(np.round(s, 4))\n",
        "\n",
        "result"
      ],
      "metadata": {
        "id": "mq8RWSH3LQKy",
        "colab": {
          "base_uri": "https://localhost:8080/"
        },
        "outputId": "b229d64c-bd71-40e2-f9ce-165d3cd34420"
      },
      "execution_count": null,
      "outputs": [
        {
          "output_type": "execute_result",
          "data": {
            "text/plain": [
              "[0.6008, 0.8417, 0.8987, 0.9232]"
            ]
          },
          "metadata": {},
          "execution_count": 23
        }
      ]
    },
    {
      "cell_type": "code",
      "source": [
        "# 위처럼 반복문을 사용하지 않아도 cumsum 함수로 같은 결과를 나타낼 수 있다.\n",
        "# 누적 기여율 -> 85% 이상이면 주성분의 수로 결정한다.\n",
        "result = pca.explained_variance_ratio_.cumsum().round(4)\n",
        "result"
      ],
      "metadata": {
        "colab": {
          "base_uri": "https://localhost:8080/"
        },
        "id": "-k-DwF1hOWzA",
        "outputId": "09d08136-0811-4030-9c58-0ffbac44f63b"
      },
      "execution_count": null,
      "outputs": [
        {
          "output_type": "execute_result",
          "data": {
            "text/plain": [
              "array([0.6008, 0.8417, 0.8987, 0.9232])"
            ]
          },
          "metadata": {},
          "execution_count": 24
        }
      ]
    },
    {
      "cell_type": "code",
      "source": [
        "# 표준편차, 분산을 계산해놓은 pca_summary와 누적 기여율을 계산한 result 값을 병합한다.\n",
        "# shape가 (4, 1)인 result의 index를 Comp1, ..., Comp4로 변경해준 후 전치(T) 시켜서 pca_summary와 같은 형태로 만들어주기 위함이다.\n",
        "pd.DataFrame(result).set_index(pca_summary.columns).T"
      ],
      "metadata": {
        "colab": {
          "base_uri": "https://localhost:8080/",
          "height": 81
        },
        "id": "EvrV41UcNLKX",
        "outputId": "ae7f2f46-ba98-4384-b796-e8a40d6f0a5d"
      },
      "execution_count": null,
      "outputs": [
        {
          "output_type": "execute_result",
          "data": {
            "text/plain": [
              "    Comp1   Comp2   Comp3   Comp4\n",
              "0  0.6008  0.8417  0.8987  0.9232"
            ],
            "text/html": [
              "\n",
              "  <div id=\"df-1c2048af-cd02-4b99-a40c-e1350cab42e0\">\n",
              "    <div class=\"colab-df-container\">\n",
              "      <div>\n",
              "<style scoped>\n",
              "    .dataframe tbody tr th:only-of-type {\n",
              "        vertical-align: middle;\n",
              "    }\n",
              "\n",
              "    .dataframe tbody tr th {\n",
              "        vertical-align: top;\n",
              "    }\n",
              "\n",
              "    .dataframe thead th {\n",
              "        text-align: right;\n",
              "    }\n",
              "</style>\n",
              "<table border=\"1\" class=\"dataframe\">\n",
              "  <thead>\n",
              "    <tr style=\"text-align: right;\">\n",
              "      <th></th>\n",
              "      <th>Comp1</th>\n",
              "      <th>Comp2</th>\n",
              "      <th>Comp3</th>\n",
              "      <th>Comp4</th>\n",
              "    </tr>\n",
              "  </thead>\n",
              "  <tbody>\n",
              "    <tr>\n",
              "      <th>0</th>\n",
              "      <td>0.6008</td>\n",
              "      <td>0.8417</td>\n",
              "      <td>0.8987</td>\n",
              "      <td>0.9232</td>\n",
              "    </tr>\n",
              "  </tbody>\n",
              "</table>\n",
              "</div>\n",
              "      <button class=\"colab-df-convert\" onclick=\"convertToInteractive('df-1c2048af-cd02-4b99-a40c-e1350cab42e0')\"\n",
              "              title=\"Convert this dataframe to an interactive table.\"\n",
              "              style=\"display:none;\">\n",
              "        \n",
              "  <svg xmlns=\"http://www.w3.org/2000/svg\" height=\"24px\"viewBox=\"0 0 24 24\"\n",
              "       width=\"24px\">\n",
              "    <path d=\"M0 0h24v24H0V0z\" fill=\"none\"/>\n",
              "    <path d=\"M18.56 5.44l.94 2.06.94-2.06 2.06-.94-2.06-.94-.94-2.06-.94 2.06-2.06.94zm-11 1L8.5 8.5l.94-2.06 2.06-.94-2.06-.94L8.5 2.5l-.94 2.06-2.06.94zm10 10l.94 2.06.94-2.06 2.06-.94-2.06-.94-.94-2.06-.94 2.06-2.06.94z\"/><path d=\"M17.41 7.96l-1.37-1.37c-.4-.4-.92-.59-1.43-.59-.52 0-1.04.2-1.43.59L10.3 9.45l-7.72 7.72c-.78.78-.78 2.05 0 2.83L4 21.41c.39.39.9.59 1.41.59.51 0 1.02-.2 1.41-.59l7.78-7.78 2.81-2.81c.8-.78.8-2.07 0-2.86zM5.41 20L4 18.59l7.72-7.72 1.47 1.35L5.41 20z\"/>\n",
              "  </svg>\n",
              "      </button>\n",
              "      \n",
              "  <style>\n",
              "    .colab-df-container {\n",
              "      display:flex;\n",
              "      flex-wrap:wrap;\n",
              "      gap: 12px;\n",
              "    }\n",
              "\n",
              "    .colab-df-convert {\n",
              "      background-color: #E8F0FE;\n",
              "      border: none;\n",
              "      border-radius: 50%;\n",
              "      cursor: pointer;\n",
              "      display: none;\n",
              "      fill: #1967D2;\n",
              "      height: 32px;\n",
              "      padding: 0 0 0 0;\n",
              "      width: 32px;\n",
              "    }\n",
              "\n",
              "    .colab-df-convert:hover {\n",
              "      background-color: #E2EBFA;\n",
              "      box-shadow: 0px 1px 2px rgba(60, 64, 67, 0.3), 0px 1px 3px 1px rgba(60, 64, 67, 0.15);\n",
              "      fill: #174EA6;\n",
              "    }\n",
              "\n",
              "    [theme=dark] .colab-df-convert {\n",
              "      background-color: #3B4455;\n",
              "      fill: #D2E3FC;\n",
              "    }\n",
              "\n",
              "    [theme=dark] .colab-df-convert:hover {\n",
              "      background-color: #434B5C;\n",
              "      box-shadow: 0px 1px 3px 1px rgba(0, 0, 0, 0.15);\n",
              "      filter: drop-shadow(0px 1px 2px rgba(0, 0, 0, 0.3));\n",
              "      fill: #FFFFFF;\n",
              "    }\n",
              "  </style>\n",
              "\n",
              "      <script>\n",
              "        const buttonEl =\n",
              "          document.querySelector('#df-1c2048af-cd02-4b99-a40c-e1350cab42e0 button.colab-df-convert');\n",
              "        buttonEl.style.display =\n",
              "          google.colab.kernel.accessAllowed ? 'block' : 'none';\n",
              "\n",
              "        async function convertToInteractive(key) {\n",
              "          const element = document.querySelector('#df-1c2048af-cd02-4b99-a40c-e1350cab42e0');\n",
              "          const dataTable =\n",
              "            await google.colab.kernel.invokeFunction('convertToInteractive',\n",
              "                                                     [key], {});\n",
              "          if (!dataTable) return;\n",
              "\n",
              "          const docLinkHtml = 'Like what you see? Visit the ' +\n",
              "            '<a target=\"_blank\" href=https://colab.research.google.com/notebooks/data_table.ipynb>data table notebook</a>'\n",
              "            + ' to learn more about interactive tables.';\n",
              "          element.innerHTML = '';\n",
              "          dataTable['output_type'] = 'display_data';\n",
              "          await google.colab.output.renderOutput(dataTable, element);\n",
              "          const docLink = document.createElement('div');\n",
              "          docLink.innerHTML = docLinkHtml;\n",
              "          element.appendChild(docLink);\n",
              "        }\n",
              "      </script>\n",
              "    </div>\n",
              "  </div>\n",
              "  "
            ]
          },
          "metadata": {},
          "execution_count": 27
        }
      ]
    },
    {
      "cell_type": "markdown",
      "source": [
        "- 주성분1, 주성분2로 전체 변동의 84%를 설명할 수 있다."
      ],
      "metadata": {
        "id": "7oHIkxaMQbgO"
      }
    },
    {
      "cell_type": "code",
      "source": [
        "pca_summary = pd.concat([pca_summary, pd.DataFrame(result).set_index(pca_summary.columns).T], axis=0)\n",
        "pca_summary.index = ['Standard deviation', 'Propotion of variance', 'Cumulative proportion']\n",
        "pca_summary"
      ],
      "metadata": {
        "colab": {
          "base_uri": "https://localhost:8080/",
          "height": 143
        },
        "id": "L7WDwZBxPC45",
        "outputId": "b8cea7fb-3cc9-49f9-e570-850dd044b5c1"
      },
      "execution_count": null,
      "outputs": [
        {
          "output_type": "execute_result",
          "data": {
            "text/plain": [
              "          Comp1     Comp2     Comp3     Comp4\n",
              "표준편차   2.611814  1.654076  0.804630  0.527536\n",
              "변동량    0.600764  0.240952  0.057018  0.024509\n",
              "누적변동량  0.600800  0.841700  0.898700  0.923200"
            ],
            "text/html": [
              "\n",
              "  <div id=\"df-da1de3be-2212-4b2d-8b07-8dbf5e8a5a2d\">\n",
              "    <div class=\"colab-df-container\">\n",
              "      <div>\n",
              "<style scoped>\n",
              "    .dataframe tbody tr th:only-of-type {\n",
              "        vertical-align: middle;\n",
              "    }\n",
              "\n",
              "    .dataframe tbody tr th {\n",
              "        vertical-align: top;\n",
              "    }\n",
              "\n",
              "    .dataframe thead th {\n",
              "        text-align: right;\n",
              "    }\n",
              "</style>\n",
              "<table border=\"1\" class=\"dataframe\">\n",
              "  <thead>\n",
              "    <tr style=\"text-align: right;\">\n",
              "      <th></th>\n",
              "      <th>Comp1</th>\n",
              "      <th>Comp2</th>\n",
              "      <th>Comp3</th>\n",
              "      <th>Comp4</th>\n",
              "    </tr>\n",
              "  </thead>\n",
              "  <tbody>\n",
              "    <tr>\n",
              "      <th>표준편차</th>\n",
              "      <td>2.611814</td>\n",
              "      <td>1.654076</td>\n",
              "      <td>0.804630</td>\n",
              "      <td>0.527536</td>\n",
              "    </tr>\n",
              "    <tr>\n",
              "      <th>변동량</th>\n",
              "      <td>0.600764</td>\n",
              "      <td>0.240952</td>\n",
              "      <td>0.057018</td>\n",
              "      <td>0.024509</td>\n",
              "    </tr>\n",
              "    <tr>\n",
              "      <th>누적변동량</th>\n",
              "      <td>0.600800</td>\n",
              "      <td>0.841700</td>\n",
              "      <td>0.898700</td>\n",
              "      <td>0.923200</td>\n",
              "    </tr>\n",
              "  </tbody>\n",
              "</table>\n",
              "</div>\n",
              "      <button class=\"colab-df-convert\" onclick=\"convertToInteractive('df-da1de3be-2212-4b2d-8b07-8dbf5e8a5a2d')\"\n",
              "              title=\"Convert this dataframe to an interactive table.\"\n",
              "              style=\"display:none;\">\n",
              "        \n",
              "  <svg xmlns=\"http://www.w3.org/2000/svg\" height=\"24px\"viewBox=\"0 0 24 24\"\n",
              "       width=\"24px\">\n",
              "    <path d=\"M0 0h24v24H0V0z\" fill=\"none\"/>\n",
              "    <path d=\"M18.56 5.44l.94 2.06.94-2.06 2.06-.94-2.06-.94-.94-2.06-.94 2.06-2.06.94zm-11 1L8.5 8.5l.94-2.06 2.06-.94-2.06-.94L8.5 2.5l-.94 2.06-2.06.94zm10 10l.94 2.06.94-2.06 2.06-.94-2.06-.94-.94-2.06-.94 2.06-2.06.94z\"/><path d=\"M17.41 7.96l-1.37-1.37c-.4-.4-.92-.59-1.43-.59-.52 0-1.04.2-1.43.59L10.3 9.45l-7.72 7.72c-.78.78-.78 2.05 0 2.83L4 21.41c.39.39.9.59 1.41.59.51 0 1.02-.2 1.41-.59l7.78-7.78 2.81-2.81c.8-.78.8-2.07 0-2.86zM5.41 20L4 18.59l7.72-7.72 1.47 1.35L5.41 20z\"/>\n",
              "  </svg>\n",
              "      </button>\n",
              "      \n",
              "  <style>\n",
              "    .colab-df-container {\n",
              "      display:flex;\n",
              "      flex-wrap:wrap;\n",
              "      gap: 12px;\n",
              "    }\n",
              "\n",
              "    .colab-df-convert {\n",
              "      background-color: #E8F0FE;\n",
              "      border: none;\n",
              "      border-radius: 50%;\n",
              "      cursor: pointer;\n",
              "      display: none;\n",
              "      fill: #1967D2;\n",
              "      height: 32px;\n",
              "      padding: 0 0 0 0;\n",
              "      width: 32px;\n",
              "    }\n",
              "\n",
              "    .colab-df-convert:hover {\n",
              "      background-color: #E2EBFA;\n",
              "      box-shadow: 0px 1px 2px rgba(60, 64, 67, 0.3), 0px 1px 3px 1px rgba(60, 64, 67, 0.15);\n",
              "      fill: #174EA6;\n",
              "    }\n",
              "\n",
              "    [theme=dark] .colab-df-convert {\n",
              "      background-color: #3B4455;\n",
              "      fill: #D2E3FC;\n",
              "    }\n",
              "\n",
              "    [theme=dark] .colab-df-convert:hover {\n",
              "      background-color: #434B5C;\n",
              "      box-shadow: 0px 1px 3px 1px rgba(0, 0, 0, 0.15);\n",
              "      filter: drop-shadow(0px 1px 2px rgba(0, 0, 0, 0.3));\n",
              "      fill: #FFFFFF;\n",
              "    }\n",
              "  </style>\n",
              "\n",
              "      <script>\n",
              "        const buttonEl =\n",
              "          document.querySelector('#df-da1de3be-2212-4b2d-8b07-8dbf5e8a5a2d button.colab-df-convert');\n",
              "        buttonEl.style.display =\n",
              "          google.colab.kernel.accessAllowed ? 'block' : 'none';\n",
              "\n",
              "        async function convertToInteractive(key) {\n",
              "          const element = document.querySelector('#df-da1de3be-2212-4b2d-8b07-8dbf5e8a5a2d');\n",
              "          const dataTable =\n",
              "            await google.colab.kernel.invokeFunction('convertToInteractive',\n",
              "                                                     [key], {});\n",
              "          if (!dataTable) return;\n",
              "\n",
              "          const docLinkHtml = 'Like what you see? Visit the ' +\n",
              "            '<a target=\"_blank\" href=https://colab.research.google.com/notebooks/data_table.ipynb>data table notebook</a>'\n",
              "            + ' to learn more about interactive tables.';\n",
              "          element.innerHTML = '';\n",
              "          dataTable['output_type'] = 'display_data';\n",
              "          await google.colab.output.renderOutput(dataTable, element);\n",
              "          const docLink = document.createElement('div');\n",
              "          docLink.innerHTML = docLinkHtml;\n",
              "          element.appendChild(docLink);\n",
              "        }\n",
              "      </script>\n",
              "    </div>\n",
              "  </div>\n",
              "  "
            ]
          },
          "metadata": {},
          "execution_count": 28
        }
      ]
    },
    {
      "cell_type": "markdown",
      "source": [
        "- Scree Plot을 활용하여 고유값이 수평을 유지하기 전단계로 주성분의 수를 결정한다."
      ],
      "metadata": {
        "id": "uf1JymwrPxFj"
      }
    },
    {
      "cell_type": "code",
      "source": [
        "# 분산\n",
        "pca.explained_variance_"
      ],
      "metadata": {
        "id": "aNWHJzkKQCa2",
        "colab": {
          "base_uri": "https://localhost:8080/"
        },
        "outputId": "a19c7633-7071-475c-84a6-ac5441d3584e"
      },
      "execution_count": null,
      "outputs": [
        {
          "output_type": "execute_result",
          "data": {
            "text/plain": [
              "array([6.82157445, 2.73596686, 0.64742944, 0.27829413])"
            ]
          },
          "metadata": {},
          "execution_count": 29
        }
      ]
    },
    {
      "cell_type": "code",
      "source": [
        "# 분산의 변동량\n",
        "pca.explained_variance_ratio_"
      ],
      "metadata": {
        "colab": {
          "base_uri": "https://localhost:8080/"
        },
        "id": "1I4095MEQECz",
        "outputId": "4b7d9902-7b84-46f1-bcd5-3ad5f6ff7e14"
      },
      "execution_count": null,
      "outputs": [
        {
          "output_type": "execute_result",
          "data": {
            "text/plain": [
              "array([0.60076366, 0.24095163, 0.05701793, 0.02450886])"
            ]
          },
          "metadata": {},
          "execution_count": 30
        }
      ]
    },
    {
      "cell_type": "code",
      "source": [
        "per_var = np.round(pca.explained_variance_, 1)\n",
        "per_var"
      ],
      "metadata": {
        "colab": {
          "base_uri": "https://localhost:8080/"
        },
        "id": "eRah8ZBJQGwG",
        "outputId": "c344e7ea-36ab-4c2b-8d2d-899297744295"
      },
      "execution_count": null,
      "outputs": [
        {
          "output_type": "execute_result",
          "data": {
            "text/plain": [
              "array([6.8, 2.7, 0.6, 0.3])"
            ]
          },
          "metadata": {},
          "execution_count": 33
        }
      ]
    },
    {
      "cell_type": "code",
      "source": [
        "# 주성분1, ..., 주성분4\n",
        "labels = ['주성분' + str(i) for i in range(1, len(per_var) + 1)]"
      ],
      "metadata": {
        "id": "22ZbyojlQWuE"
      },
      "execution_count": null,
      "outputs": []
    },
    {
      "cell_type": "markdown",
      "source": [
        "- 3에서 하나 전 단계인 2를 선택한다.\n",
        "- 즉 주성분1, 2만으로도 충분히 데이터의 분산을 설명 가능하다."
      ],
      "metadata": {
        "id": "JEH4AzZ4SY4H"
      }
    },
    {
      "cell_type": "code",
      "source": [
        "plt.figure(figsize=(8, 6))\n",
        "plt.title('Scree Plot', fontsize=15)\n",
        "plt.plot(range(1, 5), per_var,\n",
        "         marker='o', markerfacecolor='w', markersize=6, markeredgecolor='k', color='r')\n",
        "plt.show()"
      ],
      "metadata": {
        "colab": {
          "base_uri": "https://localhost:8080/",
          "height": 392
        },
        "id": "c3XJoopuQ71W",
        "outputId": "09fa361e-f894-4748-979e-587557bd3051"
      },
      "execution_count": null,
      "outputs": [
        {
          "output_type": "display_data",
          "data": {
            "text/plain": [
              "<Figure size 576x432 with 1 Axes>"
            ],
            "image/png": "[encoded data removed]"
          },
          "metadata": {
            "needs_background": "light"
          }
        }
      ]
    },
    {
      "cell_type": "code",
      "source": [
        "def biplot(score,coeff, labels=None, index = None):\n",
        "    xs = score[:,0]\n",
        "    ys = score[:,1]\n",
        "    n = coeff.shape[0]\n",
        "    scalex = 1.0/(xs.max() - xs.min())\n",
        "    scaley = 1.0/(ys.max() - ys.min())\n",
        "    plt.figure(figsize = (12, 9))\n",
        "    plt.scatter(xs * scalex,ys * scaley,s=5)\n",
        "    for i in range(n):\n",
        "        plt.arrow(0, 0, coeff[i,0], coeff[i,1],color = 'r',alpha = 0.5,head_width = 0.01)\n",
        "        if labels is None:\n",
        "            plt.text(coeff[i,0]* 1.15, coeff[i,1] * 1.15, \"Var\"+str(i+1), color = 'green', ha = 'center', va = 'center')\n",
        "        else:\n",
        "            plt.text(coeff[i,0]* 1.15, coeff[i,1] * 1.15, labels[i], color = 'g', ha = 'center', va = 'center')\n",
        "    for i in range(score.shape[0]):\n",
        "        if index is None:\n",
        "            plt.text((xs * scalex)[i] , (ys * scaley)[i], str(i))\n",
        "        else:\n",
        "            plt.text((xs * scalex)[i] , (ys * scaley)[i], index[i])\n",
        "    plt.title(\"PCA - Biplot\",fontsize = 15)\n",
        "    plt.xlabel(\"Comp.{}\".format(1))\n",
        "    plt.ylabel(\"Comp.{}\".format(2))\n",
        "    plt.grid()"
      ],
      "metadata": {
        "id": "aMCndrzNSOIb"
      },
      "execution_count": null,
      "outputs": []
    },
    {
      "cell_type": "markdown",
      "source": [
        "- 화살표 길이가 길수록 원변수의 분산을 잘 성명하는 변수라고 할 수 있다.\n",
        "- 화살표는 원변수와 PC의 상관계수를 뜻하며, PC와 평행할수록 해당 PC에 큰 영향을 미친다."
      ],
      "metadata": {
        "id": "pEGLMdC4TFBn"
      }
    },
    {
      "cell_type": "code",
      "source": [
        "biplot(comp, np.transpose(pca.components_), labels = df.columns[1:], index = df.iloc[:,0])"
      ],
      "metadata": {
        "colab": {
          "base_uri": "https://localhost:8080/",
          "height": 483
        },
        "id": "UCVRBI4MS-KT",
        "outputId": "bd9b684a-7c41-46f7-90d7-945978173f05"
      },
      "execution_count": null,
      "outputs": [
        {
          "output_type": "display_data",
          "data": {
            "text/plain": [
              "<Figure size 864x648 with 1 Axes>"
            ],
            "image/png": "[encoded data removed]"
          },
          "metadata": {
            "needs_background": "light"
          }
        }
      ]
    },
    {
      "cell_type": "markdown",
      "source": [
        "### iris data"
      ],
      "metadata": {
        "id": "7tlK345HT_mI"
      }
    },
    {
      "cell_type": "code",
      "source": [
        "iris = load_iris()\n",
        "columns = ['sepal_length','sepal_width','petal_length','petal_width']\n",
        "\n",
        "df = pd.DataFrame(iris.data, columns=columns)\n",
        "df['target'] = iris.target"
      ],
      "metadata": {
        "id": "iW_o2RDhT_CH"
      },
      "execution_count": 2,
      "outputs": []
    },
    {
      "cell_type": "code",
      "source": [
        "print(df.shape)\n",
        "df.head()"
      ],
      "metadata": {
        "colab": {
          "base_uri": "https://localhost:8080/",
          "height": 225
        },
        "id": "B6lOxcIWTyFT",
        "outputId": "d0f84297-fa64-49f5-efe7-e5a3b9644a41"
      },
      "execution_count": 3,
      "outputs": [
        {
          "output_type": "stream",
          "name": "stdout",
          "text": [
            "(150, 5)\n"
          ]
        },
        {
          "output_type": "execute_result",
          "data": {
            "text/plain": [
              "   sepal_length  sepal_width  petal_length  petal_width  target\n",
              "0           5.1          3.5           1.4          0.2       0\n",
              "1           4.9          3.0           1.4          0.2       0\n",
              "2           4.7          3.2           1.3          0.2       0\n",
              "3           4.6          3.1           1.5          0.2       0\n",
              "4           5.0          3.6           1.4          0.2       0"
            ],
            "text/html": [
              "\n",
              "  <div id=\"df-62c03af2-2c85-467a-b4c4-d8ef66b8899b\">\n",
              "    <div class=\"colab-df-container\">\n",
              "      <div>\n",
              "<style scoped>\n",
              "    .dataframe tbody tr th:only-of-type {\n",
              "        vertical-align: middle;\n",
              "    }\n",
              "\n",
              "    .dataframe tbody tr th {\n",
              "        vertical-align: top;\n",
              "    }\n",
              "\n",
              "    .dataframe thead th {\n",
              "        text-align: right;\n",
              "    }\n",
              "</style>\n",
              "<table border=\"1\" class=\"dataframe\">\n",
              "  <thead>\n",
              "    <tr style=\"text-align: right;\">\n",
              "      <th></th>\n",
              "      <th>sepal_length</th>\n",
              "      <th>sepal_width</th>\n",
              "      <th>petal_length</th>\n",
              "      <th>petal_width</th>\n",
              "      <th>target</th>\n",
              "    </tr>\n",
              "  </thead>\n",
              "  <tbody>\n",
              "    <tr>\n",
              "      <th>0</th>\n",
              "      <td>5.1</td>\n",
              "      <td>3.5</td>\n",
              "      <td>1.4</td>\n",
              "      <td>0.2</td>\n",
              "      <td>0</td>\n",
              "    </tr>\n",
              "    <tr>\n",
              "      <th>1</th>\n",
              "      <td>4.9</td>\n",
              "      <td>3.0</td>\n",
              "      <td>1.4</td>\n",
              "      <td>0.2</td>\n",
              "      <td>0</td>\n",
              "    </tr>\n",
              "    <tr>\n",
              "      <th>2</th>\n",
              "      <td>4.7</td>\n",
              "      <td>3.2</td>\n",
              "      <td>1.3</td>\n",
              "      <td>0.2</td>\n",
              "      <td>0</td>\n",
              "    </tr>\n",
              "    <tr>\n",
              "      <th>3</th>\n",
              "      <td>4.6</td>\n",
              "      <td>3.1</td>\n",
              "      <td>1.5</td>\n",
              "      <td>0.2</td>\n",
              "      <td>0</td>\n",
              "    </tr>\n",
              "    <tr>\n",
              "      <th>4</th>\n",
              "      <td>5.0</td>\n",
              "      <td>3.6</td>\n",
              "      <td>1.4</td>\n",
              "      <td>0.2</td>\n",
              "      <td>0</td>\n",
              "    </tr>\n",
              "  </tbody>\n",
              "</table>\n",
              "</div>\n",
              "      <button class=\"colab-df-convert\" onclick=\"convertToInteractive('df-62c03af2-2c85-467a-b4c4-d8ef66b8899b')\"\n",
              "              title=\"Convert this dataframe to an interactive table.\"\n",
              "              style=\"display:none;\">\n",
              "        \n",
              "  <svg xmlns=\"http://www.w3.org/2000/svg\" height=\"24px\"viewBox=\"0 0 24 24\"\n",
              "       width=\"24px\">\n",
              "    <path d=\"M0 0h24v24H0V0z\" fill=\"none\"/>\n",
              "    <path d=\"M18.56 5.44l.94 2.06.94-2.06 2.06-.94-2.06-.94-.94-2.06-.94 2.06-2.06.94zm-11 1L8.5 8.5l.94-2.06 2.06-.94-2.06-.94L8.5 2.5l-.94 2.06-2.06.94zm10 10l.94 2.06.94-2.06 2.06-.94-2.06-.94-.94-2.06-.94 2.06-2.06.94z\"/><path d=\"M17.41 7.96l-1.37-1.37c-.4-.4-.92-.59-1.43-.59-.52 0-1.04.2-1.43.59L10.3 9.45l-7.72 7.72c-.78.78-.78 2.05 0 2.83L4 21.41c.39.39.9.59 1.41.59.51 0 1.02-.2 1.41-.59l7.78-7.78 2.81-2.81c.8-.78.8-2.07 0-2.86zM5.41 20L4 18.59l7.72-7.72 1.47 1.35L5.41 20z\"/>\n",
              "  </svg>\n",
              "      </button>\n",
              "      \n",
              "  <style>\n",
              "    .colab-df-container {\n",
              "      display:flex;\n",
              "      flex-wrap:wrap;\n",
              "      gap: 12px;\n",
              "    }\n",
              "\n",
              "    .colab-df-convert {\n",
              "      background-color: #E8F0FE;\n",
              "      border: none;\n",
              "      border-radius: 50%;\n",
              "      cursor: pointer;\n",
              "      display: none;\n",
              "      fill: #1967D2;\n",
              "      height: 32px;\n",
              "      padding: 0 0 0 0;\n",
              "      width: 32px;\n",
              "    }\n",
              "\n",
              "    .colab-df-convert:hover {\n",
              "      background-color: #E2EBFA;\n",
              "      box-shadow: 0px 1px 2px rgba(60, 64, 67, 0.3), 0px 1px 3px 1px rgba(60, 64, 67, 0.15);\n",
              "      fill: #174EA6;\n",
              "    }\n",
              "\n",
              "    [theme=dark] .colab-df-convert {\n",
              "      background-color: #3B4455;\n",
              "      fill: #D2E3FC;\n",
              "    }\n",
              "\n",
              "    [theme=dark] .colab-df-convert:hover {\n",
              "      background-color: #434B5C;\n",
              "      box-shadow: 0px 1px 3px 1px rgba(0, 0, 0, 0.15);\n",
              "      filter: drop-shadow(0px 1px 2px rgba(0, 0, 0, 0.3));\n",
              "      fill: #FFFFFF;\n",
              "    }\n",
              "  </style>\n",
              "\n",
              "      <script>\n",
              "        const buttonEl =\n",
              "          document.querySelector('#df-62c03af2-2c85-467a-b4c4-d8ef66b8899b button.colab-df-convert');\n",
              "        buttonEl.style.display =\n",
              "          google.colab.kernel.accessAllowed ? 'block' : 'none';\n",
              "\n",
              "        async function convertToInteractive(key) {\n",
              "          const element = document.querySelector('#df-62c03af2-2c85-467a-b4c4-d8ef66b8899b');\n",
              "          const dataTable =\n",
              "            await google.colab.kernel.invokeFunction('convertToInteractive',\n",
              "                                                     [key], {});\n",
              "          if (!dataTable) return;\n",
              "\n",
              "          const docLinkHtml = 'Like what you see? Visit the ' +\n",
              "            '<a target=\"_blank\" href=https://colab.research.google.com/notebooks/data_table.ipynb>data table notebook</a>'\n",
              "            + ' to learn more about interactive tables.';\n",
              "          element.innerHTML = '';\n",
              "          dataTable['output_type'] = 'display_data';\n",
              "          await google.colab.output.renderOutput(dataTable, element);\n",
              "          const docLink = document.createElement('div');\n",
              "          docLink.innerHTML = docLinkHtml;\n",
              "          element.appendChild(docLink);\n",
              "        }\n",
              "      </script>\n",
              "    </div>\n",
              "  </div>\n",
              "  "
            ]
          },
          "metadata": {},
          "execution_count": 3
        }
      ]
    },
    {
      "cell_type": "code",
      "source": [
        "# target 변수의 범주는 0, 1, 2로 총 3개\n",
        "df['target'].unique()"
      ],
      "metadata": {
        "colab": {
          "base_uri": "https://localhost:8080/"
        },
        "id": "LtD-vvBVUwdB",
        "outputId": "6cac02d3-2006-4ace-d5e4-14b0e8f0652b"
      },
      "execution_count": null,
      "outputs": [
        {
          "output_type": "execute_result",
          "data": {
            "text/plain": [
              "array([0, 1, 2])"
            ]
          },
          "metadata": {},
          "execution_count": 19
        }
      ]
    },
    {
      "cell_type": "code",
      "source": [
        "# PCA 수행 전\n",
        "# 차원이 4개인 iris 데이터에서 2개의 피처만을 뽑아 데이터 분포 시각화\n",
        "markers = ['^', 's', 'o']\n",
        "\n",
        "for i, m in enumerate(markers):\n",
        "    x_axis = df[df['target'] == i]['sepal_length']\n",
        "    y_axis = df[df['target'] == i]['sepal_width']\n",
        "    plt.scatter(x_axis, y_axis, marker=m, label=iris.target_names[i])\n",
        "\n",
        "plt.legend()\n",
        "plt.xlabel('Sepel Length')\n",
        "plt.ylabel('Sepal Width')\n",
        "plt.show()"
      ],
      "metadata": {
        "colab": {
          "base_uri": "https://localhost:8080/",
          "height": 282
        },
        "id": "4kdZTObrUU_i",
        "outputId": "99f117da-3722-4fa9-d4cd-a01ebe6fd4d9"
      },
      "execution_count": null,
      "outputs": [
        {
          "output_type": "display_data",
          "data": {
            "text/plain": [
              "<Figure size 432x288 with 1 Axes>"
            ],
            "image/png": "[encoded data removed]"
          },
          "metadata": {
            "needs_background": "light"
          }
        }
      ]
    },
    {
      "cell_type": "code",
      "source": [
        "from sklearn.preprocessing import StandardScaler\n",
        "\n",
        "scaler = StandardScaler()\n",
        "x_scaled = scaler.fit_transform(df.iloc[:, :-1])"
      ],
      "metadata": {
        "id": "BNjRK4hYWDYB"
      },
      "execution_count": 4,
      "outputs": []
    },
    {
      "cell_type": "code",
      "source": [
        "from sklearn.decomposition import PCA\n",
        "\n",
        "pca = PCA()\n",
        "comp = pca.fit_transform(x_scaled)"
      ],
      "metadata": {
        "id": "dxA3vD1VaNrl"
      },
      "execution_count": null,
      "outputs": []
    },
    {
      "cell_type": "code",
      "source": [
        "pca_df = pd.DataFrame(comp, columns=['Comp1', 'Comp2', 'Comp3', 'Comp4'])\n",
        "pca_df['target'] = iris.target\n",
        "pca_df"
      ],
      "metadata": {
        "colab": {
          "base_uri": "https://localhost:8080/",
          "height": 424
        },
        "id": "ql5R5UMOakUn",
        "outputId": "87b8bdb1-e51e-4cce-90e9-7b931c1efce1"
      },
      "execution_count": null,
      "outputs": [
        {
          "output_type": "execute_result",
          "data": {
            "text/plain": [
              "        Comp1     Comp2     Comp3     Comp4  target\n",
              "0   -2.264703  0.480027 -0.127706 -0.024168       0\n",
              "1   -2.080961 -0.674134 -0.234609 -0.103007       0\n",
              "2   -2.364229 -0.341908  0.044201 -0.028377       0\n",
              "3   -2.299384 -0.597395  0.091290  0.065956       0\n",
              "4   -2.389842  0.646835  0.015738  0.035923       0\n",
              "..        ...       ...       ...       ...     ...\n",
              "145  1.870503  0.386966  0.256274 -0.389257       2\n",
              "146  1.564580 -0.896687 -0.026371 -0.220192       2\n",
              "147  1.521170  0.269069  0.180178 -0.119171       2\n",
              "148  1.372788  1.011254  0.933395 -0.026129       2\n",
              "149  0.960656 -0.024332  0.528249  0.163078       2\n",
              "\n",
              "[150 rows x 5 columns]"
            ],
            "text/html": [
              "\n",
              "  <div id=\"df-64ed172c-29c0-4146-9713-94502fb38c92\">\n",
              "    <div class=\"colab-df-container\">\n",
              "      <div>\n",
              "<style scoped>\n",
              "    .dataframe tbody tr th:only-of-type {\n",
              "        vertical-align: middle;\n",
              "    }\n",
              "\n",
              "    .dataframe tbody tr th {\n",
              "        vertical-align: top;\n",
              "    }\n",
              "\n",
              "    .dataframe thead th {\n",
              "        text-align: right;\n",
              "    }\n",
              "</style>\n",
              "<table border=\"1\" class=\"dataframe\">\n",
              "  <thead>\n",
              "    <tr style=\"text-align: right;\">\n",
              "      <th></th>\n",
              "      <th>Comp1</th>\n",
              "      <th>Comp2</th>\n",
              "      <th>Comp3</th>\n",
              "      <th>Comp4</th>\n",
              "      <th>target</th>\n",
              "    </tr>\n",
              "  </thead>\n",
              "  <tbody>\n",
              "    <tr>\n",
              "      <th>0</th>\n",
              "      <td>-2.264703</td>\n",
              "      <td>0.480027</td>\n",
              "      <td>-0.127706</td>\n",
              "      <td>-0.024168</td>\n",
              "      <td>0</td>\n",
              "    </tr>\n",
              "    <tr>\n",
              "      <th>1</th>\n",
              "      <td>-2.080961</td>\n",
              "      <td>-0.674134</td>\n",
              "      <td>-0.234609</td>\n",
              "      <td>-0.103007</td>\n",
              "      <td>0</td>\n",
              "    </tr>\n",
              "    <tr>\n",
              "      <th>2</th>\n",
              "      <td>-2.364229</td>\n",
              "      <td>-0.341908</td>\n",
              "      <td>0.044201</td>\n",
              "      <td>-0.028377</td>\n",
              "      <td>0</td>\n",
              "    </tr>\n",
              "    <tr>\n",
              "      <th>3</th>\n",
              "      <td>-2.299384</td>\n",
              "      <td>-0.597395</td>\n",
              "      <td>0.091290</td>\n",
              "      <td>0.065956</td>\n",
              "      <td>0</td>\n",
              "    </tr>\n",
              "    <tr>\n",
              "      <th>4</th>\n",
              "      <td>-2.389842</td>\n",
              "      <td>0.646835</td>\n",
              "      <td>0.015738</td>\n",
              "      <td>0.035923</td>\n",
              "      <td>0</td>\n",
              "    </tr>\n",
              "    <tr>\n",
              "      <th>...</th>\n",
              "      <td>...</td>\n",
              "      <td>...</td>\n",
              "      <td>...</td>\n",
              "      <td>...</td>\n",
              "      <td>...</td>\n",
              "    </tr>\n",
              "    <tr>\n",
              "      <th>145</th>\n",
              "      <td>1.870503</td>\n",
              "      <td>0.386966</td>\n",
              "      <td>0.256274</td>\n",
              "      <td>-0.389257</td>\n",
              "      <td>2</td>\n",
              "    </tr>\n",
              "    <tr>\n",
              "      <th>146</th>\n",
              "      <td>1.564580</td>\n",
              "      <td>-0.896687</td>\n",
              "      <td>-0.026371</td>\n",
              "      <td>-0.220192</td>\n",
              "      <td>2</td>\n",
              "    </tr>\n",
              "    <tr>\n",
              "      <th>147</th>\n",
              "      <td>1.521170</td>\n",
              "      <td>0.269069</td>\n",
              "      <td>0.180178</td>\n",
              "      <td>-0.119171</td>\n",
              "      <td>2</td>\n",
              "    </tr>\n",
              "    <tr>\n",
              "      <th>148</th>\n",
              "      <td>1.372788</td>\n",
              "      <td>1.011254</td>\n",
              "      <td>0.933395</td>\n",
              "      <td>-0.026129</td>\n",
              "      <td>2</td>\n",
              "    </tr>\n",
              "    <tr>\n",
              "      <th>149</th>\n",
              "      <td>0.960656</td>\n",
              "      <td>-0.024332</td>\n",
              "      <td>0.528249</td>\n",
              "      <td>0.163078</td>\n",
              "      <td>2</td>\n",
              "    </tr>\n",
              "  </tbody>\n",
              "</table>\n",
              "<p>150 rows × 5 columns</p>\n",
              "</div>\n",
              "      <button class=\"colab-df-convert\" onclick=\"convertToInteractive('df-64ed172c-29c0-4146-9713-94502fb38c92')\"\n",
              "              title=\"Convert this dataframe to an interactive table.\"\n",
              "              style=\"display:none;\">\n",
              "        \n",
              "  <svg xmlns=\"http://www.w3.org/2000/svg\" height=\"24px\"viewBox=\"0 0 24 24\"\n",
              "       width=\"24px\">\n",
              "    <path d=\"M0 0h24v24H0V0z\" fill=\"none\"/>\n",
              "    <path d=\"M18.56 5.44l.94 2.06.94-2.06 2.06-.94-2.06-.94-.94-2.06-.94 2.06-2.06.94zm-11 1L8.5 8.5l.94-2.06 2.06-.94-2.06-.94L8.5 2.5l-.94 2.06-2.06.94zm10 10l.94 2.06.94-2.06 2.06-.94-2.06-.94-.94-2.06-.94 2.06-2.06.94z\"/><path d=\"M17.41 7.96l-1.37-1.37c-.4-.4-.92-.59-1.43-.59-.52 0-1.04.2-1.43.59L10.3 9.45l-7.72 7.72c-.78.78-.78 2.05 0 2.83L4 21.41c.39.39.9.59 1.41.59.51 0 1.02-.2 1.41-.59l7.78-7.78 2.81-2.81c.8-.78.8-2.07 0-2.86zM5.41 20L4 18.59l7.72-7.72 1.47 1.35L5.41 20z\"/>\n",
              "  </svg>\n",
              "      </button>\n",
              "      \n",
              "  <style>\n",
              "    .colab-df-container {\n",
              "      display:flex;\n",
              "      flex-wrap:wrap;\n",
              "      gap: 12px;\n",
              "    }\n",
              "\n",
              "    .colab-df-convert {\n",
              "      background-color: #E8F0FE;\n",
              "      border: none;\n",
              "      border-radius: 50%;\n",
              "      cursor: pointer;\n",
              "      display: none;\n",
              "      fill: #1967D2;\n",
              "      height: 32px;\n",
              "      padding: 0 0 0 0;\n",
              "      width: 32px;\n",
              "    }\n",
              "\n",
              "    .colab-df-convert:hover {\n",
              "      background-color: #E2EBFA;\n",
              "      box-shadow: 0px 1px 2px rgba(60, 64, 67, 0.3), 0px 1px 3px 1px rgba(60, 64, 67, 0.15);\n",
              "      fill: #174EA6;\n",
              "    }\n",
              "\n",
              "    [theme=dark] .colab-df-convert {\n",
              "      background-color: #3B4455;\n",
              "      fill: #D2E3FC;\n",
              "    }\n",
              "\n",
              "    [theme=dark] .colab-df-convert:hover {\n",
              "      background-color: #434B5C;\n",
              "      box-shadow: 0px 1px 3px 1px rgba(0, 0, 0, 0.15);\n",
              "      filter: drop-shadow(0px 1px 2px rgba(0, 0, 0, 0.3));\n",
              "      fill: #FFFFFF;\n",
              "    }\n",
              "  </style>\n",
              "\n",
              "      <script>\n",
              "        const buttonEl =\n",
              "          document.querySelector('#df-64ed172c-29c0-4146-9713-94502fb38c92 button.colab-df-convert');\n",
              "        buttonEl.style.display =\n",
              "          google.colab.kernel.accessAllowed ? 'block' : 'none';\n",
              "\n",
              "        async function convertToInteractive(key) {\n",
              "          const element = document.querySelector('#df-64ed172c-29c0-4146-9713-94502fb38c92');\n",
              "          const dataTable =\n",
              "            await google.colab.kernel.invokeFunction('convertToInteractive',\n",
              "                                                     [key], {});\n",
              "          if (!dataTable) return;\n",
              "\n",
              "          const docLinkHtml = 'Like what you see? Visit the ' +\n",
              "            '<a target=\"_blank\" href=https://colab.research.google.com/notebooks/data_table.ipynb>data table notebook</a>'\n",
              "            + ' to learn more about interactive tables.';\n",
              "          element.innerHTML = '';\n",
              "          dataTable['output_type'] = 'display_data';\n",
              "          await google.colab.output.renderOutput(dataTable, element);\n",
              "          const docLink = document.createElement('div');\n",
              "          docLink.innerHTML = docLinkHtml;\n",
              "          element.appendChild(docLink);\n",
              "        }\n",
              "      </script>\n",
              "    </div>\n",
              "  </div>\n",
              "  "
            ]
          },
          "metadata": {},
          "execution_count": 22
        }
      ]
    },
    {
      "cell_type": "markdown",
      "source": [
        "- `고유벡터`\n",
        "- PC1 = 0.521066(sepallength) - 0.269347(sepal width) + 0.580413(petal length) + 0.564857(petal width)\n",
        "- 고유벡터는 주성분(P)와 표준화된 독립변수(Z) 사이의 관계를 보여준다."
      ],
      "metadata": {
        "id": "7lYdPWndnzc7"
      }
    },
    {
      "cell_type": "code",
      "source": [
        "# 교유벡터\n",
        "pca_vector = pd.DataFrame(pca.components_.T).set_index(df.columns[:-1])\n",
        "pca_vector.columns = ['PC1', 'PC2', 'PC3', 'PC4']\n",
        "pca_vector"
      ],
      "metadata": {
        "colab": {
          "base_uri": "https://localhost:8080/",
          "height": 175
        },
        "id": "lP7d8cYWliiC",
        "outputId": "19a11ef3-7c42-4f8d-f944-89263a21351c"
      },
      "execution_count": null,
      "outputs": [
        {
          "output_type": "execute_result",
          "data": {
            "text/plain": [
              "                   PC1       PC2       PC3       PC4\n",
              "sepal_length  0.521066  0.377418 -0.719566 -0.261286\n",
              "sepal_width  -0.269347  0.923296  0.244382  0.123510\n",
              "petal_length  0.580413  0.024492  0.142126  0.801449\n",
              "petal_width   0.564857  0.066942  0.634273 -0.523597"
            ],
            "text/html": [
              "\n",
              "  <div id=\"df-c10b3164-c1e5-4623-bbef-129553bd82ee\">\n",
              "    <div class=\"colab-df-container\">\n",
              "      <div>\n",
              "<style scoped>\n",
              "    .dataframe tbody tr th:only-of-type {\n",
              "        vertical-align: middle;\n",
              "    }\n",
              "\n",
              "    .dataframe tbody tr th {\n",
              "        vertical-align: top;\n",
              "    }\n",
              "\n",
              "    .dataframe thead th {\n",
              "        text-align: right;\n",
              "    }\n",
              "</style>\n",
              "<table border=\"1\" class=\"dataframe\">\n",
              "  <thead>\n",
              "    <tr style=\"text-align: right;\">\n",
              "      <th></th>\n",
              "      <th>PC1</th>\n",
              "      <th>PC2</th>\n",
              "      <th>PC3</th>\n",
              "      <th>PC4</th>\n",
              "    </tr>\n",
              "  </thead>\n",
              "  <tbody>\n",
              "    <tr>\n",
              "      <th>sepal_length</th>\n",
              "      <td>0.521066</td>\n",
              "      <td>0.377418</td>\n",
              "      <td>-0.719566</td>\n",
              "      <td>-0.261286</td>\n",
              "    </tr>\n",
              "    <tr>\n",
              "      <th>sepal_width</th>\n",
              "      <td>-0.269347</td>\n",
              "      <td>0.923296</td>\n",
              "      <td>0.244382</td>\n",
              "      <td>0.123510</td>\n",
              "    </tr>\n",
              "    <tr>\n",
              "      <th>petal_length</th>\n",
              "      <td>0.580413</td>\n",
              "      <td>0.024492</td>\n",
              "      <td>0.142126</td>\n",
              "      <td>0.801449</td>\n",
              "    </tr>\n",
              "    <tr>\n",
              "      <th>petal_width</th>\n",
              "      <td>0.564857</td>\n",
              "      <td>0.066942</td>\n",
              "      <td>0.634273</td>\n",
              "      <td>-0.523597</td>\n",
              "    </tr>\n",
              "  </tbody>\n",
              "</table>\n",
              "</div>\n",
              "      <button class=\"colab-df-convert\" onclick=\"convertToInteractive('df-c10b3164-c1e5-4623-bbef-129553bd82ee')\"\n",
              "              title=\"Convert this dataframe to an interactive table.\"\n",
              "              style=\"display:none;\">\n",
              "        \n",
              "  <svg xmlns=\"http://www.w3.org/2000/svg\" height=\"24px\"viewBox=\"0 0 24 24\"\n",
              "       width=\"24px\">\n",
              "    <path d=\"M0 0h24v24H0V0z\" fill=\"none\"/>\n",
              "    <path d=\"M18.56 5.44l.94 2.06.94-2.06 2.06-.94-2.06-.94-.94-2.06-.94 2.06-2.06.94zm-11 1L8.5 8.5l.94-2.06 2.06-.94-2.06-.94L8.5 2.5l-.94 2.06-2.06.94zm10 10l.94 2.06.94-2.06 2.06-.94-2.06-.94-.94-2.06-.94 2.06-2.06.94z\"/><path d=\"M17.41 7.96l-1.37-1.37c-.4-.4-.92-.59-1.43-.59-.52 0-1.04.2-1.43.59L10.3 9.45l-7.72 7.72c-.78.78-.78 2.05 0 2.83L4 21.41c.39.39.9.59 1.41.59.51 0 1.02-.2 1.41-.59l7.78-7.78 2.81-2.81c.8-.78.8-2.07 0-2.86zM5.41 20L4 18.59l7.72-7.72 1.47 1.35L5.41 20z\"/>\n",
              "  </svg>\n",
              "      </button>\n",
              "      \n",
              "  <style>\n",
              "    .colab-df-container {\n",
              "      display:flex;\n",
              "      flex-wrap:wrap;\n",
              "      gap: 12px;\n",
              "    }\n",
              "\n",
              "    .colab-df-convert {\n",
              "      background-color: #E8F0FE;\n",
              "      border: none;\n",
              "      border-radius: 50%;\n",
              "      cursor: pointer;\n",
              "      display: none;\n",
              "      fill: #1967D2;\n",
              "      height: 32px;\n",
              "      padding: 0 0 0 0;\n",
              "      width: 32px;\n",
              "    }\n",
              "\n",
              "    .colab-df-convert:hover {\n",
              "      background-color: #E2EBFA;\n",
              "      box-shadow: 0px 1px 2px rgba(60, 64, 67, 0.3), 0px 1px 3px 1px rgba(60, 64, 67, 0.15);\n",
              "      fill: #174EA6;\n",
              "    }\n",
              "\n",
              "    [theme=dark] .colab-df-convert {\n",
              "      background-color: #3B4455;\n",
              "      fill: #D2E3FC;\n",
              "    }\n",
              "\n",
              "    [theme=dark] .colab-df-convert:hover {\n",
              "      background-color: #434B5C;\n",
              "      box-shadow: 0px 1px 3px 1px rgba(0, 0, 0, 0.15);\n",
              "      filter: drop-shadow(0px 1px 2px rgba(0, 0, 0, 0.3));\n",
              "      fill: #FFFFFF;\n",
              "    }\n",
              "  </style>\n",
              "\n",
              "      <script>\n",
              "        const buttonEl =\n",
              "          document.querySelector('#df-c10b3164-c1e5-4623-bbef-129553bd82ee button.colab-df-convert');\n",
              "        buttonEl.style.display =\n",
              "          google.colab.kernel.accessAllowed ? 'block' : 'none';\n",
              "\n",
              "        async function convertToInteractive(key) {\n",
              "          const element = document.querySelector('#df-c10b3164-c1e5-4623-bbef-129553bd82ee');\n",
              "          const dataTable =\n",
              "            await google.colab.kernel.invokeFunction('convertToInteractive',\n",
              "                                                     [key], {});\n",
              "          if (!dataTable) return;\n",
              "\n",
              "          const docLinkHtml = 'Like what you see? Visit the ' +\n",
              "            '<a target=\"_blank\" href=https://colab.research.google.com/notebooks/data_table.ipynb>data table notebook</a>'\n",
              "            + ' to learn more about interactive tables.';\n",
              "          element.innerHTML = '';\n",
              "          dataTable['output_type'] = 'display_data';\n",
              "          await google.colab.output.renderOutput(dataTable, element);\n",
              "          const docLink = document.createElement('div');\n",
              "          docLink.innerHTML = docLinkHtml;\n",
              "          element.appendChild(docLink);\n",
              "        }\n",
              "      </script>\n",
              "    </div>\n",
              "  </div>\n",
              "  "
            ]
          },
          "metadata": {},
          "execution_count": 27
        }
      ]
    },
    {
      "cell_type": "code",
      "source": [
        "x_df = pd.DataFrame(x_scaled, columns=df.columns[:-1])"
      ],
      "metadata": {
        "id": "NA1tCj7ip55P"
      },
      "execution_count": null,
      "outputs": []
    },
    {
      "cell_type": "markdown",
      "source": [
        "- `고유값`\n",
        "- 각 주성분의 분산과 고유값은 일치한다."
      ],
      "metadata": {
        "id": "1fhlNTF-qQRZ"
      }
    },
    {
      "cell_type": "code",
      "source": [
        "# 상관 행렬\n",
        "# 스케일링한 x 데이터를 이용한다.\n",
        "corr = x_df.corr(method = 'pearson')\n",
        "\n",
        "# (w = 고유값),(v = 고유벡터),(corr.values=DataFrame인 corr를 numpy array로 변환)\n",
        "w, v = np.linalg.eig(corr.values)\n",
        "\n",
        "# 고유값\n",
        "eig_value = pd.DataFrame(w, columns=['eigenvalue'], index=['PC1', 'PC2', 'PC3', 'PC4'])\n",
        "eig_value = eig_value.T  # or eig_value.transpose()\n",
        "eig_value"
      ],
      "metadata": {
        "colab": {
          "base_uri": "https://localhost:8080/",
          "height": 81
        },
        "id": "fBb8TK9kpd8i",
        "outputId": "f6a4ed49-791a-4785-b30d-3b2a0979067a"
      },
      "execution_count": null,
      "outputs": [
        {
          "output_type": "execute_result",
          "data": {
            "text/plain": [
              "                 PC1      PC2       PC3       PC4\n",
              "eigenvalue  2.918498  0.91403  0.146757  0.020715"
            ],
            "text/html": [
              "\n",
              "  <div id=\"df-15f25d89-222f-4c7a-96e5-92eac1a3d9b6\">\n",
              "    <div class=\"colab-df-container\">\n",
              "      <div>\n",
              "<style scoped>\n",
              "    .dataframe tbody tr th:only-of-type {\n",
              "        vertical-align: middle;\n",
              "    }\n",
              "\n",
              "    .dataframe tbody tr th {\n",
              "        vertical-align: top;\n",
              "    }\n",
              "\n",
              "    .dataframe thead th {\n",
              "        text-align: right;\n",
              "    }\n",
              "</style>\n",
              "<table border=\"1\" class=\"dataframe\">\n",
              "  <thead>\n",
              "    <tr style=\"text-align: right;\">\n",
              "      <th></th>\n",
              "      <th>PC1</th>\n",
              "      <th>PC2</th>\n",
              "      <th>PC3</th>\n",
              "      <th>PC4</th>\n",
              "    </tr>\n",
              "  </thead>\n",
              "  <tbody>\n",
              "    <tr>\n",
              "      <th>eigenvalue</th>\n",
              "      <td>2.918498</td>\n",
              "      <td>0.91403</td>\n",
              "      <td>0.146757</td>\n",
              "      <td>0.020715</td>\n",
              "    </tr>\n",
              "  </tbody>\n",
              "</table>\n",
              "</div>\n",
              "      <button class=\"colab-df-convert\" onclick=\"convertToInteractive('df-15f25d89-222f-4c7a-96e5-92eac1a3d9b6')\"\n",
              "              title=\"Convert this dataframe to an interactive table.\"\n",
              "              style=\"display:none;\">\n",
              "        \n",
              "  <svg xmlns=\"http://www.w3.org/2000/svg\" height=\"24px\"viewBox=\"0 0 24 24\"\n",
              "       width=\"24px\">\n",
              "    <path d=\"M0 0h24v24H0V0z\" fill=\"none\"/>\n",
              "    <path d=\"M18.56 5.44l.94 2.06.94-2.06 2.06-.94-2.06-.94-.94-2.06-.94 2.06-2.06.94zm-11 1L8.5 8.5l.94-2.06 2.06-.94-2.06-.94L8.5 2.5l-.94 2.06-2.06.94zm10 10l.94 2.06.94-2.06 2.06-.94-2.06-.94-.94-2.06-.94 2.06-2.06.94z\"/><path d=\"M17.41 7.96l-1.37-1.37c-.4-.4-.92-.59-1.43-.59-.52 0-1.04.2-1.43.59L10.3 9.45l-7.72 7.72c-.78.78-.78 2.05 0 2.83L4 21.41c.39.39.9.59 1.41.59.51 0 1.02-.2 1.41-.59l7.78-7.78 2.81-2.81c.8-.78.8-2.07 0-2.86zM5.41 20L4 18.59l7.72-7.72 1.47 1.35L5.41 20z\"/>\n",
              "  </svg>\n",
              "      </button>\n",
              "      \n",
              "  <style>\n",
              "    .colab-df-container {\n",
              "      display:flex;\n",
              "      flex-wrap:wrap;\n",
              "      gap: 12px;\n",
              "    }\n",
              "\n",
              "    .colab-df-convert {\n",
              "      background-color: #E8F0FE;\n",
              "      border: none;\n",
              "      border-radius: 50%;\n",
              "      cursor: pointer;\n",
              "      display: none;\n",
              "      fill: #1967D2;\n",
              "      height: 32px;\n",
              "      padding: 0 0 0 0;\n",
              "      width: 32px;\n",
              "    }\n",
              "\n",
              "    .colab-df-convert:hover {\n",
              "      background-color: #E2EBFA;\n",
              "      box-shadow: 0px 1px 2px rgba(60, 64, 67, 0.3), 0px 1px 3px 1px rgba(60, 64, 67, 0.15);\n",
              "      fill: #174EA6;\n",
              "    }\n",
              "\n",
              "    [theme=dark] .colab-df-convert {\n",
              "      background-color: #3B4455;\n",
              "      fill: #D2E3FC;\n",
              "    }\n",
              "\n",
              "    [theme=dark] .colab-df-convert:hover {\n",
              "      background-color: #434B5C;\n",
              "      box-shadow: 0px 1px 3px 1px rgba(0, 0, 0, 0.15);\n",
              "      filter: drop-shadow(0px 1px 2px rgba(0, 0, 0, 0.3));\n",
              "      fill: #FFFFFF;\n",
              "    }\n",
              "  </style>\n",
              "\n",
              "      <script>\n",
              "        const buttonEl =\n",
              "          document.querySelector('#df-15f25d89-222f-4c7a-96e5-92eac1a3d9b6 button.colab-df-convert');\n",
              "        buttonEl.style.display =\n",
              "          google.colab.kernel.accessAllowed ? 'block' : 'none';\n",
              "\n",
              "        async function convertToInteractive(key) {\n",
              "          const element = document.querySelector('#df-15f25d89-222f-4c7a-96e5-92eac1a3d9b6');\n",
              "          const dataTable =\n",
              "            await google.colab.kernel.invokeFunction('convertToInteractive',\n",
              "                                                     [key], {});\n",
              "          if (!dataTable) return;\n",
              "\n",
              "          const docLinkHtml = 'Like what you see? Visit the ' +\n",
              "            '<a target=\"_blank\" href=https://colab.research.google.com/notebooks/data_table.ipynb>data table notebook</a>'\n",
              "            + ' to learn more about interactive tables.';\n",
              "          element.innerHTML = '';\n",
              "          dataTable['output_type'] = 'display_data';\n",
              "          await google.colab.output.renderOutput(dataTable, element);\n",
              "          const docLink = document.createElement('div');\n",
              "          docLink.innerHTML = docLinkHtml;\n",
              "          element.appendChild(docLink);\n",
              "        }\n",
              "      </script>\n",
              "    </div>\n",
              "  </div>\n",
              "  "
            ]
          },
          "metadata": {},
          "execution_count": 41
        }
      ]
    },
    {
      "cell_type": "markdown",
      "source": [
        "- `기여율`\n",
        "- 전체 정보량 중 자기 정보량의 비율이다.\n",
        "- ex) PC1의 기여율 = (2.910818 / 4) = 0.7277045"
      ],
      "metadata": {
        "id": "0kD9AiqnrFGz"
      }
    },
    {
      "cell_type": "code",
      "source": [
        "# 기여율\n",
        "eig_value / 4"
      ],
      "metadata": {
        "colab": {
          "base_uri": "https://localhost:8080/",
          "height": 81
        },
        "id": "rurCtke_rSBr",
        "outputId": "0a2e6892-b20a-46a3-9bdd-0276aa1b12a4"
      },
      "execution_count": null,
      "outputs": [
        {
          "output_type": "execute_result",
          "data": {
            "text/plain": [
              "                 PC1       PC2       PC3       PC4\n",
              "eigenvalue  0.729624  0.228508  0.036689  0.005179"
            ],
            "text/html": [
              "\n",
              "  <div id=\"df-682fc513-b2f1-46b2-b805-c9a437daa0be\">\n",
              "    <div class=\"colab-df-container\">\n",
              "      <div>\n",
              "<style scoped>\n",
              "    .dataframe tbody tr th:only-of-type {\n",
              "        vertical-align: middle;\n",
              "    }\n",
              "\n",
              "    .dataframe tbody tr th {\n",
              "        vertical-align: top;\n",
              "    }\n",
              "\n",
              "    .dataframe thead th {\n",
              "        text-align: right;\n",
              "    }\n",
              "</style>\n",
              "<table border=\"1\" class=\"dataframe\">\n",
              "  <thead>\n",
              "    <tr style=\"text-align: right;\">\n",
              "      <th></th>\n",
              "      <th>PC1</th>\n",
              "      <th>PC2</th>\n",
              "      <th>PC3</th>\n",
              "      <th>PC4</th>\n",
              "    </tr>\n",
              "  </thead>\n",
              "  <tbody>\n",
              "    <tr>\n",
              "      <th>eigenvalue</th>\n",
              "      <td>0.729624</td>\n",
              "      <td>0.228508</td>\n",
              "      <td>0.036689</td>\n",
              "      <td>0.005179</td>\n",
              "    </tr>\n",
              "  </tbody>\n",
              "</table>\n",
              "</div>\n",
              "      <button class=\"colab-df-convert\" onclick=\"convertToInteractive('df-682fc513-b2f1-46b2-b805-c9a437daa0be')\"\n",
              "              title=\"Convert this dataframe to an interactive table.\"\n",
              "              style=\"display:none;\">\n",
              "        \n",
              "  <svg xmlns=\"http://www.w3.org/2000/svg\" height=\"24px\"viewBox=\"0 0 24 24\"\n",
              "       width=\"24px\">\n",
              "    <path d=\"M0 0h24v24H0V0z\" fill=\"none\"/>\n",
              "    <path d=\"M18.56 5.44l.94 2.06.94-2.06 2.06-.94-2.06-.94-.94-2.06-.94 2.06-2.06.94zm-11 1L8.5 8.5l.94-2.06 2.06-.94-2.06-.94L8.5 2.5l-.94 2.06-2.06.94zm10 10l.94 2.06.94-2.06 2.06-.94-2.06-.94-.94-2.06-.94 2.06-2.06.94z\"/><path d=\"M17.41 7.96l-1.37-1.37c-.4-.4-.92-.59-1.43-.59-.52 0-1.04.2-1.43.59L10.3 9.45l-7.72 7.72c-.78.78-.78 2.05 0 2.83L4 21.41c.39.39.9.59 1.41.59.51 0 1.02-.2 1.41-.59l7.78-7.78 2.81-2.81c.8-.78.8-2.07 0-2.86zM5.41 20L4 18.59l7.72-7.72 1.47 1.35L5.41 20z\"/>\n",
              "  </svg>\n",
              "      </button>\n",
              "      \n",
              "  <style>\n",
              "    .colab-df-container {\n",
              "      display:flex;\n",
              "      flex-wrap:wrap;\n",
              "      gap: 12px;\n",
              "    }\n",
              "\n",
              "    .colab-df-convert {\n",
              "      background-color: #E8F0FE;\n",
              "      border: none;\n",
              "      border-radius: 50%;\n",
              "      cursor: pointer;\n",
              "      display: none;\n",
              "      fill: #1967D2;\n",
              "      height: 32px;\n",
              "      padding: 0 0 0 0;\n",
              "      width: 32px;\n",
              "    }\n",
              "\n",
              "    .colab-df-convert:hover {\n",
              "      background-color: #E2EBFA;\n",
              "      box-shadow: 0px 1px 2px rgba(60, 64, 67, 0.3), 0px 1px 3px 1px rgba(60, 64, 67, 0.15);\n",
              "      fill: #174EA6;\n",
              "    }\n",
              "\n",
              "    [theme=dark] .colab-df-convert {\n",
              "      background-color: #3B4455;\n",
              "      fill: #D2E3FC;\n",
              "    }\n",
              "\n",
              "    [theme=dark] .colab-df-convert:hover {\n",
              "      background-color: #434B5C;\n",
              "      box-shadow: 0px 1px 3px 1px rgba(0, 0, 0, 0.15);\n",
              "      filter: drop-shadow(0px 1px 2px rgba(0, 0, 0, 0.3));\n",
              "      fill: #FFFFFF;\n",
              "    }\n",
              "  </style>\n",
              "\n",
              "      <script>\n",
              "        const buttonEl =\n",
              "          document.querySelector('#df-682fc513-b2f1-46b2-b805-c9a437daa0be button.colab-df-convert');\n",
              "        buttonEl.style.display =\n",
              "          google.colab.kernel.accessAllowed ? 'block' : 'none';\n",
              "\n",
              "        async function convertToInteractive(key) {\n",
              "          const element = document.querySelector('#df-682fc513-b2f1-46b2-b805-c9a437daa0be');\n",
              "          const dataTable =\n",
              "            await google.colab.kernel.invokeFunction('convertToInteractive',\n",
              "                                                     [key], {});\n",
              "          if (!dataTable) return;\n",
              "\n",
              "          const docLinkHtml = 'Like what you see? Visit the ' +\n",
              "            '<a target=\"_blank\" href=https://colab.research.google.com/notebooks/data_table.ipynb>data table notebook</a>'\n",
              "            + ' to learn more about interactive tables.';\n",
              "          element.innerHTML = '';\n",
              "          dataTable['output_type'] = 'display_data';\n",
              "          await google.colab.output.renderOutput(dataTable, element);\n",
              "          const docLink = document.createElement('div');\n",
              "          docLink.innerHTML = docLinkHtml;\n",
              "          element.appendChild(docLink);\n",
              "        }\n",
              "      </script>\n",
              "    </div>\n",
              "  </div>\n",
              "  "
            ]
          },
          "metadata": {},
          "execution_count": 42
        }
      ]
    },
    {
      "cell_type": "markdown",
      "source": [
        "- `누적 기여율`\n",
        "- 첫번째 주성분부터 자기 정보량까지 총합의 비율이다.\n",
        "- ex) PC2의 누적 기여율 = (2.918498 + 0991403) / 4 = 0.958132"
      ],
      "metadata": {
        "id": "1X766Oy9rc_V"
      }
    },
    {
      "cell_type": "code",
      "source": [
        "# 누적 기여율\n",
        "(eig_value['PC1'] + eig_value['PC2']) / 4"
      ],
      "metadata": {
        "colab": {
          "base_uri": "https://localhost:8080/"
        },
        "id": "Ji0Nw2tvro-u",
        "outputId": "f624fd19-3489-4527-9e29-0f6d7a47b2a8"
      },
      "execution_count": null,
      "outputs": [
        {
          "output_type": "execute_result",
          "data": {
            "text/plain": [
              "eigenvalue    0.958132\n",
              "dtype: float64"
            ]
          },
          "metadata": {},
          "execution_count": 47
        }
      ]
    },
    {
      "cell_type": "code",
      "source": [
        "# PCA 수행 후\n",
        "\n",
        "markers = ['^','s','o']\n",
        "\n",
        "for i, marker in enumerate(markers):\n",
        "  x_axis = pca_df[pca_df['target']==i]['Comp1']\n",
        "  y_axis = pca_df[pca_df['target']==i]['Comp2']\n",
        "  plt.scatter(x_axis, y_axis, marker=marker, label=iris.target_names[i])\n",
        "\n",
        "plt.legend()\n",
        "plt.show()"
      ],
      "metadata": {
        "colab": {
          "base_uri": "https://localhost:8080/",
          "height": 265
        },
        "id": "V88vaooBi_Tj",
        "outputId": "1b4ffdc0-d8fb-42ea-9a9e-0ed080fdd704"
      },
      "execution_count": null,
      "outputs": [
        {
          "output_type": "display_data",
          "data": {
            "text/plain": [
              "<Figure size 432x288 with 1 Axes>"
            ],
            "image/png": "[encoded data removed]"
          },
          "metadata": {
            "needs_background": "light"
          }
        }
      ]
    },
    {
      "cell_type": "markdown",
      "source": [
        "- 위에서 고유벡터와 고유벡터를 이용하여 계산한 기여율, 누적 기여율이 일치함을 확인할 수 있다."
      ],
      "metadata": {
        "id": "3rblws2mr63r"
      }
    },
    {
      "cell_type": "code",
      "source": [
        "# 표준편차\n",
        "pca_std = pd.DataFrame(pca_df.std()).T.drop(['target'], axis=1)\n",
        "\n",
        "# 각 주성분의 설명된 분산 비율\n",
        "pca_var = pd.DataFrame(pca.explained_variance_ratio_.T).set_index(pca_std.columns).T\n",
        "\n",
        "# 누적 기여율\n",
        "pca_cumsum = pd.DataFrame(pca.explained_variance_ratio_.cumsum()).set_index(pca_std.columns).T\n",
        "\n",
        "pca_summary = pd.concat([pca_std, pca_var, pca_cumsum])\n",
        "pca_summary.index = ['Standard deviation', 'Propotion of variance', 'Cumulative proportion']\n",
        "pca_summary"
      ],
      "metadata": {
        "colab": {
          "base_uri": "https://localhost:8080/",
          "height": 143
        },
        "id": "KRfFOI91fbtc",
        "outputId": "244f110d-640a-45df-965b-9928c16e932d"
      },
      "execution_count": null,
      "outputs": [
        {
          "output_type": "execute_result",
          "data": {
            "text/plain": [
              "                          Comp1     Comp2     Comp3     Comp4\n",
              "Standard deviation     1.714084  0.959252  0.384372  0.144409\n",
              "Propotion of variance  0.729624  0.228508  0.036689  0.005179\n",
              "Cumulative proportion  0.729624  0.958132  0.994821  1.000000"
            ],
            "text/html": [
              "\n",
              "  <div id=\"df-bacb2e82-0caa-4c2c-81fb-d8a03116219e\">\n",
              "    <div class=\"colab-df-container\">\n",
              "      <div>\n",
              "<style scoped>\n",
              "    .dataframe tbody tr th:only-of-type {\n",
              "        vertical-align: middle;\n",
              "    }\n",
              "\n",
              "    .dataframe tbody tr th {\n",
              "        vertical-align: top;\n",
              "    }\n",
              "\n",
              "    .dataframe thead th {\n",
              "        text-align: right;\n",
              "    }\n",
              "</style>\n",
              "<table border=\"1\" class=\"dataframe\">\n",
              "  <thead>\n",
              "    <tr style=\"text-align: right;\">\n",
              "      <th></th>\n",
              "      <th>Comp1</th>\n",
              "      <th>Comp2</th>\n",
              "      <th>Comp3</th>\n",
              "      <th>Comp4</th>\n",
              "    </tr>\n",
              "  </thead>\n",
              "  <tbody>\n",
              "    <tr>\n",
              "      <th>Standard deviation</th>\n",
              "      <td>1.714084</td>\n",
              "      <td>0.959252</td>\n",
              "      <td>0.384372</td>\n",
              "      <td>0.144409</td>\n",
              "    </tr>\n",
              "    <tr>\n",
              "      <th>Propotion of variance</th>\n",
              "      <td>0.729624</td>\n",
              "      <td>0.228508</td>\n",
              "      <td>0.036689</td>\n",
              "      <td>0.005179</td>\n",
              "    </tr>\n",
              "    <tr>\n",
              "      <th>Cumulative proportion</th>\n",
              "      <td>0.729624</td>\n",
              "      <td>0.958132</td>\n",
              "      <td>0.994821</td>\n",
              "      <td>1.000000</td>\n",
              "    </tr>\n",
              "  </tbody>\n",
              "</table>\n",
              "</div>\n",
              "      <button class=\"colab-df-convert\" onclick=\"convertToInteractive('df-bacb2e82-0caa-4c2c-81fb-d8a03116219e')\"\n",
              "              title=\"Convert this dataframe to an interactive table.\"\n",
              "              style=\"display:none;\">\n",
              "        \n",
              "  <svg xmlns=\"http://www.w3.org/2000/svg\" height=\"24px\"viewBox=\"0 0 24 24\"\n",
              "       width=\"24px\">\n",
              "    <path d=\"M0 0h24v24H0V0z\" fill=\"none\"/>\n",
              "    <path d=\"M18.56 5.44l.94 2.06.94-2.06 2.06-.94-2.06-.94-.94-2.06-.94 2.06-2.06.94zm-11 1L8.5 8.5l.94-2.06 2.06-.94-2.06-.94L8.5 2.5l-.94 2.06-2.06.94zm10 10l.94 2.06.94-2.06 2.06-.94-2.06-.94-.94-2.06-.94 2.06-2.06.94z\"/><path d=\"M17.41 7.96l-1.37-1.37c-.4-.4-.92-.59-1.43-.59-.52 0-1.04.2-1.43.59L10.3 9.45l-7.72 7.72c-.78.78-.78 2.05 0 2.83L4 21.41c.39.39.9.59 1.41.59.51 0 1.02-.2 1.41-.59l7.78-7.78 2.81-2.81c.8-.78.8-2.07 0-2.86zM5.41 20L4 18.59l7.72-7.72 1.47 1.35L5.41 20z\"/>\n",
              "  </svg>\n",
              "      </button>\n",
              "      \n",
              "  <style>\n",
              "    .colab-df-container {\n",
              "      display:flex;\n",
              "      flex-wrap:wrap;\n",
              "      gap: 12px;\n",
              "    }\n",
              "\n",
              "    .colab-df-convert {\n",
              "      background-color: #E8F0FE;\n",
              "      border: none;\n",
              "      border-radius: 50%;\n",
              "      cursor: pointer;\n",
              "      display: none;\n",
              "      fill: #1967D2;\n",
              "      height: 32px;\n",
              "      padding: 0 0 0 0;\n",
              "      width: 32px;\n",
              "    }\n",
              "\n",
              "    .colab-df-convert:hover {\n",
              "      background-color: #E2EBFA;\n",
              "      box-shadow: 0px 1px 2px rgba(60, 64, 67, 0.3), 0px 1px 3px 1px rgba(60, 64, 67, 0.15);\n",
              "      fill: #174EA6;\n",
              "    }\n",
              "\n",
              "    [theme=dark] .colab-df-convert {\n",
              "      background-color: #3B4455;\n",
              "      fill: #D2E3FC;\n",
              "    }\n",
              "\n",
              "    [theme=dark] .colab-df-convert:hover {\n",
              "      background-color: #434B5C;\n",
              "      box-shadow: 0px 1px 3px 1px rgba(0, 0, 0, 0.15);\n",
              "      filter: drop-shadow(0px 1px 2px rgba(0, 0, 0, 0.3));\n",
              "      fill: #FFFFFF;\n",
              "    }\n",
              "  </style>\n",
              "\n",
              "      <script>\n",
              "        const buttonEl =\n",
              "          document.querySelector('#df-bacb2e82-0caa-4c2c-81fb-d8a03116219e button.colab-df-convert');\n",
              "        buttonEl.style.display =\n",
              "          google.colab.kernel.accessAllowed ? 'block' : 'none';\n",
              "\n",
              "        async function convertToInteractive(key) {\n",
              "          const element = document.querySelector('#df-bacb2e82-0caa-4c2c-81fb-d8a03116219e');\n",
              "          const dataTable =\n",
              "            await google.colab.kernel.invokeFunction('convertToInteractive',\n",
              "                                                     [key], {});\n",
              "          if (!dataTable) return;\n",
              "\n",
              "          const docLinkHtml = 'Like what you see? Visit the ' +\n",
              "            '<a target=\"_blank\" href=https://colab.research.google.com/notebooks/data_table.ipynb>data table notebook</a>'\n",
              "            + ' to learn more about interactive tables.';\n",
              "          element.innerHTML = '';\n",
              "          dataTable['output_type'] = 'display_data';\n",
              "          await google.colab.output.renderOutput(dataTable, element);\n",
              "          const docLink = document.createElement('div');\n",
              "          docLink.innerHTML = docLinkHtml;\n",
              "          element.appendChild(docLink);\n",
              "        }\n",
              "      </script>\n",
              "    </div>\n",
              "  </div>\n",
              "  "
            ]
          },
          "metadata": {},
          "execution_count": 16
        }
      ]
    },
    {
      "cell_type": "code",
      "source": [
        "# 아래의 그래프와 같은 스크리 산점도가 나타난다.\n",
        "pca_summary.T['분산 비율'].plot()\n",
        "plt.title('Scree Plot', fontsize=15)\n",
        "plt.show()"
      ],
      "metadata": {
        "colab": {
          "base_uri": "https://localhost:8080/",
          "height": 283
        },
        "id": "6h6fG7HKjQ3i",
        "outputId": "d7bd7957-a2f1-40d5-be44-1a96f45d7493"
      },
      "execution_count": null,
      "outputs": [
        {
          "output_type": "display_data",
          "data": {
            "text/plain": [
              "<Figure size 432x288 with 1 Axes>"
            ],
            "image/png": "[encoded data removed]"
          },
          "metadata": {
            "needs_background": "light"
          }
        }
      ]
    },
    {
      "cell_type": "code",
      "source": [
        "plt.figure(figsize=(8, 6))\n",
        "plt.title('Scree Plot', fontsize=15)\n",
        "plt.plot(range(1, 5), np.round(pca.explained_variance_, 1),\n",
        "         marker='o', markerfacecolor='w', markersize=6, markeredgecolor='k', color='r')\n",
        "plt.show()"
      ],
      "metadata": {
        "colab": {
          "base_uri": "https://localhost:8080/",
          "height": 392
        },
        "id": "P0ojCfX_dqMV",
        "outputId": "1c8d6fcf-c71f-485e-e208-c9500b6009be"
      },
      "execution_count": null,
      "outputs": [
        {
          "output_type": "display_data",
          "data": {
            "text/plain": [
              "<Figure size 576x432 with 1 Axes>"
            ],
            "image/png": "[encoded data removed]"
          },
          "metadata": {
            "needs_background": "light"
          }
        }
      ]
    },
    {
      "cell_type": "markdown",
      "source": [
        "## LDA(Linear Disciminant Analysis)\n",
        "- `선형 판별 분석`\n",
        "- PCA와 유사하지만 가장 큰 차이점은 지도학습의 분류 문제에서 개별 클래스를 분별할 수 있는 기준을 최대한 유지하면서 차원축소한다.\n",
        "- 클래스간 분산은 최대한으로 만들고 클래스 내 분산은 최소로 만드는 방법이다.\n",
        "- `PCA`는 `공분산행렬`을 사용하지만 `LDA`는 클래스간 분산과 클래스내 `분산 행렬`을 생성한 뒤 이 행렬에 기반해 `고유벡터`를 구하여 입력데이터를 투영한다.\n",
        "- 클래스 간 분산과 클래스 내부 분산 행렬을 생성한 뒤, 이 행렬에 기반해 고유벡터를 구하고 입력 데이터를 투영한다.\n",
        "- LDA는 PCA와 다르게 비지도학습이 아니라 `지도학습`이다. 즉, `클래스의 결정값`이 변환 시에 필요하다.\n",
        "\n",
        "<br>\n",
        "\n",
        "![image.png](data:image/png;base64,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)"
      ],
      "metadata": {
        "id": "warWKJnjjz0l"
      }
    },
    {
      "cell_type": "code",
      "source": [
        "from sklearn.preprocessing import StandardScaler\n",
        "\n",
        "scaler = StandardScaler()\n",
        "x_scaled = scaler.fit_transform(df.iloc[:, :-1])"
      ],
      "metadata": {
        "id": "AQYWXTGrfKlb"
      },
      "execution_count": null,
      "outputs": []
    },
    {
      "cell_type": "code",
      "source": [
        "# LDA 수행\n",
        "from sklearn.discriminant_analysis import LinearDiscriminantAnalysis\n",
        "\n",
        "lda = LinearDiscriminantAnalysis()\n",
        "lda.fit(x_scaled, df['target'])  # PCA와 다르게 입력, 출력 데이터를 반드시 넣어줘야 한다.\n",
        "comp = lda.transform(x_scaled)  # LDA를 적용한 값으로 학습을 진행할 경우 입력값(x)에 comp 데이터를 입력해준다.\n",
        "\n",
        "comp.shape"
      ],
      "metadata": {
        "colab": {
          "base_uri": "https://localhost:8080/"
        },
        "id": "0dMDHU8cnF3I",
        "outputId": "60cd6e72-4735-4140-ddb6-2467c248578d"
      },
      "execution_count": null,
      "outputs": [
        {
          "output_type": "execute_result",
          "data": {
            "text/plain": [
              "(150, 2)"
            ]
          },
          "metadata": {},
          "execution_count": 4
        }
      ]
    },
    {
      "cell_type": "markdown",
      "source": [
        "- PCA vs LDA\n",
        "<br>\n",
        "\n",
        "![image.png](data:image/png;base64,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)"
      ],
      "metadata": {
        "id": "E_hzK5uYq2Ex"
      }
    },
    {
      "cell_type": "code",
      "source": [
        "# PCA\n",
        "pca.fit_transform(x_scaled)\n",
        "\n",
        "# LDA\n",
        "lda.fit(x_scaled, df['target'])\n",
        "comp = lda.transform(x_scaled)"
      ],
      "metadata": {
        "id": "ZuTpbo2Unem9"
      },
      "execution_count": null,
      "outputs": []
    },
    {
      "cell_type": "code",
      "source": [
        "lda_df = pd.DataFrame(comp, columns=['Comp1', 'Comp2'])\n",
        "lda_df['target'] = iris.target\n",
        "\n",
        "lda_df.head()"
      ],
      "metadata": {
        "colab": {
          "base_uri": "https://localhost:8080/",
          "height": 206
        },
        "id": "Sr1dUCUzq5an",
        "outputId": "f9b78713-29bd-41e3-cbf0-23a36f471f99"
      },
      "execution_count": null,
      "outputs": [
        {
          "output_type": "execute_result",
          "data": {
            "text/plain": [
              "      Comp1     Comp2  target\n",
              "0  8.061800  0.300421       0\n",
              "1  7.128688 -0.786660       0\n",
              "2  7.489828 -0.265384       0\n",
              "3  6.813201 -0.670631       0\n",
              "4  8.132309  0.514463       0"
            ],
            "text/html": [
              "\n",
              "  <div id=\"df-951ebce8-7c45-46bb-8591-0d5a7dfc9759\">\n",
              "    <div class=\"colab-df-container\">\n",
              "      <div>\n",
              "<style scoped>\n",
              "    .dataframe tbody tr th:only-of-type {\n",
              "        vertical-align: middle;\n",
              "    }\n",
              "\n",
              "    .dataframe tbody tr th {\n",
              "        vertical-align: top;\n",
              "    }\n",
              "\n",
              "    .dataframe thead th {\n",
              "        text-align: right;\n",
              "    }\n",
              "</style>\n",
              "<table border=\"1\" class=\"dataframe\">\n",
              "  <thead>\n",
              "    <tr style=\"text-align: right;\">\n",
              "      <th></th>\n",
              "      <th>Comp1</th>\n",
              "      <th>Comp2</th>\n",
              "      <th>target</th>\n",
              "    </tr>\n",
              "  </thead>\n",
              "  <tbody>\n",
              "    <tr>\n",
              "      <th>0</th>\n",
              "      <td>8.061800</td>\n",
              "      <td>0.300421</td>\n",
              "      <td>0</td>\n",
              "    </tr>\n",
              "    <tr>\n",
              "      <th>1</th>\n",
              "      <td>7.128688</td>\n",
              "      <td>-0.786660</td>\n",
              "      <td>0</td>\n",
              "    </tr>\n",
              "    <tr>\n",
              "      <th>2</th>\n",
              "      <td>7.489828</td>\n",
              "      <td>-0.265384</td>\n",
              "      <td>0</td>\n",
              "    </tr>\n",
              "    <tr>\n",
              "      <th>3</th>\n",
              "      <td>6.813201</td>\n",
              "      <td>-0.670631</td>\n",
              "      <td>0</td>\n",
              "    </tr>\n",
              "    <tr>\n",
              "      <th>4</th>\n",
              "      <td>8.132309</td>\n",
              "      <td>0.514463</td>\n",
              "      <td>0</td>\n",
              "    </tr>\n",
              "  </tbody>\n",
              "</table>\n",
              "</div>\n",
              "      <button class=\"colab-df-convert\" onclick=\"convertToInteractive('df-951ebce8-7c45-46bb-8591-0d5a7dfc9759')\"\n",
              "              title=\"Convert this dataframe to an interactive table.\"\n",
              "              style=\"display:none;\">\n",
              "        \n",
              "  <svg xmlns=\"http://www.w3.org/2000/svg\" height=\"24px\"viewBox=\"0 0 24 24\"\n",
              "       width=\"24px\">\n",
              "    <path d=\"M0 0h24v24H0V0z\" fill=\"none\"/>\n",
              "    <path d=\"M18.56 5.44l.94 2.06.94-2.06 2.06-.94-2.06-.94-.94-2.06-.94 2.06-2.06.94zm-11 1L8.5 8.5l.94-2.06 2.06-.94-2.06-.94L8.5 2.5l-.94 2.06-2.06.94zm10 10l.94 2.06.94-2.06 2.06-.94-2.06-.94-.94-2.06-.94 2.06-2.06.94z\"/><path d=\"M17.41 7.96l-1.37-1.37c-.4-.4-.92-.59-1.43-.59-.52 0-1.04.2-1.43.59L10.3 9.45l-7.72 7.72c-.78.78-.78 2.05 0 2.83L4 21.41c.39.39.9.59 1.41.59.51 0 1.02-.2 1.41-.59l7.78-7.78 2.81-2.81c.8-.78.8-2.07 0-2.86zM5.41 20L4 18.59l7.72-7.72 1.47 1.35L5.41 20z\"/>\n",
              "  </svg>\n",
              "      </button>\n",
              "      \n",
              "  <style>\n",
              "    .colab-df-container {\n",
              "      display:flex;\n",
              "      flex-wrap:wrap;\n",
              "      gap: 12px;\n",
              "    }\n",
              "\n",
              "    .colab-df-convert {\n",
              "      background-color: #E8F0FE;\n",
              "      border: none;\n",
              "      border-radius: 50%;\n",
              "      cursor: pointer;\n",
              "      display: none;\n",
              "      fill: #1967D2;\n",
              "      height: 32px;\n",
              "      padding: 0 0 0 0;\n",
              "      width: 32px;\n",
              "    }\n",
              "\n",
              "    .colab-df-convert:hover {\n",
              "      background-color: #E2EBFA;\n",
              "      box-shadow: 0px 1px 2px rgba(60, 64, 67, 0.3), 0px 1px 3px 1px rgba(60, 64, 67, 0.15);\n",
              "      fill: #174EA6;\n",
              "    }\n",
              "\n",
              "    [theme=dark] .colab-df-convert {\n",
              "      background-color: #3B4455;\n",
              "      fill: #D2E3FC;\n",
              "    }\n",
              "\n",
              "    [theme=dark] .colab-df-convert:hover {\n",
              "      background-color: #434B5C;\n",
              "      box-shadow: 0px 1px 3px 1px rgba(0, 0, 0, 0.15);\n",
              "      filter: drop-shadow(0px 1px 2px rgba(0, 0, 0, 0.3));\n",
              "      fill: #FFFFFF;\n",
              "    }\n",
              "  </style>\n",
              "\n",
              "      <script>\n",
              "        const buttonEl =\n",
              "          document.querySelector('#df-951ebce8-7c45-46bb-8591-0d5a7dfc9759 button.colab-df-convert');\n",
              "        buttonEl.style.display =\n",
              "          google.colab.kernel.accessAllowed ? 'block' : 'none';\n",
              "\n",
              "        async function convertToInteractive(key) {\n",
              "          const element = document.querySelector('#df-951ebce8-7c45-46bb-8591-0d5a7dfc9759');\n",
              "          const dataTable =\n",
              "            await google.colab.kernel.invokeFunction('convertToInteractive',\n",
              "                                                     [key], {});\n",
              "          if (!dataTable) return;\n",
              "\n",
              "          const docLinkHtml = 'Like what you see? Visit the ' +\n",
              "            '<a target=\"_blank\" href=https://colab.research.google.com/notebooks/data_table.ipynb>data table notebook</a>'\n",
              "            + ' to learn more about interactive tables.';\n",
              "          element.innerHTML = '';\n",
              "          dataTable['output_type'] = 'display_data';\n",
              "          await google.colab.output.renderOutput(dataTable, element);\n",
              "          const docLink = document.createElement('div');\n",
              "          docLink.innerHTML = docLinkHtml;\n",
              "          element.appendChild(docLink);\n",
              "        }\n",
              "      </script>\n",
              "    </div>\n",
              "  </div>\n",
              "  "
            ]
          },
          "metadata": {},
          "execution_count": 5
        }
      ]
    },
    {
      "cell_type": "code",
      "source": [
        "# LDA 수행 후\n",
        "markers = ['^', 's', 'o']\n",
        "\n",
        "for i, m in enumerate(markers):\n",
        "    x_axis = lda_df[lda_df['target'] == i]['Comp1']\n",
        "    y_axis = lda_df[lda_df['target'] == i]['Comp2']\n",
        "    plt.scatter(x_axis, y_axis, marker=m, label=iris.target_names[i])\n",
        "\n",
        "plt.legend()\n",
        "plt.show()"
      ],
      "metadata": {
        "colab": {
          "base_uri": "https://localhost:8080/",
          "height": 269
        },
        "id": "qzRmFMgXq_SL",
        "outputId": "9ac5e664-ef7c-4d03-ddda-66e304603361"
      },
      "execution_count": null,
      "outputs": [
        {
          "output_type": "display_data",
          "data": {
            "text/plain": [
              "<Figure size 432x288 with 1 Axes>"
            ],
            "image/png": "[encoded data removed]"
          },
          "metadata": {
            "needs_background": "light"
          }
        }
      ]
    },
    {
      "cell_type": "code",
      "source": [
        "# 표준편차\n",
        "lda_std = pd.DataFrame(lda_df.std()).T.drop(['target'], axis=1)\n",
        "\n",
        "# 분산 기여율\n",
        "lda_var = pd.DataFrame(lda.explained_variance_ratio_).set_index(lda_std.columns).T\n",
        "\n",
        "# 누적 기여율\n",
        "lda_cumsum = pd.DataFrame(lda.explained_variance_ratio_.cumsum()).set_index(lda_std.columns).T"
      ],
      "metadata": {
        "id": "pjss2wB1tw27"
      },
      "execution_count": null,
      "outputs": []
    },
    {
      "cell_type": "code",
      "source": [
        "lda_result = pd.concat([lda_std, lda_var, lda_cumsum], axis=0)\n",
        "lda_result.index = ['Standard deviation', 'Propotion of variance', 'Cumulative proportion']\n",
        "lda_result"
      ],
      "metadata": {
        "colab": {
          "base_uri": "https://localhost:8080/",
          "height": 143
        },
        "id": "rhDBolwgub_V",
        "outputId": "3527c983-03ec-40ea-ab4f-05822841889b"
      },
      "execution_count": null,
      "outputs": [
        {
          "output_type": "execute_result",
          "data": {
            "text/plain": [
              "                          Comp1     Comp2\n",
              "Standard deviation     5.722447  1.126116\n",
              "Propotion of variance  0.991213  0.008787\n",
              "Cumulative proportion  0.991213  1.000000"
            ],
            "text/html": [
              "\n",
              "  <div id=\"df-cd1982dc-5062-4313-908b-86f6fc7a5805\">\n",
              "    <div class=\"colab-df-container\">\n",
              "      <div>\n",
              "<style scoped>\n",
              "    .dataframe tbody tr th:only-of-type {\n",
              "        vertical-align: middle;\n",
              "    }\n",
              "\n",
              "    .dataframe tbody tr th {\n",
              "        vertical-align: top;\n",
              "    }\n",
              "\n",
              "    .dataframe thead th {\n",
              "        text-align: right;\n",
              "    }\n",
              "</style>\n",
              "<table border=\"1\" class=\"dataframe\">\n",
              "  <thead>\n",
              "    <tr style=\"text-align: right;\">\n",
              "      <th></th>\n",
              "      <th>Comp1</th>\n",
              "      <th>Comp2</th>\n",
              "    </tr>\n",
              "  </thead>\n",
              "  <tbody>\n",
              "    <tr>\n",
              "      <th>Standard deviation</th>\n",
              "      <td>5.722447</td>\n",
              "      <td>1.126116</td>\n",
              "    </tr>\n",
              "    <tr>\n",
              "      <th>Propotion of variance</th>\n",
              "      <td>0.991213</td>\n",
              "      <td>0.008787</td>\n",
              "    </tr>\n",
              "    <tr>\n",
              "      <th>Cumulative proportion</th>\n",
              "      <td>0.991213</td>\n",
              "      <td>1.000000</td>\n",
              "    </tr>\n",
              "  </tbody>\n",
              "</table>\n",
              "</div>\n",
              "      <button class=\"colab-df-convert\" onclick=\"convertToInteractive('df-cd1982dc-5062-4313-908b-86f6fc7a5805')\"\n",
              "              title=\"Convert this dataframe to an interactive table.\"\n",
              "              style=\"display:none;\">\n",
              "        \n",
              "  <svg xmlns=\"http://www.w3.org/2000/svg\" height=\"24px\"viewBox=\"0 0 24 24\"\n",
              "       width=\"24px\">\n",
              "    <path d=\"M0 0h24v24H0V0z\" fill=\"none\"/>\n",
              "    <path d=\"M18.56 5.44l.94 2.06.94-2.06 2.06-.94-2.06-.94-.94-2.06-.94 2.06-2.06.94zm-11 1L8.5 8.5l.94-2.06 2.06-.94-2.06-.94L8.5 2.5l-.94 2.06-2.06.94zm10 10l.94 2.06.94-2.06 2.06-.94-2.06-.94-.94-2.06-.94 2.06-2.06.94z\"/><path d=\"M17.41 7.96l-1.37-1.37c-.4-.4-.92-.59-1.43-.59-.52 0-1.04.2-1.43.59L10.3 9.45l-7.72 7.72c-.78.78-.78 2.05 0 2.83L4 21.41c.39.39.9.59 1.41.59.51 0 1.02-.2 1.41-.59l7.78-7.78 2.81-2.81c.8-.78.8-2.07 0-2.86zM5.41 20L4 18.59l7.72-7.72 1.47 1.35L5.41 20z\"/>\n",
              "  </svg>\n",
              "      </button>\n",
              "      \n",
              "  <style>\n",
              "    .colab-df-container {\n",
              "      display:flex;\n",
              "      flex-wrap:wrap;\n",
              "      gap: 12px;\n",
              "    }\n",
              "\n",
              "    .colab-df-convert {\n",
              "      background-color: #E8F0FE;\n",
              "      border: none;\n",
              "      border-radius: 50%;\n",
              "      cursor: pointer;\n",
              "      display: none;\n",
              "      fill: #1967D2;\n",
              "      height: 32px;\n",
              "      padding: 0 0 0 0;\n",
              "      width: 32px;\n",
              "    }\n",
              "\n",
              "    .colab-df-convert:hover {\n",
              "      background-color: #E2EBFA;\n",
              "      box-shadow: 0px 1px 2px rgba(60, 64, 67, 0.3), 0px 1px 3px 1px rgba(60, 64, 67, 0.15);\n",
              "      fill: #174EA6;\n",
              "    }\n",
              "\n",
              "    [theme=dark] .colab-df-convert {\n",
              "      background-color: #3B4455;\n",
              "      fill: #D2E3FC;\n",
              "    }\n",
              "\n",
              "    [theme=dark] .colab-df-convert:hover {\n",
              "      background-color: #434B5C;\n",
              "      box-shadow: 0px 1px 3px 1px rgba(0, 0, 0, 0.15);\n",
              "      filter: drop-shadow(0px 1px 2px rgba(0, 0, 0, 0.3));\n",
              "      fill: #FFFFFF;\n",
              "    }\n",
              "  </style>\n",
              "\n",
              "      <script>\n",
              "        const buttonEl =\n",
              "          document.querySelector('#df-cd1982dc-5062-4313-908b-86f6fc7a5805 button.colab-df-convert');\n",
              "        buttonEl.style.display =\n",
              "          google.colab.kernel.accessAllowed ? 'block' : 'none';\n",
              "\n",
              "        async function convertToInteractive(key) {\n",
              "          const element = document.querySelector('#df-cd1982dc-5062-4313-908b-86f6fc7a5805');\n",
              "          const dataTable =\n",
              "            await google.colab.kernel.invokeFunction('convertToInteractive',\n",
              "                                                     [key], {});\n",
              "          if (!dataTable) return;\n",
              "\n",
              "          const docLinkHtml = 'Like what you see? Visit the ' +\n",
              "            '<a target=\"_blank\" href=https://colab.research.google.com/notebooks/data_table.ipynb>data table notebook</a>'\n",
              "            + ' to learn more about interactive tables.';\n",
              "          element.innerHTML = '';\n",
              "          dataTable['output_type'] = 'display_data';\n",
              "          await google.colab.output.renderOutput(dataTable, element);\n",
              "          const docLink = document.createElement('div');\n",
              "          docLink.innerHTML = docLinkHtml;\n",
              "          element.appendChild(docLink);\n",
              "        }\n",
              "      </script>\n",
              "    </div>\n",
              "  </div>\n",
              "  "
            ]
          },
          "metadata": {},
          "execution_count": 8
        }
      ]
    },
    {
      "cell_type": "markdown",
      "source": [
        "## SVD(Singular Value Decomposition)\n",
        "- `특이값 분해`\n",
        "- 동일한 중심을 가지는 데이터는 PCA를 돌리나 SVD를 돌리나 동일한 결과가 나타난다. 즉, 둘 다 동일한 스케일링을 해준다면, 동일한 작업을 수행한다.\n",
        "    - Why?  PCA가 SVD의 알고리즘 방식으로 구현됐기 때문이다.\n",
        "- `PCA`는 `정방행렬`을 사용했다면, `SVD`는 `m x n 행렬`을 사용한다.\n",
        "- numpy 와 scipy 로 수학적으로 행렬의 계산으로 할 수 있으나 사이킷런의 `TruncatedSVD` 사용한다.\n",
        "- `PCA`는 `밀집행렬`에 대한 변환만 가능하다면, `SVD`는 `희소행렬`에 대한 변환도 가능하다."
      ],
      "metadata": {
        "id": "GqE0DNSvvarp"
      }
    },
    {
      "cell_type": "code",
      "source": [
        "from sklearn.preprocessing import StandardScaler\n",
        "\n",
        "scaler = StandardScaler()\n",
        "x_scaled = scaler.fit_transform(df.iloc[:, :-1])"
      ],
      "metadata": {
        "id": "Lig7JC7xyumq"
      },
      "execution_count": null,
      "outputs": []
    },
    {
      "cell_type": "code",
      "source": [
        "# SVD 수행\n",
        "from sklearn.decomposition import TruncatedSVD\n",
        "\n",
        "svd = TruncatedSVD()\n",
        "comp = svd.fit_transform(x_scaled)\n",
        "\n",
        "comp.shape"
      ],
      "metadata": {
        "colab": {
          "base_uri": "https://localhost:8080/"
        },
        "id": "dd5t4SFVul_q",
        "outputId": "7b8f9cf9-1869-44fb-9364-0ed45698804a"
      },
      "execution_count": null,
      "outputs": [
        {
          "output_type": "execute_result",
          "data": {
            "text/plain": [
              "(150, 2)"
            ]
          },
          "metadata": {},
          "execution_count": 9
        }
      ]
    },
    {
      "cell_type": "code",
      "source": [
        "svd_df = pd.DataFrame(comp, columns=['Comp1', 'Comp2'])\n",
        "svd_df['target'] = iris.target\n",
        "\n",
        "svd_df.head()"
      ],
      "metadata": {
        "colab": {
          "base_uri": "https://localhost:8080/",
          "height": 206
        },
        "id": "qFyRx2jrzFpG",
        "outputId": "6d5af561-8ff6-4ba9-a883-362823051ca0"
      },
      "execution_count": null,
      "outputs": [
        {
          "output_type": "execute_result",
          "data": {
            "text/plain": [
              "      Comp1     Comp2  target\n",
              "0 -2.264703  0.480027       0\n",
              "1 -2.080961 -0.674134       0\n",
              "2 -2.364229 -0.341908       0\n",
              "3 -2.299384 -0.597395       0\n",
              "4 -2.389842  0.646835       0"
            ],
            "text/html": [
              "\n",
              "  <div id=\"df-40ca7609-ed67-4e45-a145-4c4138a62036\">\n",
              "    <div class=\"colab-df-container\">\n",
              "      <div>\n",
              "<style scoped>\n",
              "    .dataframe tbody tr th:only-of-type {\n",
              "        vertical-align: middle;\n",
              "    }\n",
              "\n",
              "    .dataframe tbody tr th {\n",
              "        vertical-align: top;\n",
              "    }\n",
              "\n",
              "    .dataframe thead th {\n",
              "        text-align: right;\n",
              "    }\n",
              "</style>\n",
              "<table border=\"1\" class=\"dataframe\">\n",
              "  <thead>\n",
              "    <tr style=\"text-align: right;\">\n",
              "      <th></th>\n",
              "      <th>Comp1</th>\n",
              "      <th>Comp2</th>\n",
              "      <th>target</th>\n",
              "    </tr>\n",
              "  </thead>\n",
              "  <tbody>\n",
              "    <tr>\n",
              "      <th>0</th>\n",
              "      <td>-2.264703</td>\n",
              "      <td>0.480027</td>\n",
              "      <td>0</td>\n",
              "    </tr>\n",
              "    <tr>\n",
              "      <th>1</th>\n",
              "      <td>-2.080961</td>\n",
              "      <td>-0.674134</td>\n",
              "      <td>0</td>\n",
              "    </tr>\n",
              "    <tr>\n",
              "      <th>2</th>\n",
              "      <td>-2.364229</td>\n",
              "      <td>-0.341908</td>\n",
              "      <td>0</td>\n",
              "    </tr>\n",
              "    <tr>\n",
              "      <th>3</th>\n",
              "      <td>-2.299384</td>\n",
              "      <td>-0.597395</td>\n",
              "      <td>0</td>\n",
              "    </tr>\n",
              "    <tr>\n",
              "      <th>4</th>\n",
              "      <td>-2.389842</td>\n",
              "      <td>0.646835</td>\n",
              "      <td>0</td>\n",
              "    </tr>\n",
              "  </tbody>\n",
              "</table>\n",
              "</div>\n",
              "      <button class=\"colab-df-convert\" onclick=\"convertToInteractive('df-40ca7609-ed67-4e45-a145-4c4138a62036')\"\n",
              "              title=\"Convert this dataframe to an interactive table.\"\n",
              "              style=\"display:none;\">\n",
              "        \n",
              "  <svg xmlns=\"http://www.w3.org/2000/svg\" height=\"24px\"viewBox=\"0 0 24 24\"\n",
              "       width=\"24px\">\n",
              "    <path d=\"M0 0h24v24H0V0z\" fill=\"none\"/>\n",
              "    <path d=\"M18.56 5.44l.94 2.06.94-2.06 2.06-.94-2.06-.94-.94-2.06-.94 2.06-2.06.94zm-11 1L8.5 8.5l.94-2.06 2.06-.94-2.06-.94L8.5 2.5l-.94 2.06-2.06.94zm10 10l.94 2.06.94-2.06 2.06-.94-2.06-.94-.94-2.06-.94 2.06-2.06.94z\"/><path d=\"M17.41 7.96l-1.37-1.37c-.4-.4-.92-.59-1.43-.59-.52 0-1.04.2-1.43.59L10.3 9.45l-7.72 7.72c-.78.78-.78 2.05 0 2.83L4 21.41c.39.39.9.59 1.41.59.51 0 1.02-.2 1.41-.59l7.78-7.78 2.81-2.81c.8-.78.8-2.07 0-2.86zM5.41 20L4 18.59l7.72-7.72 1.47 1.35L5.41 20z\"/>\n",
              "  </svg>\n",
              "      </button>\n",
              "      \n",
              "  <style>\n",
              "    .colab-df-container {\n",
              "      display:flex;\n",
              "      flex-wrap:wrap;\n",
              "      gap: 12px;\n",
              "    }\n",
              "\n",
              "    .colab-df-convert {\n",
              "      background-color: #E8F0FE;\n",
              "      border: none;\n",
              "      border-radius: 50%;\n",
              "      cursor: pointer;\n",
              "      display: none;\n",
              "      fill: #1967D2;\n",
              "      height: 32px;\n",
              "      padding: 0 0 0 0;\n",
              "      width: 32px;\n",
              "    }\n",
              "\n",
              "    .colab-df-convert:hover {\n",
              "      background-color: #E2EBFA;\n",
              "      box-shadow: 0px 1px 2px rgba(60, 64, 67, 0.3), 0px 1px 3px 1px rgba(60, 64, 67, 0.15);\n",
              "      fill: #174EA6;\n",
              "    }\n",
              "\n",
              "    [theme=dark] .colab-df-convert {\n",
              "      background-color: #3B4455;\n",
              "      fill: #D2E3FC;\n",
              "    }\n",
              "\n",
              "    [theme=dark] .colab-df-convert:hover {\n",
              "      background-color: #434B5C;\n",
              "      box-shadow: 0px 1px 3px 1px rgba(0, 0, 0, 0.15);\n",
              "      filter: drop-shadow(0px 1px 2px rgba(0, 0, 0, 0.3));\n",
              "      fill: #FFFFFF;\n",
              "    }\n",
              "  </style>\n",
              "\n",
              "      <script>\n",
              "        const buttonEl =\n",
              "          document.querySelector('#df-40ca7609-ed67-4e45-a145-4c4138a62036 button.colab-df-convert');\n",
              "        buttonEl.style.display =\n",
              "          google.colab.kernel.accessAllowed ? 'block' : 'none';\n",
              "\n",
              "        async function convertToInteractive(key) {\n",
              "          const element = document.querySelector('#df-40ca7609-ed67-4e45-a145-4c4138a62036');\n",
              "          const dataTable =\n",
              "            await google.colab.kernel.invokeFunction('convertToInteractive',\n",
              "                                                     [key], {});\n",
              "          if (!dataTable) return;\n",
              "\n",
              "          const docLinkHtml = 'Like what you see? Visit the ' +\n",
              "            '<a target=\"_blank\" href=https://colab.research.google.com/notebooks/data_table.ipynb>data table notebook</a>'\n",
              "            + ' to learn more about interactive tables.';\n",
              "          element.innerHTML = '';\n",
              "          dataTable['output_type'] = 'display_data';\n",
              "          await google.colab.output.renderOutput(dataTable, element);\n",
              "          const docLink = document.createElement('div');\n",
              "          docLink.innerHTML = docLinkHtml;\n",
              "          element.appendChild(docLink);\n",
              "        }\n",
              "      </script>\n",
              "    </div>\n",
              "  </div>\n",
              "  "
            ]
          },
          "metadata": {},
          "execution_count": 10
        }
      ]
    },
    {
      "cell_type": "code",
      "source": [
        "# SVD 수행 후\n",
        "markers = ['^', 's', 'o']\n",
        "\n",
        "for i, m in enumerate(markers):\n",
        "    x_axis = svd_df[svd_df['target'] == i]['Comp1']\n",
        "    y_axis = svd_df[svd_df['target'] == i]['Comp2']\n",
        "    plt.scatter(x_axis, y_axis, marker=m, label=iris.target_names[i])\n",
        "\n",
        "plt.legend()\n",
        "plt.show()"
      ],
      "metadata": {
        "colab": {
          "base_uri": "https://localhost:8080/",
          "height": 265
        },
        "id": "jwccrvUfzsM5",
        "outputId": "9e81c7d1-228c-4b9c-ac9d-8fddffe6e878"
      },
      "execution_count": null,
      "outputs": [
        {
          "output_type": "display_data",
          "data": {
            "text/plain": [
              "<Figure size 432x288 with 1 Axes>"
            ],
            "image/png": "[encoded data removed]"
          },
          "metadata": {
            "needs_background": "light"
          }
        }
      ]
    },
    {
      "cell_type": "code",
      "source": [
        "# 표준편차\n",
        "svd_std = pd.DataFrame(svd_df.std()).T.drop(['target'], axis=1)\n",
        "\n",
        "# 분산 기여율\n",
        "svd_var = pd.DataFrame(svd.explained_variance_ratio_).set_index(svd_std.columns).T\n",
        "\n",
        "# 누적 기여율\n",
        "svd_cumsum = pd.DataFrame(svd.explained_variance_ratio_.cumsum()).set_index(svd_std.columns).T"
      ],
      "metadata": {
        "id": "Mklwsw1szy4H"
      },
      "execution_count": null,
      "outputs": []
    },
    {
      "cell_type": "code",
      "source": [
        "svd_result = pd.concat([svd_std, svd_var, svd_cumsum], axis=0)\n",
        "svd_result.index = ['Standard deviation', 'Propotion of variance', 'Cumulative proportion']\n",
        "svd_result"
      ],
      "metadata": {
        "colab": {
          "base_uri": "https://localhost:8080/",
          "height": 143
        },
        "id": "PmoZ8uVM0BCs",
        "outputId": "db2ae70d-b45e-4353-bfbd-085c7bf5b612"
      },
      "execution_count": null,
      "outputs": [
        {
          "output_type": "execute_result",
          "data": {
            "text/plain": [
              "                          Comp1     Comp2\n",
              "Standard deviation     1.714084  0.959252\n",
              "Propotion of variance  0.729624  0.228508\n",
              "Cumulative proportion  0.729624  0.958132"
            ],
            "text/html": [
              "\n",
              "  <div id=\"df-b7cd2cc4-9899-4986-820d-81e4919bb60f\">\n",
              "    <div class=\"colab-df-container\">\n",
              "      <div>\n",
              "<style scoped>\n",
              "    .dataframe tbody tr th:only-of-type {\n",
              "        vertical-align: middle;\n",
              "    }\n",
              "\n",
              "    .dataframe tbody tr th {\n",
              "        vertical-align: top;\n",
              "    }\n",
              "\n",
              "    .dataframe thead th {\n",
              "        text-align: right;\n",
              "    }\n",
              "</style>\n",
              "<table border=\"1\" class=\"dataframe\">\n",
              "  <thead>\n",
              "    <tr style=\"text-align: right;\">\n",
              "      <th></th>\n",
              "      <th>Comp1</th>\n",
              "      <th>Comp2</th>\n",
              "    </tr>\n",
              "  </thead>\n",
              "  <tbody>\n",
              "    <tr>\n",
              "      <th>Standard deviation</th>\n",
              "      <td>1.714084</td>\n",
              "      <td>0.959252</td>\n",
              "    </tr>\n",
              "    <tr>\n",
              "      <th>Propotion of variance</th>\n",
              "      <td>0.729624</td>\n",
              "      <td>0.228508</td>\n",
              "    </tr>\n",
              "    <tr>\n",
              "      <th>Cumulative proportion</th>\n",
              "      <td>0.729624</td>\n",
              "      <td>0.958132</td>\n",
              "    </tr>\n",
              "  </tbody>\n",
              "</table>\n",
              "</div>\n",
              "      <button class=\"colab-df-convert\" onclick=\"convertToInteractive('df-b7cd2cc4-9899-4986-820d-81e4919bb60f')\"\n",
              "              title=\"Convert this dataframe to an interactive table.\"\n",
              "              style=\"display:none;\">\n",
              "        \n",
              "  <svg xmlns=\"http://www.w3.org/2000/svg\" height=\"24px\"viewBox=\"0 0 24 24\"\n",
              "       width=\"24px\">\n",
              "    <path d=\"M0 0h24v24H0V0z\" fill=\"none\"/>\n",
              "    <path d=\"M18.56 5.44l.94 2.06.94-2.06 2.06-.94-2.06-.94-.94-2.06-.94 2.06-2.06.94zm-11 1L8.5 8.5l.94-2.06 2.06-.94-2.06-.94L8.5 2.5l-.94 2.06-2.06.94zm10 10l.94 2.06.94-2.06 2.06-.94-2.06-.94-.94-2.06-.94 2.06-2.06.94z\"/><path d=\"M17.41 7.96l-1.37-1.37c-.4-.4-.92-.59-1.43-.59-.52 0-1.04.2-1.43.59L10.3 9.45l-7.72 7.72c-.78.78-.78 2.05 0 2.83L4 21.41c.39.39.9.59 1.41.59.51 0 1.02-.2 1.41-.59l7.78-7.78 2.81-2.81c.8-.78.8-2.07 0-2.86zM5.41 20L4 18.59l7.72-7.72 1.47 1.35L5.41 20z\"/>\n",
              "  </svg>\n",
              "      </button>\n",
              "      \n",
              "  <style>\n",
              "    .colab-df-container {\n",
              "      display:flex;\n",
              "      flex-wrap:wrap;\n",
              "      gap: 12px;\n",
              "    }\n",
              "\n",
              "    .colab-df-convert {\n",
              "      background-color: #E8F0FE;\n",
              "      border: none;\n",
              "      border-radius: 50%;\n",
              "      cursor: pointer;\n",
              "      display: none;\n",
              "      fill: #1967D2;\n",
              "      height: 32px;\n",
              "      padding: 0 0 0 0;\n",
              "      width: 32px;\n",
              "    }\n",
              "\n",
              "    .colab-df-convert:hover {\n",
              "      background-color: #E2EBFA;\n",
              "      box-shadow: 0px 1px 2px rgba(60, 64, 67, 0.3), 0px 1px 3px 1px rgba(60, 64, 67, 0.15);\n",
              "      fill: #174EA6;\n",
              "    }\n",
              "\n",
              "    [theme=dark] .colab-df-convert {\n",
              "      background-color: #3B4455;\n",
              "      fill: #D2E3FC;\n",
              "    }\n",
              "\n",
              "    [theme=dark] .colab-df-convert:hover {\n",
              "      background-color: #434B5C;\n",
              "      box-shadow: 0px 1px 3px 1px rgba(0, 0, 0, 0.15);\n",
              "      filter: drop-shadow(0px 1px 2px rgba(0, 0, 0, 0.3));\n",
              "      fill: #FFFFFF;\n",
              "    }\n",
              "  </style>\n",
              "\n",
              "      <script>\n",
              "        const buttonEl =\n",
              "          document.querySelector('#df-b7cd2cc4-9899-4986-820d-81e4919bb60f button.colab-df-convert');\n",
              "        buttonEl.style.display =\n",
              "          google.colab.kernel.accessAllowed ? 'block' : 'none';\n",
              "\n",
              "        async function convertToInteractive(key) {\n",
              "          const element = document.querySelector('#df-b7cd2cc4-9899-4986-820d-81e4919bb60f');\n",
              "          const dataTable =\n",
              "            await google.colab.kernel.invokeFunction('convertToInteractive',\n",
              "                                                     [key], {});\n",
              "          if (!dataTable) return;\n",
              "\n",
              "          const docLinkHtml = 'Like what you see? Visit the ' +\n",
              "            '<a target=\"_blank\" href=https://colab.research.google.com/notebooks/data_table.ipynb>data table notebook</a>'\n",
              "            + ' to learn more about interactive tables.';\n",
              "          element.innerHTML = '';\n",
              "          dataTable['output_type'] = 'display_data';\n",
              "          await google.colab.output.renderOutput(dataTable, element);\n",
              "          const docLink = document.createElement('div');\n",
              "          docLink.innerHTML = docLinkHtml;\n",
              "          element.appendChild(docLink);\n",
              "        }\n",
              "      </script>\n",
              "    </div>\n",
              "  </div>\n",
              "  "
            ]
          },
          "metadata": {},
          "execution_count": 13
        }
      ]
    },
    {
      "cell_type": "markdown",
      "source": [
        "## NMF(Non-Negative Matrix Factorization)\n",
        "- `비음수 행렬 분해`\n",
        "- 음수를 포함하지 않는 행렬의 행렬분해이다.\n",
        "- SVD와 유사하지만 원본 행렬 내의 모든 원소 값이 모두 양수라는게 보장되면 좀 더 간단하게 두개의 기반 양수 행렬로 분해할 수 있는 기법이다."
      ],
      "metadata": {
        "id": "nLWVCM-q0Kfv"
      }
    },
    {
      "cell_type": "code",
      "source": [
        "from sklearn.decomposition import NMF\n",
        "\n",
        "nmf = NMF()\n",
        "comp = nmf.fit_transform(iris.data)  # 음수값이 있는 데이터는 사용이 불가하다.\n",
        "\n",
        "comp.shape"
      ],
      "metadata": {
        "colab": {
          "base_uri": "https://localhost:8080/"
        },
        "id": "efxE6D9BaQze",
        "outputId": "b7c8577c-7ea0-48ad-93c1-d27ac5ff7199"
      },
      "execution_count": 13,
      "outputs": [
        {
          "output_type": "stream",
          "name": "stderr",
          "text": [
            "/usr/local/lib/python3.8/dist-packages/sklearn/decomposition/_nmf.py:289: FutureWarning: The 'init' value, when 'init=None' and n_components is less than n_samples and n_features, will be changed from 'nndsvd' to 'nndsvda' in 1.1 (renaming of 0.26).\n",
            "  warnings.warn(\n",
            "/usr/local/lib/python3.8/dist-packages/sklearn/decomposition/_nmf.py:1637: ConvergenceWarning: Maximum number of iterations 200 reached. Increase it to improve convergence.\n",
            "  warnings.warn(\n"
          ]
        },
        {
          "output_type": "execute_result",
          "data": {
            "text/plain": [
              "(150, 4)"
            ]
          },
          "metadata": {},
          "execution_count": 13
        }
      ]
    },
    {
      "cell_type": "code",
      "source": [
        "nmf_df = pd.DataFrame(comp, columns=['Comp1', 'Comp2', 'Comp3', 'Comp4'])\n",
        "nmf_df['target'] = iris.target\n",
        "\n",
        "nmf_df.head()"
      ],
      "metadata": {
        "colab": {
          "base_uri": "https://localhost:8080/",
          "height": 206
        },
        "id": "WQx6HHypanLN",
        "outputId": "fc53d818-1b8d-4ebd-e3eb-c8f837a1d6e4"
      },
      "execution_count": 14,
      "outputs": [
        {
          "output_type": "execute_result",
          "data": {
            "text/plain": [
              "      Comp1     Comp2     Comp3     Comp4  target\n",
              "0  0.247574  1.031088  0.027019  0.018325       0\n",
              "1  0.284162  0.900433  0.004445  0.030612       0\n",
              "2  0.231275  0.944144  0.023333  0.021675       0\n",
              "3  0.260587  0.857330  0.032715  0.013894       0\n",
              "4  0.227945  1.039659  0.039124  0.011740       0"
            ],
            "text/html": [
              "\n",
              "  <div id=\"df-2b0782a0-5728-4237-a244-ec45b73d4128\">\n",
              "    <div class=\"colab-df-container\">\n",
              "      <div>\n",
              "<style scoped>\n",
              "    .dataframe tbody tr th:only-of-type {\n",
              "        vertical-align: middle;\n",
              "    }\n",
              "\n",
              "    .dataframe tbody tr th {\n",
              "        vertical-align: top;\n",
              "    }\n",
              "\n",
              "    .dataframe thead th {\n",
              "        text-align: right;\n",
              "    }\n",
              "</style>\n",
              "<table border=\"1\" class=\"dataframe\">\n",
              "  <thead>\n",
              "    <tr style=\"text-align: right;\">\n",
              "      <th></th>\n",
              "      <th>Comp1</th>\n",
              "      <th>Comp2</th>\n",
              "      <th>Comp3</th>\n",
              "      <th>Comp4</th>\n",
              "      <th>target</th>\n",
              "    </tr>\n",
              "  </thead>\n",
              "  <tbody>\n",
              "    <tr>\n",
              "      <th>0</th>\n",
              "      <td>0.247574</td>\n",
              "      <td>1.031088</td>\n",
              "      <td>0.027019</td>\n",
              "      <td>0.018325</td>\n",
              "      <td>0</td>\n",
              "    </tr>\n",
              "    <tr>\n",
              "      <th>1</th>\n",
              "      <td>0.284162</td>\n",
              "      <td>0.900433</td>\n",
              "      <td>0.004445</td>\n",
              "      <td>0.030612</td>\n",
              "      <td>0</td>\n",
              "    </tr>\n",
              "    <tr>\n",
              "      <th>2</th>\n",
              "      <td>0.231275</td>\n",
              "      <td>0.944144</td>\n",
              "      <td>0.023333</td>\n",
              "      <td>0.021675</td>\n",
              "      <td>0</td>\n",
              "    </tr>\n",
              "    <tr>\n",
              "      <th>3</th>\n",
              "      <td>0.260587</td>\n",
              "      <td>0.857330</td>\n",
              "      <td>0.032715</td>\n",
              "      <td>0.013894</td>\n",
              "      <td>0</td>\n",
              "    </tr>\n",
              "    <tr>\n",
              "      <th>4</th>\n",
              "      <td>0.227945</td>\n",
              "      <td>1.039659</td>\n",
              "      <td>0.039124</td>\n",
              "      <td>0.011740</td>\n",
              "      <td>0</td>\n",
              "    </tr>\n",
              "  </tbody>\n",
              "</table>\n",
              "</div>\n",
              "      <button class=\"colab-df-convert\" onclick=\"convertToInteractive('df-2b0782a0-5728-4237-a244-ec45b73d4128')\"\n",
              "              title=\"Convert this dataframe to an interactive table.\"\n",
              "              style=\"display:none;\">\n",
              "        \n",
              "  <svg xmlns=\"http://www.w3.org/2000/svg\" height=\"24px\"viewBox=\"0 0 24 24\"\n",
              "       width=\"24px\">\n",
              "    <path d=\"M0 0h24v24H0V0z\" fill=\"none\"/>\n",
              "    <path d=\"M18.56 5.44l.94 2.06.94-2.06 2.06-.94-2.06-.94-.94-2.06-.94 2.06-2.06.94zm-11 1L8.5 8.5l.94-2.06 2.06-.94-2.06-.94L8.5 2.5l-.94 2.06-2.06.94zm10 10l.94 2.06.94-2.06 2.06-.94-2.06-.94-.94-2.06-.94 2.06-2.06.94z\"/><path d=\"M17.41 7.96l-1.37-1.37c-.4-.4-.92-.59-1.43-.59-.52 0-1.04.2-1.43.59L10.3 9.45l-7.72 7.72c-.78.78-.78 2.05 0 2.83L4 21.41c.39.39.9.59 1.41.59.51 0 1.02-.2 1.41-.59l7.78-7.78 2.81-2.81c.8-.78.8-2.07 0-2.86zM5.41 20L4 18.59l7.72-7.72 1.47 1.35L5.41 20z\"/>\n",
              "  </svg>\n",
              "      </button>\n",
              "      \n",
              "  <style>\n",
              "    .colab-df-container {\n",
              "      display:flex;\n",
              "      flex-wrap:wrap;\n",
              "      gap: 12px;\n",
              "    }\n",
              "\n",
              "    .colab-df-convert {\n",
              "      background-color: #E8F0FE;\n",
              "      border: none;\n",
              "      border-radius: 50%;\n",
              "      cursor: pointer;\n",
              "      display: none;\n",
              "      fill: #1967D2;\n",
              "      height: 32px;\n",
              "      padding: 0 0 0 0;\n",
              "      width: 32px;\n",
              "    }\n",
              "\n",
              "    .colab-df-convert:hover {\n",
              "      background-color: #E2EBFA;\n",
              "      box-shadow: 0px 1px 2px rgba(60, 64, 67, 0.3), 0px 1px 3px 1px rgba(60, 64, 67, 0.15);\n",
              "      fill: #174EA6;\n",
              "    }\n",
              "\n",
              "    [theme=dark] .colab-df-convert {\n",
              "      background-color: #3B4455;\n",
              "      fill: #D2E3FC;\n",
              "    }\n",
              "\n",
              "    [theme=dark] .colab-df-convert:hover {\n",
              "      background-color: #434B5C;\n",
              "      box-shadow: 0px 1px 3px 1px rgba(0, 0, 0, 0.15);\n",
              "      filter: drop-shadow(0px 1px 2px rgba(0, 0, 0, 0.3));\n",
              "      fill: #FFFFFF;\n",
              "    }\n",
              "  </style>\n",
              "\n",
              "      <script>\n",
              "        const buttonEl =\n",
              "          document.querySelector('#df-2b0782a0-5728-4237-a244-ec45b73d4128 button.colab-df-convert');\n",
              "        buttonEl.style.display =\n",
              "          google.colab.kernel.accessAllowed ? 'block' : 'none';\n",
              "\n",
              "        async function convertToInteractive(key) {\n",
              "          const element = document.querySelector('#df-2b0782a0-5728-4237-a244-ec45b73d4128');\n",
              "          const dataTable =\n",
              "            await google.colab.kernel.invokeFunction('convertToInteractive',\n",
              "                                                     [key], {});\n",
              "          if (!dataTable) return;\n",
              "\n",
              "          const docLinkHtml = 'Like what you see? Visit the ' +\n",
              "            '<a target=\"_blank\" href=https://colab.research.google.com/notebooks/data_table.ipynb>data table notebook</a>'\n",
              "            + ' to learn more about interactive tables.';\n",
              "          element.innerHTML = '';\n",
              "          dataTable['output_type'] = 'display_data';\n",
              "          await google.colab.output.renderOutput(dataTable, element);\n",
              "          const docLink = document.createElement('div');\n",
              "          docLink.innerHTML = docLinkHtml;\n",
              "          element.appendChild(docLink);\n",
              "        }\n",
              "      </script>\n",
              "    </div>\n",
              "  </div>\n",
              "  "
            ]
          },
          "metadata": {},
          "execution_count": 14
        }
      ]
    },
    {
      "cell_type": "code",
      "source": [
        "# NNF 수행 후\n",
        "markers = ['^', 's', 'o']\n",
        "\n",
        "for i, m in enumerate(markers):\n",
        "    x_axis = nmf_df[nmf_df['target'] == i]['Comp1']\n",
        "    y_axis = nmf_df[nmf_df['target'] == i]['Comp2']\n",
        "    plt.scatter(x_axis, y_axis, marker=m, label=iris.target_names[i])\n",
        "\n",
        "plt.legend()\n",
        "plt.show()"
      ],
      "metadata": {
        "colab": {
          "base_uri": "https://localhost:8080/",
          "height": 265
        },
        "id": "S6XPFUyGbR4F",
        "outputId": "e5d83946-aee9-4bde-d8cd-9b006847bc92"
      },
      "execution_count": 15,
      "outputs": [
        {
          "output_type": "display_data",
          "data": {
            "text/plain": [
              "<Figure size 432x288 with 1 Axes>"
            ],
            "image/png": "[encoded data removed]"
          },
          "metadata": {
            "needs_background": "light"
          }
        }
      ]
    },
    {
      "cell_type": "markdown",
      "source": [
        "## 정리\n",
        "### PCA\n",
        "```python\n",
        "from sklearn.decomposition import PCA\n",
        "```\n",
        "### LDA\n",
        "fit할 때 x, y 데이터 필요\n",
        "```python\n",
        "from sklearn.discriminant_analysis import LinearDiscriminantAnalysis\n",
        "```\n",
        "### SVD\n",
        "```python\n",
        "from sklearn.decomposition import TruncatedSVD\n",
        "```\n",
        "### NMF\n",
        "음수 데이터는 불가\n",
        "```python\n",
        "from sklearn.decomposition import NMF\n",
        "```"
      ],
      "metadata": {
        "id": "kUqrxJBPcgd0"
      }
    }
  ]
}