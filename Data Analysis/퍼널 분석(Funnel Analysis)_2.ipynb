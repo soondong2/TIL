{
 "cells": [
  {
   "attachments": {},
   "cell_type": "markdown",
   "metadata": {},
   "source": [
    "# Funnel Analysis"
   ]
  },
  {
   "attachments": {},
   "cell_type": "markdown",
   "metadata": {},
   "source": [
    "## Library Import"
   ]
  },
  {
   "cell_type": "code",
   "execution_count": 1,
   "metadata": {},
   "outputs": [],
   "source": [
    "import pandas as pd\n",
    "import numpy as np\n",
    "import seaborn as sns\n",
    "import matplotlib.pyplot as plt\n",
    "import plotly\n",
    "import plotly.express as px\n",
    "import chart_studio.plotly as py\n",
    "\n",
    "import plotly.figure_factory as ff\n",
    "from datetime import timedelta\n",
    "from plotly import graph_objects as go\n",
    "from plotly.offline import download_plotlyjs, init_notebook_mode, plot, iplot"
   ]
  },
  {
   "attachments": {},
   "cell_type": "markdown",
   "metadata": {},
   "source": [
    "## Data Load"
   ]
  },
  {
   "attachments": {},
   "cell_type": "markdown",
   "metadata": {},
   "source": [
    "데이터 용량이 커서 메모리 용량의 한계로 에러가 발생하므로 nrows를 통해 3천만개의 데이터만 불러옵니다."
   ]
  },
  {
   "cell_type": "code",
   "execution_count": 2,
   "metadata": {},
   "outputs": [],
   "source": [
    "df = pd.read_csv('C:/Users/USER/Desktop/Data/2019-Oct.csv', nrows=30000000)"
   ]
  },
  {
   "cell_type": "code",
   "execution_count": 3,
   "metadata": {},
   "outputs": [
    {
     "name": "stdout",
     "output_type": "stream",
     "text": [
      "(30000000, 9)\n"
     ]
    },
    {
     "data": {
      "text/html": [
       "<div>\n",
       "<style scoped>\n",
       "    .dataframe tbody tr th:only-of-type {\n",
       "        vertical-align: middle;\n",
       "    }\n",
       "\n",
       "    .dataframe tbody tr th {\n",
       "        vertical-align: top;\n",
       "    }\n",
       "\n",
       "    .dataframe thead th {\n",
       "        text-align: right;\n",
       "    }\n",
       "</style>\n",
       "<table border=\"1\" class=\"dataframe\">\n",
       "  <thead>\n",
       "    <tr style=\"text-align: right;\">\n",
       "      <th></th>\n",
       "      <th>event_time</th>\n",
       "      <th>event_type</th>\n",
       "      <th>product_id</th>\n",
       "      <th>category_id</th>\n",
       "      <th>category_code</th>\n",
       "      <th>brand</th>\n",
       "      <th>price</th>\n",
       "      <th>user_id</th>\n",
       "      <th>user_session</th>\n",
       "    </tr>\n",
       "  </thead>\n",
       "  <tbody>\n",
       "    <tr>\n",
       "      <th>0</th>\n",
       "      <td>2019-10-01 00:00:00 UTC</td>\n",
       "      <td>view</td>\n",
       "      <td>44600062</td>\n",
       "      <td>2103807459595387724</td>\n",
       "      <td>NaN</td>\n",
       "      <td>shiseido</td>\n",
       "      <td>35.79</td>\n",
       "      <td>541312140</td>\n",
       "      <td>72d76fde-8bb3-4e00-8c23-a032dfed738c</td>\n",
       "    </tr>\n",
       "    <tr>\n",
       "      <th>1</th>\n",
       "      <td>2019-10-01 00:00:00 UTC</td>\n",
       "      <td>view</td>\n",
       "      <td>3900821</td>\n",
       "      <td>2053013552326770905</td>\n",
       "      <td>appliances.environment.water_heater</td>\n",
       "      <td>aqua</td>\n",
       "      <td>33.20</td>\n",
       "      <td>554748717</td>\n",
       "      <td>9333dfbd-b87a-4708-9857-6336556b0fcc</td>\n",
       "    </tr>\n",
       "    <tr>\n",
       "      <th>2</th>\n",
       "      <td>2019-10-01 00:00:01 UTC</td>\n",
       "      <td>view</td>\n",
       "      <td>17200506</td>\n",
       "      <td>2053013559792632471</td>\n",
       "      <td>furniture.living_room.sofa</td>\n",
       "      <td>NaN</td>\n",
       "      <td>543.10</td>\n",
       "      <td>519107250</td>\n",
       "      <td>566511c2-e2e3-422b-b695-cf8e6e792ca8</td>\n",
       "    </tr>\n",
       "    <tr>\n",
       "      <th>3</th>\n",
       "      <td>2019-10-01 00:00:01 UTC</td>\n",
       "      <td>view</td>\n",
       "      <td>1307067</td>\n",
       "      <td>2053013558920217191</td>\n",
       "      <td>computers.notebook</td>\n",
       "      <td>lenovo</td>\n",
       "      <td>251.74</td>\n",
       "      <td>550050854</td>\n",
       "      <td>7c90fc70-0e80-4590-96f3-13c02c18c713</td>\n",
       "    </tr>\n",
       "    <tr>\n",
       "      <th>4</th>\n",
       "      <td>2019-10-01 00:00:04 UTC</td>\n",
       "      <td>view</td>\n",
       "      <td>1004237</td>\n",
       "      <td>2053013555631882655</td>\n",
       "      <td>electronics.smartphone</td>\n",
       "      <td>apple</td>\n",
       "      <td>1081.98</td>\n",
       "      <td>535871217</td>\n",
       "      <td>c6bd7419-2748-4c56-95b4-8cec9ff8b80d</td>\n",
       "    </tr>\n",
       "  </tbody>\n",
       "</table>\n",
       "</div>"
      ],
      "text/plain": [
       "                event_time event_type  product_id          category_id  \\\n",
       "0  2019-10-01 00:00:00 UTC       view    44600062  2103807459595387724   \n",
       "1  2019-10-01 00:00:00 UTC       view     3900821  2053013552326770905   \n",
       "2  2019-10-01 00:00:01 UTC       view    17200506  2053013559792632471   \n",
       "3  2019-10-01 00:00:01 UTC       view     1307067  2053013558920217191   \n",
       "4  2019-10-01 00:00:04 UTC       view     1004237  2053013555631882655   \n",
       "\n",
       "                         category_code     brand    price    user_id  \\\n",
       "0                                  NaN  shiseido    35.79  541312140   \n",
       "1  appliances.environment.water_heater      aqua    33.20  554748717   \n",
       "2           furniture.living_room.sofa       NaN   543.10  519107250   \n",
       "3                   computers.notebook    lenovo   251.74  550050854   \n",
       "4               electronics.smartphone     apple  1081.98  535871217   \n",
       "\n",
       "                           user_session  \n",
       "0  72d76fde-8bb3-4e00-8c23-a032dfed738c  \n",
       "1  9333dfbd-b87a-4708-9857-6336556b0fcc  \n",
       "2  566511c2-e2e3-422b-b695-cf8e6e792ca8  \n",
       "3  7c90fc70-0e80-4590-96f3-13c02c18c713  \n",
       "4  c6bd7419-2748-4c56-95b4-8cec9ff8b80d  "
      ]
     },
     "execution_count": 3,
     "metadata": {},
     "output_type": "execute_result"
    }
   ],
   "source": [
    "print(df.shape)\n",
    "df.head()"
   ]
  },
  {
   "cell_type": "code",
   "execution_count": 4,
   "metadata": {},
   "outputs": [
    {
     "data": {
      "text/html": [
       "<div>\n",
       "<style scoped>\n",
       "    .dataframe tbody tr th:only-of-type {\n",
       "        vertical-align: middle;\n",
       "    }\n",
       "\n",
       "    .dataframe tbody tr th {\n",
       "        vertical-align: top;\n",
       "    }\n",
       "\n",
       "    .dataframe thead th {\n",
       "        text-align: right;\n",
       "    }\n",
       "</style>\n",
       "<table border=\"1\" class=\"dataframe\">\n",
       "  <thead>\n",
       "    <tr style=\"text-align: right;\">\n",
       "      <th></th>\n",
       "      <th>event_time</th>\n",
       "      <th>event_type</th>\n",
       "      <th>product_id</th>\n",
       "      <th>category_id</th>\n",
       "      <th>category_code</th>\n",
       "      <th>brand</th>\n",
       "      <th>price</th>\n",
       "      <th>user_id</th>\n",
       "      <th>user_session</th>\n",
       "    </tr>\n",
       "  </thead>\n",
       "  <tbody>\n",
       "    <tr>\n",
       "      <th>29999995</th>\n",
       "      <td>2019-10-22 13:03:26 UTC</td>\n",
       "      <td>view</td>\n",
       "      <td>1004785</td>\n",
       "      <td>2053013555631882655</td>\n",
       "      <td>electronics.smartphone</td>\n",
       "      <td>huawei</td>\n",
       "      <td>270.52</td>\n",
       "      <td>521138476</td>\n",
       "      <td>a61e7319-33b7-48a3-a68c-b7a65320e9a4</td>\n",
       "    </tr>\n",
       "    <tr>\n",
       "      <th>29999996</th>\n",
       "      <td>2019-10-22 13:03:26 UTC</td>\n",
       "      <td>view</td>\n",
       "      <td>18000370</td>\n",
       "      <td>2053013558525952589</td>\n",
       "      <td>NaN</td>\n",
       "      <td>handwers</td>\n",
       "      <td>33.44</td>\n",
       "      <td>546750894</td>\n",
       "      <td>431042f4-3489-40b8-aaba-464f46846151</td>\n",
       "    </tr>\n",
       "    <tr>\n",
       "      <th>29999997</th>\n",
       "      <td>2019-10-22 13:03:26 UTC</td>\n",
       "      <td>view</td>\n",
       "      <td>1600591</td>\n",
       "      <td>2053013553056579841</td>\n",
       "      <td>computers.peripherals.printer</td>\n",
       "      <td>epson</td>\n",
       "      <td>282.89</td>\n",
       "      <td>525638463</td>\n",
       "      <td>f8d4956c-37fc-4758-88a6-2d855ef9eb8f</td>\n",
       "    </tr>\n",
       "    <tr>\n",
       "      <th>29999998</th>\n",
       "      <td>2019-10-22 13:03:26 UTC</td>\n",
       "      <td>view</td>\n",
       "      <td>4804055</td>\n",
       "      <td>2053013554658804075</td>\n",
       "      <td>electronics.audio.headphone</td>\n",
       "      <td>apple</td>\n",
       "      <td>190.20</td>\n",
       "      <td>556936192</td>\n",
       "      <td>fc00b366-b6b6-42db-a486-19bd4bc696cc</td>\n",
       "    </tr>\n",
       "    <tr>\n",
       "      <th>29999999</th>\n",
       "      <td>2019-10-22 13:03:26 UTC</td>\n",
       "      <td>view</td>\n",
       "      <td>12711745</td>\n",
       "      <td>2053013553559896355</td>\n",
       "      <td>NaN</td>\n",
       "      <td>goodyear</td>\n",
       "      <td>52.41</td>\n",
       "      <td>515608846</td>\n",
       "      <td>de7b442b-9b38-4983-93c1-13b50d8a61f4</td>\n",
       "    </tr>\n",
       "  </tbody>\n",
       "</table>\n",
       "</div>"
      ],
      "text/plain": [
       "                       event_time event_type  product_id          category_id  \\\n",
       "29999995  2019-10-22 13:03:26 UTC       view     1004785  2053013555631882655   \n",
       "29999996  2019-10-22 13:03:26 UTC       view    18000370  2053013558525952589   \n",
       "29999997  2019-10-22 13:03:26 UTC       view     1600591  2053013553056579841   \n",
       "29999998  2019-10-22 13:03:26 UTC       view     4804055  2053013554658804075   \n",
       "29999999  2019-10-22 13:03:26 UTC       view    12711745  2053013553559896355   \n",
       "\n",
       "                          category_code     brand   price    user_id  \\\n",
       "29999995         electronics.smartphone    huawei  270.52  521138476   \n",
       "29999996                            NaN  handwers   33.44  546750894   \n",
       "29999997  computers.peripherals.printer     epson  282.89  525638463   \n",
       "29999998    electronics.audio.headphone     apple  190.20  556936192   \n",
       "29999999                            NaN  goodyear   52.41  515608846   \n",
       "\n",
       "                                  user_session  \n",
       "29999995  a61e7319-33b7-48a3-a68c-b7a65320e9a4  \n",
       "29999996  431042f4-3489-40b8-aaba-464f46846151  \n",
       "29999997  f8d4956c-37fc-4758-88a6-2d855ef9eb8f  \n",
       "29999998  fc00b366-b6b6-42db-a486-19bd4bc696cc  \n",
       "29999999  de7b442b-9b38-4983-93c1-13b50d8a61f4  "
      ]
     },
     "execution_count": 4,
     "metadata": {},
     "output_type": "execute_result"
    }
   ],
   "source": [
    "df.tail()"
   ]
  },
  {
   "cell_type": "code",
   "execution_count": 4,
   "metadata": {},
   "outputs": [
    {
     "name": "stdout",
     "output_type": "stream",
     "text": [
      "<class 'pandas.core.frame.DataFrame'>\n",
      "RangeIndex: 30000000 entries, 0 to 29999999\n",
      "Data columns (total 9 columns):\n",
      " #   Column         Dtype  \n",
      "---  ------         -----  \n",
      " 0   event_time     object \n",
      " 1   event_type     object \n",
      " 2   product_id     int64  \n",
      " 3   category_id    int64  \n",
      " 4   category_code  object \n",
      " 5   brand          object \n",
      " 6   price          float64\n",
      " 7   user_id        int64  \n",
      " 8   user_session   object \n",
      "dtypes: float64(1), int64(3), object(5)\n",
      "memory usage: 2.0+ GB\n"
     ]
    }
   ],
   "source": [
    "df.info()"
   ]
  },
  {
   "attachments": {},
   "cell_type": "markdown",
   "metadata": {},
   "source": [
    "- event type에는 view(상품 보기), purchase(구매), cart(장바구니) 단계가 있다."
   ]
  },
  {
   "cell_type": "code",
   "execution_count": 6,
   "metadata": {},
   "outputs": [
    {
     "data": {
      "text/plain": [
       "array(['view', 'purchase', 'cart'], dtype=object)"
      ]
     },
     "execution_count": 6,
     "metadata": {},
     "output_type": "execute_result"
    }
   ],
   "source": [
    "df['event_type'].unique()"
   ]
  },
  {
   "cell_type": "code",
   "execution_count": 10,
   "metadata": {},
   "outputs": [
    {
     "data": {
      "text/plain": [
       "view        28800064\n",
       "cart          666595\n",
       "purchase      533341\n",
       "Name: event_type, dtype: int64"
      ]
     },
     "execution_count": 10,
     "metadata": {},
     "output_type": "execute_result"
    }
   ],
   "source": [
    "df['event_type'].value_counts()"
   ]
  },
  {
   "attachments": {},
   "cell_type": "markdown",
   "metadata": {},
   "source": [
    "category_code, brand, user_session에는 결측치가 존재한다."
   ]
  },
  {
   "cell_type": "code",
   "execution_count": 7,
   "metadata": {},
   "outputs": [
    {
     "data": {
      "text/plain": [
       "event_time             0\n",
       "event_type             0\n",
       "product_id             0\n",
       "category_id            0\n",
       "category_code    9621665\n",
       "brand            4218859\n",
       "price                  0\n",
       "user_id                0\n",
       "user_session           1\n",
       "dtype: int64"
      ]
     },
     "execution_count": 7,
     "metadata": {},
     "output_type": "execute_result"
    }
   ],
   "source": [
    "df.isnull().sum()"
   ]
  },
  {
   "attachments": {},
   "cell_type": "markdown",
   "metadata": {},
   "source": [
    "한 명의 유저는 여러 개의 user session을 가질 수 있다."
   ]
  },
  {
   "cell_type": "code",
   "execution_count": 8,
   "metadata": {},
   "outputs": [
    {
     "name": "stdout",
     "output_type": "stream",
     "text": [
      "30000000\n",
      "29999999\n"
     ]
    }
   ],
   "source": [
    "print(df['user_id'].count())\n",
    "print(df['user_session'].count())"
   ]
  },
  {
   "attachments": {},
   "cell_type": "markdown",
   "metadata": {},
   "source": [
    "## 데이터 전처리"
   ]
  },
  {
   "attachments": {},
   "cell_type": "markdown",
   "metadata": {},
   "source": [
    "- event time이 UTC(세계 표준 시간)로 되어있다.\n",
    "- KST(한국 표준 시간)로 변경해줘야 한다.\n",
    "- UTC -> KST 방법은 `UTC + 9시간`을 해주면 된다."
   ]
  },
  {
   "cell_type": "code",
   "execution_count": 11,
   "metadata": {},
   "outputs": [
    {
     "data": {
      "text/plain": [
       "0           2019-10-01 00:00:00 UTC\n",
       "1           2019-10-01 00:00:00 UTC\n",
       "2           2019-10-01 00:00:01 UTC\n",
       "3           2019-10-01 00:00:01 UTC\n",
       "4           2019-10-01 00:00:04 UTC\n",
       "                     ...           \n",
       "29999995    2019-10-22 13:03:26 UTC\n",
       "29999996    2019-10-22 13:03:26 UTC\n",
       "29999997    2019-10-22 13:03:26 UTC\n",
       "29999998    2019-10-22 13:03:26 UTC\n",
       "29999999    2019-10-22 13:03:26 UTC\n",
       "Name: event_time, Length: 30000000, dtype: object"
      ]
     },
     "execution_count": 11,
     "metadata": {},
     "output_type": "execute_result"
    }
   ],
   "source": [
    "df['event_time']"
   ]
  },
  {
   "cell_type": "code",
   "execution_count": 5,
   "metadata": {},
   "outputs": [],
   "source": [
    "df['event_time'] = df['event_time'].str[:19]  # 0 ~ 18번째 글자(UTC 문자열을 제외한 년-월-일 시:분:초)\n",
    "df['event_time'] = pd.to_datetime(df['event_time'])  # datetime 형식으로 변경\n",
    "df['event_time'] = df['event_time'] + timedelta(hours=9)  # 9시간 더하기"
   ]
  },
  {
   "attachments": {},
   "cell_type": "markdown",
   "metadata": {},
   "source": [
    "Funnel 분석에 필요한 컬럼만 남겨둔다."
   ]
  },
  {
   "cell_type": "code",
   "execution_count": 6,
   "metadata": {},
   "outputs": [
    {
     "data": {
      "text/html": [
       "<div>\n",
       "<style scoped>\n",
       "    .dataframe tbody tr th:only-of-type {\n",
       "        vertical-align: middle;\n",
       "    }\n",
       "\n",
       "    .dataframe tbody tr th {\n",
       "        vertical-align: top;\n",
       "    }\n",
       "\n",
       "    .dataframe thead th {\n",
       "        text-align: right;\n",
       "    }\n",
       "</style>\n",
       "<table border=\"1\" class=\"dataframe\">\n",
       "  <thead>\n",
       "    <tr style=\"text-align: right;\">\n",
       "      <th></th>\n",
       "      <th>user_id</th>\n",
       "      <th>user_session</th>\n",
       "      <th>event_type</th>\n",
       "      <th>event_time</th>\n",
       "    </tr>\n",
       "  </thead>\n",
       "  <tbody>\n",
       "    <tr>\n",
       "      <th>0</th>\n",
       "      <td>541312140</td>\n",
       "      <td>72d76fde-8bb3-4e00-8c23-a032dfed738c</td>\n",
       "      <td>view</td>\n",
       "      <td>2019-10-01 09:00:00</td>\n",
       "    </tr>\n",
       "    <tr>\n",
       "      <th>1</th>\n",
       "      <td>554748717</td>\n",
       "      <td>9333dfbd-b87a-4708-9857-6336556b0fcc</td>\n",
       "      <td>view</td>\n",
       "      <td>2019-10-01 09:00:00</td>\n",
       "    </tr>\n",
       "    <tr>\n",
       "      <th>2</th>\n",
       "      <td>519107250</td>\n",
       "      <td>566511c2-e2e3-422b-b695-cf8e6e792ca8</td>\n",
       "      <td>view</td>\n",
       "      <td>2019-10-01 09:00:01</td>\n",
       "    </tr>\n",
       "    <tr>\n",
       "      <th>3</th>\n",
       "      <td>550050854</td>\n",
       "      <td>7c90fc70-0e80-4590-96f3-13c02c18c713</td>\n",
       "      <td>view</td>\n",
       "      <td>2019-10-01 09:00:01</td>\n",
       "    </tr>\n",
       "    <tr>\n",
       "      <th>4</th>\n",
       "      <td>535871217</td>\n",
       "      <td>c6bd7419-2748-4c56-95b4-8cec9ff8b80d</td>\n",
       "      <td>view</td>\n",
       "      <td>2019-10-01 09:00:04</td>\n",
       "    </tr>\n",
       "  </tbody>\n",
       "</table>\n",
       "</div>"
      ],
      "text/plain": [
       "     user_id                          user_session event_type  \\\n",
       "0  541312140  72d76fde-8bb3-4e00-8c23-a032dfed738c       view   \n",
       "1  554748717  9333dfbd-b87a-4708-9857-6336556b0fcc       view   \n",
       "2  519107250  566511c2-e2e3-422b-b695-cf8e6e792ca8       view   \n",
       "3  550050854  7c90fc70-0e80-4590-96f3-13c02c18c713       view   \n",
       "4  535871217  c6bd7419-2748-4c56-95b4-8cec9ff8b80d       view   \n",
       "\n",
       "           event_time  \n",
       "0 2019-10-01 09:00:00  \n",
       "1 2019-10-01 09:00:00  \n",
       "2 2019-10-01 09:00:01  \n",
       "3 2019-10-01 09:00:01  \n",
       "4 2019-10-01 09:00:04  "
      ]
     },
     "execution_count": 6,
     "metadata": {},
     "output_type": "execute_result"
    }
   ],
   "source": [
    "df = df[['user_id', 'user_session', 'event_type', 'event_time']]\n",
    "df.head()"
   ]
  },
  {
   "attachments": {},
   "cell_type": "markdown",
   "metadata": {},
   "source": [
    "user session에 존재하는 1개의 결측치는 제거한다."
   ]
  },
  {
   "cell_type": "code",
   "execution_count": 14,
   "metadata": {},
   "outputs": [
    {
     "data": {
      "text/plain": [
       "user_id         0\n",
       "user_session    1\n",
       "event_type      0\n",
       "event_time      0\n",
       "dtype: int64"
      ]
     },
     "execution_count": 14,
     "metadata": {},
     "output_type": "execute_result"
    }
   ],
   "source": [
    "df.isnull().sum()"
   ]
  },
  {
   "cell_type": "code",
   "execution_count": 7,
   "metadata": {},
   "outputs": [],
   "source": [
    "df = df.dropna()"
   ]
  },
  {
   "cell_type": "code",
   "execution_count": 17,
   "metadata": {},
   "outputs": [
    {
     "data": {
      "text/html": [
       "<div>\n",
       "<style scoped>\n",
       "    .dataframe tbody tr th:only-of-type {\n",
       "        vertical-align: middle;\n",
       "    }\n",
       "\n",
       "    .dataframe tbody tr th {\n",
       "        vertical-align: top;\n",
       "    }\n",
       "\n",
       "    .dataframe thead th {\n",
       "        text-align: right;\n",
       "    }\n",
       "</style>\n",
       "<table border=\"1\" class=\"dataframe\">\n",
       "  <thead>\n",
       "    <tr style=\"text-align: right;\">\n",
       "      <th></th>\n",
       "      <th>user_id</th>\n",
       "      <th>user_session</th>\n",
       "      <th>event_type</th>\n",
       "      <th>event_time</th>\n",
       "    </tr>\n",
       "  </thead>\n",
       "  <tbody>\n",
       "    <tr>\n",
       "      <th>15808538</th>\n",
       "      <td>64078358</td>\n",
       "      <td>6183edb9-f592-4bb8-9913-67bb4711694d</td>\n",
       "      <td>view</td>\n",
       "      <td>2019-10-13 09:13:46</td>\n",
       "    </tr>\n",
       "    <tr>\n",
       "      <th>2420043</th>\n",
       "      <td>183503497</td>\n",
       "      <td>884233e8-8b9f-4970-808b-4e1c81f8a5fc</td>\n",
       "      <td>view</td>\n",
       "      <td>2019-10-03 06:43:00</td>\n",
       "    </tr>\n",
       "    <tr>\n",
       "      <th>4799279</th>\n",
       "      <td>184265397</td>\n",
       "      <td>2c5d0468-32e1-42f7-9b4e-b17c1d387247</td>\n",
       "      <td>view</td>\n",
       "      <td>2019-10-05 02:44:37</td>\n",
       "    </tr>\n",
       "    <tr>\n",
       "      <th>4800257</th>\n",
       "      <td>184265397</td>\n",
       "      <td>2c5d0468-32e1-42f7-9b4e-b17c1d387247</td>\n",
       "      <td>view</td>\n",
       "      <td>2019-10-05 02:45:18</td>\n",
       "    </tr>\n",
       "    <tr>\n",
       "      <th>4808012</th>\n",
       "      <td>184265397</td>\n",
       "      <td>2c5d0468-32e1-42f7-9b4e-b17c1d387247</td>\n",
       "      <td>view</td>\n",
       "      <td>2019-10-05 02:50:50</td>\n",
       "    </tr>\n",
       "    <tr>\n",
       "      <th>...</th>\n",
       "      <td>...</td>\n",
       "      <td>...</td>\n",
       "      <td>...</td>\n",
       "      <td>...</td>\n",
       "    </tr>\n",
       "    <tr>\n",
       "      <th>29999324</th>\n",
       "      <td>562979932</td>\n",
       "      <td>21424260-667b-4ac2-bced-ed63bcad4274</td>\n",
       "      <td>view</td>\n",
       "      <td>2019-10-22 22:02:55</td>\n",
       "    </tr>\n",
       "    <tr>\n",
       "      <th>29999440</th>\n",
       "      <td>562979932</td>\n",
       "      <td>4aae84ad-ac6a-4019-9332-f52683268d88</td>\n",
       "      <td>view</td>\n",
       "      <td>2019-10-22 22:03:00</td>\n",
       "    </tr>\n",
       "    <tr>\n",
       "      <th>29999437</th>\n",
       "      <td>562979951</td>\n",
       "      <td>0a17259f-ed61-427b-a97e-e7d67d6705d6</td>\n",
       "      <td>view</td>\n",
       "      <td>2019-10-22 22:03:00</td>\n",
       "    </tr>\n",
       "    <tr>\n",
       "      <th>29999497</th>\n",
       "      <td>562979966</td>\n",
       "      <td>84eb4c56-1e2c-4331-8ee0-fd1f374f4765</td>\n",
       "      <td>view</td>\n",
       "      <td>2019-10-22 22:03:03</td>\n",
       "    </tr>\n",
       "    <tr>\n",
       "      <th>29999625</th>\n",
       "      <td>562980001</td>\n",
       "      <td>8fad1cd0-74d3-404d-a4c3-b2789053b385</td>\n",
       "      <td>view</td>\n",
       "      <td>2019-10-22 22:03:09</td>\n",
       "    </tr>\n",
       "  </tbody>\n",
       "</table>\n",
       "<p>29999999 rows × 4 columns</p>\n",
       "</div>"
      ],
      "text/plain": [
       "            user_id                          user_session event_type  \\\n",
       "15808538   64078358  6183edb9-f592-4bb8-9913-67bb4711694d       view   \n",
       "2420043   183503497  884233e8-8b9f-4970-808b-4e1c81f8a5fc       view   \n",
       "4799279   184265397  2c5d0468-32e1-42f7-9b4e-b17c1d387247       view   \n",
       "4800257   184265397  2c5d0468-32e1-42f7-9b4e-b17c1d387247       view   \n",
       "4808012   184265397  2c5d0468-32e1-42f7-9b4e-b17c1d387247       view   \n",
       "...             ...                                   ...        ...   \n",
       "29999324  562979932  21424260-667b-4ac2-bced-ed63bcad4274       view   \n",
       "29999440  562979932  4aae84ad-ac6a-4019-9332-f52683268d88       view   \n",
       "29999437  562979951  0a17259f-ed61-427b-a97e-e7d67d6705d6       view   \n",
       "29999497  562979966  84eb4c56-1e2c-4331-8ee0-fd1f374f4765       view   \n",
       "29999625  562980001  8fad1cd0-74d3-404d-a4c3-b2789053b385       view   \n",
       "\n",
       "                  event_time  \n",
       "15808538 2019-10-13 09:13:46  \n",
       "2420043  2019-10-03 06:43:00  \n",
       "4799279  2019-10-05 02:44:37  \n",
       "4800257  2019-10-05 02:45:18  \n",
       "4808012  2019-10-05 02:50:50  \n",
       "...                      ...  \n",
       "29999324 2019-10-22 22:02:55  \n",
       "29999440 2019-10-22 22:03:00  \n",
       "29999437 2019-10-22 22:03:00  \n",
       "29999497 2019-10-22 22:03:03  \n",
       "29999625 2019-10-22 22:03:09  \n",
       "\n",
       "[29999999 rows x 4 columns]"
      ]
     },
     "execution_count": 17,
     "metadata": {},
     "output_type": "execute_result"
    }
   ],
   "source": [
    "df.sort_values(by=['user_id', 'event_time'])"
   ]
  },
  {
   "attachments": {},
   "cell_type": "markdown",
   "metadata": {},
   "source": [
    "## Funnel 제작"
   ]
  },
  {
   "cell_type": "code",
   "execution_count": 8,
   "metadata": {},
   "outputs": [
    {
     "data": {
      "text/html": [
       "<div>\n",
       "<style scoped>\n",
       "    .dataframe tbody tr th:only-of-type {\n",
       "        vertical-align: middle;\n",
       "    }\n",
       "\n",
       "    .dataframe tbody tr th {\n",
       "        vertical-align: top;\n",
       "    }\n",
       "\n",
       "    .dataframe thead th {\n",
       "        text-align: right;\n",
       "    }\n",
       "</style>\n",
       "<table border=\"1\" class=\"dataframe\">\n",
       "  <thead>\n",
       "    <tr style=\"text-align: right;\">\n",
       "      <th></th>\n",
       "      <th>Step</th>\n",
       "    </tr>\n",
       "  </thead>\n",
       "  <tbody>\n",
       "    <tr>\n",
       "      <th>view</th>\n",
       "      <td>Step One</td>\n",
       "    </tr>\n",
       "    <tr>\n",
       "      <th>cart</th>\n",
       "      <td>Step Two</td>\n",
       "    </tr>\n",
       "    <tr>\n",
       "      <th>purchase</th>\n",
       "      <td>Step Three</td>\n",
       "    </tr>\n",
       "  </tbody>\n",
       "</table>\n",
       "</div>"
      ],
      "text/plain": [
       "                Step\n",
       "view        Step One\n",
       "cart        Step Two\n",
       "purchase  Step Three"
      ]
     },
     "execution_count": 8,
     "metadata": {},
     "output_type": "execute_result"
    }
   ],
   "source": [
    "funnel_dict ={\n",
    "    'view' : 'Step One',\n",
    "    'cart' : 'Step Two',\n",
    "    'purchase' : 'Step Three'\n",
    "}\n",
    "# 주석에 작성한 코드와 아래 코드는 같은 결과를 나타낸다. from_dict를 사용하면 orient 옵션을 통해 key 값을 index로 사용할 수 있다.\n",
    "# pd.DataFrame(funnel_dict.items(), columns=['', 'Step']).set_index('')\n",
    "steps = pd.DataFrame.from_dict(funnel_dict, orient='index', columns=['Step'])\n",
    "steps"
   ]
  },
  {
   "attachments": {},
   "cell_type": "markdown",
   "metadata": {},
   "source": [
    "참고! \n",
    "사전의 key를 column으로, value를 row로 설정하여 데이터프레임 만드는 방법"
   ]
  },
  {
   "cell_type": "code",
   "execution_count": 37,
   "metadata": {},
   "outputs": [
    {
     "data": {
      "text/html": [
       "<div>\n",
       "<style scoped>\n",
       "    .dataframe tbody tr th:only-of-type {\n",
       "        vertical-align: middle;\n",
       "    }\n",
       "\n",
       "    .dataframe tbody tr th {\n",
       "        vertical-align: top;\n",
       "    }\n",
       "\n",
       "    .dataframe thead th {\n",
       "        text-align: right;\n",
       "    }\n",
       "</style>\n",
       "<table border=\"1\" class=\"dataframe\">\n",
       "  <thead>\n",
       "    <tr style=\"text-align: right;\">\n",
       "      <th></th>\n",
       "      <th>View</th>\n",
       "      <th>Cart</th>\n",
       "      <th>Purchase</th>\n",
       "    </tr>\n",
       "  </thead>\n",
       "  <tbody>\n",
       "    <tr>\n",
       "      <th>0</th>\n",
       "      <td>Step One</td>\n",
       "      <td>Step Two</td>\n",
       "      <td>Step Three</td>\n",
       "    </tr>\n",
       "  </tbody>\n",
       "</table>\n",
       "</div>"
      ],
      "text/plain": [
       "       View      Cart    Purchase\n",
       "0  Step One  Step Two  Step Three"
      ]
     },
     "execution_count": 37,
     "metadata": {},
     "output_type": "execute_result"
    }
   ],
   "source": [
    "pd.DataFrame([funnel_dict])"
   ]
  },
  {
   "attachments": {},
   "cell_type": "markdown",
   "metadata": {},
   "source": [
    "- user session과 event type을 기준으로 그루핑한다.\n",
    "- user id로 그루핑하지 않는 이유는 한 유저는 여러 user session을 가질 수 있기 때문이다.\n",
    "    - 예) user id가 1번인 사람이 오늘 쇼핑한 것과 내일 쇼핑한 것은 다르게 구분되어야 한다."
   ]
  },
  {
   "cell_type": "code",
   "execution_count": 9,
   "metadata": {},
   "outputs": [
    {
     "data": {
      "text/html": [
       "<div>\n",
       "<style scoped>\n",
       "    .dataframe tbody tr th:only-of-type {\n",
       "        vertical-align: middle;\n",
       "    }\n",
       "\n",
       "    .dataframe tbody tr th {\n",
       "        vertical-align: top;\n",
       "    }\n",
       "\n",
       "    .dataframe thead th {\n",
       "        text-align: right;\n",
       "    }\n",
       "</style>\n",
       "<table border=\"1\" class=\"dataframe\">\n",
       "  <thead>\n",
       "    <tr style=\"text-align: right;\">\n",
       "      <th></th>\n",
       "      <th></th>\n",
       "      <th>datetime</th>\n",
       "    </tr>\n",
       "    <tr>\n",
       "      <th>user_session</th>\n",
       "      <th>event_type</th>\n",
       "      <th></th>\n",
       "    </tr>\n",
       "  </thead>\n",
       "  <tbody>\n",
       "    <tr>\n",
       "      <th>00000042-3e3f-42f9-810d-f3d264139c50</th>\n",
       "      <th>view</th>\n",
       "      <td>2019-10-18 19:54:45</td>\n",
       "    </tr>\n",
       "    <tr>\n",
       "      <th rowspan=\"3\" valign=\"top\">00000083-8816-4d58-a9b8-f52f54186edc</th>\n",
       "      <th>cart</th>\n",
       "      <td>2019-10-06 20:33:54</td>\n",
       "    </tr>\n",
       "    <tr>\n",
       "      <th>purchase</th>\n",
       "      <td>2019-10-06 20:34:30</td>\n",
       "    </tr>\n",
       "    <tr>\n",
       "      <th>view</th>\n",
       "      <td>2019-10-06 20:24:45</td>\n",
       "    </tr>\n",
       "    <tr>\n",
       "      <th>000003eb-b63e-45d9-9f26-f229057c654a</th>\n",
       "      <th>view</th>\n",
       "      <td>2019-10-03 20:28:52</td>\n",
       "    </tr>\n",
       "    <tr>\n",
       "      <th>...</th>\n",
       "      <th>...</th>\n",
       "      <td>...</td>\n",
       "    </tr>\n",
       "    <tr>\n",
       "      <th>fffff51e-c34a-465a-8369-c845117d6b39</th>\n",
       "      <th>view</th>\n",
       "      <td>2019-10-09 02:10:37</td>\n",
       "    </tr>\n",
       "    <tr>\n",
       "      <th>fffff6b0-1ade-413d-b9b4-5fb0dd26aa34</th>\n",
       "      <th>view</th>\n",
       "      <td>2019-10-06 01:40:10</td>\n",
       "    </tr>\n",
       "    <tr>\n",
       "      <th>fffff79f-a682-4f63-ad94-8364fe3d648f</th>\n",
       "      <th>view</th>\n",
       "      <td>2019-10-18 15:42:56</td>\n",
       "    </tr>\n",
       "    <tr>\n",
       "      <th>fffffa1b-a6f0-483a-8f4b-30db242889b6</th>\n",
       "      <th>view</th>\n",
       "      <td>2019-10-08 20:32:24</td>\n",
       "    </tr>\n",
       "    <tr>\n",
       "      <th>fffffc65-7ce9-435c-8b72-1d9f7062fe77</th>\n",
       "      <th>view</th>\n",
       "      <td>2019-10-11 15:10:23</td>\n",
       "    </tr>\n",
       "  </tbody>\n",
       "</table>\n",
       "<p>7371181 rows × 1 columns</p>\n",
       "</div>"
      ],
      "text/plain": [
       "                                                           datetime\n",
       "user_session                         event_type                    \n",
       "00000042-3e3f-42f9-810d-f3d264139c50 view       2019-10-18 19:54:45\n",
       "00000083-8816-4d58-a9b8-f52f54186edc cart       2019-10-06 20:33:54\n",
       "                                     purchase   2019-10-06 20:34:30\n",
       "                                     view       2019-10-06 20:24:45\n",
       "000003eb-b63e-45d9-9f26-f229057c654a view       2019-10-03 20:28:52\n",
       "...                                                             ...\n",
       "fffff51e-c34a-465a-8369-c845117d6b39 view       2019-10-09 02:10:37\n",
       "fffff6b0-1ade-413d-b9b4-5fb0dd26aa34 view       2019-10-06 01:40:10\n",
       "fffff79f-a682-4f63-ad94-8364fe3d648f view       2019-10-18 15:42:56\n",
       "fffffa1b-a6f0-483a-8f4b-30db242889b6 view       2019-10-08 20:32:24\n",
       "fffffc65-7ce9-435c-8b72-1d9f7062fe77 view       2019-10-11 15:10:23\n",
       "\n",
       "[7371181 rows x 1 columns]"
      ]
     },
     "execution_count": 9,
     "metadata": {},
     "output_type": "execute_result"
    }
   ],
   "source": [
    "# event time이 빨리 일어난 시간을 계산\n",
    "group = df.groupby(['user_session', 'event_type']).agg(datetime=('event_time', 'min'))\n",
    "group"
   ]
  },
  {
   "attachments": {},
   "cell_type": "markdown",
   "metadata": {},
   "source": [
    "steps와 group 데이터를 병합한다."
   ]
  },
  {
   "cell_type": "code",
   "execution_count": 10,
   "metadata": {},
   "outputs": [
    {
     "data": {
      "text/html": [
       "<div>\n",
       "<style scoped>\n",
       "    .dataframe tbody tr th:only-of-type {\n",
       "        vertical-align: middle;\n",
       "    }\n",
       "\n",
       "    .dataframe tbody tr th {\n",
       "        vertical-align: top;\n",
       "    }\n",
       "\n",
       "    .dataframe thead th {\n",
       "        text-align: right;\n",
       "    }\n",
       "</style>\n",
       "<table border=\"1\" class=\"dataframe\">\n",
       "  <thead>\n",
       "    <tr style=\"text-align: right;\">\n",
       "      <th></th>\n",
       "      <th></th>\n",
       "      <th>datetime</th>\n",
       "      <th>Step</th>\n",
       "    </tr>\n",
       "    <tr>\n",
       "      <th>user_session</th>\n",
       "      <th>event_type</th>\n",
       "      <th></th>\n",
       "      <th></th>\n",
       "    </tr>\n",
       "  </thead>\n",
       "  <tbody>\n",
       "    <tr>\n",
       "      <th>00000042-3e3f-42f9-810d-f3d264139c50</th>\n",
       "      <th>view</th>\n",
       "      <td>2019-10-18 19:54:45</td>\n",
       "      <td>Step One</td>\n",
       "    </tr>\n",
       "    <tr>\n",
       "      <th>00000083-8816-4d58-a9b8-f52f54186edc</th>\n",
       "      <th>view</th>\n",
       "      <td>2019-10-06 20:24:45</td>\n",
       "      <td>Step One</td>\n",
       "    </tr>\n",
       "    <tr>\n",
       "      <th>000003eb-b63e-45d9-9f26-f229057c654a</th>\n",
       "      <th>view</th>\n",
       "      <td>2019-10-03 20:28:52</td>\n",
       "      <td>Step One</td>\n",
       "    </tr>\n",
       "    <tr>\n",
       "      <th>00000a05-fa4e-4486-b5e8-c8bffa63b422</th>\n",
       "      <th>view</th>\n",
       "      <td>2019-10-07 23:16:54</td>\n",
       "      <td>Step One</td>\n",
       "    </tr>\n",
       "    <tr>\n",
       "      <th>00000aaa-d774-49bc-9c31-0c9f6e1c2f0a</th>\n",
       "      <th>view</th>\n",
       "      <td>2019-10-19 21:41:17</td>\n",
       "      <td>Step One</td>\n",
       "    </tr>\n",
       "    <tr>\n",
       "      <th>...</th>\n",
       "      <th>...</th>\n",
       "      <td>...</td>\n",
       "      <td>...</td>\n",
       "    </tr>\n",
       "    <tr>\n",
       "      <th>ffff0570-ea68-4b43-bd2f-26307ff3612d</th>\n",
       "      <th>purchase</th>\n",
       "      <td>2019-10-22 02:25:51</td>\n",
       "      <td>Step Three</td>\n",
       "    </tr>\n",
       "    <tr>\n",
       "      <th>ffff2140-07d9-4f3f-9cdc-9a30ec5aaf33</th>\n",
       "      <th>purchase</th>\n",
       "      <td>2019-10-04 18:01:28</td>\n",
       "      <td>Step Three</td>\n",
       "    </tr>\n",
       "    <tr>\n",
       "      <th>ffff2e30-9d65-450b-807e-fcd1c1799da1</th>\n",
       "      <th>purchase</th>\n",
       "      <td>2019-10-14 18:19:57</td>\n",
       "      <td>Step Three</td>\n",
       "    </tr>\n",
       "    <tr>\n",
       "      <th>ffff3f80-9db8-451e-8ee1-65bd1401283c</th>\n",
       "      <th>purchase</th>\n",
       "      <td>2019-10-10 21:34:49</td>\n",
       "      <td>Step Three</td>\n",
       "    </tr>\n",
       "    <tr>\n",
       "      <th>ffffa654-87e2-3a83-1a87-33c0480c3e36</th>\n",
       "      <th>purchase</th>\n",
       "      <td>2019-10-04 17:53:59</td>\n",
       "      <td>Step Three</td>\n",
       "    </tr>\n",
       "  </tbody>\n",
       "</table>\n",
       "<p>7371181 rows × 2 columns</p>\n",
       "</div>"
      ],
      "text/plain": [
       "                                                           datetime  \\\n",
       "user_session                         event_type                       \n",
       "00000042-3e3f-42f9-810d-f3d264139c50 view       2019-10-18 19:54:45   \n",
       "00000083-8816-4d58-a9b8-f52f54186edc view       2019-10-06 20:24:45   \n",
       "000003eb-b63e-45d9-9f26-f229057c654a view       2019-10-03 20:28:52   \n",
       "00000a05-fa4e-4486-b5e8-c8bffa63b422 view       2019-10-07 23:16:54   \n",
       "00000aaa-d774-49bc-9c31-0c9f6e1c2f0a view       2019-10-19 21:41:17   \n",
       "...                                                             ...   \n",
       "ffff0570-ea68-4b43-bd2f-26307ff3612d purchase   2019-10-22 02:25:51   \n",
       "ffff2140-07d9-4f3f-9cdc-9a30ec5aaf33 purchase   2019-10-04 18:01:28   \n",
       "ffff2e30-9d65-450b-807e-fcd1c1799da1 purchase   2019-10-14 18:19:57   \n",
       "ffff3f80-9db8-451e-8ee1-65bd1401283c purchase   2019-10-10 21:34:49   \n",
       "ffffa654-87e2-3a83-1a87-33c0480c3e36 purchase   2019-10-04 17:53:59   \n",
       "\n",
       "                                                       Step  \n",
       "user_session                         event_type              \n",
       "00000042-3e3f-42f9-810d-f3d264139c50 view          Step One  \n",
       "00000083-8816-4d58-a9b8-f52f54186edc view          Step One  \n",
       "000003eb-b63e-45d9-9f26-f229057c654a view          Step One  \n",
       "00000a05-fa4e-4486-b5e8-c8bffa63b422 view          Step One  \n",
       "00000aaa-d774-49bc-9c31-0c9f6e1c2f0a view          Step One  \n",
       "...                                                     ...  \n",
       "ffff0570-ea68-4b43-bd2f-26307ff3612d purchase    Step Three  \n",
       "ffff2140-07d9-4f3f-9cdc-9a30ec5aaf33 purchase    Step Three  \n",
       "ffff2e30-9d65-450b-807e-fcd1c1799da1 purchase    Step Three  \n",
       "ffff3f80-9db8-451e-8ee1-65bd1401283c purchase    Step Three  \n",
       "ffffa654-87e2-3a83-1a87-33c0480c3e36 purchase    Step Three  \n",
       "\n",
       "[7371181 rows x 2 columns]"
      ]
     },
     "execution_count": 10,
     "metadata": {},
     "output_type": "execute_result"
    }
   ],
   "source": [
    "merged = pd.merge(group, steps, left_on='event_type', right_index=True)\n",
    "merged"
   ]
  },
  {
   "attachments": {},
   "cell_type": "markdown",
   "metadata": {},
   "source": [
    "pivot을 이용해 funnel을 제작한다."
   ]
  },
  {
   "cell_type": "code",
   "execution_count": 11,
   "metadata": {},
   "outputs": [
    {
     "data": {
      "text/html": [
       "<div>\n",
       "<style scoped>\n",
       "    .dataframe tbody tr th:only-of-type {\n",
       "        vertical-align: middle;\n",
       "    }\n",
       "\n",
       "    .dataframe tbody tr th {\n",
       "        vertical-align: top;\n",
       "    }\n",
       "\n",
       "    .dataframe thead th {\n",
       "        text-align: right;\n",
       "    }\n",
       "</style>\n",
       "<table border=\"1\" class=\"dataframe\">\n",
       "  <thead>\n",
       "    <tr style=\"text-align: right;\">\n",
       "      <th>Step</th>\n",
       "      <th>Step One</th>\n",
       "      <th>Step Three</th>\n",
       "      <th>Step Two</th>\n",
       "    </tr>\n",
       "    <tr>\n",
       "      <th>user_session</th>\n",
       "      <th></th>\n",
       "      <th></th>\n",
       "      <th></th>\n",
       "    </tr>\n",
       "  </thead>\n",
       "  <tbody>\n",
       "    <tr>\n",
       "      <th>00000042-3e3f-42f9-810d-f3d264139c50</th>\n",
       "      <td>2019-10-18 19:54:45</td>\n",
       "      <td>NaT</td>\n",
       "      <td>NaT</td>\n",
       "    </tr>\n",
       "    <tr>\n",
       "      <th>00000083-8816-4d58-a9b8-f52f54186edc</th>\n",
       "      <td>2019-10-06 20:24:45</td>\n",
       "      <td>2019-10-06 20:34:30</td>\n",
       "      <td>2019-10-06 20:33:54</td>\n",
       "    </tr>\n",
       "    <tr>\n",
       "      <th>000003eb-b63e-45d9-9f26-f229057c654a</th>\n",
       "      <td>2019-10-03 20:28:52</td>\n",
       "      <td>NaT</td>\n",
       "      <td>NaT</td>\n",
       "    </tr>\n",
       "    <tr>\n",
       "      <th>00000a05-fa4e-4486-b5e8-c8bffa63b422</th>\n",
       "      <td>2019-10-07 23:16:54</td>\n",
       "      <td>NaT</td>\n",
       "      <td>NaT</td>\n",
       "    </tr>\n",
       "    <tr>\n",
       "      <th>00000aaa-d774-49bc-9c31-0c9f6e1c2f0a</th>\n",
       "      <td>2019-10-19 21:41:17</td>\n",
       "      <td>NaT</td>\n",
       "      <td>NaT</td>\n",
       "    </tr>\n",
       "    <tr>\n",
       "      <th>...</th>\n",
       "      <td>...</td>\n",
       "      <td>...</td>\n",
       "      <td>...</td>\n",
       "    </tr>\n",
       "    <tr>\n",
       "      <th>fffff51e-c34a-465a-8369-c845117d6b39</th>\n",
       "      <td>2019-10-09 02:10:37</td>\n",
       "      <td>NaT</td>\n",
       "      <td>NaT</td>\n",
       "    </tr>\n",
       "    <tr>\n",
       "      <th>fffff6b0-1ade-413d-b9b4-5fb0dd26aa34</th>\n",
       "      <td>2019-10-06 01:40:10</td>\n",
       "      <td>NaT</td>\n",
       "      <td>NaT</td>\n",
       "    </tr>\n",
       "    <tr>\n",
       "      <th>fffff79f-a682-4f63-ad94-8364fe3d648f</th>\n",
       "      <td>2019-10-18 15:42:56</td>\n",
       "      <td>NaT</td>\n",
       "      <td>NaT</td>\n",
       "    </tr>\n",
       "    <tr>\n",
       "      <th>fffffa1b-a6f0-483a-8f4b-30db242889b6</th>\n",
       "      <td>2019-10-08 20:32:24</td>\n",
       "      <td>NaT</td>\n",
       "      <td>NaT</td>\n",
       "    </tr>\n",
       "    <tr>\n",
       "      <th>fffffc65-7ce9-435c-8b72-1d9f7062fe77</th>\n",
       "      <td>2019-10-11 15:10:23</td>\n",
       "      <td>NaT</td>\n",
       "      <td>NaT</td>\n",
       "    </tr>\n",
       "  </tbody>\n",
       "</table>\n",
       "<p>6510690 rows × 3 columns</p>\n",
       "</div>"
      ],
      "text/plain": [
       "Step                                            Step One          Step Three  \\\n",
       "user_session                                                                   \n",
       "00000042-3e3f-42f9-810d-f3d264139c50 2019-10-18 19:54:45                 NaT   \n",
       "00000083-8816-4d58-a9b8-f52f54186edc 2019-10-06 20:24:45 2019-10-06 20:34:30   \n",
       "000003eb-b63e-45d9-9f26-f229057c654a 2019-10-03 20:28:52                 NaT   \n",
       "00000a05-fa4e-4486-b5e8-c8bffa63b422 2019-10-07 23:16:54                 NaT   \n",
       "00000aaa-d774-49bc-9c31-0c9f6e1c2f0a 2019-10-19 21:41:17                 NaT   \n",
       "...                                                  ...                 ...   \n",
       "fffff51e-c34a-465a-8369-c845117d6b39 2019-10-09 02:10:37                 NaT   \n",
       "fffff6b0-1ade-413d-b9b4-5fb0dd26aa34 2019-10-06 01:40:10                 NaT   \n",
       "fffff79f-a682-4f63-ad94-8364fe3d648f 2019-10-18 15:42:56                 NaT   \n",
       "fffffa1b-a6f0-483a-8f4b-30db242889b6 2019-10-08 20:32:24                 NaT   \n",
       "fffffc65-7ce9-435c-8b72-1d9f7062fe77 2019-10-11 15:10:23                 NaT   \n",
       "\n",
       "Step                                            Step Two  \n",
       "user_session                                              \n",
       "00000042-3e3f-42f9-810d-f3d264139c50                 NaT  \n",
       "00000083-8816-4d58-a9b8-f52f54186edc 2019-10-06 20:33:54  \n",
       "000003eb-b63e-45d9-9f26-f229057c654a                 NaT  \n",
       "00000a05-fa4e-4486-b5e8-c8bffa63b422                 NaT  \n",
       "00000aaa-d774-49bc-9c31-0c9f6e1c2f0a                 NaT  \n",
       "...                                                  ...  \n",
       "fffff51e-c34a-465a-8369-c845117d6b39                 NaT  \n",
       "fffff6b0-1ade-413d-b9b4-5fb0dd26aa34                 NaT  \n",
       "fffff79f-a682-4f63-ad94-8364fe3d648f                 NaT  \n",
       "fffffa1b-a6f0-483a-8f4b-30db242889b6                 NaT  \n",
       "fffffc65-7ce9-435c-8b72-1d9f7062fe77                 NaT  \n",
       "\n",
       "[6510690 rows x 3 columns]"
      ]
     },
     "execution_count": 11,
     "metadata": {},
     "output_type": "execute_result"
    }
   ],
   "source": [
    "funnel = merged.reset_index().pivot(index='user_session', columns='Step', values='datetime')\n",
    "funnel"
   ]
  },
  {
   "attachments": {},
   "cell_type": "markdown",
   "metadata": {},
   "source": [
    "Two와 Three 단계의 컬럼 순서가 바뀌어 있어서 재정렬해준다."
   ]
  },
  {
   "cell_type": "code",
   "execution_count": 12,
   "metadata": {},
   "outputs": [
    {
     "data": {
      "text/html": [
       "<div>\n",
       "<style scoped>\n",
       "    .dataframe tbody tr th:only-of-type {\n",
       "        vertical-align: middle;\n",
       "    }\n",
       "\n",
       "    .dataframe tbody tr th {\n",
       "        vertical-align: top;\n",
       "    }\n",
       "\n",
       "    .dataframe thead th {\n",
       "        text-align: right;\n",
       "    }\n",
       "</style>\n",
       "<table border=\"1\" class=\"dataframe\">\n",
       "  <thead>\n",
       "    <tr style=\"text-align: right;\">\n",
       "      <th>Step</th>\n",
       "      <th>Step One</th>\n",
       "      <th>Step Two</th>\n",
       "      <th>Step Three</th>\n",
       "    </tr>\n",
       "    <tr>\n",
       "      <th>user_session</th>\n",
       "      <th></th>\n",
       "      <th></th>\n",
       "      <th></th>\n",
       "    </tr>\n",
       "  </thead>\n",
       "  <tbody>\n",
       "    <tr>\n",
       "      <th>00000042-3e3f-42f9-810d-f3d264139c50</th>\n",
       "      <td>2019-10-18 19:54:45</td>\n",
       "      <td>NaT</td>\n",
       "      <td>NaT</td>\n",
       "    </tr>\n",
       "    <tr>\n",
       "      <th>00000083-8816-4d58-a9b8-f52f54186edc</th>\n",
       "      <td>2019-10-06 20:24:45</td>\n",
       "      <td>2019-10-06 20:33:54</td>\n",
       "      <td>2019-10-06 20:34:30</td>\n",
       "    </tr>\n",
       "    <tr>\n",
       "      <th>000003eb-b63e-45d9-9f26-f229057c654a</th>\n",
       "      <td>2019-10-03 20:28:52</td>\n",
       "      <td>NaT</td>\n",
       "      <td>NaT</td>\n",
       "    </tr>\n",
       "    <tr>\n",
       "      <th>00000a05-fa4e-4486-b5e8-c8bffa63b422</th>\n",
       "      <td>2019-10-07 23:16:54</td>\n",
       "      <td>NaT</td>\n",
       "      <td>NaT</td>\n",
       "    </tr>\n",
       "    <tr>\n",
       "      <th>00000aaa-d774-49bc-9c31-0c9f6e1c2f0a</th>\n",
       "      <td>2019-10-19 21:41:17</td>\n",
       "      <td>NaT</td>\n",
       "      <td>NaT</td>\n",
       "    </tr>\n",
       "  </tbody>\n",
       "</table>\n",
       "</div>"
      ],
      "text/plain": [
       "Step                                            Step One            Step Two  \\\n",
       "user_session                                                                   \n",
       "00000042-3e3f-42f9-810d-f3d264139c50 2019-10-18 19:54:45                 NaT   \n",
       "00000083-8816-4d58-a9b8-f52f54186edc 2019-10-06 20:24:45 2019-10-06 20:33:54   \n",
       "000003eb-b63e-45d9-9f26-f229057c654a 2019-10-03 20:28:52                 NaT   \n",
       "00000a05-fa4e-4486-b5e8-c8bffa63b422 2019-10-07 23:16:54                 NaT   \n",
       "00000aaa-d774-49bc-9c31-0c9f6e1c2f0a 2019-10-19 21:41:17                 NaT   \n",
       "\n",
       "Step                                          Step Three  \n",
       "user_session                                              \n",
       "00000042-3e3f-42f9-810d-f3d264139c50                 NaT  \n",
       "00000083-8816-4d58-a9b8-f52f54186edc 2019-10-06 20:34:30  \n",
       "000003eb-b63e-45d9-9f26-f229057c654a                 NaT  \n",
       "00000a05-fa4e-4486-b5e8-c8bffa63b422                 NaT  \n",
       "00000aaa-d774-49bc-9c31-0c9f6e1c2f0a                 NaT  "
      ]
     },
     "execution_count": 12,
     "metadata": {},
     "output_type": "execute_result"
    }
   ],
   "source": [
    "funnel = funnel[['Step One', 'Step Two', 'Step Three']]\n",
    "funnel.head()"
   ]
  },
  {
   "attachments": {},
   "cell_type": "markdown",
   "metadata": {},
   "source": [
    "Step 대신 단계별 이름으로 변경해준다."
   ]
  },
  {
   "cell_type": "code",
   "execution_count": 13,
   "metadata": {},
   "outputs": [
    {
     "data": {
      "text/html": [
       "<div>\n",
       "<style scoped>\n",
       "    .dataframe tbody tr th:only-of-type {\n",
       "        vertical-align: middle;\n",
       "    }\n",
       "\n",
       "    .dataframe tbody tr th {\n",
       "        vertical-align: top;\n",
       "    }\n",
       "\n",
       "    .dataframe thead th {\n",
       "        text-align: right;\n",
       "    }\n",
       "</style>\n",
       "<table border=\"1\" class=\"dataframe\">\n",
       "  <thead>\n",
       "    <tr style=\"text-align: right;\">\n",
       "      <th></th>\n",
       "      <th>view</th>\n",
       "      <th>cart</th>\n",
       "      <th>purchase</th>\n",
       "    </tr>\n",
       "    <tr>\n",
       "      <th>user_session</th>\n",
       "      <th></th>\n",
       "      <th></th>\n",
       "      <th></th>\n",
       "    </tr>\n",
       "  </thead>\n",
       "  <tbody>\n",
       "    <tr>\n",
       "      <th>00000042-3e3f-42f9-810d-f3d264139c50</th>\n",
       "      <td>2019-10-18 19:54:45</td>\n",
       "      <td>NaT</td>\n",
       "      <td>NaT</td>\n",
       "    </tr>\n",
       "    <tr>\n",
       "      <th>00000083-8816-4d58-a9b8-f52f54186edc</th>\n",
       "      <td>2019-10-06 20:24:45</td>\n",
       "      <td>2019-10-06 20:33:54</td>\n",
       "      <td>2019-10-06 20:34:30</td>\n",
       "    </tr>\n",
       "    <tr>\n",
       "      <th>000003eb-b63e-45d9-9f26-f229057c654a</th>\n",
       "      <td>2019-10-03 20:28:52</td>\n",
       "      <td>NaT</td>\n",
       "      <td>NaT</td>\n",
       "    </tr>\n",
       "    <tr>\n",
       "      <th>00000a05-fa4e-4486-b5e8-c8bffa63b422</th>\n",
       "      <td>2019-10-07 23:16:54</td>\n",
       "      <td>NaT</td>\n",
       "      <td>NaT</td>\n",
       "    </tr>\n",
       "    <tr>\n",
       "      <th>00000aaa-d774-49bc-9c31-0c9f6e1c2f0a</th>\n",
       "      <td>2019-10-19 21:41:17</td>\n",
       "      <td>NaT</td>\n",
       "      <td>NaT</td>\n",
       "    </tr>\n",
       "  </tbody>\n",
       "</table>\n",
       "</div>"
      ],
      "text/plain": [
       "                                                    view                cart  \\\n",
       "user_session                                                                   \n",
       "00000042-3e3f-42f9-810d-f3d264139c50 2019-10-18 19:54:45                 NaT   \n",
       "00000083-8816-4d58-a9b8-f52f54186edc 2019-10-06 20:24:45 2019-10-06 20:33:54   \n",
       "000003eb-b63e-45d9-9f26-f229057c654a 2019-10-03 20:28:52                 NaT   \n",
       "00000a05-fa4e-4486-b5e8-c8bffa63b422 2019-10-07 23:16:54                 NaT   \n",
       "00000aaa-d774-49bc-9c31-0c9f6e1c2f0a 2019-10-19 21:41:17                 NaT   \n",
       "\n",
       "                                                purchase  \n",
       "user_session                                              \n",
       "00000042-3e3f-42f9-810d-f3d264139c50                 NaT  \n",
       "00000083-8816-4d58-a9b8-f52f54186edc 2019-10-06 20:34:30  \n",
       "000003eb-b63e-45d9-9f26-f229057c654a                 NaT  \n",
       "00000a05-fa4e-4486-b5e8-c8bffa63b422                 NaT  \n",
       "00000aaa-d774-49bc-9c31-0c9f6e1c2f0a                 NaT  "
      ]
     },
     "execution_count": 13,
     "metadata": {},
     "output_type": "execute_result"
    }
   ],
   "source": [
    "funnel.columns = steps.index\n",
    "funnel.head()"
   ]
  },
  {
   "cell_type": "code",
   "execution_count": 14,
   "metadata": {},
   "outputs": [
    {
     "data": {
      "text/plain": [
       "[['Steps', 'values'],\n",
       " ['View', 6509602],\n",
       " ['Cart', 410052],\n",
       " ['Purchase', 451527]]"
      ]
     },
     "execution_count": 14,
     "metadata": {},
     "output_type": "execute_result"
    }
   ],
   "source": [
    "step_values = [\n",
    "    ['Steps', 'values'],\n",
    "    ['View', funnel['view'].notnull().sum()],\n",
    "    ['Cart', funnel['cart'].notnull().sum()],\n",
    "    ['Purchase', funnel['purchase'].notnull().sum()]\n",
    "]\n",
    "\n",
    "step_values"
   ]
  },
  {
   "cell_type": "code",
   "execution_count": 15,
   "metadata": {},
   "outputs": [
    {
     "data": {
      "application/vnd.plotly.v1+json": {
       "config": {
        "linkText": "Export to plot.ly",
        "plotlyServerURL": "https://plot.ly",
        "showLink": false
       },
       "data": [
        {
         "colorscale": [
          [
           0,
           "#00083e"
          ],
          [
           0.5,
           "#ededee"
          ],
          [
           1,
           "#ffffff"
          ]
         ],
         "hoverinfo": "none",
         "opacity": 0.75,
         "showscale": false,
         "type": "heatmap",
         "z": [
          [
           0,
           0
          ],
          [
           0.5,
           0.5
          ],
          [
           1,
           1
          ],
          [
           0.5,
           0.5
          ]
         ]
        }
       ],
       "layout": {
        "annotations": [
         {
          "align": "left",
          "font": {
           "color": "#ffffff"
          },
          "showarrow": false,
          "text": "<b>Steps</b>",
          "x": -0.45,
          "xanchor": "left",
          "xref": "x",
          "y": 0,
          "yref": "y"
         },
         {
          "align": "left",
          "font": {
           "color": "#ffffff"
          },
          "showarrow": false,
          "text": "<b>values</b>",
          "x": 0.55,
          "xanchor": "left",
          "xref": "x",
          "y": 0,
          "yref": "y"
         },
         {
          "align": "left",
          "font": {
           "color": "#000000"
          },
          "showarrow": false,
          "text": "View",
          "x": -0.45,
          "xanchor": "left",
          "xref": "x",
          "y": 1,
          "yref": "y"
         },
         {
          "align": "left",
          "font": {
           "color": "#000000"
          },
          "showarrow": false,
          "text": "6509602",
          "x": 0.55,
          "xanchor": "left",
          "xref": "x",
          "y": 1,
          "yref": "y"
         },
         {
          "align": "left",
          "font": {
           "color": "#000000"
          },
          "showarrow": false,
          "text": "Cart",
          "x": -0.45,
          "xanchor": "left",
          "xref": "x",
          "y": 2,
          "yref": "y"
         },
         {
          "align": "left",
          "font": {
           "color": "#000000"
          },
          "showarrow": false,
          "text": "410052",
          "x": 0.55,
          "xanchor": "left",
          "xref": "x",
          "y": 2,
          "yref": "y"
         },
         {
          "align": "left",
          "font": {
           "color": "#000000"
          },
          "showarrow": false,
          "text": "Purchase",
          "x": -0.45,
          "xanchor": "left",
          "xref": "x",
          "y": 3,
          "yref": "y"
         },
         {
          "align": "left",
          "font": {
           "color": "#000000"
          },
          "showarrow": false,
          "text": "451527",
          "x": 0.55,
          "xanchor": "left",
          "xref": "x",
          "y": 3,
          "yref": "y"
         }
        ],
        "height": 170,
        "margin": {
         "b": 0,
         "l": 0,
         "r": 0,
         "t": 0
        },
        "template": {
         "data": {
          "bar": [
           {
            "error_x": {
             "color": "#2a3f5f"
            },
            "error_y": {
             "color": "#2a3f5f"
            },
            "marker": {
             "line": {
              "color": "#E5ECF6",
              "width": 0.5
             },
             "pattern": {
              "fillmode": "overlay",
              "size": 10,
              "solidity": 0.2
             }
            },
            "type": "bar"
           }
          ],
          "barpolar": [
           {
            "marker": {
             "line": {
              "color": "#E5ECF6",
              "width": 0.5
             },
             "pattern": {
              "fillmode": "overlay",
              "size": 10,
              "solidity": 0.2
             }
            },
            "type": "barpolar"
           }
          ],
          "carpet": [
           {
            "aaxis": {
             "endlinecolor": "#2a3f5f",
             "gridcolor": "white",
             "linecolor": "white",
             "minorgridcolor": "white",
             "startlinecolor": "#2a3f5f"
            },
            "baxis": {
             "endlinecolor": "#2a3f5f",
             "gridcolor": "white",
             "linecolor": "white",
             "minorgridcolor": "white",
             "startlinecolor": "#2a3f5f"
            },
            "type": "carpet"
           }
          ],
          "choropleth": [
           {
            "colorbar": {
             "outlinewidth": 0,
             "ticks": ""
            },
            "type": "choropleth"
           }
          ],
          "contour": [
           {
            "colorbar": {
             "outlinewidth": 0,
             "ticks": ""
            },
            "colorscale": [
             [
              0,
              "#0d0887"
             ],
             [
              0.1111111111111111,
              "#46039f"
             ],
             [
              0.2222222222222222,
              "#7201a8"
             ],
             [
              0.3333333333333333,
              "#9c179e"
             ],
             [
              0.4444444444444444,
              "#bd3786"
             ],
             [
              0.5555555555555556,
              "#d8576b"
             ],
             [
              0.6666666666666666,
              "#ed7953"
             ],
             [
              0.7777777777777778,
              "#fb9f3a"
             ],
             [
              0.8888888888888888,
              "#fdca26"
             ],
             [
              1,
              "#f0f921"
             ]
            ],
            "type": "contour"
           }
          ],
          "contourcarpet": [
           {
            "colorbar": {
             "outlinewidth": 0,
             "ticks": ""
            },
            "type": "contourcarpet"
           }
          ],
          "heatmap": [
           {
            "colorbar": {
             "outlinewidth": 0,
             "ticks": ""
            },
            "colorscale": [
             [
              0,
              "#0d0887"
             ],
             [
              0.1111111111111111,
              "#46039f"
             ],
             [
              0.2222222222222222,
              "#7201a8"
             ],
             [
              0.3333333333333333,
              "#9c179e"
             ],
             [
              0.4444444444444444,
              "#bd3786"
             ],
             [
              0.5555555555555556,
              "#d8576b"
             ],
             [
              0.6666666666666666,
              "#ed7953"
             ],
             [
              0.7777777777777778,
              "#fb9f3a"
             ],
             [
              0.8888888888888888,
              "#fdca26"
             ],
             [
              1,
              "#f0f921"
             ]
            ],
            "type": "heatmap"
           }
          ],
          "heatmapgl": [
           {
            "colorbar": {
             "outlinewidth": 0,
             "ticks": ""
            },
            "colorscale": [
             [
              0,
              "#0d0887"
             ],
             [
              0.1111111111111111,
              "#46039f"
             ],
             [
              0.2222222222222222,
              "#7201a8"
             ],
             [
              0.3333333333333333,
              "#9c179e"
             ],
             [
              0.4444444444444444,
              "#bd3786"
             ],
             [
              0.5555555555555556,
              "#d8576b"
             ],
             [
              0.6666666666666666,
              "#ed7953"
             ],
             [
              0.7777777777777778,
              "#fb9f3a"
             ],
             [
              0.8888888888888888,
              "#fdca26"
             ],
             [
              1,
              "#f0f921"
             ]
            ],
            "type": "heatmapgl"
           }
          ],
          "histogram": [
           {
            "marker": {
             "pattern": {
              "fillmode": "overlay",
              "size": 10,
              "solidity": 0.2
             }
            },
            "type": "histogram"
           }
          ],
          "histogram2d": [
           {
            "colorbar": {
             "outlinewidth": 0,
             "ticks": ""
            },
            "colorscale": [
             [
              0,
              "#0d0887"
             ],
             [
              0.1111111111111111,
              "#46039f"
             ],
             [
              0.2222222222222222,
              "#7201a8"
             ],
             [
              0.3333333333333333,
              "#9c179e"
             ],
             [
              0.4444444444444444,
              "#bd3786"
             ],
             [
              0.5555555555555556,
              "#d8576b"
             ],
             [
              0.6666666666666666,
              "#ed7953"
             ],
             [
              0.7777777777777778,
              "#fb9f3a"
             ],
             [
              0.8888888888888888,
              "#fdca26"
             ],
             [
              1,
              "#f0f921"
             ]
            ],
            "type": "histogram2d"
           }
          ],
          "histogram2dcontour": [
           {
            "colorbar": {
             "outlinewidth": 0,
             "ticks": ""
            },
            "colorscale": [
             [
              0,
              "#0d0887"
             ],
             [
              0.1111111111111111,
              "#46039f"
             ],
             [
              0.2222222222222222,
              "#7201a8"
             ],
             [
              0.3333333333333333,
              "#9c179e"
             ],
             [
              0.4444444444444444,
              "#bd3786"
             ],
             [
              0.5555555555555556,
              "#d8576b"
             ],
             [
              0.6666666666666666,
              "#ed7953"
             ],
             [
              0.7777777777777778,
              "#fb9f3a"
             ],
             [
              0.8888888888888888,
              "#fdca26"
             ],
             [
              1,
              "#f0f921"
             ]
            ],
            "type": "histogram2dcontour"
           }
          ],
          "mesh3d": [
           {
            "colorbar": {
             "outlinewidth": 0,
             "ticks": ""
            },
            "type": "mesh3d"
           }
          ],
          "parcoords": [
           {
            "line": {
             "colorbar": {
              "outlinewidth": 0,
              "ticks": ""
             }
            },
            "type": "parcoords"
           }
          ],
          "pie": [
           {
            "automargin": true,
            "type": "pie"
           }
          ],
          "scatter": [
           {
            "marker": {
             "colorbar": {
              "outlinewidth": 0,
              "ticks": ""
             }
            },
            "type": "scatter"
           }
          ],
          "scatter3d": [
           {
            "line": {
             "colorbar": {
              "outlinewidth": 0,
              "ticks": ""
             }
            },
            "marker": {
             "colorbar": {
              "outlinewidth": 0,
              "ticks": ""
             }
            },
            "type": "scatter3d"
           }
          ],
          "scattercarpet": [
           {
            "marker": {
             "colorbar": {
              "outlinewidth": 0,
              "ticks": ""
             }
            },
            "type": "scattercarpet"
           }
          ],
          "scattergeo": [
           {
            "marker": {
             "colorbar": {
              "outlinewidth": 0,
              "ticks": ""
             }
            },
            "type": "scattergeo"
           }
          ],
          "scattergl": [
           {
            "marker": {
             "colorbar": {
              "outlinewidth": 0,
              "ticks": ""
             }
            },
            "type": "scattergl"
           }
          ],
          "scattermapbox": [
           {
            "marker": {
             "colorbar": {
              "outlinewidth": 0,
              "ticks": ""
             }
            },
            "type": "scattermapbox"
           }
          ],
          "scatterpolar": [
           {
            "marker": {
             "colorbar": {
              "outlinewidth": 0,
              "ticks": ""
             }
            },
            "type": "scatterpolar"
           }
          ],
          "scatterpolargl": [
           {
            "marker": {
             "colorbar": {
              "outlinewidth": 0,
              "ticks": ""
             }
            },
            "type": "scatterpolargl"
           }
          ],
          "scatterternary": [
           {
            "marker": {
             "colorbar": {
              "outlinewidth": 0,
              "ticks": ""
             }
            },
            "type": "scatterternary"
           }
          ],
          "surface": [
           {
            "colorbar": {
             "outlinewidth": 0,
             "ticks": ""
            },
            "colorscale": [
             [
              0,
              "#0d0887"
             ],
             [
              0.1111111111111111,
              "#46039f"
             ],
             [
              0.2222222222222222,
              "#7201a8"
             ],
             [
              0.3333333333333333,
              "#9c179e"
             ],
             [
              0.4444444444444444,
              "#bd3786"
             ],
             [
              0.5555555555555556,
              "#d8576b"
             ],
             [
              0.6666666666666666,
              "#ed7953"
             ],
             [
              0.7777777777777778,
              "#fb9f3a"
             ],
             [
              0.8888888888888888,
              "#fdca26"
             ],
             [
              1,
              "#f0f921"
             ]
            ],
            "type": "surface"
           }
          ],
          "table": [
           {
            "cells": {
             "fill": {
              "color": "#EBF0F8"
             },
             "line": {
              "color": "white"
             }
            },
            "header": {
             "fill": {
              "color": "#C8D4E3"
             },
             "line": {
              "color": "white"
             }
            },
            "type": "table"
           }
          ]
         },
         "layout": {
          "annotationdefaults": {
           "arrowcolor": "#2a3f5f",
           "arrowhead": 0,
           "arrowwidth": 1
          },
          "autotypenumbers": "strict",
          "coloraxis": {
           "colorbar": {
            "outlinewidth": 0,
            "ticks": ""
           }
          },
          "colorscale": {
           "diverging": [
            [
             0,
             "#8e0152"
            ],
            [
             0.1,
             "#c51b7d"
            ],
            [
             0.2,
             "#de77ae"
            ],
            [
             0.3,
             "#f1b6da"
            ],
            [
             0.4,
             "#fde0ef"
            ],
            [
             0.5,
             "#f7f7f7"
            ],
            [
             0.6,
             "#e6f5d0"
            ],
            [
             0.7,
             "#b8e186"
            ],
            [
             0.8,
             "#7fbc41"
            ],
            [
             0.9,
             "#4d9221"
            ],
            [
             1,
             "#276419"
            ]
           ],
           "sequential": [
            [
             0,
             "#0d0887"
            ],
            [
             0.1111111111111111,
             "#46039f"
            ],
            [
             0.2222222222222222,
             "#7201a8"
            ],
            [
             0.3333333333333333,
             "#9c179e"
            ],
            [
             0.4444444444444444,
             "#bd3786"
            ],
            [
             0.5555555555555556,
             "#d8576b"
            ],
            [
             0.6666666666666666,
             "#ed7953"
            ],
            [
             0.7777777777777778,
             "#fb9f3a"
            ],
            [
             0.8888888888888888,
             "#fdca26"
            ],
            [
             1,
             "#f0f921"
            ]
           ],
           "sequentialminus": [
            [
             0,
             "#0d0887"
            ],
            [
             0.1111111111111111,
             "#46039f"
            ],
            [
             0.2222222222222222,
             "#7201a8"
            ],
            [
             0.3333333333333333,
             "#9c179e"
            ],
            [
             0.4444444444444444,
             "#bd3786"
            ],
            [
             0.5555555555555556,
             "#d8576b"
            ],
            [
             0.6666666666666666,
             "#ed7953"
            ],
            [
             0.7777777777777778,
             "#fb9f3a"
            ],
            [
             0.8888888888888888,
             "#fdca26"
            ],
            [
             1,
             "#f0f921"
            ]
           ]
          },
          "colorway": [
           "#636efa",
           "#EF553B",
           "#00cc96",
           "#ab63fa",
           "#FFA15A",
           "#19d3f3",
           "#FF6692",
           "#B6E880",
           "#FF97FF",
           "#FECB52"
          ],
          "font": {
           "color": "#2a3f5f"
          },
          "geo": {
           "bgcolor": "white",
           "lakecolor": "white",
           "landcolor": "#E5ECF6",
           "showlakes": true,
           "showland": true,
           "subunitcolor": "white"
          },
          "hoverlabel": {
           "align": "left"
          },
          "hovermode": "closest",
          "mapbox": {
           "style": "light"
          },
          "paper_bgcolor": "white",
          "plot_bgcolor": "#E5ECF6",
          "polar": {
           "angularaxis": {
            "gridcolor": "white",
            "linecolor": "white",
            "ticks": ""
           },
           "bgcolor": "#E5ECF6",
           "radialaxis": {
            "gridcolor": "white",
            "linecolor": "white",
            "ticks": ""
           }
          },
          "scene": {
           "xaxis": {
            "backgroundcolor": "#E5ECF6",
            "gridcolor": "white",
            "gridwidth": 2,
            "linecolor": "white",
            "showbackground": true,
            "ticks": "",
            "zerolinecolor": "white"
           },
           "yaxis": {
            "backgroundcolor": "#E5ECF6",
            "gridcolor": "white",
            "gridwidth": 2,
            "linecolor": "white",
            "showbackground": true,
            "ticks": "",
            "zerolinecolor": "white"
           },
           "zaxis": {
            "backgroundcolor": "#E5ECF6",
            "gridcolor": "white",
            "gridwidth": 2,
            "linecolor": "white",
            "showbackground": true,
            "ticks": "",
            "zerolinecolor": "white"
           }
          },
          "shapedefaults": {
           "line": {
            "color": "#2a3f5f"
           }
          },
          "ternary": {
           "aaxis": {
            "gridcolor": "white",
            "linecolor": "white",
            "ticks": ""
           },
           "baxis": {
            "gridcolor": "white",
            "linecolor": "white",
            "ticks": ""
           },
           "bgcolor": "#E5ECF6",
           "caxis": {
            "gridcolor": "white",
            "linecolor": "white",
            "ticks": ""
           }
          },
          "title": {
           "x": 0.05
          },
          "xaxis": {
           "automargin": true,
           "gridcolor": "white",
           "linecolor": "white",
           "ticks": "",
           "title": {
            "standoff": 15
           },
           "zerolinecolor": "white",
           "zerolinewidth": 2
          },
          "yaxis": {
           "automargin": true,
           "gridcolor": "white",
           "linecolor": "white",
           "ticks": "",
           "title": {
            "standoff": 15
           },
           "zerolinecolor": "white",
           "zerolinewidth": 2
          }
         }
        },
        "xaxis": {
         "dtick": 1,
         "gridwidth": 2,
         "showticklabels": false,
         "tick0": -0.5,
         "ticks": "",
         "zeroline": false
        },
        "yaxis": {
         "autorange": "reversed",
         "dtick": 1,
         "gridwidth": 2,
         "showticklabels": false,
         "tick0": 0.5,
         "ticks": "",
         "zeroline": false
        }
       }
      }
     },
     "metadata": {},
     "output_type": "display_data"
    }
   ],
   "source": [
    "table = ff.create_table(step_values)\n",
    "iplot(table)"
   ]
  },
  {
   "cell_type": "code",
   "execution_count": 16,
   "metadata": {},
   "outputs": [
    {
     "data": {
      "application/vnd.plotly.v1+json": {
       "config": {
        "plotlyServerURL": "https://plot.ly"
       },
       "data": [
        {
         "hovertemplate": "values=%{x}<br>steps=%{y}<extra></extra>",
         "legendgroup": "",
         "marker": {
          "color": "#636efa"
         },
         "name": "",
         "orientation": "h",
         "showlegend": false,
         "type": "funnel",
         "x": [
          6509602,
          410052,
          451527
         ],
         "xaxis": "x",
         "y": [
          "View",
          "Cart",
          "Purchase"
         ],
         "yaxis": "y"
        }
       ],
       "layout": {
        "legend": {
         "tracegroupgap": 0
        },
        "margin": {
         "t": 60
        },
        "template": {
         "data": {
          "bar": [
           {
            "error_x": {
             "color": "#2a3f5f"
            },
            "error_y": {
             "color": "#2a3f5f"
            },
            "marker": {
             "line": {
              "color": "#E5ECF6",
              "width": 0.5
             },
             "pattern": {
              "fillmode": "overlay",
              "size": 10,
              "solidity": 0.2
             }
            },
            "type": "bar"
           }
          ],
          "barpolar": [
           {
            "marker": {
             "line": {
              "color": "#E5ECF6",
              "width": 0.5
             },
             "pattern": {
              "fillmode": "overlay",
              "size": 10,
              "solidity": 0.2
             }
            },
            "type": "barpolar"
           }
          ],
          "carpet": [
           {
            "aaxis": {
             "endlinecolor": "#2a3f5f",
             "gridcolor": "white",
             "linecolor": "white",
             "minorgridcolor": "white",
             "startlinecolor": "#2a3f5f"
            },
            "baxis": {
             "endlinecolor": "#2a3f5f",
             "gridcolor": "white",
             "linecolor": "white",
             "minorgridcolor": "white",
             "startlinecolor": "#2a3f5f"
            },
            "type": "carpet"
           }
          ],
          "choropleth": [
           {
            "colorbar": {
             "outlinewidth": 0,
             "ticks": ""
            },
            "type": "choropleth"
           }
          ],
          "contour": [
           {
            "colorbar": {
             "outlinewidth": 0,
             "ticks": ""
            },
            "colorscale": [
             [
              0,
              "#0d0887"
             ],
             [
              0.1111111111111111,
              "#46039f"
             ],
             [
              0.2222222222222222,
              "#7201a8"
             ],
             [
              0.3333333333333333,
              "#9c179e"
             ],
             [
              0.4444444444444444,
              "#bd3786"
             ],
             [
              0.5555555555555556,
              "#d8576b"
             ],
             [
              0.6666666666666666,
              "#ed7953"
             ],
             [
              0.7777777777777778,
              "#fb9f3a"
             ],
             [
              0.8888888888888888,
              "#fdca26"
             ],
             [
              1,
              "#f0f921"
             ]
            ],
            "type": "contour"
           }
          ],
          "contourcarpet": [
           {
            "colorbar": {
             "outlinewidth": 0,
             "ticks": ""
            },
            "type": "contourcarpet"
           }
          ],
          "heatmap": [
           {
            "colorbar": {
             "outlinewidth": 0,
             "ticks": ""
            },
            "colorscale": [
             [
              0,
              "#0d0887"
             ],
             [
              0.1111111111111111,
              "#46039f"
             ],
             [
              0.2222222222222222,
              "#7201a8"
             ],
             [
              0.3333333333333333,
              "#9c179e"
             ],
             [
              0.4444444444444444,
              "#bd3786"
             ],
             [
              0.5555555555555556,
              "#d8576b"
             ],
             [
              0.6666666666666666,
              "#ed7953"
             ],
             [
              0.7777777777777778,
              "#fb9f3a"
             ],
             [
              0.8888888888888888,
              "#fdca26"
             ],
             [
              1,
              "#f0f921"
             ]
            ],
            "type": "heatmap"
           }
          ],
          "heatmapgl": [
           {
            "colorbar": {
             "outlinewidth": 0,
             "ticks": ""
            },
            "colorscale": [
             [
              0,
              "#0d0887"
             ],
             [
              0.1111111111111111,
              "#46039f"
             ],
             [
              0.2222222222222222,
              "#7201a8"
             ],
             [
              0.3333333333333333,
              "#9c179e"
             ],
             [
              0.4444444444444444,
              "#bd3786"
             ],
             [
              0.5555555555555556,
              "#d8576b"
             ],
             [
              0.6666666666666666,
              "#ed7953"
             ],
             [
              0.7777777777777778,
              "#fb9f3a"
             ],
             [
              0.8888888888888888,
              "#fdca26"
             ],
             [
              1,
              "#f0f921"
             ]
            ],
            "type": "heatmapgl"
           }
          ],
          "histogram": [
           {
            "marker": {
             "pattern": {
              "fillmode": "overlay",
              "size": 10,
              "solidity": 0.2
             }
            },
            "type": "histogram"
           }
          ],
          "histogram2d": [
           {
            "colorbar": {
             "outlinewidth": 0,
             "ticks": ""
            },
            "colorscale": [
             [
              0,
              "#0d0887"
             ],
             [
              0.1111111111111111,
              "#46039f"
             ],
             [
              0.2222222222222222,
              "#7201a8"
             ],
             [
              0.3333333333333333,
              "#9c179e"
             ],
             [
              0.4444444444444444,
              "#bd3786"
             ],
             [
              0.5555555555555556,
              "#d8576b"
             ],
             [
              0.6666666666666666,
              "#ed7953"
             ],
             [
              0.7777777777777778,
              "#fb9f3a"
             ],
             [
              0.8888888888888888,
              "#fdca26"
             ],
             [
              1,
              "#f0f921"
             ]
            ],
            "type": "histogram2d"
           }
          ],
          "histogram2dcontour": [
           {
            "colorbar": {
             "outlinewidth": 0,
             "ticks": ""
            },
            "colorscale": [
             [
              0,
              "#0d0887"
             ],
             [
              0.1111111111111111,
              "#46039f"
             ],
             [
              0.2222222222222222,
              "#7201a8"
             ],
             [
              0.3333333333333333,
              "#9c179e"
             ],
             [
              0.4444444444444444,
              "#bd3786"
             ],
             [
              0.5555555555555556,
              "#d8576b"
             ],
             [
              0.6666666666666666,
              "#ed7953"
             ],
             [
              0.7777777777777778,
              "#fb9f3a"
             ],
             [
              0.8888888888888888,
              "#fdca26"
             ],
             [
              1,
              "#f0f921"
             ]
            ],
            "type": "histogram2dcontour"
           }
          ],
          "mesh3d": [
           {
            "colorbar": {
             "outlinewidth": 0,
             "ticks": ""
            },
            "type": "mesh3d"
           }
          ],
          "parcoords": [
           {
            "line": {
             "colorbar": {
              "outlinewidth": 0,
              "ticks": ""
             }
            },
            "type": "parcoords"
           }
          ],
          "pie": [
           {
            "automargin": true,
            "type": "pie"
           }
          ],
          "scatter": [
           {
            "marker": {
             "colorbar": {
              "outlinewidth": 0,
              "ticks": ""
             }
            },
            "type": "scatter"
           }
          ],
          "scatter3d": [
           {
            "line": {
             "colorbar": {
              "outlinewidth": 0,
              "ticks": ""
             }
            },
            "marker": {
             "colorbar": {
              "outlinewidth": 0,
              "ticks": ""
             }
            },
            "type": "scatter3d"
           }
          ],
          "scattercarpet": [
           {
            "marker": {
             "colorbar": {
              "outlinewidth": 0,
              "ticks": ""
             }
            },
            "type": "scattercarpet"
           }
          ],
          "scattergeo": [
           {
            "marker": {
             "colorbar": {
              "outlinewidth": 0,
              "ticks": ""
             }
            },
            "type": "scattergeo"
           }
          ],
          "scattergl": [
           {
            "marker": {
             "colorbar": {
              "outlinewidth": 0,
              "ticks": ""
             }
            },
            "type": "scattergl"
           }
          ],
          "scattermapbox": [
           {
            "marker": {
             "colorbar": {
              "outlinewidth": 0,
              "ticks": ""
             }
            },
            "type": "scattermapbox"
           }
          ],
          "scatterpolar": [
           {
            "marker": {
             "colorbar": {
              "outlinewidth": 0,
              "ticks": ""
             }
            },
            "type": "scatterpolar"
           }
          ],
          "scatterpolargl": [
           {
            "marker": {
             "colorbar": {
              "outlinewidth": 0,
              "ticks": ""
             }
            },
            "type": "scatterpolargl"
           }
          ],
          "scatterternary": [
           {
            "marker": {
             "colorbar": {
              "outlinewidth": 0,
              "ticks": ""
             }
            },
            "type": "scatterternary"
           }
          ],
          "surface": [
           {
            "colorbar": {
             "outlinewidth": 0,
             "ticks": ""
            },
            "colorscale": [
             [
              0,
              "#0d0887"
             ],
             [
              0.1111111111111111,
              "#46039f"
             ],
             [
              0.2222222222222222,
              "#7201a8"
             ],
             [
              0.3333333333333333,
              "#9c179e"
             ],
             [
              0.4444444444444444,
              "#bd3786"
             ],
             [
              0.5555555555555556,
              "#d8576b"
             ],
             [
              0.6666666666666666,
              "#ed7953"
             ],
             [
              0.7777777777777778,
              "#fb9f3a"
             ],
             [
              0.8888888888888888,
              "#fdca26"
             ],
             [
              1,
              "#f0f921"
             ]
            ],
            "type": "surface"
           }
          ],
          "table": [
           {
            "cells": {
             "fill": {
              "color": "#EBF0F8"
             },
             "line": {
              "color": "white"
             }
            },
            "header": {
             "fill": {
              "color": "#C8D4E3"
             },
             "line": {
              "color": "white"
             }
            },
            "type": "table"
           }
          ]
         },
         "layout": {
          "annotationdefaults": {
           "arrowcolor": "#2a3f5f",
           "arrowhead": 0,
           "arrowwidth": 1
          },
          "autotypenumbers": "strict",
          "coloraxis": {
           "colorbar": {
            "outlinewidth": 0,
            "ticks": ""
           }
          },
          "colorscale": {
           "diverging": [
            [
             0,
             "#8e0152"
            ],
            [
             0.1,
             "#c51b7d"
            ],
            [
             0.2,
             "#de77ae"
            ],
            [
             0.3,
             "#f1b6da"
            ],
            [
             0.4,
             "#fde0ef"
            ],
            [
             0.5,
             "#f7f7f7"
            ],
            [
             0.6,
             "#e6f5d0"
            ],
            [
             0.7,
             "#b8e186"
            ],
            [
             0.8,
             "#7fbc41"
            ],
            [
             0.9,
             "#4d9221"
            ],
            [
             1,
             "#276419"
            ]
           ],
           "sequential": [
            [
             0,
             "#0d0887"
            ],
            [
             0.1111111111111111,
             "#46039f"
            ],
            [
             0.2222222222222222,
             "#7201a8"
            ],
            [
             0.3333333333333333,
             "#9c179e"
            ],
            [
             0.4444444444444444,
             "#bd3786"
            ],
            [
             0.5555555555555556,
             "#d8576b"
            ],
            [
             0.6666666666666666,
             "#ed7953"
            ],
            [
             0.7777777777777778,
             "#fb9f3a"
            ],
            [
             0.8888888888888888,
             "#fdca26"
            ],
            [
             1,
             "#f0f921"
            ]
           ],
           "sequentialminus": [
            [
             0,
             "#0d0887"
            ],
            [
             0.1111111111111111,
             "#46039f"
            ],
            [
             0.2222222222222222,
             "#7201a8"
            ],
            [
             0.3333333333333333,
             "#9c179e"
            ],
            [
             0.4444444444444444,
             "#bd3786"
            ],
            [
             0.5555555555555556,
             "#d8576b"
            ],
            [
             0.6666666666666666,
             "#ed7953"
            ],
            [
             0.7777777777777778,
             "#fb9f3a"
            ],
            [
             0.8888888888888888,
             "#fdca26"
            ],
            [
             1,
             "#f0f921"
            ]
           ]
          },
          "colorway": [
           "#636efa",
           "#EF553B",
           "#00cc96",
           "#ab63fa",
           "#FFA15A",
           "#19d3f3",
           "#FF6692",
           "#B6E880",
           "#FF97FF",
           "#FECB52"
          ],
          "font": {
           "color": "#2a3f5f"
          },
          "geo": {
           "bgcolor": "white",
           "lakecolor": "white",
           "landcolor": "#E5ECF6",
           "showlakes": true,
           "showland": true,
           "subunitcolor": "white"
          },
          "hoverlabel": {
           "align": "left"
          },
          "hovermode": "closest",
          "mapbox": {
           "style": "light"
          },
          "paper_bgcolor": "white",
          "plot_bgcolor": "#E5ECF6",
          "polar": {
           "angularaxis": {
            "gridcolor": "white",
            "linecolor": "white",
            "ticks": ""
           },
           "bgcolor": "#E5ECF6",
           "radialaxis": {
            "gridcolor": "white",
            "linecolor": "white",
            "ticks": ""
           }
          },
          "scene": {
           "xaxis": {
            "backgroundcolor": "#E5ECF6",
            "gridcolor": "white",
            "gridwidth": 2,
            "linecolor": "white",
            "showbackground": true,
            "ticks": "",
            "zerolinecolor": "white"
           },
           "yaxis": {
            "backgroundcolor": "#E5ECF6",
            "gridcolor": "white",
            "gridwidth": 2,
            "linecolor": "white",
            "showbackground": true,
            "ticks": "",
            "zerolinecolor": "white"
           },
           "zaxis": {
            "backgroundcolor": "#E5ECF6",
            "gridcolor": "white",
            "gridwidth": 2,
            "linecolor": "white",
            "showbackground": true,
            "ticks": "",
            "zerolinecolor": "white"
           }
          },
          "shapedefaults": {
           "line": {
            "color": "#2a3f5f"
           }
          },
          "ternary": {
           "aaxis": {
            "gridcolor": "white",
            "linecolor": "white",
            "ticks": ""
           },
           "baxis": {
            "gridcolor": "white",
            "linecolor": "white",
            "ticks": ""
           },
           "bgcolor": "#E5ECF6",
           "caxis": {
            "gridcolor": "white",
            "linecolor": "white",
            "ticks": ""
           }
          },
          "title": {
           "x": 0.05
          },
          "xaxis": {
           "automargin": true,
           "gridcolor": "white",
           "linecolor": "white",
           "ticks": "",
           "title": {
            "standoff": 15
           },
           "zerolinecolor": "white",
           "zerolinewidth": 2
          },
          "yaxis": {
           "automargin": true,
           "gridcolor": "white",
           "linecolor": "white",
           "ticks": "",
           "title": {
            "standoff": 15
           },
           "zerolinecolor": "white",
           "zerolinewidth": 2
          }
         }
        },
        "xaxis": {
         "anchor": "y",
         "domain": [
          0,
          1
         ],
         "title": {
          "text": "values"
         }
        },
        "yaxis": {
         "anchor": "x",
         "domain": [
          0,
          1
         ],
         "title": {
          "text": "steps"
         }
        }
       }
      }
     },
     "metadata": {},
     "output_type": "display_data"
    }
   ],
   "source": [
    "data = dict(\n",
    "    values = [i[1] for i in step_values[1:]],\n",
    "    steps = ['View', 'Cart', 'Purchase']\n",
    ")\n",
    "\n",
    "fig = px.funnel(data, x='values', y='steps')\n",
    "fig.show()"
   ]
  },
  {
   "attachments": {},
   "cell_type": "markdown",
   "metadata": {},
   "source": [
    "각 단계로 넘어가는 평균 시간을 계산한다."
   ]
  },
  {
   "cell_type": "code",
   "execution_count": 17,
   "metadata": {},
   "outputs": [
    {
     "data": {
      "text/html": [
       "<div>\n",
       "<style scoped>\n",
       "    .dataframe tbody tr th:only-of-type {\n",
       "        vertical-align: middle;\n",
       "    }\n",
       "\n",
       "    .dataframe tbody tr th {\n",
       "        vertical-align: top;\n",
       "    }\n",
       "\n",
       "    .dataframe thead th {\n",
       "        text-align: right;\n",
       "    }\n",
       "</style>\n",
       "<table border=\"1\" class=\"dataframe\">\n",
       "  <thead>\n",
       "    <tr style=\"text-align: right;\">\n",
       "      <th></th>\n",
       "      <th>view</th>\n",
       "      <th>cart</th>\n",
       "      <th>purchase</th>\n",
       "    </tr>\n",
       "    <tr>\n",
       "      <th>user_session</th>\n",
       "      <th></th>\n",
       "      <th></th>\n",
       "      <th></th>\n",
       "    </tr>\n",
       "  </thead>\n",
       "  <tbody>\n",
       "    <tr>\n",
       "      <th>00000042-3e3f-42f9-810d-f3d264139c50</th>\n",
       "      <td>2019-10-18 19:54:45</td>\n",
       "      <td>NaT</td>\n",
       "      <td>NaT</td>\n",
       "    </tr>\n",
       "    <tr>\n",
       "      <th>00000083-8816-4d58-a9b8-f52f54186edc</th>\n",
       "      <td>2019-10-06 20:24:45</td>\n",
       "      <td>2019-10-06 20:33:54</td>\n",
       "      <td>2019-10-06 20:34:30</td>\n",
       "    </tr>\n",
       "    <tr>\n",
       "      <th>000003eb-b63e-45d9-9f26-f229057c654a</th>\n",
       "      <td>2019-10-03 20:28:52</td>\n",
       "      <td>NaT</td>\n",
       "      <td>NaT</td>\n",
       "    </tr>\n",
       "    <tr>\n",
       "      <th>00000a05-fa4e-4486-b5e8-c8bffa63b422</th>\n",
       "      <td>2019-10-07 23:16:54</td>\n",
       "      <td>NaT</td>\n",
       "      <td>NaT</td>\n",
       "    </tr>\n",
       "    <tr>\n",
       "      <th>00000aaa-d774-49bc-9c31-0c9f6e1c2f0a</th>\n",
       "      <td>2019-10-19 21:41:17</td>\n",
       "      <td>NaT</td>\n",
       "      <td>NaT</td>\n",
       "    </tr>\n",
       "  </tbody>\n",
       "</table>\n",
       "</div>"
      ],
      "text/plain": [
       "                                                    view                cart  \\\n",
       "user_session                                                                   \n",
       "00000042-3e3f-42f9-810d-f3d264139c50 2019-10-18 19:54:45                 NaT   \n",
       "00000083-8816-4d58-a9b8-f52f54186edc 2019-10-06 20:24:45 2019-10-06 20:33:54   \n",
       "000003eb-b63e-45d9-9f26-f229057c654a 2019-10-03 20:28:52                 NaT   \n",
       "00000a05-fa4e-4486-b5e8-c8bffa63b422 2019-10-07 23:16:54                 NaT   \n",
       "00000aaa-d774-49bc-9c31-0c9f6e1c2f0a 2019-10-19 21:41:17                 NaT   \n",
       "\n",
       "                                                purchase  \n",
       "user_session                                              \n",
       "00000042-3e3f-42f9-810d-f3d264139c50                 NaT  \n",
       "00000083-8816-4d58-a9b8-f52f54186edc 2019-10-06 20:34:30  \n",
       "000003eb-b63e-45d9-9f26-f229057c654a                 NaT  \n",
       "00000a05-fa4e-4486-b5e8-c8bffa63b422                 NaT  \n",
       "00000aaa-d774-49bc-9c31-0c9f6e1c2f0a                 NaT  "
      ]
     },
     "execution_count": 17,
     "metadata": {},
     "output_type": "execute_result"
    }
   ],
   "source": [
    "funnel.head()"
   ]
  },
  {
   "attachments": {},
   "cell_type": "markdown",
   "metadata": {},
   "source": [
    "view에서 cart로 넘어가는 평균 시간은 5분 15초이다."
   ]
  },
  {
   "cell_type": "code",
   "execution_count": 19,
   "metadata": {},
   "outputs": [
    {
     "data": {
      "text/plain": [
       "Timedelta('0 days 00:05:15.930409096')"
      ]
     },
     "execution_count": 19,
     "metadata": {},
     "output_type": "execute_result"
    }
   ],
   "source": [
    "# view -> cart\n",
    "np.mean(funnel['cart'] - funnel['view'])"
   ]
  },
  {
   "attachments": {},
   "cell_type": "markdown",
   "metadata": {},
   "source": [
    "cart에서 purchase로 넘어가는 평균 시간은 2분 37초이다."
   ]
  },
  {
   "cell_type": "code",
   "execution_count": 20,
   "metadata": {},
   "outputs": [
    {
     "data": {
      "text/plain": [
       "Timedelta('0 days 00:02:37.160869586')"
      ]
     },
     "execution_count": 20,
     "metadata": {},
     "output_type": "execute_result"
    }
   ],
   "source": [
    "# cart -> purchase\n",
    "np.mean(funnel['purchase'] - funnel['cart'])"
   ]
  }
 ],
 "metadata": {
  "kernelspec": {
   "display_name": "base",
   "language": "python",
   "name": "python3"
  },
  "language_info": {
   "codemirror_mode": {
    "name": "ipython",
    "version": 3
   },
   "file_extension": ".py",
   "mimetype": "text/x-python",
   "name": "python",
   "nbconvert_exporter": "python",
   "pygments_lexer": "ipython3",
   "version": "3.8.8"
  },
  "orig_nbformat": 4,
  "vscode": {
   "interpreter": {
    "hash": "263930470851f494f0ed2879c35b57985588df20f9e529b86e97dd5eb9ddc466"
   }
  }
 },
 "nbformat": 4,
 "nbformat_minor": 2
}
