{
  "cells": [
    {
      "cell_type": "markdown",
      "metadata": {
        "id": "kl7fyzCZcrlY"
      },
      "source": [
        "# Spaceship Titanic\n",
        "- `PassengerId` : 각 승객에 대한 고유 ID입니다. 각 ID는 ggg_pp 형식을 취하며, 여기서 ggg는 승객과 함께 여행하는 그룹을 나타내고 pp는 해당 그룹 내의 번호\n",
        "    한 그룹의 사람들은 종종 가족 구성원이지만 항상 그런 것은 아니다.\n",
        "- `HomePlanet` : 승객이 출발한 행성(일반적으로 영구 거주 행성)\n",
        "- `CryoSleep` : 승객이 항해 중 일시 중단된 애니메이션을 선택했는지 여부, 저온수면에 있는 승객들은 그들의 선실에 갇혀있다.\n",
        "- `Cabin` : 승객이 머무는 객실 번호입니다. deck/num/side 형식을 취하며, 여기서 side는 좌현에 대해 P 또는 우현에 대해 S\n",
        "- `Destination` : 승객이 하차할 행성\n",
        "- `Age` : 탑승자의 연령\n",
        "- `VIP` : 승객이 여행 중 특별 VIP 서비스를 위해 비용을 지불했는지 여부\n",
        "룸서비스, 푸드코트, 쇼핑몰, 스파, VR데크 - 승객이 우주선 타이타닉의 많은 고급 편의시설에서 청구한 금액\n",
        "- `Name` : 승객의 이름과 성\n",
        "- `Transported` : 승객이 다른 차원으로 운송되었는지 여부. 예측하려는 목표값"
      ]
    },
    {
      "cell_type": "markdown",
      "metadata": {
        "id": "tPUr9g3Dcrld"
      },
      "source": [
        "# Library & Data Load"
      ]
    },
    {
      "cell_type": "code",
      "execution_count": null,
      "metadata": {
        "id": "WBWWckGVcrlf"
      },
      "outputs": [],
      "source": [
        "import numpy as np\n",
        "import pandas as pd\n",
        "import seaborn as sns\n",
        "sns.set_style(\"whitegrid\")\n",
        "sns.set_context(\"talk\")\n",
        "\n",
        "import matplotlib.pyplot as plt\n",
        "plt.style.use('seaborn')\n",
        "\n",
        "import plotly.express as px\n",
        "import plotly.graph_objects as go\n",
        "\n",
        "from plotly.subplots import make_subplots\n",
        "\n",
        "import warnings\n",
        "warnings.filterwarnings('ignore')"
      ]
    },
    {
      "cell_type": "code",
      "source": [
        "# pip install lazypredict"
      ],
      "metadata": {
        "id": "8OwUCKhVnyuL"
      },
      "execution_count": null,
      "outputs": []
    },
    {
      "cell_type": "code",
      "execution_count": null,
      "metadata": {
        "id": "KJ7nxjQXcrli"
      },
      "outputs": [],
      "source": [
        "from sklearn.model_selection import GridSearchCV, train_test_split, StratifiedKFold, KFold\n",
        "from sklearn.preprocessing import MinMaxScaler, StandardScaler, LabelEncoder\n",
        "from sklearn.metrics import accuracy_score, confusion_matrix, roc_auc_score, classification_report\n",
        "\n",
        "from sklearn.svm import SVC, LinearSVC\n",
        "\n",
        "from sklearn import tree\n",
        "from sklearn.tree import DecisionTreeClassifier\n",
        "from sklearn.ensemble import ExtraTreesClassifier\n",
        "from sklearn.ensemble import VotingClassifier\n",
        "from sklearn.ensemble import AdaBoostClassifier\n",
        "from sklearn.ensemble import BaggingClassifier\n",
        "from sklearn.ensemble import RandomForestClassifier\n",
        "from sklearn.ensemble import GradientBoostingClassifier\n",
        "from sklearn.neighbors import KNeighborsClassifier\n",
        "\n",
        "import xgboost as xgb\n",
        "from xgboost import XGBClassifier\n",
        "from xgboost import plot_importance, plot_tree\n",
        "from lightgbm import LGBMClassifier\n",
        "from lightgbm import plot_importance, plot_metric, plot_tree\n",
        "\n",
        "from sklearn.impute import SimpleImputer\n",
        "import lazypredict\n",
        "from lazypredict.Supervised import LazyClassifier\n",
        "from IPython.display import clear_output\n",
        "import time"
      ]
    },
    {
      "cell_type": "code",
      "execution_count": null,
      "metadata": {
        "id": "tta37mI8crlj"
      },
      "outputs": [],
      "source": [
        "train = pd.read_csv('/content/train.csv')\n",
        "test = pd.read_csv('/content/test.csv')\n",
        "submission = pd.read_csv('/content/sample_submission.csv')"
      ]
    },
    {
      "cell_type": "markdown",
      "metadata": {
        "id": "rJVTC7X-crll"
      },
      "source": [
        "# Exploring Data\n",
        "## Train "
      ]
    },
    {
      "cell_type": "code",
      "execution_count": null,
      "metadata": {
        "colab": {
          "base_uri": "https://localhost:8080/",
          "height": 206
        },
        "id": "j5rhm-YDcrlm",
        "outputId": "788fe08d-d231-466f-baa8-553668657b09"
      },
      "outputs": [
        {
          "output_type": "execute_result",
          "data": {
            "text/plain": [
              "  PassengerId HomePlanet CryoSleep  Cabin  Destination   Age    VIP  \\\n",
              "0     0001_01     Europa     False  B/0/P  TRAPPIST-1e 39.00  False   \n",
              "1     0002_01      Earth     False  F/0/S  TRAPPIST-1e 24.00  False   \n",
              "2     0003_01     Europa     False  A/0/S  TRAPPIST-1e 58.00   True   \n",
              "3     0003_02     Europa     False  A/0/S  TRAPPIST-1e 33.00  False   \n",
              "4     0004_01      Earth     False  F/1/S  TRAPPIST-1e 16.00  False   \n",
              "\n",
              "   RoomService  FoodCourt  ShoppingMall     Spa  VRDeck               Name  \\\n",
              "0         0.00       0.00          0.00    0.00    0.00    Maham Ofracculy   \n",
              "1       109.00       9.00         25.00  549.00   44.00       Juanna Vines   \n",
              "2        43.00    3576.00          0.00 6715.00   49.00      Altark Susent   \n",
              "3         0.00    1283.00        371.00 3329.00  193.00       Solam Susent   \n",
              "4       303.00      70.00        151.00  565.00    2.00  Willy Santantines   \n",
              "\n",
              "   Transported  \n",
              "0        False  \n",
              "1         True  \n",
              "2        False  \n",
              "3        False  \n",
              "4         True  "
            ],
            "text/html": [
              "\n",
              "  <div id=\"df-3d06827f-583f-4505-9c61-701eeb1d842c\">\n",
              "    <div class=\"colab-df-container\">\n",
              "      <div>\n",
              "<style scoped>\n",
              "    .dataframe tbody tr th:only-of-type {\n",
              "        vertical-align: middle;\n",
              "    }\n",
              "\n",
              "    .dataframe tbody tr th {\n",
              "        vertical-align: top;\n",
              "    }\n",
              "\n",
              "    .dataframe thead th {\n",
              "        text-align: right;\n",
              "    }\n",
              "</style>\n",
              "<table border=\"1\" class=\"dataframe\">\n",
              "  <thead>\n",
              "    <tr style=\"text-align: right;\">\n",
              "      <th></th>\n",
              "      <th>PassengerId</th>\n",
              "      <th>HomePlanet</th>\n",
              "      <th>CryoSleep</th>\n",
              "      <th>Cabin</th>\n",
              "      <th>Destination</th>\n",
              "      <th>Age</th>\n",
              "      <th>VIP</th>\n",
              "      <th>RoomService</th>\n",
              "      <th>FoodCourt</th>\n",
              "      <th>ShoppingMall</th>\n",
              "      <th>Spa</th>\n",
              "      <th>VRDeck</th>\n",
              "      <th>Name</th>\n",
              "      <th>Transported</th>\n",
              "    </tr>\n",
              "  </thead>\n",
              "  <tbody>\n",
              "    <tr>\n",
              "      <th>0</th>\n",
              "      <td>0001_01</td>\n",
              "      <td>Europa</td>\n",
              "      <td>False</td>\n",
              "      <td>B/0/P</td>\n",
              "      <td>TRAPPIST-1e</td>\n",
              "      <td>39.00</td>\n",
              "      <td>False</td>\n",
              "      <td>0.00</td>\n",
              "      <td>0.00</td>\n",
              "      <td>0.00</td>\n",
              "      <td>0.00</td>\n",
              "      <td>0.00</td>\n",
              "      <td>Maham Ofracculy</td>\n",
              "      <td>False</td>\n",
              "    </tr>\n",
              "    <tr>\n",
              "      <th>1</th>\n",
              "      <td>0002_01</td>\n",
              "      <td>Earth</td>\n",
              "      <td>False</td>\n",
              "      <td>F/0/S</td>\n",
              "      <td>TRAPPIST-1e</td>\n",
              "      <td>24.00</td>\n",
              "      <td>False</td>\n",
              "      <td>109.00</td>\n",
              "      <td>9.00</td>\n",
              "      <td>25.00</td>\n",
              "      <td>549.00</td>\n",
              "      <td>44.00</td>\n",
              "      <td>Juanna Vines</td>\n",
              "      <td>True</td>\n",
              "    </tr>\n",
              "    <tr>\n",
              "      <th>2</th>\n",
              "      <td>0003_01</td>\n",
              "      <td>Europa</td>\n",
              "      <td>False</td>\n",
              "      <td>A/0/S</td>\n",
              "      <td>TRAPPIST-1e</td>\n",
              "      <td>58.00</td>\n",
              "      <td>True</td>\n",
              "      <td>43.00</td>\n",
              "      <td>3576.00</td>\n",
              "      <td>0.00</td>\n",
              "      <td>6715.00</td>\n",
              "      <td>49.00</td>\n",
              "      <td>Altark Susent</td>\n",
              "      <td>False</td>\n",
              "    </tr>\n",
              "    <tr>\n",
              "      <th>3</th>\n",
              "      <td>0003_02</td>\n",
              "      <td>Europa</td>\n",
              "      <td>False</td>\n",
              "      <td>A/0/S</td>\n",
              "      <td>TRAPPIST-1e</td>\n",
              "      <td>33.00</td>\n",
              "      <td>False</td>\n",
              "      <td>0.00</td>\n",
              "      <td>1283.00</td>\n",
              "      <td>371.00</td>\n",
              "      <td>3329.00</td>\n",
              "      <td>193.00</td>\n",
              "      <td>Solam Susent</td>\n",
              "      <td>False</td>\n",
              "    </tr>\n",
              "    <tr>\n",
              "      <th>4</th>\n",
              "      <td>0004_01</td>\n",
              "      <td>Earth</td>\n",
              "      <td>False</td>\n",
              "      <td>F/1/S</td>\n",
              "      <td>TRAPPIST-1e</td>\n",
              "      <td>16.00</td>\n",
              "      <td>False</td>\n",
              "      <td>303.00</td>\n",
              "      <td>70.00</td>\n",
              "      <td>151.00</td>\n",
              "      <td>565.00</td>\n",
              "      <td>2.00</td>\n",
              "      <td>Willy Santantines</td>\n",
              "      <td>True</td>\n",
              "    </tr>\n",
              "  </tbody>\n",
              "</table>\n",
              "</div>\n",
              "      <button class=\"colab-df-convert\" onclick=\"convertToInteractive('df-3d06827f-583f-4505-9c61-701eeb1d842c')\"\n",
              "              title=\"Convert this dataframe to an interactive table.\"\n",
              "              style=\"display:none;\">\n",
              "        \n",
              "  <svg xmlns=\"http://www.w3.org/2000/svg\" height=\"24px\"viewBox=\"0 0 24 24\"\n",
              "       width=\"24px\">\n",
              "    <path d=\"M0 0h24v24H0V0z\" fill=\"none\"/>\n",
              "    <path d=\"M18.56 5.44l.94 2.06.94-2.06 2.06-.94-2.06-.94-.94-2.06-.94 2.06-2.06.94zm-11 1L8.5 8.5l.94-2.06 2.06-.94-2.06-.94L8.5 2.5l-.94 2.06-2.06.94zm10 10l.94 2.06.94-2.06 2.06-.94-2.06-.94-.94-2.06-.94 2.06-2.06.94z\"/><path d=\"M17.41 7.96l-1.37-1.37c-.4-.4-.92-.59-1.43-.59-.52 0-1.04.2-1.43.59L10.3 9.45l-7.72 7.72c-.78.78-.78 2.05 0 2.83L4 21.41c.39.39.9.59 1.41.59.51 0 1.02-.2 1.41-.59l7.78-7.78 2.81-2.81c.8-.78.8-2.07 0-2.86zM5.41 20L4 18.59l7.72-7.72 1.47 1.35L5.41 20z\"/>\n",
              "  </svg>\n",
              "      </button>\n",
              "      \n",
              "  <style>\n",
              "    .colab-df-container {\n",
              "      display:flex;\n",
              "      flex-wrap:wrap;\n",
              "      gap: 12px;\n",
              "    }\n",
              "\n",
              "    .colab-df-convert {\n",
              "      background-color: #E8F0FE;\n",
              "      border: none;\n",
              "      border-radius: 50%;\n",
              "      cursor: pointer;\n",
              "      display: none;\n",
              "      fill: #1967D2;\n",
              "      height: 32px;\n",
              "      padding: 0 0 0 0;\n",
              "      width: 32px;\n",
              "    }\n",
              "\n",
              "    .colab-df-convert:hover {\n",
              "      background-color: #E2EBFA;\n",
              "      box-shadow: 0px 1px 2px rgba(60, 64, 67, 0.3), 0px 1px 3px 1px rgba(60, 64, 67, 0.15);\n",
              "      fill: #174EA6;\n",
              "    }\n",
              "\n",
              "    [theme=dark] .colab-df-convert {\n",
              "      background-color: #3B4455;\n",
              "      fill: #D2E3FC;\n",
              "    }\n",
              "\n",
              "    [theme=dark] .colab-df-convert:hover {\n",
              "      background-color: #434B5C;\n",
              "      box-shadow: 0px 1px 3px 1px rgba(0, 0, 0, 0.15);\n",
              "      filter: drop-shadow(0px 1px 2px rgba(0, 0, 0, 0.3));\n",
              "      fill: #FFFFFF;\n",
              "    }\n",
              "  </style>\n",
              "\n",
              "      <script>\n",
              "        const buttonEl =\n",
              "          document.querySelector('#df-3d06827f-583f-4505-9c61-701eeb1d842c button.colab-df-convert');\n",
              "        buttonEl.style.display =\n",
              "          google.colab.kernel.accessAllowed ? 'block' : 'none';\n",
              "\n",
              "        async function convertToInteractive(key) {\n",
              "          const element = document.querySelector('#df-3d06827f-583f-4505-9c61-701eeb1d842c');\n",
              "          const dataTable =\n",
              "            await google.colab.kernel.invokeFunction('convertToInteractive',\n",
              "                                                     [key], {});\n",
              "          if (!dataTable) return;\n",
              "\n",
              "          const docLinkHtml = 'Like what you see? Visit the ' +\n",
              "            '<a target=\"_blank\" href=https://colab.research.google.com/notebooks/data_table.ipynb>data table notebook</a>'\n",
              "            + ' to learn more about interactive tables.';\n",
              "          element.innerHTML = '';\n",
              "          dataTable['output_type'] = 'display_data';\n",
              "          await google.colab.output.renderOutput(dataTable, element);\n",
              "          const docLink = document.createElement('div');\n",
              "          docLink.innerHTML = docLinkHtml;\n",
              "          element.appendChild(docLink);\n",
              "        }\n",
              "      </script>\n",
              "    </div>\n",
              "  </div>\n",
              "  "
            ]
          },
          "metadata": {},
          "execution_count": 5
        }
      ],
      "source": [
        "train.head()"
      ]
    },
    {
      "cell_type": "markdown",
      "metadata": {
        "id": "y_oZ8Lptcrlo"
      },
      "source": [
        "- print문으로 콘솔창에 색상 표시하는 방법 ex) \\033[94m\n",
        "- 참고 사이트 : https://blog.naver.com/shiesqnpfr8/222638647753"
      ]
    },
    {
      "cell_type": "code",
      "execution_count": null,
      "metadata": {
        "colab": {
          "base_uri": "https://localhost:8080/"
        },
        "id": "01UrQw49crlq",
        "outputId": "2aaf7772-b10a-45eb-8829-365929793389"
      },
      "outputs": [
        {
          "output_type": "stream",
          "name": "stdout",
          "text": [
            "\u001b[94mNumber of rows in train data : 8693\n",
            "\u001b[94mNumber of columns in train data : 14\n",
            "\u001b[94mNumber of values in train data : 119378\n",
            "\u001b[94mNumber missing values in train data : 2324\n"
          ]
        }
      ],
      "source": [
        "print(f'\\033[94mNumber of rows in train data : {train.shape[0]}')  # 행 개수\n",
        "print(f'\\033[94mNumber of columns in train data : {train.shape[1]}')  # 열 개수\n",
        "print(f'\\033[94mNumber of values in train data : {train.count().sum()}')  \n",
        "print(f'\\033[94mNumber missing values in train data : {sum(train.isna().sum())}')  # 결측치 합계"
      ]
    },
    {
      "cell_type": "code",
      "execution_count": null,
      "metadata": {
        "colab": {
          "base_uri": "https://localhost:8080/"
        },
        "id": "ro5VWYdlcrlr",
        "outputId": "7a7e405e-4dc1-49c0-971e-3cbbb8310aa6"
      },
      "outputs": [
        {
          "output_type": "stream",
          "name": "stdout",
          "text": [
            "CryoSleep       217\n",
            "ShoppingMall    208\n",
            "VIP             203\n",
            "HomePlanet      201\n",
            "Name            200\n",
            "Cabin           199\n",
            "VRDeck          188\n",
            "FoodCourt       183\n",
            "Spa             183\n",
            "Destination     182\n",
            "RoomService     181\n",
            "Age             179\n",
            "PassengerId       0\n",
            "Transported       0\n",
            "dtype: int64\n"
          ]
        }
      ],
      "source": [
        "print(train.isnull().sum().sort_values(ascending=False))  # 컬럼별 결측치 개수 내림차순 정렬"
      ]
    },
    {
      "cell_type": "code",
      "execution_count": null,
      "metadata": {
        "colab": {
          "base_uri": "https://localhost:8080/",
          "height": 300
        },
        "id": "TV8xSGEocrlt",
        "outputId": "88b8f189-d606-4ce5-ac67-fe02ea66532f"
      },
      "outputs": [
        {
          "output_type": "execute_result",
          "data": {
            "text/plain": [
              "          Age  RoomService  FoodCourt  ShoppingMall      Spa   VRDeck\n",
              "count 8514.00      8512.00    8510.00       8485.00  8510.00  8505.00\n",
              "mean    28.83       224.69     458.08        173.73   311.14   304.85\n",
              "std     14.49       666.72    1611.49        604.70  1136.71  1145.72\n",
              "min      0.00         0.00       0.00          0.00     0.00     0.00\n",
              "25%     19.00         0.00       0.00          0.00     0.00     0.00\n",
              "50%     27.00         0.00       0.00          0.00     0.00     0.00\n",
              "75%     38.00        47.00      76.00         27.00    59.00    46.00\n",
              "max     79.00     14327.00   29813.00      23492.00 22408.00 24133.00"
            ],
            "text/html": [
              "\n",
              "  <div id=\"df-42e2f1bb-22aa-4bd0-9bf4-507045c0b9f7\">\n",
              "    <div class=\"colab-df-container\">\n",
              "      <div>\n",
              "<style scoped>\n",
              "    .dataframe tbody tr th:only-of-type {\n",
              "        vertical-align: middle;\n",
              "    }\n",
              "\n",
              "    .dataframe tbody tr th {\n",
              "        vertical-align: top;\n",
              "    }\n",
              "\n",
              "    .dataframe thead th {\n",
              "        text-align: right;\n",
              "    }\n",
              "</style>\n",
              "<table border=\"1\" class=\"dataframe\">\n",
              "  <thead>\n",
              "    <tr style=\"text-align: right;\">\n",
              "      <th></th>\n",
              "      <th>Age</th>\n",
              "      <th>RoomService</th>\n",
              "      <th>FoodCourt</th>\n",
              "      <th>ShoppingMall</th>\n",
              "      <th>Spa</th>\n",
              "      <th>VRDeck</th>\n",
              "    </tr>\n",
              "  </thead>\n",
              "  <tbody>\n",
              "    <tr>\n",
              "      <th>count</th>\n",
              "      <td>8514.00</td>\n",
              "      <td>8512.00</td>\n",
              "      <td>8510.00</td>\n",
              "      <td>8485.00</td>\n",
              "      <td>8510.00</td>\n",
              "      <td>8505.00</td>\n",
              "    </tr>\n",
              "    <tr>\n",
              "      <th>mean</th>\n",
              "      <td>28.83</td>\n",
              "      <td>224.69</td>\n",
              "      <td>458.08</td>\n",
              "      <td>173.73</td>\n",
              "      <td>311.14</td>\n",
              "      <td>304.85</td>\n",
              "    </tr>\n",
              "    <tr>\n",
              "      <th>std</th>\n",
              "      <td>14.49</td>\n",
              "      <td>666.72</td>\n",
              "      <td>1611.49</td>\n",
              "      <td>604.70</td>\n",
              "      <td>1136.71</td>\n",
              "      <td>1145.72</td>\n",
              "    </tr>\n",
              "    <tr>\n",
              "      <th>min</th>\n",
              "      <td>0.00</td>\n",
              "      <td>0.00</td>\n",
              "      <td>0.00</td>\n",
              "      <td>0.00</td>\n",
              "      <td>0.00</td>\n",
              "      <td>0.00</td>\n",
              "    </tr>\n",
              "    <tr>\n",
              "      <th>25%</th>\n",
              "      <td>19.00</td>\n",
              "      <td>0.00</td>\n",
              "      <td>0.00</td>\n",
              "      <td>0.00</td>\n",
              "      <td>0.00</td>\n",
              "      <td>0.00</td>\n",
              "    </tr>\n",
              "    <tr>\n",
              "      <th>50%</th>\n",
              "      <td>27.00</td>\n",
              "      <td>0.00</td>\n",
              "      <td>0.00</td>\n",
              "      <td>0.00</td>\n",
              "      <td>0.00</td>\n",
              "      <td>0.00</td>\n",
              "    </tr>\n",
              "    <tr>\n",
              "      <th>75%</th>\n",
              "      <td>38.00</td>\n",
              "      <td>47.00</td>\n",
              "      <td>76.00</td>\n",
              "      <td>27.00</td>\n",
              "      <td>59.00</td>\n",
              "      <td>46.00</td>\n",
              "    </tr>\n",
              "    <tr>\n",
              "      <th>max</th>\n",
              "      <td>79.00</td>\n",
              "      <td>14327.00</td>\n",
              "      <td>29813.00</td>\n",
              "      <td>23492.00</td>\n",
              "      <td>22408.00</td>\n",
              "      <td>24133.00</td>\n",
              "    </tr>\n",
              "  </tbody>\n",
              "</table>\n",
              "</div>\n",
              "      <button class=\"colab-df-convert\" onclick=\"convertToInteractive('df-42e2f1bb-22aa-4bd0-9bf4-507045c0b9f7')\"\n",
              "              title=\"Convert this dataframe to an interactive table.\"\n",
              "              style=\"display:none;\">\n",
              "        \n",
              "  <svg xmlns=\"http://www.w3.org/2000/svg\" height=\"24px\"viewBox=\"0 0 24 24\"\n",
              "       width=\"24px\">\n",
              "    <path d=\"M0 0h24v24H0V0z\" fill=\"none\"/>\n",
              "    <path d=\"M18.56 5.44l.94 2.06.94-2.06 2.06-.94-2.06-.94-.94-2.06-.94 2.06-2.06.94zm-11 1L8.5 8.5l.94-2.06 2.06-.94-2.06-.94L8.5 2.5l-.94 2.06-2.06.94zm10 10l.94 2.06.94-2.06 2.06-.94-2.06-.94-.94-2.06-.94 2.06-2.06.94z\"/><path d=\"M17.41 7.96l-1.37-1.37c-.4-.4-.92-.59-1.43-.59-.52 0-1.04.2-1.43.59L10.3 9.45l-7.72 7.72c-.78.78-.78 2.05 0 2.83L4 21.41c.39.39.9.59 1.41.59.51 0 1.02-.2 1.41-.59l7.78-7.78 2.81-2.81c.8-.78.8-2.07 0-2.86zM5.41 20L4 18.59l7.72-7.72 1.47 1.35L5.41 20z\"/>\n",
              "  </svg>\n",
              "      </button>\n",
              "      \n",
              "  <style>\n",
              "    .colab-df-container {\n",
              "      display:flex;\n",
              "      flex-wrap:wrap;\n",
              "      gap: 12px;\n",
              "    }\n",
              "\n",
              "    .colab-df-convert {\n",
              "      background-color: #E8F0FE;\n",
              "      border: none;\n",
              "      border-radius: 50%;\n",
              "      cursor: pointer;\n",
              "      display: none;\n",
              "      fill: #1967D2;\n",
              "      height: 32px;\n",
              "      padding: 0 0 0 0;\n",
              "      width: 32px;\n",
              "    }\n",
              "\n",
              "    .colab-df-convert:hover {\n",
              "      background-color: #E2EBFA;\n",
              "      box-shadow: 0px 1px 2px rgba(60, 64, 67, 0.3), 0px 1px 3px 1px rgba(60, 64, 67, 0.15);\n",
              "      fill: #174EA6;\n",
              "    }\n",
              "\n",
              "    [theme=dark] .colab-df-convert {\n",
              "      background-color: #3B4455;\n",
              "      fill: #D2E3FC;\n",
              "    }\n",
              "\n",
              "    [theme=dark] .colab-df-convert:hover {\n",
              "      background-color: #434B5C;\n",
              "      box-shadow: 0px 1px 3px 1px rgba(0, 0, 0, 0.15);\n",
              "      filter: drop-shadow(0px 1px 2px rgba(0, 0, 0, 0.3));\n",
              "      fill: #FFFFFF;\n",
              "    }\n",
              "  </style>\n",
              "\n",
              "      <script>\n",
              "        const buttonEl =\n",
              "          document.querySelector('#df-42e2f1bb-22aa-4bd0-9bf4-507045c0b9f7 button.colab-df-convert');\n",
              "        buttonEl.style.display =\n",
              "          google.colab.kernel.accessAllowed ? 'block' : 'none';\n",
              "\n",
              "        async function convertToInteractive(key) {\n",
              "          const element = document.querySelector('#df-42e2f1bb-22aa-4bd0-9bf4-507045c0b9f7');\n",
              "          const dataTable =\n",
              "            await google.colab.kernel.invokeFunction('convertToInteractive',\n",
              "                                                     [key], {});\n",
              "          if (!dataTable) return;\n",
              "\n",
              "          const docLinkHtml = 'Like what you see? Visit the ' +\n",
              "            '<a target=\"_blank\" href=https://colab.research.google.com/notebooks/data_table.ipynb>data table notebook</a>'\n",
              "            + ' to learn more about interactive tables.';\n",
              "          element.innerHTML = '';\n",
              "          dataTable['output_type'] = 'display_data';\n",
              "          await google.colab.output.renderOutput(dataTable, element);\n",
              "          const docLink = document.createElement('div');\n",
              "          docLink.innerHTML = docLinkHtml;\n",
              "          element.appendChild(docLink);\n",
              "        }\n",
              "      </script>\n",
              "    </div>\n",
              "  </div>\n",
              "  "
            ]
          },
          "metadata": {},
          "execution_count": 8
        }
      ],
      "source": [
        "train.describe()  # 기술 통계량"
      ]
    },
    {
      "cell_type": "markdown",
      "metadata": {
        "id": "3YTU5xivcrlw"
      },
      "source": [
        "## Test"
      ]
    },
    {
      "cell_type": "code",
      "execution_count": null,
      "metadata": {
        "colab": {
          "base_uri": "https://localhost:8080/",
          "height": 206
        },
        "id": "rBH8Cc-mcrlx",
        "outputId": "aa27a8ec-f01b-46e9-d766-02932e73b97a"
      },
      "outputs": [
        {
          "output_type": "execute_result",
          "data": {
            "text/plain": [
              "  PassengerId HomePlanet CryoSleep  Cabin  Destination   Age    VIP  \\\n",
              "0     0013_01      Earth      True  G/3/S  TRAPPIST-1e 27.00  False   \n",
              "1     0018_01      Earth     False  F/4/S  TRAPPIST-1e 19.00  False   \n",
              "2     0019_01     Europa      True  C/0/S  55 Cancri e 31.00  False   \n",
              "3     0021_01     Europa     False  C/1/S  TRAPPIST-1e 38.00  False   \n",
              "4     0023_01      Earth     False  F/5/S  TRAPPIST-1e 20.00  False   \n",
              "\n",
              "   RoomService  FoodCourt  ShoppingMall     Spa  VRDeck              Name  \n",
              "0         0.00       0.00          0.00    0.00    0.00   Nelly Carsoning  \n",
              "1         0.00       9.00          0.00 2823.00    0.00    Lerome Peckers  \n",
              "2         0.00       0.00          0.00    0.00    0.00   Sabih Unhearfus  \n",
              "3         0.00    6652.00          0.00  181.00  585.00  Meratz Caltilter  \n",
              "4        10.00       0.00        635.00    0.00    0.00   Brence Harperez  "
            ],
            "text/html": [
              "\n",
              "  <div id=\"df-7ebbc336-6735-45ca-9043-81c859d048e0\">\n",
              "    <div class=\"colab-df-container\">\n",
              "      <div>\n",
              "<style scoped>\n",
              "    .dataframe tbody tr th:only-of-type {\n",
              "        vertical-align: middle;\n",
              "    }\n",
              "\n",
              "    .dataframe tbody tr th {\n",
              "        vertical-align: top;\n",
              "    }\n",
              "\n",
              "    .dataframe thead th {\n",
              "        text-align: right;\n",
              "    }\n",
              "</style>\n",
              "<table border=\"1\" class=\"dataframe\">\n",
              "  <thead>\n",
              "    <tr style=\"text-align: right;\">\n",
              "      <th></th>\n",
              "      <th>PassengerId</th>\n",
              "      <th>HomePlanet</th>\n",
              "      <th>CryoSleep</th>\n",
              "      <th>Cabin</th>\n",
              "      <th>Destination</th>\n",
              "      <th>Age</th>\n",
              "      <th>VIP</th>\n",
              "      <th>RoomService</th>\n",
              "      <th>FoodCourt</th>\n",
              "      <th>ShoppingMall</th>\n",
              "      <th>Spa</th>\n",
              "      <th>VRDeck</th>\n",
              "      <th>Name</th>\n",
              "    </tr>\n",
              "  </thead>\n",
              "  <tbody>\n",
              "    <tr>\n",
              "      <th>0</th>\n",
              "      <td>0013_01</td>\n",
              "      <td>Earth</td>\n",
              "      <td>True</td>\n",
              "      <td>G/3/S</td>\n",
              "      <td>TRAPPIST-1e</td>\n",
              "      <td>27.00</td>\n",
              "      <td>False</td>\n",
              "      <td>0.00</td>\n",
              "      <td>0.00</td>\n",
              "      <td>0.00</td>\n",
              "      <td>0.00</td>\n",
              "      <td>0.00</td>\n",
              "      <td>Nelly Carsoning</td>\n",
              "    </tr>\n",
              "    <tr>\n",
              "      <th>1</th>\n",
              "      <td>0018_01</td>\n",
              "      <td>Earth</td>\n",
              "      <td>False</td>\n",
              "      <td>F/4/S</td>\n",
              "      <td>TRAPPIST-1e</td>\n",
              "      <td>19.00</td>\n",
              "      <td>False</td>\n",
              "      <td>0.00</td>\n",
              "      <td>9.00</td>\n",
              "      <td>0.00</td>\n",
              "      <td>2823.00</td>\n",
              "      <td>0.00</td>\n",
              "      <td>Lerome Peckers</td>\n",
              "    </tr>\n",
              "    <tr>\n",
              "      <th>2</th>\n",
              "      <td>0019_01</td>\n",
              "      <td>Europa</td>\n",
              "      <td>True</td>\n",
              "      <td>C/0/S</td>\n",
              "      <td>55 Cancri e</td>\n",
              "      <td>31.00</td>\n",
              "      <td>False</td>\n",
              "      <td>0.00</td>\n",
              "      <td>0.00</td>\n",
              "      <td>0.00</td>\n",
              "      <td>0.00</td>\n",
              "      <td>0.00</td>\n",
              "      <td>Sabih Unhearfus</td>\n",
              "    </tr>\n",
              "    <tr>\n",
              "      <th>3</th>\n",
              "      <td>0021_01</td>\n",
              "      <td>Europa</td>\n",
              "      <td>False</td>\n",
              "      <td>C/1/S</td>\n",
              "      <td>TRAPPIST-1e</td>\n",
              "      <td>38.00</td>\n",
              "      <td>False</td>\n",
              "      <td>0.00</td>\n",
              "      <td>6652.00</td>\n",
              "      <td>0.00</td>\n",
              "      <td>181.00</td>\n",
              "      <td>585.00</td>\n",
              "      <td>Meratz Caltilter</td>\n",
              "    </tr>\n",
              "    <tr>\n",
              "      <th>4</th>\n",
              "      <td>0023_01</td>\n",
              "      <td>Earth</td>\n",
              "      <td>False</td>\n",
              "      <td>F/5/S</td>\n",
              "      <td>TRAPPIST-1e</td>\n",
              "      <td>20.00</td>\n",
              "      <td>False</td>\n",
              "      <td>10.00</td>\n",
              "      <td>0.00</td>\n",
              "      <td>635.00</td>\n",
              "      <td>0.00</td>\n",
              "      <td>0.00</td>\n",
              "      <td>Brence Harperez</td>\n",
              "    </tr>\n",
              "  </tbody>\n",
              "</table>\n",
              "</div>\n",
              "      <button class=\"colab-df-convert\" onclick=\"convertToInteractive('df-7ebbc336-6735-45ca-9043-81c859d048e0')\"\n",
              "              title=\"Convert this dataframe to an interactive table.\"\n",
              "              style=\"display:none;\">\n",
              "        \n",
              "  <svg xmlns=\"http://www.w3.org/2000/svg\" height=\"24px\"viewBox=\"0 0 24 24\"\n",
              "       width=\"24px\">\n",
              "    <path d=\"M0 0h24v24H0V0z\" fill=\"none\"/>\n",
              "    <path d=\"M18.56 5.44l.94 2.06.94-2.06 2.06-.94-2.06-.94-.94-2.06-.94 2.06-2.06.94zm-11 1L8.5 8.5l.94-2.06 2.06-.94-2.06-.94L8.5 2.5l-.94 2.06-2.06.94zm10 10l.94 2.06.94-2.06 2.06-.94-2.06-.94-.94-2.06-.94 2.06-2.06.94z\"/><path d=\"M17.41 7.96l-1.37-1.37c-.4-.4-.92-.59-1.43-.59-.52 0-1.04.2-1.43.59L10.3 9.45l-7.72 7.72c-.78.78-.78 2.05 0 2.83L4 21.41c.39.39.9.59 1.41.59.51 0 1.02-.2 1.41-.59l7.78-7.78 2.81-2.81c.8-.78.8-2.07 0-2.86zM5.41 20L4 18.59l7.72-7.72 1.47 1.35L5.41 20z\"/>\n",
              "  </svg>\n",
              "      </button>\n",
              "      \n",
              "  <style>\n",
              "    .colab-df-container {\n",
              "      display:flex;\n",
              "      flex-wrap:wrap;\n",
              "      gap: 12px;\n",
              "    }\n",
              "\n",
              "    .colab-df-convert {\n",
              "      background-color: #E8F0FE;\n",
              "      border: none;\n",
              "      border-radius: 50%;\n",
              "      cursor: pointer;\n",
              "      display: none;\n",
              "      fill: #1967D2;\n",
              "      height: 32px;\n",
              "      padding: 0 0 0 0;\n",
              "      width: 32px;\n",
              "    }\n",
              "\n",
              "    .colab-df-convert:hover {\n",
              "      background-color: #E2EBFA;\n",
              "      box-shadow: 0px 1px 2px rgba(60, 64, 67, 0.3), 0px 1px 3px 1px rgba(60, 64, 67, 0.15);\n",
              "      fill: #174EA6;\n",
              "    }\n",
              "\n",
              "    [theme=dark] .colab-df-convert {\n",
              "      background-color: #3B4455;\n",
              "      fill: #D2E3FC;\n",
              "    }\n",
              "\n",
              "    [theme=dark] .colab-df-convert:hover {\n",
              "      background-color: #434B5C;\n",
              "      box-shadow: 0px 1px 3px 1px rgba(0, 0, 0, 0.15);\n",
              "      filter: drop-shadow(0px 1px 2px rgba(0, 0, 0, 0.3));\n",
              "      fill: #FFFFFF;\n",
              "    }\n",
              "  </style>\n",
              "\n",
              "      <script>\n",
              "        const buttonEl =\n",
              "          document.querySelector('#df-7ebbc336-6735-45ca-9043-81c859d048e0 button.colab-df-convert');\n",
              "        buttonEl.style.display =\n",
              "          google.colab.kernel.accessAllowed ? 'block' : 'none';\n",
              "\n",
              "        async function convertToInteractive(key) {\n",
              "          const element = document.querySelector('#df-7ebbc336-6735-45ca-9043-81c859d048e0');\n",
              "          const dataTable =\n",
              "            await google.colab.kernel.invokeFunction('convertToInteractive',\n",
              "                                                     [key], {});\n",
              "          if (!dataTable) return;\n",
              "\n",
              "          const docLinkHtml = 'Like what you see? Visit the ' +\n",
              "            '<a target=\"_blank\" href=https://colab.research.google.com/notebooks/data_table.ipynb>data table notebook</a>'\n",
              "            + ' to learn more about interactive tables.';\n",
              "          element.innerHTML = '';\n",
              "          dataTable['output_type'] = 'display_data';\n",
              "          await google.colab.output.renderOutput(dataTable, element);\n",
              "          const docLink = document.createElement('div');\n",
              "          docLink.innerHTML = docLinkHtml;\n",
              "          element.appendChild(docLink);\n",
              "        }\n",
              "      </script>\n",
              "    </div>\n",
              "  </div>\n",
              "  "
            ]
          },
          "metadata": {},
          "execution_count": 9
        }
      ],
      "source": [
        "test.head()"
      ]
    },
    {
      "cell_type": "code",
      "execution_count": null,
      "metadata": {
        "colab": {
          "base_uri": "https://localhost:8080/"
        },
        "id": "BtKmbirMcrly",
        "outputId": "6dff86be-fd5f-4f78-e0e8-a28657aa3c7e"
      },
      "outputs": [
        {
          "output_type": "stream",
          "name": "stdout",
          "text": [
            "\u001b[94mNumber of rows in test data : 4277\n",
            "\u001b[94mNumber of columns in test data: 13\n",
            "\u001b[94mNumber of values in test data: 54484\n",
            "\u001b[94mNo of rows with missing values  in test data: 1117\n"
          ]
        }
      ],
      "source": [
        "print(f'\\033[94mNumber of rows in test data : {test.shape[0]}')  # 행 개수\n",
        "print(f'\\033[94mNumber of columns in test data: {test.shape[1]}')  # 열 개수\n",
        "print(f'\\033[94mNumber of values in test data: {test.count().sum()}')\n",
        "print(f'\\033[94mNo of rows with missing values  in test data: {sum(test.isna().sum())}')  # 결측치 합계"
      ]
    },
    {
      "cell_type": "code",
      "execution_count": null,
      "metadata": {
        "colab": {
          "base_uri": "https://localhost:8080/"
        },
        "id": "nMPo8_DFcrlz",
        "outputId": "307b1f42-1dfe-48ae-f990-7404a1ab1f30"
      },
      "outputs": [
        {
          "output_type": "stream",
          "name": "stdout",
          "text": [
            "FoodCourt       106\n",
            "Spa             101\n",
            "Cabin           100\n",
            "ShoppingMall     98\n",
            "Name             94\n",
            "CryoSleep        93\n",
            "VIP              93\n",
            "Destination      92\n",
            "Age              91\n",
            "HomePlanet       87\n",
            "RoomService      82\n",
            "VRDeck           80\n",
            "PassengerId       0\n",
            "dtype: int64\n"
          ]
        }
      ],
      "source": [
        "print(test.isnull().sum().sort_values(ascending=False))  # 컬럼별로 결측치 합계 내림차순 정렬"
      ]
    },
    {
      "cell_type": "code",
      "execution_count": null,
      "metadata": {
        "colab": {
          "base_uri": "https://localhost:8080/",
          "height": 300
        },
        "id": "SQOzKvg0crl0",
        "outputId": "5a60565f-fc02-40d0-dd3f-6066bb9f71a3"
      },
      "outputs": [
        {
          "output_type": "execute_result",
          "data": {
            "text/plain": [
              "          Age  RoomService  FoodCourt  ShoppingMall      Spa   VRDeck\n",
              "count 4186.00      4195.00    4171.00       4179.00  4176.00  4197.00\n",
              "mean    28.66       219.27     439.48        177.30   303.05   310.71\n",
              "std     14.18       607.01    1527.66        560.82  1117.19  1246.99\n",
              "min      0.00         0.00       0.00          0.00     0.00     0.00\n",
              "25%     19.00         0.00       0.00          0.00     0.00     0.00\n",
              "50%     26.00         0.00       0.00          0.00     0.00     0.00\n",
              "75%     37.00        53.00      78.00         33.00    50.00    36.00\n",
              "max     79.00     11567.00   25273.00       8292.00 19844.00 22272.00"
            ],
            "text/html": [
              "\n",
              "  <div id=\"df-70e30264-4139-40fa-ada9-61f5a56d2927\">\n",
              "    <div class=\"colab-df-container\">\n",
              "      <div>\n",
              "<style scoped>\n",
              "    .dataframe tbody tr th:only-of-type {\n",
              "        vertical-align: middle;\n",
              "    }\n",
              "\n",
              "    .dataframe tbody tr th {\n",
              "        vertical-align: top;\n",
              "    }\n",
              "\n",
              "    .dataframe thead th {\n",
              "        text-align: right;\n",
              "    }\n",
              "</style>\n",
              "<table border=\"1\" class=\"dataframe\">\n",
              "  <thead>\n",
              "    <tr style=\"text-align: right;\">\n",
              "      <th></th>\n",
              "      <th>Age</th>\n",
              "      <th>RoomService</th>\n",
              "      <th>FoodCourt</th>\n",
              "      <th>ShoppingMall</th>\n",
              "      <th>Spa</th>\n",
              "      <th>VRDeck</th>\n",
              "    </tr>\n",
              "  </thead>\n",
              "  <tbody>\n",
              "    <tr>\n",
              "      <th>count</th>\n",
              "      <td>4186.00</td>\n",
              "      <td>4195.00</td>\n",
              "      <td>4171.00</td>\n",
              "      <td>4179.00</td>\n",
              "      <td>4176.00</td>\n",
              "      <td>4197.00</td>\n",
              "    </tr>\n",
              "    <tr>\n",
              "      <th>mean</th>\n",
              "      <td>28.66</td>\n",
              "      <td>219.27</td>\n",
              "      <td>439.48</td>\n",
              "      <td>177.30</td>\n",
              "      <td>303.05</td>\n",
              "      <td>310.71</td>\n",
              "    </tr>\n",
              "    <tr>\n",
              "      <th>std</th>\n",
              "      <td>14.18</td>\n",
              "      <td>607.01</td>\n",
              "      <td>1527.66</td>\n",
              "      <td>560.82</td>\n",
              "      <td>1117.19</td>\n",
              "      <td>1246.99</td>\n",
              "    </tr>\n",
              "    <tr>\n",
              "      <th>min</th>\n",
              "      <td>0.00</td>\n",
              "      <td>0.00</td>\n",
              "      <td>0.00</td>\n",
              "      <td>0.00</td>\n",
              "      <td>0.00</td>\n",
              "      <td>0.00</td>\n",
              "    </tr>\n",
              "    <tr>\n",
              "      <th>25%</th>\n",
              "      <td>19.00</td>\n",
              "      <td>0.00</td>\n",
              "      <td>0.00</td>\n",
              "      <td>0.00</td>\n",
              "      <td>0.00</td>\n",
              "      <td>0.00</td>\n",
              "    </tr>\n",
              "    <tr>\n",
              "      <th>50%</th>\n",
              "      <td>26.00</td>\n",
              "      <td>0.00</td>\n",
              "      <td>0.00</td>\n",
              "      <td>0.00</td>\n",
              "      <td>0.00</td>\n",
              "      <td>0.00</td>\n",
              "    </tr>\n",
              "    <tr>\n",
              "      <th>75%</th>\n",
              "      <td>37.00</td>\n",
              "      <td>53.00</td>\n",
              "      <td>78.00</td>\n",
              "      <td>33.00</td>\n",
              "      <td>50.00</td>\n",
              "      <td>36.00</td>\n",
              "    </tr>\n",
              "    <tr>\n",
              "      <th>max</th>\n",
              "      <td>79.00</td>\n",
              "      <td>11567.00</td>\n",
              "      <td>25273.00</td>\n",
              "      <td>8292.00</td>\n",
              "      <td>19844.00</td>\n",
              "      <td>22272.00</td>\n",
              "    </tr>\n",
              "  </tbody>\n",
              "</table>\n",
              "</div>\n",
              "      <button class=\"colab-df-convert\" onclick=\"convertToInteractive('df-70e30264-4139-40fa-ada9-61f5a56d2927')\"\n",
              "              title=\"Convert this dataframe to an interactive table.\"\n",
              "              style=\"display:none;\">\n",
              "        \n",
              "  <svg xmlns=\"http://www.w3.org/2000/svg\" height=\"24px\"viewBox=\"0 0 24 24\"\n",
              "       width=\"24px\">\n",
              "    <path d=\"M0 0h24v24H0V0z\" fill=\"none\"/>\n",
              "    <path d=\"M18.56 5.44l.94 2.06.94-2.06 2.06-.94-2.06-.94-.94-2.06-.94 2.06-2.06.94zm-11 1L8.5 8.5l.94-2.06 2.06-.94-2.06-.94L8.5 2.5l-.94 2.06-2.06.94zm10 10l.94 2.06.94-2.06 2.06-.94-2.06-.94-.94-2.06-.94 2.06-2.06.94z\"/><path d=\"M17.41 7.96l-1.37-1.37c-.4-.4-.92-.59-1.43-.59-.52 0-1.04.2-1.43.59L10.3 9.45l-7.72 7.72c-.78.78-.78 2.05 0 2.83L4 21.41c.39.39.9.59 1.41.59.51 0 1.02-.2 1.41-.59l7.78-7.78 2.81-2.81c.8-.78.8-2.07 0-2.86zM5.41 20L4 18.59l7.72-7.72 1.47 1.35L5.41 20z\"/>\n",
              "  </svg>\n",
              "      </button>\n",
              "      \n",
              "  <style>\n",
              "    .colab-df-container {\n",
              "      display:flex;\n",
              "      flex-wrap:wrap;\n",
              "      gap: 12px;\n",
              "    }\n",
              "\n",
              "    .colab-df-convert {\n",
              "      background-color: #E8F0FE;\n",
              "      border: none;\n",
              "      border-radius: 50%;\n",
              "      cursor: pointer;\n",
              "      display: none;\n",
              "      fill: #1967D2;\n",
              "      height: 32px;\n",
              "      padding: 0 0 0 0;\n",
              "      width: 32px;\n",
              "    }\n",
              "\n",
              "    .colab-df-convert:hover {\n",
              "      background-color: #E2EBFA;\n",
              "      box-shadow: 0px 1px 2px rgba(60, 64, 67, 0.3), 0px 1px 3px 1px rgba(60, 64, 67, 0.15);\n",
              "      fill: #174EA6;\n",
              "    }\n",
              "\n",
              "    [theme=dark] .colab-df-convert {\n",
              "      background-color: #3B4455;\n",
              "      fill: #D2E3FC;\n",
              "    }\n",
              "\n",
              "    [theme=dark] .colab-df-convert:hover {\n",
              "      background-color: #434B5C;\n",
              "      box-shadow: 0px 1px 3px 1px rgba(0, 0, 0, 0.15);\n",
              "      filter: drop-shadow(0px 1px 2px rgba(0, 0, 0, 0.3));\n",
              "      fill: #FFFFFF;\n",
              "    }\n",
              "  </style>\n",
              "\n",
              "      <script>\n",
              "        const buttonEl =\n",
              "          document.querySelector('#df-70e30264-4139-40fa-ada9-61f5a56d2927 button.colab-df-convert');\n",
              "        buttonEl.style.display =\n",
              "          google.colab.kernel.accessAllowed ? 'block' : 'none';\n",
              "\n",
              "        async function convertToInteractive(key) {\n",
              "          const element = document.querySelector('#df-70e30264-4139-40fa-ada9-61f5a56d2927');\n",
              "          const dataTable =\n",
              "            await google.colab.kernel.invokeFunction('convertToInteractive',\n",
              "                                                     [key], {});\n",
              "          if (!dataTable) return;\n",
              "\n",
              "          const docLinkHtml = 'Like what you see? Visit the ' +\n",
              "            '<a target=\"_blank\" href=https://colab.research.google.com/notebooks/data_table.ipynb>data table notebook</a>'\n",
              "            + ' to learn more about interactive tables.';\n",
              "          element.innerHTML = '';\n",
              "          dataTable['output_type'] = 'display_data';\n",
              "          await google.colab.output.renderOutput(dataTable, element);\n",
              "          const docLink = document.createElement('div');\n",
              "          docLink.innerHTML = docLinkHtml;\n",
              "          element.appendChild(docLink);\n",
              "        }\n",
              "      </script>\n",
              "    </div>\n",
              "  </div>\n",
              "  "
            ]
          },
          "metadata": {},
          "execution_count": 12
        }
      ],
      "source": [
        "test.describe()"
      ]
    },
    {
      "cell_type": "markdown",
      "metadata": {
        "id": "LJ9Zw9IGcrl1"
      },
      "source": [
        "## Submission"
      ]
    },
    {
      "cell_type": "code",
      "execution_count": null,
      "metadata": {
        "colab": {
          "base_uri": "https://localhost:8080/",
          "height": 206
        },
        "id": "vStpGMNGcrl1",
        "outputId": "72d9b80f-321c-4d32-ec3e-79e50cec12c3"
      },
      "outputs": [
        {
          "output_type": "execute_result",
          "data": {
            "text/plain": [
              "  PassengerId  Transported\n",
              "0     0013_01        False\n",
              "1     0018_01        False\n",
              "2     0019_01        False\n",
              "3     0021_01        False\n",
              "4     0023_01        False"
            ],
            "text/html": [
              "\n",
              "  <div id=\"df-3798133f-40ec-405d-a6e1-c929a4d6dc73\">\n",
              "    <div class=\"colab-df-container\">\n",
              "      <div>\n",
              "<style scoped>\n",
              "    .dataframe tbody tr th:only-of-type {\n",
              "        vertical-align: middle;\n",
              "    }\n",
              "\n",
              "    .dataframe tbody tr th {\n",
              "        vertical-align: top;\n",
              "    }\n",
              "\n",
              "    .dataframe thead th {\n",
              "        text-align: right;\n",
              "    }\n",
              "</style>\n",
              "<table border=\"1\" class=\"dataframe\">\n",
              "  <thead>\n",
              "    <tr style=\"text-align: right;\">\n",
              "      <th></th>\n",
              "      <th>PassengerId</th>\n",
              "      <th>Transported</th>\n",
              "    </tr>\n",
              "  </thead>\n",
              "  <tbody>\n",
              "    <tr>\n",
              "      <th>0</th>\n",
              "      <td>0013_01</td>\n",
              "      <td>False</td>\n",
              "    </tr>\n",
              "    <tr>\n",
              "      <th>1</th>\n",
              "      <td>0018_01</td>\n",
              "      <td>False</td>\n",
              "    </tr>\n",
              "    <tr>\n",
              "      <th>2</th>\n",
              "      <td>0019_01</td>\n",
              "      <td>False</td>\n",
              "    </tr>\n",
              "    <tr>\n",
              "      <th>3</th>\n",
              "      <td>0021_01</td>\n",
              "      <td>False</td>\n",
              "    </tr>\n",
              "    <tr>\n",
              "      <th>4</th>\n",
              "      <td>0023_01</td>\n",
              "      <td>False</td>\n",
              "    </tr>\n",
              "  </tbody>\n",
              "</table>\n",
              "</div>\n",
              "      <button class=\"colab-df-convert\" onclick=\"convertToInteractive('df-3798133f-40ec-405d-a6e1-c929a4d6dc73')\"\n",
              "              title=\"Convert this dataframe to an interactive table.\"\n",
              "              style=\"display:none;\">\n",
              "        \n",
              "  <svg xmlns=\"http://www.w3.org/2000/svg\" height=\"24px\"viewBox=\"0 0 24 24\"\n",
              "       width=\"24px\">\n",
              "    <path d=\"M0 0h24v24H0V0z\" fill=\"none\"/>\n",
              "    <path d=\"M18.56 5.44l.94 2.06.94-2.06 2.06-.94-2.06-.94-.94-2.06-.94 2.06-2.06.94zm-11 1L8.5 8.5l.94-2.06 2.06-.94-2.06-.94L8.5 2.5l-.94 2.06-2.06.94zm10 10l.94 2.06.94-2.06 2.06-.94-2.06-.94-.94-2.06-.94 2.06-2.06.94z\"/><path d=\"M17.41 7.96l-1.37-1.37c-.4-.4-.92-.59-1.43-.59-.52 0-1.04.2-1.43.59L10.3 9.45l-7.72 7.72c-.78.78-.78 2.05 0 2.83L4 21.41c.39.39.9.59 1.41.59.51 0 1.02-.2 1.41-.59l7.78-7.78 2.81-2.81c.8-.78.8-2.07 0-2.86zM5.41 20L4 18.59l7.72-7.72 1.47 1.35L5.41 20z\"/>\n",
              "  </svg>\n",
              "      </button>\n",
              "      \n",
              "  <style>\n",
              "    .colab-df-container {\n",
              "      display:flex;\n",
              "      flex-wrap:wrap;\n",
              "      gap: 12px;\n",
              "    }\n",
              "\n",
              "    .colab-df-convert {\n",
              "      background-color: #E8F0FE;\n",
              "      border: none;\n",
              "      border-radius: 50%;\n",
              "      cursor: pointer;\n",
              "      display: none;\n",
              "      fill: #1967D2;\n",
              "      height: 32px;\n",
              "      padding: 0 0 0 0;\n",
              "      width: 32px;\n",
              "    }\n",
              "\n",
              "    .colab-df-convert:hover {\n",
              "      background-color: #E2EBFA;\n",
              "      box-shadow: 0px 1px 2px rgba(60, 64, 67, 0.3), 0px 1px 3px 1px rgba(60, 64, 67, 0.15);\n",
              "      fill: #174EA6;\n",
              "    }\n",
              "\n",
              "    [theme=dark] .colab-df-convert {\n",
              "      background-color: #3B4455;\n",
              "      fill: #D2E3FC;\n",
              "    }\n",
              "\n",
              "    [theme=dark] .colab-df-convert:hover {\n",
              "      background-color: #434B5C;\n",
              "      box-shadow: 0px 1px 3px 1px rgba(0, 0, 0, 0.15);\n",
              "      filter: drop-shadow(0px 1px 2px rgba(0, 0, 0, 0.3));\n",
              "      fill: #FFFFFF;\n",
              "    }\n",
              "  </style>\n",
              "\n",
              "      <script>\n",
              "        const buttonEl =\n",
              "          document.querySelector('#df-3798133f-40ec-405d-a6e1-c929a4d6dc73 button.colab-df-convert');\n",
              "        buttonEl.style.display =\n",
              "          google.colab.kernel.accessAllowed ? 'block' : 'none';\n",
              "\n",
              "        async function convertToInteractive(key) {\n",
              "          const element = document.querySelector('#df-3798133f-40ec-405d-a6e1-c929a4d6dc73');\n",
              "          const dataTable =\n",
              "            await google.colab.kernel.invokeFunction('convertToInteractive',\n",
              "                                                     [key], {});\n",
              "          if (!dataTable) return;\n",
              "\n",
              "          const docLinkHtml = 'Like what you see? Visit the ' +\n",
              "            '<a target=\"_blank\" href=https://colab.research.google.com/notebooks/data_table.ipynb>data table notebook</a>'\n",
              "            + ' to learn more about interactive tables.';\n",
              "          element.innerHTML = '';\n",
              "          dataTable['output_type'] = 'display_data';\n",
              "          await google.colab.output.renderOutput(dataTable, element);\n",
              "          const docLink = document.createElement('div');\n",
              "          docLink.innerHTML = docLinkHtml;\n",
              "          element.appendChild(docLink);\n",
              "        }\n",
              "      </script>\n",
              "    </div>\n",
              "  </div>\n",
              "  "
            ]
          },
          "metadata": {},
          "execution_count": 13
        }
      ],
      "source": [
        "submission.head()"
      ]
    },
    {
      "cell_type": "markdown",
      "metadata": {
        "id": "nbYsTnwdcrl3"
      },
      "source": [
        "# EDA"
      ]
    },
    {
      "cell_type": "markdown",
      "metadata": {
        "id": "Dh7H6Kizcrl4"
      },
      "source": [
        "## Overview of Data"
      ]
    },
    {
      "cell_type": "code",
      "execution_count": null,
      "metadata": {
        "id": "Nl0sGgE-crl5"
      },
      "outputs": [],
      "source": [
        "train = train.drop([\"PassengerId\"], axis=1)  # PassengerId 컬럼 제거\n",
        "test = test.drop([\"PassengerId\"], axis=1)  # PassengerId 컬럼 제거"
      ]
    },
    {
      "cell_type": "code",
      "execution_count": null,
      "metadata": {
        "id": "8_d-pQEScrl5"
      },
      "outputs": [],
      "source": [
        "target = \"Transported\"  # target 변수명\n",
        "Features = [col for col in train.columns if col != target]  # target 변수가 아닌 컬럼만 Features에 담음\n",
        "random_state = 12"
      ]
    },
    {
      "cell_type": "code",
      "execution_count": null,
      "metadata": {
        "colab": {
          "base_uri": "https://localhost:8080/",
          "height": 238
        },
        "id": "ZVeFjPfgcrl6",
        "outputId": "6a2fd089-d53d-4e8c-b828-904a402486d4"
      },
      "outputs": [
        {
          "output_type": "execute_result",
          "data": {
            "text/plain": [
              "<pandas.io.formats.style.Styler at 0x7fe77b5139d0>"
            ],
            "text/html": [
              "<style type=\"text/css\">\n",
              "#T_ff8c8_row0_col0, #T_ff8c8_row2_col0 {\n",
              "  background-color: #0b6cae;\n",
              "  color: #f1f1f1;\n",
              "}\n",
              "#T_ff8c8_row0_col1 {\n",
              "  background-color: #084081;\n",
              "  color: #f1f1f1;\n",
              "  width: 10em;\n",
              "  height: 80%;\n",
              "  background: linear-gradient(90deg,green 100.0%, transparent 100.0%);\n",
              "}\n",
              "#T_ff8c8_row0_col2, #T_ff8c8_row0_col6, #T_ff8c8_row5_col0, #T_ff8c8_row5_col4, #T_ff8c8_row5_col5 {\n",
              "  background-color: #084081;\n",
              "  color: #f1f1f1;\n",
              "}\n",
              "#T_ff8c8_row0_col3, #T_ff8c8_row0_col4, #T_ff8c8_row0_col5, #T_ff8c8_row1_col3, #T_ff8c8_row1_col4, #T_ff8c8_row1_col5, #T_ff8c8_row2_col3, #T_ff8c8_row2_col4, #T_ff8c8_row2_col5, #T_ff8c8_row3_col3, #T_ff8c8_row3_col4, #T_ff8c8_row3_col5, #T_ff8c8_row4_col0, #T_ff8c8_row4_col3, #T_ff8c8_row4_col4, #T_ff8c8_row4_col5, #T_ff8c8_row4_col6, #T_ff8c8_row5_col2, #T_ff8c8_row5_col3 {\n",
              "  background-color: #f7fcf0;\n",
              "  color: #000000;\n",
              "}\n",
              "#T_ff8c8_row0_col7 {\n",
              "  background-color: #084081;\n",
              "  color: #f1f1f1;\n",
              "  width: 10em;\n",
              "  height: 80%;\n",
              "  background: linear-gradient(90deg,#BB0000 100.0%, transparent 100.0%);\n",
              "}\n",
              "#T_ff8c8_row1_col0 {\n",
              "  background-color: #3c9fc8;\n",
              "  color: #f1f1f1;\n",
              "}\n",
              "#T_ff8c8_row1_col1 {\n",
              "  background-color: #49add0;\n",
              "  color: #f1f1f1;\n",
              "  width: 10em;\n",
              "  height: 80%;\n",
              "  background: linear-gradient(90deg,green 64.3%, transparent 64.3%);\n",
              "}\n",
              "#T_ff8c8_row1_col2 {\n",
              "  background-color: #3699c5;\n",
              "  color: #f1f1f1;\n",
              "}\n",
              "#T_ff8c8_row1_col6 {\n",
              "  background-color: #a3dbb7;\n",
              "  color: #000000;\n",
              "}\n",
              "#T_ff8c8_row1_col7 {\n",
              "  background-color: #1a7ab5;\n",
              "  color: #f1f1f1;\n",
              "  width: 10em;\n",
              "  height: 80%;\n",
              "  background: linear-gradient(90deg,#BB0000 80.9%, transparent 80.9%);\n",
              "}\n",
              "#T_ff8c8_row2_col1 {\n",
              "  background-color: #45a8cd;\n",
              "  color: #f1f1f1;\n",
              "  width: 10em;\n",
              "  height: 80%;\n",
              "  background: linear-gradient(90deg,green 65.8%, transparent 65.8%);\n",
              "}\n",
              "#T_ff8c8_row2_col2 {\n",
              "  background-color: #389bc6;\n",
              "  color: #f1f1f1;\n",
              "}\n",
              "#T_ff8c8_row2_col6 {\n",
              "  background-color: #46aace;\n",
              "  color: #f1f1f1;\n",
              "}\n",
              "#T_ff8c8_row2_col7 {\n",
              "  background-color: #2a8bbe;\n",
              "  color: #f1f1f1;\n",
              "  width: 10em;\n",
              "  height: 80%;\n",
              "  background: linear-gradient(90deg,#BB0000 75.1%, transparent 75.1%);\n",
              "}\n",
              "#T_ff8c8_row3_col0 {\n",
              "  background-color: #085598;\n",
              "  color: #f1f1f1;\n",
              "}\n",
              "#T_ff8c8_row3_col1 {\n",
              "  background-color: #8bd2bf;\n",
              "  color: #000000;\n",
              "  width: 10em;\n",
              "  height: 80%;\n",
              "  background: linear-gradient(90deg,green 45.6%, transparent 45.6%);\n",
              "}\n",
              "#T_ff8c8_row3_col2, #T_ff8c8_row3_col6 {\n",
              "  background-color: #9cd9b9;\n",
              "  color: #000000;\n",
              "}\n",
              "#T_ff8c8_row3_col7 {\n",
              "  background-color: #83cfc1;\n",
              "  color: #000000;\n",
              "  width: 10em;\n",
              "  height: 80%;\n",
              "  background: linear-gradient(90deg,#BB0000 47.9%, transparent 47.9%);\n",
              "}\n",
              "#T_ff8c8_row4_col1 {\n",
              "  background-color: #b3e1ba;\n",
              "  color: #000000;\n",
              "  width: 10em;\n",
              "  height: 80%;\n",
              "  background: linear-gradient(90deg,green 33.8%, transparent 33.8%);\n",
              "}\n",
              "#T_ff8c8_row4_col2 {\n",
              "  background-color: #aadeb6;\n",
              "  color: #000000;\n",
              "}\n",
              "#T_ff8c8_row4_col7 {\n",
              "  background-color: #2081b8;\n",
              "  color: #f1f1f1;\n",
              "  width: 10em;\n",
              "  height: 80%;\n",
              "  background: linear-gradient(90deg,#BB0000 78.7%, transparent 78.7%);\n",
              "}\n",
              "#T_ff8c8_row5_col1, #T_ff8c8_row5_col7 {\n",
              "  background-color: #f7fcf0;\n",
              "  color: #000000;\n",
              "  width: 10em;\n",
              "  height: 80%;\n",
              "}\n",
              "#T_ff8c8_row5_col6 {\n",
              "  background-color: #d0edca;\n",
              "  color: #000000;\n",
              "}\n",
              "</style>\n",
              "<table id=\"T_ff8c8_\" class=\"dataframe\">\n",
              "  <thead>\n",
              "    <tr>\n",
              "      <th class=\"blank level0\" >&nbsp;</th>\n",
              "      <th class=\"col_heading level0 col0\" >count</th>\n",
              "      <th class=\"col_heading level0 col1\" >mean</th>\n",
              "      <th class=\"col_heading level0 col2\" >std</th>\n",
              "      <th class=\"col_heading level0 col3\" >min</th>\n",
              "      <th class=\"col_heading level0 col4\" >25%</th>\n",
              "      <th class=\"col_heading level0 col5\" >50%</th>\n",
              "      <th class=\"col_heading level0 col6\" >75%</th>\n",
              "      <th class=\"col_heading level0 col7\" >max</th>\n",
              "    </tr>\n",
              "  </thead>\n",
              "  <tbody>\n",
              "    <tr>\n",
              "      <th id=\"T_ff8c8_level0_row0\" class=\"row_heading level0 row0\" >FoodCourt</th>\n",
              "      <td id=\"T_ff8c8_row0_col0\" class=\"data row0 col0\" >8510.00</td>\n",
              "      <td id=\"T_ff8c8_row0_col1\" class=\"data row0 col1\" >458.08</td>\n",
              "      <td id=\"T_ff8c8_row0_col2\" class=\"data row0 col2\" >1611.49</td>\n",
              "      <td id=\"T_ff8c8_row0_col3\" class=\"data row0 col3\" >0.00</td>\n",
              "      <td id=\"T_ff8c8_row0_col4\" class=\"data row0 col4\" >0.00</td>\n",
              "      <td id=\"T_ff8c8_row0_col5\" class=\"data row0 col5\" >0.00</td>\n",
              "      <td id=\"T_ff8c8_row0_col6\" class=\"data row0 col6\" >76.00</td>\n",
              "      <td id=\"T_ff8c8_row0_col7\" class=\"data row0 col7\" >29813.00</td>\n",
              "    </tr>\n",
              "    <tr>\n",
              "      <th id=\"T_ff8c8_level0_row1\" class=\"row_heading level0 row1\" >VRDeck</th>\n",
              "      <td id=\"T_ff8c8_row1_col0\" class=\"data row1 col0\" >8505.00</td>\n",
              "      <td id=\"T_ff8c8_row1_col1\" class=\"data row1 col1\" >304.85</td>\n",
              "      <td id=\"T_ff8c8_row1_col2\" class=\"data row1 col2\" >1145.72</td>\n",
              "      <td id=\"T_ff8c8_row1_col3\" class=\"data row1 col3\" >0.00</td>\n",
              "      <td id=\"T_ff8c8_row1_col4\" class=\"data row1 col4\" >0.00</td>\n",
              "      <td id=\"T_ff8c8_row1_col5\" class=\"data row1 col5\" >0.00</td>\n",
              "      <td id=\"T_ff8c8_row1_col6\" class=\"data row1 col6\" >46.00</td>\n",
              "      <td id=\"T_ff8c8_row1_col7\" class=\"data row1 col7\" >24133.00</td>\n",
              "    </tr>\n",
              "    <tr>\n",
              "      <th id=\"T_ff8c8_level0_row2\" class=\"row_heading level0 row2\" >Spa</th>\n",
              "      <td id=\"T_ff8c8_row2_col0\" class=\"data row2 col0\" >8510.00</td>\n",
              "      <td id=\"T_ff8c8_row2_col1\" class=\"data row2 col1\" >311.14</td>\n",
              "      <td id=\"T_ff8c8_row2_col2\" class=\"data row2 col2\" >1136.71</td>\n",
              "      <td id=\"T_ff8c8_row2_col3\" class=\"data row2 col3\" >0.00</td>\n",
              "      <td id=\"T_ff8c8_row2_col4\" class=\"data row2 col4\" >0.00</td>\n",
              "      <td id=\"T_ff8c8_row2_col5\" class=\"data row2 col5\" >0.00</td>\n",
              "      <td id=\"T_ff8c8_row2_col6\" class=\"data row2 col6\" >59.00</td>\n",
              "      <td id=\"T_ff8c8_row2_col7\" class=\"data row2 col7\" >22408.00</td>\n",
              "    </tr>\n",
              "    <tr>\n",
              "      <th id=\"T_ff8c8_level0_row3\" class=\"row_heading level0 row3\" >RoomService</th>\n",
              "      <td id=\"T_ff8c8_row3_col0\" class=\"data row3 col0\" >8512.00</td>\n",
              "      <td id=\"T_ff8c8_row3_col1\" class=\"data row3 col1\" >224.69</td>\n",
              "      <td id=\"T_ff8c8_row3_col2\" class=\"data row3 col2\" >666.72</td>\n",
              "      <td id=\"T_ff8c8_row3_col3\" class=\"data row3 col3\" >0.00</td>\n",
              "      <td id=\"T_ff8c8_row3_col4\" class=\"data row3 col4\" >0.00</td>\n",
              "      <td id=\"T_ff8c8_row3_col5\" class=\"data row3 col5\" >0.00</td>\n",
              "      <td id=\"T_ff8c8_row3_col6\" class=\"data row3 col6\" >47.00</td>\n",
              "      <td id=\"T_ff8c8_row3_col7\" class=\"data row3 col7\" >14327.00</td>\n",
              "    </tr>\n",
              "    <tr>\n",
              "      <th id=\"T_ff8c8_level0_row4\" class=\"row_heading level0 row4\" >ShoppingMall</th>\n",
              "      <td id=\"T_ff8c8_row4_col0\" class=\"data row4 col0\" >8485.00</td>\n",
              "      <td id=\"T_ff8c8_row4_col1\" class=\"data row4 col1\" >173.73</td>\n",
              "      <td id=\"T_ff8c8_row4_col2\" class=\"data row4 col2\" >604.70</td>\n",
              "      <td id=\"T_ff8c8_row4_col3\" class=\"data row4 col3\" >0.00</td>\n",
              "      <td id=\"T_ff8c8_row4_col4\" class=\"data row4 col4\" >0.00</td>\n",
              "      <td id=\"T_ff8c8_row4_col5\" class=\"data row4 col5\" >0.00</td>\n",
              "      <td id=\"T_ff8c8_row4_col6\" class=\"data row4 col6\" >27.00</td>\n",
              "      <td id=\"T_ff8c8_row4_col7\" class=\"data row4 col7\" >23492.00</td>\n",
              "    </tr>\n",
              "    <tr>\n",
              "      <th id=\"T_ff8c8_level0_row5\" class=\"row_heading level0 row5\" >Age</th>\n",
              "      <td id=\"T_ff8c8_row5_col0\" class=\"data row5 col0\" >8514.00</td>\n",
              "      <td id=\"T_ff8c8_row5_col1\" class=\"data row5 col1\" >28.83</td>\n",
              "      <td id=\"T_ff8c8_row5_col2\" class=\"data row5 col2\" >14.49</td>\n",
              "      <td id=\"T_ff8c8_row5_col3\" class=\"data row5 col3\" >0.00</td>\n",
              "      <td id=\"T_ff8c8_row5_col4\" class=\"data row5 col4\" >19.00</td>\n",
              "      <td id=\"T_ff8c8_row5_col5\" class=\"data row5 col5\" >27.00</td>\n",
              "      <td id=\"T_ff8c8_row5_col6\" class=\"data row5 col6\" >38.00</td>\n",
              "      <td id=\"T_ff8c8_row5_col7\" class=\"data row5 col7\" >79.00</td>\n",
              "    </tr>\n",
              "  </tbody>\n",
              "</table>\n"
            ]
          },
          "metadata": {},
          "execution_count": 16
        }
      ],
      "source": [
        "# 기술 통계량 구한 후 표준편차(std)를 기준으로 내림차순 정렬\n",
        "# 값이 큰 행을 강조하기 위해 style.background_gradient 사용\n",
        "# max, mean 컬럼에 색상 입히기\n",
        "\n",
        "train.iloc[:, :-1].describe().T.sort_values(by=\"std\", ascending=False)\\\n",
        "    .style.background_gradient(cmap=\"GnBu\")\\\n",
        "    .bar(subset=[\"max\"], color=\"#BB0000\")\\\n",
        "    .bar(subset=[\"mean\"], color=\"green\")"
      ]
    },
    {
      "cell_type": "markdown",
      "source": [
        "## Null Value Distribution"
      ],
      "metadata": {
        "id": "bVN6Er2Wolpf"
      }
    },
    {
      "cell_type": "code",
      "source": [
        "train_null = pd.DataFrame(train.isna().sum()).sort_values(by=0, ascending=False)[:-1]  # 마지막 변수인 target 변수를 제외한 결측치 개수 구한 후 내림차순 정렬\n",
        "test_null = pd.DataFrame(test.isna().sum()).sort_values(by=0, ascending=False)"
      ],
      "metadata": {
        "id": "jfnPuwMPolUR"
      },
      "execution_count": null,
      "outputs": []
    },
    {
      "cell_type": "code",
      "source": [
        "# make_subplots(행, 열, 각 그래프 제목, 전체 그래프 x축명)\n",
        "fig = make_subplots(rows=1, cols=2,\n",
        "                    column_titles=[\"Train Data\", \"Test Data\"],\n",
        "                    x_title=\"Missing Vakyes\")\n",
        "\n",
        "# fig_add_trace를 통해 그래프 추가하기\n",
        "fig.add_trace(go.Bar(x=train_null[0], y=train_null.index,\n",
        "                     orientation=\"h\",\n",
        "                     marker=dict(color=[n for n in range(12)],\n",
        "                                 line_color=\"rgb(0, 0, 0)\",\n",
        "                                 line_width=2,\n",
        "                                 coloraxis=\"coloraxis\")),\n",
        "              1, 1)  # 그래프 위치 지정\n",
        "\n",
        "# fig.add_trace를 통해 그래프 추가하기\n",
        "fig.add_trace(go.Bar(x=test_null[0], y=test_null.index,\n",
        "                     orientation=\"h\",\n",
        "                     marker=dict(color=[n for n in range(12)],\n",
        "                                 line_color=\"rgb(0, 0, 0)\",\n",
        "                                 line_width=2,\n",
        "                                 coloraxis=\"coloraxis\")),\n",
        "              1, 2)  # 그래프 위치 지정\n",
        "\n",
        "# fig.update_layout을 통해 범례(legend)를 False로 설정하고, 전체 그래프 제목 설정하여 나타내기\n",
        "fig.update_layout(showlegend=False, title_text=\"Column wise Null value Distribution\", title_x=0.5)"
      ],
      "metadata": {
        "colab": {
          "base_uri": "https://localhost:8080/",
          "height": 542
        },
        "id": "RSoS4xsaolGP",
        "outputId": "4a4b08e7-08ca-428f-d76d-c442179368a3"
      },
      "execution_count": null,
      "outputs": [
        {
          "output_type": "display_data",
          "data": {
            "text/html": [
              "<html>\n",
              "<head><meta charset=\"utf-8\" /></head>\n",
              "<body>\n",
              "    <div>            <script src=\"https://cdnjs.cloudflare.com/ajax/libs/mathjax/2.7.5/MathJax.js?config=TeX-AMS-MML_SVG\"></script><script type=\"text/javascript\">if (window.MathJax) {MathJax.Hub.Config({SVG: {font: \"STIX-Web\"}});}</script>                <script type=\"text/javascript\">window.PlotlyConfig = {MathJaxConfig: 'local'};</script>\n",
              "        <script src=\"https://cdn.plot.ly/plotly-2.8.3.min.js\"></script>                <div id=\"cf38e81f-2872-498d-bba4-4d96a502657e\" class=\"plotly-graph-div\" style=\"height:525px; width:100%;\"></div>            <script type=\"text/javascript\">                                    window.PLOTLYENV=window.PLOTLYENV || {};                                    if (document.getElementById(\"cf38e81f-2872-498d-bba4-4d96a502657e\")) {                    Plotly.newPlot(                        \"cf38e81f-2872-498d-bba4-4d96a502657e\",                        [{\"marker\":{\"color\":[0,1,2,3,4,5,6,7,8,9,10,11],\"coloraxis\":\"coloraxis\",\"line\":{\"color\":\"rgb(0, 0, 0)\",\"width\":2}},\"orientation\":\"h\",\"x\":[217,208,203,201,200,199,188,183,183,182,181,179],\"y\":[\"CryoSleep\",\"ShoppingMall\",\"VIP\",\"HomePlanet\",\"Name\",\"Cabin\",\"VRDeck\",\"FoodCourt\",\"Spa\",\"Destination\",\"RoomService\",\"Age\"],\"type\":\"bar\",\"xaxis\":\"x\",\"yaxis\":\"y\"},{\"marker\":{\"color\":[0,1,2,3,4,5,6,7,8,9,10,11],\"coloraxis\":\"coloraxis\",\"line\":{\"color\":\"rgb(0, 0, 0)\",\"width\":2}},\"orientation\":\"h\",\"x\":[106,101,100,98,94,93,93,92,91,87,82,80],\"y\":[\"FoodCourt\",\"Spa\",\"Cabin\",\"ShoppingMall\",\"Name\",\"CryoSleep\",\"VIP\",\"Destination\",\"Age\",\"HomePlanet\",\"RoomService\",\"VRDeck\"],\"type\":\"bar\",\"xaxis\":\"x2\",\"yaxis\":\"y2\"}],                        {\"template\":{\"data\":{\"bar\":[{\"error_x\":{\"color\":\"#2a3f5f\"},\"error_y\":{\"color\":\"#2a3f5f\"},\"marker\":{\"line\":{\"color\":\"#E5ECF6\",\"width\":0.5},\"pattern\":{\"fillmode\":\"overlay\",\"size\":10,\"solidity\":0.2}},\"type\":\"bar\"}],\"barpolar\":[{\"marker\":{\"line\":{\"color\":\"#E5ECF6\",\"width\":0.5},\"pattern\":{\"fillmode\":\"overlay\",\"size\":10,\"solidity\":0.2}},\"type\":\"barpolar\"}],\"carpet\":[{\"aaxis\":{\"endlinecolor\":\"#2a3f5f\",\"gridcolor\":\"white\",\"linecolor\":\"white\",\"minorgridcolor\":\"white\",\"startlinecolor\":\"#2a3f5f\"},\"baxis\":{\"endlinecolor\":\"#2a3f5f\",\"gridcolor\":\"white\",\"linecolor\":\"white\",\"minorgridcolor\":\"white\",\"startlinecolor\":\"#2a3f5f\"},\"type\":\"carpet\"}],\"choropleth\":[{\"colorbar\":{\"outlinewidth\":0,\"ticks\":\"\"},\"type\":\"choropleth\"}],\"contour\":[{\"colorbar\":{\"outlinewidth\":0,\"ticks\":\"\"},\"colorscale\":[[0.0,\"#0d0887\"],[0.1111111111111111,\"#46039f\"],[0.2222222222222222,\"#7201a8\"],[0.3333333333333333,\"#9c179e\"],[0.4444444444444444,\"#bd3786\"],[0.5555555555555556,\"#d8576b\"],[0.6666666666666666,\"#ed7953\"],[0.7777777777777778,\"#fb9f3a\"],[0.8888888888888888,\"#fdca26\"],[1.0,\"#f0f921\"]],\"type\":\"contour\"}],\"contourcarpet\":[{\"colorbar\":{\"outlinewidth\":0,\"ticks\":\"\"},\"type\":\"contourcarpet\"}],\"heatmap\":[{\"colorbar\":{\"outlinewidth\":0,\"ticks\":\"\"},\"colorscale\":[[0.0,\"#0d0887\"],[0.1111111111111111,\"#46039f\"],[0.2222222222222222,\"#7201a8\"],[0.3333333333333333,\"#9c179e\"],[0.4444444444444444,\"#bd3786\"],[0.5555555555555556,\"#d8576b\"],[0.6666666666666666,\"#ed7953\"],[0.7777777777777778,\"#fb9f3a\"],[0.8888888888888888,\"#fdca26\"],[1.0,\"#f0f921\"]],\"type\":\"heatmap\"}],\"heatmapgl\":[{\"colorbar\":{\"outlinewidth\":0,\"ticks\":\"\"},\"colorscale\":[[0.0,\"#0d0887\"],[0.1111111111111111,\"#46039f\"],[0.2222222222222222,\"#7201a8\"],[0.3333333333333333,\"#9c179e\"],[0.4444444444444444,\"#bd3786\"],[0.5555555555555556,\"#d8576b\"],[0.6666666666666666,\"#ed7953\"],[0.7777777777777778,\"#fb9f3a\"],[0.8888888888888888,\"#fdca26\"],[1.0,\"#f0f921\"]],\"type\":\"heatmapgl\"}],\"histogram\":[{\"marker\":{\"pattern\":{\"fillmode\":\"overlay\",\"size\":10,\"solidity\":0.2}},\"type\":\"histogram\"}],\"histogram2d\":[{\"colorbar\":{\"outlinewidth\":0,\"ticks\":\"\"},\"colorscale\":[[0.0,\"#0d0887\"],[0.1111111111111111,\"#46039f\"],[0.2222222222222222,\"#7201a8\"],[0.3333333333333333,\"#9c179e\"],[0.4444444444444444,\"#bd3786\"],[0.5555555555555556,\"#d8576b\"],[0.6666666666666666,\"#ed7953\"],[0.7777777777777778,\"#fb9f3a\"],[0.8888888888888888,\"#fdca26\"],[1.0,\"#f0f921\"]],\"type\":\"histogram2d\"}],\"histogram2dcontour\":[{\"colorbar\":{\"outlinewidth\":0,\"ticks\":\"\"},\"colorscale\":[[0.0,\"#0d0887\"],[0.1111111111111111,\"#46039f\"],[0.2222222222222222,\"#7201a8\"],[0.3333333333333333,\"#9c179e\"],[0.4444444444444444,\"#bd3786\"],[0.5555555555555556,\"#d8576b\"],[0.6666666666666666,\"#ed7953\"],[0.7777777777777778,\"#fb9f3a\"],[0.8888888888888888,\"#fdca26\"],[1.0,\"#f0f921\"]],\"type\":\"histogram2dcontour\"}],\"mesh3d\":[{\"colorbar\":{\"outlinewidth\":0,\"ticks\":\"\"},\"type\":\"mesh3d\"}],\"parcoords\":[{\"line\":{\"colorbar\":{\"outlinewidth\":0,\"ticks\":\"\"}},\"type\":\"parcoords\"}],\"pie\":[{\"automargin\":true,\"type\":\"pie\"}],\"scatter\":[{\"marker\":{\"colorbar\":{\"outlinewidth\":0,\"ticks\":\"\"}},\"type\":\"scatter\"}],\"scatter3d\":[{\"line\":{\"colorbar\":{\"outlinewidth\":0,\"ticks\":\"\"}},\"marker\":{\"colorbar\":{\"outlinewidth\":0,\"ticks\":\"\"}},\"type\":\"scatter3d\"}],\"scattercarpet\":[{\"marker\":{\"colorbar\":{\"outlinewidth\":0,\"ticks\":\"\"}},\"type\":\"scattercarpet\"}],\"scattergeo\":[{\"marker\":{\"colorbar\":{\"outlinewidth\":0,\"ticks\":\"\"}},\"type\":\"scattergeo\"}],\"scattergl\":[{\"marker\":{\"colorbar\":{\"outlinewidth\":0,\"ticks\":\"\"}},\"type\":\"scattergl\"}],\"scattermapbox\":[{\"marker\":{\"colorbar\":{\"outlinewidth\":0,\"ticks\":\"\"}},\"type\":\"scattermapbox\"}],\"scatterpolar\":[{\"marker\":{\"colorbar\":{\"outlinewidth\":0,\"ticks\":\"\"}},\"type\":\"scatterpolar\"}],\"scatterpolargl\":[{\"marker\":{\"colorbar\":{\"outlinewidth\":0,\"ticks\":\"\"}},\"type\":\"scatterpolargl\"}],\"scatterternary\":[{\"marker\":{\"colorbar\":{\"outlinewidth\":0,\"ticks\":\"\"}},\"type\":\"scatterternary\"}],\"surface\":[{\"colorbar\":{\"outlinewidth\":0,\"ticks\":\"\"},\"colorscale\":[[0.0,\"#0d0887\"],[0.1111111111111111,\"#46039f\"],[0.2222222222222222,\"#7201a8\"],[0.3333333333333333,\"#9c179e\"],[0.4444444444444444,\"#bd3786\"],[0.5555555555555556,\"#d8576b\"],[0.6666666666666666,\"#ed7953\"],[0.7777777777777778,\"#fb9f3a\"],[0.8888888888888888,\"#fdca26\"],[1.0,\"#f0f921\"]],\"type\":\"surface\"}],\"table\":[{\"cells\":{\"fill\":{\"color\":\"#EBF0F8\"},\"line\":{\"color\":\"white\"}},\"header\":{\"fill\":{\"color\":\"#C8D4E3\"},\"line\":{\"color\":\"white\"}},\"type\":\"table\"}]},\"layout\":{\"annotationdefaults\":{\"arrowcolor\":\"#2a3f5f\",\"arrowhead\":0,\"arrowwidth\":1},\"autotypenumbers\":\"strict\",\"coloraxis\":{\"colorbar\":{\"outlinewidth\":0,\"ticks\":\"\"}},\"colorscale\":{\"diverging\":[[0,\"#8e0152\"],[0.1,\"#c51b7d\"],[0.2,\"#de77ae\"],[0.3,\"#f1b6da\"],[0.4,\"#fde0ef\"],[0.5,\"#f7f7f7\"],[0.6,\"#e6f5d0\"],[0.7,\"#b8e186\"],[0.8,\"#7fbc41\"],[0.9,\"#4d9221\"],[1,\"#276419\"]],\"sequential\":[[0.0,\"#0d0887\"],[0.1111111111111111,\"#46039f\"],[0.2222222222222222,\"#7201a8\"],[0.3333333333333333,\"#9c179e\"],[0.4444444444444444,\"#bd3786\"],[0.5555555555555556,\"#d8576b\"],[0.6666666666666666,\"#ed7953\"],[0.7777777777777778,\"#fb9f3a\"],[0.8888888888888888,\"#fdca26\"],[1.0,\"#f0f921\"]],\"sequentialminus\":[[0.0,\"#0d0887\"],[0.1111111111111111,\"#46039f\"],[0.2222222222222222,\"#7201a8\"],[0.3333333333333333,\"#9c179e\"],[0.4444444444444444,\"#bd3786\"],[0.5555555555555556,\"#d8576b\"],[0.6666666666666666,\"#ed7953\"],[0.7777777777777778,\"#fb9f3a\"],[0.8888888888888888,\"#fdca26\"],[1.0,\"#f0f921\"]]},\"colorway\":[\"#636efa\",\"#EF553B\",\"#00cc96\",\"#ab63fa\",\"#FFA15A\",\"#19d3f3\",\"#FF6692\",\"#B6E880\",\"#FF97FF\",\"#FECB52\"],\"font\":{\"color\":\"#2a3f5f\"},\"geo\":{\"bgcolor\":\"white\",\"lakecolor\":\"white\",\"landcolor\":\"#E5ECF6\",\"showlakes\":true,\"showland\":true,\"subunitcolor\":\"white\"},\"hoverlabel\":{\"align\":\"left\"},\"hovermode\":\"closest\",\"mapbox\":{\"style\":\"light\"},\"paper_bgcolor\":\"white\",\"plot_bgcolor\":\"#E5ECF6\",\"polar\":{\"angularaxis\":{\"gridcolor\":\"white\",\"linecolor\":\"white\",\"ticks\":\"\"},\"bgcolor\":\"#E5ECF6\",\"radialaxis\":{\"gridcolor\":\"white\",\"linecolor\":\"white\",\"ticks\":\"\"}},\"scene\":{\"xaxis\":{\"backgroundcolor\":\"#E5ECF6\",\"gridcolor\":\"white\",\"gridwidth\":2,\"linecolor\":\"white\",\"showbackground\":true,\"ticks\":\"\",\"zerolinecolor\":\"white\"},\"yaxis\":{\"backgroundcolor\":\"#E5ECF6\",\"gridcolor\":\"white\",\"gridwidth\":2,\"linecolor\":\"white\",\"showbackground\":true,\"ticks\":\"\",\"zerolinecolor\":\"white\"},\"zaxis\":{\"backgroundcolor\":\"#E5ECF6\",\"gridcolor\":\"white\",\"gridwidth\":2,\"linecolor\":\"white\",\"showbackground\":true,\"ticks\":\"\",\"zerolinecolor\":\"white\"}},\"shapedefaults\":{\"line\":{\"color\":\"#2a3f5f\"}},\"ternary\":{\"aaxis\":{\"gridcolor\":\"white\",\"linecolor\":\"white\",\"ticks\":\"\"},\"baxis\":{\"gridcolor\":\"white\",\"linecolor\":\"white\",\"ticks\":\"\"},\"bgcolor\":\"#E5ECF6\",\"caxis\":{\"gridcolor\":\"white\",\"linecolor\":\"white\",\"ticks\":\"\"}},\"title\":{\"x\":0.05},\"xaxis\":{\"automargin\":true,\"gridcolor\":\"white\",\"linecolor\":\"white\",\"ticks\":\"\",\"title\":{\"standoff\":15},\"zerolinecolor\":\"white\",\"zerolinewidth\":2},\"yaxis\":{\"automargin\":true,\"gridcolor\":\"white\",\"linecolor\":\"white\",\"ticks\":\"\",\"title\":{\"standoff\":15},\"zerolinecolor\":\"white\",\"zerolinewidth\":2}}},\"xaxis\":{\"anchor\":\"y\",\"domain\":[0.0,0.45]},\"yaxis\":{\"anchor\":\"x\",\"domain\":[0.0,1.0]},\"xaxis2\":{\"anchor\":\"y2\",\"domain\":[0.55,1.0]},\"yaxis2\":{\"anchor\":\"x2\",\"domain\":[0.0,1.0]},\"annotations\":[{\"font\":{\"size\":16},\"showarrow\":false,\"text\":\"Train Data\",\"x\":0.225,\"xanchor\":\"center\",\"xref\":\"paper\",\"y\":1.0,\"yanchor\":\"bottom\",\"yref\":\"paper\"},{\"font\":{\"size\":16},\"showarrow\":false,\"text\":\"Test Data\",\"x\":0.775,\"xanchor\":\"center\",\"xref\":\"paper\",\"y\":1.0,\"yanchor\":\"bottom\",\"yref\":\"paper\"},{\"font\":{\"size\":16},\"showarrow\":false,\"text\":\"Missing Vakyes\",\"x\":0.5,\"xanchor\":\"center\",\"xref\":\"paper\",\"y\":0,\"yanchor\":\"top\",\"yref\":\"paper\",\"yshift\":-30}],\"title\":{\"text\":\"Column wise Null value Distribution\",\"x\":0.5},\"showlegend\":false},                        {\"responsive\": true}                    ).then(function(){\n",
              "                            \n",
              "var gd = document.getElementById('cf38e81f-2872-498d-bba4-4d96a502657e');\n",
              "var x = new MutationObserver(function (mutations, observer) {{\n",
              "        var display = window.getComputedStyle(gd).display;\n",
              "        if (!display || display === 'none') {{\n",
              "            console.log([gd, 'removed!']);\n",
              "            Plotly.purge(gd);\n",
              "            observer.disconnect();\n",
              "        }}\n",
              "}});\n",
              "\n",
              "// Listen for the removal of the full notebook cells\n",
              "var notebookContainer = gd.closest('#notebook-container');\n",
              "if (notebookContainer) {{\n",
              "    x.observe(notebookContainer, {childList: true});\n",
              "}}\n",
              "\n",
              "// Listen for the clearing of the current output cell\n",
              "var outputEl = gd.closest('.output');\n",
              "if (outputEl) {{\n",
              "    x.observe(outputEl, {childList: true});\n",
              "}}\n",
              "\n",
              "                        })                };                            </script>        </div>\n",
              "</body>\n",
              "</html>"
            ]
          },
          "metadata": {}
        }
      ]
    },
    {
      "cell_type": "code",
      "source": [
        "missing_train_row = train.isna().sum(axis=1)  # 각 행별로 결측치 합계\n",
        "missing_train_row = pd.DataFrame(missing_train_row.value_counts() / train.shape[0]).reset_index()  # 빈도수를 셍 비율을 계산 후 데이터프레임으로 변환\n",
        "\n",
        "missing_test_row = test.isna().sum(axis=1)  # 각 행별로 결측치 합계\n",
        "missing_test_row = pd.DataFrame(missing_test_row.value_counts() / test.shape[0]).reset_index()  # 빈도수를 셍 비율을 계산 후 데이터프레임으로 변환\n",
        "\n",
        "missing_train_row.columns = [\"no\", \"count\"]  # 컬럼명 설정\n",
        "missing_test_row.columns = [\"no\", \"count\"]\n",
        "\n",
        "missing_train_row[\"count\"] = missing_train_row[\"count\"] * 100  # 비율을 구하기 위해 * 100\n",
        "missing_test_row[\"count\"] = missing_test_row[\"count\"] * 100"
      ],
      "metadata": {
        "id": "9bhWBMTuyHJl"
      },
      "execution_count": null,
      "outputs": []
    },
    {
      "cell_type": "code",
      "source": [
        "# make_subplots(행, 열, 각 그래프 제목, 전체 그래프 x축명)\n",
        "fig = make_subplots(rows=1, cols=2,\n",
        "                    column_titles=[\"Train Data\", \"Test Data\"],\n",
        "                    x_title=\"Missing Values\")\n",
        "\n",
        "# fig.add_trace를 통해 그래프 추가하기\n",
        "fig.add_trace(go.Bar(x=missing_train_row[\"no\"], y=missing_train_row[\"count\"],\n",
        "                     marker=dict(color=[n for n in range(12)],\n",
        "                                 line_color=\"rgb(0, 0, 0)\",\n",
        "                                 line_width=2,\n",
        "                                 coloraxis=\"coloraxis\")),\n",
        "              1, 1)  # 그래프 위치 지정\n",
        "\n",
        "# fig.add_trace를 통해 그래프 추가하기\n",
        "fig.add_trace(go.Bar(x=missing_test_row[\"no\"], y=missing_test_row[\"count\"],\n",
        "                     marker=dict(color=[n for n in range(12)],\n",
        "                                 line_color=\"rgb(0, 0, 0)\",\n",
        "                                 line_width=2,\n",
        "                                 coloraxis=\"coloraxis\")),\n",
        "              1, 2)  # 그래프 위치 지정\n",
        "\n",
        "# fig.update_layout을 통해 범례(legend)를 False로 설정하고, 전체 그래프 제목 설정하여 나타내기\n",
        "fig.update_layout(showlegend=False, title_text=\"Row wise Null Values Distribution\", title_x=0.5)"
      ],
      "metadata": {
        "colab": {
          "base_uri": "https://localhost:8080/",
          "height": 542
        },
        "id": "pcHuXOsk17Gj",
        "outputId": "0137f89c-d325-4423-c9f2-431194360032"
      },
      "execution_count": null,
      "outputs": [
        {
          "output_type": "display_data",
          "data": {
            "text/html": [
              "<html>\n",
              "<head><meta charset=\"utf-8\" /></head>\n",
              "<body>\n",
              "    <div>            <script src=\"https://cdnjs.cloudflare.com/ajax/libs/mathjax/2.7.5/MathJax.js?config=TeX-AMS-MML_SVG\"></script><script type=\"text/javascript\">if (window.MathJax) {MathJax.Hub.Config({SVG: {font: \"STIX-Web\"}});}</script>                <script type=\"text/javascript\">window.PlotlyConfig = {MathJaxConfig: 'local'};</script>\n",
              "        <script src=\"https://cdn.plot.ly/plotly-2.8.3.min.js\"></script>                <div id=\"4cca461f-caec-4fa2-bcad-a693fce7ef0b\" class=\"plotly-graph-div\" style=\"height:525px; width:100%;\"></div>            <script type=\"text/javascript\">                                    window.PLOTLYENV=window.PLOTLYENV || {};                                    if (document.getElementById(\"4cca461f-caec-4fa2-bcad-a693fce7ef0b\")) {                    Plotly.newPlot(                        \"4cca461f-caec-4fa2-bcad-a693fce7ef0b\",                        [{\"marker\":{\"color\":[0,1,2,3,4,5,6,7,8,9,10,11],\"coloraxis\":\"coloraxis\",\"line\":{\"color\":\"rgb(0, 0, 0)\",\"width\":2}},\"x\":[0,1,2,3],\"y\":[75.99217761417232,21.477050500402623,2.3352122397331185,0.19555964569193604],\"type\":\"bar\",\"xaxis\":\"x\",\"yaxis\":\"y\"},{\"marker\":{\"color\":[0,1,2,3,4,5,6,7,8,9,10,11],\"coloraxis\":\"coloraxis\",\"line\":{\"color\":\"rgb(0, 0, 0)\",\"width\":2}},\"x\":[0,1,2,3],\"y\":[76.71264905307459,20.55178863689502,2.6420388122515783,0.09352349777881692],\"type\":\"bar\",\"xaxis\":\"x2\",\"yaxis\":\"y2\"}],                        {\"template\":{\"data\":{\"bar\":[{\"error_x\":{\"color\":\"#2a3f5f\"},\"error_y\":{\"color\":\"#2a3f5f\"},\"marker\":{\"line\":{\"color\":\"#E5ECF6\",\"width\":0.5},\"pattern\":{\"fillmode\":\"overlay\",\"size\":10,\"solidity\":0.2}},\"type\":\"bar\"}],\"barpolar\":[{\"marker\":{\"line\":{\"color\":\"#E5ECF6\",\"width\":0.5},\"pattern\":{\"fillmode\":\"overlay\",\"size\":10,\"solidity\":0.2}},\"type\":\"barpolar\"}],\"carpet\":[{\"aaxis\":{\"endlinecolor\":\"#2a3f5f\",\"gridcolor\":\"white\",\"linecolor\":\"white\",\"minorgridcolor\":\"white\",\"startlinecolor\":\"#2a3f5f\"},\"baxis\":{\"endlinecolor\":\"#2a3f5f\",\"gridcolor\":\"white\",\"linecolor\":\"white\",\"minorgridcolor\":\"white\",\"startlinecolor\":\"#2a3f5f\"},\"type\":\"carpet\"}],\"choropleth\":[{\"colorbar\":{\"outlinewidth\":0,\"ticks\":\"\"},\"type\":\"choropleth\"}],\"contour\":[{\"colorbar\":{\"outlinewidth\":0,\"ticks\":\"\"},\"colorscale\":[[0.0,\"#0d0887\"],[0.1111111111111111,\"#46039f\"],[0.2222222222222222,\"#7201a8\"],[0.3333333333333333,\"#9c179e\"],[0.4444444444444444,\"#bd3786\"],[0.5555555555555556,\"#d8576b\"],[0.6666666666666666,\"#ed7953\"],[0.7777777777777778,\"#fb9f3a\"],[0.8888888888888888,\"#fdca26\"],[1.0,\"#f0f921\"]],\"type\":\"contour\"}],\"contourcarpet\":[{\"colorbar\":{\"outlinewidth\":0,\"ticks\":\"\"},\"type\":\"contourcarpet\"}],\"heatmap\":[{\"colorbar\":{\"outlinewidth\":0,\"ticks\":\"\"},\"colorscale\":[[0.0,\"#0d0887\"],[0.1111111111111111,\"#46039f\"],[0.2222222222222222,\"#7201a8\"],[0.3333333333333333,\"#9c179e\"],[0.4444444444444444,\"#bd3786\"],[0.5555555555555556,\"#d8576b\"],[0.6666666666666666,\"#ed7953\"],[0.7777777777777778,\"#fb9f3a\"],[0.8888888888888888,\"#fdca26\"],[1.0,\"#f0f921\"]],\"type\":\"heatmap\"}],\"heatmapgl\":[{\"colorbar\":{\"outlinewidth\":0,\"ticks\":\"\"},\"colorscale\":[[0.0,\"#0d0887\"],[0.1111111111111111,\"#46039f\"],[0.2222222222222222,\"#7201a8\"],[0.3333333333333333,\"#9c179e\"],[0.4444444444444444,\"#bd3786\"],[0.5555555555555556,\"#d8576b\"],[0.6666666666666666,\"#ed7953\"],[0.7777777777777778,\"#fb9f3a\"],[0.8888888888888888,\"#fdca26\"],[1.0,\"#f0f921\"]],\"type\":\"heatmapgl\"}],\"histogram\":[{\"marker\":{\"pattern\":{\"fillmode\":\"overlay\",\"size\":10,\"solidity\":0.2}},\"type\":\"histogram\"}],\"histogram2d\":[{\"colorbar\":{\"outlinewidth\":0,\"ticks\":\"\"},\"colorscale\":[[0.0,\"#0d0887\"],[0.1111111111111111,\"#46039f\"],[0.2222222222222222,\"#7201a8\"],[0.3333333333333333,\"#9c179e\"],[0.4444444444444444,\"#bd3786\"],[0.5555555555555556,\"#d8576b\"],[0.6666666666666666,\"#ed7953\"],[0.7777777777777778,\"#fb9f3a\"],[0.8888888888888888,\"#fdca26\"],[1.0,\"#f0f921\"]],\"type\":\"histogram2d\"}],\"histogram2dcontour\":[{\"colorbar\":{\"outlinewidth\":0,\"ticks\":\"\"},\"colorscale\":[[0.0,\"#0d0887\"],[0.1111111111111111,\"#46039f\"],[0.2222222222222222,\"#7201a8\"],[0.3333333333333333,\"#9c179e\"],[0.4444444444444444,\"#bd3786\"],[0.5555555555555556,\"#d8576b\"],[0.6666666666666666,\"#ed7953\"],[0.7777777777777778,\"#fb9f3a\"],[0.8888888888888888,\"#fdca26\"],[1.0,\"#f0f921\"]],\"type\":\"histogram2dcontour\"}],\"mesh3d\":[{\"colorbar\":{\"outlinewidth\":0,\"ticks\":\"\"},\"type\":\"mesh3d\"}],\"parcoords\":[{\"line\":{\"colorbar\":{\"outlinewidth\":0,\"ticks\":\"\"}},\"type\":\"parcoords\"}],\"pie\":[{\"automargin\":true,\"type\":\"pie\"}],\"scatter\":[{\"marker\":{\"colorbar\":{\"outlinewidth\":0,\"ticks\":\"\"}},\"type\":\"scatter\"}],\"scatter3d\":[{\"line\":{\"colorbar\":{\"outlinewidth\":0,\"ticks\":\"\"}},\"marker\":{\"colorbar\":{\"outlinewidth\":0,\"ticks\":\"\"}},\"type\":\"scatter3d\"}],\"scattercarpet\":[{\"marker\":{\"colorbar\":{\"outlinewidth\":0,\"ticks\":\"\"}},\"type\":\"scattercarpet\"}],\"scattergeo\":[{\"marker\":{\"colorbar\":{\"outlinewidth\":0,\"ticks\":\"\"}},\"type\":\"scattergeo\"}],\"scattergl\":[{\"marker\":{\"colorbar\":{\"outlinewidth\":0,\"ticks\":\"\"}},\"type\":\"scattergl\"}],\"scattermapbox\":[{\"marker\":{\"colorbar\":{\"outlinewidth\":0,\"ticks\":\"\"}},\"type\":\"scattermapbox\"}],\"scatterpolar\":[{\"marker\":{\"colorbar\":{\"outlinewidth\":0,\"ticks\":\"\"}},\"type\":\"scatterpolar\"}],\"scatterpolargl\":[{\"marker\":{\"colorbar\":{\"outlinewidth\":0,\"ticks\":\"\"}},\"type\":\"scatterpolargl\"}],\"scatterternary\":[{\"marker\":{\"colorbar\":{\"outlinewidth\":0,\"ticks\":\"\"}},\"type\":\"scatterternary\"}],\"surface\":[{\"colorbar\":{\"outlinewidth\":0,\"ticks\":\"\"},\"colorscale\":[[0.0,\"#0d0887\"],[0.1111111111111111,\"#46039f\"],[0.2222222222222222,\"#7201a8\"],[0.3333333333333333,\"#9c179e\"],[0.4444444444444444,\"#bd3786\"],[0.5555555555555556,\"#d8576b\"],[0.6666666666666666,\"#ed7953\"],[0.7777777777777778,\"#fb9f3a\"],[0.8888888888888888,\"#fdca26\"],[1.0,\"#f0f921\"]],\"type\":\"surface\"}],\"table\":[{\"cells\":{\"fill\":{\"color\":\"#EBF0F8\"},\"line\":{\"color\":\"white\"}},\"header\":{\"fill\":{\"color\":\"#C8D4E3\"},\"line\":{\"color\":\"white\"}},\"type\":\"table\"}]},\"layout\":{\"annotationdefaults\":{\"arrowcolor\":\"#2a3f5f\",\"arrowhead\":0,\"arrowwidth\":1},\"autotypenumbers\":\"strict\",\"coloraxis\":{\"colorbar\":{\"outlinewidth\":0,\"ticks\":\"\"}},\"colorscale\":{\"diverging\":[[0,\"#8e0152\"],[0.1,\"#c51b7d\"],[0.2,\"#de77ae\"],[0.3,\"#f1b6da\"],[0.4,\"#fde0ef\"],[0.5,\"#f7f7f7\"],[0.6,\"#e6f5d0\"],[0.7,\"#b8e186\"],[0.8,\"#7fbc41\"],[0.9,\"#4d9221\"],[1,\"#276419\"]],\"sequential\":[[0.0,\"#0d0887\"],[0.1111111111111111,\"#46039f\"],[0.2222222222222222,\"#7201a8\"],[0.3333333333333333,\"#9c179e\"],[0.4444444444444444,\"#bd3786\"],[0.5555555555555556,\"#d8576b\"],[0.6666666666666666,\"#ed7953\"],[0.7777777777777778,\"#fb9f3a\"],[0.8888888888888888,\"#fdca26\"],[1.0,\"#f0f921\"]],\"sequentialminus\":[[0.0,\"#0d0887\"],[0.1111111111111111,\"#46039f\"],[0.2222222222222222,\"#7201a8\"],[0.3333333333333333,\"#9c179e\"],[0.4444444444444444,\"#bd3786\"],[0.5555555555555556,\"#d8576b\"],[0.6666666666666666,\"#ed7953\"],[0.7777777777777778,\"#fb9f3a\"],[0.8888888888888888,\"#fdca26\"],[1.0,\"#f0f921\"]]},\"colorway\":[\"#636efa\",\"#EF553B\",\"#00cc96\",\"#ab63fa\",\"#FFA15A\",\"#19d3f3\",\"#FF6692\",\"#B6E880\",\"#FF97FF\",\"#FECB52\"],\"font\":{\"color\":\"#2a3f5f\"},\"geo\":{\"bgcolor\":\"white\",\"lakecolor\":\"white\",\"landcolor\":\"#E5ECF6\",\"showlakes\":true,\"showland\":true,\"subunitcolor\":\"white\"},\"hoverlabel\":{\"align\":\"left\"},\"hovermode\":\"closest\",\"mapbox\":{\"style\":\"light\"},\"paper_bgcolor\":\"white\",\"plot_bgcolor\":\"#E5ECF6\",\"polar\":{\"angularaxis\":{\"gridcolor\":\"white\",\"linecolor\":\"white\",\"ticks\":\"\"},\"bgcolor\":\"#E5ECF6\",\"radialaxis\":{\"gridcolor\":\"white\",\"linecolor\":\"white\",\"ticks\":\"\"}},\"scene\":{\"xaxis\":{\"backgroundcolor\":\"#E5ECF6\",\"gridcolor\":\"white\",\"gridwidth\":2,\"linecolor\":\"white\",\"showbackground\":true,\"ticks\":\"\",\"zerolinecolor\":\"white\"},\"yaxis\":{\"backgroundcolor\":\"#E5ECF6\",\"gridcolor\":\"white\",\"gridwidth\":2,\"linecolor\":\"white\",\"showbackground\":true,\"ticks\":\"\",\"zerolinecolor\":\"white\"},\"zaxis\":{\"backgroundcolor\":\"#E5ECF6\",\"gridcolor\":\"white\",\"gridwidth\":2,\"linecolor\":\"white\",\"showbackground\":true,\"ticks\":\"\",\"zerolinecolor\":\"white\"}},\"shapedefaults\":{\"line\":{\"color\":\"#2a3f5f\"}},\"ternary\":{\"aaxis\":{\"gridcolor\":\"white\",\"linecolor\":\"white\",\"ticks\":\"\"},\"baxis\":{\"gridcolor\":\"white\",\"linecolor\":\"white\",\"ticks\":\"\"},\"bgcolor\":\"#E5ECF6\",\"caxis\":{\"gridcolor\":\"white\",\"linecolor\":\"white\",\"ticks\":\"\"}},\"title\":{\"x\":0.05},\"xaxis\":{\"automargin\":true,\"gridcolor\":\"white\",\"linecolor\":\"white\",\"ticks\":\"\",\"title\":{\"standoff\":15},\"zerolinecolor\":\"white\",\"zerolinewidth\":2},\"yaxis\":{\"automargin\":true,\"gridcolor\":\"white\",\"linecolor\":\"white\",\"ticks\":\"\",\"title\":{\"standoff\":15},\"zerolinecolor\":\"white\",\"zerolinewidth\":2}}},\"xaxis\":{\"anchor\":\"y\",\"domain\":[0.0,0.45]},\"yaxis\":{\"anchor\":\"x\",\"domain\":[0.0,1.0]},\"xaxis2\":{\"anchor\":\"y2\",\"domain\":[0.55,1.0]},\"yaxis2\":{\"anchor\":\"x2\",\"domain\":[0.0,1.0]},\"annotations\":[{\"font\":{\"size\":16},\"showarrow\":false,\"text\":\"Train Data\",\"x\":0.225,\"xanchor\":\"center\",\"xref\":\"paper\",\"y\":1.0,\"yanchor\":\"bottom\",\"yref\":\"paper\"},{\"font\":{\"size\":16},\"showarrow\":false,\"text\":\"Test Data\",\"x\":0.775,\"xanchor\":\"center\",\"xref\":\"paper\",\"y\":1.0,\"yanchor\":\"bottom\",\"yref\":\"paper\"},{\"font\":{\"size\":16},\"showarrow\":false,\"text\":\"Missing Values\",\"x\":0.5,\"xanchor\":\"center\",\"xref\":\"paper\",\"y\":0,\"yanchor\":\"top\",\"yref\":\"paper\",\"yshift\":-30}],\"title\":{\"text\":\"Row wise Null Values Distribution\",\"x\":0.5},\"showlegend\":false},                        {\"responsive\": true}                    ).then(function(){\n",
              "                            \n",
              "var gd = document.getElementById('4cca461f-caec-4fa2-bcad-a693fce7ef0b');\n",
              "var x = new MutationObserver(function (mutations, observer) {{\n",
              "        var display = window.getComputedStyle(gd).display;\n",
              "        if (!display || display === 'none') {{\n",
              "            console.log([gd, 'removed!']);\n",
              "            Plotly.purge(gd);\n",
              "            observer.disconnect();\n",
              "        }}\n",
              "}});\n",
              "\n",
              "// Listen for the removal of the full notebook cells\n",
              "var notebookContainer = gd.closest('#notebook-container');\n",
              "if (notebookContainer) {{\n",
              "    x.observe(notebookContainer, {childList: true});\n",
              "}}\n",
              "\n",
              "// Listen for the clearing of the current output cell\n",
              "var outputEl = gd.closest('.output');\n",
              "if (outputEl) {{\n",
              "    x.observe(outputEl, {childList: true});\n",
              "}}\n",
              "\n",
              "                        })                };                            </script>        </div>\n",
              "</body>\n",
              "</html>"
            ]
          },
          "metadata": {}
        }
      ]
    },
    {
      "cell_type": "markdown",
      "metadata": {
        "id": "ZD1ldE3Bcrl8"
      },
      "source": [
        "## Continous and Categorical Data Distribution"
      ]
    },
    {
      "cell_type": "code",
      "source": [
        "# 앞서 지정한 Features들에 해당하는 train과 test를 행 병합\n",
        "df = pd.concat([train[Features], test[Features]], axis=0)"
      ],
      "metadata": {
        "id": "qrcak3G03YZq"
      },
      "execution_count": null,
      "outputs": []
    },
    {
      "cell_type": "code",
      "source": [
        "text_features = [\"Cabin\", \"Name\"]  # 컬럼명\n",
        "\n",
        "# 고유값 개수가 25개 미만이고, 컬럼명이 Cabin, Name이 아닌 컬럼만 리스트에 담기\n",
        "cat_features = [col for col in Features if df[col].nunique() < 25 and col not in text_features]\n",
        "\n",
        "# 고유값 개수가 25개 이상이고, 컬럼명이 Cabin, Name이 아닌 컬럼만 리스트에 담기\n",
        "cont_features = [col for col in Features if df[col].nunique() >= 25 and col not in text_features]"
      ],
      "metadata": {
        "id": "Y7YSKtxVlSjL"
      },
      "execution_count": null,
      "outputs": []
    },
    {
      "cell_type": "code",
      "source": [
        "del df  # 위에서 병합하여 만든 데이터프레임 제거\n",
        "\n",
        "print(f'\\033[94mTotal number of features: {len(Features)}')\n",
        "print(f'\\033[94mNumber of categorical features: {len(cat_features)}')\n",
        "print(f'\\033[94mNumber of continuos features: {len(cont_features)}')\n",
        "print(f'\\033[94mNumber of text features: {len(text_features)}')"
      ],
      "metadata": {
        "colab": {
          "base_uri": "https://localhost:8080/"
        },
        "id": "KLvOf249nJwp",
        "outputId": "de35b999-f9fd-4db6-9163-c23cfc883e50"
      },
      "execution_count": null,
      "outputs": [
        {
          "output_type": "stream",
          "name": "stdout",
          "text": [
            "\u001b[94mTotal number of features: 12\n",
            "\u001b[94mNumber of categorical features: 4\n",
            "\u001b[94mNumber of continuos features: 6\n",
            "\u001b[94mNumber of text features: 2\n"
          ]
        }
      ]
    },
    {
      "cell_type": "code",
      "source": [
        "# 그래프를 그리기 위한 옵션을 변수로 지정\n",
        "labels = [\"Categorical\", \"Continuos\", \"Text\"]\n",
        "values = [len(cat_features), len(cont_features), len(text_features)]\n",
        "colors = [\"#DE3163\", \"#58D68D\"]"
      ],
      "metadata": {
        "id": "p-GoQIhFnWRc"
      },
      "execution_count": null,
      "outputs": []
    },
    {
      "cell_type": "code",
      "source": [
        "# go.Figure와 go.Pie를 이용하여 파이차트 그리기\n",
        "# labels, values, marker 옵션 지정\n",
        "# pull은 강조하는 정도를 나타내는 값\n",
        "# marker에 line은 파이차트의 테두리 색상, width는 선의 굵기\n",
        "\n",
        "fig = go.Figure(data=[go.Pie(\n",
        "    labels=labels,\n",
        "    values=values, pull=[0.1, 0, 0],\n",
        "    marker=dict(colors=colors,\n",
        "                line=dict(color=\"#000000\",\n",
        "                          width=2))\n",
        ")])\n",
        "fig.show()"
      ],
      "metadata": {
        "colab": {
          "base_uri": "https://localhost:8080/",
          "height": 542
        },
        "id": "OScEcg2Mnjct",
        "outputId": "47fc0e58-ee5b-4dd4-fa92-1cb0a3fec087"
      },
      "execution_count": null,
      "outputs": [
        {
          "output_type": "display_data",
          "data": {
            "text/html": [
              "<html>\n",
              "<head><meta charset=\"utf-8\" /></head>\n",
              "<body>\n",
              "    <div>            <script src=\"https://cdnjs.cloudflare.com/ajax/libs/mathjax/2.7.5/MathJax.js?config=TeX-AMS-MML_SVG\"></script><script type=\"text/javascript\">if (window.MathJax) {MathJax.Hub.Config({SVG: {font: \"STIX-Web\"}});}</script>                <script type=\"text/javascript\">window.PlotlyConfig = {MathJaxConfig: 'local'};</script>\n",
              "        <script src=\"https://cdn.plot.ly/plotly-2.8.3.min.js\"></script>                <div id=\"d3fb5d7e-79a0-4147-80f1-fa7f42163cbb\" class=\"plotly-graph-div\" style=\"height:525px; width:100%;\"></div>            <script type=\"text/javascript\">                                    window.PLOTLYENV=window.PLOTLYENV || {};                                    if (document.getElementById(\"d3fb5d7e-79a0-4147-80f1-fa7f42163cbb\")) {                    Plotly.newPlot(                        \"d3fb5d7e-79a0-4147-80f1-fa7f42163cbb\",                        [{\"labels\":[\"Categorical\",\"Continuos\",\"Text\"],\"marker\":{\"colors\":[\"#DE3163\",\"#58D68D\"],\"line\":{\"color\":\"#000000\",\"width\":2}},\"pull\":[0.1,0,0],\"values\":[4,6,2],\"type\":\"pie\"}],                        {\"template\":{\"data\":{\"bar\":[{\"error_x\":{\"color\":\"#2a3f5f\"},\"error_y\":{\"color\":\"#2a3f5f\"},\"marker\":{\"line\":{\"color\":\"#E5ECF6\",\"width\":0.5},\"pattern\":{\"fillmode\":\"overlay\",\"size\":10,\"solidity\":0.2}},\"type\":\"bar\"}],\"barpolar\":[{\"marker\":{\"line\":{\"color\":\"#E5ECF6\",\"width\":0.5},\"pattern\":{\"fillmode\":\"overlay\",\"size\":10,\"solidity\":0.2}},\"type\":\"barpolar\"}],\"carpet\":[{\"aaxis\":{\"endlinecolor\":\"#2a3f5f\",\"gridcolor\":\"white\",\"linecolor\":\"white\",\"minorgridcolor\":\"white\",\"startlinecolor\":\"#2a3f5f\"},\"baxis\":{\"endlinecolor\":\"#2a3f5f\",\"gridcolor\":\"white\",\"linecolor\":\"white\",\"minorgridcolor\":\"white\",\"startlinecolor\":\"#2a3f5f\"},\"type\":\"carpet\"}],\"choropleth\":[{\"colorbar\":{\"outlinewidth\":0,\"ticks\":\"\"},\"type\":\"choropleth\"}],\"contour\":[{\"colorbar\":{\"outlinewidth\":0,\"ticks\":\"\"},\"colorscale\":[[0.0,\"#0d0887\"],[0.1111111111111111,\"#46039f\"],[0.2222222222222222,\"#7201a8\"],[0.3333333333333333,\"#9c179e\"],[0.4444444444444444,\"#bd3786\"],[0.5555555555555556,\"#d8576b\"],[0.6666666666666666,\"#ed7953\"],[0.7777777777777778,\"#fb9f3a\"],[0.8888888888888888,\"#fdca26\"],[1.0,\"#f0f921\"]],\"type\":\"contour\"}],\"contourcarpet\":[{\"colorbar\":{\"outlinewidth\":0,\"ticks\":\"\"},\"type\":\"contourcarpet\"}],\"heatmap\":[{\"colorbar\":{\"outlinewidth\":0,\"ticks\":\"\"},\"colorscale\":[[0.0,\"#0d0887\"],[0.1111111111111111,\"#46039f\"],[0.2222222222222222,\"#7201a8\"],[0.3333333333333333,\"#9c179e\"],[0.4444444444444444,\"#bd3786\"],[0.5555555555555556,\"#d8576b\"],[0.6666666666666666,\"#ed7953\"],[0.7777777777777778,\"#fb9f3a\"],[0.8888888888888888,\"#fdca26\"],[1.0,\"#f0f921\"]],\"type\":\"heatmap\"}],\"heatmapgl\":[{\"colorbar\":{\"outlinewidth\":0,\"ticks\":\"\"},\"colorscale\":[[0.0,\"#0d0887\"],[0.1111111111111111,\"#46039f\"],[0.2222222222222222,\"#7201a8\"],[0.3333333333333333,\"#9c179e\"],[0.4444444444444444,\"#bd3786\"],[0.5555555555555556,\"#d8576b\"],[0.6666666666666666,\"#ed7953\"],[0.7777777777777778,\"#fb9f3a\"],[0.8888888888888888,\"#fdca26\"],[1.0,\"#f0f921\"]],\"type\":\"heatmapgl\"}],\"histogram\":[{\"marker\":{\"pattern\":{\"fillmode\":\"overlay\",\"size\":10,\"solidity\":0.2}},\"type\":\"histogram\"}],\"histogram2d\":[{\"colorbar\":{\"outlinewidth\":0,\"ticks\":\"\"},\"colorscale\":[[0.0,\"#0d0887\"],[0.1111111111111111,\"#46039f\"],[0.2222222222222222,\"#7201a8\"],[0.3333333333333333,\"#9c179e\"],[0.4444444444444444,\"#bd3786\"],[0.5555555555555556,\"#d8576b\"],[0.6666666666666666,\"#ed7953\"],[0.7777777777777778,\"#fb9f3a\"],[0.8888888888888888,\"#fdca26\"],[1.0,\"#f0f921\"]],\"type\":\"histogram2d\"}],\"histogram2dcontour\":[{\"colorbar\":{\"outlinewidth\":0,\"ticks\":\"\"},\"colorscale\":[[0.0,\"#0d0887\"],[0.1111111111111111,\"#46039f\"],[0.2222222222222222,\"#7201a8\"],[0.3333333333333333,\"#9c179e\"],[0.4444444444444444,\"#bd3786\"],[0.5555555555555556,\"#d8576b\"],[0.6666666666666666,\"#ed7953\"],[0.7777777777777778,\"#fb9f3a\"],[0.8888888888888888,\"#fdca26\"],[1.0,\"#f0f921\"]],\"type\":\"histogram2dcontour\"}],\"mesh3d\":[{\"colorbar\":{\"outlinewidth\":0,\"ticks\":\"\"},\"type\":\"mesh3d\"}],\"parcoords\":[{\"line\":{\"colorbar\":{\"outlinewidth\":0,\"ticks\":\"\"}},\"type\":\"parcoords\"}],\"pie\":[{\"automargin\":true,\"type\":\"pie\"}],\"scatter\":[{\"marker\":{\"colorbar\":{\"outlinewidth\":0,\"ticks\":\"\"}},\"type\":\"scatter\"}],\"scatter3d\":[{\"line\":{\"colorbar\":{\"outlinewidth\":0,\"ticks\":\"\"}},\"marker\":{\"colorbar\":{\"outlinewidth\":0,\"ticks\":\"\"}},\"type\":\"scatter3d\"}],\"scattercarpet\":[{\"marker\":{\"colorbar\":{\"outlinewidth\":0,\"ticks\":\"\"}},\"type\":\"scattercarpet\"}],\"scattergeo\":[{\"marker\":{\"colorbar\":{\"outlinewidth\":0,\"ticks\":\"\"}},\"type\":\"scattergeo\"}],\"scattergl\":[{\"marker\":{\"colorbar\":{\"outlinewidth\":0,\"ticks\":\"\"}},\"type\":\"scattergl\"}],\"scattermapbox\":[{\"marker\":{\"colorbar\":{\"outlinewidth\":0,\"ticks\":\"\"}},\"type\":\"scattermapbox\"}],\"scatterpolar\":[{\"marker\":{\"colorbar\":{\"outlinewidth\":0,\"ticks\":\"\"}},\"type\":\"scatterpolar\"}],\"scatterpolargl\":[{\"marker\":{\"colorbar\":{\"outlinewidth\":0,\"ticks\":\"\"}},\"type\":\"scatterpolargl\"}],\"scatterternary\":[{\"marker\":{\"colorbar\":{\"outlinewidth\":0,\"ticks\":\"\"}},\"type\":\"scatterternary\"}],\"surface\":[{\"colorbar\":{\"outlinewidth\":0,\"ticks\":\"\"},\"colorscale\":[[0.0,\"#0d0887\"],[0.1111111111111111,\"#46039f\"],[0.2222222222222222,\"#7201a8\"],[0.3333333333333333,\"#9c179e\"],[0.4444444444444444,\"#bd3786\"],[0.5555555555555556,\"#d8576b\"],[0.6666666666666666,\"#ed7953\"],[0.7777777777777778,\"#fb9f3a\"],[0.8888888888888888,\"#fdca26\"],[1.0,\"#f0f921\"]],\"type\":\"surface\"}],\"table\":[{\"cells\":{\"fill\":{\"color\":\"#EBF0F8\"},\"line\":{\"color\":\"white\"}},\"header\":{\"fill\":{\"color\":\"#C8D4E3\"},\"line\":{\"color\":\"white\"}},\"type\":\"table\"}]},\"layout\":{\"annotationdefaults\":{\"arrowcolor\":\"#2a3f5f\",\"arrowhead\":0,\"arrowwidth\":1},\"autotypenumbers\":\"strict\",\"coloraxis\":{\"colorbar\":{\"outlinewidth\":0,\"ticks\":\"\"}},\"colorscale\":{\"diverging\":[[0,\"#8e0152\"],[0.1,\"#c51b7d\"],[0.2,\"#de77ae\"],[0.3,\"#f1b6da\"],[0.4,\"#fde0ef\"],[0.5,\"#f7f7f7\"],[0.6,\"#e6f5d0\"],[0.7,\"#b8e186\"],[0.8,\"#7fbc41\"],[0.9,\"#4d9221\"],[1,\"#276419\"]],\"sequential\":[[0.0,\"#0d0887\"],[0.1111111111111111,\"#46039f\"],[0.2222222222222222,\"#7201a8\"],[0.3333333333333333,\"#9c179e\"],[0.4444444444444444,\"#bd3786\"],[0.5555555555555556,\"#d8576b\"],[0.6666666666666666,\"#ed7953\"],[0.7777777777777778,\"#fb9f3a\"],[0.8888888888888888,\"#fdca26\"],[1.0,\"#f0f921\"]],\"sequentialminus\":[[0.0,\"#0d0887\"],[0.1111111111111111,\"#46039f\"],[0.2222222222222222,\"#7201a8\"],[0.3333333333333333,\"#9c179e\"],[0.4444444444444444,\"#bd3786\"],[0.5555555555555556,\"#d8576b\"],[0.6666666666666666,\"#ed7953\"],[0.7777777777777778,\"#fb9f3a\"],[0.8888888888888888,\"#fdca26\"],[1.0,\"#f0f921\"]]},\"colorway\":[\"#636efa\",\"#EF553B\",\"#00cc96\",\"#ab63fa\",\"#FFA15A\",\"#19d3f3\",\"#FF6692\",\"#B6E880\",\"#FF97FF\",\"#FECB52\"],\"font\":{\"color\":\"#2a3f5f\"},\"geo\":{\"bgcolor\":\"white\",\"lakecolor\":\"white\",\"landcolor\":\"#E5ECF6\",\"showlakes\":true,\"showland\":true,\"subunitcolor\":\"white\"},\"hoverlabel\":{\"align\":\"left\"},\"hovermode\":\"closest\",\"mapbox\":{\"style\":\"light\"},\"paper_bgcolor\":\"white\",\"plot_bgcolor\":\"#E5ECF6\",\"polar\":{\"angularaxis\":{\"gridcolor\":\"white\",\"linecolor\":\"white\",\"ticks\":\"\"},\"bgcolor\":\"#E5ECF6\",\"radialaxis\":{\"gridcolor\":\"white\",\"linecolor\":\"white\",\"ticks\":\"\"}},\"scene\":{\"xaxis\":{\"backgroundcolor\":\"#E5ECF6\",\"gridcolor\":\"white\",\"gridwidth\":2,\"linecolor\":\"white\",\"showbackground\":true,\"ticks\":\"\",\"zerolinecolor\":\"white\"},\"yaxis\":{\"backgroundcolor\":\"#E5ECF6\",\"gridcolor\":\"white\",\"gridwidth\":2,\"linecolor\":\"white\",\"showbackground\":true,\"ticks\":\"\",\"zerolinecolor\":\"white\"},\"zaxis\":{\"backgroundcolor\":\"#E5ECF6\",\"gridcolor\":\"white\",\"gridwidth\":2,\"linecolor\":\"white\",\"showbackground\":true,\"ticks\":\"\",\"zerolinecolor\":\"white\"}},\"shapedefaults\":{\"line\":{\"color\":\"#2a3f5f\"}},\"ternary\":{\"aaxis\":{\"gridcolor\":\"white\",\"linecolor\":\"white\",\"ticks\":\"\"},\"baxis\":{\"gridcolor\":\"white\",\"linecolor\":\"white\",\"ticks\":\"\"},\"bgcolor\":\"#E5ECF6\",\"caxis\":{\"gridcolor\":\"white\",\"linecolor\":\"white\",\"ticks\":\"\"}},\"title\":{\"x\":0.05},\"xaxis\":{\"automargin\":true,\"gridcolor\":\"white\",\"linecolor\":\"white\",\"ticks\":\"\",\"title\":{\"standoff\":15},\"zerolinecolor\":\"white\",\"zerolinewidth\":2},\"yaxis\":{\"automargin\":true,\"gridcolor\":\"white\",\"linecolor\":\"white\",\"ticks\":\"\",\"title\":{\"standoff\":15},\"zerolinecolor\":\"white\",\"zerolinewidth\":2}}}},                        {\"responsive\": true}                    ).then(function(){\n",
              "                            \n",
              "var gd = document.getElementById('d3fb5d7e-79a0-4147-80f1-fa7f42163cbb');\n",
              "var x = new MutationObserver(function (mutations, observer) {{\n",
              "        var display = window.getComputedStyle(gd).display;\n",
              "        if (!display || display === 'none') {{\n",
              "            console.log([gd, 'removed!']);\n",
              "            Plotly.purge(gd);\n",
              "            observer.disconnect();\n",
              "        }}\n",
              "}});\n",
              "\n",
              "// Listen for the removal of the full notebook cells\n",
              "var notebookContainer = gd.closest('#notebook-container');\n",
              "if (notebookContainer) {{\n",
              "    x.observe(notebookContainer, {childList: true});\n",
              "}}\n",
              "\n",
              "// Listen for the clearing of the current output cell\n",
              "var outputEl = gd.closest('.output');\n",
              "if (outputEl) {{\n",
              "    x.observe(outputEl, {childList: true});\n",
              "}}\n",
              "\n",
              "                        })                };                            </script>        </div>\n",
              "</body>\n",
              "</html>"
            ]
          },
          "metadata": {}
        }
      ]
    },
    {
      "cell_type": "markdown",
      "metadata": {
        "id": "abmow9fFcrl9"
      },
      "source": [
        "## Feature Distributuion of Continous Features"
      ]
    },
    {
      "cell_type": "code",
      "source": [
        "# 기존 데이터프레임 복사\n",
        "train_age = train.copy()\n",
        "test_age = test.copy()\n",
        "\n",
        "# Train, Test 값이 입력되는 type 컬럼 생성\n",
        "train_age[\"type\"] = \"Train\"\n",
        "test_age[\"type\"] = \"Test\"\n",
        "\n",
        "# train_age와 test_age 데이터프레임 병합\n",
        "ageDf = pd.concat([train_age, test_age])"
      ],
      "metadata": {
        "id": "ghC1pVOOl8W0"
      },
      "execution_count": null,
      "outputs": []
    },
    {
      "cell_type": "code",
      "source": [
        "# plotly.express를 이용해 히스토그램 그리기\n",
        "# type 컬럼 범주별로 색상 다르게 지정\n",
        "# boxplot\n",
        "# 히스토그램 구간 100개\n",
        "fig = px.histogram(data_frame=ageDf, x=\"Age\",\n",
        "                   color=\"type\", color_discrete_sequence=[\"#58D68D\", \"#DE3163\"],\n",
        "                   marginal=\"box\",\n",
        "                   nbins=100,\n",
        "                   template=\"plotly_white\")\n",
        "\n",
        "# 전체 그래프 제목 설정\n",
        "fig.update_layout(title=\"Distribution of Age\", title_x=0.5)\n",
        "fig.show()"
      ],
      "metadata": {
        "colab": {
          "base_uri": "https://localhost:8080/",
          "height": 542
        },
        "id": "KiKLJ5Kupxo3",
        "outputId": "cf803f78-e9db-40d0-8921-7ff13413a7e4"
      },
      "execution_count": null,
      "outputs": [
        {
          "output_type": "display_data",
          "data": {
            "text/html": [
              "<html>\n",
              "<head><meta charset=\"utf-8\" /></head>\n",
              "<body>\n",
              "    <div>            <script src=\"https://cdnjs.cloudflare.com/ajax/libs/mathjax/2.7.5/MathJax.js?config=TeX-AMS-MML_SVG\"></script><script type=\"text/javascript\">if (window.MathJax) {MathJax.Hub.Config({SVG: {font: \"STIX-Web\"}});}</script>                <script type=\"text/javascript\">window.PlotlyConfig = {MathJaxConfig: 'local'};</script>\n",
              "        <script src=\"https://cdn.plot.ly/plotly-2.8.3.min.js\"></script>                <div id=\"a7cf9334-132c-4352-9894-477fc19821a3\" class=\"plotly-graph-div\" style=\"height:525px; width:100%;\"></div>            <script type=\"text/javascript\">                                    window.PLOTLYENV=window.PLOTLYENV || {};                                    if (document.getElementById(\"a7cf9334-132c-4352-9894-477fc19821a3\")) {                    Plotly.newPlot(                        \"a7cf9334-132c-4352-9894-477fc19821a3\",                        [{\"alignmentgroup\":\"True\",\"bingroup\":\"x\",\"hovertemplate\":\"type=Train<br>Age=%{x}<br>count=%{y}<extra></extra>\",\"legendgroup\":\"Train\",\"marker\":{\"color\":\"#58D68D\",\"pattern\":{\"shape\":\"\"}},\"name\":\"Train\",\"nbinsx\":100,\"offsetgroup\":\"Train\",\"orientation\":\"v\",\"showlegend\":true,\"x\":[39.0,24.0,58.0,33.0,16.0,44.0,26.0,28.0,35.0,14.0,34.0,45.0,32.0,48.0,28.0,31.0,27.0,24.0,45.0,0.0,14.0,1.0,49.0,29.0,10.0,1.0,7.0,21.0,62.0,15.0,34.0,43.0,32.0,47.0,2.0,20.0,28.0,23.0,15.0,20.0,30.0,17.0,45.0,55.0,4.0,21.0,21.0,19.0,35.0,56.0,null,25.0,2.0,38.0,27.0,36.0,22.0,62.0,15.0,33.0,62.0,0.0,18.0,21.0,null,42.0,19.0,17.0,14.0,37.0,42.0,27.0,28.0,38.0,13.0,42.0,2.0,8.0,24.0,40.0,43.0,45.0,35.0,26.0,27.0,19.0,0.0,3.0,54.0,26.0,26.0,23.0,2.0,31.0,18.0,24.0,9.0,6.0,27.0,21.0,23.0,31.0,0.0,32.0,40.0,42.0,28.0,29.0,48.0,64.0,27.0,26.0,33.0,39.0,13.0,24.0,29.0,18.0,67.0,35.0,61.0,45.0,22.0,19.0,36.0,19.0,47.0,13.0,34.0,35.0,24.0,26.0,31.0,20.0,56.0,50.0,42.0,null,38.0,41.0,22.0,26.0,17.0,57.0,17.0,35.0,13.0,27.0,31.0,24.0,19.0,32.0,58.0,21.0,38.0,38.0,19.0,0.0,3.0,20.0,24.0,37.0,25.0,56.0,49.0,11.0,1.0,8.0,39.0,2.0,23.0,0.0,39.0,25.0,36.0,52.0,18.0,15.0,35.0,47.0,45.0,null,51.0,29.0,null,19.0,24.0,29.0,11.0,17.0,13.0,35.0,21.0,21.0,38.0,19.0,2.0,0.0,13.0,25.0,16.0,1.0,15.0,21.0,23.0,33.0,21.0,41.0,16.0,42.0,20.0,24.0,16.0,21.0,32.0,58.0,24.0,30.0,27.0,32.0,43.0,42.0,37.0,35.0,33.0,18.0,21.0,43.0,14.0,46.0,33.0,21.0,33.0,47.0,54.0,30.0,29.0,21.0,24.0,21.0,60.0,22.0,26.0,26.0,28.0,39.0,13.0,47.0,63.0,null,50.0,35.0,45.0,19.0,21.0,29.0,22.0,14.0,42.0,57.0,39.0,28.0,19.0,19.0,26.0,17.0,43.0,9.0,40.0,50.0,24.0,57.0,16.0,23.0,23.0,28.0,23.0,23.0,18.0,18.0,67.0,60.0,null,49.0,0.0,26.0,35.0,24.0,20.0,18.0,21.0,59.0,13.0,43.0,29.0,19.0,2.0,32.0,33.0,25.0,29.0,29.0,44.0,2.0,19.0,0.0,18.0,38.0,5.0,31.0,30.0,15.0,27.0,22.0,36.0,14.0,23.0,18.0,36.0,41.0,50.0,32.0,26.0,15.0,33.0,null,26.0,61.0,24.0,30.0,24.0,24.0,41.0,20.0,22.0,63.0,18.0,21.0,79.0,56.0,13.0,33.0,32.0,31.0,26.0,18.0,38.0,23.0,28.0,34.0,0.0,14.0,23.0,49.0,14.0,18.0,27.0,48.0,31.0,61.0,18.0,45.0,22.0,30.0,30.0,32.0,43.0,17.0,23.0,20.0,39.0,35.0,31.0,21.0,16.0,60.0,18.0,42.0,68.0,22.0,59.0,null,37.0,3.0,31.0,31.0,29.0,20.0,46.0,29.0,43.0,17.0,27.0,47.0,45.0,17.0,10.0,56.0,39.0,40.0,40.0,34.0,32.0,35.0,32.0,26.0,25.0,26.0,22.0,22.0,24.0,32.0,11.0,22.0,19.0,34.0,74.0,28.0,42.0,43.0,55.0,19.0,6.0,7.0,28.0,15.0,24.0,31.0,22.0,1.0,50.0,34.0,14.0,19.0,null,36.0,34.0,25.0,36.0,16.0,30.0,37.0,15.0,36.0,27.0,27.0,12.0,22.0,27.0,13.0,27.0,28.0,21.0,39.0,28.0,14.0,27.0,46.0,27.0,21.0,21.0,42.0,22.0,10.0,43.0,42.0,18.0,54.0,24.0,64.0,18.0,53.0,23.0,39.0,59.0,32.0,55.0,21.0,50.0,55.0,null,35.0,null,55.0,23.0,42.0,35.0,47.0,null,34.0,46.0,26.0,1.0,null,33.0,34.0,49.0,22.0,28.0,null,36.0,30.0,49.0,38.0,31.0,17.0,26.0,23.0,24.0,23.0,24.0,32.0,43.0,23.0,42.0,29.0,40.0,37.0,61.0,33.0,19.0,21.0,4.0,12.0,44.0,22.0,33.0,32.0,28.0,28.0,31.0,13.0,14.0,33.0,null,23.0,36.0,22.0,19.0,42.0,30.0,16.0,55.0,55.0,19.0,null,18.0,21.0,65.0,55.0,50.0,49.0,22.0,33.0,3.0,0.0,33.0,48.0,5.0,23.0,53.0,18.0,20.0,23.0,48.0,19.0,null,9.0,24.0,46.0,23.0,21.0,19.0,0.0,4.0,26.0,9.0,24.0,24.0,25.0,21.0,21.0,37.0,44.0,43.0,7.0,33.0,24.0,31.0,27.0,34.0,58.0,7.0,3.0,21.0,21.0,39.0,43.0,22.0,44.0,38.0,32.0,55.0,31.0,39.0,35.0,37.0,13.0,21.0,20.0,20.0,63.0,36.0,29.0,36.0,79.0,30.0,30.0,19.0,33.0,20.0,38.0,7.0,58.0,33.0,3.0,39.0,37.0,32.0,28.0,38.0,21.0,18.0,15.0,44.0,44.0,36.0,28.0,15.0,45.0,26.0,46.0,25.0,46.0,15.0,37.0,20.0,45.0,7.0,5.0,38.0,30.0,null,0.0,20.0,41.0,18.0,29.0,19.0,34.0,36.0,54.0,19.0,21.0,23.0,35.0,34.0,22.0,24.0,18.0,24.0,33.0,24.0,18.0,19.0,43.0,44.0,25.0,25.0,23.0,23.0,20.0,2.0,26.0,38.0,1.0,12.0,2.0,25.0,1.0,0.0,54.0,21.0,19.0,24.0,20.0,23.0,29.0,14.0,19.0,23.0,62.0,23.0,65.0,47.0,67.0,14.0,41.0,14.0,19.0,22.0,34.0,65.0,42.0,22.0,54.0,34.0,27.0,67.0,33.0,30.0,22.0,35.0,23.0,49.0,36.0,31.0,54.0,0.0,null,54.0,10.0,0.0,7.0,25.0,37.0,15.0,26.0,7.0,30.0,19.0,30.0,21.0,21.0,59.0,28.0,32.0,19.0,7.0,16.0,31.0,30.0,26.0,20.0,24.0,39.0,19.0,27.0,34.0,28.0,29.0,38.0,null,1.0,36.0,31.0,1.0,31.0,10.0,null,42.0,0.0,41.0,0.0,0.0,59.0,13.0,24.0,20.0,71.0,23.0,15.0,18.0,19.0,4.0,42.0,51.0,13.0,27.0,42.0,41.0,21.0,31.0,36.0,31.0,14.0,32.0,32.0,27.0,57.0,13.0,30.0,14.0,27.0,32.0,54.0,23.0,38.0,32.0,24.0,36.0,11.0,6.0,36.0,22.0,null,37.0,55.0,null,20.0,16.0,19.0,38.0,35.0,33.0,37.0,46.0,41.0,13.0,31.0,52.0,48.0,27.0,16.0,32.0,25.0,26.0,44.0,32.0,18.0,23.0,44.0,29.0,19.0,41.0,28.0,19.0,32.0,74.0,31.0,38.0,20.0,24.0,26.0,44.0,33.0,31.0,null,22.0,33.0,34.0,11.0,41.0,30.0,30.0,25.0,31.0,38.0,15.0,19.0,29.0,30.0,29.0,36.0,24.0,30.0,0.0,15.0,38.0,13.0,18.0,16.0,8.0,19.0,26.0,15.0,38.0,45.0,48.0,17.0,28.0,41.0,19.0,14.0,21.0,48.0,19.0,29.0,20.0,44.0,19.0,64.0,21.0,32.0,20.0,24.0,44.0,57.0,51.0,34.0,45.0,24.0,23.0,30.0,20.0,22.0,null,71.0,18.0,16.0,28.0,36.0,6.0,26.0,27.0,49.0,29.0,46.0,35.0,17.0,37.0,24.0,47.0,26.0,46.0,27.0,56.0,18.0,15.0,3.0,42.0,1.0,56.0,20.0,21.0,5.0,12.0,39.0,60.0,31.0,58.0,19.0,29.0,19.0,44.0,20.0,18.0,36.0,25.0,15.0,18.0,0.0,54.0,0.0,20.0,21.0,8.0,46.0,31.0,3.0,30.0,23.0,14.0,25.0,61.0,31.0,13.0,24.0,47.0,15.0,46.0,49.0,37.0,44.0,16.0,58.0,20.0,36.0,31.0,21.0,22.0,27.0,58.0,38.0,30.0,20.0,19.0,57.0,26.0,38.0,15.0,null,35.0,38.0,35.0,14.0,27.0,25.0,37.0,25.0,41.0,50.0,33.0,27.0,23.0,18.0,31.0,54.0,0.0,11.0,4.0,19.0,7.0,20.0,33.0,26.0,35.0,23.0,60.0,34.0,null,42.0,22.0,18.0,5.0,18.0,29.0,39.0,17.0,58.0,5.0,23.0,26.0,40.0,20.0,38.0,31.0,34.0,9.0,36.0,26.0,18.0,55.0,28.0,18.0,28.0,23.0,20.0,22.0,27.0,13.0,32.0,53.0,34.0,42.0,19.0,54.0,12.0,35.0,55.0,26.0,49.0,22.0,null,30.0,39.0,14.0,29.0,34.0,8.0,7.0,3.0,0.0,10.0,16.0,41.0,18.0,25.0,32.0,26.0,26.0,18.0,27.0,26.0,28.0,19.0,31.0,35.0,46.0,37.0,29.0,17.0,30.0,28.0,16.0,40.0,23.0,24.0,36.0,34.0,59.0,20.0,15.0,19.0,64.0,24.0,23.0,30.0,0.0,8.0,1.0,48.0,12.0,30.0,10.0,11.0,58.0,52.0,36.0,32.0,16.0,25.0,28.0,32.0,28.0,16.0,50.0,20.0,23.0,45.0,23.0,53.0,8.0,6.0,3.0,13.0,60.0,1.0,40.0,51.0,31.0,28.0,20.0,14.0,23.0,4.0,20.0,75.0,24.0,18.0,21.0,59.0,27.0,38.0,41.0,36.0,29.0,22.0,23.0,32.0,21.0,26.0,61.0,30.0,40.0,37.0,41.0,32.0,30.0,27.0,22.0,54.0,27.0,52.0,15.0,27.0,30.0,19.0,22.0,43.0,25.0,51.0,34.0,21.0,21.0,23.0,38.0,30.0,31.0,44.0,14.0,18.0,19.0,null,36.0,10.0,1.0,4.0,21.0,24.0,8.0,18.0,33.0,31.0,43.0,20.0,28.0,30.0,28.0,19.0,22.0,27.0,22.0,2.0,4.0,10.0,9.0,37.0,2.0,44.0,11.0,22.0,40.0,30.0,37.0,26.0,19.0,57.0,1.0,17.0,26.0,21.0,28.0,36.0,25.0,40.0,23.0,2.0,10.0,43.0,0.0,24.0,42.0,30.0,19.0,26.0,47.0,28.0,24.0,29.0,32.0,44.0,17.0,35.0,23.0,34.0,25.0,67.0,22.0,null,27.0,14.0,42.0,19.0,22.0,31.0,10.0,39.0,41.0,0.0,22.0,21.0,40.0,25.0,23.0,33.0,20.0,40.0,27.0,21.0,25.0,2.0,19.0,41.0,43.0,19.0,22.0,16.0,42.0,20.0,35.0,53.0,17.0,6.0,22.0,41.0,19.0,39.0,23.0,31.0,38.0,1.0,13.0,21.0,44.0,36.0,19.0,7.0,39.0,28.0,28.0,14.0,18.0,23.0,33.0,18.0,47.0,42.0,17.0,21.0,17.0,26.0,23.0,15.0,18.0,65.0,33.0,27.0,41.0,42.0,null,37.0,17.0,24.0,39.0,59.0,32.0,29.0,8.0,28.0,35.0,24.0,1.0,4.0,28.0,46.0,67.0,44.0,14.0,23.0,51.0,20.0,0.0,0.0,23.0,24.0,41.0,30.0,27.0,13.0,16.0,30.0,8.0,59.0,43.0,30.0,46.0,39.0,21.0,70.0,34.0,33.0,44.0,16.0,63.0,37.0,29.0,29.0,22.0,26.0,76.0,61.0,46.0,19.0,13.0,null,30.0,23.0,63.0,21.0,32.0,33.0,39.0,49.0,27.0,16.0,38.0,42.0,19.0,26.0,32.0,56.0,0.0,38.0,30.0,21.0,11.0,3.0,17.0,35.0,17.0,0.0,46.0,63.0,35.0,61.0,19.0,43.0,14.0,78.0,21.0,32.0,31.0,40.0,13.0,36.0,31.0,18.0,40.0,28.0,41.0,35.0,14.0,20.0,23.0,22.0,25.0,18.0,25.0,30.0,46.0,27.0,53.0,21.0,32.0,32.0,33.0,26.0,47.0,13.0,34.0,21.0,20.0,21.0,51.0,18.0,26.0,53.0,30.0,37.0,45.0,62.0,38.0,24.0,18.0,23.0,16.0,37.0,22.0,18.0,25.0,26.0,25.0,55.0,28.0,23.0,22.0,26.0,13.0,18.0,38.0,28.0,57.0,0.0,18.0,25.0,35.0,37.0,33.0,35.0,47.0,23.0,null,27.0,23.0,31.0,19.0,53.0,37.0,18.0,42.0,7.0,7.0,24.0,20.0,24.0,42.0,49.0,47.0,16.0,26.0,24.0,38.0,0.0,37.0,39.0,25.0,25.0,35.0,0.0,46.0,4.0,19.0,29.0,19.0,47.0,1.0,4.0,37.0,61.0,32.0,4.0,16.0,25.0,22.0,41.0,25.0,19.0,21.0,14.0,18.0,34.0,33.0,14.0,28.0,43.0,3.0,0.0,47.0,28.0,40.0,17.0,21.0,null,41.0,20.0,56.0,57.0,48.0,37.0,20.0,36.0,38.0,22.0,31.0,0.0,21.0,49.0,44.0,null,29.0,16.0,20.0,26.0,19.0,34.0,38.0,51.0,7.0,3.0,26.0,27.0,7.0,19.0,28.0,27.0,31.0,26.0,43.0,23.0,14.0,47.0,17.0,64.0,13.0,18.0,29.0,70.0,23.0,23.0,35.0,17.0,26.0,15.0,19.0,20.0,51.0,17.0,27.0,43.0,5.0,17.0,40.0,38.0,20.0,13.0,15.0,15.0,59.0,24.0,null,52.0,38.0,26.0,17.0,17.0,20.0,15.0,30.0,22.0,18.0,22.0,20.0,22.0,34.0,28.0,50.0,19.0,21.0,0.0,4.0,59.0,15.0,24.0,26.0,67.0,55.0,50.0,23.0,21.0,15.0,41.0,59.0,18.0,21.0,14.0,50.0,32.0,46.0,null,58.0,15.0,35.0,30.0,30.0,43.0,21.0,15.0,37.0,28.0,28.0,40.0,42.0,21.0,31.0,51.0,73.0,26.0,33.0,39.0,19.0,12.0,10.0,0.0,0.0,1.0,33.0,23.0,5.0,24.0,26.0,30.0,33.0,56.0,25.0,null,25.0,18.0,60.0,41.0,16.0,17.0,26.0,31.0,67.0,16.0,24.0,19.0,48.0,30.0,22.0,28.0,23.0,29.0,22.0,48.0,26.0,23.0,55.0,46.0,38.0,2.0,3.0,20.0,65.0,null,25.0,54.0,25.0,14.0,53.0,0.0,39.0,22.0,31.0,24.0,35.0,35.0,32.0,61.0,58.0,26.0,4.0,1.0,8.0,7.0,25.0,6.0,29.0,64.0,31.0,25.0,30.0,0.0,29.0,37.0,49.0,36.0,20.0,20.0,18.0,17.0,48.0,26.0,35.0,30.0,22.0,5.0,43.0,52.0,50.0,29.0,19.0,39.0,38.0,21.0,25.0,42.0,36.0,19.0,42.0,40.0,14.0,50.0,18.0,46.0,null,15.0,22.0,0.0,52.0,38.0,46.0,23.0,63.0,24.0,50.0,20.0,55.0,21.0,56.0,45.0,18.0,47.0,36.0,57.0,13.0,27.0,20.0,47.0,15.0,34.0,21.0,51.0,23.0,58.0,37.0,44.0,25.0,15.0,40.0,29.0,36.0,21.0,35.0,24.0,2.0,0.0,43.0,63.0,30.0,38.0,27.0,54.0,39.0,41.0,22.0,23.0,34.0,26.0,39.0,15.0,64.0,25.0,35.0,19.0,26.0,3.0,29.0,44.0,27.0,17.0,37.0,19.0,44.0,22.0,22.0,21.0,31.0,17.0,30.0,15.0,42.0,55.0,28.0,33.0,19.0,24.0,4.0,2.0,30.0,31.0,17.0,40.0,33.0,46.0,30.0,17.0,19.0,22.0,20.0,36.0,0.0,17.0,null,15.0,20.0,19.0,24.0,43.0,26.0,42.0,21.0,50.0,25.0,64.0,50.0,24.0,27.0,42.0,30.0,20.0,31.0,26.0,39.0,null,32.0,25.0,6.0,3.0,11.0,52.0,14.0,68.0,18.0,55.0,22.0,34.0,17.0,38.0,13.0,19.0,30.0,27.0,17.0,45.0,28.0,23.0,24.0,23.0,29.0,46.0,17.0,20.0,24.0,40.0,null,38.0,65.0,19.0,54.0,38.0,40.0,21.0,22.0,33.0,18.0,43.0,13.0,26.0,22.0,21.0,25.0,29.0,49.0,29.0,45.0,45.0,30.0,29.0,26.0,16.0,20.0,33.0,18.0,24.0,29.0,40.0,27.0,35.0,31.0,26.0,49.0,23.0,23.0,14.0,21.0,18.0,null,19.0,22.0,17.0,13.0,26.0,null,16.0,20.0,20.0,23.0,61.0,27.0,3.0,4.0,13.0,19.0,18.0,66.0,39.0,21.0,7.0,56.0,15.0,null,13.0,18.0,38.0,45.0,21.0,19.0,49.0,21.0,18.0,43.0,27.0,0.0,27.0,21.0,20.0,35.0,20.0,24.0,41.0,23.0,27.0,58.0,53.0,30.0,24.0,31.0,46.0,20.0,20.0,30.0,24.0,34.0,20.0,48.0,25.0,43.0,27.0,47.0,26.0,37.0,42.0,61.0,29.0,32.0,51.0,43.0,25.0,31.0,13.0,20.0,29.0,16.0,15.0,50.0,41.0,43.0,32.0,36.0,18.0,47.0,29.0,null,14.0,25.0,63.0,22.0,32.0,31.0,24.0,39.0,20.0,20.0,19.0,20.0,31.0,17.0,24.0,27.0,28.0,41.0,25.0,26.0,27.0,22.0,62.0,58.0,37.0,54.0,26.0,44.0,34.0,47.0,27.0,22.0,46.0,29.0,43.0,42.0,39.0,30.0,43.0,19.0,26.0,46.0,3.0,21.0,1.0,22.0,27.0,28.0,36.0,19.0,18.0,47.0,18.0,6.0,20.0,18.0,37.0,22.0,37.0,6.0,36.0,46.0,75.0,37.0,22.0,33.0,35.0,19.0,34.0,23.0,37.0,24.0,54.0,52.0,60.0,1.0,null,22.0,27.0,48.0,47.0,25.0,49.0,33.0,67.0,5.0,60.0,56.0,59.0,44.0,33.0,28.0,29.0,13.0,34.0,45.0,39.0,18.0,57.0,null,25.0,22.0,32.0,29.0,21.0,16.0,45.0,44.0,27.0,26.0,46.0,24.0,15.0,53.0,28.0,11.0,7.0,0.0,15.0,31.0,9.0,44.0,35.0,30.0,13.0,45.0,4.0,21.0,20.0,24.0,3.0,29.0,28.0,44.0,50.0,35.0,19.0,22.0,30.0,36.0,20.0,22.0,22.0,32.0,35.0,41.0,57.0,3.0,11.0,4.0,17.0,30.0,11.0,23.0,58.0,22.0,24.0,20.0,37.0,49.0,46.0,30.0,36.0,21.0,25.0,42.0,13.0,25.0,29.0,17.0,36.0,44.0,18.0,22.0,22.0,43.0,29.0,24.0,18.0,42.0,43.0,32.0,15.0,22.0,20.0,34.0,70.0,18.0,26.0,17.0,13.0,19.0,32.0,33.0,21.0,23.0,24.0,17.0,34.0,31.0,43.0,43.0,33.0,28.0,27.0,7.0,16.0,42.0,27.0,19.0,42.0,13.0,16.0,21.0,28.0,69.0,15.0,48.0,42.0,42.0,23.0,26.0,45.0,30.0,36.0,null,35.0,21.0,50.0,52.0,21.0,41.0,35.0,26.0,17.0,69.0,27.0,25.0,27.0,25.0,36.0,14.0,27.0,22.0,24.0,null,4.0,19.0,19.0,38.0,39.0,23.0,57.0,18.0,43.0,28.0,33.0,37.0,28.0,28.0,18.0,29.0,29.0,28.0,24.0,59.0,43.0,20.0,23.0,27.0,38.0,38.0,48.0,25.0,25.0,24.0,69.0,20.0,18.0,28.0,23.0,24.0,44.0,29.0,6.0,42.0,78.0,36.0,37.0,41.0,18.0,62.0,0.0,55.0,16.0,32.0,19.0,7.0,4.0,30.0,24.0,34.0,30.0,3.0,32.0,55.0,0.0,51.0,0.0,21.0,2.0,19.0,24.0,20.0,42.0,17.0,32.0,28.0,21.0,56.0,28.0,42.0,18.0,24.0,20.0,22.0,22.0,21.0,28.0,26.0,50.0,26.0,30.0,29.0,8.0,45.0,35.0,18.0,23.0,29.0,18.0,28.0,34.0,0.0,4.0,28.0,8.0,20.0,20.0,25.0,31.0,37.0,21.0,24.0,34.0,0.0,25.0,43.0,null,45.0,63.0,17.0,35.0,12.0,null,17.0,32.0,23.0,17.0,34.0,15.0,14.0,22.0,19.0,40.0,25.0,51.0,22.0,50.0,26.0,39.0,18.0,22.0,26.0,19.0,16.0,24.0,34.0,55.0,42.0,14.0,28.0,26.0,33.0,24.0,23.0,16.0,36.0,44.0,22.0,30.0,20.0,21.0,14.0,27.0,19.0,21.0,null,13.0,71.0,28.0,18.0,23.0,34.0,20.0,17.0,21.0,33.0,34.0,51.0,21.0,null,31.0,36.0,39.0,26.0,51.0,24.0,27.0,31.0,24.0,57.0,36.0,55.0,null,18.0,27.0,50.0,24.0,20.0,24.0,18.0,44.0,27.0,58.0,29.0,23.0,3.0,0.0,33.0,12.0,44.0,20.0,59.0,18.0,72.0,23.0,11.0,1.0,25.0,25.0,24.0,54.0,17.0,48.0,40.0,2.0,32.0,15.0,52.0,16.0,16.0,16.0,6.0,10.0,27.0,45.0,26.0,29.0,38.0,19.0,43.0,15.0,31.0,52.0,49.0,29.0,18.0,41.0,9.0,null,58.0,39.0,13.0,36.0,23.0,24.0,33.0,18.0,2.0,0.0,36.0,15.0,31.0,42.0,27.0,36.0,0.0,3.0,22.0,56.0,23.0,25.0,29.0,17.0,13.0,35.0,53.0,24.0,38.0,21.0,29.0,46.0,58.0,53.0,21.0,27.0,31.0,23.0,41.0,29.0,54.0,43.0,36.0,48.0,34.0,42.0,17.0,22.0,37.0,38.0,21.0,23.0,27.0,23.0,19.0,28.0,33.0,24.0,0.0,41.0,19.0,44.0,43.0,14.0,18.0,25.0,0.0,4.0,24.0,38.0,44.0,57.0,3.0,5.0,3.0,18.0,8.0,21.0,35.0,47.0,28.0,49.0,23.0,19.0,34.0,40.0,26.0,23.0,22.0,51.0,44.0,50.0,28.0,13.0,21.0,20.0,14.0,38.0,29.0,36.0,16.0,40.0,null,18.0,17.0,32.0,27.0,34.0,53.0,36.0,41.0,51.0,61.0,59.0,17.0,27.0,57.0,39.0,55.0,42.0,36.0,42.0,32.0,6.0,15.0,28.0,37.0,44.0,71.0,44.0,36.0,18.0,3.0,12.0,0.0,29.0,9.0,27.0,24.0,38.0,28.0,26.0,16.0,24.0,33.0,24.0,29.0,25.0,0.0,13.0,7.0,32.0,34.0,49.0,43.0,0.0,6.0,23.0,43.0,23.0,43.0,41.0,54.0,51.0,44.0,48.0,45.0,20.0,33.0,21.0,68.0,23.0,16.0,35.0,22.0,51.0,2.0,29.0,0.0,39.0,55.0,22.0,20.0,25.0,18.0,28.0,26.0,28.0,54.0,56.0,25.0,26.0,14.0,21.0,43.0,37.0,null,38.0,14.0,20.0,33.0,33.0,13.0,37.0,15.0,33.0,24.0,49.0,24.0,24.0,26.0,40.0,31.0,47.0,19.0,38.0,33.0,45.0,1.0,32.0,70.0,19.0,55.0,48.0,66.0,13.0,40.0,35.0,32.0,51.0,37.0,31.0,37.0,38.0,19.0,33.0,19.0,31.0,43.0,22.0,24.0,21.0,14.0,30.0,22.0,11.0,4.0,0.0,30.0,21.0,40.0,57.0,35.0,32.0,32.0,30.0,69.0,21.0,17.0,16.0,25.0,25.0,52.0,13.0,37.0,13.0,45.0,55.0,22.0,39.0,35.0,19.0,7.0,19.0,21.0,37.0,35.0,22.0,62.0,41.0,16.0,26.0,36.0,null,22.0,40.0,50.0,57.0,15.0,23.0,60.0,73.0,35.0,28.0,27.0,14.0,26.0,22.0,22.0,71.0,25.0,27.0,1.0,52.0,0.0,30.0,52.0,12.0,22.0,24.0,22.0,15.0,21.0,56.0,50.0,20.0,32.0,28.0,74.0,25.0,31.0,6.0,17.0,12.0,47.0,46.0,31.0,36.0,15.0,38.0,48.0,21.0,4.0,31.0,31.0,62.0,29.0,30.0,26.0,43.0,32.0,24.0,49.0,21.0,18.0,18.0,14.0,21.0,25.0,56.0,0.0,55.0,14.0,13.0,43.0,39.0,null,24.0,26.0,22.0,26.0,19.0,38.0,38.0,77.0,28.0,22.0,20.0,18.0,10.0,34.0,43.0,31.0,40.0,25.0,68.0,20.0,27.0,1.0,60.0,28.0,11.0,0.0,9.0,38.0,18.0,40.0,21.0,24.0,26.0,47.0,46.0,55.0,50.0,10.0,17.0,20.0,37.0,24.0,43.0,0.0,24.0,22.0,14.0,3.0,22.0,23.0,56.0,36.0,58.0,1.0,39.0,33.0,19.0,null,33.0,17.0,28.0,21.0,45.0,62.0,43.0,27.0,1.0,31.0,18.0,21.0,7.0,22.0,26.0,30.0,17.0,null,10.0,25.0,21.0,53.0,21.0,28.0,20.0,54.0,9.0,20.0,19.0,32.0,22.0,35.0,26.0,51.0,8.0,40.0,2.0,19.0,32.0,16.0,64.0,35.0,33.0,9.0,21.0,28.0,28.0,31.0,32.0,43.0,60.0,43.0,43.0,19.0,21.0,38.0,17.0,29.0,2.0,22.0,18.0,16.0,52.0,52.0,14.0,25.0,34.0,20.0,28.0,null,20.0,44.0,64.0,27.0,24.0,38.0,47.0,8.0,1.0,0.0,20.0,41.0,35.0,31.0,14.0,25.0,26.0,26.0,30.0,49.0,19.0,15.0,27.0,39.0,32.0,11.0,44.0,36.0,56.0,42.0,40.0,53.0,31.0,14.0,31.0,42.0,32.0,34.0,55.0,42.0,40.0,48.0,37.0,17.0,60.0,19.0,30.0,32.0,28.0,26.0,24.0,47.0,32.0,73.0,17.0,47.0,null,13.0,22.0,61.0,19.0,45.0,18.0,32.0,52.0,25.0,9.0,18.0,26.0,20.0,6.0,5.0,40.0,20.0,18.0,42.0,14.0,33.0,23.0,35.0,53.0,56.0,35.0,18.0,25.0,20.0,44.0,26.0,23.0,39.0,25.0,42.0,20.0,4.0,64.0,0.0,19.0,6.0,23.0,22.0,18.0,21.0,37.0,24.0,38.0,11.0,6.0,49.0,55.0,15.0,19.0,16.0,48.0,25.0,23.0,27.0,39.0,28.0,72.0,47.0,65.0,40.0,18.0,27.0,21.0,37.0,31.0,33.0,53.0,27.0,74.0,null,23.0,74.0,23.0,26.0,0.0,0.0,24.0,28.0,17.0,26.0,39.0,17.0,15.0,37.0,38.0,33.0,16.0,41.0,7.0,20.0,44.0,42.0,29.0,22.0,21.0,21.0,21.0,13.0,16.0,36.0,36.0,26.0,28.0,14.0,29.0,19.0,51.0,64.0,41.0,null,16.0,20.0,31.0,38.0,59.0,18.0,33.0,33.0,49.0,4.0,0.0,0.0,24.0,52.0,50.0,31.0,25.0,62.0,49.0,24.0,33.0,20.0,46.0,26.0,52.0,28.0,39.0,29.0,19.0,15.0,33.0,47.0,34.0,26.0,15.0,null,27.0,38.0,21.0,1.0,38.0,0.0,32.0,27.0,48.0,22.0,28.0,19.0,37.0,46.0,26.0,16.0,0.0,0.0,26.0,13.0,23.0,70.0,21.0,40.0,18.0,23.0,15.0,28.0,45.0,18.0,23.0,36.0,25.0,28.0,29.0,31.0,14.0,31.0,39.0,17.0,56.0,36.0,21.0,48.0,53.0,5.0,21.0,50.0,18.0,28.0,28.0,18.0,37.0,19.0,27.0,37.0,43.0,17.0,21.0,55.0,14.0,24.0,26.0,19.0,20.0,14.0,19.0,15.0,25.0,24.0,22.0,26.0,23.0,20.0,53.0,55.0,22.0,35.0,40.0,22.0,22.0,21.0,64.0,40.0,8.0,25.0,19.0,24.0,11.0,31.0,46.0,31.0,17.0,16.0,57.0,28.0,27.0,28.0,26.0,17.0,36.0,24.0,18.0,20.0,10.0,null,23.0,36.0,27.0,54.0,38.0,29.0,37.0,36.0,18.0,28.0,61.0,19.0,29.0,37.0,29.0,38.0,41.0,23.0,48.0,0.0,46.0,36.0,42.0,null,16.0,43.0,40.0,22.0,39.0,37.0,28.0,29.0,14.0,15.0,17.0,4.0,24.0,null,22.0,38.0,30.0,29.0,26.0,41.0,50.0,34.0,24.0,24.0,45.0,35.0,23.0,23.0,21.0,19.0,24.0,2.0,0.0,20.0,35.0,34.0,26.0,26.0,32.0,25.0,30.0,57.0,23.0,32.0,27.0,20.0,21.0,19.0,16.0,18.0,18.0,22.0,null,35.0,8.0,5.0,40.0,31.0,9.0,56.0,39.0,18.0,45.0,33.0,2.0,1.0,2.0,16.0,18.0,28.0,45.0,24.0,35.0,16.0,40.0,5.0,29.0,31.0,27.0,34.0,15.0,43.0,30.0,61.0,48.0,17.0,19.0,29.0,2.0,24.0,19.0,34.0,19.0,39.0,26.0,53.0,18.0,null,45.0,32.0,18.0,48.0,24.0,52.0,55.0,43.0,24.0,8.0,18.0,38.0,18.0,23.0,26.0,21.0,45.0,24.0,44.0,20.0,47.0,16.0,28.0,8.0,20.0,22.0,42.0,23.0,30.0,18.0,35.0,42.0,46.0,29.0,35.0,48.0,24.0,38.0,51.0,77.0,22.0,38.0,42.0,55.0,7.0,null,25.0,15.0,13.0,23.0,null,33.0,26.0,67.0,27.0,33.0,18.0,36.0,18.0,51.0,54.0,33.0,18.0,57.0,23.0,24.0,20.0,32.0,21.0,null,41.0,27.0,49.0,18.0,34.0,73.0,40.0,63.0,21.0,21.0,23.0,31.0,41.0,15.0,36.0,24.0,27.0,24.0,19.0,25.0,39.0,15.0,31.0,25.0,57.0,null,18.0,33.0,23.0,34.0,38.0,21.0,31.0,13.0,54.0,13.0,18.0,null,43.0,56.0,63.0,9.0,9.0,0.0,16.0,42.0,9.0,22.0,47.0,30.0,29.0,null,22.0,19.0,31.0,17.0,38.0,13.0,36.0,0.0,21.0,18.0,36.0,27.0,5.0,18.0,25.0,14.0,23.0,2.0,1.0,7.0,6.0,56.0,4.0,65.0,36.0,25.0,41.0,20.0,18.0,15.0,23.0,29.0,33.0,14.0,55.0,30.0,21.0,26.0,33.0,18.0,9.0,0.0,19.0,18.0,38.0,42.0,28.0,37.0,29.0,42.0,18.0,34.0,34.0,18.0,24.0,24.0,56.0,2.0,12.0,37.0,60.0,55.0,20.0,28.0,28.0,37.0,18.0,14.0,29.0,51.0,45.0,45.0,41.0,21.0,28.0,0.0,46.0,41.0,13.0,55.0,20.0,21.0,49.0,27.0,0.0,22.0,17.0,23.0,44.0,29.0,19.0,3.0,29.0,19.0,22.0,33.0,null,50.0,54.0,43.0,17.0,26.0,44.0,51.0,29.0,4.0,40.0,27.0,8.0,3.0,11.0,24.0,25.0,28.0,25.0,27.0,25.0,0.0,58.0,3.0,4.0,2.0,34.0,5.0,3.0,46.0,22.0,8.0,17.0,4.0,12.0,40.0,16.0,41.0,8.0,14.0,2.0,59.0,45.0,52.0,33.0,51.0,38.0,14.0,42.0,28.0,34.0,21.0,30.0,null,26.0,23.0,20.0,59.0,37.0,32.0,37.0,27.0,42.0,29.0,2.0,10.0,0.0,21.0,8.0,null,27.0,13.0,49.0,38.0,21.0,22.0,14.0,24.0,24.0,34.0,1.0,null,26.0,null,32.0,2.0,10.0,49.0,14.0,29.0,25.0,36.0,22.0,21.0,36.0,54.0,30.0,0.0,1.0,42.0,47.0,25.0,18.0,22.0,27.0,24.0,null,22.0,60.0,38.0,23.0,21.0,55.0,20.0,50.0,22.0,21.0,26.0,36.0,46.0,26.0,24.0,14.0,46.0,15.0,30.0,null,38.0,48.0,31.0,41.0,43.0,23.0,48.0,47.0,19.0,25.0,28.0,16.0,45.0,31.0,19.0,21.0,null,22.0,23.0,54.0,0.0,4.0,23.0,19.0,34.0,18.0,40.0,58.0,39.0,23.0,11.0,43.0,29.0,36.0,13.0,54.0,45.0,33.0,46.0,15.0,35.0,23.0,15.0,27.0,15.0,27.0,16.0,37.0,45.0,58.0,null,38.0,28.0,47.0,41.0,28.0,23.0,24.0,58.0,36.0,24.0,56.0,15.0,19.0,27.0,47.0,37.0,39.0,20.0,20.0,38.0,46.0,13.0,24.0,32.0,null,44.0,19.0,30.0,23.0,4.0,0.0,17.0,44.0,31.0,41.0,33.0,43.0,43.0,36.0,19.0,24.0,17.0,23.0,17.0,18.0,34.0,13.0,66.0,27.0,19.0,55.0,40.0,23.0,7.0,12.0,37.0,22.0,25.0,46.0,37.0,50.0,28.0,26.0,28.0,23.0,23.0,34.0,65.0,20.0,29.0,30.0,3.0,40.0,32.0,31.0,13.0,29.0,28.0,19.0,24.0,22.0,13.0,21.0,24.0,47.0,27.0,18.0,36.0,68.0,31.0,28.0,36.0,17.0,13.0,30.0,58.0,43.0,20.0,29.0,15.0,30.0,33.0,25.0,62.0,41.0,27.0,18.0,27.0,19.0,37.0,24.0,29.0,44.0,19.0,39.0,63.0,39.0,41.0,27.0,56.0,22.0,26.0,24.0,18.0,13.0,32.0,30.0,25.0,55.0,19.0,24.0,32.0,24.0,32.0,36.0,28.0,52.0,29.0,23.0,32.0,35.0,41.0,16.0,33.0,6.0,15.0,38.0,56.0,4.0,21.0,22.0,37.0,6.0,22.0,26.0,22.0,20.0,null,24.0,25.0,48.0,24.0,3.0,24.0,25.0,1.0,20.0,22.0,28.0,17.0,28.0,47.0,34.0,29.0,14.0,36.0,40.0,49.0,51.0,41.0,44.0,47.0,22.0,13.0,18.0,28.0,22.0,50.0,47.0,55.0,21.0,39.0,21.0,37.0,31.0,23.0,28.0,23.0,20.0,28.0,40.0,54.0,18.0,27.0,43.0,25.0,13.0,15.0,37.0,32.0,19.0,21.0,27.0,39.0,22.0,25.0,34.0,54.0,42.0,36.0,43.0,23.0,57.0,54.0,51.0,32.0,33.0,8.0,44.0,27.0,48.0,13.0,5.0,18.0,23.0,23.0,35.0,25.0,32.0,0.0,5.0,16.0,18.0,29.0,55.0,41.0,38.0,27.0,55.0,75.0,50.0,23.0,37.0,33.0,45.0,47.0,13.0,29.0,19.0,30.0,39.0,31.0,29.0,16.0,18.0,38.0,50.0,21.0,22.0,20.0,36.0,23.0,31.0,39.0,50.0,40.0,28.0,38.0,37.0,59.0,41.0,33.0,54.0,40.0,43.0,26.0,65.0,22.0,28.0,35.0,30.0,28.0,23.0,24.0,16.0,18.0,20.0,29.0,29.0,21.0,2.0,43.0,28.0,31.0,23.0,26.0,43.0,28.0,24.0,27.0,13.0,27.0,2.0,24.0,2.0,50.0,27.0,26.0,31.0,28.0,4.0,9.0,0.0,35.0,3.0,25.0,63.0,34.0,35.0,26.0,39.0,34.0,36.0,46.0,26.0,28.0,20.0,35.0,11.0,14.0,4.0,11.0,31.0,15.0,39.0,7.0,24.0,22.0,26.0,53.0,40.0,19.0,54.0,21.0,25.0,48.0,41.0,13.0,57.0,25.0,48.0,34.0,16.0,0.0,15.0,37.0,37.0,49.0,18.0,25.0,null,43.0,20.0,54.0,30.0,37.0,30.0,20.0,20.0,24.0,44.0,0.0,15.0,19.0,20.0,20.0,34.0,17.0,20.0,42.0,28.0,43.0,55.0,21.0,17.0,54.0,25.0,null,45.0,31.0,19.0,30.0,24.0,null,42.0,29.0,37.0,64.0,24.0,23.0,22.0,23.0,21.0,37.0,17.0,35.0,33.0,37.0,32.0,31.0,null,34.0,9.0,25.0,29.0,1.0,30.0,64.0,31.0,27.0,null,25.0,28.0,32.0,36.0,26.0,36.0,37.0,45.0,22.0,24.0,23.0,31.0,37.0,28.0,23.0,14.0,40.0,42.0,53.0,46.0,28.0,25.0,34.0,58.0,31.0,24.0,52.0,25.0,17.0,27.0,29.0,45.0,28.0,25.0,57.0,68.0,26.0,52.0,36.0,41.0,14.0,16.0,24.0,62.0,26.0,45.0,41.0,36.0,13.0,48.0,null,22.0,39.0,45.0,42.0,33.0,27.0,47.0,20.0,32.0,54.0,23.0,9.0,17.0,26.0,38.0,24.0,30.0,2.0,4.0,9.0,30.0,5.0,2.0,32.0,53.0,46.0,2.0,1.0,11.0,3.0,33.0,3.0,38.0,21.0,41.0,64.0,27.0,41.0,19.0,42.0,30.0,38.0,63.0,17.0,2.0,19.0,37.0,50.0,38.0,28.0,35.0,27.0,15.0,29.0,65.0,27.0,0.0,21.0,19.0,39.0,60.0,30.0,30.0,40.0,26.0,38.0,22.0,null,65.0,61.0,20.0,24.0,16.0,35.0,21.0,23.0,17.0,24.0,27.0,26.0,26.0,20.0,28.0,37.0,23.0,49.0,50.0,4.0,32.0,44.0,20.0,30.0,29.0,22.0,35.0,0.0,6.0,38.0,34.0,34.0,null,53.0,28.0,31.0,56.0,36.0,30.0,32.0,44.0,54.0,24.0,44.0,25.0,35.0,29.0,22.0,22.0,22.0,18.0,22.0,52.0,0.0,1.0,34.0,6.0,22.0,31.0,31.0,20.0,25.0,23.0,53.0,32.0,27.0,48.0,37.0,21.0,29.0,46.0,19.0,22.0,54.0,43.0,18.0,36.0,20.0,63.0,50.0,13.0,43.0,16.0,31.0,0.0,10.0,10.0,55.0,18.0,7.0,1.0,44.0,27.0,20.0,49.0,22.0,21.0,26.0,65.0,20.0,0.0,16.0,22.0,0.0,21.0,30.0,14.0,45.0,22.0,21.0,37.0,29.0,29.0,21.0,52.0,36.0,59.0,21.0,25.0,23.0,36.0,38.0,0.0,19.0,30.0,23.0,55.0,44.0,30.0,39.0,19.0,24.0,37.0,24.0,17.0,17.0,14.0,13.0,35.0,32.0,18.0,21.0,25.0,36.0,20.0,22.0,27.0,null,38.0,23.0,21.0,18.0,20.0,28.0,57.0,10.0,23.0,22.0,24.0,52.0,31.0,15.0,40.0,18.0,28.0,40.0,32.0,35.0,52.0,34.0,46.0,23.0,44.0,59.0,42.0,18.0,29.0,15.0,19.0,49.0,19.0,36.0,59.0,24.0,4.0,20.0,24.0,31.0,23.0,3.0,22.0,20.0,0.0,13.0,47.0,51.0,22.0,3.0,4.0,16.0,24.0,1.0,31.0,34.0,20.0,19.0,19.0,35.0,3.0,36.0,20.0,null,58.0,56.0,27.0,25.0,39.0,43.0,42.0,24.0,19.0,32.0,32.0,61.0,64.0,21.0,26.0,35.0,43.0,3.0,56.0,45.0,25.0,12.0,2.0,46.0,32.0,20.0,24.0,28.0,12.0,11.0,16.0,29.0,24.0,22.0,21.0,38.0,35.0,79.0,22.0,42.0,34.0,52.0,43.0,30.0,35.0,18.0,27.0,46.0,15.0,44.0,20.0,35.0,19.0,47.0,26.0,24.0,23.0,26.0,5.0,35.0,18.0,32.0,13.0,15.0,18.0,41.0,36.0,33.0,41.0,47.0,32.0,36.0,13.0,34.0,24.0,16.0,12.0,24.0,35.0,26.0,39.0,18.0,23.0,29.0,38.0,31.0,49.0,17.0,23.0,15.0,11.0,30.0,42.0,21.0,41.0,14.0,27.0,29.0,25.0,54.0,46.0,18.0,22.0,29.0,26.0,36.0,19.0,56.0,20.0,10.0,14.0,27.0,35.0,13.0,21.0,22.0,29.0,32.0,20.0,44.0,22.0,39.0,19.0,0.0,0.0,12.0,7.0,32.0,11.0,18.0,49.0,61.0,7.0,25.0,51.0,56.0,31.0,16.0,29.0,17.0,47.0,25.0,28.0,32.0,56.0,25.0,13.0,41.0,28.0,25.0,11.0,20.0,24.0,41.0,29.0,59.0,31.0,16.0,65.0,21.0,27.0,37.0,42.0,36.0,24.0,null,19.0,26.0,19.0,26.0,35.0,24.0,9.0,40.0,23.0,4.0,20.0,21.0,4.0,19.0,18.0,26.0,13.0,16.0,14.0,40.0,34.0,21.0,29.0,40.0,16.0,37.0,41.0,16.0,39.0,30.0,40.0,63.0,32.0,47.0,23.0,23.0,19.0,44.0,29.0,21.0,23.0,26.0,47.0,20.0,48.0,4.0,25.0,0.0,29.0,21.0,20.0,34.0,9.0,12.0,13.0,27.0,34.0,18.0,16.0,43.0,0.0,20.0,45.0,35.0,21.0,14.0,46.0,22.0,2.0,3.0,28.0,60.0,48.0,18.0,31.0,26.0,41.0,26.0,29.0,24.0,25.0,0.0,30.0,18.0,32.0,28.0,21.0,25.0,47.0,null,8.0,24.0,30.0,24.0,13.0,16.0,23.0,16.0,29.0,46.0,13.0,22.0,29.0,46.0,24.0,33.0,38.0,57.0,null,38.0,28.0,25.0,22.0,33.0,35.0,24.0,31.0,16.0,28.0,8.0,20.0,26.0,43.0,70.0,17.0,14.0,21.0,37.0,15.0,20.0,36.0,14.0,21.0,28.0,20.0,26.0,25.0,29.0,39.0,18.0,37.0,28.0,18.0,30.0,35.0,26.0,0.0,42.0,36.0,31.0,27.0,25.0,32.0,14.0,16.0,51.0,21.0,31.0,9.0,7.0,3.0,2.0,7.0,18.0,33.0,23.0,13.0,32.0,27.0,23.0,25.0,18.0,23.0,31.0,32.0,22.0,38.0,21.0,28.0,38.0,20.0,23.0,48.0,15.0,30.0,40.0,36.0,20.0,17.0,38.0,38.0,14.0,null,21.0,18.0,26.0,35.0,46.0,13.0,39.0,49.0,28.0,27.0,21.0,29.0,27.0,38.0,18.0,35.0,37.0,60.0,31.0,4.0,34.0,46.0,18.0,38.0,29.0,13.0,26.0,30.0,42.0,36.0,23.0,34.0,26.0,31.0,48.0,10.0,27.0,32.0,24.0,20.0,48.0,35.0,14.0,28.0,null,42.0,8.0,30.0,44.0,40.0,38.0,22.0,32.0,16.0,33.0,38.0,23.0,16.0,16.0,11.0,22.0,43.0,20.0,22.0,0.0,30.0,18.0,0.0,41.0,39.0,37.0,26.0,49.0,28.0,13.0,64.0,24.0,18.0,18.0,25.0,19.0,33.0,null,50.0,30.0,44.0,52.0,7.0,30.0,27.0,24.0,13.0,61.0,32.0,17.0,36.0,16.0,21.0,24.0,28.0,null,13.0,39.0,24.0,38.0,20.0,21.0,27.0,49.0,6.0,41.0,33.0,6.0,35.0,46.0,31.0,32.0,31.0,20.0,57.0,37.0,21.0,43.0,49.0,17.0,29.0,36.0,37.0,17.0,45.0,20.0,24.0,28.0,15.0,53.0,51.0,14.0,1.0,26.0,20.0,23.0,22.0,22.0,13.0,28.0,40.0,21.0,35.0,22.0,37.0,21.0,50.0,27.0,20.0,15.0,25.0,31.0,null,18.0,2.0,27.0,0.0,22.0,null,56.0,28.0,42.0,20.0,27.0,29.0,36.0,23.0,64.0,19.0,1.0,49.0,0.0,18.0,39.0,37.0,44.0,43.0,33.0,20.0,0.0,4.0,20.0,50.0,47.0,17.0,26.0,21.0,20.0,26.0,null,34.0,11.0,0.0,28.0,33.0,22.0,28.0,11.0,60.0,43.0,27.0,37.0,23.0,57.0,29.0,28.0,42.0,43.0,26.0,72.0,49.0,29.0,18.0,26.0,19.0,18.0,14.0,44.0,34.0,18.0,36.0,27.0,35.0,52.0,22.0,34.0,37.0,22.0,26.0,14.0,53.0,17.0,30.0,65.0,19.0,36.0,3.0,6.0,4.0,21.0,8.0,35.0,18.0,34.0,45.0,31.0,14.0,23.0,61.0,54.0,28.0,46.0,32.0,49.0,20.0,25.0,19.0,28.0,68.0,16.0,19.0,49.0,15.0,26.0,22.0,23.0,31.0,27.0,28.0,20.0,43.0,22.0,27.0,35.0,37.0,24.0,18.0,15.0,28.0,24.0,39.0,35.0,52.0,48.0,27.0,50.0,24.0,26.0,24.0,15.0,42.0,51.0,43.0,31.0,14.0,31.0,33.0,21.0,13.0,29.0,22.0,22.0,18.0,35.0,20.0,18.0,66.0,33.0,48.0,38.0,62.0,19.0,44.0,25.0,15.0,20.0,34.0,23.0,45.0,39.0,33.0,14.0,26.0,47.0,null,28.0,22.0,17.0,16.0,9.0,15.0,33.0,61.0,19.0,61.0,42.0,4.0,12.0,0.0,19.0,null,29.0,59.0,20.0,70.0,3.0,37.0,58.0,44.0,24.0,20.0,24.0,27.0,28.0,24.0,29.0,25.0,20.0,34.0,28.0,null,23.0,39.0,35.0,18.0,20.0,42.0,32.0,50.0,23.0,19.0,29.0,35.0,18.0,24.0,23.0,51.0,42.0,19.0,23.0,19.0,22.0,25.0,31.0,23.0,22.0,55.0,40.0,24.0,25.0,42.0,33.0,54.0,22.0,22.0,19.0,47.0,23.0,61.0,21.0,46.0,36.0,15.0,33.0,35.0,21.0,21.0,43.0,34.0,47.0,27.0,46.0,46.0,40.0,59.0,45.0,19.0,32.0,39.0,40.0,44.0,26.0,22.0,2.0,18.0,53.0,22.0,46.0,28.0,31.0,36.0,46.0,0.0,3.0,12.0,2.0,41.0,11.0,41.0,17.0,21.0,21.0,27.0,54.0,15.0,39.0,31.0,28.0,21.0,29.0,45.0,44.0,12.0,18.0,20.0,43.0,46.0,53.0,21.0,23.0,9.0,19.0,52.0,31.0,62.0,27.0,23.0,28.0,27.0,58.0,24.0,27.0,33.0,28.0,39.0,27.0,36.0,64.0,41.0,null,27.0,null,22.0,23.0,40.0,2.0,0.0,27.0,0.0,17.0,45.0,62.0,14.0,24.0,51.0,49.0,52.0,35.0,22.0,17.0,47.0,25.0,11.0,17.0,41.0,55.0,29.0,19.0,23.0,32.0,27.0,25.0,24.0,30.0,50.0,51.0,27.0,35.0,48.0,27.0,19.0,18.0,25.0,41.0,62.0,30.0,6.0,15.0,34.0,34.0,23.0,51.0,63.0,42.0,19.0,5.0,2.0,15.0,36.0,32.0,19.0,26.0,33.0,38.0,22.0,32.0,30.0,51.0,29.0,16.0,32.0,24.0,23.0,46.0,49.0,17.0,35.0,43.0,20.0,24.0,28.0,19.0,39.0,34.0,29.0,14.0,null,30.0,null,32.0,7.0,34.0,47.0,19.0,52.0,19.0,18.0,32.0,21.0,22.0,13.0,25.0,33.0,27.0,21.0,17.0,15.0,58.0,29.0,34.0,28.0,29.0,25.0,23.0,22.0,38.0,38.0,0.0,null,0.0,37.0,2.0,40.0,47.0,34.0,43.0,21.0,43.0,33.0,28.0,57.0,null,46.0,19.0,27.0,2.0,0.0,25.0,47.0,38.0,24.0,24.0,25.0,29.0,44.0,20.0,23.0,26.0,20.0,27.0,23.0,33.0,30.0,32.0,19.0,41.0,50.0,36.0,21.0,45.0,26.0,44.0,24.0,15.0,58.0,13.0,19.0,25.0,24.0,20.0,34.0,13.0,null,39.0,0.0,10.0,9.0,34.0,11.0,0.0,24.0,16.0,42.0,41.0,36.0,27.0,32.0,11.0,26.0,28.0,25.0,5.0,null,13.0,30.0,15.0,0.0,49.0,52.0,15.0,40.0,0.0,32.0,15.0,26.0,31.0,8.0,18.0,3.0,44.0,15.0,27.0,22.0,2.0,32.0,16.0,34.0,32.0,28.0,27.0,35.0,25.0,24.0,61.0,28.0,29.0,41.0,20.0,18.0,28.0,18.0,33.0,35.0,68.0,19.0,33.0,55.0,15.0,23.0,23.0,15.0,49.0,33.0,26.0,26.0,18.0,17.0,39.0,8.0,46.0,32.0,19.0,36.0,28.0,39.0,16.0,7.0,1.0,30.0,44.0,28.0,29.0,41.0,13.0,18.0,27.0,26.0,24.0,26.0,27.0,58.0,54.0,18.0,13.0,13.0,28.0,57.0,32.0,32.0,21.0,34.0,33.0,36.0,50.0,28.0,56.0,42.0,39.0,13.0,28.0,55.0,36.0,null,37.0,50.0,27.0,23.0,16.0,33.0,46.0,26.0,24.0,26.0,2.0,33.0,32.0,3.0,2.0,6.0,null,0.0,4.0,58.0,22.0,51.0,37.0,17.0,21.0,null,null,31.0,43.0,null,15.0,18.0,33.0,31.0,41.0,22.0,40.0,49.0,14.0,22.0,22.0,25.0,42.0,16.0,12.0,18.0,33.0,14.0,36.0,23.0,24.0,4.0,null,18.0,21.0,27.0,34.0,28.0,35.0,16.0,36.0,30.0,4.0,19.0,3.0,51.0,null,45.0,18.0,23.0,15.0,34.0,47.0,27.0,26.0,25.0,34.0,27.0,39.0,31.0,4.0,19.0,59.0,19.0,25.0,28.0,37.0,43.0,18.0,36.0,14.0,42.0,29.0,23.0,16.0,8.0,20.0,50.0,38.0,39.0,33.0,30.0,40.0,22.0,52.0,26.0,19.0,33.0,33.0,20.0,28.0,10.0,23.0,28.0,23.0,54.0,57.0,24.0,37.0,59.0,53.0,22.0,18.0,17.0,25.0,18.0,20.0,24.0,33.0,34.0,24.0,37.0,23.0,32.0,13.0,23.0,23.0,27.0,47.0,38.0,28.0,21.0,null,64.0,43.0,21.0,36.0,22.0,24.0,21.0,57.0,46.0,42.0,16.0,40.0,3.0,8.0,3.0,35.0,12.0,null,47.0,19.0,46.0,28.0,5.0,7.0,3.0,1.0,7.0,60.0,34.0,28.0,64.0,13.0,15.0,65.0,53.0,58.0,19.0,null,16.0,48.0,33.0,31.0,44.0,40.0,34.0,21.0,20.0,9.0,33.0,2.0,53.0,0.0,38.0,21.0,31.0,7.0,12.0,0.0,17.0,55.0,2.0,32.0,16.0,0.0,29.0,25.0,39.0,42.0,0.0,14.0,29.0,54.0,35.0,null,18.0,14.0,53.0,48.0,21.0,44.0,25.0,0.0,27.0,40.0,44.0,36.0,3.0,9.0,1.0,17.0,47.0,null,33.0,16.0,30.0,18.0,26.0,19.0,28.0,35.0,40.0,26.0,45.0,18.0,54.0,13.0,26.0,16.0,37.0,17.0,16.0,18.0,21.0,24.0,22.0,41.0,15.0,36.0,23.0,31.0,19.0,23.0,47.0,40.0,34.0,2.0,8.0,0.0,18.0,11.0,18.0,19.0,2.0,25.0,0.0,27.0,34.0,19.0,22.0,22.0,52.0,30.0,65.0,31.0,51.0,21.0,27.0,31.0,28.0,29.0,23.0,11.0,23.0,34.0,20.0,20.0,16.0,18.0,20.0,20.0,27.0,55.0,53.0,37.0,55.0,24.0,24.0,49.0,17.0,39.0,5.0,10.0,1.0,16.0,51.0,5.0,19.0,0.0,20.0,0.0,1.0,38.0,40.0,18.0,36.0,23.0,42.0,37.0,24.0,12.0,2.0,28.0,44.0,26.0,36.0,28.0,14.0,14.0,28.0,27.0,21.0,24.0,18.0,24.0,8.0,36.0,32.0,19.0,12.0,21.0,13.0,20.0,35.0,23.0,17.0,29.0,27.0,22.0,26.0,1.0,7.0,78.0,24.0,26.0,50.0,16.0,57.0,29.0,27.0,42.0,28.0,18.0,38.0,32.0,21.0,6.0,27.0,32.0,23.0,29.0,22.0,31.0,0.0,2.0,null,28.0,20.0,28.0,42.0,32.0,19.0,20.0,20.0,21.0,32.0,16.0,21.0,12.0,21.0,31.0,18.0,35.0,44.0,13.0,21.0,37.0,null,34.0,21.0,38.0,31.0,61.0,20.0,39.0,29.0,68.0,38.0,31.0,41.0,29.0,25.0,27.0,21.0,30.0,40.0,59.0,35.0,41.0,36.0,58.0,27.0,24.0,50.0,22.0,26.0,16.0,56.0,25.0,13.0,53.0,21.0,18.0,38.0,20.0,24.0,56.0,47.0,21.0,null,26.0,34.0,35.0,35.0,49.0,24.0,62.0,25.0,42.0,25.0,21.0,17.0,41.0,50.0,20.0,15.0,29.0,20.0,35.0,22.0,43.0,54.0,15.0,38.0,44.0,34.0,15.0,24.0,29.0,19.0,27.0,26.0,46.0,64.0,17.0,45.0,27.0,29.0,18.0,26.0,39.0,59.0,20.0,17.0,47.0,29.0,16.0,48.0,39.0,28.0,12.0,24.0,30.0,34.0,37.0,47.0,0.0,23.0,0.0,20.0,35.0,18.0,17.0,18.0,53.0,35.0,48.0,68.0,27.0,28.0,37.0,35.0,31.0,14.0,1.0,4.0,30.0,11.0,45.0,29.0,32.0,15.0,25.0,25.0,60.0,24.0,35.0,36.0,22.0,32.0,57.0,30.0,46.0,28.0,26.0,55.0,66.0,20.0,31.0,13.0,50.0,21.0,25.0,46.0,0.0,2.0,36.0,19.0,35.0,41.0,22.0,25.0,24.0,37.0,5.0,null,41.0,44.0,23.0,28.0,27.0,40.0,27.0,17.0,32.0,29.0,29.0,41.0,48.0,27.0,14.0,32.0,47.0,14.0,37.0,33.0,33.0,44.0,37.0,18.0,33.0,21.0,38.0,16.0,58.0,41.0,28.0,28.0,31.0,27.0,7.0,25.0,34.0,21.0,29.0,23.0,31.0,50.0,25.0,25.0,23.0,46.0,0.0,53.0,25.0,30.0,18.0,20.0,54.0,20.0,32.0,31.0,55.0,16.0,0.0,3.0,33.0,45.0,6.0,33.0,14.0,24.0,47.0,37.0,14.0,44.0,11.0,15.0,39.0,15.0,60.0,49.0,23.0,9.0,0.0,17.0,42.0,16.0,0.0,26.0,56.0,26.0,41.0,27.0,31.0,40.0,40.0,15.0,50.0,42.0,50.0,39.0,27.0,20.0,30.0,16.0,36.0,68.0,22.0,36.0,3.0,28.0,32.0,10.0,0.0,9.0,37.0,31.0,31.0,43.0,15.0,58.0,30.0,24.0,49.0,73.0,14.0,50.0,12.0,2.0,49.0,32.0,null,33.0,23.0,23.0,43.0,36.0,26.0,29.0,21.0,30.0,23.0,13.0,22.0,25.0,52.0,22.0,31.0,23.0,35.0,26.0,14.0,39.0,8.0,29.0,15.0,48.0,9.0,25.0,13.0,25.0,27.0,32.0,20.0,40.0,18.0,21.0,38.0,62.0,23.0,48.0,27.0,32.0,53.0,26.0,46.0,32.0,40.0,27.0,28.0,29.0,37.0,0.0,12.0,25.0,null,3.0,9.0,27.0,59.0,24.0,16.0,16.0,46.0,25.0,39.0,15.0,16.0,35.0,43.0,7.0,29.0,60.0,49.0,50.0,40.0,49.0,18.0,29.0,56.0,29.0,29.0,22.0,24.0,23.0,28.0,19.0,32.0,37.0,26.0,43.0,25.0,11.0,4.0,32.0,15.0,17.0,37.0,20.0,47.0,16.0,8.0,22.0,39.0,57.0,29.0,null,70.0,13.0,49.0,25.0,19.0,15.0,37.0,null,28.0,22.0,26.0,25.0,19.0,20.0,35.0,37.0,37.0,13.0,20.0,65.0,29.0,0.0,4.0,19.0,17.0,28.0,28.0,21.0,45.0,21.0,20.0,38.0,24.0,22.0,44.0,41.0,21.0,26.0,54.0,19.0,32.0,null,26.0,28.0,21.0,38.0,43.0,12.0,25.0,27.0,22.0,20.0,24.0,34.0,42.0,24.0,28.0,29.0,31.0,29.0,14.0,16.0,16.0,27.0,null,23.0,16.0,30.0,24.0,36.0,25.0,29.0,21.0,26.0,30.0,31.0,20.0,null,33.0,35.0,46.0,63.0,37.0,23.0,5.0,16.0,20.0,49.0,3.0,41.0,null,14.0,26.0,51.0,36.0,16.0,18.0,48.0,24.0,19.0,21.0,24.0,21.0,13.0,39.0,27.0,23.0,43.0,19.0,30.0,52.0,35.0,16.0,21.0,45.0,22.0,null,0.0,63.0,56.0,40.0,1.0,24.0,36.0,13.0,13.0,37.0,44.0,32.0,57.0,26.0,62.0,2.0,1.0,24.0,1.0,63.0,20.0,15.0,32.0,24.0,32.0,36.0,13.0,29.0,27.0,30.0,27.0,14.0,32.0,33.0,35.0,21.0,57.0,42.0,20.0,18.0,49.0,23.0,24.0,24.0,23.0,24.0,26.0,28.0,17.0,20.0,22.0,23.0,22.0,29.0,null,31.0,37.0,44.0,34.0,23.0,18.0,18.0,23.0,18.0,22.0,10.0,null,31.0,48.0,51.0,25.0,32.0,8.0,49.0,28.0,3.0,null,31.0,11.0,27.0,33.0,32.0,20.0,33.0,65.0,18.0,19.0,33.0,null,31.0,37.0,19.0,18.0,47.0,26.0,25.0,38.0,53.0,38.0,28.0,46.0,18.0,14.0,32.0,44.0,28.0,2.0,28.0,27.0,29.0,14.0,14.0,17.0,35.0,36.0,51.0,54.0,37.0,37.0,24.0,null,38.0,28.0,0.0,16.0,25.0,22.0,24.0,37.0,21.0,53.0,0.0,2.0,64.0,24.0,40.0,32.0,54.0,30.0,37.0,20.0,22.0,57.0,34.0,51.0,47.0,22.0,36.0,16.0,60.0,39.0,18.0,30.0,45.0,30.0,21.0,0.0,51.0,22.0,26.0,10.0,21.0,14.0,null,43.0,22.0,22.0,23.0,25.0,35.0,30.0,37.0,21.0,36.0,13.0,22.0,36.0,17.0,38.0,34.0,20.0,17.0,36.0,52.0,32.0,35.0,null,36.0,36.0,21.0,33.0,40.0,24.0,35.0,29.0,33.0,51.0,10.0,41.0,26.0,39.0,14.0,28.0,18.0,41.0,33.0,26.0,31.0,63.0,30.0,27.0,47.0,37.0,14.0,27.0,61.0,39.0,22.0,30.0,26.0,25.0,42.0,33.0,60.0,16.0,50.0,22.0,15.0,27.0,58.0,48.0,36.0,60.0,46.0,58.0,40.0,3.0,23.0,21.0,29.0,23.0,41.0,20.0,24.0,21.0,55.0,21.0,42.0,40.0,30.0,26.0,43.0,20.0,19.0,40.0,17.0,62.0,32.0,37.0,40.0,25.0,17.0,46.0,38.0,43.0,28.0,31.0,35.0,19.0,24.0,20.0,16.0,45.0,19.0,23.0,19.0,32.0,41.0,30.0,41.0,7.0,39.0,47.0,21.0,29.0,19.0,50.0,28.0,38.0,24.0,31.0,38.0,26.0,28.0,45.0,47.0,60.0,42.0,43.0,17.0,17.0,20.0,18.0,24.0,25.0,20.0,23.0,48.0,26.0,36.0,27.0,41.0,21.0,71.0,64.0,33.0,24.0,35.0,13.0,11.0,null,43.0,36.0,22.0,56.0,34.0,46.0,43.0,25.0,26.0,14.0,63.0,29.0,45.0,15.0,19.0,53.0,45.0,41.0,68.0,5.0,27.0,20.0,54.0,18.0,45.0,26.0,37.0,30.0,51.0,3.0,3.0,19.0,19.0,6.0,4.0,23.0,37.0,18.0,29.0,25.0,52.0,24.0,0.0,25.0,26.0,32.0,58.0,44.0,41.0,24.0,41.0,23.0,27.0,61.0,18.0,18.0,null,15.0,12.0,40.0,19.0,18.0,48.0,37.0,35.0,29.0,54.0,null,22.0,18.0,26.0,19.0,22.0,17.0,18.0,39.0,37.0,17.0,25.0,9.0,15.0,19.0,18.0,50.0,14.0,19.0,33.0,23.0,39.0,14.0,14.0,45.0,22.0,36.0,19.0,59.0,31.0,31.0,39.0,28.0,19.0,29.0,0.0,15.0,18.0,49.0,36.0,40.0,56.0,67.0,44.0,17.0,27.0,23.0,28.0,54.0,26.0,40.0,39.0,40.0,20.0,18.0,17.0,35.0,31.0,40.0,50.0,21.0,29.0,63.0,19.0,36.0,48.0,33.0,28.0,39.0,27.0,58.0,44.0,23.0,21.0,53.0,14.0,17.0,25.0,44.0,24.0,24.0,24.0,0.0,7.0,3.0,18.0,4.0,40.0,16.0,25.0,10.0,40.0,19.0,15.0,24.0,21.0,29.0,37.0,49.0,42.0,54.0,33.0,27.0,53.0,28.0,24.0,20.0,0.0,24.0,28.0,42.0,32.0,36.0,40.0,30.0,34.0,37.0,41.0,25.0,39.0,0.0,54.0,16.0,0.0,13.0,46.0,23.0,18.0,27.0,24.0,27.0,24.0,25.0,30.0,19.0,18.0,49.0,64.0,26.0,53.0,27.0,27.0,25.0,33.0,27.0,20.0,39.0,27.0,19.0,22.0,3.0,24.0,41.0,18.0,63.0,19.0,39.0,null,41.0,44.0,39.0,29.0,37.0,41.0,18.0,null,55.0,21.0,28.0,43.0,32.0,23.0,5.0,14.0,24.0,22.0,14.0,20.0,17.0,20.0,22.0,15.0,67.0,28.0,57.0,21.0,34.0,17.0,33.0,33.0,28.0,18.0,28.0,13.0,38.0,39.0,18.0,43.0,32.0,29.0,45.0,25.0,64.0,18.0,44.0,15.0,21.0,33.0,3.0,19.0,37.0,24.0,26.0,26.0,26.0,22.0,26.0,27.0,27.0,37.0,22.0,24.0,23.0,18.0,28.0,4.0,23.0,2.0,46.0,0.0,16.0,19.0,34.0,34.0,24.0,28.0,44.0,35.0,20.0,18.0,43.0,48.0,46.0,75.0,24.0,34.0,29.0,46.0,22.0,42.0,46.0,15.0,42.0,31.0,9.0,34.0,21.0,16.0,40.0,23.0,6.0,17.0,37.0,30.0,32.0,41.0,43.0,17.0,37.0,18.0,1.0,38.0,25.0,6.0,1.0,7.0,24.0,19.0,26.0,49.0,18.0,25.0,46.0,33.0,10.0,38.0,23.0,26.0,16.0,29.0,35.0,58.0,17.0,16.0,2.0,13.0,18.0,29.0,21.0,43.0,69.0,40.0,1.0,36.0,60.0,17.0,49.0,23.0,39.0,53.0,26.0,31.0,48.0,26.0,25.0,25.0,30.0,null,23.0,24.0,47.0,37.0,24.0,21.0,42.0,39.0,28.0,32.0,31.0,13.0,41.0,21.0,null,9.0,36.0,30.0,27.0,40.0,41.0,16.0,36.0,15.0,39.0,21.0,24.0,28.0,47.0,55.0,null,22.0,26.0,62.0,53.0,29.0,21.0,18.0,34.0,19.0,14.0,21.0,55.0,18.0,33.0,35.0,31.0,27.0,null,13.0,24.0,22.0,32.0,18.0,53.0,4.0,24.0,23.0,1.0,18.0,21.0,40.0,49.0,25.0,21.0,40.0,47.0,25.0,36.0,39.0,26.0,0.0,14.0,7.0,50.0,22.0,17.0,35.0,22.0,26.0,24.0,59.0,24.0,17.0,28.0,38.0,2.0,36.0,32.0,15.0,54.0,18.0,22.0,23.0,14.0,26.0,73.0,29.0,29.0,12.0,27.0,31.0,26.0,35.0,25.0,40.0,18.0,52.0,35.0,51.0,35.0,14.0,null,26.0,21.0,45.0,29.0,39.0,37.0,22.0,22.0,30.0,1.0,0.0,9.0,18.0,29.0,52.0,27.0,54.0,28.0,65.0,26.0,29.0,20.0,39.0,37.0,20.0,40.0,0.0,33.0,23.0,32.0,20.0,60.0,53.0,26.0,35.0,19.0,43.0,29.0,20.0,19.0,21.0,39.0,12.0,20.0,18.0,31.0,35.0,44.0,62.0,23.0,23.0,19.0,29.0,31.0,33.0,41.0,60.0,41.0,69.0,44.0,18.0,26.0,30.0,34.0,18.0,49.0,71.0,19.0,23.0,31.0,40.0,28.0,17.0,24.0,54.0,21.0,2.0,20.0,20.0,36.0,25.0,58.0,37.0,26.0,45.0,44.0,24.0,13.0,4.0,24.0,27.0,39.0,23.0,4.0,0.0,22.0,27.0,22.0,26.0,60.0,18.0,20.0,25.0,24.0,38.0,18.0,45.0,13.0,28.0,5.0,20.0,2.0,42.0,0.0,18.0,26.0,3.0,49.0,19.0,19.0,15.0,53.0,0.0,39.0,45.0,10.0,1.0,9.0,40.0,26.0,18.0,47.0,31.0,null,23.0,32.0,32.0,21.0,null,22.0,18.0,28.0,38.0,46.0,44.0,38.0,28.0,31.0,18.0,18.0,4.0,0.0,0.0,23.0,35.0,43.0,18.0,18.0,18.0,49.0,19.0,22.0,4.0,0.0,null,39.0,36.0,53.0,23.0,24.0,25.0,30.0,20.0,40.0,18.0,57.0,47.0,26.0,29.0,32.0,30.0,18.0,49.0,33.0,18.0,29.0,34.0,43.0,18.0,31.0,15.0,3.0,37.0,1.0,27.0,15.0,33.0,65.0,19.0,30.0,37.0,15.0,19.0,20.0,19.0,21.0,20.0,18.0,27.0,23.0,25.0,72.0,35.0,29.0,11.0,7.0,null,28.0,41.0,null,19.0,8.0,4.0,38.0,21.0,18.0,10.0,29.0,25.0,40.0,19.0,38.0,19.0,0.0,4.0,29.0,46.0,32.0,26.0,23.0,32.0,31.0,34.0,45.0,61.0,21.0,null,15.0,14.0,18.0,39.0,62.0,40.0,21.0,12.0,27.0,28.0,0.0,17.0,23.0,6.0,29.0,41.0,27.0,34.0,36.0,30.0,30.0,29.0,21.0,21.0,18.0,11.0,65.0,25.0,0.0,24.0,19.0,23.0,45.0,52.0,55.0,24.0,31.0,18.0,22.0,39.0,19.0,33.0,14.0,30.0,30.0,21.0,45.0,17.0,39.0,22.0,37.0,48.0,33.0,37.0,27.0,29.0,38.0,16.0,18.0,null,47.0,15.0,13.0,19.0,17.0,31.0,19.0,25.0,26.0,25.0,2.0,7.0,2.0,19.0,1.0,4.0,49.0,61.0,57.0,52.0,22.0,37.0,15.0,28.0,40.0,13.0,24.0,25.0,25.0,43.0,46.0,3.0,3.0,3.0,8.0,57.0,11.0,20.0,27.0,20.0,14.0,24.0,21.0,33.0,32.0,22.0,15.0,41.0,31.0,35.0,48.0,15.0,37.0,21.0,34.0,19.0,52.0,15.0,24.0,45.0,13.0,18.0,19.0,20.0,20.0,27.0,22.0,17.0,23.0,29.0,24.0,26.0,36.0,25.0,36.0,32.0,16.0,32.0,48.0,25.0,46.0,32.0,50.0,31.0,27.0,52.0,34.0,40.0,36.0,19.0,33.0,23.0,57.0,24.0,19.0,54.0,28.0,26.0,43.0,39.0,21.0,24.0,35.0,61.0,21.0,14.0,38.0,23.0,31.0,66.0,56.0,21.0,49.0,21.0,27.0,23.0,27.0,49.0,38.0,60.0,47.0,29.0,19.0,32.0,22.0,35.0,28.0,22.0,42.0,37.0,31.0,33.0,48.0,31.0,18.0,44.0,22.0,18.0,48.0,2.0,0.0,43.0,51.0,48.0,51.0,20.0,41.0,27.0,56.0,26.0,21.0,null,23.0,28.0,40.0,39.0,16.0,20.0,24.0,45.0,33.0,19.0,15.0,18.0,21.0,37.0,53.0,19.0,17.0,58.0,18.0,25.0,39.0,40.0,27.0,3.0,18.0,18.0,29.0,22.0,34.0,19.0,26.0,33.0,34.0,18.0,40.0,53.0,8.0,54.0,29.0,56.0,21.0,25.0,33.0,22.0,50.0,24.0,25.0,59.0,26.0,19.0,37.0,22.0,44.0,25.0,23.0,6.0,39.0,26.0,14.0,3.0,21.0,24.0,18.0,37.0,21.0,67.0,28.0,13.0,26.0,33.0,18.0,24.0,26.0,21.0,27.0,15.0,24.0,31.0,10.0,23.0,50.0,13.0,43.0,20.0,21.0,18.0,16.0,47.0,35.0,15.0,46.0,6.0,26.0,49.0,28.0,37.0,17.0,38.0,18.0,55.0,28.0,25.0,17.0,22.0,4.0,3.0,21.0,24.0,50.0,3.0,19.0,22.0,20.0,18.0,27.0,29.0,23.0,48.0,32.0,55.0,49.0,15.0,50.0,35.0,29.0,38.0,29.0,39.0,49.0,39.0,19.0,19.0,14.0,40.0,40.0,20.0,6.0,41.0,37.0,31.0,8.0,55.0,16.0,29.0,40.0,27.0,21.0,25.0,44.0,34.0,1.0,1.0,42.0,18.0,21.0,24.0,null,18.0,27.0,13.0,10.0,8.0,40.0,35.0,13.0,19.0,44.0,36.0,29.0,28.0,36.0,24.0,14.0,50.0,20.0,38.0,33.0,54.0,20.0,23.0,65.0,51.0,36.0,38.0,28.0,32.0,55.0,23.0,38.0,18.0,32.0,44.0,62.0,66.0,20.0,19.0,null,25.0,20.0,18.0,20.0,14.0,49.0,49.0,19.0,53.0,31.0,18.0,24.0,35.0,27.0,38.0,23.0,22.0,38.0,28.0,25.0,45.0,22.0,30.0,25.0,24.0,44.0,6.0,0.0,14.0,37.0,15.0,0.0,17.0,58.0,15.0,53.0,29.0,24.0,40.0,21.0,30.0,20.0,20.0,18.0,36.0,20.0,4.0,59.0,20.0,4.0,23.0,25.0,20.0,22.0,6.0,14.0,0.0,4.0,37.0,14.0,34.0,3.0,18.0,27.0,19.0,37.0,29.0,37.0,32.0,22.0,38.0,24.0,63.0,23.0,41.0,20.0,48.0,44.0,15.0,29.0,64.0,19.0,28.0,44.0,13.0,45.0,25.0,19.0,29.0,21.0,13.0,25.0,46.0,37.0,19.0,29.0,21.0,13.0,15.0,42.0,null,26.0,19.0,18.0,50.0,28.0,24.0,31.0,19.0,20.0,23.0,19.0,27.0,16.0,76.0,41.0,24.0,12.0,28.0,36.0,20.0,7.0,21.0,33.0,32.0,34.0,38.0,null,28.0,25.0,24.0,18.0,24.0,30.0,38.0,39.0,31.0,33.0,15.0,23.0,24.0,44.0,22.0,28.0,34.0,8.0,26.0,29.0,58.0,4.0,1.0,17.0,27.0,24.0,16.0,28.0,23.0,33.0,24.0,6.0,19.0,31.0,19.0,18.0,35.0,32.0,19.0,24.0,33.0,20.0,27.0,26.0,28.0,19.0,24.0,52.0,23.0,23.0,25.0,22.0,35.0,24.0,24.0,26.0,37.0,14.0,36.0,0.0,17.0,18.0,43.0,21.0,34.0,57.0,18.0,73.0,31.0,25.0,20.0,24.0,null,21.0,22.0,39.0,26.0,32.0,1.0,7.0,4.0,21.0,12.0,28.0,0.0,18.0,52.0,18.0,51.0,21.0,28.0,34.0,13.0,35.0,27.0,35.0,51.0,53.0,29.0,41.0,47.0,22.0,19.0,22.0,25.0,null,17.0,0.0,5.0,30.0,17.0,53.0,9.0,17.0,16.0,29.0,29.0,46.0,27.0,39.0,15.0,30.0,41.0,47.0,32.0,15.0,23.0,20.0,33.0,18.0,31.0,25.0,19.0,32.0,45.0,43.0,21.0,48.0,0.0,29.0,41.0,23.0,48.0,18.0,30.0,26.0,18.0,27.0,58.0,22.0,17.0,28.0,27.0,51.0,37.0,14.0,43.0,27.0,60.0,33.0,39.0,21.0,21.0,28.0,30.0,42.0,25.0,25.0,25.0,54.0,41.0,36.0,33.0,36.0,55.0,16.0,28.0,26.0,42.0,30.0,31.0,22.0,26.0,25.0,44.0,29.0,22.0,23.0,30.0,23.0,13.0,53.0,0.0,27.0,27.0,10.0,2.0,5.0,24.0,32.0,22.0,22.0,44.0,55.0,22.0,8.0,15.0,1.0,9.0,48.0,16.0,27.0,3.0,25.0,70.0,30.0,57.0,42.0,14.0,43.0,34.0,21.0,32.0,21.0,25.0,25.0,38.0,36.0,44.0,37.0,47.0,38.0,28.0,38.0,53.0,26.0,13.0,64.0,16.0,13.0,55.0,26.0,23.0,55.0,50.0,26.0,36.0,33.0,21.0,41.0,33.0,23.0,31.0,28.0,13.0,null,35.0,25.0,19.0,56.0,18.0,22.0,34.0,11.0,37.0,22.0,45.0,19.0,39.0,28.0,36.0,1.0,10.0,12.0,31.0,12.0,3.0,30.0,41.0,19.0,38.0,36.0,0.0,20.0,23.0,35.0,36.0,41.0,38.0,33.0,54.0,33.0,54.0,32.0,24.0,53.0,26.0,31.0,18.0,39.0,37.0,35.0,34.0,28.0,43.0,2.0,24.0,18.0,21.0,24.0,35.0,53.0,32.0,44.0,33.0,40.0,31.0,23.0,44.0,41.0,31.0,30.0,33.0,30.0,26.0,22.0,37.0,15.0,52.0,35.0,40.0,60.0,24.0,31.0,43.0,9.0,51.0,25.0,20.0,22.0,21.0,50.0,24.0,45.0,22.0,7.0,11.0,1.0,0.0,8.0,36.0,2.0,0.0,22.0,41.0,49.0,30.0,37.0,14.0,30.0,62.0,13.0,32.0,33.0,38.0,29.0,25.0,26.0,19.0,16.0,61.0,28.0,13.0,44.0,22.0,30.0,21.0,20.0,31.0,33.0,26.0,21.0,23.0,0.0,32.0,30.0,41.0,18.0,26.0,32.0,44.0],\"xaxis\":\"x\",\"yaxis\":\"y\",\"type\":\"histogram\"},{\"alignmentgroup\":\"True\",\"hovertemplate\":\"type=Train<br>Age=%{x}<extra></extra>\",\"legendgroup\":\"Train\",\"marker\":{\"color\":\"#58D68D\"},\"name\":\"Train\",\"notched\":true,\"offsetgroup\":\"Train\",\"showlegend\":false,\"x\":[39.0,24.0,58.0,33.0,16.0,44.0,26.0,28.0,35.0,14.0,34.0,45.0,32.0,48.0,28.0,31.0,27.0,24.0,45.0,0.0,14.0,1.0,49.0,29.0,10.0,1.0,7.0,21.0,62.0,15.0,34.0,43.0,32.0,47.0,2.0,20.0,28.0,23.0,15.0,20.0,30.0,17.0,45.0,55.0,4.0,21.0,21.0,19.0,35.0,56.0,null,25.0,2.0,38.0,27.0,36.0,22.0,62.0,15.0,33.0,62.0,0.0,18.0,21.0,null,42.0,19.0,17.0,14.0,37.0,42.0,27.0,28.0,38.0,13.0,42.0,2.0,8.0,24.0,40.0,43.0,45.0,35.0,26.0,27.0,19.0,0.0,3.0,54.0,26.0,26.0,23.0,2.0,31.0,18.0,24.0,9.0,6.0,27.0,21.0,23.0,31.0,0.0,32.0,40.0,42.0,28.0,29.0,48.0,64.0,27.0,26.0,33.0,39.0,13.0,24.0,29.0,18.0,67.0,35.0,61.0,45.0,22.0,19.0,36.0,19.0,47.0,13.0,34.0,35.0,24.0,26.0,31.0,20.0,56.0,50.0,42.0,null,38.0,41.0,22.0,26.0,17.0,57.0,17.0,35.0,13.0,27.0,31.0,24.0,19.0,32.0,58.0,21.0,38.0,38.0,19.0,0.0,3.0,20.0,24.0,37.0,25.0,56.0,49.0,11.0,1.0,8.0,39.0,2.0,23.0,0.0,39.0,25.0,36.0,52.0,18.0,15.0,35.0,47.0,45.0,null,51.0,29.0,null,19.0,24.0,29.0,11.0,17.0,13.0,35.0,21.0,21.0,38.0,19.0,2.0,0.0,13.0,25.0,16.0,1.0,15.0,21.0,23.0,33.0,21.0,41.0,16.0,42.0,20.0,24.0,16.0,21.0,32.0,58.0,24.0,30.0,27.0,32.0,43.0,42.0,37.0,35.0,33.0,18.0,21.0,43.0,14.0,46.0,33.0,21.0,33.0,47.0,54.0,30.0,29.0,21.0,24.0,21.0,60.0,22.0,26.0,26.0,28.0,39.0,13.0,47.0,63.0,null,50.0,35.0,45.0,19.0,21.0,29.0,22.0,14.0,42.0,57.0,39.0,28.0,19.0,19.0,26.0,17.0,43.0,9.0,40.0,50.0,24.0,57.0,16.0,23.0,23.0,28.0,23.0,23.0,18.0,18.0,67.0,60.0,null,49.0,0.0,26.0,35.0,24.0,20.0,18.0,21.0,59.0,13.0,43.0,29.0,19.0,2.0,32.0,33.0,25.0,29.0,29.0,44.0,2.0,19.0,0.0,18.0,38.0,5.0,31.0,30.0,15.0,27.0,22.0,36.0,14.0,23.0,18.0,36.0,41.0,50.0,32.0,26.0,15.0,33.0,null,26.0,61.0,24.0,30.0,24.0,24.0,41.0,20.0,22.0,63.0,18.0,21.0,79.0,56.0,13.0,33.0,32.0,31.0,26.0,18.0,38.0,23.0,28.0,34.0,0.0,14.0,23.0,49.0,14.0,18.0,27.0,48.0,31.0,61.0,18.0,45.0,22.0,30.0,30.0,32.0,43.0,17.0,23.0,20.0,39.0,35.0,31.0,21.0,16.0,60.0,18.0,42.0,68.0,22.0,59.0,null,37.0,3.0,31.0,31.0,29.0,20.0,46.0,29.0,43.0,17.0,27.0,47.0,45.0,17.0,10.0,56.0,39.0,40.0,40.0,34.0,32.0,35.0,32.0,26.0,25.0,26.0,22.0,22.0,24.0,32.0,11.0,22.0,19.0,34.0,74.0,28.0,42.0,43.0,55.0,19.0,6.0,7.0,28.0,15.0,24.0,31.0,22.0,1.0,50.0,34.0,14.0,19.0,null,36.0,34.0,25.0,36.0,16.0,30.0,37.0,15.0,36.0,27.0,27.0,12.0,22.0,27.0,13.0,27.0,28.0,21.0,39.0,28.0,14.0,27.0,46.0,27.0,21.0,21.0,42.0,22.0,10.0,43.0,42.0,18.0,54.0,24.0,64.0,18.0,53.0,23.0,39.0,59.0,32.0,55.0,21.0,50.0,55.0,null,35.0,null,55.0,23.0,42.0,35.0,47.0,null,34.0,46.0,26.0,1.0,null,33.0,34.0,49.0,22.0,28.0,null,36.0,30.0,49.0,38.0,31.0,17.0,26.0,23.0,24.0,23.0,24.0,32.0,43.0,23.0,42.0,29.0,40.0,37.0,61.0,33.0,19.0,21.0,4.0,12.0,44.0,22.0,33.0,32.0,28.0,28.0,31.0,13.0,14.0,33.0,null,23.0,36.0,22.0,19.0,42.0,30.0,16.0,55.0,55.0,19.0,null,18.0,21.0,65.0,55.0,50.0,49.0,22.0,33.0,3.0,0.0,33.0,48.0,5.0,23.0,53.0,18.0,20.0,23.0,48.0,19.0,null,9.0,24.0,46.0,23.0,21.0,19.0,0.0,4.0,26.0,9.0,24.0,24.0,25.0,21.0,21.0,37.0,44.0,43.0,7.0,33.0,24.0,31.0,27.0,34.0,58.0,7.0,3.0,21.0,21.0,39.0,43.0,22.0,44.0,38.0,32.0,55.0,31.0,39.0,35.0,37.0,13.0,21.0,20.0,20.0,63.0,36.0,29.0,36.0,79.0,30.0,30.0,19.0,33.0,20.0,38.0,7.0,58.0,33.0,3.0,39.0,37.0,32.0,28.0,38.0,21.0,18.0,15.0,44.0,44.0,36.0,28.0,15.0,45.0,26.0,46.0,25.0,46.0,15.0,37.0,20.0,45.0,7.0,5.0,38.0,30.0,null,0.0,20.0,41.0,18.0,29.0,19.0,34.0,36.0,54.0,19.0,21.0,23.0,35.0,34.0,22.0,24.0,18.0,24.0,33.0,24.0,18.0,19.0,43.0,44.0,25.0,25.0,23.0,23.0,20.0,2.0,26.0,38.0,1.0,12.0,2.0,25.0,1.0,0.0,54.0,21.0,19.0,24.0,20.0,23.0,29.0,14.0,19.0,23.0,62.0,23.0,65.0,47.0,67.0,14.0,41.0,14.0,19.0,22.0,34.0,65.0,42.0,22.0,54.0,34.0,27.0,67.0,33.0,30.0,22.0,35.0,23.0,49.0,36.0,31.0,54.0,0.0,null,54.0,10.0,0.0,7.0,25.0,37.0,15.0,26.0,7.0,30.0,19.0,30.0,21.0,21.0,59.0,28.0,32.0,19.0,7.0,16.0,31.0,30.0,26.0,20.0,24.0,39.0,19.0,27.0,34.0,28.0,29.0,38.0,null,1.0,36.0,31.0,1.0,31.0,10.0,null,42.0,0.0,41.0,0.0,0.0,59.0,13.0,24.0,20.0,71.0,23.0,15.0,18.0,19.0,4.0,42.0,51.0,13.0,27.0,42.0,41.0,21.0,31.0,36.0,31.0,14.0,32.0,32.0,27.0,57.0,13.0,30.0,14.0,27.0,32.0,54.0,23.0,38.0,32.0,24.0,36.0,11.0,6.0,36.0,22.0,null,37.0,55.0,null,20.0,16.0,19.0,38.0,35.0,33.0,37.0,46.0,41.0,13.0,31.0,52.0,48.0,27.0,16.0,32.0,25.0,26.0,44.0,32.0,18.0,23.0,44.0,29.0,19.0,41.0,28.0,19.0,32.0,74.0,31.0,38.0,20.0,24.0,26.0,44.0,33.0,31.0,null,22.0,33.0,34.0,11.0,41.0,30.0,30.0,25.0,31.0,38.0,15.0,19.0,29.0,30.0,29.0,36.0,24.0,30.0,0.0,15.0,38.0,13.0,18.0,16.0,8.0,19.0,26.0,15.0,38.0,45.0,48.0,17.0,28.0,41.0,19.0,14.0,21.0,48.0,19.0,29.0,20.0,44.0,19.0,64.0,21.0,32.0,20.0,24.0,44.0,57.0,51.0,34.0,45.0,24.0,23.0,30.0,20.0,22.0,null,71.0,18.0,16.0,28.0,36.0,6.0,26.0,27.0,49.0,29.0,46.0,35.0,17.0,37.0,24.0,47.0,26.0,46.0,27.0,56.0,18.0,15.0,3.0,42.0,1.0,56.0,20.0,21.0,5.0,12.0,39.0,60.0,31.0,58.0,19.0,29.0,19.0,44.0,20.0,18.0,36.0,25.0,15.0,18.0,0.0,54.0,0.0,20.0,21.0,8.0,46.0,31.0,3.0,30.0,23.0,14.0,25.0,61.0,31.0,13.0,24.0,47.0,15.0,46.0,49.0,37.0,44.0,16.0,58.0,20.0,36.0,31.0,21.0,22.0,27.0,58.0,38.0,30.0,20.0,19.0,57.0,26.0,38.0,15.0,null,35.0,38.0,35.0,14.0,27.0,25.0,37.0,25.0,41.0,50.0,33.0,27.0,23.0,18.0,31.0,54.0,0.0,11.0,4.0,19.0,7.0,20.0,33.0,26.0,35.0,23.0,60.0,34.0,null,42.0,22.0,18.0,5.0,18.0,29.0,39.0,17.0,58.0,5.0,23.0,26.0,40.0,20.0,38.0,31.0,34.0,9.0,36.0,26.0,18.0,55.0,28.0,18.0,28.0,23.0,20.0,22.0,27.0,13.0,32.0,53.0,34.0,42.0,19.0,54.0,12.0,35.0,55.0,26.0,49.0,22.0,null,30.0,39.0,14.0,29.0,34.0,8.0,7.0,3.0,0.0,10.0,16.0,41.0,18.0,25.0,32.0,26.0,26.0,18.0,27.0,26.0,28.0,19.0,31.0,35.0,46.0,37.0,29.0,17.0,30.0,28.0,16.0,40.0,23.0,24.0,36.0,34.0,59.0,20.0,15.0,19.0,64.0,24.0,23.0,30.0,0.0,8.0,1.0,48.0,12.0,30.0,10.0,11.0,58.0,52.0,36.0,32.0,16.0,25.0,28.0,32.0,28.0,16.0,50.0,20.0,23.0,45.0,23.0,53.0,8.0,6.0,3.0,13.0,60.0,1.0,40.0,51.0,31.0,28.0,20.0,14.0,23.0,4.0,20.0,75.0,24.0,18.0,21.0,59.0,27.0,38.0,41.0,36.0,29.0,22.0,23.0,32.0,21.0,26.0,61.0,30.0,40.0,37.0,41.0,32.0,30.0,27.0,22.0,54.0,27.0,52.0,15.0,27.0,30.0,19.0,22.0,43.0,25.0,51.0,34.0,21.0,21.0,23.0,38.0,30.0,31.0,44.0,14.0,18.0,19.0,null,36.0,10.0,1.0,4.0,21.0,24.0,8.0,18.0,33.0,31.0,43.0,20.0,28.0,30.0,28.0,19.0,22.0,27.0,22.0,2.0,4.0,10.0,9.0,37.0,2.0,44.0,11.0,22.0,40.0,30.0,37.0,26.0,19.0,57.0,1.0,17.0,26.0,21.0,28.0,36.0,25.0,40.0,23.0,2.0,10.0,43.0,0.0,24.0,42.0,30.0,19.0,26.0,47.0,28.0,24.0,29.0,32.0,44.0,17.0,35.0,23.0,34.0,25.0,67.0,22.0,null,27.0,14.0,42.0,19.0,22.0,31.0,10.0,39.0,41.0,0.0,22.0,21.0,40.0,25.0,23.0,33.0,20.0,40.0,27.0,21.0,25.0,2.0,19.0,41.0,43.0,19.0,22.0,16.0,42.0,20.0,35.0,53.0,17.0,6.0,22.0,41.0,19.0,39.0,23.0,31.0,38.0,1.0,13.0,21.0,44.0,36.0,19.0,7.0,39.0,28.0,28.0,14.0,18.0,23.0,33.0,18.0,47.0,42.0,17.0,21.0,17.0,26.0,23.0,15.0,18.0,65.0,33.0,27.0,41.0,42.0,null,37.0,17.0,24.0,39.0,59.0,32.0,29.0,8.0,28.0,35.0,24.0,1.0,4.0,28.0,46.0,67.0,44.0,14.0,23.0,51.0,20.0,0.0,0.0,23.0,24.0,41.0,30.0,27.0,13.0,16.0,30.0,8.0,59.0,43.0,30.0,46.0,39.0,21.0,70.0,34.0,33.0,44.0,16.0,63.0,37.0,29.0,29.0,22.0,26.0,76.0,61.0,46.0,19.0,13.0,null,30.0,23.0,63.0,21.0,32.0,33.0,39.0,49.0,27.0,16.0,38.0,42.0,19.0,26.0,32.0,56.0,0.0,38.0,30.0,21.0,11.0,3.0,17.0,35.0,17.0,0.0,46.0,63.0,35.0,61.0,19.0,43.0,14.0,78.0,21.0,32.0,31.0,40.0,13.0,36.0,31.0,18.0,40.0,28.0,41.0,35.0,14.0,20.0,23.0,22.0,25.0,18.0,25.0,30.0,46.0,27.0,53.0,21.0,32.0,32.0,33.0,26.0,47.0,13.0,34.0,21.0,20.0,21.0,51.0,18.0,26.0,53.0,30.0,37.0,45.0,62.0,38.0,24.0,18.0,23.0,16.0,37.0,22.0,18.0,25.0,26.0,25.0,55.0,28.0,23.0,22.0,26.0,13.0,18.0,38.0,28.0,57.0,0.0,18.0,25.0,35.0,37.0,33.0,35.0,47.0,23.0,null,27.0,23.0,31.0,19.0,53.0,37.0,18.0,42.0,7.0,7.0,24.0,20.0,24.0,42.0,49.0,47.0,16.0,26.0,24.0,38.0,0.0,37.0,39.0,25.0,25.0,35.0,0.0,46.0,4.0,19.0,29.0,19.0,47.0,1.0,4.0,37.0,61.0,32.0,4.0,16.0,25.0,22.0,41.0,25.0,19.0,21.0,14.0,18.0,34.0,33.0,14.0,28.0,43.0,3.0,0.0,47.0,28.0,40.0,17.0,21.0,null,41.0,20.0,56.0,57.0,48.0,37.0,20.0,36.0,38.0,22.0,31.0,0.0,21.0,49.0,44.0,null,29.0,16.0,20.0,26.0,19.0,34.0,38.0,51.0,7.0,3.0,26.0,27.0,7.0,19.0,28.0,27.0,31.0,26.0,43.0,23.0,14.0,47.0,17.0,64.0,13.0,18.0,29.0,70.0,23.0,23.0,35.0,17.0,26.0,15.0,19.0,20.0,51.0,17.0,27.0,43.0,5.0,17.0,40.0,38.0,20.0,13.0,15.0,15.0,59.0,24.0,null,52.0,38.0,26.0,17.0,17.0,20.0,15.0,30.0,22.0,18.0,22.0,20.0,22.0,34.0,28.0,50.0,19.0,21.0,0.0,4.0,59.0,15.0,24.0,26.0,67.0,55.0,50.0,23.0,21.0,15.0,41.0,59.0,18.0,21.0,14.0,50.0,32.0,46.0,null,58.0,15.0,35.0,30.0,30.0,43.0,21.0,15.0,37.0,28.0,28.0,40.0,42.0,21.0,31.0,51.0,73.0,26.0,33.0,39.0,19.0,12.0,10.0,0.0,0.0,1.0,33.0,23.0,5.0,24.0,26.0,30.0,33.0,56.0,25.0,null,25.0,18.0,60.0,41.0,16.0,17.0,26.0,31.0,67.0,16.0,24.0,19.0,48.0,30.0,22.0,28.0,23.0,29.0,22.0,48.0,26.0,23.0,55.0,46.0,38.0,2.0,3.0,20.0,65.0,null,25.0,54.0,25.0,14.0,53.0,0.0,39.0,22.0,31.0,24.0,35.0,35.0,32.0,61.0,58.0,26.0,4.0,1.0,8.0,7.0,25.0,6.0,29.0,64.0,31.0,25.0,30.0,0.0,29.0,37.0,49.0,36.0,20.0,20.0,18.0,17.0,48.0,26.0,35.0,30.0,22.0,5.0,43.0,52.0,50.0,29.0,19.0,39.0,38.0,21.0,25.0,42.0,36.0,19.0,42.0,40.0,14.0,50.0,18.0,46.0,null,15.0,22.0,0.0,52.0,38.0,46.0,23.0,63.0,24.0,50.0,20.0,55.0,21.0,56.0,45.0,18.0,47.0,36.0,57.0,13.0,27.0,20.0,47.0,15.0,34.0,21.0,51.0,23.0,58.0,37.0,44.0,25.0,15.0,40.0,29.0,36.0,21.0,35.0,24.0,2.0,0.0,43.0,63.0,30.0,38.0,27.0,54.0,39.0,41.0,22.0,23.0,34.0,26.0,39.0,15.0,64.0,25.0,35.0,19.0,26.0,3.0,29.0,44.0,27.0,17.0,37.0,19.0,44.0,22.0,22.0,21.0,31.0,17.0,30.0,15.0,42.0,55.0,28.0,33.0,19.0,24.0,4.0,2.0,30.0,31.0,17.0,40.0,33.0,46.0,30.0,17.0,19.0,22.0,20.0,36.0,0.0,17.0,null,15.0,20.0,19.0,24.0,43.0,26.0,42.0,21.0,50.0,25.0,64.0,50.0,24.0,27.0,42.0,30.0,20.0,31.0,26.0,39.0,null,32.0,25.0,6.0,3.0,11.0,52.0,14.0,68.0,18.0,55.0,22.0,34.0,17.0,38.0,13.0,19.0,30.0,27.0,17.0,45.0,28.0,23.0,24.0,23.0,29.0,46.0,17.0,20.0,24.0,40.0,null,38.0,65.0,19.0,54.0,38.0,40.0,21.0,22.0,33.0,18.0,43.0,13.0,26.0,22.0,21.0,25.0,29.0,49.0,29.0,45.0,45.0,30.0,29.0,26.0,16.0,20.0,33.0,18.0,24.0,29.0,40.0,27.0,35.0,31.0,26.0,49.0,23.0,23.0,14.0,21.0,18.0,null,19.0,22.0,17.0,13.0,26.0,null,16.0,20.0,20.0,23.0,61.0,27.0,3.0,4.0,13.0,19.0,18.0,66.0,39.0,21.0,7.0,56.0,15.0,null,13.0,18.0,38.0,45.0,21.0,19.0,49.0,21.0,18.0,43.0,27.0,0.0,27.0,21.0,20.0,35.0,20.0,24.0,41.0,23.0,27.0,58.0,53.0,30.0,24.0,31.0,46.0,20.0,20.0,30.0,24.0,34.0,20.0,48.0,25.0,43.0,27.0,47.0,26.0,37.0,42.0,61.0,29.0,32.0,51.0,43.0,25.0,31.0,13.0,20.0,29.0,16.0,15.0,50.0,41.0,43.0,32.0,36.0,18.0,47.0,29.0,null,14.0,25.0,63.0,22.0,32.0,31.0,24.0,39.0,20.0,20.0,19.0,20.0,31.0,17.0,24.0,27.0,28.0,41.0,25.0,26.0,27.0,22.0,62.0,58.0,37.0,54.0,26.0,44.0,34.0,47.0,27.0,22.0,46.0,29.0,43.0,42.0,39.0,30.0,43.0,19.0,26.0,46.0,3.0,21.0,1.0,22.0,27.0,28.0,36.0,19.0,18.0,47.0,18.0,6.0,20.0,18.0,37.0,22.0,37.0,6.0,36.0,46.0,75.0,37.0,22.0,33.0,35.0,19.0,34.0,23.0,37.0,24.0,54.0,52.0,60.0,1.0,null,22.0,27.0,48.0,47.0,25.0,49.0,33.0,67.0,5.0,60.0,56.0,59.0,44.0,33.0,28.0,29.0,13.0,34.0,45.0,39.0,18.0,57.0,null,25.0,22.0,32.0,29.0,21.0,16.0,45.0,44.0,27.0,26.0,46.0,24.0,15.0,53.0,28.0,11.0,7.0,0.0,15.0,31.0,9.0,44.0,35.0,30.0,13.0,45.0,4.0,21.0,20.0,24.0,3.0,29.0,28.0,44.0,50.0,35.0,19.0,22.0,30.0,36.0,20.0,22.0,22.0,32.0,35.0,41.0,57.0,3.0,11.0,4.0,17.0,30.0,11.0,23.0,58.0,22.0,24.0,20.0,37.0,49.0,46.0,30.0,36.0,21.0,25.0,42.0,13.0,25.0,29.0,17.0,36.0,44.0,18.0,22.0,22.0,43.0,29.0,24.0,18.0,42.0,43.0,32.0,15.0,22.0,20.0,34.0,70.0,18.0,26.0,17.0,13.0,19.0,32.0,33.0,21.0,23.0,24.0,17.0,34.0,31.0,43.0,43.0,33.0,28.0,27.0,7.0,16.0,42.0,27.0,19.0,42.0,13.0,16.0,21.0,28.0,69.0,15.0,48.0,42.0,42.0,23.0,26.0,45.0,30.0,36.0,null,35.0,21.0,50.0,52.0,21.0,41.0,35.0,26.0,17.0,69.0,27.0,25.0,27.0,25.0,36.0,14.0,27.0,22.0,24.0,null,4.0,19.0,19.0,38.0,39.0,23.0,57.0,18.0,43.0,28.0,33.0,37.0,28.0,28.0,18.0,29.0,29.0,28.0,24.0,59.0,43.0,20.0,23.0,27.0,38.0,38.0,48.0,25.0,25.0,24.0,69.0,20.0,18.0,28.0,23.0,24.0,44.0,29.0,6.0,42.0,78.0,36.0,37.0,41.0,18.0,62.0,0.0,55.0,16.0,32.0,19.0,7.0,4.0,30.0,24.0,34.0,30.0,3.0,32.0,55.0,0.0,51.0,0.0,21.0,2.0,19.0,24.0,20.0,42.0,17.0,32.0,28.0,21.0,56.0,28.0,42.0,18.0,24.0,20.0,22.0,22.0,21.0,28.0,26.0,50.0,26.0,30.0,29.0,8.0,45.0,35.0,18.0,23.0,29.0,18.0,28.0,34.0,0.0,4.0,28.0,8.0,20.0,20.0,25.0,31.0,37.0,21.0,24.0,34.0,0.0,25.0,43.0,null,45.0,63.0,17.0,35.0,12.0,null,17.0,32.0,23.0,17.0,34.0,15.0,14.0,22.0,19.0,40.0,25.0,51.0,22.0,50.0,26.0,39.0,18.0,22.0,26.0,19.0,16.0,24.0,34.0,55.0,42.0,14.0,28.0,26.0,33.0,24.0,23.0,16.0,36.0,44.0,22.0,30.0,20.0,21.0,14.0,27.0,19.0,21.0,null,13.0,71.0,28.0,18.0,23.0,34.0,20.0,17.0,21.0,33.0,34.0,51.0,21.0,null,31.0,36.0,39.0,26.0,51.0,24.0,27.0,31.0,24.0,57.0,36.0,55.0,null,18.0,27.0,50.0,24.0,20.0,24.0,18.0,44.0,27.0,58.0,29.0,23.0,3.0,0.0,33.0,12.0,44.0,20.0,59.0,18.0,72.0,23.0,11.0,1.0,25.0,25.0,24.0,54.0,17.0,48.0,40.0,2.0,32.0,15.0,52.0,16.0,16.0,16.0,6.0,10.0,27.0,45.0,26.0,29.0,38.0,19.0,43.0,15.0,31.0,52.0,49.0,29.0,18.0,41.0,9.0,null,58.0,39.0,13.0,36.0,23.0,24.0,33.0,18.0,2.0,0.0,36.0,15.0,31.0,42.0,27.0,36.0,0.0,3.0,22.0,56.0,23.0,25.0,29.0,17.0,13.0,35.0,53.0,24.0,38.0,21.0,29.0,46.0,58.0,53.0,21.0,27.0,31.0,23.0,41.0,29.0,54.0,43.0,36.0,48.0,34.0,42.0,17.0,22.0,37.0,38.0,21.0,23.0,27.0,23.0,19.0,28.0,33.0,24.0,0.0,41.0,19.0,44.0,43.0,14.0,18.0,25.0,0.0,4.0,24.0,38.0,44.0,57.0,3.0,5.0,3.0,18.0,8.0,21.0,35.0,47.0,28.0,49.0,23.0,19.0,34.0,40.0,26.0,23.0,22.0,51.0,44.0,50.0,28.0,13.0,21.0,20.0,14.0,38.0,29.0,36.0,16.0,40.0,null,18.0,17.0,32.0,27.0,34.0,53.0,36.0,41.0,51.0,61.0,59.0,17.0,27.0,57.0,39.0,55.0,42.0,36.0,42.0,32.0,6.0,15.0,28.0,37.0,44.0,71.0,44.0,36.0,18.0,3.0,12.0,0.0,29.0,9.0,27.0,24.0,38.0,28.0,26.0,16.0,24.0,33.0,24.0,29.0,25.0,0.0,13.0,7.0,32.0,34.0,49.0,43.0,0.0,6.0,23.0,43.0,23.0,43.0,41.0,54.0,51.0,44.0,48.0,45.0,20.0,33.0,21.0,68.0,23.0,16.0,35.0,22.0,51.0,2.0,29.0,0.0,39.0,55.0,22.0,20.0,25.0,18.0,28.0,26.0,28.0,54.0,56.0,25.0,26.0,14.0,21.0,43.0,37.0,null,38.0,14.0,20.0,33.0,33.0,13.0,37.0,15.0,33.0,24.0,49.0,24.0,24.0,26.0,40.0,31.0,47.0,19.0,38.0,33.0,45.0,1.0,32.0,70.0,19.0,55.0,48.0,66.0,13.0,40.0,35.0,32.0,51.0,37.0,31.0,37.0,38.0,19.0,33.0,19.0,31.0,43.0,22.0,24.0,21.0,14.0,30.0,22.0,11.0,4.0,0.0,30.0,21.0,40.0,57.0,35.0,32.0,32.0,30.0,69.0,21.0,17.0,16.0,25.0,25.0,52.0,13.0,37.0,13.0,45.0,55.0,22.0,39.0,35.0,19.0,7.0,19.0,21.0,37.0,35.0,22.0,62.0,41.0,16.0,26.0,36.0,null,22.0,40.0,50.0,57.0,15.0,23.0,60.0,73.0,35.0,28.0,27.0,14.0,26.0,22.0,22.0,71.0,25.0,27.0,1.0,52.0,0.0,30.0,52.0,12.0,22.0,24.0,22.0,15.0,21.0,56.0,50.0,20.0,32.0,28.0,74.0,25.0,31.0,6.0,17.0,12.0,47.0,46.0,31.0,36.0,15.0,38.0,48.0,21.0,4.0,31.0,31.0,62.0,29.0,30.0,26.0,43.0,32.0,24.0,49.0,21.0,18.0,18.0,14.0,21.0,25.0,56.0,0.0,55.0,14.0,13.0,43.0,39.0,null,24.0,26.0,22.0,26.0,19.0,38.0,38.0,77.0,28.0,22.0,20.0,18.0,10.0,34.0,43.0,31.0,40.0,25.0,68.0,20.0,27.0,1.0,60.0,28.0,11.0,0.0,9.0,38.0,18.0,40.0,21.0,24.0,26.0,47.0,46.0,55.0,50.0,10.0,17.0,20.0,37.0,24.0,43.0,0.0,24.0,22.0,14.0,3.0,22.0,23.0,56.0,36.0,58.0,1.0,39.0,33.0,19.0,null,33.0,17.0,28.0,21.0,45.0,62.0,43.0,27.0,1.0,31.0,18.0,21.0,7.0,22.0,26.0,30.0,17.0,null,10.0,25.0,21.0,53.0,21.0,28.0,20.0,54.0,9.0,20.0,19.0,32.0,22.0,35.0,26.0,51.0,8.0,40.0,2.0,19.0,32.0,16.0,64.0,35.0,33.0,9.0,21.0,28.0,28.0,31.0,32.0,43.0,60.0,43.0,43.0,19.0,21.0,38.0,17.0,29.0,2.0,22.0,18.0,16.0,52.0,52.0,14.0,25.0,34.0,20.0,28.0,null,20.0,44.0,64.0,27.0,24.0,38.0,47.0,8.0,1.0,0.0,20.0,41.0,35.0,31.0,14.0,25.0,26.0,26.0,30.0,49.0,19.0,15.0,27.0,39.0,32.0,11.0,44.0,36.0,56.0,42.0,40.0,53.0,31.0,14.0,31.0,42.0,32.0,34.0,55.0,42.0,40.0,48.0,37.0,17.0,60.0,19.0,30.0,32.0,28.0,26.0,24.0,47.0,32.0,73.0,17.0,47.0,null,13.0,22.0,61.0,19.0,45.0,18.0,32.0,52.0,25.0,9.0,18.0,26.0,20.0,6.0,5.0,40.0,20.0,18.0,42.0,14.0,33.0,23.0,35.0,53.0,56.0,35.0,18.0,25.0,20.0,44.0,26.0,23.0,39.0,25.0,42.0,20.0,4.0,64.0,0.0,19.0,6.0,23.0,22.0,18.0,21.0,37.0,24.0,38.0,11.0,6.0,49.0,55.0,15.0,19.0,16.0,48.0,25.0,23.0,27.0,39.0,28.0,72.0,47.0,65.0,40.0,18.0,27.0,21.0,37.0,31.0,33.0,53.0,27.0,74.0,null,23.0,74.0,23.0,26.0,0.0,0.0,24.0,28.0,17.0,26.0,39.0,17.0,15.0,37.0,38.0,33.0,16.0,41.0,7.0,20.0,44.0,42.0,29.0,22.0,21.0,21.0,21.0,13.0,16.0,36.0,36.0,26.0,28.0,14.0,29.0,19.0,51.0,64.0,41.0,null,16.0,20.0,31.0,38.0,59.0,18.0,33.0,33.0,49.0,4.0,0.0,0.0,24.0,52.0,50.0,31.0,25.0,62.0,49.0,24.0,33.0,20.0,46.0,26.0,52.0,28.0,39.0,29.0,19.0,15.0,33.0,47.0,34.0,26.0,15.0,null,27.0,38.0,21.0,1.0,38.0,0.0,32.0,27.0,48.0,22.0,28.0,19.0,37.0,46.0,26.0,16.0,0.0,0.0,26.0,13.0,23.0,70.0,21.0,40.0,18.0,23.0,15.0,28.0,45.0,18.0,23.0,36.0,25.0,28.0,29.0,31.0,14.0,31.0,39.0,17.0,56.0,36.0,21.0,48.0,53.0,5.0,21.0,50.0,18.0,28.0,28.0,18.0,37.0,19.0,27.0,37.0,43.0,17.0,21.0,55.0,14.0,24.0,26.0,19.0,20.0,14.0,19.0,15.0,25.0,24.0,22.0,26.0,23.0,20.0,53.0,55.0,22.0,35.0,40.0,22.0,22.0,21.0,64.0,40.0,8.0,25.0,19.0,24.0,11.0,31.0,46.0,31.0,17.0,16.0,57.0,28.0,27.0,28.0,26.0,17.0,36.0,24.0,18.0,20.0,10.0,null,23.0,36.0,27.0,54.0,38.0,29.0,37.0,36.0,18.0,28.0,61.0,19.0,29.0,37.0,29.0,38.0,41.0,23.0,48.0,0.0,46.0,36.0,42.0,null,16.0,43.0,40.0,22.0,39.0,37.0,28.0,29.0,14.0,15.0,17.0,4.0,24.0,null,22.0,38.0,30.0,29.0,26.0,41.0,50.0,34.0,24.0,24.0,45.0,35.0,23.0,23.0,21.0,19.0,24.0,2.0,0.0,20.0,35.0,34.0,26.0,26.0,32.0,25.0,30.0,57.0,23.0,32.0,27.0,20.0,21.0,19.0,16.0,18.0,18.0,22.0,null,35.0,8.0,5.0,40.0,31.0,9.0,56.0,39.0,18.0,45.0,33.0,2.0,1.0,2.0,16.0,18.0,28.0,45.0,24.0,35.0,16.0,40.0,5.0,29.0,31.0,27.0,34.0,15.0,43.0,30.0,61.0,48.0,17.0,19.0,29.0,2.0,24.0,19.0,34.0,19.0,39.0,26.0,53.0,18.0,null,45.0,32.0,18.0,48.0,24.0,52.0,55.0,43.0,24.0,8.0,18.0,38.0,18.0,23.0,26.0,21.0,45.0,24.0,44.0,20.0,47.0,16.0,28.0,8.0,20.0,22.0,42.0,23.0,30.0,18.0,35.0,42.0,46.0,29.0,35.0,48.0,24.0,38.0,51.0,77.0,22.0,38.0,42.0,55.0,7.0,null,25.0,15.0,13.0,23.0,null,33.0,26.0,67.0,27.0,33.0,18.0,36.0,18.0,51.0,54.0,33.0,18.0,57.0,23.0,24.0,20.0,32.0,21.0,null,41.0,27.0,49.0,18.0,34.0,73.0,40.0,63.0,21.0,21.0,23.0,31.0,41.0,15.0,36.0,24.0,27.0,24.0,19.0,25.0,39.0,15.0,31.0,25.0,57.0,null,18.0,33.0,23.0,34.0,38.0,21.0,31.0,13.0,54.0,13.0,18.0,null,43.0,56.0,63.0,9.0,9.0,0.0,16.0,42.0,9.0,22.0,47.0,30.0,29.0,null,22.0,19.0,31.0,17.0,38.0,13.0,36.0,0.0,21.0,18.0,36.0,27.0,5.0,18.0,25.0,14.0,23.0,2.0,1.0,7.0,6.0,56.0,4.0,65.0,36.0,25.0,41.0,20.0,18.0,15.0,23.0,29.0,33.0,14.0,55.0,30.0,21.0,26.0,33.0,18.0,9.0,0.0,19.0,18.0,38.0,42.0,28.0,37.0,29.0,42.0,18.0,34.0,34.0,18.0,24.0,24.0,56.0,2.0,12.0,37.0,60.0,55.0,20.0,28.0,28.0,37.0,18.0,14.0,29.0,51.0,45.0,45.0,41.0,21.0,28.0,0.0,46.0,41.0,13.0,55.0,20.0,21.0,49.0,27.0,0.0,22.0,17.0,23.0,44.0,29.0,19.0,3.0,29.0,19.0,22.0,33.0,null,50.0,54.0,43.0,17.0,26.0,44.0,51.0,29.0,4.0,40.0,27.0,8.0,3.0,11.0,24.0,25.0,28.0,25.0,27.0,25.0,0.0,58.0,3.0,4.0,2.0,34.0,5.0,3.0,46.0,22.0,8.0,17.0,4.0,12.0,40.0,16.0,41.0,8.0,14.0,2.0,59.0,45.0,52.0,33.0,51.0,38.0,14.0,42.0,28.0,34.0,21.0,30.0,null,26.0,23.0,20.0,59.0,37.0,32.0,37.0,27.0,42.0,29.0,2.0,10.0,0.0,21.0,8.0,null,27.0,13.0,49.0,38.0,21.0,22.0,14.0,24.0,24.0,34.0,1.0,null,26.0,null,32.0,2.0,10.0,49.0,14.0,29.0,25.0,36.0,22.0,21.0,36.0,54.0,30.0,0.0,1.0,42.0,47.0,25.0,18.0,22.0,27.0,24.0,null,22.0,60.0,38.0,23.0,21.0,55.0,20.0,50.0,22.0,21.0,26.0,36.0,46.0,26.0,24.0,14.0,46.0,15.0,30.0,null,38.0,48.0,31.0,41.0,43.0,23.0,48.0,47.0,19.0,25.0,28.0,16.0,45.0,31.0,19.0,21.0,null,22.0,23.0,54.0,0.0,4.0,23.0,19.0,34.0,18.0,40.0,58.0,39.0,23.0,11.0,43.0,29.0,36.0,13.0,54.0,45.0,33.0,46.0,15.0,35.0,23.0,15.0,27.0,15.0,27.0,16.0,37.0,45.0,58.0,null,38.0,28.0,47.0,41.0,28.0,23.0,24.0,58.0,36.0,24.0,56.0,15.0,19.0,27.0,47.0,37.0,39.0,20.0,20.0,38.0,46.0,13.0,24.0,32.0,null,44.0,19.0,30.0,23.0,4.0,0.0,17.0,44.0,31.0,41.0,33.0,43.0,43.0,36.0,19.0,24.0,17.0,23.0,17.0,18.0,34.0,13.0,66.0,27.0,19.0,55.0,40.0,23.0,7.0,12.0,37.0,22.0,25.0,46.0,37.0,50.0,28.0,26.0,28.0,23.0,23.0,34.0,65.0,20.0,29.0,30.0,3.0,40.0,32.0,31.0,13.0,29.0,28.0,19.0,24.0,22.0,13.0,21.0,24.0,47.0,27.0,18.0,36.0,68.0,31.0,28.0,36.0,17.0,13.0,30.0,58.0,43.0,20.0,29.0,15.0,30.0,33.0,25.0,62.0,41.0,27.0,18.0,27.0,19.0,37.0,24.0,29.0,44.0,19.0,39.0,63.0,39.0,41.0,27.0,56.0,22.0,26.0,24.0,18.0,13.0,32.0,30.0,25.0,55.0,19.0,24.0,32.0,24.0,32.0,36.0,28.0,52.0,29.0,23.0,32.0,35.0,41.0,16.0,33.0,6.0,15.0,38.0,56.0,4.0,21.0,22.0,37.0,6.0,22.0,26.0,22.0,20.0,null,24.0,25.0,48.0,24.0,3.0,24.0,25.0,1.0,20.0,22.0,28.0,17.0,28.0,47.0,34.0,29.0,14.0,36.0,40.0,49.0,51.0,41.0,44.0,47.0,22.0,13.0,18.0,28.0,22.0,50.0,47.0,55.0,21.0,39.0,21.0,37.0,31.0,23.0,28.0,23.0,20.0,28.0,40.0,54.0,18.0,27.0,43.0,25.0,13.0,15.0,37.0,32.0,19.0,21.0,27.0,39.0,22.0,25.0,34.0,54.0,42.0,36.0,43.0,23.0,57.0,54.0,51.0,32.0,33.0,8.0,44.0,27.0,48.0,13.0,5.0,18.0,23.0,23.0,35.0,25.0,32.0,0.0,5.0,16.0,18.0,29.0,55.0,41.0,38.0,27.0,55.0,75.0,50.0,23.0,37.0,33.0,45.0,47.0,13.0,29.0,19.0,30.0,39.0,31.0,29.0,16.0,18.0,38.0,50.0,21.0,22.0,20.0,36.0,23.0,31.0,39.0,50.0,40.0,28.0,38.0,37.0,59.0,41.0,33.0,54.0,40.0,43.0,26.0,65.0,22.0,28.0,35.0,30.0,28.0,23.0,24.0,16.0,18.0,20.0,29.0,29.0,21.0,2.0,43.0,28.0,31.0,23.0,26.0,43.0,28.0,24.0,27.0,13.0,27.0,2.0,24.0,2.0,50.0,27.0,26.0,31.0,28.0,4.0,9.0,0.0,35.0,3.0,25.0,63.0,34.0,35.0,26.0,39.0,34.0,36.0,46.0,26.0,28.0,20.0,35.0,11.0,14.0,4.0,11.0,31.0,15.0,39.0,7.0,24.0,22.0,26.0,53.0,40.0,19.0,54.0,21.0,25.0,48.0,41.0,13.0,57.0,25.0,48.0,34.0,16.0,0.0,15.0,37.0,37.0,49.0,18.0,25.0,null,43.0,20.0,54.0,30.0,37.0,30.0,20.0,20.0,24.0,44.0,0.0,15.0,19.0,20.0,20.0,34.0,17.0,20.0,42.0,28.0,43.0,55.0,21.0,17.0,54.0,25.0,null,45.0,31.0,19.0,30.0,24.0,null,42.0,29.0,37.0,64.0,24.0,23.0,22.0,23.0,21.0,37.0,17.0,35.0,33.0,37.0,32.0,31.0,null,34.0,9.0,25.0,29.0,1.0,30.0,64.0,31.0,27.0,null,25.0,28.0,32.0,36.0,26.0,36.0,37.0,45.0,22.0,24.0,23.0,31.0,37.0,28.0,23.0,14.0,40.0,42.0,53.0,46.0,28.0,25.0,34.0,58.0,31.0,24.0,52.0,25.0,17.0,27.0,29.0,45.0,28.0,25.0,57.0,68.0,26.0,52.0,36.0,41.0,14.0,16.0,24.0,62.0,26.0,45.0,41.0,36.0,13.0,48.0,null,22.0,39.0,45.0,42.0,33.0,27.0,47.0,20.0,32.0,54.0,23.0,9.0,17.0,26.0,38.0,24.0,30.0,2.0,4.0,9.0,30.0,5.0,2.0,32.0,53.0,46.0,2.0,1.0,11.0,3.0,33.0,3.0,38.0,21.0,41.0,64.0,27.0,41.0,19.0,42.0,30.0,38.0,63.0,17.0,2.0,19.0,37.0,50.0,38.0,28.0,35.0,27.0,15.0,29.0,65.0,27.0,0.0,21.0,19.0,39.0,60.0,30.0,30.0,40.0,26.0,38.0,22.0,null,65.0,61.0,20.0,24.0,16.0,35.0,21.0,23.0,17.0,24.0,27.0,26.0,26.0,20.0,28.0,37.0,23.0,49.0,50.0,4.0,32.0,44.0,20.0,30.0,29.0,22.0,35.0,0.0,6.0,38.0,34.0,34.0,null,53.0,28.0,31.0,56.0,36.0,30.0,32.0,44.0,54.0,24.0,44.0,25.0,35.0,29.0,22.0,22.0,22.0,18.0,22.0,52.0,0.0,1.0,34.0,6.0,22.0,31.0,31.0,20.0,25.0,23.0,53.0,32.0,27.0,48.0,37.0,21.0,29.0,46.0,19.0,22.0,54.0,43.0,18.0,36.0,20.0,63.0,50.0,13.0,43.0,16.0,31.0,0.0,10.0,10.0,55.0,18.0,7.0,1.0,44.0,27.0,20.0,49.0,22.0,21.0,26.0,65.0,20.0,0.0,16.0,22.0,0.0,21.0,30.0,14.0,45.0,22.0,21.0,37.0,29.0,29.0,21.0,52.0,36.0,59.0,21.0,25.0,23.0,36.0,38.0,0.0,19.0,30.0,23.0,55.0,44.0,30.0,39.0,19.0,24.0,37.0,24.0,17.0,17.0,14.0,13.0,35.0,32.0,18.0,21.0,25.0,36.0,20.0,22.0,27.0,null,38.0,23.0,21.0,18.0,20.0,28.0,57.0,10.0,23.0,22.0,24.0,52.0,31.0,15.0,40.0,18.0,28.0,40.0,32.0,35.0,52.0,34.0,46.0,23.0,44.0,59.0,42.0,18.0,29.0,15.0,19.0,49.0,19.0,36.0,59.0,24.0,4.0,20.0,24.0,31.0,23.0,3.0,22.0,20.0,0.0,13.0,47.0,51.0,22.0,3.0,4.0,16.0,24.0,1.0,31.0,34.0,20.0,19.0,19.0,35.0,3.0,36.0,20.0,null,58.0,56.0,27.0,25.0,39.0,43.0,42.0,24.0,19.0,32.0,32.0,61.0,64.0,21.0,26.0,35.0,43.0,3.0,56.0,45.0,25.0,12.0,2.0,46.0,32.0,20.0,24.0,28.0,12.0,11.0,16.0,29.0,24.0,22.0,21.0,38.0,35.0,79.0,22.0,42.0,34.0,52.0,43.0,30.0,35.0,18.0,27.0,46.0,15.0,44.0,20.0,35.0,19.0,47.0,26.0,24.0,23.0,26.0,5.0,35.0,18.0,32.0,13.0,15.0,18.0,41.0,36.0,33.0,41.0,47.0,32.0,36.0,13.0,34.0,24.0,16.0,12.0,24.0,35.0,26.0,39.0,18.0,23.0,29.0,38.0,31.0,49.0,17.0,23.0,15.0,11.0,30.0,42.0,21.0,41.0,14.0,27.0,29.0,25.0,54.0,46.0,18.0,22.0,29.0,26.0,36.0,19.0,56.0,20.0,10.0,14.0,27.0,35.0,13.0,21.0,22.0,29.0,32.0,20.0,44.0,22.0,39.0,19.0,0.0,0.0,12.0,7.0,32.0,11.0,18.0,49.0,61.0,7.0,25.0,51.0,56.0,31.0,16.0,29.0,17.0,47.0,25.0,28.0,32.0,56.0,25.0,13.0,41.0,28.0,25.0,11.0,20.0,24.0,41.0,29.0,59.0,31.0,16.0,65.0,21.0,27.0,37.0,42.0,36.0,24.0,null,19.0,26.0,19.0,26.0,35.0,24.0,9.0,40.0,23.0,4.0,20.0,21.0,4.0,19.0,18.0,26.0,13.0,16.0,14.0,40.0,34.0,21.0,29.0,40.0,16.0,37.0,41.0,16.0,39.0,30.0,40.0,63.0,32.0,47.0,23.0,23.0,19.0,44.0,29.0,21.0,23.0,26.0,47.0,20.0,48.0,4.0,25.0,0.0,29.0,21.0,20.0,34.0,9.0,12.0,13.0,27.0,34.0,18.0,16.0,43.0,0.0,20.0,45.0,35.0,21.0,14.0,46.0,22.0,2.0,3.0,28.0,60.0,48.0,18.0,31.0,26.0,41.0,26.0,29.0,24.0,25.0,0.0,30.0,18.0,32.0,28.0,21.0,25.0,47.0,null,8.0,24.0,30.0,24.0,13.0,16.0,23.0,16.0,29.0,46.0,13.0,22.0,29.0,46.0,24.0,33.0,38.0,57.0,null,38.0,28.0,25.0,22.0,33.0,35.0,24.0,31.0,16.0,28.0,8.0,20.0,26.0,43.0,70.0,17.0,14.0,21.0,37.0,15.0,20.0,36.0,14.0,21.0,28.0,20.0,26.0,25.0,29.0,39.0,18.0,37.0,28.0,18.0,30.0,35.0,26.0,0.0,42.0,36.0,31.0,27.0,25.0,32.0,14.0,16.0,51.0,21.0,31.0,9.0,7.0,3.0,2.0,7.0,18.0,33.0,23.0,13.0,32.0,27.0,23.0,25.0,18.0,23.0,31.0,32.0,22.0,38.0,21.0,28.0,38.0,20.0,23.0,48.0,15.0,30.0,40.0,36.0,20.0,17.0,38.0,38.0,14.0,null,21.0,18.0,26.0,35.0,46.0,13.0,39.0,49.0,28.0,27.0,21.0,29.0,27.0,38.0,18.0,35.0,37.0,60.0,31.0,4.0,34.0,46.0,18.0,38.0,29.0,13.0,26.0,30.0,42.0,36.0,23.0,34.0,26.0,31.0,48.0,10.0,27.0,32.0,24.0,20.0,48.0,35.0,14.0,28.0,null,42.0,8.0,30.0,44.0,40.0,38.0,22.0,32.0,16.0,33.0,38.0,23.0,16.0,16.0,11.0,22.0,43.0,20.0,22.0,0.0,30.0,18.0,0.0,41.0,39.0,37.0,26.0,49.0,28.0,13.0,64.0,24.0,18.0,18.0,25.0,19.0,33.0,null,50.0,30.0,44.0,52.0,7.0,30.0,27.0,24.0,13.0,61.0,32.0,17.0,36.0,16.0,21.0,24.0,28.0,null,13.0,39.0,24.0,38.0,20.0,21.0,27.0,49.0,6.0,41.0,33.0,6.0,35.0,46.0,31.0,32.0,31.0,20.0,57.0,37.0,21.0,43.0,49.0,17.0,29.0,36.0,37.0,17.0,45.0,20.0,24.0,28.0,15.0,53.0,51.0,14.0,1.0,26.0,20.0,23.0,22.0,22.0,13.0,28.0,40.0,21.0,35.0,22.0,37.0,21.0,50.0,27.0,20.0,15.0,25.0,31.0,null,18.0,2.0,27.0,0.0,22.0,null,56.0,28.0,42.0,20.0,27.0,29.0,36.0,23.0,64.0,19.0,1.0,49.0,0.0,18.0,39.0,37.0,44.0,43.0,33.0,20.0,0.0,4.0,20.0,50.0,47.0,17.0,26.0,21.0,20.0,26.0,null,34.0,11.0,0.0,28.0,33.0,22.0,28.0,11.0,60.0,43.0,27.0,37.0,23.0,57.0,29.0,28.0,42.0,43.0,26.0,72.0,49.0,29.0,18.0,26.0,19.0,18.0,14.0,44.0,34.0,18.0,36.0,27.0,35.0,52.0,22.0,34.0,37.0,22.0,26.0,14.0,53.0,17.0,30.0,65.0,19.0,36.0,3.0,6.0,4.0,21.0,8.0,35.0,18.0,34.0,45.0,31.0,14.0,23.0,61.0,54.0,28.0,46.0,32.0,49.0,20.0,25.0,19.0,28.0,68.0,16.0,19.0,49.0,15.0,26.0,22.0,23.0,31.0,27.0,28.0,20.0,43.0,22.0,27.0,35.0,37.0,24.0,18.0,15.0,28.0,24.0,39.0,35.0,52.0,48.0,27.0,50.0,24.0,26.0,24.0,15.0,42.0,51.0,43.0,31.0,14.0,31.0,33.0,21.0,13.0,29.0,22.0,22.0,18.0,35.0,20.0,18.0,66.0,33.0,48.0,38.0,62.0,19.0,44.0,25.0,15.0,20.0,34.0,23.0,45.0,39.0,33.0,14.0,26.0,47.0,null,28.0,22.0,17.0,16.0,9.0,15.0,33.0,61.0,19.0,61.0,42.0,4.0,12.0,0.0,19.0,null,29.0,59.0,20.0,70.0,3.0,37.0,58.0,44.0,24.0,20.0,24.0,27.0,28.0,24.0,29.0,25.0,20.0,34.0,28.0,null,23.0,39.0,35.0,18.0,20.0,42.0,32.0,50.0,23.0,19.0,29.0,35.0,18.0,24.0,23.0,51.0,42.0,19.0,23.0,19.0,22.0,25.0,31.0,23.0,22.0,55.0,40.0,24.0,25.0,42.0,33.0,54.0,22.0,22.0,19.0,47.0,23.0,61.0,21.0,46.0,36.0,15.0,33.0,35.0,21.0,21.0,43.0,34.0,47.0,27.0,46.0,46.0,40.0,59.0,45.0,19.0,32.0,39.0,40.0,44.0,26.0,22.0,2.0,18.0,53.0,22.0,46.0,28.0,31.0,36.0,46.0,0.0,3.0,12.0,2.0,41.0,11.0,41.0,17.0,21.0,21.0,27.0,54.0,15.0,39.0,31.0,28.0,21.0,29.0,45.0,44.0,12.0,18.0,20.0,43.0,46.0,53.0,21.0,23.0,9.0,19.0,52.0,31.0,62.0,27.0,23.0,28.0,27.0,58.0,24.0,27.0,33.0,28.0,39.0,27.0,36.0,64.0,41.0,null,27.0,null,22.0,23.0,40.0,2.0,0.0,27.0,0.0,17.0,45.0,62.0,14.0,24.0,51.0,49.0,52.0,35.0,22.0,17.0,47.0,25.0,11.0,17.0,41.0,55.0,29.0,19.0,23.0,32.0,27.0,25.0,24.0,30.0,50.0,51.0,27.0,35.0,48.0,27.0,19.0,18.0,25.0,41.0,62.0,30.0,6.0,15.0,34.0,34.0,23.0,51.0,63.0,42.0,19.0,5.0,2.0,15.0,36.0,32.0,19.0,26.0,33.0,38.0,22.0,32.0,30.0,51.0,29.0,16.0,32.0,24.0,23.0,46.0,49.0,17.0,35.0,43.0,20.0,24.0,28.0,19.0,39.0,34.0,29.0,14.0,null,30.0,null,32.0,7.0,34.0,47.0,19.0,52.0,19.0,18.0,32.0,21.0,22.0,13.0,25.0,33.0,27.0,21.0,17.0,15.0,58.0,29.0,34.0,28.0,29.0,25.0,23.0,22.0,38.0,38.0,0.0,null,0.0,37.0,2.0,40.0,47.0,34.0,43.0,21.0,43.0,33.0,28.0,57.0,null,46.0,19.0,27.0,2.0,0.0,25.0,47.0,38.0,24.0,24.0,25.0,29.0,44.0,20.0,23.0,26.0,20.0,27.0,23.0,33.0,30.0,32.0,19.0,41.0,50.0,36.0,21.0,45.0,26.0,44.0,24.0,15.0,58.0,13.0,19.0,25.0,24.0,20.0,34.0,13.0,null,39.0,0.0,10.0,9.0,34.0,11.0,0.0,24.0,16.0,42.0,41.0,36.0,27.0,32.0,11.0,26.0,28.0,25.0,5.0,null,13.0,30.0,15.0,0.0,49.0,52.0,15.0,40.0,0.0,32.0,15.0,26.0,31.0,8.0,18.0,3.0,44.0,15.0,27.0,22.0,2.0,32.0,16.0,34.0,32.0,28.0,27.0,35.0,25.0,24.0,61.0,28.0,29.0,41.0,20.0,18.0,28.0,18.0,33.0,35.0,68.0,19.0,33.0,55.0,15.0,23.0,23.0,15.0,49.0,33.0,26.0,26.0,18.0,17.0,39.0,8.0,46.0,32.0,19.0,36.0,28.0,39.0,16.0,7.0,1.0,30.0,44.0,28.0,29.0,41.0,13.0,18.0,27.0,26.0,24.0,26.0,27.0,58.0,54.0,18.0,13.0,13.0,28.0,57.0,32.0,32.0,21.0,34.0,33.0,36.0,50.0,28.0,56.0,42.0,39.0,13.0,28.0,55.0,36.0,null,37.0,50.0,27.0,23.0,16.0,33.0,46.0,26.0,24.0,26.0,2.0,33.0,32.0,3.0,2.0,6.0,null,0.0,4.0,58.0,22.0,51.0,37.0,17.0,21.0,null,null,31.0,43.0,null,15.0,18.0,33.0,31.0,41.0,22.0,40.0,49.0,14.0,22.0,22.0,25.0,42.0,16.0,12.0,18.0,33.0,14.0,36.0,23.0,24.0,4.0,null,18.0,21.0,27.0,34.0,28.0,35.0,16.0,36.0,30.0,4.0,19.0,3.0,51.0,null,45.0,18.0,23.0,15.0,34.0,47.0,27.0,26.0,25.0,34.0,27.0,39.0,31.0,4.0,19.0,59.0,19.0,25.0,28.0,37.0,43.0,18.0,36.0,14.0,42.0,29.0,23.0,16.0,8.0,20.0,50.0,38.0,39.0,33.0,30.0,40.0,22.0,52.0,26.0,19.0,33.0,33.0,20.0,28.0,10.0,23.0,28.0,23.0,54.0,57.0,24.0,37.0,59.0,53.0,22.0,18.0,17.0,25.0,18.0,20.0,24.0,33.0,34.0,24.0,37.0,23.0,32.0,13.0,23.0,23.0,27.0,47.0,38.0,28.0,21.0,null,64.0,43.0,21.0,36.0,22.0,24.0,21.0,57.0,46.0,42.0,16.0,40.0,3.0,8.0,3.0,35.0,12.0,null,47.0,19.0,46.0,28.0,5.0,7.0,3.0,1.0,7.0,60.0,34.0,28.0,64.0,13.0,15.0,65.0,53.0,58.0,19.0,null,16.0,48.0,33.0,31.0,44.0,40.0,34.0,21.0,20.0,9.0,33.0,2.0,53.0,0.0,38.0,21.0,31.0,7.0,12.0,0.0,17.0,55.0,2.0,32.0,16.0,0.0,29.0,25.0,39.0,42.0,0.0,14.0,29.0,54.0,35.0,null,18.0,14.0,53.0,48.0,21.0,44.0,25.0,0.0,27.0,40.0,44.0,36.0,3.0,9.0,1.0,17.0,47.0,null,33.0,16.0,30.0,18.0,26.0,19.0,28.0,35.0,40.0,26.0,45.0,18.0,54.0,13.0,26.0,16.0,37.0,17.0,16.0,18.0,21.0,24.0,22.0,41.0,15.0,36.0,23.0,31.0,19.0,23.0,47.0,40.0,34.0,2.0,8.0,0.0,18.0,11.0,18.0,19.0,2.0,25.0,0.0,27.0,34.0,19.0,22.0,22.0,52.0,30.0,65.0,31.0,51.0,21.0,27.0,31.0,28.0,29.0,23.0,11.0,23.0,34.0,20.0,20.0,16.0,18.0,20.0,20.0,27.0,55.0,53.0,37.0,55.0,24.0,24.0,49.0,17.0,39.0,5.0,10.0,1.0,16.0,51.0,5.0,19.0,0.0,20.0,0.0,1.0,38.0,40.0,18.0,36.0,23.0,42.0,37.0,24.0,12.0,2.0,28.0,44.0,26.0,36.0,28.0,14.0,14.0,28.0,27.0,21.0,24.0,18.0,24.0,8.0,36.0,32.0,19.0,12.0,21.0,13.0,20.0,35.0,23.0,17.0,29.0,27.0,22.0,26.0,1.0,7.0,78.0,24.0,26.0,50.0,16.0,57.0,29.0,27.0,42.0,28.0,18.0,38.0,32.0,21.0,6.0,27.0,32.0,23.0,29.0,22.0,31.0,0.0,2.0,null,28.0,20.0,28.0,42.0,32.0,19.0,20.0,20.0,21.0,32.0,16.0,21.0,12.0,21.0,31.0,18.0,35.0,44.0,13.0,21.0,37.0,null,34.0,21.0,38.0,31.0,61.0,20.0,39.0,29.0,68.0,38.0,31.0,41.0,29.0,25.0,27.0,21.0,30.0,40.0,59.0,35.0,41.0,36.0,58.0,27.0,24.0,50.0,22.0,26.0,16.0,56.0,25.0,13.0,53.0,21.0,18.0,38.0,20.0,24.0,56.0,47.0,21.0,null,26.0,34.0,35.0,35.0,49.0,24.0,62.0,25.0,42.0,25.0,21.0,17.0,41.0,50.0,20.0,15.0,29.0,20.0,35.0,22.0,43.0,54.0,15.0,38.0,44.0,34.0,15.0,24.0,29.0,19.0,27.0,26.0,46.0,64.0,17.0,45.0,27.0,29.0,18.0,26.0,39.0,59.0,20.0,17.0,47.0,29.0,16.0,48.0,39.0,28.0,12.0,24.0,30.0,34.0,37.0,47.0,0.0,23.0,0.0,20.0,35.0,18.0,17.0,18.0,53.0,35.0,48.0,68.0,27.0,28.0,37.0,35.0,31.0,14.0,1.0,4.0,30.0,11.0,45.0,29.0,32.0,15.0,25.0,25.0,60.0,24.0,35.0,36.0,22.0,32.0,57.0,30.0,46.0,28.0,26.0,55.0,66.0,20.0,31.0,13.0,50.0,21.0,25.0,46.0,0.0,2.0,36.0,19.0,35.0,41.0,22.0,25.0,24.0,37.0,5.0,null,41.0,44.0,23.0,28.0,27.0,40.0,27.0,17.0,32.0,29.0,29.0,41.0,48.0,27.0,14.0,32.0,47.0,14.0,37.0,33.0,33.0,44.0,37.0,18.0,33.0,21.0,38.0,16.0,58.0,41.0,28.0,28.0,31.0,27.0,7.0,25.0,34.0,21.0,29.0,23.0,31.0,50.0,25.0,25.0,23.0,46.0,0.0,53.0,25.0,30.0,18.0,20.0,54.0,20.0,32.0,31.0,55.0,16.0,0.0,3.0,33.0,45.0,6.0,33.0,14.0,24.0,47.0,37.0,14.0,44.0,11.0,15.0,39.0,15.0,60.0,49.0,23.0,9.0,0.0,17.0,42.0,16.0,0.0,26.0,56.0,26.0,41.0,27.0,31.0,40.0,40.0,15.0,50.0,42.0,50.0,39.0,27.0,20.0,30.0,16.0,36.0,68.0,22.0,36.0,3.0,28.0,32.0,10.0,0.0,9.0,37.0,31.0,31.0,43.0,15.0,58.0,30.0,24.0,49.0,73.0,14.0,50.0,12.0,2.0,49.0,32.0,null,33.0,23.0,23.0,43.0,36.0,26.0,29.0,21.0,30.0,23.0,13.0,22.0,25.0,52.0,22.0,31.0,23.0,35.0,26.0,14.0,39.0,8.0,29.0,15.0,48.0,9.0,25.0,13.0,25.0,27.0,32.0,20.0,40.0,18.0,21.0,38.0,62.0,23.0,48.0,27.0,32.0,53.0,26.0,46.0,32.0,40.0,27.0,28.0,29.0,37.0,0.0,12.0,25.0,null,3.0,9.0,27.0,59.0,24.0,16.0,16.0,46.0,25.0,39.0,15.0,16.0,35.0,43.0,7.0,29.0,60.0,49.0,50.0,40.0,49.0,18.0,29.0,56.0,29.0,29.0,22.0,24.0,23.0,28.0,19.0,32.0,37.0,26.0,43.0,25.0,11.0,4.0,32.0,15.0,17.0,37.0,20.0,47.0,16.0,8.0,22.0,39.0,57.0,29.0,null,70.0,13.0,49.0,25.0,19.0,15.0,37.0,null,28.0,22.0,26.0,25.0,19.0,20.0,35.0,37.0,37.0,13.0,20.0,65.0,29.0,0.0,4.0,19.0,17.0,28.0,28.0,21.0,45.0,21.0,20.0,38.0,24.0,22.0,44.0,41.0,21.0,26.0,54.0,19.0,32.0,null,26.0,28.0,21.0,38.0,43.0,12.0,25.0,27.0,22.0,20.0,24.0,34.0,42.0,24.0,28.0,29.0,31.0,29.0,14.0,16.0,16.0,27.0,null,23.0,16.0,30.0,24.0,36.0,25.0,29.0,21.0,26.0,30.0,31.0,20.0,null,33.0,35.0,46.0,63.0,37.0,23.0,5.0,16.0,20.0,49.0,3.0,41.0,null,14.0,26.0,51.0,36.0,16.0,18.0,48.0,24.0,19.0,21.0,24.0,21.0,13.0,39.0,27.0,23.0,43.0,19.0,30.0,52.0,35.0,16.0,21.0,45.0,22.0,null,0.0,63.0,56.0,40.0,1.0,24.0,36.0,13.0,13.0,37.0,44.0,32.0,57.0,26.0,62.0,2.0,1.0,24.0,1.0,63.0,20.0,15.0,32.0,24.0,32.0,36.0,13.0,29.0,27.0,30.0,27.0,14.0,32.0,33.0,35.0,21.0,57.0,42.0,20.0,18.0,49.0,23.0,24.0,24.0,23.0,24.0,26.0,28.0,17.0,20.0,22.0,23.0,22.0,29.0,null,31.0,37.0,44.0,34.0,23.0,18.0,18.0,23.0,18.0,22.0,10.0,null,31.0,48.0,51.0,25.0,32.0,8.0,49.0,28.0,3.0,null,31.0,11.0,27.0,33.0,32.0,20.0,33.0,65.0,18.0,19.0,33.0,null,31.0,37.0,19.0,18.0,47.0,26.0,25.0,38.0,53.0,38.0,28.0,46.0,18.0,14.0,32.0,44.0,28.0,2.0,28.0,27.0,29.0,14.0,14.0,17.0,35.0,36.0,51.0,54.0,37.0,37.0,24.0,null,38.0,28.0,0.0,16.0,25.0,22.0,24.0,37.0,21.0,53.0,0.0,2.0,64.0,24.0,40.0,32.0,54.0,30.0,37.0,20.0,22.0,57.0,34.0,51.0,47.0,22.0,36.0,16.0,60.0,39.0,18.0,30.0,45.0,30.0,21.0,0.0,51.0,22.0,26.0,10.0,21.0,14.0,null,43.0,22.0,22.0,23.0,25.0,35.0,30.0,37.0,21.0,36.0,13.0,22.0,36.0,17.0,38.0,34.0,20.0,17.0,36.0,52.0,32.0,35.0,null,36.0,36.0,21.0,33.0,40.0,24.0,35.0,29.0,33.0,51.0,10.0,41.0,26.0,39.0,14.0,28.0,18.0,41.0,33.0,26.0,31.0,63.0,30.0,27.0,47.0,37.0,14.0,27.0,61.0,39.0,22.0,30.0,26.0,25.0,42.0,33.0,60.0,16.0,50.0,22.0,15.0,27.0,58.0,48.0,36.0,60.0,46.0,58.0,40.0,3.0,23.0,21.0,29.0,23.0,41.0,20.0,24.0,21.0,55.0,21.0,42.0,40.0,30.0,26.0,43.0,20.0,19.0,40.0,17.0,62.0,32.0,37.0,40.0,25.0,17.0,46.0,38.0,43.0,28.0,31.0,35.0,19.0,24.0,20.0,16.0,45.0,19.0,23.0,19.0,32.0,41.0,30.0,41.0,7.0,39.0,47.0,21.0,29.0,19.0,50.0,28.0,38.0,24.0,31.0,38.0,26.0,28.0,45.0,47.0,60.0,42.0,43.0,17.0,17.0,20.0,18.0,24.0,25.0,20.0,23.0,48.0,26.0,36.0,27.0,41.0,21.0,71.0,64.0,33.0,24.0,35.0,13.0,11.0,null,43.0,36.0,22.0,56.0,34.0,46.0,43.0,25.0,26.0,14.0,63.0,29.0,45.0,15.0,19.0,53.0,45.0,41.0,68.0,5.0,27.0,20.0,54.0,18.0,45.0,26.0,37.0,30.0,51.0,3.0,3.0,19.0,19.0,6.0,4.0,23.0,37.0,18.0,29.0,25.0,52.0,24.0,0.0,25.0,26.0,32.0,58.0,44.0,41.0,24.0,41.0,23.0,27.0,61.0,18.0,18.0,null,15.0,12.0,40.0,19.0,18.0,48.0,37.0,35.0,29.0,54.0,null,22.0,18.0,26.0,19.0,22.0,17.0,18.0,39.0,37.0,17.0,25.0,9.0,15.0,19.0,18.0,50.0,14.0,19.0,33.0,23.0,39.0,14.0,14.0,45.0,22.0,36.0,19.0,59.0,31.0,31.0,39.0,28.0,19.0,29.0,0.0,15.0,18.0,49.0,36.0,40.0,56.0,67.0,44.0,17.0,27.0,23.0,28.0,54.0,26.0,40.0,39.0,40.0,20.0,18.0,17.0,35.0,31.0,40.0,50.0,21.0,29.0,63.0,19.0,36.0,48.0,33.0,28.0,39.0,27.0,58.0,44.0,23.0,21.0,53.0,14.0,17.0,25.0,44.0,24.0,24.0,24.0,0.0,7.0,3.0,18.0,4.0,40.0,16.0,25.0,10.0,40.0,19.0,15.0,24.0,21.0,29.0,37.0,49.0,42.0,54.0,33.0,27.0,53.0,28.0,24.0,20.0,0.0,24.0,28.0,42.0,32.0,36.0,40.0,30.0,34.0,37.0,41.0,25.0,39.0,0.0,54.0,16.0,0.0,13.0,46.0,23.0,18.0,27.0,24.0,27.0,24.0,25.0,30.0,19.0,18.0,49.0,64.0,26.0,53.0,27.0,27.0,25.0,33.0,27.0,20.0,39.0,27.0,19.0,22.0,3.0,24.0,41.0,18.0,63.0,19.0,39.0,null,41.0,44.0,39.0,29.0,37.0,41.0,18.0,null,55.0,21.0,28.0,43.0,32.0,23.0,5.0,14.0,24.0,22.0,14.0,20.0,17.0,20.0,22.0,15.0,67.0,28.0,57.0,21.0,34.0,17.0,33.0,33.0,28.0,18.0,28.0,13.0,38.0,39.0,18.0,43.0,32.0,29.0,45.0,25.0,64.0,18.0,44.0,15.0,21.0,33.0,3.0,19.0,37.0,24.0,26.0,26.0,26.0,22.0,26.0,27.0,27.0,37.0,22.0,24.0,23.0,18.0,28.0,4.0,23.0,2.0,46.0,0.0,16.0,19.0,34.0,34.0,24.0,28.0,44.0,35.0,20.0,18.0,43.0,48.0,46.0,75.0,24.0,34.0,29.0,46.0,22.0,42.0,46.0,15.0,42.0,31.0,9.0,34.0,21.0,16.0,40.0,23.0,6.0,17.0,37.0,30.0,32.0,41.0,43.0,17.0,37.0,18.0,1.0,38.0,25.0,6.0,1.0,7.0,24.0,19.0,26.0,49.0,18.0,25.0,46.0,33.0,10.0,38.0,23.0,26.0,16.0,29.0,35.0,58.0,17.0,16.0,2.0,13.0,18.0,29.0,21.0,43.0,69.0,40.0,1.0,36.0,60.0,17.0,49.0,23.0,39.0,53.0,26.0,31.0,48.0,26.0,25.0,25.0,30.0,null,23.0,24.0,47.0,37.0,24.0,21.0,42.0,39.0,28.0,32.0,31.0,13.0,41.0,21.0,null,9.0,36.0,30.0,27.0,40.0,41.0,16.0,36.0,15.0,39.0,21.0,24.0,28.0,47.0,55.0,null,22.0,26.0,62.0,53.0,29.0,21.0,18.0,34.0,19.0,14.0,21.0,55.0,18.0,33.0,35.0,31.0,27.0,null,13.0,24.0,22.0,32.0,18.0,53.0,4.0,24.0,23.0,1.0,18.0,21.0,40.0,49.0,25.0,21.0,40.0,47.0,25.0,36.0,39.0,26.0,0.0,14.0,7.0,50.0,22.0,17.0,35.0,22.0,26.0,24.0,59.0,24.0,17.0,28.0,38.0,2.0,36.0,32.0,15.0,54.0,18.0,22.0,23.0,14.0,26.0,73.0,29.0,29.0,12.0,27.0,31.0,26.0,35.0,25.0,40.0,18.0,52.0,35.0,51.0,35.0,14.0,null,26.0,21.0,45.0,29.0,39.0,37.0,22.0,22.0,30.0,1.0,0.0,9.0,18.0,29.0,52.0,27.0,54.0,28.0,65.0,26.0,29.0,20.0,39.0,37.0,20.0,40.0,0.0,33.0,23.0,32.0,20.0,60.0,53.0,26.0,35.0,19.0,43.0,29.0,20.0,19.0,21.0,39.0,12.0,20.0,18.0,31.0,35.0,44.0,62.0,23.0,23.0,19.0,29.0,31.0,33.0,41.0,60.0,41.0,69.0,44.0,18.0,26.0,30.0,34.0,18.0,49.0,71.0,19.0,23.0,31.0,40.0,28.0,17.0,24.0,54.0,21.0,2.0,20.0,20.0,36.0,25.0,58.0,37.0,26.0,45.0,44.0,24.0,13.0,4.0,24.0,27.0,39.0,23.0,4.0,0.0,22.0,27.0,22.0,26.0,60.0,18.0,20.0,25.0,24.0,38.0,18.0,45.0,13.0,28.0,5.0,20.0,2.0,42.0,0.0,18.0,26.0,3.0,49.0,19.0,19.0,15.0,53.0,0.0,39.0,45.0,10.0,1.0,9.0,40.0,26.0,18.0,47.0,31.0,null,23.0,32.0,32.0,21.0,null,22.0,18.0,28.0,38.0,46.0,44.0,38.0,28.0,31.0,18.0,18.0,4.0,0.0,0.0,23.0,35.0,43.0,18.0,18.0,18.0,49.0,19.0,22.0,4.0,0.0,null,39.0,36.0,53.0,23.0,24.0,25.0,30.0,20.0,40.0,18.0,57.0,47.0,26.0,29.0,32.0,30.0,18.0,49.0,33.0,18.0,29.0,34.0,43.0,18.0,31.0,15.0,3.0,37.0,1.0,27.0,15.0,33.0,65.0,19.0,30.0,37.0,15.0,19.0,20.0,19.0,21.0,20.0,18.0,27.0,23.0,25.0,72.0,35.0,29.0,11.0,7.0,null,28.0,41.0,null,19.0,8.0,4.0,38.0,21.0,18.0,10.0,29.0,25.0,40.0,19.0,38.0,19.0,0.0,4.0,29.0,46.0,32.0,26.0,23.0,32.0,31.0,34.0,45.0,61.0,21.0,null,15.0,14.0,18.0,39.0,62.0,40.0,21.0,12.0,27.0,28.0,0.0,17.0,23.0,6.0,29.0,41.0,27.0,34.0,36.0,30.0,30.0,29.0,21.0,21.0,18.0,11.0,65.0,25.0,0.0,24.0,19.0,23.0,45.0,52.0,55.0,24.0,31.0,18.0,22.0,39.0,19.0,33.0,14.0,30.0,30.0,21.0,45.0,17.0,39.0,22.0,37.0,48.0,33.0,37.0,27.0,29.0,38.0,16.0,18.0,null,47.0,15.0,13.0,19.0,17.0,31.0,19.0,25.0,26.0,25.0,2.0,7.0,2.0,19.0,1.0,4.0,49.0,61.0,57.0,52.0,22.0,37.0,15.0,28.0,40.0,13.0,24.0,25.0,25.0,43.0,46.0,3.0,3.0,3.0,8.0,57.0,11.0,20.0,27.0,20.0,14.0,24.0,21.0,33.0,32.0,22.0,15.0,41.0,31.0,35.0,48.0,15.0,37.0,21.0,34.0,19.0,52.0,15.0,24.0,45.0,13.0,18.0,19.0,20.0,20.0,27.0,22.0,17.0,23.0,29.0,24.0,26.0,36.0,25.0,36.0,32.0,16.0,32.0,48.0,25.0,46.0,32.0,50.0,31.0,27.0,52.0,34.0,40.0,36.0,19.0,33.0,23.0,57.0,24.0,19.0,54.0,28.0,26.0,43.0,39.0,21.0,24.0,35.0,61.0,21.0,14.0,38.0,23.0,31.0,66.0,56.0,21.0,49.0,21.0,27.0,23.0,27.0,49.0,38.0,60.0,47.0,29.0,19.0,32.0,22.0,35.0,28.0,22.0,42.0,37.0,31.0,33.0,48.0,31.0,18.0,44.0,22.0,18.0,48.0,2.0,0.0,43.0,51.0,48.0,51.0,20.0,41.0,27.0,56.0,26.0,21.0,null,23.0,28.0,40.0,39.0,16.0,20.0,24.0,45.0,33.0,19.0,15.0,18.0,21.0,37.0,53.0,19.0,17.0,58.0,18.0,25.0,39.0,40.0,27.0,3.0,18.0,18.0,29.0,22.0,34.0,19.0,26.0,33.0,34.0,18.0,40.0,53.0,8.0,54.0,29.0,56.0,21.0,25.0,33.0,22.0,50.0,24.0,25.0,59.0,26.0,19.0,37.0,22.0,44.0,25.0,23.0,6.0,39.0,26.0,14.0,3.0,21.0,24.0,18.0,37.0,21.0,67.0,28.0,13.0,26.0,33.0,18.0,24.0,26.0,21.0,27.0,15.0,24.0,31.0,10.0,23.0,50.0,13.0,43.0,20.0,21.0,18.0,16.0,47.0,35.0,15.0,46.0,6.0,26.0,49.0,28.0,37.0,17.0,38.0,18.0,55.0,28.0,25.0,17.0,22.0,4.0,3.0,21.0,24.0,50.0,3.0,19.0,22.0,20.0,18.0,27.0,29.0,23.0,48.0,32.0,55.0,49.0,15.0,50.0,35.0,29.0,38.0,29.0,39.0,49.0,39.0,19.0,19.0,14.0,40.0,40.0,20.0,6.0,41.0,37.0,31.0,8.0,55.0,16.0,29.0,40.0,27.0,21.0,25.0,44.0,34.0,1.0,1.0,42.0,18.0,21.0,24.0,null,18.0,27.0,13.0,10.0,8.0,40.0,35.0,13.0,19.0,44.0,36.0,29.0,28.0,36.0,24.0,14.0,50.0,20.0,38.0,33.0,54.0,20.0,23.0,65.0,51.0,36.0,38.0,28.0,32.0,55.0,23.0,38.0,18.0,32.0,44.0,62.0,66.0,20.0,19.0,null,25.0,20.0,18.0,20.0,14.0,49.0,49.0,19.0,53.0,31.0,18.0,24.0,35.0,27.0,38.0,23.0,22.0,38.0,28.0,25.0,45.0,22.0,30.0,25.0,24.0,44.0,6.0,0.0,14.0,37.0,15.0,0.0,17.0,58.0,15.0,53.0,29.0,24.0,40.0,21.0,30.0,20.0,20.0,18.0,36.0,20.0,4.0,59.0,20.0,4.0,23.0,25.0,20.0,22.0,6.0,14.0,0.0,4.0,37.0,14.0,34.0,3.0,18.0,27.0,19.0,37.0,29.0,37.0,32.0,22.0,38.0,24.0,63.0,23.0,41.0,20.0,48.0,44.0,15.0,29.0,64.0,19.0,28.0,44.0,13.0,45.0,25.0,19.0,29.0,21.0,13.0,25.0,46.0,37.0,19.0,29.0,21.0,13.0,15.0,42.0,null,26.0,19.0,18.0,50.0,28.0,24.0,31.0,19.0,20.0,23.0,19.0,27.0,16.0,76.0,41.0,24.0,12.0,28.0,36.0,20.0,7.0,21.0,33.0,32.0,34.0,38.0,null,28.0,25.0,24.0,18.0,24.0,30.0,38.0,39.0,31.0,33.0,15.0,23.0,24.0,44.0,22.0,28.0,34.0,8.0,26.0,29.0,58.0,4.0,1.0,17.0,27.0,24.0,16.0,28.0,23.0,33.0,24.0,6.0,19.0,31.0,19.0,18.0,35.0,32.0,19.0,24.0,33.0,20.0,27.0,26.0,28.0,19.0,24.0,52.0,23.0,23.0,25.0,22.0,35.0,24.0,24.0,26.0,37.0,14.0,36.0,0.0,17.0,18.0,43.0,21.0,34.0,57.0,18.0,73.0,31.0,25.0,20.0,24.0,null,21.0,22.0,39.0,26.0,32.0,1.0,7.0,4.0,21.0,12.0,28.0,0.0,18.0,52.0,18.0,51.0,21.0,28.0,34.0,13.0,35.0,27.0,35.0,51.0,53.0,29.0,41.0,47.0,22.0,19.0,22.0,25.0,null,17.0,0.0,5.0,30.0,17.0,53.0,9.0,17.0,16.0,29.0,29.0,46.0,27.0,39.0,15.0,30.0,41.0,47.0,32.0,15.0,23.0,20.0,33.0,18.0,31.0,25.0,19.0,32.0,45.0,43.0,21.0,48.0,0.0,29.0,41.0,23.0,48.0,18.0,30.0,26.0,18.0,27.0,58.0,22.0,17.0,28.0,27.0,51.0,37.0,14.0,43.0,27.0,60.0,33.0,39.0,21.0,21.0,28.0,30.0,42.0,25.0,25.0,25.0,54.0,41.0,36.0,33.0,36.0,55.0,16.0,28.0,26.0,42.0,30.0,31.0,22.0,26.0,25.0,44.0,29.0,22.0,23.0,30.0,23.0,13.0,53.0,0.0,27.0,27.0,10.0,2.0,5.0,24.0,32.0,22.0,22.0,44.0,55.0,22.0,8.0,15.0,1.0,9.0,48.0,16.0,27.0,3.0,25.0,70.0,30.0,57.0,42.0,14.0,43.0,34.0,21.0,32.0,21.0,25.0,25.0,38.0,36.0,44.0,37.0,47.0,38.0,28.0,38.0,53.0,26.0,13.0,64.0,16.0,13.0,55.0,26.0,23.0,55.0,50.0,26.0,36.0,33.0,21.0,41.0,33.0,23.0,31.0,28.0,13.0,null,35.0,25.0,19.0,56.0,18.0,22.0,34.0,11.0,37.0,22.0,45.0,19.0,39.0,28.0,36.0,1.0,10.0,12.0,31.0,12.0,3.0,30.0,41.0,19.0,38.0,36.0,0.0,20.0,23.0,35.0,36.0,41.0,38.0,33.0,54.0,33.0,54.0,32.0,24.0,53.0,26.0,31.0,18.0,39.0,37.0,35.0,34.0,28.0,43.0,2.0,24.0,18.0,21.0,24.0,35.0,53.0,32.0,44.0,33.0,40.0,31.0,23.0,44.0,41.0,31.0,30.0,33.0,30.0,26.0,22.0,37.0,15.0,52.0,35.0,40.0,60.0,24.0,31.0,43.0,9.0,51.0,25.0,20.0,22.0,21.0,50.0,24.0,45.0,22.0,7.0,11.0,1.0,0.0,8.0,36.0,2.0,0.0,22.0,41.0,49.0,30.0,37.0,14.0,30.0,62.0,13.0,32.0,33.0,38.0,29.0,25.0,26.0,19.0,16.0,61.0,28.0,13.0,44.0,22.0,30.0,21.0,20.0,31.0,33.0,26.0,21.0,23.0,0.0,32.0,30.0,41.0,18.0,26.0,32.0,44.0],\"xaxis\":\"x2\",\"yaxis\":\"y2\",\"type\":\"box\"},{\"alignmentgroup\":\"True\",\"bingroup\":\"x\",\"hovertemplate\":\"type=Test<br>Age=%{x}<br>count=%{y}<extra></extra>\",\"legendgroup\":\"Test\",\"marker\":{\"color\":\"#DE3163\",\"pattern\":{\"shape\":\"\"}},\"name\":\"Test\",\"nbinsx\":100,\"offsetgroup\":\"Test\",\"orientation\":\"v\",\"showlegend\":true,\"x\":[27.0,19.0,31.0,38.0,20.0,31.0,21.0,20.0,23.0,24.0,19.0,45.0,44.0,46.0,21.0,27.0,20.0,44.0,29.0,40.0,30.0,14.0,31.0,27.0,66.0,24.0,19.0,36.0,21.0,18.0,26.0,19.0,48.0,23.0,24.0,19.0,24.0,27.0,6.0,33.0,23.0,30.0,null,1.0,20.0,17.0,34.0,24.0,29.0,20.0,5.0,22.0,16.0,7.0,36.0,26.0,40.0,29.0,2.0,23.0,0.0,30.0,56.0,36.0,56.0,19.0,39.0,38.0,null,35.0,26.0,31.0,38.0,27.0,30.0,22.0,29.0,0.0,8.0,3.0,27.0,9.0,29.0,18.0,22.0,24.0,25.0,36.0,14.0,24.0,26.0,29.0,40.0,36.0,46.0,42.0,23.0,19.0,25.0,22.0,35.0,39.0,42.0,35.0,29.0,20.0,25.0,36.0,39.0,23.0,19.0,50.0,41.0,19.0,20.0,19.0,38.0,32.0,44.0,18.0,49.0,23.0,31.0,55.0,60.0,20.0,34.0,14.0,26.0,19.0,25.0,42.0,18.0,50.0,26.0,47.0,35.0,58.0,20.0,28.0,12.0,20.0,22.0,31.0,24.0,17.0,null,18.0,48.0,38.0,33.0,20.0,22.0,52.0,15.0,25.0,14.0,null,16.0,48.0,36.0,19.0,43.0,32.0,54.0,33.0,21.0,33.0,28.0,23.0,26.0,41.0,2.0,21.0,70.0,20.0,31.0,8.0,5.0,45.0,37.0,24.0,55.0,18.0,36.0,59.0,61.0,46.0,29.0,18.0,20.0,28.0,26.0,32.0,18.0,50.0,47.0,15.0,35.0,49.0,32.0,63.0,54.0,21.0,38.0,50.0,32.0,33.0,30.0,28.0,22.0,null,37.0,59.0,31.0,25.0,38.0,37.0,44.0,28.0,45.0,53.0,21.0,33.0,18.0,37.0,34.0,46.0,18.0,19.0,4.0,0.0,12.0,7.0,34.0,10.0,0.0,14.0,27.0,21.0,37.0,29.0,17.0,17.0,35.0,34.0,17.0,39.0,56.0,35.0,17.0,29.0,15.0,37.0,36.0,36.0,18.0,61.0,45.0,21.0,65.0,27.0,13.0,32.0,17.0,44.0,21.0,16.0,41.0,40.0,16.0,17.0,40.0,37.0,53.0,42.0,31.0,18.0,51.0,20.0,19.0,22.0,41.0,28.0,0.0,42.0,20.0,25.0,22.0,25.0,45.0,19.0,16.0,18.0,38.0,27.0,36.0,21.0,1.0,25.0,3.0,7.0,0.0,32.0,5.0,79.0,19.0,30.0,13.0,53.0,40.0,32.0,31.0,63.0,18.0,21.0,14.0,41.0,40.0,58.0,22.0,13.0,16.0,13.0,15.0,42.0,24.0,19.0,null,29.0,15.0,38.0,49.0,20.0,null,19.0,46.0,21.0,29.0,null,44.0,19.0,29.0,25.0,41.0,19.0,33.0,25.0,44.0,21.0,32.0,33.0,32.0,19.0,21.0,23.0,31.0,22.0,74.0,53.0,40.0,23.0,36.0,18.0,29.0,48.0,34.0,34.0,27.0,44.0,0.0,1.0,18.0,23.0,26.0,46.0,41.0,25.0,50.0,28.0,17.0,29.0,19.0,34.0,28.0,47.0,28.0,38.0,22.0,18.0,21.0,40.0,67.0,39.0,19.0,28.0,29.0,22.0,23.0,41.0,25.0,43.0,54.0,14.0,69.0,24.0,37.0,28.0,59.0,20.0,23.0,59.0,20.0,36.0,43.0,9.0,32.0,24.0,14.0,45.0,23.0,59.0,28.0,61.0,52.0,5.0,51.0,26.0,44.0,46.0,32.0,17.0,21.0,52.0,52.0,14.0,21.0,42.0,28.0,26.0,7.0,14.0,3.0,26.0,54.0,55.0,16.0,38.0,48.0,13.0,20.0,18.0,45.0,5.0,42.0,50.0,21.0,22.0,23.0,22.0,21.0,24.0,24.0,42.0,19.0,32.0,35.0,19.0,55.0,35.0,63.0,66.0,45.0,20.0,21.0,51.0,13.0,24.0,28.0,52.0,32.0,23.0,37.0,35.0,46.0,33.0,34.0,51.0,null,27.0,22.0,33.0,31.0,16.0,6.0,18.0,30.0,24.0,57.0,24.0,23.0,40.0,21.0,17.0,25.0,34.0,18.0,8.0,14.0,16.0,22.0,21.0,23.0,26.0,18.0,72.0,18.0,24.0,36.0,13.0,19.0,28.0,2.0,5.0,25.0,45.0,59.0,6.0,36.0,40.0,36.0,31.0,19.0,13.0,31.0,22.0,52.0,22.0,34.0,23.0,14.0,30.0,75.0,28.0,61.0,25.0,21.0,null,28.0,41.0,25.0,28.0,0.0,19.0,22.0,2.0,35.0,42.0,46.0,26.0,19.0,11.0,11.0,17.0,23.0,37.0,18.0,48.0,18.0,18.0,32.0,26.0,26.0,55.0,19.0,65.0,28.0,24.0,52.0,67.0,34.0,23.0,26.0,28.0,9.0,1.0,1.0,58.0,59.0,54.0,8.0,28.0,19.0,23.0,47.0,17.0,33.0,43.0,28.0,32.0,13.0,18.0,16.0,6.0,27.0,29.0,32.0,23.0,33.0,51.0,41.0,20.0,0.0,13.0,13.0,13.0,24.0,null,32.0,24.0,27.0,24.0,34.0,26.0,22.0,10.0,28.0,5.0,null,29.0,17.0,18.0,35.0,42.0,35.0,42.0,33.0,20.0,2.0,2.0,43.0,10.0,26.0,42.0,24.0,32.0,23.0,null,15.0,15.0,null,15.0,13.0,33.0,47.0,27.0,18.0,10.0,40.0,28.0,23.0,23.0,41.0,20.0,29.0,17.0,21.0,25.0,25.0,28.0,24.0,56.0,36.0,20.0,50.0,29.0,34.0,40.0,20.0,36.0,25.0,25.0,17.0,42.0,47.0,23.0,null,39.0,43.0,23.0,46.0,31.0,37.0,48.0,28.0,38.0,31.0,35.0,28.0,29.0,19.0,null,44.0,59.0,23.0,48.0,49.0,15.0,30.0,20.0,20.0,6.0,1.0,1.0,2.0,8.0,29.0,43.0,73.0,48.0,24.0,20.0,17.0,42.0,22.0,54.0,41.0,0.0,20.0,54.0,73.0,17.0,21.0,60.0,50.0,17.0,18.0,25.0,57.0,46.0,71.0,21.0,38.0,23.0,24.0,25.0,35.0,21.0,22.0,60.0,29.0,49.0,27.0,23.0,23.0,33.0,35.0,27.0,44.0,18.0,31.0,21.0,27.0,36.0,33.0,30.0,29.0,32.0,31.0,27.0,25.0,38.0,47.0,24.0,46.0,16.0,30.0,0.0,60.0,50.0,37.0,27.0,29.0,null,22.0,null,null,14.0,null,20.0,19.0,14.0,69.0,26.0,25.0,36.0,34.0,4.0,1.0,24.0,21.0,25.0,44.0,22.0,64.0,32.0,42.0,29.0,4.0,17.0,21.0,52.0,29.0,35.0,23.0,27.0,8.0,20.0,16.0,35.0,44.0,19.0,2.0,30.0,28.0,44.0,20.0,22.0,14.0,20.0,45.0,19.0,42.0,23.0,43.0,20.0,11.0,20.0,21.0,17.0,32.0,24.0,4.0,4.0,36.0,27.0,46.0,24.0,3.0,21.0,42.0,26.0,38.0,36.0,28.0,62.0,22.0,18.0,12.0,32.0,11.0,47.0,48.0,38.0,19.0,22.0,21.0,37.0,28.0,15.0,57.0,22.0,22.0,29.0,0.0,44.0,22.0,25.0,64.0,21.0,35.0,15.0,48.0,22.0,42.0,13.0,35.0,27.0,21.0,22.0,33.0,25.0,37.0,36.0,47.0,34.0,29.0,39.0,27.0,35.0,0.0,33.0,24.0,19.0,33.0,19.0,16.0,47.0,40.0,19.0,27.0,31.0,24.0,31.0,41.0,16.0,27.0,11.0,28.0,51.0,1.0,56.0,null,57.0,13.0,32.0,28.0,12.0,35.0,33.0,14.0,26.0,25.0,27.0,23.0,45.0,50.0,24.0,54.0,19.0,19.0,28.0,28.0,39.0,20.0,30.0,35.0,36.0,33.0,30.0,25.0,45.0,23.0,51.0,31.0,55.0,24.0,57.0,24.0,44.0,0.0,15.0,49.0,24.0,47.0,26.0,null,4.0,30.0,23.0,23.0,4.0,3.0,42.0,22.0,21.0,28.0,35.0,20.0,22.0,30.0,0.0,22.0,15.0,4.0,19.0,29.0,17.0,21.0,20.0,24.0,6.0,9.0,21.0,46.0,20.0,27.0,23.0,28.0,53.0,41.0,32.0,27.0,31.0,20.0,19.0,55.0,35.0,70.0,22.0,46.0,16.0,14.0,13.0,44.0,15.0,32.0,26.0,42.0,44.0,15.0,35.0,35.0,24.0,19.0,37.0,31.0,39.0,35.0,26.0,26.0,0.0,8.0,44.0,20.0,56.0,31.0,16.0,29.0,22.0,39.0,25.0,43.0,37.0,24.0,53.0,19.0,24.0,31.0,27.0,57.0,26.0,15.0,19.0,27.0,23.0,6.0,15.0,2.0,21.0,0.0,18.0,46.0,43.0,45.0,40.0,44.0,27.0,55.0,24.0,27.0,33.0,35.0,33.0,34.0,37.0,46.0,45.0,14.0,null,56.0,24.0,19.0,51.0,24.0,23.0,21.0,6.0,11.0,4.0,0.0,7.0,24.0,32.0,43.0,24.0,49.0,21.0,29.0,25.0,27.0,14.0,67.0,17.0,44.0,52.0,14.0,17.0,19.0,36.0,19.0,25.0,39.0,32.0,75.0,37.0,25.0,33.0,25.0,24.0,22.0,22.0,36.0,4.0,61.0,0.0,15.0,42.0,27.0,5.0,32.0,38.0,21.0,23.0,34.0,28.0,23.0,14.0,60.0,78.0,6.0,17.0,41.0,40.0,47.0,23.0,41.0,60.0,46.0,19.0,18.0,0.0,28.0,30.0,9.0,0.0,4.0,22.0,32.0,7.0,19.0,34.0,24.0,17.0,31.0,42.0,14.0,27.0,21.0,24.0,34.0,35.0,43.0,25.0,19.0,25.0,22.0,23.0,42.0,40.0,71.0,18.0,34.0,4.0,18.0,22.0,38.0,33.0,27.0,18.0,34.0,66.0,47.0,35.0,23.0,36.0,36.0,35.0,15.0,39.0,48.0,47.0,21.0,31.0,13.0,32.0,22.0,40.0,15.0,33.0,28.0,17.0,20.0,42.0,18.0,27.0,32.0,19.0,9.0,36.0,21.0,40.0,42.0,40.0,22.0,15.0,38.0,15.0,24.0,22.0,24.0,25.0,22.0,57.0,25.0,21.0,41.0,27.0,18.0,61.0,9.0,1.0,27.0,20.0,2.0,0.0,25.0,22.0,32.0,28.0,43.0,28.0,32.0,54.0,27.0,30.0,25.0,39.0,14.0,8.0,22.0,27.0,43.0,16.0,40.0,48.0,25.0,29.0,60.0,22.0,37.0,35.0,23.0,24.0,15.0,18.0,14.0,39.0,12.0,43.0,45.0,24.0,52.0,18.0,38.0,null,28.0,19.0,45.0,27.0,15.0,22.0,23.0,32.0,15.0,30.0,60.0,50.0,45.0,24.0,22.0,20.0,19.0,40.0,14.0,18.0,20.0,35.0,24.0,30.0,44.0,42.0,3.0,19.0,69.0,50.0,15.0,18.0,25.0,15.0,62.0,19.0,29.0,28.0,25.0,22.0,35.0,61.0,26.0,19.0,2.0,0.0,26.0,6.0,23.0,50.0,18.0,7.0,3.0,3.0,37.0,25.0,22.0,20.0,32.0,34.0,47.0,23.0,22.0,35.0,18.0,36.0,32.0,29.0,19.0,45.0,null,14.0,22.0,31.0,25.0,15.0,28.0,34.0,28.0,45.0,44.0,22.0,48.0,25.0,24.0,20.0,46.0,40.0,26.0,56.0,37.0,35.0,15.0,21.0,24.0,30.0,34.0,16.0,55.0,27.0,44.0,17.0,17.0,36.0,18.0,14.0,21.0,26.0,null,21.0,25.0,27.0,25.0,43.0,35.0,21.0,23.0,17.0,21.0,21.0,39.0,22.0,40.0,25.0,6.0,1.0,1.0,20.0,17.0,22.0,18.0,49.0,27.0,40.0,22.0,55.0,45.0,33.0,42.0,27.0,16.0,23.0,31.0,62.0,43.0,57.0,23.0,20.0,21.0,27.0,31.0,31.0,24.0,27.0,28.0,44.0,19.0,14.0,65.0,73.0,null,25.0,null,34.0,63.0,53.0,18.0,40.0,28.0,45.0,32.0,19.0,65.0,20.0,18.0,18.0,58.0,25.0,13.0,null,22.0,22.0,10.0,14.0,44.0,10.0,37.0,37.0,44.0,42.0,18.0,34.0,15.0,36.0,27.0,33.0,27.0,22.0,19.0,18.0,31.0,41.0,48.0,23.0,29.0,38.0,21.0,20.0,27.0,33.0,24.0,23.0,22.0,13.0,24.0,32.0,17.0,28.0,46.0,18.0,24.0,20.0,17.0,44.0,34.0,19.0,28.0,null,57.0,34.0,18.0,28.0,6.0,53.0,6.0,33.0,43.0,44.0,28.0,37.0,55.0,40.0,38.0,24.0,53.0,61.0,17.0,20.0,22.0,27.0,19.0,23.0,33.0,26.0,33.0,39.0,47.0,33.0,40.0,19.0,26.0,24.0,15.0,2.0,33.0,14.0,22.0,45.0,58.0,13.0,36.0,35.0,23.0,27.0,24.0,43.0,67.0,29.0,28.0,18.0,35.0,22.0,19.0,47.0,16.0,41.0,26.0,37.0,26.0,21.0,45.0,28.0,26.0,35.0,60.0,7.0,15.0,26.0,38.0,24.0,77.0,22.0,22.0,20.0,47.0,25.0,9.0,19.0,44.0,41.0,53.0,27.0,20.0,23.0,20.0,null,51.0,22.0,36.0,18.0,19.0,17.0,29.0,18.0,22.0,43.0,24.0,25.0,20.0,23.0,32.0,51.0,22.0,22.0,30.0,23.0,61.0,24.0,19.0,27.0,29.0,55.0,26.0,58.0,60.0,13.0,39.0,35.0,21.0,37.0,31.0,20.0,27.0,40.0,null,36.0,19.0,22.0,15.0,18.0,25.0,62.0,53.0,null,19.0,21.0,20.0,56.0,64.0,null,36.0,51.0,16.0,21.0,50.0,0.0,34.0,3.0,11.0,5.0,47.0,1.0,0.0,23.0,27.0,46.0,34.0,2.0,11.0,1.0,13.0,41.0,11.0,52.0,15.0,58.0,23.0,34.0,9.0,25.0,38.0,42.0,40.0,18.0,42.0,40.0,28.0,56.0,22.0,39.0,35.0,36.0,34.0,22.0,21.0,16.0,35.0,19.0,36.0,32.0,69.0,44.0,34.0,35.0,25.0,3.0,12.0,3.0,13.0,26.0,2.0,25.0,19.0,33.0,41.0,55.0,30.0,35.0,7.0,38.0,51.0,18.0,44.0,18.0,13.0,49.0,8.0,22.0,32.0,null,56.0,18.0,27.0,46.0,18.0,30.0,35.0,48.0,33.0,0.0,11.0,0.0,14.0,9.0,37.0,30.0,21.0,32.0,4.0,19.0,25.0,34.0,19.0,18.0,23.0,53.0,13.0,20.0,34.0,18.0,0.0,35.0,0.0,62.0,15.0,28.0,5.0,22.0,14.0,43.0,24.0,65.0,44.0,50.0,15.0,18.0,41.0,21.0,16.0,21.0,29.0,19.0,18.0,25.0,45.0,32.0,33.0,null,24.0,29.0,24.0,22.0,18.0,16.0,17.0,18.0,25.0,46.0,36.0,62.0,48.0,16.0,27.0,52.0,25.0,13.0,35.0,20.0,42.0,50.0,66.0,31.0,37.0,72.0,30.0,29.0,21.0,33.0,28.0,41.0,44.0,45.0,61.0,21.0,25.0,38.0,68.0,0.0,21.0,55.0,60.0,19.0,17.0,16.0,29.0,29.0,0.0,15.0,27.0,24.0,14.0,17.0,37.0,23.0,17.0,33.0,30.0,20.0,null,25.0,19.0,31.0,23.0,29.0,20.0,26.0,26.0,51.0,null,17.0,22.0,31.0,2.0,0.0,3.0,28.0,21.0,15.0,18.0,52.0,49.0,42.0,28.0,31.0,19.0,41.0,31.0,13.0,35.0,29.0,0.0,19.0,null,19.0,26.0,47.0,29.0,46.0,18.0,33.0,20.0,37.0,35.0,25.0,22.0,47.0,31.0,27.0,47.0,46.0,47.0,40.0,39.0,39.0,35.0,43.0,38.0,31.0,20.0,44.0,25.0,25.0,20.0,33.0,58.0,23.0,35.0,13.0,21.0,20.0,15.0,48.0,58.0,25.0,43.0,53.0,13.0,8.0,53.0,22.0,31.0,28.0,22.0,27.0,29.0,42.0,42.0,33.0,32.0,42.0,22.0,18.0,46.0,20.0,21.0,26.0,51.0,53.0,29.0,25.0,69.0,26.0,38.0,37.0,14.0,36.0,42.0,25.0,35.0,26.0,12.0,48.0,13.0,21.0,26.0,32.0,25.0,51.0,15.0,14.0,41.0,13.0,39.0,19.0,17.0,41.0,43.0,18.0,22.0,29.0,22.0,62.0,29.0,26.0,8.0,26.0,38.0,49.0,18.0,18.0,35.0,34.0,11.0,null,22.0,18.0,36.0,17.0,25.0,29.0,25.0,34.0,16.0,28.0,29.0,38.0,39.0,48.0,23.0,16.0,21.0,21.0,4.0,27.0,18.0,22.0,28.0,22.0,39.0,29.0,42.0,0.0,52.0,26.0,19.0,23.0,36.0,26.0,62.0,28.0,25.0,0.0,24.0,49.0,21.0,29.0,19.0,32.0,20.0,48.0,27.0,49.0,20.0,25.0,null,73.0,23.0,23.0,26.0,48.0,null,54.0,56.0,30.0,24.0,23.0,57.0,null,14.0,51.0,16.0,29.0,43.0,16.0,38.0,40.0,44.0,25.0,20.0,19.0,47.0,21.0,15.0,26.0,50.0,19.0,null,18.0,0.0,34.0,25.0,8.0,0.0,6.0,27.0,32.0,63.0,36.0,33.0,28.0,43.0,23.0,22.0,56.0,25.0,28.0,44.0,20.0,17.0,18.0,15.0,23.0,27.0,10.0,10.0,0.0,16.0,48.0,7.0,50.0,5.0,50.0,35.0,23.0,28.0,20.0,47.0,26.0,17.0,43.0,37.0,25.0,26.0,23.0,46.0,23.0,26.0,27.0,18.0,63.0,2.0,0.0,0.0,37.0,18.0,33.0,31.0,34.0,18.0,20.0,37.0,30.0,7.0,32.0,68.0,0.0,23.0,38.0,26.0,29.0,43.0,38.0,25.0,18.0,23.0,26.0,45.0,25.0,16.0,25.0,11.0,22.0,38.0,25.0,17.0,20.0,24.0,37.0,32.0,32.0,20.0,50.0,33.0,47.0,49.0,20.0,26.0,24.0,11.0,47.0,22.0,35.0,25.0,33.0,20.0,16.0,29.0,16.0,43.0,33.0,16.0,22.0,18.0,36.0,17.0,34.0,1.0,24.0,20.0,56.0,26.0,35.0,3.0,23.0,19.0,0.0,30.0,50.0,15.0,19.0,null,35.0,45.0,0.0,74.0,24.0,39.0,18.0,39.0,33.0,21.0,35.0,66.0,14.0,20.0,18.0,36.0,27.0,51.0,18.0,46.0,67.0,24.0,35.0,14.0,22.0,20.0,23.0,23.0,21.0,36.0,19.0,22.0,58.0,14.0,18.0,40.0,24.0,26.0,16.0,null,21.0,17.0,23.0,22.0,20.0,38.0,37.0,31.0,27.0,31.0,21.0,36.0,20.0,36.0,40.0,25.0,32.0,25.0,49.0,28.0,58.0,null,22.0,61.0,28.0,24.0,40.0,null,15.0,29.0,18.0,28.0,24.0,18.0,21.0,25.0,16.0,49.0,28.0,22.0,11.0,26.0,17.0,26.0,0.0,null,4.0,19.0,5.0,35.0,25.0,26.0,34.0,21.0,26.0,32.0,40.0,13.0,29.0,11.0,25.0,31.0,51.0,20.0,32.0,22.0,38.0,26.0,42.0,57.0,38.0,23.0,32.0,15.0,41.0,19.0,26.0,null,20.0,19.0,30.0,58.0,17.0,null,19.0,20.0,54.0,21.0,44.0,11.0,2.0,20.0,50.0,27.0,28.0,33.0,23.0,22.0,44.0,45.0,20.0,26.0,18.0,21.0,26.0,55.0,24.0,27.0,18.0,20.0,31.0,37.0,37.0,57.0,39.0,20.0,18.0,29.0,31.0,27.0,43.0,null,32.0,19.0,50.0,19.0,44.0,49.0,30.0,41.0,34.0,30.0,22.0,29.0,32.0,40.0,50.0,31.0,1.0,30.0,null,41.0,34.0,14.0,13.0,16.0,25.0,17.0,41.0,28.0,3.0,18.0,20.0,32.0,59.0,52.0,47.0,56.0,24.0,13.0,15.0,40.0,30.0,25.0,10.0,28.0,36.0,12.0,26.0,33.0,42.0,31.0,20.0,24.0,37.0,19.0,13.0,23.0,44.0,36.0,79.0,1.0,12.0,8.0,45.0,10.0,3.0,37.0,43.0,38.0,33.0,25.0,42.0,35.0,35.0,30.0,33.0,30.0,23.0,13.0,32.0,17.0,37.0,49.0,53.0,27.0,26.0,50.0,17.0,22.0,8.0,42.0,30.0,4.0,27.0,15.0,38.0,51.0,26.0,34.0,45.0,18.0,21.0,23.0,24.0,20.0,32.0,22.0,13.0,42.0,19.0,24.0,45.0,35.0,16.0,16.0,43.0,31.0,null,22.0,48.0,20.0,35.0,23.0,28.0,19.0,45.0,16.0,3.0,60.0,33.0,25.0,37.0,51.0,29.0,39.0,29.0,27.0,38.0,13.0,33.0,45.0,0.0,18.0,0.0,38.0,0.0,21.0,56.0,38.0,35.0,34.0,15.0,22.0,28.0,18.0,47.0,23.0,44.0,18.0,21.0,65.0,18.0,27.0,16.0,17.0,19.0,33.0,20.0,10.0,6.0,0.0,0.0,4.0,null,27.0,54.0,24.0,47.0,16.0,59.0,31.0,28.0,23.0,19.0,18.0,28.0,13.0,33.0,28.0,17.0,36.0,29.0,18.0,37.0,36.0,44.0,21.0,20.0,45.0,28.0,20.0,18.0,null,19.0,27.0,26.0,29.0,18.0,12.0,0.0,2.0,16.0,17.0,20.0,30.0,20.0,31.0,13.0,23.0,19.0,18.0,50.0,43.0,52.0,24.0,46.0,25.0,53.0,17.0,29.0,26.0,35.0,51.0,20.0,19.0,59.0,23.0,22.0,21.0,25.0,23.0,15.0,20.0,22.0,20.0,35.0,41.0,18.0,40.0,25.0,31.0,47.0,29.0,null,18.0,19.0,50.0,26.0,29.0,14.0,14.0,0.0,34.0,23.0,24.0,39.0,22.0,23.0,26.0,28.0,42.0,37.0,45.0,21.0,42.0,20.0,61.0,0.0,3.0,18.0,44.0,50.0,18.0,0.0,58.0,50.0,43.0,21.0,30.0,20.0,24.0,24.0,37.0,21.0,48.0,33.0,21.0,21.0,13.0,5.0,24.0,37.0,23.0,35.0,24.0,20.0,0.0,64.0,31.0,6.0,3.0,10.0,19.0,19.0,46.0,25.0,27.0,23.0,20.0,24.0,50.0,44.0,28.0,25.0,14.0,21.0,16.0,25.0,41.0,20.0,24.0,31.0,23.0,54.0,26.0,49.0,0.0,17.0,22.0,11.0,28.0,17.0,47.0,29.0,46.0,66.0,0.0,5.0,1.0,42.0,5.0,null,41.0,30.0,26.0,16.0,22.0,20.0,44.0,36.0,6.0,13.0,22.0,69.0,40.0,46.0,34.0,39.0,37.0,13.0,20.0,28.0,54.0,9.0,61.0,18.0,null,24.0,24.0,0.0,30.0,null,26.0,26.0,3.0,30.0,51.0,36.0,18.0,27.0,36.0,39.0,17.0,24.0,14.0,25.0,35.0,17.0,45.0,35.0,19.0,null,33.0,22.0,32.0,25.0,26.0,21.0,49.0,26.0,20.0,28.0,35.0,66.0,47.0,25.0,23.0,19.0,8.0,42.0,33.0,29.0,63.0,24.0,62.0,null,52.0,23.0,47.0,50.0,32.0,33.0,26.0,20.0,28.0,38.0,42.0,0.0,23.0,39.0,25.0,17.0,15.0,31.0,49.0,41.0,37.0,27.0,13.0,42.0,21.0,29.0,0.0,19.0,36.0,31.0,16.0,42.0,16.0,23.0,42.0,34.0,38.0,21.0,25.0,30.0,40.0,31.0,20.0,37.0,26.0,22.0,21.0,33.0,40.0,11.0,27.0,22.0,40.0,61.0,28.0,24.0,43.0,22.0,14.0,56.0,35.0,62.0,44.0,32.0,26.0,22.0,56.0,29.0,21.0,34.0,35.0,18.0,23.0,18.0,24.0,19.0,62.0,52.0,37.0,21.0,48.0,43.0,18.0,33.0,33.0,29.0,66.0,41.0,17.0,8.0,20.0,25.0,47.0,40.0,26.0,19.0,35.0,0.0,12.0,37.0,38.0,34.0,30.0,22.0,23.0,59.0,19.0,16.0,22.0,30.0,26.0,18.0,29.0,32.0,33.0,20.0,55.0,41.0,22.0,61.0,20.0,57.0,17.0,60.0,20.0,20.0,40.0,28.0,17.0,18.0,46.0,29.0,25.0,59.0,17.0,65.0,32.0,35.0,18.0,23.0,27.0,0.0,26.0,38.0,35.0,32.0,9.0,11.0,13.0,2.0,12.0,27.0,14.0,37.0,6.0,36.0,27.0,20.0,24.0,21.0,50.0,18.0,34.0,22.0,63.0,39.0,26.0,27.0,17.0,39.0,26.0,30.0,26.0,34.0,24.0,21.0,25.0,64.0,40.0,null,23.0,46.0,22.0,0.0,8.0,35.0,22.0,29.0,25.0,24.0,26.0,20.0,40.0,28.0,22.0,23.0,26.0,19.0,35.0,41.0,37.0,44.0,34.0,39.0,27.0,32.0,13.0,10.0,28.0,25.0,null,27.0,29.0,6.0,2.0,6.0,24.0,31.0,35.0,13.0,64.0,18.0,32.0,21.0,13.0,43.0,39.0,26.0,21.0,18.0,27.0,null,27.0,29.0,20.0,26.0,null,34.0,15.0,24.0,26.0,14.0,24.0,31.0,21.0,28.0,19.0,50.0,15.0,34.0,35.0,34.0,36.0,27.0,30.0,34.0,45.0,21.0,56.0,21.0,28.0,38.0,34.0,33.0,34.0,19.0,19.0,17.0,20.0,22.0,35.0,50.0,19.0,23.0,38.0,20.0,31.0,28.0,36.0,27.0,66.0,14.0,29.0,34.0,13.0,47.0,26.0,50.0,38.0,59.0,43.0,30.0,33.0,33.0,42.0,17.0,18.0,34.0,46.0,35.0,40.0,26.0,43.0,41.0,31.0,23.0,25.0,37.0,14.0,3.0,18.0,35.0,19.0,39.0,48.0,27.0,3.0,28.0,34.0,31.0,60.0,45.0,48.0,21.0,24.0,16.0,19.0,26.0,22.0,33.0,44.0,27.0,23.0,43.0,14.0,41.0,20.0,0.0,2.0,22.0,29.0,35.0,20.0,16.0,38.0,35.0,19.0,25.0,32.0,24.0,20.0,27.0,18.0,31.0,47.0,58.0,37.0,35.0,38.0,32.0,35.0,27.0,61.0,72.0,30.0,14.0,28.0,20.0,41.0,29.0,32.0,33.0,27.0,21.0,21.0,18.0,3.0,0.0,41.0,57.0,50.0,54.0,49.0,19.0,51.0,null,5.0,13.0,0.0,8.0,27.0,13.0,47.0,6.0,59.0,20.0,35.0,22.0,16.0,18.0,26.0,19.0,23.0,21.0,32.0,25.0,50.0,27.0,44.0,47.0,58.0,27.0,52.0,21.0,25.0,31.0,28.0,42.0,49.0,3.0,5.0,null,57.0,29.0,29.0,21.0,25.0,26.0,33.0,43.0,26.0,13.0,30.0,8.0,null,23.0,22.0,36.0,35.0,26.0,15.0,18.0,41.0,41.0,22.0,null,0.0,16.0,27.0,13.0,1.0,32.0,35.0,40.0,17.0,49.0,21.0,9.0,27.0,59.0,25.0,21.0,15.0,28.0,42.0,22.0,21.0,48.0,24.0,47.0,13.0,32.0,29.0,35.0,24.0,52.0,21.0,36.0,19.0,39.0,59.0,45.0,25.0,64.0,24.0,36.0,26.0,31.0,18.0,21.0,34.0,32.0,19.0,18.0,39.0,null,19.0,16.0,24.0,2.0,10.0,2.0,21.0,5.0,29.0,41.0,32.0,23.0,23.0,40.0,45.0,30.0,56.0,13.0,19.0,46.0,0.0,60.0,39.0,20.0,64.0,34.0,30.0,62.0,29.0,33.0,31.0,51.0,23.0,18.0,47.0,58.0,46.0,44.0,19.0,43.0,21.0,29.0,13.0,16.0,25.0,19.0,29.0,35.0,56.0,20.0,38.0,18.0,26.0,0.0,2.0,36.0,25.0,2.0,0.0,18.0,60.0,26.0,36.0,22.0,21.0,37.0,65.0,44.0,31.0,31.0,21.0,47.0,19.0,33.0,25.0,16.0,44.0,9.0,15.0,34.0,24.0,39.0,27.0,34.0,24.0,43.0,41.0,26.0,27.0,39.0,34.0,33.0,16.0,6.0,13.0,50.0,24.0,18.0,24.0,16.0,22.0,13.0,29.0,30.0,25.0,23.0,28.0,37.0,21.0,54.0,21.0,36.0,21.0,21.0,23.0,40.0,18.0,25.0,24.0,37.0,25.0,24.0,3.0,2.0,22.0,24.0,17.0,53.0,23.0,29.0,21.0,22.0,2.0,null,20.0,14.0,26.0,23.0,21.0,20.0,19.0,29.0,58.0,13.0,32.0,23.0,38.0,47.0,38.0,47.0,20.0,32.0,42.0,34.0,60.0,30.0,11.0,45.0,39.0,19.0,18.0,34.0,null,30.0,48.0,38.0,33.0,47.0,29.0,8.0,47.0,26.0,13.0,18.0,27.0,27.0,30.0,25.0,26.0,20.0,52.0,3.0,6.0,0.0,22.0,1.0,44.0,18.0,20.0,29.0,28.0,39.0,11.0,2.0,15.0,32.0,15.0,1.0,20.0,25.0,32.0,32.0,18.0,49.0,2.0,13.0,28.0,56.0,27.0,34.0,28.0,31.0,24.0,8.0,20.0,63.0,0.0,13.0,1.0,13.0,2.0,18.0,30.0,35.0,28.0,28.0,48.0,34.0,16.0,24.0,53.0,24.0,32.0,15.0,24.0,35.0,42.0,18.0,15.0,37.0,35.0,34.0,21.0,14.0,16.0,23.0,53.0,18.0,16.0,34.0,13.0,25.0,43.0,39.0,19.0,21.0,20.0,16.0,9.0,18.0,23.0,36.0,30.0,46.0,22.0,1.0,21.0,24.0,51.0,26.0,35.0,22.0,30.0,28.0,33.0,56.0,32.0,39.0,25.0,25.0,34.0,null,18.0,18.0,23.0,21.0,47.0,18.0,43.0,18.0,25.0,30.0,21.0,24.0,20.0,30.0,58.0,36.0,27.0,33.0,55.0,24.0,17.0,19.0,25.0,22.0,16.0,36.0,40.0,21.0,24.0,26.0,30.0,27.0,24.0,23.0,55.0,47.0,31.0,40.0,19.0,18.0,48.0,15.0,47.0,21.0,18.0,20.0,20.0,19.0,22.0,16.0,26.0,27.0,17.0,24.0,55.0,7.0,null,29.0,31.0,44.0,26.0,3.0,21.0,0.0,40.0,25.0,2.0,28.0,14.0,30.0,21.0,30.0,39.0,43.0,22.0,18.0,35.0,21.0,23.0,15.0,37.0,58.0,null,21.0,0.0,15.0,38.0,26.0,47.0,26.0,56.0,18.0,21.0,18.0,44.0,39.0,54.0,23.0,26.0,22.0,25.0,49.0,46.0,17.0,23.0,18.0,23.0,38.0,32.0,18.0,24.0,37.0,41.0,31.0,28.0,40.0,48.0,41.0,36.0,11.0,19.0,20.0,29.0,26.0,24.0,null,28.0,13.0,null,19.0,32.0,23.0,18.0,25.0,19.0,24.0,29.0,43.0,3.0,4.0,2.0,24.0,27.0,37.0,44.0,21.0,27.0,49.0,27.0,63.0,28.0,33.0,21.0,24.0,26.0,27.0,21.0,56.0,31.0,47.0,24.0,18.0,42.0,31.0,22.0,24.0,20.0,51.0,19.0,17.0,23.0,14.0,18.0,42.0,39.0,37.0,27.0,26.0,49.0,32.0,34.0,13.0,21.0,55.0,61.0,24.0,25.0,0.0,38.0,30.0,15.0,21.0,56.0,51.0,26.0,50.0,22.0,25.0,37.0,17.0,38.0,33.0,24.0,21.0,37.0,49.0,42.0,33.0,25.0,27.0,1.0,20.0,20.0,51.0,33.0,45.0,25.0,21.0,22.0,27.0,33.0,24.0,38.0,18.0,63.0,26.0,29.0,24.0,51.0,25.0,41.0,20.0,22.0,15.0,null,19.0,28.0,18.0,31.0,26.0,9.0,42.0,32.0,22.0,51.0,31.0,44.0,36.0,29.0,36.0,9.0,16.0,18.0,51.0,30.0,44.0,22.0,39.0,18.0,34.0,25.0,25.0,16.0,41.0,28.0,15.0,49.0,43.0,28.0,18.0,14.0,40.0,28.0,34.0,22.0,41.0,19.0,33.0,19.0,24.0,3.0,19.0,19.0,45.0,29.0,54.0,1.0,18.0,24.0,18.0,19.0,22.0,48.0,39.0,40.0,34.0,0.0,25.0,3.0,24.0,39.0,55.0,24.0,null,27.0,19.0,27.0,24.0,31.0,52.0,null,58.0,16.0,36.0,23.0,25.0,21.0,22.0,20.0,56.0,4.0,36.0,47.0,24.0,30.0,21.0,52.0,18.0,53.0,62.0,9.0,2.0,null,23.0,28.0,59.0,23.0,20.0,24.0,48.0,25.0,37.0,40.0,17.0,17.0,21.0,50.0,38.0,39.0,0.0,32.0,39.0,13.0,18.0,31.0,5.0,47.0,43.0,27.0,27.0,31.0,26.0,22.0,25.0,20.0,23.0,19.0,27.0,8.0,66.0,17.0,41.0,14.0,53.0,13.0,19.0,19.0,14.0,18.0,25.0,16.0,6.0,22.0,3.0,19.0,23.0,26.0,23.0,25.0,20.0,29.0,26.0,19.0,28.0,21.0,25.0,27.0,54.0,9.0,24.0,22.0,42.0,35.0,6.0,39.0,24.0,21.0,48.0,24.0,25.0,29.0,52.0,43.0,20.0,19.0,20.0,48.0,29.0,46.0,18.0,36.0,22.0,7.0,38.0,44.0,24.0,42.0,35.0,33.0,22.0,35.0,21.0,19.0,34.0,52.0,18.0,null,32.0,36.0,55.0,65.0,29.0,18.0,0.0,35.0,37.0,13.0,15.0,33.0,null,40.0,36.0,33.0,4.0,20.0,23.0,24.0,18.0,25.0,26.0,52.0,47.0,24.0,3.0,9.0,2.0,19.0,12.0,21.0,20.0,63.0,15.0,25.0,13.0,45.0,17.0,18.0,40.0,40.0,65.0,45.0,34.0,37.0,13.0,16.0,16.0,13.0,19.0,54.0,13.0,40.0,25.0,36.0,58.0,2.0,32.0,32.0,null,54.0,21.0,46.0,43.0,18.0,26.0,15.0,39.0,41.0,39.0,19.0,13.0,43.0,33.0,39.0,1.0,5.0,23.0,41.0,39.0,26.0,25.0,35.0,3.0,1.0,13.0,41.0,36.0,27.0,40.0,59.0,25.0,22.0,32.0,22.0,55.0,22.0,33.0,57.0,26.0,28.0,23.0,62.0,45.0,23.0,0.0,21.0,0.0,23.0,25.0,32.0,46.0,28.0,39.0,18.0,22.0,23.0,22.0,73.0,17.0,20.0,15.0,55.0,42.0,39.0,8.0,38.0,17.0,13.0,28.0,22.0,64.0,30.0,28.0,null,39.0,31.0,24.0,0.0,42.0,0.0,43.0,40.0,23.0,54.0,18.0,20.0,24.0,18.0,18.0,47.0,25.0,28.0,8.0,59.0,51.0,38.0,26.0,65.0,36.0,null,14.0,9.0,20.0,19.0,20.0,34.0,27.0,22.0,15.0,28.0,28.0,19.0,33.0,29.0,48.0,31.0,29.0,24.0,19.0,33.0,29.0,38.0,19.0,44.0,20.0,53.0,27.0,23.0,41.0,28.0,18.0,18.0,52.0,28.0,15.0,null,15.0,16.0,17.0,48.0,26.0,34.0,25.0,29.0,36.0,62.0,29.0,19.0,null,14.0,40.0,30.0,41.0,31.0,17.0,25.0,27.0,47.0,32.0,18.0,33.0,19.0,13.0,40.0,32.0,42.0,22.0,24.0,17.0,21.0,24.0,41.0,13.0,10.0,3.0,16.0,26.0,14.0,0.0,32.0,15.0,35.0,20.0,21.0,32.0,29.0,3.0,20.0,43.0,43.0,40.0,34.0,42.0,null,null,43.0],\"xaxis\":\"x\",\"yaxis\":\"y\",\"type\":\"histogram\"},{\"alignmentgroup\":\"True\",\"hovertemplate\":\"type=Test<br>Age=%{x}<extra></extra>\",\"legendgroup\":\"Test\",\"marker\":{\"color\":\"#DE3163\"},\"name\":\"Test\",\"notched\":true,\"offsetgroup\":\"Test\",\"showlegend\":false,\"x\":[27.0,19.0,31.0,38.0,20.0,31.0,21.0,20.0,23.0,24.0,19.0,45.0,44.0,46.0,21.0,27.0,20.0,44.0,29.0,40.0,30.0,14.0,31.0,27.0,66.0,24.0,19.0,36.0,21.0,18.0,26.0,19.0,48.0,23.0,24.0,19.0,24.0,27.0,6.0,33.0,23.0,30.0,null,1.0,20.0,17.0,34.0,24.0,29.0,20.0,5.0,22.0,16.0,7.0,36.0,26.0,40.0,29.0,2.0,23.0,0.0,30.0,56.0,36.0,56.0,19.0,39.0,38.0,null,35.0,26.0,31.0,38.0,27.0,30.0,22.0,29.0,0.0,8.0,3.0,27.0,9.0,29.0,18.0,22.0,24.0,25.0,36.0,14.0,24.0,26.0,29.0,40.0,36.0,46.0,42.0,23.0,19.0,25.0,22.0,35.0,39.0,42.0,35.0,29.0,20.0,25.0,36.0,39.0,23.0,19.0,50.0,41.0,19.0,20.0,19.0,38.0,32.0,44.0,18.0,49.0,23.0,31.0,55.0,60.0,20.0,34.0,14.0,26.0,19.0,25.0,42.0,18.0,50.0,26.0,47.0,35.0,58.0,20.0,28.0,12.0,20.0,22.0,31.0,24.0,17.0,null,18.0,48.0,38.0,33.0,20.0,22.0,52.0,15.0,25.0,14.0,null,16.0,48.0,36.0,19.0,43.0,32.0,54.0,33.0,21.0,33.0,28.0,23.0,26.0,41.0,2.0,21.0,70.0,20.0,31.0,8.0,5.0,45.0,37.0,24.0,55.0,18.0,36.0,59.0,61.0,46.0,29.0,18.0,20.0,28.0,26.0,32.0,18.0,50.0,47.0,15.0,35.0,49.0,32.0,63.0,54.0,21.0,38.0,50.0,32.0,33.0,30.0,28.0,22.0,null,37.0,59.0,31.0,25.0,38.0,37.0,44.0,28.0,45.0,53.0,21.0,33.0,18.0,37.0,34.0,46.0,18.0,19.0,4.0,0.0,12.0,7.0,34.0,10.0,0.0,14.0,27.0,21.0,37.0,29.0,17.0,17.0,35.0,34.0,17.0,39.0,56.0,35.0,17.0,29.0,15.0,37.0,36.0,36.0,18.0,61.0,45.0,21.0,65.0,27.0,13.0,32.0,17.0,44.0,21.0,16.0,41.0,40.0,16.0,17.0,40.0,37.0,53.0,42.0,31.0,18.0,51.0,20.0,19.0,22.0,41.0,28.0,0.0,42.0,20.0,25.0,22.0,25.0,45.0,19.0,16.0,18.0,38.0,27.0,36.0,21.0,1.0,25.0,3.0,7.0,0.0,32.0,5.0,79.0,19.0,30.0,13.0,53.0,40.0,32.0,31.0,63.0,18.0,21.0,14.0,41.0,40.0,58.0,22.0,13.0,16.0,13.0,15.0,42.0,24.0,19.0,null,29.0,15.0,38.0,49.0,20.0,null,19.0,46.0,21.0,29.0,null,44.0,19.0,29.0,25.0,41.0,19.0,33.0,25.0,44.0,21.0,32.0,33.0,32.0,19.0,21.0,23.0,31.0,22.0,74.0,53.0,40.0,23.0,36.0,18.0,29.0,48.0,34.0,34.0,27.0,44.0,0.0,1.0,18.0,23.0,26.0,46.0,41.0,25.0,50.0,28.0,17.0,29.0,19.0,34.0,28.0,47.0,28.0,38.0,22.0,18.0,21.0,40.0,67.0,39.0,19.0,28.0,29.0,22.0,23.0,41.0,25.0,43.0,54.0,14.0,69.0,24.0,37.0,28.0,59.0,20.0,23.0,59.0,20.0,36.0,43.0,9.0,32.0,24.0,14.0,45.0,23.0,59.0,28.0,61.0,52.0,5.0,51.0,26.0,44.0,46.0,32.0,17.0,21.0,52.0,52.0,14.0,21.0,42.0,28.0,26.0,7.0,14.0,3.0,26.0,54.0,55.0,16.0,38.0,48.0,13.0,20.0,18.0,45.0,5.0,42.0,50.0,21.0,22.0,23.0,22.0,21.0,24.0,24.0,42.0,19.0,32.0,35.0,19.0,55.0,35.0,63.0,66.0,45.0,20.0,21.0,51.0,13.0,24.0,28.0,52.0,32.0,23.0,37.0,35.0,46.0,33.0,34.0,51.0,null,27.0,22.0,33.0,31.0,16.0,6.0,18.0,30.0,24.0,57.0,24.0,23.0,40.0,21.0,17.0,25.0,34.0,18.0,8.0,14.0,16.0,22.0,21.0,23.0,26.0,18.0,72.0,18.0,24.0,36.0,13.0,19.0,28.0,2.0,5.0,25.0,45.0,59.0,6.0,36.0,40.0,36.0,31.0,19.0,13.0,31.0,22.0,52.0,22.0,34.0,23.0,14.0,30.0,75.0,28.0,61.0,25.0,21.0,null,28.0,41.0,25.0,28.0,0.0,19.0,22.0,2.0,35.0,42.0,46.0,26.0,19.0,11.0,11.0,17.0,23.0,37.0,18.0,48.0,18.0,18.0,32.0,26.0,26.0,55.0,19.0,65.0,28.0,24.0,52.0,67.0,34.0,23.0,26.0,28.0,9.0,1.0,1.0,58.0,59.0,54.0,8.0,28.0,19.0,23.0,47.0,17.0,33.0,43.0,28.0,32.0,13.0,18.0,16.0,6.0,27.0,29.0,32.0,23.0,33.0,51.0,41.0,20.0,0.0,13.0,13.0,13.0,24.0,null,32.0,24.0,27.0,24.0,34.0,26.0,22.0,10.0,28.0,5.0,null,29.0,17.0,18.0,35.0,42.0,35.0,42.0,33.0,20.0,2.0,2.0,43.0,10.0,26.0,42.0,24.0,32.0,23.0,null,15.0,15.0,null,15.0,13.0,33.0,47.0,27.0,18.0,10.0,40.0,28.0,23.0,23.0,41.0,20.0,29.0,17.0,21.0,25.0,25.0,28.0,24.0,56.0,36.0,20.0,50.0,29.0,34.0,40.0,20.0,36.0,25.0,25.0,17.0,42.0,47.0,23.0,null,39.0,43.0,23.0,46.0,31.0,37.0,48.0,28.0,38.0,31.0,35.0,28.0,29.0,19.0,null,44.0,59.0,23.0,48.0,49.0,15.0,30.0,20.0,20.0,6.0,1.0,1.0,2.0,8.0,29.0,43.0,73.0,48.0,24.0,20.0,17.0,42.0,22.0,54.0,41.0,0.0,20.0,54.0,73.0,17.0,21.0,60.0,50.0,17.0,18.0,25.0,57.0,46.0,71.0,21.0,38.0,23.0,24.0,25.0,35.0,21.0,22.0,60.0,29.0,49.0,27.0,23.0,23.0,33.0,35.0,27.0,44.0,18.0,31.0,21.0,27.0,36.0,33.0,30.0,29.0,32.0,31.0,27.0,25.0,38.0,47.0,24.0,46.0,16.0,30.0,0.0,60.0,50.0,37.0,27.0,29.0,null,22.0,null,null,14.0,null,20.0,19.0,14.0,69.0,26.0,25.0,36.0,34.0,4.0,1.0,24.0,21.0,25.0,44.0,22.0,64.0,32.0,42.0,29.0,4.0,17.0,21.0,52.0,29.0,35.0,23.0,27.0,8.0,20.0,16.0,35.0,44.0,19.0,2.0,30.0,28.0,44.0,20.0,22.0,14.0,20.0,45.0,19.0,42.0,23.0,43.0,20.0,11.0,20.0,21.0,17.0,32.0,24.0,4.0,4.0,36.0,27.0,46.0,24.0,3.0,21.0,42.0,26.0,38.0,36.0,28.0,62.0,22.0,18.0,12.0,32.0,11.0,47.0,48.0,38.0,19.0,22.0,21.0,37.0,28.0,15.0,57.0,22.0,22.0,29.0,0.0,44.0,22.0,25.0,64.0,21.0,35.0,15.0,48.0,22.0,42.0,13.0,35.0,27.0,21.0,22.0,33.0,25.0,37.0,36.0,47.0,34.0,29.0,39.0,27.0,35.0,0.0,33.0,24.0,19.0,33.0,19.0,16.0,47.0,40.0,19.0,27.0,31.0,24.0,31.0,41.0,16.0,27.0,11.0,28.0,51.0,1.0,56.0,null,57.0,13.0,32.0,28.0,12.0,35.0,33.0,14.0,26.0,25.0,27.0,23.0,45.0,50.0,24.0,54.0,19.0,19.0,28.0,28.0,39.0,20.0,30.0,35.0,36.0,33.0,30.0,25.0,45.0,23.0,51.0,31.0,55.0,24.0,57.0,24.0,44.0,0.0,15.0,49.0,24.0,47.0,26.0,null,4.0,30.0,23.0,23.0,4.0,3.0,42.0,22.0,21.0,28.0,35.0,20.0,22.0,30.0,0.0,22.0,15.0,4.0,19.0,29.0,17.0,21.0,20.0,24.0,6.0,9.0,21.0,46.0,20.0,27.0,23.0,28.0,53.0,41.0,32.0,27.0,31.0,20.0,19.0,55.0,35.0,70.0,22.0,46.0,16.0,14.0,13.0,44.0,15.0,32.0,26.0,42.0,44.0,15.0,35.0,35.0,24.0,19.0,37.0,31.0,39.0,35.0,26.0,26.0,0.0,8.0,44.0,20.0,56.0,31.0,16.0,29.0,22.0,39.0,25.0,43.0,37.0,24.0,53.0,19.0,24.0,31.0,27.0,57.0,26.0,15.0,19.0,27.0,23.0,6.0,15.0,2.0,21.0,0.0,18.0,46.0,43.0,45.0,40.0,44.0,27.0,55.0,24.0,27.0,33.0,35.0,33.0,34.0,37.0,46.0,45.0,14.0,null,56.0,24.0,19.0,51.0,24.0,23.0,21.0,6.0,11.0,4.0,0.0,7.0,24.0,32.0,43.0,24.0,49.0,21.0,29.0,25.0,27.0,14.0,67.0,17.0,44.0,52.0,14.0,17.0,19.0,36.0,19.0,25.0,39.0,32.0,75.0,37.0,25.0,33.0,25.0,24.0,22.0,22.0,36.0,4.0,61.0,0.0,15.0,42.0,27.0,5.0,32.0,38.0,21.0,23.0,34.0,28.0,23.0,14.0,60.0,78.0,6.0,17.0,41.0,40.0,47.0,23.0,41.0,60.0,46.0,19.0,18.0,0.0,28.0,30.0,9.0,0.0,4.0,22.0,32.0,7.0,19.0,34.0,24.0,17.0,31.0,42.0,14.0,27.0,21.0,24.0,34.0,35.0,43.0,25.0,19.0,25.0,22.0,23.0,42.0,40.0,71.0,18.0,34.0,4.0,18.0,22.0,38.0,33.0,27.0,18.0,34.0,66.0,47.0,35.0,23.0,36.0,36.0,35.0,15.0,39.0,48.0,47.0,21.0,31.0,13.0,32.0,22.0,40.0,15.0,33.0,28.0,17.0,20.0,42.0,18.0,27.0,32.0,19.0,9.0,36.0,21.0,40.0,42.0,40.0,22.0,15.0,38.0,15.0,24.0,22.0,24.0,25.0,22.0,57.0,25.0,21.0,41.0,27.0,18.0,61.0,9.0,1.0,27.0,20.0,2.0,0.0,25.0,22.0,32.0,28.0,43.0,28.0,32.0,54.0,27.0,30.0,25.0,39.0,14.0,8.0,22.0,27.0,43.0,16.0,40.0,48.0,25.0,29.0,60.0,22.0,37.0,35.0,23.0,24.0,15.0,18.0,14.0,39.0,12.0,43.0,45.0,24.0,52.0,18.0,38.0,null,28.0,19.0,45.0,27.0,15.0,22.0,23.0,32.0,15.0,30.0,60.0,50.0,45.0,24.0,22.0,20.0,19.0,40.0,14.0,18.0,20.0,35.0,24.0,30.0,44.0,42.0,3.0,19.0,69.0,50.0,15.0,18.0,25.0,15.0,62.0,19.0,29.0,28.0,25.0,22.0,35.0,61.0,26.0,19.0,2.0,0.0,26.0,6.0,23.0,50.0,18.0,7.0,3.0,3.0,37.0,25.0,22.0,20.0,32.0,34.0,47.0,23.0,22.0,35.0,18.0,36.0,32.0,29.0,19.0,45.0,null,14.0,22.0,31.0,25.0,15.0,28.0,34.0,28.0,45.0,44.0,22.0,48.0,25.0,24.0,20.0,46.0,40.0,26.0,56.0,37.0,35.0,15.0,21.0,24.0,30.0,34.0,16.0,55.0,27.0,44.0,17.0,17.0,36.0,18.0,14.0,21.0,26.0,null,21.0,25.0,27.0,25.0,43.0,35.0,21.0,23.0,17.0,21.0,21.0,39.0,22.0,40.0,25.0,6.0,1.0,1.0,20.0,17.0,22.0,18.0,49.0,27.0,40.0,22.0,55.0,45.0,33.0,42.0,27.0,16.0,23.0,31.0,62.0,43.0,57.0,23.0,20.0,21.0,27.0,31.0,31.0,24.0,27.0,28.0,44.0,19.0,14.0,65.0,73.0,null,25.0,null,34.0,63.0,53.0,18.0,40.0,28.0,45.0,32.0,19.0,65.0,20.0,18.0,18.0,58.0,25.0,13.0,null,22.0,22.0,10.0,14.0,44.0,10.0,37.0,37.0,44.0,42.0,18.0,34.0,15.0,36.0,27.0,33.0,27.0,22.0,19.0,18.0,31.0,41.0,48.0,23.0,29.0,38.0,21.0,20.0,27.0,33.0,24.0,23.0,22.0,13.0,24.0,32.0,17.0,28.0,46.0,18.0,24.0,20.0,17.0,44.0,34.0,19.0,28.0,null,57.0,34.0,18.0,28.0,6.0,53.0,6.0,33.0,43.0,44.0,28.0,37.0,55.0,40.0,38.0,24.0,53.0,61.0,17.0,20.0,22.0,27.0,19.0,23.0,33.0,26.0,33.0,39.0,47.0,33.0,40.0,19.0,26.0,24.0,15.0,2.0,33.0,14.0,22.0,45.0,58.0,13.0,36.0,35.0,23.0,27.0,24.0,43.0,67.0,29.0,28.0,18.0,35.0,22.0,19.0,47.0,16.0,41.0,26.0,37.0,26.0,21.0,45.0,28.0,26.0,35.0,60.0,7.0,15.0,26.0,38.0,24.0,77.0,22.0,22.0,20.0,47.0,25.0,9.0,19.0,44.0,41.0,53.0,27.0,20.0,23.0,20.0,null,51.0,22.0,36.0,18.0,19.0,17.0,29.0,18.0,22.0,43.0,24.0,25.0,20.0,23.0,32.0,51.0,22.0,22.0,30.0,23.0,61.0,24.0,19.0,27.0,29.0,55.0,26.0,58.0,60.0,13.0,39.0,35.0,21.0,37.0,31.0,20.0,27.0,40.0,null,36.0,19.0,22.0,15.0,18.0,25.0,62.0,53.0,null,19.0,21.0,20.0,56.0,64.0,null,36.0,51.0,16.0,21.0,50.0,0.0,34.0,3.0,11.0,5.0,47.0,1.0,0.0,23.0,27.0,46.0,34.0,2.0,11.0,1.0,13.0,41.0,11.0,52.0,15.0,58.0,23.0,34.0,9.0,25.0,38.0,42.0,40.0,18.0,42.0,40.0,28.0,56.0,22.0,39.0,35.0,36.0,34.0,22.0,21.0,16.0,35.0,19.0,36.0,32.0,69.0,44.0,34.0,35.0,25.0,3.0,12.0,3.0,13.0,26.0,2.0,25.0,19.0,33.0,41.0,55.0,30.0,35.0,7.0,38.0,51.0,18.0,44.0,18.0,13.0,49.0,8.0,22.0,32.0,null,56.0,18.0,27.0,46.0,18.0,30.0,35.0,48.0,33.0,0.0,11.0,0.0,14.0,9.0,37.0,30.0,21.0,32.0,4.0,19.0,25.0,34.0,19.0,18.0,23.0,53.0,13.0,20.0,34.0,18.0,0.0,35.0,0.0,62.0,15.0,28.0,5.0,22.0,14.0,43.0,24.0,65.0,44.0,50.0,15.0,18.0,41.0,21.0,16.0,21.0,29.0,19.0,18.0,25.0,45.0,32.0,33.0,null,24.0,29.0,24.0,22.0,18.0,16.0,17.0,18.0,25.0,46.0,36.0,62.0,48.0,16.0,27.0,52.0,25.0,13.0,35.0,20.0,42.0,50.0,66.0,31.0,37.0,72.0,30.0,29.0,21.0,33.0,28.0,41.0,44.0,45.0,61.0,21.0,25.0,38.0,68.0,0.0,21.0,55.0,60.0,19.0,17.0,16.0,29.0,29.0,0.0,15.0,27.0,24.0,14.0,17.0,37.0,23.0,17.0,33.0,30.0,20.0,null,25.0,19.0,31.0,23.0,29.0,20.0,26.0,26.0,51.0,null,17.0,22.0,31.0,2.0,0.0,3.0,28.0,21.0,15.0,18.0,52.0,49.0,42.0,28.0,31.0,19.0,41.0,31.0,13.0,35.0,29.0,0.0,19.0,null,19.0,26.0,47.0,29.0,46.0,18.0,33.0,20.0,37.0,35.0,25.0,22.0,47.0,31.0,27.0,47.0,46.0,47.0,40.0,39.0,39.0,35.0,43.0,38.0,31.0,20.0,44.0,25.0,25.0,20.0,33.0,58.0,23.0,35.0,13.0,21.0,20.0,15.0,48.0,58.0,25.0,43.0,53.0,13.0,8.0,53.0,22.0,31.0,28.0,22.0,27.0,29.0,42.0,42.0,33.0,32.0,42.0,22.0,18.0,46.0,20.0,21.0,26.0,51.0,53.0,29.0,25.0,69.0,26.0,38.0,37.0,14.0,36.0,42.0,25.0,35.0,26.0,12.0,48.0,13.0,21.0,26.0,32.0,25.0,51.0,15.0,14.0,41.0,13.0,39.0,19.0,17.0,41.0,43.0,18.0,22.0,29.0,22.0,62.0,29.0,26.0,8.0,26.0,38.0,49.0,18.0,18.0,35.0,34.0,11.0,null,22.0,18.0,36.0,17.0,25.0,29.0,25.0,34.0,16.0,28.0,29.0,38.0,39.0,48.0,23.0,16.0,21.0,21.0,4.0,27.0,18.0,22.0,28.0,22.0,39.0,29.0,42.0,0.0,52.0,26.0,19.0,23.0,36.0,26.0,62.0,28.0,25.0,0.0,24.0,49.0,21.0,29.0,19.0,32.0,20.0,48.0,27.0,49.0,20.0,25.0,null,73.0,23.0,23.0,26.0,48.0,null,54.0,56.0,30.0,24.0,23.0,57.0,null,14.0,51.0,16.0,29.0,43.0,16.0,38.0,40.0,44.0,25.0,20.0,19.0,47.0,21.0,15.0,26.0,50.0,19.0,null,18.0,0.0,34.0,25.0,8.0,0.0,6.0,27.0,32.0,63.0,36.0,33.0,28.0,43.0,23.0,22.0,56.0,25.0,28.0,44.0,20.0,17.0,18.0,15.0,23.0,27.0,10.0,10.0,0.0,16.0,48.0,7.0,50.0,5.0,50.0,35.0,23.0,28.0,20.0,47.0,26.0,17.0,43.0,37.0,25.0,26.0,23.0,46.0,23.0,26.0,27.0,18.0,63.0,2.0,0.0,0.0,37.0,18.0,33.0,31.0,34.0,18.0,20.0,37.0,30.0,7.0,32.0,68.0,0.0,23.0,38.0,26.0,29.0,43.0,38.0,25.0,18.0,23.0,26.0,45.0,25.0,16.0,25.0,11.0,22.0,38.0,25.0,17.0,20.0,24.0,37.0,32.0,32.0,20.0,50.0,33.0,47.0,49.0,20.0,26.0,24.0,11.0,47.0,22.0,35.0,25.0,33.0,20.0,16.0,29.0,16.0,43.0,33.0,16.0,22.0,18.0,36.0,17.0,34.0,1.0,24.0,20.0,56.0,26.0,35.0,3.0,23.0,19.0,0.0,30.0,50.0,15.0,19.0,null,35.0,45.0,0.0,74.0,24.0,39.0,18.0,39.0,33.0,21.0,35.0,66.0,14.0,20.0,18.0,36.0,27.0,51.0,18.0,46.0,67.0,24.0,35.0,14.0,22.0,20.0,23.0,23.0,21.0,36.0,19.0,22.0,58.0,14.0,18.0,40.0,24.0,26.0,16.0,null,21.0,17.0,23.0,22.0,20.0,38.0,37.0,31.0,27.0,31.0,21.0,36.0,20.0,36.0,40.0,25.0,32.0,25.0,49.0,28.0,58.0,null,22.0,61.0,28.0,24.0,40.0,null,15.0,29.0,18.0,28.0,24.0,18.0,21.0,25.0,16.0,49.0,28.0,22.0,11.0,26.0,17.0,26.0,0.0,null,4.0,19.0,5.0,35.0,25.0,26.0,34.0,21.0,26.0,32.0,40.0,13.0,29.0,11.0,25.0,31.0,51.0,20.0,32.0,22.0,38.0,26.0,42.0,57.0,38.0,23.0,32.0,15.0,41.0,19.0,26.0,null,20.0,19.0,30.0,58.0,17.0,null,19.0,20.0,54.0,21.0,44.0,11.0,2.0,20.0,50.0,27.0,28.0,33.0,23.0,22.0,44.0,45.0,20.0,26.0,18.0,21.0,26.0,55.0,24.0,27.0,18.0,20.0,31.0,37.0,37.0,57.0,39.0,20.0,18.0,29.0,31.0,27.0,43.0,null,32.0,19.0,50.0,19.0,44.0,49.0,30.0,41.0,34.0,30.0,22.0,29.0,32.0,40.0,50.0,31.0,1.0,30.0,null,41.0,34.0,14.0,13.0,16.0,25.0,17.0,41.0,28.0,3.0,18.0,20.0,32.0,59.0,52.0,47.0,56.0,24.0,13.0,15.0,40.0,30.0,25.0,10.0,28.0,36.0,12.0,26.0,33.0,42.0,31.0,20.0,24.0,37.0,19.0,13.0,23.0,44.0,36.0,79.0,1.0,12.0,8.0,45.0,10.0,3.0,37.0,43.0,38.0,33.0,25.0,42.0,35.0,35.0,30.0,33.0,30.0,23.0,13.0,32.0,17.0,37.0,49.0,53.0,27.0,26.0,50.0,17.0,22.0,8.0,42.0,30.0,4.0,27.0,15.0,38.0,51.0,26.0,34.0,45.0,18.0,21.0,23.0,24.0,20.0,32.0,22.0,13.0,42.0,19.0,24.0,45.0,35.0,16.0,16.0,43.0,31.0,null,22.0,48.0,20.0,35.0,23.0,28.0,19.0,45.0,16.0,3.0,60.0,33.0,25.0,37.0,51.0,29.0,39.0,29.0,27.0,38.0,13.0,33.0,45.0,0.0,18.0,0.0,38.0,0.0,21.0,56.0,38.0,35.0,34.0,15.0,22.0,28.0,18.0,47.0,23.0,44.0,18.0,21.0,65.0,18.0,27.0,16.0,17.0,19.0,33.0,20.0,10.0,6.0,0.0,0.0,4.0,null,27.0,54.0,24.0,47.0,16.0,59.0,31.0,28.0,23.0,19.0,18.0,28.0,13.0,33.0,28.0,17.0,36.0,29.0,18.0,37.0,36.0,44.0,21.0,20.0,45.0,28.0,20.0,18.0,null,19.0,27.0,26.0,29.0,18.0,12.0,0.0,2.0,16.0,17.0,20.0,30.0,20.0,31.0,13.0,23.0,19.0,18.0,50.0,43.0,52.0,24.0,46.0,25.0,53.0,17.0,29.0,26.0,35.0,51.0,20.0,19.0,59.0,23.0,22.0,21.0,25.0,23.0,15.0,20.0,22.0,20.0,35.0,41.0,18.0,40.0,25.0,31.0,47.0,29.0,null,18.0,19.0,50.0,26.0,29.0,14.0,14.0,0.0,34.0,23.0,24.0,39.0,22.0,23.0,26.0,28.0,42.0,37.0,45.0,21.0,42.0,20.0,61.0,0.0,3.0,18.0,44.0,50.0,18.0,0.0,58.0,50.0,43.0,21.0,30.0,20.0,24.0,24.0,37.0,21.0,48.0,33.0,21.0,21.0,13.0,5.0,24.0,37.0,23.0,35.0,24.0,20.0,0.0,64.0,31.0,6.0,3.0,10.0,19.0,19.0,46.0,25.0,27.0,23.0,20.0,24.0,50.0,44.0,28.0,25.0,14.0,21.0,16.0,25.0,41.0,20.0,24.0,31.0,23.0,54.0,26.0,49.0,0.0,17.0,22.0,11.0,28.0,17.0,47.0,29.0,46.0,66.0,0.0,5.0,1.0,42.0,5.0,null,41.0,30.0,26.0,16.0,22.0,20.0,44.0,36.0,6.0,13.0,22.0,69.0,40.0,46.0,34.0,39.0,37.0,13.0,20.0,28.0,54.0,9.0,61.0,18.0,null,24.0,24.0,0.0,30.0,null,26.0,26.0,3.0,30.0,51.0,36.0,18.0,27.0,36.0,39.0,17.0,24.0,14.0,25.0,35.0,17.0,45.0,35.0,19.0,null,33.0,22.0,32.0,25.0,26.0,21.0,49.0,26.0,20.0,28.0,35.0,66.0,47.0,25.0,23.0,19.0,8.0,42.0,33.0,29.0,63.0,24.0,62.0,null,52.0,23.0,47.0,50.0,32.0,33.0,26.0,20.0,28.0,38.0,42.0,0.0,23.0,39.0,25.0,17.0,15.0,31.0,49.0,41.0,37.0,27.0,13.0,42.0,21.0,29.0,0.0,19.0,36.0,31.0,16.0,42.0,16.0,23.0,42.0,34.0,38.0,21.0,25.0,30.0,40.0,31.0,20.0,37.0,26.0,22.0,21.0,33.0,40.0,11.0,27.0,22.0,40.0,61.0,28.0,24.0,43.0,22.0,14.0,56.0,35.0,62.0,44.0,32.0,26.0,22.0,56.0,29.0,21.0,34.0,35.0,18.0,23.0,18.0,24.0,19.0,62.0,52.0,37.0,21.0,48.0,43.0,18.0,33.0,33.0,29.0,66.0,41.0,17.0,8.0,20.0,25.0,47.0,40.0,26.0,19.0,35.0,0.0,12.0,37.0,38.0,34.0,30.0,22.0,23.0,59.0,19.0,16.0,22.0,30.0,26.0,18.0,29.0,32.0,33.0,20.0,55.0,41.0,22.0,61.0,20.0,57.0,17.0,60.0,20.0,20.0,40.0,28.0,17.0,18.0,46.0,29.0,25.0,59.0,17.0,65.0,32.0,35.0,18.0,23.0,27.0,0.0,26.0,38.0,35.0,32.0,9.0,11.0,13.0,2.0,12.0,27.0,14.0,37.0,6.0,36.0,27.0,20.0,24.0,21.0,50.0,18.0,34.0,22.0,63.0,39.0,26.0,27.0,17.0,39.0,26.0,30.0,26.0,34.0,24.0,21.0,25.0,64.0,40.0,null,23.0,46.0,22.0,0.0,8.0,35.0,22.0,29.0,25.0,24.0,26.0,20.0,40.0,28.0,22.0,23.0,26.0,19.0,35.0,41.0,37.0,44.0,34.0,39.0,27.0,32.0,13.0,10.0,28.0,25.0,null,27.0,29.0,6.0,2.0,6.0,24.0,31.0,35.0,13.0,64.0,18.0,32.0,21.0,13.0,43.0,39.0,26.0,21.0,18.0,27.0,null,27.0,29.0,20.0,26.0,null,34.0,15.0,24.0,26.0,14.0,24.0,31.0,21.0,28.0,19.0,50.0,15.0,34.0,35.0,34.0,36.0,27.0,30.0,34.0,45.0,21.0,56.0,21.0,28.0,38.0,34.0,33.0,34.0,19.0,19.0,17.0,20.0,22.0,35.0,50.0,19.0,23.0,38.0,20.0,31.0,28.0,36.0,27.0,66.0,14.0,29.0,34.0,13.0,47.0,26.0,50.0,38.0,59.0,43.0,30.0,33.0,33.0,42.0,17.0,18.0,34.0,46.0,35.0,40.0,26.0,43.0,41.0,31.0,23.0,25.0,37.0,14.0,3.0,18.0,35.0,19.0,39.0,48.0,27.0,3.0,28.0,34.0,31.0,60.0,45.0,48.0,21.0,24.0,16.0,19.0,26.0,22.0,33.0,44.0,27.0,23.0,43.0,14.0,41.0,20.0,0.0,2.0,22.0,29.0,35.0,20.0,16.0,38.0,35.0,19.0,25.0,32.0,24.0,20.0,27.0,18.0,31.0,47.0,58.0,37.0,35.0,38.0,32.0,35.0,27.0,61.0,72.0,30.0,14.0,28.0,20.0,41.0,29.0,32.0,33.0,27.0,21.0,21.0,18.0,3.0,0.0,41.0,57.0,50.0,54.0,49.0,19.0,51.0,null,5.0,13.0,0.0,8.0,27.0,13.0,47.0,6.0,59.0,20.0,35.0,22.0,16.0,18.0,26.0,19.0,23.0,21.0,32.0,25.0,50.0,27.0,44.0,47.0,58.0,27.0,52.0,21.0,25.0,31.0,28.0,42.0,49.0,3.0,5.0,null,57.0,29.0,29.0,21.0,25.0,26.0,33.0,43.0,26.0,13.0,30.0,8.0,null,23.0,22.0,36.0,35.0,26.0,15.0,18.0,41.0,41.0,22.0,null,0.0,16.0,27.0,13.0,1.0,32.0,35.0,40.0,17.0,49.0,21.0,9.0,27.0,59.0,25.0,21.0,15.0,28.0,42.0,22.0,21.0,48.0,24.0,47.0,13.0,32.0,29.0,35.0,24.0,52.0,21.0,36.0,19.0,39.0,59.0,45.0,25.0,64.0,24.0,36.0,26.0,31.0,18.0,21.0,34.0,32.0,19.0,18.0,39.0,null,19.0,16.0,24.0,2.0,10.0,2.0,21.0,5.0,29.0,41.0,32.0,23.0,23.0,40.0,45.0,30.0,56.0,13.0,19.0,46.0,0.0,60.0,39.0,20.0,64.0,34.0,30.0,62.0,29.0,33.0,31.0,51.0,23.0,18.0,47.0,58.0,46.0,44.0,19.0,43.0,21.0,29.0,13.0,16.0,25.0,19.0,29.0,35.0,56.0,20.0,38.0,18.0,26.0,0.0,2.0,36.0,25.0,2.0,0.0,18.0,60.0,26.0,36.0,22.0,21.0,37.0,65.0,44.0,31.0,31.0,21.0,47.0,19.0,33.0,25.0,16.0,44.0,9.0,15.0,34.0,24.0,39.0,27.0,34.0,24.0,43.0,41.0,26.0,27.0,39.0,34.0,33.0,16.0,6.0,13.0,50.0,24.0,18.0,24.0,16.0,22.0,13.0,29.0,30.0,25.0,23.0,28.0,37.0,21.0,54.0,21.0,36.0,21.0,21.0,23.0,40.0,18.0,25.0,24.0,37.0,25.0,24.0,3.0,2.0,22.0,24.0,17.0,53.0,23.0,29.0,21.0,22.0,2.0,null,20.0,14.0,26.0,23.0,21.0,20.0,19.0,29.0,58.0,13.0,32.0,23.0,38.0,47.0,38.0,47.0,20.0,32.0,42.0,34.0,60.0,30.0,11.0,45.0,39.0,19.0,18.0,34.0,null,30.0,48.0,38.0,33.0,47.0,29.0,8.0,47.0,26.0,13.0,18.0,27.0,27.0,30.0,25.0,26.0,20.0,52.0,3.0,6.0,0.0,22.0,1.0,44.0,18.0,20.0,29.0,28.0,39.0,11.0,2.0,15.0,32.0,15.0,1.0,20.0,25.0,32.0,32.0,18.0,49.0,2.0,13.0,28.0,56.0,27.0,34.0,28.0,31.0,24.0,8.0,20.0,63.0,0.0,13.0,1.0,13.0,2.0,18.0,30.0,35.0,28.0,28.0,48.0,34.0,16.0,24.0,53.0,24.0,32.0,15.0,24.0,35.0,42.0,18.0,15.0,37.0,35.0,34.0,21.0,14.0,16.0,23.0,53.0,18.0,16.0,34.0,13.0,25.0,43.0,39.0,19.0,21.0,20.0,16.0,9.0,18.0,23.0,36.0,30.0,46.0,22.0,1.0,21.0,24.0,51.0,26.0,35.0,22.0,30.0,28.0,33.0,56.0,32.0,39.0,25.0,25.0,34.0,null,18.0,18.0,23.0,21.0,47.0,18.0,43.0,18.0,25.0,30.0,21.0,24.0,20.0,30.0,58.0,36.0,27.0,33.0,55.0,24.0,17.0,19.0,25.0,22.0,16.0,36.0,40.0,21.0,24.0,26.0,30.0,27.0,24.0,23.0,55.0,47.0,31.0,40.0,19.0,18.0,48.0,15.0,47.0,21.0,18.0,20.0,20.0,19.0,22.0,16.0,26.0,27.0,17.0,24.0,55.0,7.0,null,29.0,31.0,44.0,26.0,3.0,21.0,0.0,40.0,25.0,2.0,28.0,14.0,30.0,21.0,30.0,39.0,43.0,22.0,18.0,35.0,21.0,23.0,15.0,37.0,58.0,null,21.0,0.0,15.0,38.0,26.0,47.0,26.0,56.0,18.0,21.0,18.0,44.0,39.0,54.0,23.0,26.0,22.0,25.0,49.0,46.0,17.0,23.0,18.0,23.0,38.0,32.0,18.0,24.0,37.0,41.0,31.0,28.0,40.0,48.0,41.0,36.0,11.0,19.0,20.0,29.0,26.0,24.0,null,28.0,13.0,null,19.0,32.0,23.0,18.0,25.0,19.0,24.0,29.0,43.0,3.0,4.0,2.0,24.0,27.0,37.0,44.0,21.0,27.0,49.0,27.0,63.0,28.0,33.0,21.0,24.0,26.0,27.0,21.0,56.0,31.0,47.0,24.0,18.0,42.0,31.0,22.0,24.0,20.0,51.0,19.0,17.0,23.0,14.0,18.0,42.0,39.0,37.0,27.0,26.0,49.0,32.0,34.0,13.0,21.0,55.0,61.0,24.0,25.0,0.0,38.0,30.0,15.0,21.0,56.0,51.0,26.0,50.0,22.0,25.0,37.0,17.0,38.0,33.0,24.0,21.0,37.0,49.0,42.0,33.0,25.0,27.0,1.0,20.0,20.0,51.0,33.0,45.0,25.0,21.0,22.0,27.0,33.0,24.0,38.0,18.0,63.0,26.0,29.0,24.0,51.0,25.0,41.0,20.0,22.0,15.0,null,19.0,28.0,18.0,31.0,26.0,9.0,42.0,32.0,22.0,51.0,31.0,44.0,36.0,29.0,36.0,9.0,16.0,18.0,51.0,30.0,44.0,22.0,39.0,18.0,34.0,25.0,25.0,16.0,41.0,28.0,15.0,49.0,43.0,28.0,18.0,14.0,40.0,28.0,34.0,22.0,41.0,19.0,33.0,19.0,24.0,3.0,19.0,19.0,45.0,29.0,54.0,1.0,18.0,24.0,18.0,19.0,22.0,48.0,39.0,40.0,34.0,0.0,25.0,3.0,24.0,39.0,55.0,24.0,null,27.0,19.0,27.0,24.0,31.0,52.0,null,58.0,16.0,36.0,23.0,25.0,21.0,22.0,20.0,56.0,4.0,36.0,47.0,24.0,30.0,21.0,52.0,18.0,53.0,62.0,9.0,2.0,null,23.0,28.0,59.0,23.0,20.0,24.0,48.0,25.0,37.0,40.0,17.0,17.0,21.0,50.0,38.0,39.0,0.0,32.0,39.0,13.0,18.0,31.0,5.0,47.0,43.0,27.0,27.0,31.0,26.0,22.0,25.0,20.0,23.0,19.0,27.0,8.0,66.0,17.0,41.0,14.0,53.0,13.0,19.0,19.0,14.0,18.0,25.0,16.0,6.0,22.0,3.0,19.0,23.0,26.0,23.0,25.0,20.0,29.0,26.0,19.0,28.0,21.0,25.0,27.0,54.0,9.0,24.0,22.0,42.0,35.0,6.0,39.0,24.0,21.0,48.0,24.0,25.0,29.0,52.0,43.0,20.0,19.0,20.0,48.0,29.0,46.0,18.0,36.0,22.0,7.0,38.0,44.0,24.0,42.0,35.0,33.0,22.0,35.0,21.0,19.0,34.0,52.0,18.0,null,32.0,36.0,55.0,65.0,29.0,18.0,0.0,35.0,37.0,13.0,15.0,33.0,null,40.0,36.0,33.0,4.0,20.0,23.0,24.0,18.0,25.0,26.0,52.0,47.0,24.0,3.0,9.0,2.0,19.0,12.0,21.0,20.0,63.0,15.0,25.0,13.0,45.0,17.0,18.0,40.0,40.0,65.0,45.0,34.0,37.0,13.0,16.0,16.0,13.0,19.0,54.0,13.0,40.0,25.0,36.0,58.0,2.0,32.0,32.0,null,54.0,21.0,46.0,43.0,18.0,26.0,15.0,39.0,41.0,39.0,19.0,13.0,43.0,33.0,39.0,1.0,5.0,23.0,41.0,39.0,26.0,25.0,35.0,3.0,1.0,13.0,41.0,36.0,27.0,40.0,59.0,25.0,22.0,32.0,22.0,55.0,22.0,33.0,57.0,26.0,28.0,23.0,62.0,45.0,23.0,0.0,21.0,0.0,23.0,25.0,32.0,46.0,28.0,39.0,18.0,22.0,23.0,22.0,73.0,17.0,20.0,15.0,55.0,42.0,39.0,8.0,38.0,17.0,13.0,28.0,22.0,64.0,30.0,28.0,null,39.0,31.0,24.0,0.0,42.0,0.0,43.0,40.0,23.0,54.0,18.0,20.0,24.0,18.0,18.0,47.0,25.0,28.0,8.0,59.0,51.0,38.0,26.0,65.0,36.0,null,14.0,9.0,20.0,19.0,20.0,34.0,27.0,22.0,15.0,28.0,28.0,19.0,33.0,29.0,48.0,31.0,29.0,24.0,19.0,33.0,29.0,38.0,19.0,44.0,20.0,53.0,27.0,23.0,41.0,28.0,18.0,18.0,52.0,28.0,15.0,null,15.0,16.0,17.0,48.0,26.0,34.0,25.0,29.0,36.0,62.0,29.0,19.0,null,14.0,40.0,30.0,41.0,31.0,17.0,25.0,27.0,47.0,32.0,18.0,33.0,19.0,13.0,40.0,32.0,42.0,22.0,24.0,17.0,21.0,24.0,41.0,13.0,10.0,3.0,16.0,26.0,14.0,0.0,32.0,15.0,35.0,20.0,21.0,32.0,29.0,3.0,20.0,43.0,43.0,40.0,34.0,42.0,null,null,43.0],\"xaxis\":\"x2\",\"yaxis\":\"y2\",\"type\":\"box\"}],                        {\"template\":{\"data\":{\"barpolar\":[{\"marker\":{\"line\":{\"color\":\"white\",\"width\":0.5},\"pattern\":{\"fillmode\":\"overlay\",\"size\":10,\"solidity\":0.2}},\"type\":\"barpolar\"}],\"bar\":[{\"error_x\":{\"color\":\"#2a3f5f\"},\"error_y\":{\"color\":\"#2a3f5f\"},\"marker\":{\"line\":{\"color\":\"white\",\"width\":0.5},\"pattern\":{\"fillmode\":\"overlay\",\"size\":10,\"solidity\":0.2}},\"type\":\"bar\"}],\"carpet\":[{\"aaxis\":{\"endlinecolor\":\"#2a3f5f\",\"gridcolor\":\"#C8D4E3\",\"linecolor\":\"#C8D4E3\",\"minorgridcolor\":\"#C8D4E3\",\"startlinecolor\":\"#2a3f5f\"},\"baxis\":{\"endlinecolor\":\"#2a3f5f\",\"gridcolor\":\"#C8D4E3\",\"linecolor\":\"#C8D4E3\",\"minorgridcolor\":\"#C8D4E3\",\"startlinecolor\":\"#2a3f5f\"},\"type\":\"carpet\"}],\"choropleth\":[{\"colorbar\":{\"outlinewidth\":0,\"ticks\":\"\"},\"type\":\"choropleth\"}],\"contourcarpet\":[{\"colorbar\":{\"outlinewidth\":0,\"ticks\":\"\"},\"type\":\"contourcarpet\"}],\"contour\":[{\"colorbar\":{\"outlinewidth\":0,\"ticks\":\"\"},\"colorscale\":[[0.0,\"#0d0887\"],[0.1111111111111111,\"#46039f\"],[0.2222222222222222,\"#7201a8\"],[0.3333333333333333,\"#9c179e\"],[0.4444444444444444,\"#bd3786\"],[0.5555555555555556,\"#d8576b\"],[0.6666666666666666,\"#ed7953\"],[0.7777777777777778,\"#fb9f3a\"],[0.8888888888888888,\"#fdca26\"],[1.0,\"#f0f921\"]],\"type\":\"contour\"}],\"heatmapgl\":[{\"colorbar\":{\"outlinewidth\":0,\"ticks\":\"\"},\"colorscale\":[[0.0,\"#0d0887\"],[0.1111111111111111,\"#46039f\"],[0.2222222222222222,\"#7201a8\"],[0.3333333333333333,\"#9c179e\"],[0.4444444444444444,\"#bd3786\"],[0.5555555555555556,\"#d8576b\"],[0.6666666666666666,\"#ed7953\"],[0.7777777777777778,\"#fb9f3a\"],[0.8888888888888888,\"#fdca26\"],[1.0,\"#f0f921\"]],\"type\":\"heatmapgl\"}],\"heatmap\":[{\"colorbar\":{\"outlinewidth\":0,\"ticks\":\"\"},\"colorscale\":[[0.0,\"#0d0887\"],[0.1111111111111111,\"#46039f\"],[0.2222222222222222,\"#7201a8\"],[0.3333333333333333,\"#9c179e\"],[0.4444444444444444,\"#bd3786\"],[0.5555555555555556,\"#d8576b\"],[0.6666666666666666,\"#ed7953\"],[0.7777777777777778,\"#fb9f3a\"],[0.8888888888888888,\"#fdca26\"],[1.0,\"#f0f921\"]],\"type\":\"heatmap\"}],\"histogram2dcontour\":[{\"colorbar\":{\"outlinewidth\":0,\"ticks\":\"\"},\"colorscale\":[[0.0,\"#0d0887\"],[0.1111111111111111,\"#46039f\"],[0.2222222222222222,\"#7201a8\"],[0.3333333333333333,\"#9c179e\"],[0.4444444444444444,\"#bd3786\"],[0.5555555555555556,\"#d8576b\"],[0.6666666666666666,\"#ed7953\"],[0.7777777777777778,\"#fb9f3a\"],[0.8888888888888888,\"#fdca26\"],[1.0,\"#f0f921\"]],\"type\":\"histogram2dcontour\"}],\"histogram2d\":[{\"colorbar\":{\"outlinewidth\":0,\"ticks\":\"\"},\"colorscale\":[[0.0,\"#0d0887\"],[0.1111111111111111,\"#46039f\"],[0.2222222222222222,\"#7201a8\"],[0.3333333333333333,\"#9c179e\"],[0.4444444444444444,\"#bd3786\"],[0.5555555555555556,\"#d8576b\"],[0.6666666666666666,\"#ed7953\"],[0.7777777777777778,\"#fb9f3a\"],[0.8888888888888888,\"#fdca26\"],[1.0,\"#f0f921\"]],\"type\":\"histogram2d\"}],\"histogram\":[{\"marker\":{\"pattern\":{\"fillmode\":\"overlay\",\"size\":10,\"solidity\":0.2}},\"type\":\"histogram\"}],\"mesh3d\":[{\"colorbar\":{\"outlinewidth\":0,\"ticks\":\"\"},\"type\":\"mesh3d\"}],\"parcoords\":[{\"line\":{\"colorbar\":{\"outlinewidth\":0,\"ticks\":\"\"}},\"type\":\"parcoords\"}],\"pie\":[{\"automargin\":true,\"type\":\"pie\"}],\"scatter3d\":[{\"line\":{\"colorbar\":{\"outlinewidth\":0,\"ticks\":\"\"}},\"marker\":{\"colorbar\":{\"outlinewidth\":0,\"ticks\":\"\"}},\"type\":\"scatter3d\"}],\"scattercarpet\":[{\"marker\":{\"colorbar\":{\"outlinewidth\":0,\"ticks\":\"\"}},\"type\":\"scattercarpet\"}],\"scattergeo\":[{\"marker\":{\"colorbar\":{\"outlinewidth\":0,\"ticks\":\"\"}},\"type\":\"scattergeo\"}],\"scattergl\":[{\"marker\":{\"colorbar\":{\"outlinewidth\":0,\"ticks\":\"\"}},\"type\":\"scattergl\"}],\"scattermapbox\":[{\"marker\":{\"colorbar\":{\"outlinewidth\":0,\"ticks\":\"\"}},\"type\":\"scattermapbox\"}],\"scatterpolargl\":[{\"marker\":{\"colorbar\":{\"outlinewidth\":0,\"ticks\":\"\"}},\"type\":\"scatterpolargl\"}],\"scatterpolar\":[{\"marker\":{\"colorbar\":{\"outlinewidth\":0,\"ticks\":\"\"}},\"type\":\"scatterpolar\"}],\"scatter\":[{\"marker\":{\"colorbar\":{\"outlinewidth\":0,\"ticks\":\"\"}},\"type\":\"scatter\"}],\"scatterternary\":[{\"marker\":{\"colorbar\":{\"outlinewidth\":0,\"ticks\":\"\"}},\"type\":\"scatterternary\"}],\"surface\":[{\"colorbar\":{\"outlinewidth\":0,\"ticks\":\"\"},\"colorscale\":[[0.0,\"#0d0887\"],[0.1111111111111111,\"#46039f\"],[0.2222222222222222,\"#7201a8\"],[0.3333333333333333,\"#9c179e\"],[0.4444444444444444,\"#bd3786\"],[0.5555555555555556,\"#d8576b\"],[0.6666666666666666,\"#ed7953\"],[0.7777777777777778,\"#fb9f3a\"],[0.8888888888888888,\"#fdca26\"],[1.0,\"#f0f921\"]],\"type\":\"surface\"}],\"table\":[{\"cells\":{\"fill\":{\"color\":\"#EBF0F8\"},\"line\":{\"color\":\"white\"}},\"header\":{\"fill\":{\"color\":\"#C8D4E3\"},\"line\":{\"color\":\"white\"}},\"type\":\"table\"}]},\"layout\":{\"annotationdefaults\":{\"arrowcolor\":\"#2a3f5f\",\"arrowhead\":0,\"arrowwidth\":1},\"autotypenumbers\":\"strict\",\"coloraxis\":{\"colorbar\":{\"outlinewidth\":0,\"ticks\":\"\"}},\"colorscale\":{\"diverging\":[[0,\"#8e0152\"],[0.1,\"#c51b7d\"],[0.2,\"#de77ae\"],[0.3,\"#f1b6da\"],[0.4,\"#fde0ef\"],[0.5,\"#f7f7f7\"],[0.6,\"#e6f5d0\"],[0.7,\"#b8e186\"],[0.8,\"#7fbc41\"],[0.9,\"#4d9221\"],[1,\"#276419\"]],\"sequential\":[[0.0,\"#0d0887\"],[0.1111111111111111,\"#46039f\"],[0.2222222222222222,\"#7201a8\"],[0.3333333333333333,\"#9c179e\"],[0.4444444444444444,\"#bd3786\"],[0.5555555555555556,\"#d8576b\"],[0.6666666666666666,\"#ed7953\"],[0.7777777777777778,\"#fb9f3a\"],[0.8888888888888888,\"#fdca26\"],[1.0,\"#f0f921\"]],\"sequentialminus\":[[0.0,\"#0d0887\"],[0.1111111111111111,\"#46039f\"],[0.2222222222222222,\"#7201a8\"],[0.3333333333333333,\"#9c179e\"],[0.4444444444444444,\"#bd3786\"],[0.5555555555555556,\"#d8576b\"],[0.6666666666666666,\"#ed7953\"],[0.7777777777777778,\"#fb9f3a\"],[0.8888888888888888,\"#fdca26\"],[1.0,\"#f0f921\"]]},\"colorway\":[\"#636efa\",\"#EF553B\",\"#00cc96\",\"#ab63fa\",\"#FFA15A\",\"#19d3f3\",\"#FF6692\",\"#B6E880\",\"#FF97FF\",\"#FECB52\"],\"font\":{\"color\":\"#2a3f5f\"},\"geo\":{\"bgcolor\":\"white\",\"lakecolor\":\"white\",\"landcolor\":\"white\",\"showlakes\":true,\"showland\":true,\"subunitcolor\":\"#C8D4E3\"},\"hoverlabel\":{\"align\":\"left\"},\"hovermode\":\"closest\",\"mapbox\":{\"style\":\"light\"},\"paper_bgcolor\":\"white\",\"plot_bgcolor\":\"white\",\"polar\":{\"angularaxis\":{\"gridcolor\":\"#EBF0F8\",\"linecolor\":\"#EBF0F8\",\"ticks\":\"\"},\"bgcolor\":\"white\",\"radialaxis\":{\"gridcolor\":\"#EBF0F8\",\"linecolor\":\"#EBF0F8\",\"ticks\":\"\"}},\"scene\":{\"xaxis\":{\"backgroundcolor\":\"white\",\"gridcolor\":\"#DFE8F3\",\"gridwidth\":2,\"linecolor\":\"#EBF0F8\",\"showbackground\":true,\"ticks\":\"\",\"zerolinecolor\":\"#EBF0F8\"},\"yaxis\":{\"backgroundcolor\":\"white\",\"gridcolor\":\"#DFE8F3\",\"gridwidth\":2,\"linecolor\":\"#EBF0F8\",\"showbackground\":true,\"ticks\":\"\",\"zerolinecolor\":\"#EBF0F8\"},\"zaxis\":{\"backgroundcolor\":\"white\",\"gridcolor\":\"#DFE8F3\",\"gridwidth\":2,\"linecolor\":\"#EBF0F8\",\"showbackground\":true,\"ticks\":\"\",\"zerolinecolor\":\"#EBF0F8\"}},\"shapedefaults\":{\"line\":{\"color\":\"#2a3f5f\"}},\"ternary\":{\"aaxis\":{\"gridcolor\":\"#DFE8F3\",\"linecolor\":\"#A2B1C6\",\"ticks\":\"\"},\"baxis\":{\"gridcolor\":\"#DFE8F3\",\"linecolor\":\"#A2B1C6\",\"ticks\":\"\"},\"bgcolor\":\"white\",\"caxis\":{\"gridcolor\":\"#DFE8F3\",\"linecolor\":\"#A2B1C6\",\"ticks\":\"\"}},\"title\":{\"x\":0.05},\"xaxis\":{\"automargin\":true,\"gridcolor\":\"#EBF0F8\",\"linecolor\":\"#EBF0F8\",\"ticks\":\"\",\"title\":{\"standoff\":15},\"zerolinecolor\":\"#EBF0F8\",\"zerolinewidth\":2},\"yaxis\":{\"automargin\":true,\"gridcolor\":\"#EBF0F8\",\"linecolor\":\"#EBF0F8\",\"ticks\":\"\",\"title\":{\"standoff\":15},\"zerolinecolor\":\"#EBF0F8\",\"zerolinewidth\":2}}},\"xaxis\":{\"anchor\":\"y\",\"domain\":[0.0,1.0],\"title\":{\"text\":\"Age\"}},\"yaxis\":{\"anchor\":\"x\",\"domain\":[0.0,0.7326],\"title\":{\"text\":\"count\"}},\"xaxis2\":{\"anchor\":\"y2\",\"domain\":[0.0,1.0],\"matches\":\"x\",\"showticklabels\":false,\"showgrid\":true},\"yaxis2\":{\"anchor\":\"x2\",\"domain\":[0.7426,1.0],\"matches\":\"y2\",\"showticklabels\":false,\"showline\":false,\"ticks\":\"\",\"showgrid\":false},\"legend\":{\"title\":{\"text\":\"type\"},\"tracegroupgap\":0},\"margin\":{\"t\":60},\"barmode\":\"relative\",\"title\":{\"text\":\"Distribution of Age\",\"x\":0.5}},                        {\"responsive\": true}                    ).then(function(){\n",
              "                            \n",
              "var gd = document.getElementById('a7cf9334-132c-4352-9894-477fc19821a3');\n",
              "var x = new MutationObserver(function (mutations, observer) {{\n",
              "        var display = window.getComputedStyle(gd).display;\n",
              "        if (!display || display === 'none') {{\n",
              "            console.log([gd, 'removed!']);\n",
              "            Plotly.purge(gd);\n",
              "            observer.disconnect();\n",
              "        }}\n",
              "}});\n",
              "\n",
              "// Listen for the removal of the full notebook cells\n",
              "var notebookContainer = gd.closest('#notebook-container');\n",
              "if (notebookContainer) {{\n",
              "    x.observe(notebookContainer, {childList: true});\n",
              "}}\n",
              "\n",
              "// Listen for the clearing of the current output cell\n",
              "var outputEl = gd.closest('.output');\n",
              "if (outputEl) {{\n",
              "    x.observe(outputEl, {childList: true});\n",
              "}}\n",
              "\n",
              "                        })                };                            </script>        </div>\n",
              "</body>\n",
              "</html>"
            ]
          },
          "metadata": {}
        }
      ]
    },
    {
      "cell_type": "markdown",
      "metadata": {
        "id": "xio3gLYlcrl-"
      },
      "source": [
        "## Feature Distribution of Categorical Features"
      ]
    },
    {
      "cell_type": "code",
      "source": [
        "# cat_features 컬럼이 없다면 print문 출력\n",
        "# cat_features : ['HomePlanet', 'CryoSleep', 'Destination', 'VIP']\n",
        "if len(cat_features) == 0:\n",
        "    print(\"No Categorical features\")\n",
        "\n",
        "else:\n",
        "    ncols = 2\n",
        "    nrows = 2\n",
        "\n",
        "    # plt.subplots(행, 열, 그래프 사이즈) -> 2 * 2 그래프\n",
        "    fig, ax = plt.subplots(nrows, ncols, figsize=(18, 10))\n",
        "\n",
        "    # [0, 0], [0, 1], [1, 0], [1, 1] 위치대로 그래프 그리기 -> ax에 지정하여 그래프 위치 설정\n",
        "    for r in range(nrows):\n",
        "        for c in range(ncols):\n",
        "\n",
        "            # [r*ncols+c]을 계산하면 0, 1, 2, 3이 나타남 -> 0번째 컬럼, ..., 3번째 컬럼\n",
        "            col = cat_features[r*ncols+c]\n",
        "\n",
        "            # seaborn의 countplot\n",
        "            sns.countplot(train[col], ax=ax[r, c], palette=\"viridis\", label=\"Train Data\")\n",
        "            sns.countplot(test[col], ax=ax[r, c], palette=\"magma\", label=\"Test Data\")\n",
        "            \n",
        "            ax[r, c].legend()  # 범례\n",
        "            ax[r, c].set_ylabel('')  # y축 label 공백으로 만들기\n",
        "            ax[r, c].set_xlabel(col, fontsize=20)  # x축 label에 컬럼명으로 설정, 폰트 사이즈 설정\n",
        "            ax[r, c].tick_params(labelsize=10, width=0.5)  # 눈금 스타일 지정\n",
        "            ax[r, c].xaxis.offsetText.set_fontsize(4)  \n",
        "            ax[r, c].yaxis.offsetText.set_fontsize(4)  \n",
        "    plt.show()"
      ],
      "metadata": {
        "id": "8s5_nXgsl9WT",
        "colab": {
          "base_uri": "https://localhost:8080/",
          "height": 615
        },
        "outputId": "73929911-14fa-4c7c-d4e7-81498d4f8740"
      },
      "execution_count": null,
      "outputs": [
        {
          "output_type": "display_data",
          "data": {
            "text/plain": [
              "<Figure size 1296x720 with 4 Axes>"
            ],
            "image/png": "[encoded data removed]"
          },
          "metadata": {}
        }
      ]
    },
    {
      "cell_type": "markdown",
      "metadata": {
        "id": "YEhu-dDycrl_"
      },
      "source": [
        "## Target Distribution"
      ]
    },
    {
      "cell_type": "code",
      "source": [
        "# target 변수(True/False) 빈도수 데이터프레임으로 변환\n",
        "target_df = pd.DataFrame(train[target].value_counts()).reset_index()\n",
        "\n",
        "# 컬럼명 변경\n",
        "target_df.columns = [target, \"count\"]\n",
        "target_df"
      ],
      "metadata": {
        "id": "TCL7F_rOl_AM",
        "colab": {
          "base_uri": "https://localhost:8080/",
          "height": 112
        },
        "outputId": "61915034-3612-4644-9b62-8ad17ab1de65"
      },
      "execution_count": null,
      "outputs": [
        {
          "output_type": "execute_result",
          "data": {
            "text/plain": [
              "   Transported  count\n",
              "0         True   4378\n",
              "1        False   4315"
            ],
            "text/html": [
              "\n",
              "  <div id=\"df-ea2931ae-e379-4179-87ad-d034cb27030d\">\n",
              "    <div class=\"colab-df-container\">\n",
              "      <div>\n",
              "<style scoped>\n",
              "    .dataframe tbody tr th:only-of-type {\n",
              "        vertical-align: middle;\n",
              "    }\n",
              "\n",
              "    .dataframe tbody tr th {\n",
              "        vertical-align: top;\n",
              "    }\n",
              "\n",
              "    .dataframe thead th {\n",
              "        text-align: right;\n",
              "    }\n",
              "</style>\n",
              "<table border=\"1\" class=\"dataframe\">\n",
              "  <thead>\n",
              "    <tr style=\"text-align: right;\">\n",
              "      <th></th>\n",
              "      <th>Transported</th>\n",
              "      <th>count</th>\n",
              "    </tr>\n",
              "  </thead>\n",
              "  <tbody>\n",
              "    <tr>\n",
              "      <th>0</th>\n",
              "      <td>True</td>\n",
              "      <td>4378</td>\n",
              "    </tr>\n",
              "    <tr>\n",
              "      <th>1</th>\n",
              "      <td>False</td>\n",
              "      <td>4315</td>\n",
              "    </tr>\n",
              "  </tbody>\n",
              "</table>\n",
              "</div>\n",
              "      <button class=\"colab-df-convert\" onclick=\"convertToInteractive('df-ea2931ae-e379-4179-87ad-d034cb27030d')\"\n",
              "              title=\"Convert this dataframe to an interactive table.\"\n",
              "              style=\"display:none;\">\n",
              "        \n",
              "  <svg xmlns=\"http://www.w3.org/2000/svg\" height=\"24px\"viewBox=\"0 0 24 24\"\n",
              "       width=\"24px\">\n",
              "    <path d=\"M0 0h24v24H0V0z\" fill=\"none\"/>\n",
              "    <path d=\"M18.56 5.44l.94 2.06.94-2.06 2.06-.94-2.06-.94-.94-2.06-.94 2.06-2.06.94zm-11 1L8.5 8.5l.94-2.06 2.06-.94-2.06-.94L8.5 2.5l-.94 2.06-2.06.94zm10 10l.94 2.06.94-2.06 2.06-.94-2.06-.94-.94-2.06-.94 2.06-2.06.94z\"/><path d=\"M17.41 7.96l-1.37-1.37c-.4-.4-.92-.59-1.43-.59-.52 0-1.04.2-1.43.59L10.3 9.45l-7.72 7.72c-.78.78-.78 2.05 0 2.83L4 21.41c.39.39.9.59 1.41.59.51 0 1.02-.2 1.41-.59l7.78-7.78 2.81-2.81c.8-.78.8-2.07 0-2.86zM5.41 20L4 18.59l7.72-7.72 1.47 1.35L5.41 20z\"/>\n",
              "  </svg>\n",
              "      </button>\n",
              "      \n",
              "  <style>\n",
              "    .colab-df-container {\n",
              "      display:flex;\n",
              "      flex-wrap:wrap;\n",
              "      gap: 12px;\n",
              "    }\n",
              "\n",
              "    .colab-df-convert {\n",
              "      background-color: #E8F0FE;\n",
              "      border: none;\n",
              "      border-radius: 50%;\n",
              "      cursor: pointer;\n",
              "      display: none;\n",
              "      fill: #1967D2;\n",
              "      height: 32px;\n",
              "      padding: 0 0 0 0;\n",
              "      width: 32px;\n",
              "    }\n",
              "\n",
              "    .colab-df-convert:hover {\n",
              "      background-color: #E2EBFA;\n",
              "      box-shadow: 0px 1px 2px rgba(60, 64, 67, 0.3), 0px 1px 3px 1px rgba(60, 64, 67, 0.15);\n",
              "      fill: #174EA6;\n",
              "    }\n",
              "\n",
              "    [theme=dark] .colab-df-convert {\n",
              "      background-color: #3B4455;\n",
              "      fill: #D2E3FC;\n",
              "    }\n",
              "\n",
              "    [theme=dark] .colab-df-convert:hover {\n",
              "      background-color: #434B5C;\n",
              "      box-shadow: 0px 1px 3px 1px rgba(0, 0, 0, 0.15);\n",
              "      filter: drop-shadow(0px 1px 2px rgba(0, 0, 0, 0.3));\n",
              "      fill: #FFFFFF;\n",
              "    }\n",
              "  </style>\n",
              "\n",
              "      <script>\n",
              "        const buttonEl =\n",
              "          document.querySelector('#df-ea2931ae-e379-4179-87ad-d034cb27030d button.colab-df-convert');\n",
              "        buttonEl.style.display =\n",
              "          google.colab.kernel.accessAllowed ? 'block' : 'none';\n",
              "\n",
              "        async function convertToInteractive(key) {\n",
              "          const element = document.querySelector('#df-ea2931ae-e379-4179-87ad-d034cb27030d');\n",
              "          const dataTable =\n",
              "            await google.colab.kernel.invokeFunction('convertToInteractive',\n",
              "                                                     [key], {});\n",
              "          if (!dataTable) return;\n",
              "\n",
              "          const docLinkHtml = 'Like what you see? Visit the ' +\n",
              "            '<a target=\"_blank\" href=https://colab.research.google.com/notebooks/data_table.ipynb>data table notebook</a>'\n",
              "            + ' to learn more about interactive tables.';\n",
              "          element.innerHTML = '';\n",
              "          dataTable['output_type'] = 'display_data';\n",
              "          await google.colab.output.renderOutput(dataTable, element);\n",
              "          const docLink = document.createElement('div');\n",
              "          docLink.innerHTML = docLinkHtml;\n",
              "          element.appendChild(docLink);\n",
              "        }\n",
              "      </script>\n",
              "    </div>\n",
              "  </div>\n",
              "  "
            ]
          },
          "metadata": {},
          "execution_count": 29
        }
      ]
    },
    {
      "cell_type": "code",
      "source": [
        "# px를 이용한 barplot 그리기 -> px.bar(data_frame, x, y)\n",
        "fig = px.bar(data_frame=target_df,\n",
        "             x=target,\n",
        "             y=\"count\")\n",
        "\n",
        "fig.update_traces(marker_color=[\"#58D68D\", \"#DE3163\"],\n",
        "                  marker_line_color=\"rgb(0, 0, 0)\",\n",
        "                  marker_line_width=2)\n",
        "\n",
        "fig.update_layout(title=\"Target Distribution\",\n",
        "                  template=\"plotly_white\",\n",
        "                  title_x=0.5)"
      ],
      "metadata": {
        "colab": {
          "base_uri": "https://localhost:8080/",
          "height": 542
        },
        "id": "JUwRbn-QwVYK",
        "outputId": "1d9705d8-dff0-45f3-ddce-cc5615680fa6"
      },
      "execution_count": null,
      "outputs": [
        {
          "output_type": "display_data",
          "data": {
            "text/html": [
              "<html>\n",
              "<head><meta charset=\"utf-8\" /></head>\n",
              "<body>\n",
              "    <div>            <script src=\"https://cdnjs.cloudflare.com/ajax/libs/mathjax/2.7.5/MathJax.js?config=TeX-AMS-MML_SVG\"></script><script type=\"text/javascript\">if (window.MathJax) {MathJax.Hub.Config({SVG: {font: \"STIX-Web\"}});}</script>                <script type=\"text/javascript\">window.PlotlyConfig = {MathJaxConfig: 'local'};</script>\n",
              "        <script src=\"https://cdn.plot.ly/plotly-2.8.3.min.js\"></script>                <div id=\"5b85e30f-d925-4fee-8b46-7b7d85953929\" class=\"plotly-graph-div\" style=\"height:525px; width:100%;\"></div>            <script type=\"text/javascript\">                                    window.PLOTLYENV=window.PLOTLYENV || {};                                    if (document.getElementById(\"5b85e30f-d925-4fee-8b46-7b7d85953929\")) {                    Plotly.newPlot(                        \"5b85e30f-d925-4fee-8b46-7b7d85953929\",                        [{\"alignmentgroup\":\"True\",\"hovertemplate\":\"Transported=%{x}<br>count=%{y}<extra></extra>\",\"legendgroup\":\"\",\"marker\":{\"color\":[\"#58D68D\",\"#DE3163\"],\"pattern\":{\"shape\":\"\"},\"line\":{\"color\":\"rgb(0, 0, 0)\",\"width\":2}},\"name\":\"\",\"offsetgroup\":\"\",\"orientation\":\"v\",\"showlegend\":false,\"textposition\":\"auto\",\"x\":[true,false],\"xaxis\":\"x\",\"y\":[4378,4315],\"yaxis\":\"y\",\"type\":\"bar\"}],                        {\"template\":{\"data\":{\"barpolar\":[{\"marker\":{\"line\":{\"color\":\"white\",\"width\":0.5},\"pattern\":{\"fillmode\":\"overlay\",\"size\":10,\"solidity\":0.2}},\"type\":\"barpolar\"}],\"bar\":[{\"error_x\":{\"color\":\"#2a3f5f\"},\"error_y\":{\"color\":\"#2a3f5f\"},\"marker\":{\"line\":{\"color\":\"white\",\"width\":0.5},\"pattern\":{\"fillmode\":\"overlay\",\"size\":10,\"solidity\":0.2}},\"type\":\"bar\"}],\"carpet\":[{\"aaxis\":{\"endlinecolor\":\"#2a3f5f\",\"gridcolor\":\"#C8D4E3\",\"linecolor\":\"#C8D4E3\",\"minorgridcolor\":\"#C8D4E3\",\"startlinecolor\":\"#2a3f5f\"},\"baxis\":{\"endlinecolor\":\"#2a3f5f\",\"gridcolor\":\"#C8D4E3\",\"linecolor\":\"#C8D4E3\",\"minorgridcolor\":\"#C8D4E3\",\"startlinecolor\":\"#2a3f5f\"},\"type\":\"carpet\"}],\"choropleth\":[{\"colorbar\":{\"outlinewidth\":0,\"ticks\":\"\"},\"type\":\"choropleth\"}],\"contourcarpet\":[{\"colorbar\":{\"outlinewidth\":0,\"ticks\":\"\"},\"type\":\"contourcarpet\"}],\"contour\":[{\"colorbar\":{\"outlinewidth\":0,\"ticks\":\"\"},\"colorscale\":[[0.0,\"#0d0887\"],[0.1111111111111111,\"#46039f\"],[0.2222222222222222,\"#7201a8\"],[0.3333333333333333,\"#9c179e\"],[0.4444444444444444,\"#bd3786\"],[0.5555555555555556,\"#d8576b\"],[0.6666666666666666,\"#ed7953\"],[0.7777777777777778,\"#fb9f3a\"],[0.8888888888888888,\"#fdca26\"],[1.0,\"#f0f921\"]],\"type\":\"contour\"}],\"heatmapgl\":[{\"colorbar\":{\"outlinewidth\":0,\"ticks\":\"\"},\"colorscale\":[[0.0,\"#0d0887\"],[0.1111111111111111,\"#46039f\"],[0.2222222222222222,\"#7201a8\"],[0.3333333333333333,\"#9c179e\"],[0.4444444444444444,\"#bd3786\"],[0.5555555555555556,\"#d8576b\"],[0.6666666666666666,\"#ed7953\"],[0.7777777777777778,\"#fb9f3a\"],[0.8888888888888888,\"#fdca26\"],[1.0,\"#f0f921\"]],\"type\":\"heatmapgl\"}],\"heatmap\":[{\"colorbar\":{\"outlinewidth\":0,\"ticks\":\"\"},\"colorscale\":[[0.0,\"#0d0887\"],[0.1111111111111111,\"#46039f\"],[0.2222222222222222,\"#7201a8\"],[0.3333333333333333,\"#9c179e\"],[0.4444444444444444,\"#bd3786\"],[0.5555555555555556,\"#d8576b\"],[0.6666666666666666,\"#ed7953\"],[0.7777777777777778,\"#fb9f3a\"],[0.8888888888888888,\"#fdca26\"],[1.0,\"#f0f921\"]],\"type\":\"heatmap\"}],\"histogram2dcontour\":[{\"colorbar\":{\"outlinewidth\":0,\"ticks\":\"\"},\"colorscale\":[[0.0,\"#0d0887\"],[0.1111111111111111,\"#46039f\"],[0.2222222222222222,\"#7201a8\"],[0.3333333333333333,\"#9c179e\"],[0.4444444444444444,\"#bd3786\"],[0.5555555555555556,\"#d8576b\"],[0.6666666666666666,\"#ed7953\"],[0.7777777777777778,\"#fb9f3a\"],[0.8888888888888888,\"#fdca26\"],[1.0,\"#f0f921\"]],\"type\":\"histogram2dcontour\"}],\"histogram2d\":[{\"colorbar\":{\"outlinewidth\":0,\"ticks\":\"\"},\"colorscale\":[[0.0,\"#0d0887\"],[0.1111111111111111,\"#46039f\"],[0.2222222222222222,\"#7201a8\"],[0.3333333333333333,\"#9c179e\"],[0.4444444444444444,\"#bd3786\"],[0.5555555555555556,\"#d8576b\"],[0.6666666666666666,\"#ed7953\"],[0.7777777777777778,\"#fb9f3a\"],[0.8888888888888888,\"#fdca26\"],[1.0,\"#f0f921\"]],\"type\":\"histogram2d\"}],\"histogram\":[{\"marker\":{\"pattern\":{\"fillmode\":\"overlay\",\"size\":10,\"solidity\":0.2}},\"type\":\"histogram\"}],\"mesh3d\":[{\"colorbar\":{\"outlinewidth\":0,\"ticks\":\"\"},\"type\":\"mesh3d\"}],\"parcoords\":[{\"line\":{\"colorbar\":{\"outlinewidth\":0,\"ticks\":\"\"}},\"type\":\"parcoords\"}],\"pie\":[{\"automargin\":true,\"type\":\"pie\"}],\"scatter3d\":[{\"line\":{\"colorbar\":{\"outlinewidth\":0,\"ticks\":\"\"}},\"marker\":{\"colorbar\":{\"outlinewidth\":0,\"ticks\":\"\"}},\"type\":\"scatter3d\"}],\"scattercarpet\":[{\"marker\":{\"colorbar\":{\"outlinewidth\":0,\"ticks\":\"\"}},\"type\":\"scattercarpet\"}],\"scattergeo\":[{\"marker\":{\"colorbar\":{\"outlinewidth\":0,\"ticks\":\"\"}},\"type\":\"scattergeo\"}],\"scattergl\":[{\"marker\":{\"colorbar\":{\"outlinewidth\":0,\"ticks\":\"\"}},\"type\":\"scattergl\"}],\"scattermapbox\":[{\"marker\":{\"colorbar\":{\"outlinewidth\":0,\"ticks\":\"\"}},\"type\":\"scattermapbox\"}],\"scatterpolargl\":[{\"marker\":{\"colorbar\":{\"outlinewidth\":0,\"ticks\":\"\"}},\"type\":\"scatterpolargl\"}],\"scatterpolar\":[{\"marker\":{\"colorbar\":{\"outlinewidth\":0,\"ticks\":\"\"}},\"type\":\"scatterpolar\"}],\"scatter\":[{\"marker\":{\"colorbar\":{\"outlinewidth\":0,\"ticks\":\"\"}},\"type\":\"scatter\"}],\"scatterternary\":[{\"marker\":{\"colorbar\":{\"outlinewidth\":0,\"ticks\":\"\"}},\"type\":\"scatterternary\"}],\"surface\":[{\"colorbar\":{\"outlinewidth\":0,\"ticks\":\"\"},\"colorscale\":[[0.0,\"#0d0887\"],[0.1111111111111111,\"#46039f\"],[0.2222222222222222,\"#7201a8\"],[0.3333333333333333,\"#9c179e\"],[0.4444444444444444,\"#bd3786\"],[0.5555555555555556,\"#d8576b\"],[0.6666666666666666,\"#ed7953\"],[0.7777777777777778,\"#fb9f3a\"],[0.8888888888888888,\"#fdca26\"],[1.0,\"#f0f921\"]],\"type\":\"surface\"}],\"table\":[{\"cells\":{\"fill\":{\"color\":\"#EBF0F8\"},\"line\":{\"color\":\"white\"}},\"header\":{\"fill\":{\"color\":\"#C8D4E3\"},\"line\":{\"color\":\"white\"}},\"type\":\"table\"}]},\"layout\":{\"annotationdefaults\":{\"arrowcolor\":\"#2a3f5f\",\"arrowhead\":0,\"arrowwidth\":1},\"autotypenumbers\":\"strict\",\"coloraxis\":{\"colorbar\":{\"outlinewidth\":0,\"ticks\":\"\"}},\"colorscale\":{\"diverging\":[[0,\"#8e0152\"],[0.1,\"#c51b7d\"],[0.2,\"#de77ae\"],[0.3,\"#f1b6da\"],[0.4,\"#fde0ef\"],[0.5,\"#f7f7f7\"],[0.6,\"#e6f5d0\"],[0.7,\"#b8e186\"],[0.8,\"#7fbc41\"],[0.9,\"#4d9221\"],[1,\"#276419\"]],\"sequential\":[[0.0,\"#0d0887\"],[0.1111111111111111,\"#46039f\"],[0.2222222222222222,\"#7201a8\"],[0.3333333333333333,\"#9c179e\"],[0.4444444444444444,\"#bd3786\"],[0.5555555555555556,\"#d8576b\"],[0.6666666666666666,\"#ed7953\"],[0.7777777777777778,\"#fb9f3a\"],[0.8888888888888888,\"#fdca26\"],[1.0,\"#f0f921\"]],\"sequentialminus\":[[0.0,\"#0d0887\"],[0.1111111111111111,\"#46039f\"],[0.2222222222222222,\"#7201a8\"],[0.3333333333333333,\"#9c179e\"],[0.4444444444444444,\"#bd3786\"],[0.5555555555555556,\"#d8576b\"],[0.6666666666666666,\"#ed7953\"],[0.7777777777777778,\"#fb9f3a\"],[0.8888888888888888,\"#fdca26\"],[1.0,\"#f0f921\"]]},\"colorway\":[\"#636efa\",\"#EF553B\",\"#00cc96\",\"#ab63fa\",\"#FFA15A\",\"#19d3f3\",\"#FF6692\",\"#B6E880\",\"#FF97FF\",\"#FECB52\"],\"font\":{\"color\":\"#2a3f5f\"},\"geo\":{\"bgcolor\":\"white\",\"lakecolor\":\"white\",\"landcolor\":\"white\",\"showlakes\":true,\"showland\":true,\"subunitcolor\":\"#C8D4E3\"},\"hoverlabel\":{\"align\":\"left\"},\"hovermode\":\"closest\",\"mapbox\":{\"style\":\"light\"},\"paper_bgcolor\":\"white\",\"plot_bgcolor\":\"white\",\"polar\":{\"angularaxis\":{\"gridcolor\":\"#EBF0F8\",\"linecolor\":\"#EBF0F8\",\"ticks\":\"\"},\"bgcolor\":\"white\",\"radialaxis\":{\"gridcolor\":\"#EBF0F8\",\"linecolor\":\"#EBF0F8\",\"ticks\":\"\"}},\"scene\":{\"xaxis\":{\"backgroundcolor\":\"white\",\"gridcolor\":\"#DFE8F3\",\"gridwidth\":2,\"linecolor\":\"#EBF0F8\",\"showbackground\":true,\"ticks\":\"\",\"zerolinecolor\":\"#EBF0F8\"},\"yaxis\":{\"backgroundcolor\":\"white\",\"gridcolor\":\"#DFE8F3\",\"gridwidth\":2,\"linecolor\":\"#EBF0F8\",\"showbackground\":true,\"ticks\":\"\",\"zerolinecolor\":\"#EBF0F8\"},\"zaxis\":{\"backgroundcolor\":\"white\",\"gridcolor\":\"#DFE8F3\",\"gridwidth\":2,\"linecolor\":\"#EBF0F8\",\"showbackground\":true,\"ticks\":\"\",\"zerolinecolor\":\"#EBF0F8\"}},\"shapedefaults\":{\"line\":{\"color\":\"#2a3f5f\"}},\"ternary\":{\"aaxis\":{\"gridcolor\":\"#DFE8F3\",\"linecolor\":\"#A2B1C6\",\"ticks\":\"\"},\"baxis\":{\"gridcolor\":\"#DFE8F3\",\"linecolor\":\"#A2B1C6\",\"ticks\":\"\"},\"bgcolor\":\"white\",\"caxis\":{\"gridcolor\":\"#DFE8F3\",\"linecolor\":\"#A2B1C6\",\"ticks\":\"\"}},\"title\":{\"x\":0.05},\"xaxis\":{\"automargin\":true,\"gridcolor\":\"#EBF0F8\",\"linecolor\":\"#EBF0F8\",\"ticks\":\"\",\"title\":{\"standoff\":15},\"zerolinecolor\":\"#EBF0F8\",\"zerolinewidth\":2},\"yaxis\":{\"automargin\":true,\"gridcolor\":\"#EBF0F8\",\"linecolor\":\"#EBF0F8\",\"ticks\":\"\",\"title\":{\"standoff\":15},\"zerolinecolor\":\"#EBF0F8\",\"zerolinewidth\":2}}},\"xaxis\":{\"anchor\":\"y\",\"domain\":[0.0,1.0],\"title\":{\"text\":\"Transported\"}},\"yaxis\":{\"anchor\":\"x\",\"domain\":[0.0,1.0],\"title\":{\"text\":\"count\"}},\"legend\":{\"tracegroupgap\":0},\"margin\":{\"t\":60},\"barmode\":\"relative\",\"title\":{\"text\":\"Target Distribution\",\"x\":0.5}},                        {\"responsive\": true}                    ).then(function(){\n",
              "                            \n",
              "var gd = document.getElementById('5b85e30f-d925-4fee-8b46-7b7d85953929');\n",
              "var x = new MutationObserver(function (mutations, observer) {{\n",
              "        var display = window.getComputedStyle(gd).display;\n",
              "        if (!display || display === 'none') {{\n",
              "            console.log([gd, 'removed!']);\n",
              "            Plotly.purge(gd);\n",
              "            observer.disconnect();\n",
              "        }}\n",
              "}});\n",
              "\n",
              "// Listen for the removal of the full notebook cells\n",
              "var notebookContainer = gd.closest('#notebook-container');\n",
              "if (notebookContainer) {{\n",
              "    x.observe(notebookContainer, {childList: true});\n",
              "}}\n",
              "\n",
              "// Listen for the clearing of the current output cell\n",
              "var outputEl = gd.closest('.output');\n",
              "if (outputEl) {{\n",
              "    x.observe(outputEl, {childList: true});\n",
              "}}\n",
              "\n",
              "                        })                };                            </script>        </div>\n",
              "</body>\n",
              "</html>"
            ]
          },
          "metadata": {}
        }
      ]
    },
    {
      "cell_type": "code",
      "source": [
        "print(\"\\033[94mPercentage of Transported = 0: {:.2f} %\".format(target_df[\"count\"][0] *100 / train.shape[0]))\n",
        "print(\"\\033[94mPercentage of Transported = 1: {:.2f} %\".format(target_df[\"count\"][1]* 100 / train.shape[0]))"
      ],
      "metadata": {
        "colab": {
          "base_uri": "https://localhost:8080/"
        },
        "id": "KJZZFHWRww7J",
        "outputId": "13a2a59c-2c27-4fe7-db4e-35f03637e39b"
      },
      "execution_count": null,
      "outputs": [
        {
          "output_type": "stream",
          "name": "stdout",
          "text": [
            "\u001b[94mPercentage of Transported = 0: 50.36 %\n",
            "\u001b[94mPercentage of Transported = 1: 49.64 %\n"
          ]
        }
      ]
    },
    {
      "cell_type": "markdown",
      "metadata": {
        "id": "0Yj1NSY6crl_"
      },
      "source": [
        "## Correlation Matrix"
      ]
    },
    {
      "cell_type": "code",
      "source": [
        "fig = px.imshow(train.corr(),\n",
        "                text_auto=True, aspect=\"auto\",\n",
        "                color_continuous_scale=\"viridis\")\n",
        "fig.show()"
      ],
      "metadata": {
        "id": "oTTjDsBBl_RM",
        "colab": {
          "base_uri": "https://localhost:8080/",
          "height": 542
        },
        "outputId": "cfd8e071-5e3c-4506-fe2a-3b658463ee0f"
      },
      "execution_count": null,
      "outputs": [
        {
          "output_type": "display_data",
          "data": {
            "text/html": [
              "<html>\n",
              "<head><meta charset=\"utf-8\" /></head>\n",
              "<body>\n",
              "    <div>            <script src=\"https://cdnjs.cloudflare.com/ajax/libs/mathjax/2.7.5/MathJax.js?config=TeX-AMS-MML_SVG\"></script><script type=\"text/javascript\">if (window.MathJax) {MathJax.Hub.Config({SVG: {font: \"STIX-Web\"}});}</script>                <script type=\"text/javascript\">window.PlotlyConfig = {MathJaxConfig: 'local'};</script>\n",
              "        <script src=\"https://cdn.plot.ly/plotly-2.8.3.min.js\"></script>                <div id=\"9cc659cd-9e12-4933-b89a-895c61f4d9dd\" class=\"plotly-graph-div\" style=\"height:525px; width:100%;\"></div>            <script type=\"text/javascript\">                                    window.PLOTLYENV=window.PLOTLYENV || {};                                    if (document.getElementById(\"9cc659cd-9e12-4933-b89a-895c61f4d9dd\")) {                    Plotly.newPlot(                        \"9cc659cd-9e12-4933-b89a-895c61f4d9dd\",                        [{\"coloraxis\":\"coloraxis\",\"name\":\"0\",\"texttemplate\":\"%{z}\",\"x\":[\"Age\",\"RoomService\",\"FoodCourt\",\"ShoppingMall\",\"Spa\",\"VRDeck\",\"Transported\"],\"y\":[\"Age\",\"RoomService\",\"FoodCourt\",\"ShoppingMall\",\"Spa\",\"VRDeck\",\"Transported\"],\"z\":[[1.0,0.06872304411557698,0.1304209544320568,0.033132616182053966,0.12397032353133916,0.10100728890306833,-0.07502558362232603],[0.06872304411557698,1.0,-0.015888939359238876,0.05448032028344189,0.010079520358470088,-0.019581492428894107,-0.24461142158527635],[0.1304209544320568,-0.015888939359238876,1.0,-0.014227745561335022,0.22189053354751054,0.22799541000479612,0.04656639376472198],[0.033132616182053966,0.05448032028344189,-0.014227745561335022,1.0,0.013878590426088801,-0.007321714557183197,0.010140890024277142],[0.12397032353133916,0.010079520358470088,0.22189053354751054,0.013878590426088801,1.0,0.15382122542139506,-0.22113134924572775],[0.10100728890306833,-0.019581492428894107,0.22799541000479612,-0.007321714557183197,0.15382122542139506,1.0,-0.20707538958428962],[-0.07502558362232603,-0.24461142158527635,0.04656639376472198,0.010140890024277142,-0.22113134924572775,-0.20707538958428962,1.0]],\"type\":\"heatmap\",\"xaxis\":\"x\",\"yaxis\":\"y\",\"hovertemplate\":\"x: %{x}<br>y: %{y}<br>color: %{z}<extra></extra>\"}],                        {\"template\":{\"data\":{\"bar\":[{\"error_x\":{\"color\":\"#2a3f5f\"},\"error_y\":{\"color\":\"#2a3f5f\"},\"marker\":{\"line\":{\"color\":\"#E5ECF6\",\"width\":0.5},\"pattern\":{\"fillmode\":\"overlay\",\"size\":10,\"solidity\":0.2}},\"type\":\"bar\"}],\"barpolar\":[{\"marker\":{\"line\":{\"color\":\"#E5ECF6\",\"width\":0.5},\"pattern\":{\"fillmode\":\"overlay\",\"size\":10,\"solidity\":0.2}},\"type\":\"barpolar\"}],\"carpet\":[{\"aaxis\":{\"endlinecolor\":\"#2a3f5f\",\"gridcolor\":\"white\",\"linecolor\":\"white\",\"minorgridcolor\":\"white\",\"startlinecolor\":\"#2a3f5f\"},\"baxis\":{\"endlinecolor\":\"#2a3f5f\",\"gridcolor\":\"white\",\"linecolor\":\"white\",\"minorgridcolor\":\"white\",\"startlinecolor\":\"#2a3f5f\"},\"type\":\"carpet\"}],\"choropleth\":[{\"colorbar\":{\"outlinewidth\":0,\"ticks\":\"\"},\"type\":\"choropleth\"}],\"contour\":[{\"colorbar\":{\"outlinewidth\":0,\"ticks\":\"\"},\"colorscale\":[[0.0,\"#0d0887\"],[0.1111111111111111,\"#46039f\"],[0.2222222222222222,\"#7201a8\"],[0.3333333333333333,\"#9c179e\"],[0.4444444444444444,\"#bd3786\"],[0.5555555555555556,\"#d8576b\"],[0.6666666666666666,\"#ed7953\"],[0.7777777777777778,\"#fb9f3a\"],[0.8888888888888888,\"#fdca26\"],[1.0,\"#f0f921\"]],\"type\":\"contour\"}],\"contourcarpet\":[{\"colorbar\":{\"outlinewidth\":0,\"ticks\":\"\"},\"type\":\"contourcarpet\"}],\"heatmap\":[{\"colorbar\":{\"outlinewidth\":0,\"ticks\":\"\"},\"colorscale\":[[0.0,\"#0d0887\"],[0.1111111111111111,\"#46039f\"],[0.2222222222222222,\"#7201a8\"],[0.3333333333333333,\"#9c179e\"],[0.4444444444444444,\"#bd3786\"],[0.5555555555555556,\"#d8576b\"],[0.6666666666666666,\"#ed7953\"],[0.7777777777777778,\"#fb9f3a\"],[0.8888888888888888,\"#fdca26\"],[1.0,\"#f0f921\"]],\"type\":\"heatmap\"}],\"heatmapgl\":[{\"colorbar\":{\"outlinewidth\":0,\"ticks\":\"\"},\"colorscale\":[[0.0,\"#0d0887\"],[0.1111111111111111,\"#46039f\"],[0.2222222222222222,\"#7201a8\"],[0.3333333333333333,\"#9c179e\"],[0.4444444444444444,\"#bd3786\"],[0.5555555555555556,\"#d8576b\"],[0.6666666666666666,\"#ed7953\"],[0.7777777777777778,\"#fb9f3a\"],[0.8888888888888888,\"#fdca26\"],[1.0,\"#f0f921\"]],\"type\":\"heatmapgl\"}],\"histogram\":[{\"marker\":{\"pattern\":{\"fillmode\":\"overlay\",\"size\":10,\"solidity\":0.2}},\"type\":\"histogram\"}],\"histogram2d\":[{\"colorbar\":{\"outlinewidth\":0,\"ticks\":\"\"},\"colorscale\":[[0.0,\"#0d0887\"],[0.1111111111111111,\"#46039f\"],[0.2222222222222222,\"#7201a8\"],[0.3333333333333333,\"#9c179e\"],[0.4444444444444444,\"#bd3786\"],[0.5555555555555556,\"#d8576b\"],[0.6666666666666666,\"#ed7953\"],[0.7777777777777778,\"#fb9f3a\"],[0.8888888888888888,\"#fdca26\"],[1.0,\"#f0f921\"]],\"type\":\"histogram2d\"}],\"histogram2dcontour\":[{\"colorbar\":{\"outlinewidth\":0,\"ticks\":\"\"},\"colorscale\":[[0.0,\"#0d0887\"],[0.1111111111111111,\"#46039f\"],[0.2222222222222222,\"#7201a8\"],[0.3333333333333333,\"#9c179e\"],[0.4444444444444444,\"#bd3786\"],[0.5555555555555556,\"#d8576b\"],[0.6666666666666666,\"#ed7953\"],[0.7777777777777778,\"#fb9f3a\"],[0.8888888888888888,\"#fdca26\"],[1.0,\"#f0f921\"]],\"type\":\"histogram2dcontour\"}],\"mesh3d\":[{\"colorbar\":{\"outlinewidth\":0,\"ticks\":\"\"},\"type\":\"mesh3d\"}],\"parcoords\":[{\"line\":{\"colorbar\":{\"outlinewidth\":0,\"ticks\":\"\"}},\"type\":\"parcoords\"}],\"pie\":[{\"automargin\":true,\"type\":\"pie\"}],\"scatter\":[{\"marker\":{\"colorbar\":{\"outlinewidth\":0,\"ticks\":\"\"}},\"type\":\"scatter\"}],\"scatter3d\":[{\"line\":{\"colorbar\":{\"outlinewidth\":0,\"ticks\":\"\"}},\"marker\":{\"colorbar\":{\"outlinewidth\":0,\"ticks\":\"\"}},\"type\":\"scatter3d\"}],\"scattercarpet\":[{\"marker\":{\"colorbar\":{\"outlinewidth\":0,\"ticks\":\"\"}},\"type\":\"scattercarpet\"}],\"scattergeo\":[{\"marker\":{\"colorbar\":{\"outlinewidth\":0,\"ticks\":\"\"}},\"type\":\"scattergeo\"}],\"scattergl\":[{\"marker\":{\"colorbar\":{\"outlinewidth\":0,\"ticks\":\"\"}},\"type\":\"scattergl\"}],\"scattermapbox\":[{\"marker\":{\"colorbar\":{\"outlinewidth\":0,\"ticks\":\"\"}},\"type\":\"scattermapbox\"}],\"scatterpolar\":[{\"marker\":{\"colorbar\":{\"outlinewidth\":0,\"ticks\":\"\"}},\"type\":\"scatterpolar\"}],\"scatterpolargl\":[{\"marker\":{\"colorbar\":{\"outlinewidth\":0,\"ticks\":\"\"}},\"type\":\"scatterpolargl\"}],\"scatterternary\":[{\"marker\":{\"colorbar\":{\"outlinewidth\":0,\"ticks\":\"\"}},\"type\":\"scatterternary\"}],\"surface\":[{\"colorbar\":{\"outlinewidth\":0,\"ticks\":\"\"},\"colorscale\":[[0.0,\"#0d0887\"],[0.1111111111111111,\"#46039f\"],[0.2222222222222222,\"#7201a8\"],[0.3333333333333333,\"#9c179e\"],[0.4444444444444444,\"#bd3786\"],[0.5555555555555556,\"#d8576b\"],[0.6666666666666666,\"#ed7953\"],[0.7777777777777778,\"#fb9f3a\"],[0.8888888888888888,\"#fdca26\"],[1.0,\"#f0f921\"]],\"type\":\"surface\"}],\"table\":[{\"cells\":{\"fill\":{\"color\":\"#EBF0F8\"},\"line\":{\"color\":\"white\"}},\"header\":{\"fill\":{\"color\":\"#C8D4E3\"},\"line\":{\"color\":\"white\"}},\"type\":\"table\"}]},\"layout\":{\"annotationdefaults\":{\"arrowcolor\":\"#2a3f5f\",\"arrowhead\":0,\"arrowwidth\":1},\"autotypenumbers\":\"strict\",\"coloraxis\":{\"colorbar\":{\"outlinewidth\":0,\"ticks\":\"\"}},\"colorscale\":{\"diverging\":[[0,\"#8e0152\"],[0.1,\"#c51b7d\"],[0.2,\"#de77ae\"],[0.3,\"#f1b6da\"],[0.4,\"#fde0ef\"],[0.5,\"#f7f7f7\"],[0.6,\"#e6f5d0\"],[0.7,\"#b8e186\"],[0.8,\"#7fbc41\"],[0.9,\"#4d9221\"],[1,\"#276419\"]],\"sequential\":[[0.0,\"#0d0887\"],[0.1111111111111111,\"#46039f\"],[0.2222222222222222,\"#7201a8\"],[0.3333333333333333,\"#9c179e\"],[0.4444444444444444,\"#bd3786\"],[0.5555555555555556,\"#d8576b\"],[0.6666666666666666,\"#ed7953\"],[0.7777777777777778,\"#fb9f3a\"],[0.8888888888888888,\"#fdca26\"],[1.0,\"#f0f921\"]],\"sequentialminus\":[[0.0,\"#0d0887\"],[0.1111111111111111,\"#46039f\"],[0.2222222222222222,\"#7201a8\"],[0.3333333333333333,\"#9c179e\"],[0.4444444444444444,\"#bd3786\"],[0.5555555555555556,\"#d8576b\"],[0.6666666666666666,\"#ed7953\"],[0.7777777777777778,\"#fb9f3a\"],[0.8888888888888888,\"#fdca26\"],[1.0,\"#f0f921\"]]},\"colorway\":[\"#636efa\",\"#EF553B\",\"#00cc96\",\"#ab63fa\",\"#FFA15A\",\"#19d3f3\",\"#FF6692\",\"#B6E880\",\"#FF97FF\",\"#FECB52\"],\"font\":{\"color\":\"#2a3f5f\"},\"geo\":{\"bgcolor\":\"white\",\"lakecolor\":\"white\",\"landcolor\":\"#E5ECF6\",\"showlakes\":true,\"showland\":true,\"subunitcolor\":\"white\"},\"hoverlabel\":{\"align\":\"left\"},\"hovermode\":\"closest\",\"mapbox\":{\"style\":\"light\"},\"paper_bgcolor\":\"white\",\"plot_bgcolor\":\"#E5ECF6\",\"polar\":{\"angularaxis\":{\"gridcolor\":\"white\",\"linecolor\":\"white\",\"ticks\":\"\"},\"bgcolor\":\"#E5ECF6\",\"radialaxis\":{\"gridcolor\":\"white\",\"linecolor\":\"white\",\"ticks\":\"\"}},\"scene\":{\"xaxis\":{\"backgroundcolor\":\"#E5ECF6\",\"gridcolor\":\"white\",\"gridwidth\":2,\"linecolor\":\"white\",\"showbackground\":true,\"ticks\":\"\",\"zerolinecolor\":\"white\"},\"yaxis\":{\"backgroundcolor\":\"#E5ECF6\",\"gridcolor\":\"white\",\"gridwidth\":2,\"linecolor\":\"white\",\"showbackground\":true,\"ticks\":\"\",\"zerolinecolor\":\"white\"},\"zaxis\":{\"backgroundcolor\":\"#E5ECF6\",\"gridcolor\":\"white\",\"gridwidth\":2,\"linecolor\":\"white\",\"showbackground\":true,\"ticks\":\"\",\"zerolinecolor\":\"white\"}},\"shapedefaults\":{\"line\":{\"color\":\"#2a3f5f\"}},\"ternary\":{\"aaxis\":{\"gridcolor\":\"white\",\"linecolor\":\"white\",\"ticks\":\"\"},\"baxis\":{\"gridcolor\":\"white\",\"linecolor\":\"white\",\"ticks\":\"\"},\"bgcolor\":\"#E5ECF6\",\"caxis\":{\"gridcolor\":\"white\",\"linecolor\":\"white\",\"ticks\":\"\"}},\"title\":{\"x\":0.05},\"xaxis\":{\"automargin\":true,\"gridcolor\":\"white\",\"linecolor\":\"white\",\"ticks\":\"\",\"title\":{\"standoff\":15},\"zerolinecolor\":\"white\",\"zerolinewidth\":2},\"yaxis\":{\"automargin\":true,\"gridcolor\":\"white\",\"linecolor\":\"white\",\"ticks\":\"\",\"title\":{\"standoff\":15},\"zerolinecolor\":\"white\",\"zerolinewidth\":2}}},\"xaxis\":{\"anchor\":\"y\",\"domain\":[0.0,1.0]},\"yaxis\":{\"anchor\":\"x\",\"domain\":[0.0,1.0],\"autorange\":\"reversed\"},\"coloraxis\":{\"colorscale\":[[0.0,\"#440154\"],[0.1111111111111111,\"#482878\"],[0.2222222222222222,\"#3e4989\"],[0.3333333333333333,\"#31688e\"],[0.4444444444444444,\"#26828e\"],[0.5555555555555556,\"#1f9e89\"],[0.6666666666666666,\"#35b779\"],[0.7777777777777778,\"#6ece58\"],[0.8888888888888888,\"#b5de2b\"],[1.0,\"#fde725\"]]},\"margin\":{\"t\":60}},                        {\"responsive\": true}                    ).then(function(){\n",
              "                            \n",
              "var gd = document.getElementById('9cc659cd-9e12-4933-b89a-895c61f4d9dd');\n",
              "var x = new MutationObserver(function (mutations, observer) {{\n",
              "        var display = window.getComputedStyle(gd).display;\n",
              "        if (!display || display === 'none') {{\n",
              "            console.log([gd, 'removed!']);\n",
              "            Plotly.purge(gd);\n",
              "            observer.disconnect();\n",
              "        }}\n",
              "}});\n",
              "\n",
              "// Listen for the removal of the full notebook cells\n",
              "var notebookContainer = gd.closest('#notebook-container');\n",
              "if (notebookContainer) {{\n",
              "    x.observe(notebookContainer, {childList: true});\n",
              "}}\n",
              "\n",
              "// Listen for the clearing of the current output cell\n",
              "var outputEl = gd.closest('.output');\n",
              "if (outputEl) {{\n",
              "    x.observe(outputEl, {childList: true});\n",
              "}}\n",
              "\n",
              "                        })                };                            </script>        </div>\n",
              "</body>\n",
              "</html>"
            ]
          },
          "metadata": {}
        }
      ]
    },
    {
      "cell_type": "markdown",
      "source": [
        "# Data Pre-Processing"
      ],
      "metadata": {
        "id": "aWzoM8qzxI_T"
      }
    },
    {
      "cell_type": "markdown",
      "source": [
        "## Imputing Missing Values "
      ],
      "metadata": {
        "id": "mJYCMSfRxM6p"
      }
    },
    {
      "cell_type": "code",
      "source": [
        "imputer_cols = [\"Age\", \"FoodCourt\", \"ShoppingMall\", \"Spa\", \"VRDeck\", \"RoomService\"]  # Null이 들어있는 컬럼\n",
        "\n",
        "imputer = SimpleImputer(strategy=\"mean\")\n",
        "imputer.fit(train[imputer_cols])\n",
        "\n",
        "train[imputer_cols] = imputer.transform(train[imputer_cols])\n",
        "test[imputer_cols] = imputer.transform(test[imputer_cols])\n",
        "\n",
        "train[\"HomePlanet\"].fillna(\"Z\", inplace=True)\n",
        "test[\"HomePlanet\"].fillna(\"Z\", inplace=True)"
      ],
      "metadata": {
        "id": "WLA6Yhgjw_m3"
      },
      "execution_count": null,
      "outputs": []
    },
    {
      "cell_type": "markdown",
      "source": [
        "## Encoding Categorical Faatures "
      ],
      "metadata": {
        "id": "o_p1xpXgORZt"
      }
    },
    {
      "cell_type": "code",
      "source": [
        "label_cols = [\"HomePlanet\", \"CryoSleep\", \"Cabin\", \"Destination\", \"VIP\"]  # 범주형 컬럼\n",
        "\n",
        "def label_encoder(train, test, columns):\n",
        "    for col in columns:\n",
        "        train[col] = train[col].astype(str)\n",
        "        test[col] = test[col].astype(str)\n",
        "        train[col] = LabelEncoder().fit_transform(train[col])\n",
        "        test[col] = LabelEncoder().fit_transform(test[col])\n",
        "\n",
        "    return train, test\n",
        "\n",
        "train, test = label_encoder(train, test, label_cols)"
      ],
      "metadata": {
        "id": "A6Hlx_jbOOvy"
      },
      "execution_count": null,
      "outputs": []
    },
    {
      "cell_type": "code",
      "source": [
        "train.drop([\"Name\", \"Cabin\"], axis=1, inplace=True)\n",
        "test.drop([\"Name\", \"Cabin\"], axis=1, inplace=True)\n",
        "\n",
        "X = train.drop(target, axis=1)\n",
        "y = train[target]\n",
        "\n",
        "X_train, X_test, y_train, y_test = train_test_split(X, y,\n",
        "                                                    test_size=0.33,\n",
        "                                                    random_state=12)  # 데이터 셋 분할"
      ],
      "metadata": {
        "id": "WuXRQIGKQFkl"
      },
      "execution_count": null,
      "outputs": []
    },
    {
      "cell_type": "markdown",
      "source": [
        "# Modeling"
      ],
      "metadata": {
        "id": "B5VVCXI5PjsY"
      }
    },
    {
      "cell_type": "code",
      "source": [
        "clf = LazyClassifier(verbose=0,\n",
        "                     ignore_warnings=True,\n",
        "                     custom_metric=None,\n",
        "                     predictions=False,\n",
        "                     random_state=12,\n",
        "                     classifiers=\"all\")\n",
        "\n",
        "models, predictions = clf.fit(X_train, X_test, y_train, y_test)\n",
        "clear_output()"
      ],
      "metadata": {
        "id": "Zzk5aAKhPPDJ"
      },
      "execution_count": null,
      "outputs": []
    },
    {
      "cell_type": "markdown",
      "source": [
        "## TOP 15 Models"
      ],
      "metadata": {
        "id": "ZaQE4LYFRJdh"
      }
    },
    {
      "cell_type": "code",
      "source": [
        "models[:15]  # Top15"
      ],
      "metadata": {
        "colab": {
          "base_uri": "https://localhost:8080/",
          "height": 551
        },
        "id": "jWhyObrrP3y_",
        "outputId": "4810aa98-b09b-44a5-ec10-cc21fb48987f"
      },
      "execution_count": null,
      "outputs": [
        {
          "output_type": "execute_result",
          "data": {
            "text/plain": [
              "                        Accuracy  Balanced Accuracy  ROC AUC  F1 Score  \\\n",
              "Model                                                                    \n",
              "LGBMClassifier              0.78               0.78     0.78      0.78   \n",
              "XGBClassifier               0.78               0.78     0.78      0.78   \n",
              "AdaBoostClassifier          0.78               0.78     0.78      0.78   \n",
              "RandomForestClassifier      0.77               0.77     0.77      0.77   \n",
              "SVC                         0.77               0.77     0.77      0.77   \n",
              "BaggingClassifier           0.77               0.77     0.77      0.77   \n",
              "LinearSVC                   0.77               0.77     0.77      0.77   \n",
              "LogisticRegression          0.77               0.77     0.77      0.77   \n",
              "NuSVC                       0.77               0.77     0.77      0.77   \n",
              "CalibratedClassifierCV      0.76               0.76     0.76      0.76   \n",
              "ExtraTreesClassifier        0.76               0.76     0.76      0.76   \n",
              "LabelSpreading              0.76               0.76     0.76      0.76   \n",
              "LabelPropagation            0.76               0.76     0.76      0.76   \n",
              "KNeighborsClassifier        0.75               0.75     0.75      0.75   \n",
              "SGDClassifier               0.75               0.75     0.75      0.75   \n",
              "\n",
              "                        Time Taken  \n",
              "Model                               \n",
              "LGBMClassifier                0.22  \n",
              "XGBClassifier                 0.41  \n",
              "AdaBoostClassifier            0.58  \n",
              "RandomForestClassifier        0.83  \n",
              "SVC                           4.10  \n",
              "BaggingClassifier             0.45  \n",
              "LinearSVC                     0.40  \n",
              "LogisticRegression            0.05  \n",
              "NuSVC                         2.36  \n",
              "CalibratedClassifierCV        3.03  \n",
              "ExtraTreesClassifier          0.65  \n",
              "LabelSpreading                2.52  \n",
              "LabelPropagation              1.68  \n",
              "KNeighborsClassifier          0.22  \n",
              "SGDClassifier                 0.06  "
            ],
            "text/html": [
              "\n",
              "  <div id=\"df-c40e4385-45d7-4694-80fe-cd22c5a6f841\">\n",
              "    <div class=\"colab-df-container\">\n",
              "      <div>\n",
              "<style scoped>\n",
              "    .dataframe tbody tr th:only-of-type {\n",
              "        vertical-align: middle;\n",
              "    }\n",
              "\n",
              "    .dataframe tbody tr th {\n",
              "        vertical-align: top;\n",
              "    }\n",
              "\n",
              "    .dataframe thead th {\n",
              "        text-align: right;\n",
              "    }\n",
              "</style>\n",
              "<table border=\"1\" class=\"dataframe\">\n",
              "  <thead>\n",
              "    <tr style=\"text-align: right;\">\n",
              "      <th></th>\n",
              "      <th>Accuracy</th>\n",
              "      <th>Balanced Accuracy</th>\n",
              "      <th>ROC AUC</th>\n",
              "      <th>F1 Score</th>\n",
              "      <th>Time Taken</th>\n",
              "    </tr>\n",
              "    <tr>\n",
              "      <th>Model</th>\n",
              "      <th></th>\n",
              "      <th></th>\n",
              "      <th></th>\n",
              "      <th></th>\n",
              "      <th></th>\n",
              "    </tr>\n",
              "  </thead>\n",
              "  <tbody>\n",
              "    <tr>\n",
              "      <th>LGBMClassifier</th>\n",
              "      <td>0.78</td>\n",
              "      <td>0.78</td>\n",
              "      <td>0.78</td>\n",
              "      <td>0.78</td>\n",
              "      <td>0.22</td>\n",
              "    </tr>\n",
              "    <tr>\n",
              "      <th>XGBClassifier</th>\n",
              "      <td>0.78</td>\n",
              "      <td>0.78</td>\n",
              "      <td>0.78</td>\n",
              "      <td>0.78</td>\n",
              "      <td>0.41</td>\n",
              "    </tr>\n",
              "    <tr>\n",
              "      <th>AdaBoostClassifier</th>\n",
              "      <td>0.78</td>\n",
              "      <td>0.78</td>\n",
              "      <td>0.78</td>\n",
              "      <td>0.78</td>\n",
              "      <td>0.58</td>\n",
              "    </tr>\n",
              "    <tr>\n",
              "      <th>RandomForestClassifier</th>\n",
              "      <td>0.77</td>\n",
              "      <td>0.77</td>\n",
              "      <td>0.77</td>\n",
              "      <td>0.77</td>\n",
              "      <td>0.83</td>\n",
              "    </tr>\n",
              "    <tr>\n",
              "      <th>SVC</th>\n",
              "      <td>0.77</td>\n",
              "      <td>0.77</td>\n",
              "      <td>0.77</td>\n",
              "      <td>0.77</td>\n",
              "      <td>4.10</td>\n",
              "    </tr>\n",
              "    <tr>\n",
              "      <th>BaggingClassifier</th>\n",
              "      <td>0.77</td>\n",
              "      <td>0.77</td>\n",
              "      <td>0.77</td>\n",
              "      <td>0.77</td>\n",
              "      <td>0.45</td>\n",
              "    </tr>\n",
              "    <tr>\n",
              "      <th>LinearSVC</th>\n",
              "      <td>0.77</td>\n",
              "      <td>0.77</td>\n",
              "      <td>0.77</td>\n",
              "      <td>0.77</td>\n",
              "      <td>0.40</td>\n",
              "    </tr>\n",
              "    <tr>\n",
              "      <th>LogisticRegression</th>\n",
              "      <td>0.77</td>\n",
              "      <td>0.77</td>\n",
              "      <td>0.77</td>\n",
              "      <td>0.77</td>\n",
              "      <td>0.05</td>\n",
              "    </tr>\n",
              "    <tr>\n",
              "      <th>NuSVC</th>\n",
              "      <td>0.77</td>\n",
              "      <td>0.77</td>\n",
              "      <td>0.77</td>\n",
              "      <td>0.77</td>\n",
              "      <td>2.36</td>\n",
              "    </tr>\n",
              "    <tr>\n",
              "      <th>CalibratedClassifierCV</th>\n",
              "      <td>0.76</td>\n",
              "      <td>0.76</td>\n",
              "      <td>0.76</td>\n",
              "      <td>0.76</td>\n",
              "      <td>3.03</td>\n",
              "    </tr>\n",
              "    <tr>\n",
              "      <th>ExtraTreesClassifier</th>\n",
              "      <td>0.76</td>\n",
              "      <td>0.76</td>\n",
              "      <td>0.76</td>\n",
              "      <td>0.76</td>\n",
              "      <td>0.65</td>\n",
              "    </tr>\n",
              "    <tr>\n",
              "      <th>LabelSpreading</th>\n",
              "      <td>0.76</td>\n",
              "      <td>0.76</td>\n",
              "      <td>0.76</td>\n",
              "      <td>0.76</td>\n",
              "      <td>2.52</td>\n",
              "    </tr>\n",
              "    <tr>\n",
              "      <th>LabelPropagation</th>\n",
              "      <td>0.76</td>\n",
              "      <td>0.76</td>\n",
              "      <td>0.76</td>\n",
              "      <td>0.76</td>\n",
              "      <td>1.68</td>\n",
              "    </tr>\n",
              "    <tr>\n",
              "      <th>KNeighborsClassifier</th>\n",
              "      <td>0.75</td>\n",
              "      <td>0.75</td>\n",
              "      <td>0.75</td>\n",
              "      <td>0.75</td>\n",
              "      <td>0.22</td>\n",
              "    </tr>\n",
              "    <tr>\n",
              "      <th>SGDClassifier</th>\n",
              "      <td>0.75</td>\n",
              "      <td>0.75</td>\n",
              "      <td>0.75</td>\n",
              "      <td>0.75</td>\n",
              "      <td>0.06</td>\n",
              "    </tr>\n",
              "  </tbody>\n",
              "</table>\n",
              "</div>\n",
              "      <button class=\"colab-df-convert\" onclick=\"convertToInteractive('df-c40e4385-45d7-4694-80fe-cd22c5a6f841')\"\n",
              "              title=\"Convert this dataframe to an interactive table.\"\n",
              "              style=\"display:none;\">\n",
              "        \n",
              "  <svg xmlns=\"http://www.w3.org/2000/svg\" height=\"24px\"viewBox=\"0 0 24 24\"\n",
              "       width=\"24px\">\n",
              "    <path d=\"M0 0h24v24H0V0z\" fill=\"none\"/>\n",
              "    <path d=\"M18.56 5.44l.94 2.06.94-2.06 2.06-.94-2.06-.94-.94-2.06-.94 2.06-2.06.94zm-11 1L8.5 8.5l.94-2.06 2.06-.94-2.06-.94L8.5 2.5l-.94 2.06-2.06.94zm10 10l.94 2.06.94-2.06 2.06-.94-2.06-.94-.94-2.06-.94 2.06-2.06.94z\"/><path d=\"M17.41 7.96l-1.37-1.37c-.4-.4-.92-.59-1.43-.59-.52 0-1.04.2-1.43.59L10.3 9.45l-7.72 7.72c-.78.78-.78 2.05 0 2.83L4 21.41c.39.39.9.59 1.41.59.51 0 1.02-.2 1.41-.59l7.78-7.78 2.81-2.81c.8-.78.8-2.07 0-2.86zM5.41 20L4 18.59l7.72-7.72 1.47 1.35L5.41 20z\"/>\n",
              "  </svg>\n",
              "      </button>\n",
              "      \n",
              "  <style>\n",
              "    .colab-df-container {\n",
              "      display:flex;\n",
              "      flex-wrap:wrap;\n",
              "      gap: 12px;\n",
              "    }\n",
              "\n",
              "    .colab-df-convert {\n",
              "      background-color: #E8F0FE;\n",
              "      border: none;\n",
              "      border-radius: 50%;\n",
              "      cursor: pointer;\n",
              "      display: none;\n",
              "      fill: #1967D2;\n",
              "      height: 32px;\n",
              "      padding: 0 0 0 0;\n",
              "      width: 32px;\n",
              "    }\n",
              "\n",
              "    .colab-df-convert:hover {\n",
              "      background-color: #E2EBFA;\n",
              "      box-shadow: 0px 1px 2px rgba(60, 64, 67, 0.3), 0px 1px 3px 1px rgba(60, 64, 67, 0.15);\n",
              "      fill: #174EA6;\n",
              "    }\n",
              "\n",
              "    [theme=dark] .colab-df-convert {\n",
              "      background-color: #3B4455;\n",
              "      fill: #D2E3FC;\n",
              "    }\n",
              "\n",
              "    [theme=dark] .colab-df-convert:hover {\n",
              "      background-color: #434B5C;\n",
              "      box-shadow: 0px 1px 3px 1px rgba(0, 0, 0, 0.15);\n",
              "      filter: drop-shadow(0px 1px 2px rgba(0, 0, 0, 0.3));\n",
              "      fill: #FFFFFF;\n",
              "    }\n",
              "  </style>\n",
              "\n",
              "      <script>\n",
              "        const buttonEl =\n",
              "          document.querySelector('#df-c40e4385-45d7-4694-80fe-cd22c5a6f841 button.colab-df-convert');\n",
              "        buttonEl.style.display =\n",
              "          google.colab.kernel.accessAllowed ? 'block' : 'none';\n",
              "\n",
              "        async function convertToInteractive(key) {\n",
              "          const element = document.querySelector('#df-c40e4385-45d7-4694-80fe-cd22c5a6f841');\n",
              "          const dataTable =\n",
              "            await google.colab.kernel.invokeFunction('convertToInteractive',\n",
              "                                                     [key], {});\n",
              "          if (!dataTable) return;\n",
              "\n",
              "          const docLinkHtml = 'Like what you see? Visit the ' +\n",
              "            '<a target=\"_blank\" href=https://colab.research.google.com/notebooks/data_table.ipynb>data table notebook</a>'\n",
              "            + ' to learn more about interactive tables.';\n",
              "          element.innerHTML = '';\n",
              "          dataTable['output_type'] = 'display_data';\n",
              "          await google.colab.output.renderOutput(dataTable, element);\n",
              "          const docLink = document.createElement('div');\n",
              "          docLink.innerHTML = docLinkHtml;\n",
              "          element.appendChild(docLink);\n",
              "        }\n",
              "      </script>\n",
              "    </div>\n",
              "  </div>\n",
              "  "
            ]
          },
          "metadata": {},
          "execution_count": 47
        }
      ]
    },
    {
      "cell_type": "markdown",
      "source": [
        "## Visualizing Results "
      ],
      "metadata": {
        "id": "s5SJMWyORHrs"
      }
    },
    {
      "cell_type": "code",
      "source": [
        "line = px.line(data_frame=models,\n",
        "               y=[\"Accuracy\"],\n",
        "               markers=True)\n",
        "\n",
        "line.update_xaxes(title=\"Model\", rangeslider_visible=False)\n",
        "line.update_yaxes(title=\"Accuracy\")\n",
        "line.update_traces(line_color=\"red\")\n",
        "line.update_layout(showlegend=True,\n",
        "                   title={\n",
        "                       \"text\" : \"Accuracy vs Model\",\n",
        "                       \"y\" : 0.94,\n",
        "                       \"x\" : 0.5,\n",
        "                       \"xanchor\" : \"center\",\n",
        "                       \"yanchor\" : \"top\"\n",
        "                   })\n",
        "\n",
        "line.show()"
      ],
      "metadata": {
        "colab": {
          "base_uri": "https://localhost:8080/",
          "height": 542
        },
        "id": "oKmyl90vRCK6",
        "outputId": "992fc32d-4902-4bff-ad3c-c07e5d7c32d5"
      },
      "execution_count": null,
      "outputs": [
        {
          "output_type": "display_data",
          "data": {
            "text/html": [
              "<html>\n",
              "<head><meta charset=\"utf-8\" /></head>\n",
              "<body>\n",
              "    <div>            <script src=\"https://cdnjs.cloudflare.com/ajax/libs/mathjax/2.7.5/MathJax.js?config=TeX-AMS-MML_SVG\"></script><script type=\"text/javascript\">if (window.MathJax) {MathJax.Hub.Config({SVG: {font: \"STIX-Web\"}});}</script>                <script type=\"text/javascript\">window.PlotlyConfig = {MathJaxConfig: 'local'};</script>\n",
              "        <script src=\"https://cdn.plot.ly/plotly-2.8.3.min.js\"></script>                <div id=\"8b7c80fd-a200-4a1f-8112-cfaecba06b7d\" class=\"plotly-graph-div\" style=\"height:525px; width:100%;\"></div>            <script type=\"text/javascript\">                                    window.PLOTLYENV=window.PLOTLYENV || {};                                    if (document.getElementById(\"8b7c80fd-a200-4a1f-8112-cfaecba06b7d\")) {                    Plotly.newPlot(                        \"8b7c80fd-a200-4a1f-8112-cfaecba06b7d\",                        [{\"hovertemplate\":\"variable=Accuracy<br>Model=%{x}<br>value=%{y}<extra></extra>\",\"legendgroup\":\"Accuracy\",\"line\":{\"color\":\"red\",\"dash\":\"solid\"},\"marker\":{\"symbol\":\"circle\"},\"mode\":\"lines+markers\",\"name\":\"Accuracy\",\"orientation\":\"v\",\"showlegend\":true,\"x\":[\"LGBMClassifier\",\"XGBClassifier\",\"AdaBoostClassifier\",\"RandomForestClassifier\",\"SVC\",\"BaggingClassifier\",\"LinearSVC\",\"LogisticRegression\",\"NuSVC\",\"CalibratedClassifierCV\",\"ExtraTreesClassifier\",\"LabelSpreading\",\"LabelPropagation\",\"KNeighborsClassifier\",\"SGDClassifier\",\"RidgeClassifier\",\"LinearDiscriminantAnalysis\",\"RidgeClassifierCV\",\"BernoulliNB\",\"NearestCentroid\",\"DecisionTreeClassifier\",\"ExtraTreeClassifier\",\"QuadraticDiscriminantAnalysis\",\"GaussianNB\",\"Perceptron\",\"PassiveAggressiveClassifier\",\"DummyClassifier\"],\"xaxis\":\"x\",\"y\":[0.7821540606483095,0.7797141861275706,0.7762286510979436,0.7727431160683165,0.7678633670268387,0.767514813523876,0.7668177065179506,0.766120599512025,0.766120599512025,0.7643778319972115,0.7629836179853607,0.7612408504705472,0.7563611014290693,0.7528755663994423,0.7521784593935169,0.7424189613105612,0.7424189613105612,0.7424189613105612,0.7406761937957477,0.7295224817009411,0.7218543046357616,0.7180202161031718,0.7033809689787383,0.6971070059254095,0.6253049843150924,0.5636110142906936,0.4956430812129662],\"yaxis\":\"y\",\"type\":\"scatter\"}],                        {\"template\":{\"data\":{\"bar\":[{\"error_x\":{\"color\":\"#2a3f5f\"},\"error_y\":{\"color\":\"#2a3f5f\"},\"marker\":{\"line\":{\"color\":\"#E5ECF6\",\"width\":0.5},\"pattern\":{\"fillmode\":\"overlay\",\"size\":10,\"solidity\":0.2}},\"type\":\"bar\"}],\"barpolar\":[{\"marker\":{\"line\":{\"color\":\"#E5ECF6\",\"width\":0.5},\"pattern\":{\"fillmode\":\"overlay\",\"size\":10,\"solidity\":0.2}},\"type\":\"barpolar\"}],\"carpet\":[{\"aaxis\":{\"endlinecolor\":\"#2a3f5f\",\"gridcolor\":\"white\",\"linecolor\":\"white\",\"minorgridcolor\":\"white\",\"startlinecolor\":\"#2a3f5f\"},\"baxis\":{\"endlinecolor\":\"#2a3f5f\",\"gridcolor\":\"white\",\"linecolor\":\"white\",\"minorgridcolor\":\"white\",\"startlinecolor\":\"#2a3f5f\"},\"type\":\"carpet\"}],\"choropleth\":[{\"colorbar\":{\"outlinewidth\":0,\"ticks\":\"\"},\"type\":\"choropleth\"}],\"contour\":[{\"colorbar\":{\"outlinewidth\":0,\"ticks\":\"\"},\"colorscale\":[[0.0,\"#0d0887\"],[0.1111111111111111,\"#46039f\"],[0.2222222222222222,\"#7201a8\"],[0.3333333333333333,\"#9c179e\"],[0.4444444444444444,\"#bd3786\"],[0.5555555555555556,\"#d8576b\"],[0.6666666666666666,\"#ed7953\"],[0.7777777777777778,\"#fb9f3a\"],[0.8888888888888888,\"#fdca26\"],[1.0,\"#f0f921\"]],\"type\":\"contour\"}],\"contourcarpet\":[{\"colorbar\":{\"outlinewidth\":0,\"ticks\":\"\"},\"type\":\"contourcarpet\"}],\"heatmap\":[{\"colorbar\":{\"outlinewidth\":0,\"ticks\":\"\"},\"colorscale\":[[0.0,\"#0d0887\"],[0.1111111111111111,\"#46039f\"],[0.2222222222222222,\"#7201a8\"],[0.3333333333333333,\"#9c179e\"],[0.4444444444444444,\"#bd3786\"],[0.5555555555555556,\"#d8576b\"],[0.6666666666666666,\"#ed7953\"],[0.7777777777777778,\"#fb9f3a\"],[0.8888888888888888,\"#fdca26\"],[1.0,\"#f0f921\"]],\"type\":\"heatmap\"}],\"heatmapgl\":[{\"colorbar\":{\"outlinewidth\":0,\"ticks\":\"\"},\"colorscale\":[[0.0,\"#0d0887\"],[0.1111111111111111,\"#46039f\"],[0.2222222222222222,\"#7201a8\"],[0.3333333333333333,\"#9c179e\"],[0.4444444444444444,\"#bd3786\"],[0.5555555555555556,\"#d8576b\"],[0.6666666666666666,\"#ed7953\"],[0.7777777777777778,\"#fb9f3a\"],[0.8888888888888888,\"#fdca26\"],[1.0,\"#f0f921\"]],\"type\":\"heatmapgl\"}],\"histogram\":[{\"marker\":{\"pattern\":{\"fillmode\":\"overlay\",\"size\":10,\"solidity\":0.2}},\"type\":\"histogram\"}],\"histogram2d\":[{\"colorbar\":{\"outlinewidth\":0,\"ticks\":\"\"},\"colorscale\":[[0.0,\"#0d0887\"],[0.1111111111111111,\"#46039f\"],[0.2222222222222222,\"#7201a8\"],[0.3333333333333333,\"#9c179e\"],[0.4444444444444444,\"#bd3786\"],[0.5555555555555556,\"#d8576b\"],[0.6666666666666666,\"#ed7953\"],[0.7777777777777778,\"#fb9f3a\"],[0.8888888888888888,\"#fdca26\"],[1.0,\"#f0f921\"]],\"type\":\"histogram2d\"}],\"histogram2dcontour\":[{\"colorbar\":{\"outlinewidth\":0,\"ticks\":\"\"},\"colorscale\":[[0.0,\"#0d0887\"],[0.1111111111111111,\"#46039f\"],[0.2222222222222222,\"#7201a8\"],[0.3333333333333333,\"#9c179e\"],[0.4444444444444444,\"#bd3786\"],[0.5555555555555556,\"#d8576b\"],[0.6666666666666666,\"#ed7953\"],[0.7777777777777778,\"#fb9f3a\"],[0.8888888888888888,\"#fdca26\"],[1.0,\"#f0f921\"]],\"type\":\"histogram2dcontour\"}],\"mesh3d\":[{\"colorbar\":{\"outlinewidth\":0,\"ticks\":\"\"},\"type\":\"mesh3d\"}],\"parcoords\":[{\"line\":{\"colorbar\":{\"outlinewidth\":0,\"ticks\":\"\"}},\"type\":\"parcoords\"}],\"pie\":[{\"automargin\":true,\"type\":\"pie\"}],\"scatter\":[{\"marker\":{\"colorbar\":{\"outlinewidth\":0,\"ticks\":\"\"}},\"type\":\"scatter\"}],\"scatter3d\":[{\"line\":{\"colorbar\":{\"outlinewidth\":0,\"ticks\":\"\"}},\"marker\":{\"colorbar\":{\"outlinewidth\":0,\"ticks\":\"\"}},\"type\":\"scatter3d\"}],\"scattercarpet\":[{\"marker\":{\"colorbar\":{\"outlinewidth\":0,\"ticks\":\"\"}},\"type\":\"scattercarpet\"}],\"scattergeo\":[{\"marker\":{\"colorbar\":{\"outlinewidth\":0,\"ticks\":\"\"}},\"type\":\"scattergeo\"}],\"scattergl\":[{\"marker\":{\"colorbar\":{\"outlinewidth\":0,\"ticks\":\"\"}},\"type\":\"scattergl\"}],\"scattermapbox\":[{\"marker\":{\"colorbar\":{\"outlinewidth\":0,\"ticks\":\"\"}},\"type\":\"scattermapbox\"}],\"scatterpolar\":[{\"marker\":{\"colorbar\":{\"outlinewidth\":0,\"ticks\":\"\"}},\"type\":\"scatterpolar\"}],\"scatterpolargl\":[{\"marker\":{\"colorbar\":{\"outlinewidth\":0,\"ticks\":\"\"}},\"type\":\"scatterpolargl\"}],\"scatterternary\":[{\"marker\":{\"colorbar\":{\"outlinewidth\":0,\"ticks\":\"\"}},\"type\":\"scatterternary\"}],\"surface\":[{\"colorbar\":{\"outlinewidth\":0,\"ticks\":\"\"},\"colorscale\":[[0.0,\"#0d0887\"],[0.1111111111111111,\"#46039f\"],[0.2222222222222222,\"#7201a8\"],[0.3333333333333333,\"#9c179e\"],[0.4444444444444444,\"#bd3786\"],[0.5555555555555556,\"#d8576b\"],[0.6666666666666666,\"#ed7953\"],[0.7777777777777778,\"#fb9f3a\"],[0.8888888888888888,\"#fdca26\"],[1.0,\"#f0f921\"]],\"type\":\"surface\"}],\"table\":[{\"cells\":{\"fill\":{\"color\":\"#EBF0F8\"},\"line\":{\"color\":\"white\"}},\"header\":{\"fill\":{\"color\":\"#C8D4E3\"},\"line\":{\"color\":\"white\"}},\"type\":\"table\"}]},\"layout\":{\"annotationdefaults\":{\"arrowcolor\":\"#2a3f5f\",\"arrowhead\":0,\"arrowwidth\":1},\"autotypenumbers\":\"strict\",\"coloraxis\":{\"colorbar\":{\"outlinewidth\":0,\"ticks\":\"\"}},\"colorscale\":{\"diverging\":[[0,\"#8e0152\"],[0.1,\"#c51b7d\"],[0.2,\"#de77ae\"],[0.3,\"#f1b6da\"],[0.4,\"#fde0ef\"],[0.5,\"#f7f7f7\"],[0.6,\"#e6f5d0\"],[0.7,\"#b8e186\"],[0.8,\"#7fbc41\"],[0.9,\"#4d9221\"],[1,\"#276419\"]],\"sequential\":[[0.0,\"#0d0887\"],[0.1111111111111111,\"#46039f\"],[0.2222222222222222,\"#7201a8\"],[0.3333333333333333,\"#9c179e\"],[0.4444444444444444,\"#bd3786\"],[0.5555555555555556,\"#d8576b\"],[0.6666666666666666,\"#ed7953\"],[0.7777777777777778,\"#fb9f3a\"],[0.8888888888888888,\"#fdca26\"],[1.0,\"#f0f921\"]],\"sequentialminus\":[[0.0,\"#0d0887\"],[0.1111111111111111,\"#46039f\"],[0.2222222222222222,\"#7201a8\"],[0.3333333333333333,\"#9c179e\"],[0.4444444444444444,\"#bd3786\"],[0.5555555555555556,\"#d8576b\"],[0.6666666666666666,\"#ed7953\"],[0.7777777777777778,\"#fb9f3a\"],[0.8888888888888888,\"#fdca26\"],[1.0,\"#f0f921\"]]},\"colorway\":[\"#636efa\",\"#EF553B\",\"#00cc96\",\"#ab63fa\",\"#FFA15A\",\"#19d3f3\",\"#FF6692\",\"#B6E880\",\"#FF97FF\",\"#FECB52\"],\"font\":{\"color\":\"#2a3f5f\"},\"geo\":{\"bgcolor\":\"white\",\"lakecolor\":\"white\",\"landcolor\":\"#E5ECF6\",\"showlakes\":true,\"showland\":true,\"subunitcolor\":\"white\"},\"hoverlabel\":{\"align\":\"left\"},\"hovermode\":\"closest\",\"mapbox\":{\"style\":\"light\"},\"paper_bgcolor\":\"white\",\"plot_bgcolor\":\"#E5ECF6\",\"polar\":{\"angularaxis\":{\"gridcolor\":\"white\",\"linecolor\":\"white\",\"ticks\":\"\"},\"bgcolor\":\"#E5ECF6\",\"radialaxis\":{\"gridcolor\":\"white\",\"linecolor\":\"white\",\"ticks\":\"\"}},\"scene\":{\"xaxis\":{\"backgroundcolor\":\"#E5ECF6\",\"gridcolor\":\"white\",\"gridwidth\":2,\"linecolor\":\"white\",\"showbackground\":true,\"ticks\":\"\",\"zerolinecolor\":\"white\"},\"yaxis\":{\"backgroundcolor\":\"#E5ECF6\",\"gridcolor\":\"white\",\"gridwidth\":2,\"linecolor\":\"white\",\"showbackground\":true,\"ticks\":\"\",\"zerolinecolor\":\"white\"},\"zaxis\":{\"backgroundcolor\":\"#E5ECF6\",\"gridcolor\":\"white\",\"gridwidth\":2,\"linecolor\":\"white\",\"showbackground\":true,\"ticks\":\"\",\"zerolinecolor\":\"white\"}},\"shapedefaults\":{\"line\":{\"color\":\"#2a3f5f\"}},\"ternary\":{\"aaxis\":{\"gridcolor\":\"white\",\"linecolor\":\"white\",\"ticks\":\"\"},\"baxis\":{\"gridcolor\":\"white\",\"linecolor\":\"white\",\"ticks\":\"\"},\"bgcolor\":\"#E5ECF6\",\"caxis\":{\"gridcolor\":\"white\",\"linecolor\":\"white\",\"ticks\":\"\"}},\"title\":{\"x\":0.05},\"xaxis\":{\"automargin\":true,\"gridcolor\":\"white\",\"linecolor\":\"white\",\"ticks\":\"\",\"title\":{\"standoff\":15},\"zerolinecolor\":\"white\",\"zerolinewidth\":2},\"yaxis\":{\"automargin\":true,\"gridcolor\":\"white\",\"linecolor\":\"white\",\"ticks\":\"\",\"title\":{\"standoff\":15},\"zerolinecolor\":\"white\",\"zerolinewidth\":2}}},\"xaxis\":{\"anchor\":\"y\",\"domain\":[0.0,1.0],\"title\":{\"text\":\"Model\"},\"rangeslider\":{\"visible\":false}},\"yaxis\":{\"anchor\":\"x\",\"domain\":[0.0,1.0],\"title\":{\"text\":\"Accuracy\"}},\"legend\":{\"title\":{\"text\":\"variable\"},\"tracegroupgap\":0},\"margin\":{\"t\":60},\"title\":{\"text\":\"Accuracy vs Model\",\"y\":0.94,\"x\":0.5,\"xanchor\":\"center\",\"yanchor\":\"top\"},\"showlegend\":true},                        {\"responsive\": true}                    ).then(function(){\n",
              "                            \n",
              "var gd = document.getElementById('8b7c80fd-a200-4a1f-8112-cfaecba06b7d');\n",
              "var x = new MutationObserver(function (mutations, observer) {{\n",
              "        var display = window.getComputedStyle(gd).display;\n",
              "        if (!display || display === 'none') {{\n",
              "            console.log([gd, 'removed!']);\n",
              "            Plotly.purge(gd);\n",
              "            observer.disconnect();\n",
              "        }}\n",
              "}});\n",
              "\n",
              "// Listen for the removal of the full notebook cells\n",
              "var notebookContainer = gd.closest('#notebook-container');\n",
              "if (notebookContainer) {{\n",
              "    x.observe(notebookContainer, {childList: true});\n",
              "}}\n",
              "\n",
              "// Listen for the clearing of the current output cell\n",
              "var outputEl = gd.closest('.output');\n",
              "if (outputEl) {{\n",
              "    x.observe(outputEl, {childList: true});\n",
              "}}\n",
              "\n",
              "                        })                };                            </script>        </div>\n",
              "</body>\n",
              "</html>"
            ]
          },
          "metadata": {}
        }
      ]
    },
    {
      "cell_type": "code",
      "source": [
        "line = px.line(data_frame=models,\n",
        "               y=[\"ROC AUC\", \"F1 Score\"],\n",
        "               markers=True)\n",
        "\n",
        "line.update_xaxes(title=\"Model\",\n",
        "                  rangeslider_visible=False)\n",
        "line.update_yaxes(title=\"ROC AUC Score\")\n",
        "line.update_layout(showlegend=True,\n",
        "                   title={\n",
        "                       \"text\" : \"ROC AUC and F1 Score vs Model\",\n",
        "                       \"y\" : 0.94,\n",
        "                       \"x\" : 0.5,\n",
        "                       \"xanchor\" : \"center\",\n",
        "                       \"yanchor\" : \"top\"\n",
        "                   })\n",
        "\n",
        "line.show()"
      ],
      "metadata": {
        "colab": {
          "base_uri": "https://localhost:8080/",
          "height": 542
        },
        "id": "irQjrvffRuBY",
        "outputId": "3d6e27a1-9bdb-40e9-cd77-cbada9c2e43d"
      },
      "execution_count": null,
      "outputs": [
        {
          "output_type": "display_data",
          "data": {
            "text/html": [
              "<html>\n",
              "<head><meta charset=\"utf-8\" /></head>\n",
              "<body>\n",
              "    <div>            <script src=\"https://cdnjs.cloudflare.com/ajax/libs/mathjax/2.7.5/MathJax.js?config=TeX-AMS-MML_SVG\"></script><script type=\"text/javascript\">if (window.MathJax) {MathJax.Hub.Config({SVG: {font: \"STIX-Web\"}});}</script>                <script type=\"text/javascript\">window.PlotlyConfig = {MathJaxConfig: 'local'};</script>\n",
              "        <script src=\"https://cdn.plot.ly/plotly-2.8.3.min.js\"></script>                <div id=\"9594659d-419f-4582-854d-1fe1b0281d61\" class=\"plotly-graph-div\" style=\"height:525px; width:100%;\"></div>            <script type=\"text/javascript\">                                    window.PLOTLYENV=window.PLOTLYENV || {};                                    if (document.getElementById(\"9594659d-419f-4582-854d-1fe1b0281d61\")) {                    Plotly.newPlot(                        \"9594659d-419f-4582-854d-1fe1b0281d61\",                        [{\"hovertemplate\":\"variable=ROC AUC<br>Model=%{x}<br>value=%{y}<extra></extra>\",\"legendgroup\":\"ROC AUC\",\"line\":{\"color\":\"#636efa\",\"dash\":\"solid\"},\"marker\":{\"symbol\":\"circle\"},\"mode\":\"lines+markers\",\"name\":\"ROC AUC\",\"orientation\":\"v\",\"showlegend\":true,\"x\":[\"LGBMClassifier\",\"XGBClassifier\",\"AdaBoostClassifier\",\"RandomForestClassifier\",\"SVC\",\"BaggingClassifier\",\"LinearSVC\",\"LogisticRegression\",\"NuSVC\",\"CalibratedClassifierCV\",\"ExtraTreesClassifier\",\"LabelSpreading\",\"LabelPropagation\",\"KNeighborsClassifier\",\"SGDClassifier\",\"RidgeClassifier\",\"LinearDiscriminantAnalysis\",\"RidgeClassifierCV\",\"BernoulliNB\",\"NearestCentroid\",\"DecisionTreeClassifier\",\"ExtraTreeClassifier\",\"QuadraticDiscriminantAnalysis\",\"GaussianNB\",\"Perceptron\",\"PassiveAggressiveClassifier\",\"DummyClassifier\"],\"xaxis\":\"x\",\"y\":[0.7824686022878704,0.7801652286072256,0.7764485812345635,0.7726408097844419,0.7677971398217563,0.7673847729965582,0.7671918329498831,0.7665371975774118,0.7659175538506848,0.7646515366678429,0.7627529968886595,0.7616327782297532,0.7567526586360841,0.7530117115094327,0.7521626781050469,0.7421047669313396,0.7421047669313396,0.7421047669313396,0.7401522816983,0.7288762238571097,0.7219668318077949,0.7181354895963034,0.705366211872471,0.6991160721488856,0.6234510121819526,0.5609049033987579,0.5],\"yaxis\":\"y\",\"type\":\"scatter\"},{\"hovertemplate\":\"variable=F1 Score<br>Model=%{x}<br>value=%{y}<extra></extra>\",\"legendgroup\":\"F1 Score\",\"line\":{\"color\":\"#EF553B\",\"dash\":\"solid\"},\"marker\":{\"symbol\":\"circle\"},\"mode\":\"lines+markers\",\"name\":\"F1 Score\",\"orientation\":\"v\",\"showlegend\":true,\"x\":[\"LGBMClassifier\",\"XGBClassifier\",\"AdaBoostClassifier\",\"RandomForestClassifier\",\"SVC\",\"BaggingClassifier\",\"LinearSVC\",\"LogisticRegression\",\"NuSVC\",\"CalibratedClassifierCV\",\"ExtraTreesClassifier\",\"LabelSpreading\",\"LabelPropagation\",\"KNeighborsClassifier\",\"SGDClassifier\",\"RidgeClassifier\",\"LinearDiscriminantAnalysis\",\"RidgeClassifierCV\",\"BernoulliNB\",\"NearestCentroid\",\"DecisionTreeClassifier\",\"ExtraTreeClassifier\",\"QuadraticDiscriminantAnalysis\",\"GaussianNB\",\"Perceptron\",\"PassiveAggressiveClassifier\",\"DummyClassifier\"],\"xaxis\":\"x\",\"y\":[0.7819115300117596,0.7791814467857234,0.7761162263066413,0.7727021298276021,0.7678448626217933,0.7674499903235815,0.7664371417546278,0.7656403309005886,0.7659714061273698,0.764182600138558,0.7627919209688682,0.7608094662320664,0.7559209005784152,0.7528357525854381,0.7521791820295111,0.7420479643235013,0.7420479643235013,0.7420479643235013,0.7396728452086749,0.7279485934686807,0.7218260534571004,0.7179893827688657,0.6874485821747528,0.6804117512539812,0.607322476092586,0.5167230203009865,0.32850359426000375],\"yaxis\":\"y\",\"type\":\"scatter\"}],                        {\"template\":{\"data\":{\"bar\":[{\"error_x\":{\"color\":\"#2a3f5f\"},\"error_y\":{\"color\":\"#2a3f5f\"},\"marker\":{\"line\":{\"color\":\"#E5ECF6\",\"width\":0.5},\"pattern\":{\"fillmode\":\"overlay\",\"size\":10,\"solidity\":0.2}},\"type\":\"bar\"}],\"barpolar\":[{\"marker\":{\"line\":{\"color\":\"#E5ECF6\",\"width\":0.5},\"pattern\":{\"fillmode\":\"overlay\",\"size\":10,\"solidity\":0.2}},\"type\":\"barpolar\"}],\"carpet\":[{\"aaxis\":{\"endlinecolor\":\"#2a3f5f\",\"gridcolor\":\"white\",\"linecolor\":\"white\",\"minorgridcolor\":\"white\",\"startlinecolor\":\"#2a3f5f\"},\"baxis\":{\"endlinecolor\":\"#2a3f5f\",\"gridcolor\":\"white\",\"linecolor\":\"white\",\"minorgridcolor\":\"white\",\"startlinecolor\":\"#2a3f5f\"},\"type\":\"carpet\"}],\"choropleth\":[{\"colorbar\":{\"outlinewidth\":0,\"ticks\":\"\"},\"type\":\"choropleth\"}],\"contour\":[{\"colorbar\":{\"outlinewidth\":0,\"ticks\":\"\"},\"colorscale\":[[0.0,\"#0d0887\"],[0.1111111111111111,\"#46039f\"],[0.2222222222222222,\"#7201a8\"],[0.3333333333333333,\"#9c179e\"],[0.4444444444444444,\"#bd3786\"],[0.5555555555555556,\"#d8576b\"],[0.6666666666666666,\"#ed7953\"],[0.7777777777777778,\"#fb9f3a\"],[0.8888888888888888,\"#fdca26\"],[1.0,\"#f0f921\"]],\"type\":\"contour\"}],\"contourcarpet\":[{\"colorbar\":{\"outlinewidth\":0,\"ticks\":\"\"},\"type\":\"contourcarpet\"}],\"heatmap\":[{\"colorbar\":{\"outlinewidth\":0,\"ticks\":\"\"},\"colorscale\":[[0.0,\"#0d0887\"],[0.1111111111111111,\"#46039f\"],[0.2222222222222222,\"#7201a8\"],[0.3333333333333333,\"#9c179e\"],[0.4444444444444444,\"#bd3786\"],[0.5555555555555556,\"#d8576b\"],[0.6666666666666666,\"#ed7953\"],[0.7777777777777778,\"#fb9f3a\"],[0.8888888888888888,\"#fdca26\"],[1.0,\"#f0f921\"]],\"type\":\"heatmap\"}],\"heatmapgl\":[{\"colorbar\":{\"outlinewidth\":0,\"ticks\":\"\"},\"colorscale\":[[0.0,\"#0d0887\"],[0.1111111111111111,\"#46039f\"],[0.2222222222222222,\"#7201a8\"],[0.3333333333333333,\"#9c179e\"],[0.4444444444444444,\"#bd3786\"],[0.5555555555555556,\"#d8576b\"],[0.6666666666666666,\"#ed7953\"],[0.7777777777777778,\"#fb9f3a\"],[0.8888888888888888,\"#fdca26\"],[1.0,\"#f0f921\"]],\"type\":\"heatmapgl\"}],\"histogram\":[{\"marker\":{\"pattern\":{\"fillmode\":\"overlay\",\"size\":10,\"solidity\":0.2}},\"type\":\"histogram\"}],\"histogram2d\":[{\"colorbar\":{\"outlinewidth\":0,\"ticks\":\"\"},\"colorscale\":[[0.0,\"#0d0887\"],[0.1111111111111111,\"#46039f\"],[0.2222222222222222,\"#7201a8\"],[0.3333333333333333,\"#9c179e\"],[0.4444444444444444,\"#bd3786\"],[0.5555555555555556,\"#d8576b\"],[0.6666666666666666,\"#ed7953\"],[0.7777777777777778,\"#fb9f3a\"],[0.8888888888888888,\"#fdca26\"],[1.0,\"#f0f921\"]],\"type\":\"histogram2d\"}],\"histogram2dcontour\":[{\"colorbar\":{\"outlinewidth\":0,\"ticks\":\"\"},\"colorscale\":[[0.0,\"#0d0887\"],[0.1111111111111111,\"#46039f\"],[0.2222222222222222,\"#7201a8\"],[0.3333333333333333,\"#9c179e\"],[0.4444444444444444,\"#bd3786\"],[0.5555555555555556,\"#d8576b\"],[0.6666666666666666,\"#ed7953\"],[0.7777777777777778,\"#fb9f3a\"],[0.8888888888888888,\"#fdca26\"],[1.0,\"#f0f921\"]],\"type\":\"histogram2dcontour\"}],\"mesh3d\":[{\"colorbar\":{\"outlinewidth\":0,\"ticks\":\"\"},\"type\":\"mesh3d\"}],\"parcoords\":[{\"line\":{\"colorbar\":{\"outlinewidth\":0,\"ticks\":\"\"}},\"type\":\"parcoords\"}],\"pie\":[{\"automargin\":true,\"type\":\"pie\"}],\"scatter\":[{\"marker\":{\"colorbar\":{\"outlinewidth\":0,\"ticks\":\"\"}},\"type\":\"scatter\"}],\"scatter3d\":[{\"line\":{\"colorbar\":{\"outlinewidth\":0,\"ticks\":\"\"}},\"marker\":{\"colorbar\":{\"outlinewidth\":0,\"ticks\":\"\"}},\"type\":\"scatter3d\"}],\"scattercarpet\":[{\"marker\":{\"colorbar\":{\"outlinewidth\":0,\"ticks\":\"\"}},\"type\":\"scattercarpet\"}],\"scattergeo\":[{\"marker\":{\"colorbar\":{\"outlinewidth\":0,\"ticks\":\"\"}},\"type\":\"scattergeo\"}],\"scattergl\":[{\"marker\":{\"colorbar\":{\"outlinewidth\":0,\"ticks\":\"\"}},\"type\":\"scattergl\"}],\"scattermapbox\":[{\"marker\":{\"colorbar\":{\"outlinewidth\":0,\"ticks\":\"\"}},\"type\":\"scattermapbox\"}],\"scatterpolar\":[{\"marker\":{\"colorbar\":{\"outlinewidth\":0,\"ticks\":\"\"}},\"type\":\"scatterpolar\"}],\"scatterpolargl\":[{\"marker\":{\"colorbar\":{\"outlinewidth\":0,\"ticks\":\"\"}},\"type\":\"scatterpolargl\"}],\"scatterternary\":[{\"marker\":{\"colorbar\":{\"outlinewidth\":0,\"ticks\":\"\"}},\"type\":\"scatterternary\"}],\"surface\":[{\"colorbar\":{\"outlinewidth\":0,\"ticks\":\"\"},\"colorscale\":[[0.0,\"#0d0887\"],[0.1111111111111111,\"#46039f\"],[0.2222222222222222,\"#7201a8\"],[0.3333333333333333,\"#9c179e\"],[0.4444444444444444,\"#bd3786\"],[0.5555555555555556,\"#d8576b\"],[0.6666666666666666,\"#ed7953\"],[0.7777777777777778,\"#fb9f3a\"],[0.8888888888888888,\"#fdca26\"],[1.0,\"#f0f921\"]],\"type\":\"surface\"}],\"table\":[{\"cells\":{\"fill\":{\"color\":\"#EBF0F8\"},\"line\":{\"color\":\"white\"}},\"header\":{\"fill\":{\"color\":\"#C8D4E3\"},\"line\":{\"color\":\"white\"}},\"type\":\"table\"}]},\"layout\":{\"annotationdefaults\":{\"arrowcolor\":\"#2a3f5f\",\"arrowhead\":0,\"arrowwidth\":1},\"autotypenumbers\":\"strict\",\"coloraxis\":{\"colorbar\":{\"outlinewidth\":0,\"ticks\":\"\"}},\"colorscale\":{\"diverging\":[[0,\"#8e0152\"],[0.1,\"#c51b7d\"],[0.2,\"#de77ae\"],[0.3,\"#f1b6da\"],[0.4,\"#fde0ef\"],[0.5,\"#f7f7f7\"],[0.6,\"#e6f5d0\"],[0.7,\"#b8e186\"],[0.8,\"#7fbc41\"],[0.9,\"#4d9221\"],[1,\"#276419\"]],\"sequential\":[[0.0,\"#0d0887\"],[0.1111111111111111,\"#46039f\"],[0.2222222222222222,\"#7201a8\"],[0.3333333333333333,\"#9c179e\"],[0.4444444444444444,\"#bd3786\"],[0.5555555555555556,\"#d8576b\"],[0.6666666666666666,\"#ed7953\"],[0.7777777777777778,\"#fb9f3a\"],[0.8888888888888888,\"#fdca26\"],[1.0,\"#f0f921\"]],\"sequentialminus\":[[0.0,\"#0d0887\"],[0.1111111111111111,\"#46039f\"],[0.2222222222222222,\"#7201a8\"],[0.3333333333333333,\"#9c179e\"],[0.4444444444444444,\"#bd3786\"],[0.5555555555555556,\"#d8576b\"],[0.6666666666666666,\"#ed7953\"],[0.7777777777777778,\"#fb9f3a\"],[0.8888888888888888,\"#fdca26\"],[1.0,\"#f0f921\"]]},\"colorway\":[\"#636efa\",\"#EF553B\",\"#00cc96\",\"#ab63fa\",\"#FFA15A\",\"#19d3f3\",\"#FF6692\",\"#B6E880\",\"#FF97FF\",\"#FECB52\"],\"font\":{\"color\":\"#2a3f5f\"},\"geo\":{\"bgcolor\":\"white\",\"lakecolor\":\"white\",\"landcolor\":\"#E5ECF6\",\"showlakes\":true,\"showland\":true,\"subunitcolor\":\"white\"},\"hoverlabel\":{\"align\":\"left\"},\"hovermode\":\"closest\",\"mapbox\":{\"style\":\"light\"},\"paper_bgcolor\":\"white\",\"plot_bgcolor\":\"#E5ECF6\",\"polar\":{\"angularaxis\":{\"gridcolor\":\"white\",\"linecolor\":\"white\",\"ticks\":\"\"},\"bgcolor\":\"#E5ECF6\",\"radialaxis\":{\"gridcolor\":\"white\",\"linecolor\":\"white\",\"ticks\":\"\"}},\"scene\":{\"xaxis\":{\"backgroundcolor\":\"#E5ECF6\",\"gridcolor\":\"white\",\"gridwidth\":2,\"linecolor\":\"white\",\"showbackground\":true,\"ticks\":\"\",\"zerolinecolor\":\"white\"},\"yaxis\":{\"backgroundcolor\":\"#E5ECF6\",\"gridcolor\":\"white\",\"gridwidth\":2,\"linecolor\":\"white\",\"showbackground\":true,\"ticks\":\"\",\"zerolinecolor\":\"white\"},\"zaxis\":{\"backgroundcolor\":\"#E5ECF6\",\"gridcolor\":\"white\",\"gridwidth\":2,\"linecolor\":\"white\",\"showbackground\":true,\"ticks\":\"\",\"zerolinecolor\":\"white\"}},\"shapedefaults\":{\"line\":{\"color\":\"#2a3f5f\"}},\"ternary\":{\"aaxis\":{\"gridcolor\":\"white\",\"linecolor\":\"white\",\"ticks\":\"\"},\"baxis\":{\"gridcolor\":\"white\",\"linecolor\":\"white\",\"ticks\":\"\"},\"bgcolor\":\"#E5ECF6\",\"caxis\":{\"gridcolor\":\"white\",\"linecolor\":\"white\",\"ticks\":\"\"}},\"title\":{\"x\":0.05},\"xaxis\":{\"automargin\":true,\"gridcolor\":\"white\",\"linecolor\":\"white\",\"ticks\":\"\",\"title\":{\"standoff\":15},\"zerolinecolor\":\"white\",\"zerolinewidth\":2},\"yaxis\":{\"automargin\":true,\"gridcolor\":\"white\",\"linecolor\":\"white\",\"ticks\":\"\",\"title\":{\"standoff\":15},\"zerolinecolor\":\"white\",\"zerolinewidth\":2}}},\"xaxis\":{\"anchor\":\"y\",\"domain\":[0.0,1.0],\"title\":{\"text\":\"Model\"},\"rangeslider\":{\"visible\":false}},\"yaxis\":{\"anchor\":\"x\",\"domain\":[0.0,1.0],\"title\":{\"text\":\"ROC AUC Score\"}},\"legend\":{\"title\":{\"text\":\"variable\"},\"tracegroupgap\":0},\"margin\":{\"t\":60},\"title\":{\"text\":\"ROC AUC and F1 Score vs Model\",\"y\":0.94,\"x\":0.5,\"xanchor\":\"center\",\"yanchor\":\"top\"},\"showlegend\":true},                        {\"responsive\": true}                    ).then(function(){\n",
              "                            \n",
              "var gd = document.getElementById('9594659d-419f-4582-854d-1fe1b0281d61');\n",
              "var x = new MutationObserver(function (mutations, observer) {{\n",
              "        var display = window.getComputedStyle(gd).display;\n",
              "        if (!display || display === 'none') {{\n",
              "            console.log([gd, 'removed!']);\n",
              "            Plotly.purge(gd);\n",
              "            observer.disconnect();\n",
              "        }}\n",
              "}});\n",
              "\n",
              "// Listen for the removal of the full notebook cells\n",
              "var notebookContainer = gd.closest('#notebook-container');\n",
              "if (notebookContainer) {{\n",
              "    x.observe(notebookContainer, {childList: true});\n",
              "}}\n",
              "\n",
              "// Listen for the clearing of the current output cell\n",
              "var outputEl = gd.closest('.output');\n",
              "if (outputEl) {{\n",
              "    x.observe(outputEl, {childList: true});\n",
              "}}\n",
              "\n",
              "                        })                };                            </script>        </div>\n",
              "</body>\n",
              "</html>"
            ]
          },
          "metadata": {}
        }
      ]
    },
    {
      "cell_type": "code",
      "source": [
        "line = px.line(data_frame=models,\n",
        "               y=[\"Time Taken\"],\n",
        "               markers=True)\n",
        "\n",
        "line.update_xaxes(title=\"Model\",\n",
        "                  rangeslider_visible=False)\n",
        "line.update_yaxes(title=\"Time(s)\")\n",
        "line.update_traces(line_color=\"purple\")\n",
        "line.update_layout(showlegend=True,\n",
        "                   title={\n",
        "                       \"text\" : \"Time Taken vs Model\",\n",
        "                       \"y\" : 0.94,\n",
        "                       \"x\" : 0.5,\n",
        "                       \"xanchor\" : \"center\",\n",
        "                       \"yanchor\" : \"top\"\n",
        "                   })\n",
        "\n",
        "line.show()"
      ],
      "metadata": {
        "colab": {
          "base_uri": "https://localhost:8080/",
          "height": 542
        },
        "id": "eiT7p7l4TpGR",
        "outputId": "1dee3dd4-3e32-4c07-e670-28ada0c537d7"
      },
      "execution_count": null,
      "outputs": [
        {
          "output_type": "display_data",
          "data": {
            "text/html": [
              "<html>\n",
              "<head><meta charset=\"utf-8\" /></head>\n",
              "<body>\n",
              "    <div>            <script src=\"https://cdnjs.cloudflare.com/ajax/libs/mathjax/2.7.5/MathJax.js?config=TeX-AMS-MML_SVG\"></script><script type=\"text/javascript\">if (window.MathJax) {MathJax.Hub.Config({SVG: {font: \"STIX-Web\"}});}</script>                <script type=\"text/javascript\">window.PlotlyConfig = {MathJaxConfig: 'local'};</script>\n",
              "        <script src=\"https://cdn.plot.ly/plotly-2.8.3.min.js\"></script>                <div id=\"3ca68e81-eb10-4c07-855f-48a27c34c667\" class=\"plotly-graph-div\" style=\"height:525px; width:100%;\"></div>            <script type=\"text/javascript\">                                    window.PLOTLYENV=window.PLOTLYENV || {};                                    if (document.getElementById(\"3ca68e81-eb10-4c07-855f-48a27c34c667\")) {                    Plotly.newPlot(                        \"3ca68e81-eb10-4c07-855f-48a27c34c667\",                        [{\"hovertemplate\":\"variable=Time Taken<br>Model=%{x}<br>value=%{y}<extra></extra>\",\"legendgroup\":\"Time Taken\",\"line\":{\"color\":\"purple\",\"dash\":\"solid\"},\"marker\":{\"symbol\":\"circle\"},\"mode\":\"lines+markers\",\"name\":\"Time Taken\",\"orientation\":\"v\",\"showlegend\":true,\"x\":[\"LGBMClassifier\",\"XGBClassifier\",\"AdaBoostClassifier\",\"RandomForestClassifier\",\"SVC\",\"BaggingClassifier\",\"LinearSVC\",\"LogisticRegression\",\"NuSVC\",\"CalibratedClassifierCV\",\"ExtraTreesClassifier\",\"LabelSpreading\",\"LabelPropagation\",\"KNeighborsClassifier\",\"SGDClassifier\",\"RidgeClassifier\",\"LinearDiscriminantAnalysis\",\"RidgeClassifierCV\",\"BernoulliNB\",\"NearestCentroid\",\"DecisionTreeClassifier\",\"ExtraTreeClassifier\",\"QuadraticDiscriminantAnalysis\",\"GaussianNB\",\"Perceptron\",\"PassiveAggressiveClassifier\",\"DummyClassifier\"],\"xaxis\":\"x\",\"y\":[0.22042536735534668,0.40803003311157227,0.5777750015258789,0.8318181037902832,4.1038689613342285,0.45262932777404785,0.39618802070617676,0.048338890075683594,2.358349561691284,3.0309572219848633,0.6507997512817383,2.5231704711914062,1.6820452213287354,0.222426176071167,0.06359601020812988,0.02795863151550293,0.04881119728088379,0.03343558311462402,0.034763336181640625,0.02683115005493164,0.05760836601257324,0.03644251823425293,0.027364492416381836,0.020146608352661133,0.029245376586914062,0.028315305709838867,0.02368950843811035],\"yaxis\":\"y\",\"type\":\"scatter\"}],                        {\"template\":{\"data\":{\"bar\":[{\"error_x\":{\"color\":\"#2a3f5f\"},\"error_y\":{\"color\":\"#2a3f5f\"},\"marker\":{\"line\":{\"color\":\"#E5ECF6\",\"width\":0.5},\"pattern\":{\"fillmode\":\"overlay\",\"size\":10,\"solidity\":0.2}},\"type\":\"bar\"}],\"barpolar\":[{\"marker\":{\"line\":{\"color\":\"#E5ECF6\",\"width\":0.5},\"pattern\":{\"fillmode\":\"overlay\",\"size\":10,\"solidity\":0.2}},\"type\":\"barpolar\"}],\"carpet\":[{\"aaxis\":{\"endlinecolor\":\"#2a3f5f\",\"gridcolor\":\"white\",\"linecolor\":\"white\",\"minorgridcolor\":\"white\",\"startlinecolor\":\"#2a3f5f\"},\"baxis\":{\"endlinecolor\":\"#2a3f5f\",\"gridcolor\":\"white\",\"linecolor\":\"white\",\"minorgridcolor\":\"white\",\"startlinecolor\":\"#2a3f5f\"},\"type\":\"carpet\"}],\"choropleth\":[{\"colorbar\":{\"outlinewidth\":0,\"ticks\":\"\"},\"type\":\"choropleth\"}],\"contour\":[{\"colorbar\":{\"outlinewidth\":0,\"ticks\":\"\"},\"colorscale\":[[0.0,\"#0d0887\"],[0.1111111111111111,\"#46039f\"],[0.2222222222222222,\"#7201a8\"],[0.3333333333333333,\"#9c179e\"],[0.4444444444444444,\"#bd3786\"],[0.5555555555555556,\"#d8576b\"],[0.6666666666666666,\"#ed7953\"],[0.7777777777777778,\"#fb9f3a\"],[0.8888888888888888,\"#fdca26\"],[1.0,\"#f0f921\"]],\"type\":\"contour\"}],\"contourcarpet\":[{\"colorbar\":{\"outlinewidth\":0,\"ticks\":\"\"},\"type\":\"contourcarpet\"}],\"heatmap\":[{\"colorbar\":{\"outlinewidth\":0,\"ticks\":\"\"},\"colorscale\":[[0.0,\"#0d0887\"],[0.1111111111111111,\"#46039f\"],[0.2222222222222222,\"#7201a8\"],[0.3333333333333333,\"#9c179e\"],[0.4444444444444444,\"#bd3786\"],[0.5555555555555556,\"#d8576b\"],[0.6666666666666666,\"#ed7953\"],[0.7777777777777778,\"#fb9f3a\"],[0.8888888888888888,\"#fdca26\"],[1.0,\"#f0f921\"]],\"type\":\"heatmap\"}],\"heatmapgl\":[{\"colorbar\":{\"outlinewidth\":0,\"ticks\":\"\"},\"colorscale\":[[0.0,\"#0d0887\"],[0.1111111111111111,\"#46039f\"],[0.2222222222222222,\"#7201a8\"],[0.3333333333333333,\"#9c179e\"],[0.4444444444444444,\"#bd3786\"],[0.5555555555555556,\"#d8576b\"],[0.6666666666666666,\"#ed7953\"],[0.7777777777777778,\"#fb9f3a\"],[0.8888888888888888,\"#fdca26\"],[1.0,\"#f0f921\"]],\"type\":\"heatmapgl\"}],\"histogram\":[{\"marker\":{\"pattern\":{\"fillmode\":\"overlay\",\"size\":10,\"solidity\":0.2}},\"type\":\"histogram\"}],\"histogram2d\":[{\"colorbar\":{\"outlinewidth\":0,\"ticks\":\"\"},\"colorscale\":[[0.0,\"#0d0887\"],[0.1111111111111111,\"#46039f\"],[0.2222222222222222,\"#7201a8\"],[0.3333333333333333,\"#9c179e\"],[0.4444444444444444,\"#bd3786\"],[0.5555555555555556,\"#d8576b\"],[0.6666666666666666,\"#ed7953\"],[0.7777777777777778,\"#fb9f3a\"],[0.8888888888888888,\"#fdca26\"],[1.0,\"#f0f921\"]],\"type\":\"histogram2d\"}],\"histogram2dcontour\":[{\"colorbar\":{\"outlinewidth\":0,\"ticks\":\"\"},\"colorscale\":[[0.0,\"#0d0887\"],[0.1111111111111111,\"#46039f\"],[0.2222222222222222,\"#7201a8\"],[0.3333333333333333,\"#9c179e\"],[0.4444444444444444,\"#bd3786\"],[0.5555555555555556,\"#d8576b\"],[0.6666666666666666,\"#ed7953\"],[0.7777777777777778,\"#fb9f3a\"],[0.8888888888888888,\"#fdca26\"],[1.0,\"#f0f921\"]],\"type\":\"histogram2dcontour\"}],\"mesh3d\":[{\"colorbar\":{\"outlinewidth\":0,\"ticks\":\"\"},\"type\":\"mesh3d\"}],\"parcoords\":[{\"line\":{\"colorbar\":{\"outlinewidth\":0,\"ticks\":\"\"}},\"type\":\"parcoords\"}],\"pie\":[{\"automargin\":true,\"type\":\"pie\"}],\"scatter\":[{\"marker\":{\"colorbar\":{\"outlinewidth\":0,\"ticks\":\"\"}},\"type\":\"scatter\"}],\"scatter3d\":[{\"line\":{\"colorbar\":{\"outlinewidth\":0,\"ticks\":\"\"}},\"marker\":{\"colorbar\":{\"outlinewidth\":0,\"ticks\":\"\"}},\"type\":\"scatter3d\"}],\"scattercarpet\":[{\"marker\":{\"colorbar\":{\"outlinewidth\":0,\"ticks\":\"\"}},\"type\":\"scattercarpet\"}],\"scattergeo\":[{\"marker\":{\"colorbar\":{\"outlinewidth\":0,\"ticks\":\"\"}},\"type\":\"scattergeo\"}],\"scattergl\":[{\"marker\":{\"colorbar\":{\"outlinewidth\":0,\"ticks\":\"\"}},\"type\":\"scattergl\"}],\"scattermapbox\":[{\"marker\":{\"colorbar\":{\"outlinewidth\":0,\"ticks\":\"\"}},\"type\":\"scattermapbox\"}],\"scatterpolar\":[{\"marker\":{\"colorbar\":{\"outlinewidth\":0,\"ticks\":\"\"}},\"type\":\"scatterpolar\"}],\"scatterpolargl\":[{\"marker\":{\"colorbar\":{\"outlinewidth\":0,\"ticks\":\"\"}},\"type\":\"scatterpolargl\"}],\"scatterternary\":[{\"marker\":{\"colorbar\":{\"outlinewidth\":0,\"ticks\":\"\"}},\"type\":\"scatterternary\"}],\"surface\":[{\"colorbar\":{\"outlinewidth\":0,\"ticks\":\"\"},\"colorscale\":[[0.0,\"#0d0887\"],[0.1111111111111111,\"#46039f\"],[0.2222222222222222,\"#7201a8\"],[0.3333333333333333,\"#9c179e\"],[0.4444444444444444,\"#bd3786\"],[0.5555555555555556,\"#d8576b\"],[0.6666666666666666,\"#ed7953\"],[0.7777777777777778,\"#fb9f3a\"],[0.8888888888888888,\"#fdca26\"],[1.0,\"#f0f921\"]],\"type\":\"surface\"}],\"table\":[{\"cells\":{\"fill\":{\"color\":\"#EBF0F8\"},\"line\":{\"color\":\"white\"}},\"header\":{\"fill\":{\"color\":\"#C8D4E3\"},\"line\":{\"color\":\"white\"}},\"type\":\"table\"}]},\"layout\":{\"annotationdefaults\":{\"arrowcolor\":\"#2a3f5f\",\"arrowhead\":0,\"arrowwidth\":1},\"autotypenumbers\":\"strict\",\"coloraxis\":{\"colorbar\":{\"outlinewidth\":0,\"ticks\":\"\"}},\"colorscale\":{\"diverging\":[[0,\"#8e0152\"],[0.1,\"#c51b7d\"],[0.2,\"#de77ae\"],[0.3,\"#f1b6da\"],[0.4,\"#fde0ef\"],[0.5,\"#f7f7f7\"],[0.6,\"#e6f5d0\"],[0.7,\"#b8e186\"],[0.8,\"#7fbc41\"],[0.9,\"#4d9221\"],[1,\"#276419\"]],\"sequential\":[[0.0,\"#0d0887\"],[0.1111111111111111,\"#46039f\"],[0.2222222222222222,\"#7201a8\"],[0.3333333333333333,\"#9c179e\"],[0.4444444444444444,\"#bd3786\"],[0.5555555555555556,\"#d8576b\"],[0.6666666666666666,\"#ed7953\"],[0.7777777777777778,\"#fb9f3a\"],[0.8888888888888888,\"#fdca26\"],[1.0,\"#f0f921\"]],\"sequentialminus\":[[0.0,\"#0d0887\"],[0.1111111111111111,\"#46039f\"],[0.2222222222222222,\"#7201a8\"],[0.3333333333333333,\"#9c179e\"],[0.4444444444444444,\"#bd3786\"],[0.5555555555555556,\"#d8576b\"],[0.6666666666666666,\"#ed7953\"],[0.7777777777777778,\"#fb9f3a\"],[0.8888888888888888,\"#fdca26\"],[1.0,\"#f0f921\"]]},\"colorway\":[\"#636efa\",\"#EF553B\",\"#00cc96\",\"#ab63fa\",\"#FFA15A\",\"#19d3f3\",\"#FF6692\",\"#B6E880\",\"#FF97FF\",\"#FECB52\"],\"font\":{\"color\":\"#2a3f5f\"},\"geo\":{\"bgcolor\":\"white\",\"lakecolor\":\"white\",\"landcolor\":\"#E5ECF6\",\"showlakes\":true,\"showland\":true,\"subunitcolor\":\"white\"},\"hoverlabel\":{\"align\":\"left\"},\"hovermode\":\"closest\",\"mapbox\":{\"style\":\"light\"},\"paper_bgcolor\":\"white\",\"plot_bgcolor\":\"#E5ECF6\",\"polar\":{\"angularaxis\":{\"gridcolor\":\"white\",\"linecolor\":\"white\",\"ticks\":\"\"},\"bgcolor\":\"#E5ECF6\",\"radialaxis\":{\"gridcolor\":\"white\",\"linecolor\":\"white\",\"ticks\":\"\"}},\"scene\":{\"xaxis\":{\"backgroundcolor\":\"#E5ECF6\",\"gridcolor\":\"white\",\"gridwidth\":2,\"linecolor\":\"white\",\"showbackground\":true,\"ticks\":\"\",\"zerolinecolor\":\"white\"},\"yaxis\":{\"backgroundcolor\":\"#E5ECF6\",\"gridcolor\":\"white\",\"gridwidth\":2,\"linecolor\":\"white\",\"showbackground\":true,\"ticks\":\"\",\"zerolinecolor\":\"white\"},\"zaxis\":{\"backgroundcolor\":\"#E5ECF6\",\"gridcolor\":\"white\",\"gridwidth\":2,\"linecolor\":\"white\",\"showbackground\":true,\"ticks\":\"\",\"zerolinecolor\":\"white\"}},\"shapedefaults\":{\"line\":{\"color\":\"#2a3f5f\"}},\"ternary\":{\"aaxis\":{\"gridcolor\":\"white\",\"linecolor\":\"white\",\"ticks\":\"\"},\"baxis\":{\"gridcolor\":\"white\",\"linecolor\":\"white\",\"ticks\":\"\"},\"bgcolor\":\"#E5ECF6\",\"caxis\":{\"gridcolor\":\"white\",\"linecolor\":\"white\",\"ticks\":\"\"}},\"title\":{\"x\":0.05},\"xaxis\":{\"automargin\":true,\"gridcolor\":\"white\",\"linecolor\":\"white\",\"ticks\":\"\",\"title\":{\"standoff\":15},\"zerolinecolor\":\"white\",\"zerolinewidth\":2},\"yaxis\":{\"automargin\":true,\"gridcolor\":\"white\",\"linecolor\":\"white\",\"ticks\":\"\",\"title\":{\"standoff\":15},\"zerolinecolor\":\"white\",\"zerolinewidth\":2}}},\"xaxis\":{\"anchor\":\"y\",\"domain\":[0.0,1.0],\"title\":{\"text\":\"Model\"},\"rangeslider\":{\"visible\":false}},\"yaxis\":{\"anchor\":\"x\",\"domain\":[0.0,1.0],\"title\":{\"text\":\"Time(s)\"}},\"legend\":{\"title\":{\"text\":\"variable\"},\"tracegroupgap\":0},\"margin\":{\"t\":60},\"title\":{\"text\":\"Time Taken vs Model\",\"y\":0.94,\"x\":0.5,\"xanchor\":\"center\",\"yanchor\":\"top\"},\"showlegend\":true},                        {\"responsive\": true}                    ).then(function(){\n",
              "                            \n",
              "var gd = document.getElementById('3ca68e81-eb10-4c07-855f-48a27c34c667');\n",
              "var x = new MutationObserver(function (mutations, observer) {{\n",
              "        var display = window.getComputedStyle(gd).display;\n",
              "        if (!display || display === 'none') {{\n",
              "            console.log([gd, 'removed!']);\n",
              "            Plotly.purge(gd);\n",
              "            observer.disconnect();\n",
              "        }}\n",
              "}});\n",
              "\n",
              "// Listen for the removal of the full notebook cells\n",
              "var notebookContainer = gd.closest('#notebook-container');\n",
              "if (notebookContainer) {{\n",
              "    x.observe(notebookContainer, {childList: true});\n",
              "}}\n",
              "\n",
              "// Listen for the clearing of the current output cell\n",
              "var outputEl = gd.closest('.output');\n",
              "if (outputEl) {{\n",
              "    x.observe(outputEl, {childList: true});\n",
              "}}\n",
              "\n",
              "                        })                };                            </script>        </div>\n",
              "</body>\n",
              "</html>"
            ]
          },
          "metadata": {}
        }
      ]
    },
    {
      "cell_type": "markdown",
      "source": [
        "## LGBM Classifier(5 Fold)"
      ],
      "metadata": {
        "id": "074wFzcXVF44"
      }
    },
    {
      "cell_type": "code",
      "source": [
        "lgb_params = {\n",
        "    \"objective\" : \"binary\",\n",
        "    \"n_estimators\" : 50,\n",
        "    \"learning_rate\" : 0.08\n",
        "}"
      ],
      "metadata": {
        "id": "iF3egGvUU9eT"
      },
      "execution_count": null,
      "outputs": []
    },
    {
      "cell_type": "code",
      "source": [
        "lgb_predictions = 0\n",
        "lgb_scores = []\n",
        "lgb_fimp = []\n",
        "\n",
        "LGBM_Features = list(train.columns)[:-1]\n",
        "skf = StratifiedKFold(n_splits=5, shuffle=True, random_state=12)\n",
        "\n",
        "for fold, (train_idx, valid_idx) in enumerate(skf.split(train[LGBM_Features], train[target])):\n",
        "    print(f\"\\033[94m\")\n",
        "    print(10 * \"=\", f\"Fold={fold+1}\", 10 * \"=\")\n",
        "\n",
        "    start_time = time.time()\n",
        "\n",
        "    X_train, X_valid = train.iloc[train_idx][LGBM_Features], train.iloc[valid_idx][LGBM_Features]\n",
        "    y_train, y_valid = train[target].iloc[train_idx], train[target].iloc[valid_idx]\n",
        "\n",
        "    model = LGBMClassifier(**lgb_params)\n",
        "    model.fit(X_train, y_train, verbose=0)\n",
        "\n",
        "    preds_valid = model.predict(X_valid)\n",
        "    acc = accuracy_score(y_valid, preds_valid)\n",
        "    lgb_scores.append(acc)\n",
        "\n",
        "    run_time = time.time() - start_time\n",
        "\n",
        "    fim = pd.DataFrame(index=LGBM_Features,\n",
        "                       data=model.feature_importances_,\n",
        "                       columns=[f\"{fold}_importance\"])\n",
        "    lgb_fimp.append(fim)\n",
        "\n",
        "    print(f\"Fold={fold+1}, Accuracy score: {acc:.2f}%, Run Time: {run_time:.2f}s\")\n",
        "    test_preds = model.predict(test[LGBM_Features]) \n",
        "    lgb_predictions += test_preds/5\n",
        "    print(\"\")\n",
        "    print(\"Mean Accuracy :\", np.mean(lgb_scores))"
      ],
      "metadata": {
        "colab": {
          "base_uri": "https://localhost:8080/"
        },
        "id": "jFauzTmKVjC_",
        "outputId": "305cdb88-a471-436b-f433-8dfb0ef71a37"
      },
      "execution_count": null,
      "outputs": [
        {
          "output_type": "stream",
          "name": "stdout",
          "text": [
            "\u001b[94m\n",
            "========== Fold=1 ==========\n",
            "Fold=1, Accuracy score: 0.80%, Run Time: 0.21s\n",
            "\n",
            "Mean Accuracy : 0.8027602070155262\n",
            "\u001b[94m\n",
            "========== Fold=2 ==========\n",
            "Fold=2, Accuracy score: 0.78%, Run Time: 0.19s\n",
            "\n",
            "Mean Accuracy : 0.7926969522714205\n",
            "\u001b[94m\n",
            "========== Fold=3 ==========\n",
            "Fold=3, Accuracy score: 0.79%, Run Time: 0.20s\n",
            "\n",
            "Mean Accuracy : 0.7914510254935787\n",
            "\u001b[94m\n",
            "========== Fold=4 ==========\n",
            "Fold=4, Accuracy score: 0.79%, Run Time: 0.20s\n",
            "\n",
            "Mean Accuracy : 0.7913730792467664\n",
            "\u001b[94m\n",
            "========== Fold=5 ==========\n",
            "Fold=5, Accuracy score: 0.80%, Run Time: 0.22s\n",
            "\n",
            "Mean Accuracy : 0.79374288226968\n"
          ]
        }
      ]
    },
    {
      "cell_type": "markdown",
      "source": [
        "## Feature Importance "
      ],
      "metadata": {
        "id": "zPVbocDPYBWT"
      }
    },
    {
      "cell_type": "code",
      "source": [
        "lgbm_fis_df = pd.concat(lgb_fimp, axis=1).head(15)\n",
        "lgbm_fis_df.sort_values(\"1_importance\").plot(kind=\"barh\", figsize=(15, 10),\n",
        "                                             title=\"Feature Importance Across Folds\")\n",
        "plt.show()"
      ],
      "metadata": {
        "colab": {
          "base_uri": "https://localhost:8080/",
          "height": 606
        },
        "id": "Uk4mG-FLXvy8",
        "outputId": "e4c38a56-ee72-47ce-9d57-2961a726a7f6"
      },
      "execution_count": null,
      "outputs": [
        {
          "output_type": "display_data",
          "data": {
            "text/plain": [
              "<Figure size 1080x720 with 1 Axes>"
            ],
            "image/png": "[encoded data removed]"
          },
          "metadata": {}
        }
      ]
    },
    {
      "cell_type": "markdown",
      "source": [
        "# Submission"
      ],
      "metadata": {
        "id": "ikT4GmV8Yc1N"
      }
    },
    {
      "cell_type": "code",
      "source": [
        "submission[target] = lgb_predictions.astype(\"bool\")\n",
        "submission.to_csv(\"submission.csv\",index=False)\n",
        "submission.head()"
      ],
      "metadata": {
        "id": "0ngUbvemYKSo"
      },
      "execution_count": null,
      "outputs": []
    }
  ],
  "metadata": {
    "kernelspec": {
      "display_name": "Python 3.9.12 ('base')",
      "language": "python",
      "name": "python3"
    },
    "language_info": {
      "codemirror_mode": {
        "name": "ipython",
        "version": 3
      },
      "file_extension": ".py",
      "mimetype": "text/x-python",
      "name": "python",
      "nbconvert_exporter": "python",
      "pygments_lexer": "ipython3",
      "version": "3.9.12"
    },
    "orig_nbformat": 4,
    "vscode": {
      "interpreter": {
        "hash": "a077222d77dfe082b8f1dd562ad70e458ac2ab76993a0b248ab0476e32e9e8dd"
      }
    },
    "colab": {
      "provenance": [],
      "collapsed_sections": []
    }
  },
  "nbformat": 4,
  "nbformat_minor": 0
}