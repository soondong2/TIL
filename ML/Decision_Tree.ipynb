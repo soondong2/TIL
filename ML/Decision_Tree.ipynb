{
  "nbformat": 4,
  "nbformat_minor": 0,
  "metadata": {
    "colab": {
      "provenance": [],
      "collapsed_sections": []
    },
    "kernelspec": {
      "name": "python3",
      "display_name": "Python 3"
    },
    "language_info": {
      "name": "python"
    }
  },
  "cells": [
    {
      "cell_type": "markdown",
      "source": [
        "# 의사결정나무(Decision Tree)\n",
        "결정트리는 **분류**와 **회귀**, **다중 출력** 작업도 가능한 알고리즘이다. 데이터의 규칙을 학습을 통해서 자동으로 찾아내 **트리 기반**의 분류 규칙을 만든다. IF/ELSE 형태를 띄기 때문에 어떤 기준을 바탕으로 규칙을 만들어야 가장 효율적인 분류가 될 것인가가 성능을 좌우한다.\n",
        "\n",
        "<br>\n",
        "\n",
        "결정트리는 **루트노드**부터 **리프노트**까지 데이터로부터 생성한 규칙을 기준으로 예측을 결정하게 된다. 루트노드에서 시작하여 각 **규칙노드**로부터 **브랜치/서브 트리**를 생성하여 데이터를 분류하고 최종적으로 **리프노드**에서 결정값을 예측한다. 많은 규칙이 존재하는 경우 결정이 복잡해지고 이는 곧 **과적합**을 일으키기 쉽다.\n",
        "\n",
        "<br>\n",
        "\n",
        "정보의 균일도를 측정하는 방법은 엔트로피를 활용한 **정보 이득 지수**와 **지니계수**가 있다. 정보이득은 **엔트로피**를 기반으로 하며 데이터의 **혼잡도**를 의미한다. 서로 다른 값이 섞여 있으면 엔트로피가 높고 같은 값이 섞여 있으면 엔트로피가 낮다. 이 때 정보 이득 지수는 (1 - 엔트로피 지수)이다. 지니계수는 0이 가장 평등하고 1로 갈수록 불공평하다. 즉 다양성이 낮을수록 균일도가 높다는 의미로 1로 갈수록 지니 계수가 높은 속성을 기준으로 분할한다.\n",
        "\n",
        "<br>\n",
        "\n",
        "기대 집단의 사람들 중 가장 좋은 많응을 보일 **고객의 유치방안을 예측**하고자 하는 경우에는 **예측력**에 치중한다. 신용평가에서는 심사 결과 부적격 판정이 나온 경우 고객에게 부적격 이유를 설명해야 하므로 **해석력**에 치중한다.\n",
        "\n",
        "<br>\n",
        "\n",
        "> **장점**\n",
        "- 결과를 설명하기에 용이하다.\n",
        "- 모형을 만드는 방법이 간단하다.\n",
        "- 대용량 데이터에서도 빠르게 만들 수 있다.\n",
        "- 비정상 잡음 데이터에 대해서도 민감함 없이 분류가 가능하다.\n",
        "- 상관성이 높은 변수가 있어도 크게 영향을 받지 않는다.\n",
        "- 전처리가 거의 필요하지 않으며 스케일링 작업이 필요하지 않다.\n",
        "\n",
        "<br>\n",
        "\n",
        "> **단점**\n",
        "- 과대적합 가능성이 높다.\n",
        "- 분류 경계선 부근의 자료값에 대해서 오차가 크다.\n",
        "- 설명변수 간의 중요도를 판단하기 쉽지 않다.\n",
        "\n",
        "<br>\n",
        "\n",
        "> **파라미터**\n",
        "- `min_samples_split` : 노드를 분할하기 위한 최소 샘플 수\n",
        "- `min_samples_leaf` : 리프노드가 되기 위한 최소한의 샘플 데이터 수\n",
        "- `max_features` : 최대 feature 개수\n",
        "- `max_depth` : 트리의 최대 깊이\n",
        "- `max_leaf_nodes` : 리프노드의 최대 개수"
      ],
      "metadata": {
        "id": "57su47A7XW6C"
      }
    },
    {
      "cell_type": "code",
      "source": [
        "import pandas as pd\n",
        "import numpy as np\n",
        "import seaborn as sns\n",
        "import matplotlib.pyplot as plt\n",
        "%matplotlib inline\n",
        "\n",
        "# pip install graphviz\n",
        "import graphviz\n",
        "import warnings\n",
        "warnings.filterwarnings('ignore')"
      ],
      "metadata": {
        "id": "E4bLgZeden9V"
      },
      "execution_count": 31,
      "outputs": []
    },
    {
      "cell_type": "code",
      "source": [
        "from sklearn.datasets import load_breast_cancer, load_boston\n",
        "from sklearn.model_selection import train_test_split\n",
        "from sklearn.preprocessing import StandardScaler\n",
        "from sklearn import tree\n",
        "from sklearn.tree import DecisionTreeClassifier, DecisionTreeRegressor\n",
        "from sklearn.metrics import accuracy_score, mean_squared_error"
      ],
      "metadata": {
        "id": "dOa1km5zfEn-"
      },
      "execution_count": 12,
      "outputs": []
    },
    {
      "cell_type": "markdown",
      "source": [
        "## 분류(Classification)"
      ],
      "metadata": {
        "id": "higbcnQYeW6h"
      }
    },
    {
      "cell_type": "code",
      "execution_count": 5,
      "metadata": {
        "id": "ZSvI71QZXEWP"
      },
      "outputs": [],
      "source": [
        "df1 = pd.DataFrame(load_breast_cancer().data, columns = load_breast_cancer().feature_names)\n",
        "df1['target'] = load_breast_cancer().target"
      ]
    },
    {
      "cell_type": "code",
      "source": [
        "df1.head()"
      ],
      "metadata": {
        "colab": {
          "base_uri": "https://localhost:8080/",
          "height": 334
        },
        "id": "Jocjx1jbft7o",
        "outputId": "f916980a-1dd1-4a72-fd2d-d768bda35a10"
      },
      "execution_count": 6,
      "outputs": [
        {
          "output_type": "execute_result",
          "data": {
            "text/plain": [
              "   mean radius  mean texture  mean perimeter  mean area  mean smoothness  \\\n",
              "0        17.99         10.38          122.80     1001.0          0.11840   \n",
              "1        20.57         17.77          132.90     1326.0          0.08474   \n",
              "2        19.69         21.25          130.00     1203.0          0.10960   \n",
              "3        11.42         20.38           77.58      386.1          0.14250   \n",
              "4        20.29         14.34          135.10     1297.0          0.10030   \n",
              "\n",
              "   mean compactness  mean concavity  mean concave points  mean symmetry  \\\n",
              "0           0.27760          0.3001              0.14710         0.2419   \n",
              "1           0.07864          0.0869              0.07017         0.1812   \n",
              "2           0.15990          0.1974              0.12790         0.2069   \n",
              "3           0.28390          0.2414              0.10520         0.2597   \n",
              "4           0.13280          0.1980              0.10430         0.1809   \n",
              "\n",
              "   mean fractal dimension  ...  worst texture  worst perimeter  worst area  \\\n",
              "0                 0.07871  ...          17.33           184.60      2019.0   \n",
              "1                 0.05667  ...          23.41           158.80      1956.0   \n",
              "2                 0.05999  ...          25.53           152.50      1709.0   \n",
              "3                 0.09744  ...          26.50            98.87       567.7   \n",
              "4                 0.05883  ...          16.67           152.20      1575.0   \n",
              "\n",
              "   worst smoothness  worst compactness  worst concavity  worst concave points  \\\n",
              "0            0.1622             0.6656           0.7119                0.2654   \n",
              "1            0.1238             0.1866           0.2416                0.1860   \n",
              "2            0.1444             0.4245           0.4504                0.2430   \n",
              "3            0.2098             0.8663           0.6869                0.2575   \n",
              "4            0.1374             0.2050           0.4000                0.1625   \n",
              "\n",
              "   worst symmetry  worst fractal dimension  target  \n",
              "0          0.4601                  0.11890       0  \n",
              "1          0.2750                  0.08902       0  \n",
              "2          0.3613                  0.08758       0  \n",
              "3          0.6638                  0.17300       0  \n",
              "4          0.2364                  0.07678       0  \n",
              "\n",
              "[5 rows x 31 columns]"
            ],
            "text/html": [
              "\n",
              "  <div id=\"df-abed7325-1ca3-40ba-8650-201ac69978d1\">\n",
              "    <div class=\"colab-df-container\">\n",
              "      <div>\n",
              "<style scoped>\n",
              "    .dataframe tbody tr th:only-of-type {\n",
              "        vertical-align: middle;\n",
              "    }\n",
              "\n",
              "    .dataframe tbody tr th {\n",
              "        vertical-align: top;\n",
              "    }\n",
              "\n",
              "    .dataframe thead th {\n",
              "        text-align: right;\n",
              "    }\n",
              "</style>\n",
              "<table border=\"1\" class=\"dataframe\">\n",
              "  <thead>\n",
              "    <tr style=\"text-align: right;\">\n",
              "      <th></th>\n",
              "      <th>mean radius</th>\n",
              "      <th>mean texture</th>\n",
              "      <th>mean perimeter</th>\n",
              "      <th>mean area</th>\n",
              "      <th>mean smoothness</th>\n",
              "      <th>mean compactness</th>\n",
              "      <th>mean concavity</th>\n",
              "      <th>mean concave points</th>\n",
              "      <th>mean symmetry</th>\n",
              "      <th>mean fractal dimension</th>\n",
              "      <th>...</th>\n",
              "      <th>worst texture</th>\n",
              "      <th>worst perimeter</th>\n",
              "      <th>worst area</th>\n",
              "      <th>worst smoothness</th>\n",
              "      <th>worst compactness</th>\n",
              "      <th>worst concavity</th>\n",
              "      <th>worst concave points</th>\n",
              "      <th>worst symmetry</th>\n",
              "      <th>worst fractal dimension</th>\n",
              "      <th>target</th>\n",
              "    </tr>\n",
              "  </thead>\n",
              "  <tbody>\n",
              "    <tr>\n",
              "      <th>0</th>\n",
              "      <td>17.99</td>\n",
              "      <td>10.38</td>\n",
              "      <td>122.80</td>\n",
              "      <td>1001.0</td>\n",
              "      <td>0.11840</td>\n",
              "      <td>0.27760</td>\n",
              "      <td>0.3001</td>\n",
              "      <td>0.14710</td>\n",
              "      <td>0.2419</td>\n",
              "      <td>0.07871</td>\n",
              "      <td>...</td>\n",
              "      <td>17.33</td>\n",
              "      <td>184.60</td>\n",
              "      <td>2019.0</td>\n",
              "      <td>0.1622</td>\n",
              "      <td>0.6656</td>\n",
              "      <td>0.7119</td>\n",
              "      <td>0.2654</td>\n",
              "      <td>0.4601</td>\n",
              "      <td>0.11890</td>\n",
              "      <td>0</td>\n",
              "    </tr>\n",
              "    <tr>\n",
              "      <th>1</th>\n",
              "      <td>20.57</td>\n",
              "      <td>17.77</td>\n",
              "      <td>132.90</td>\n",
              "      <td>1326.0</td>\n",
              "      <td>0.08474</td>\n",
              "      <td>0.07864</td>\n",
              "      <td>0.0869</td>\n",
              "      <td>0.07017</td>\n",
              "      <td>0.1812</td>\n",
              "      <td>0.05667</td>\n",
              "      <td>...</td>\n",
              "      <td>23.41</td>\n",
              "      <td>158.80</td>\n",
              "      <td>1956.0</td>\n",
              "      <td>0.1238</td>\n",
              "      <td>0.1866</td>\n",
              "      <td>0.2416</td>\n",
              "      <td>0.1860</td>\n",
              "      <td>0.2750</td>\n",
              "      <td>0.08902</td>\n",
              "      <td>0</td>\n",
              "    </tr>\n",
              "    <tr>\n",
              "      <th>2</th>\n",
              "      <td>19.69</td>\n",
              "      <td>21.25</td>\n",
              "      <td>130.00</td>\n",
              "      <td>1203.0</td>\n",
              "      <td>0.10960</td>\n",
              "      <td>0.15990</td>\n",
              "      <td>0.1974</td>\n",
              "      <td>0.12790</td>\n",
              "      <td>0.2069</td>\n",
              "      <td>0.05999</td>\n",
              "      <td>...</td>\n",
              "      <td>25.53</td>\n",
              "      <td>152.50</td>\n",
              "      <td>1709.0</td>\n",
              "      <td>0.1444</td>\n",
              "      <td>0.4245</td>\n",
              "      <td>0.4504</td>\n",
              "      <td>0.2430</td>\n",
              "      <td>0.3613</td>\n",
              "      <td>0.08758</td>\n",
              "      <td>0</td>\n",
              "    </tr>\n",
              "    <tr>\n",
              "      <th>3</th>\n",
              "      <td>11.42</td>\n",
              "      <td>20.38</td>\n",
              "      <td>77.58</td>\n",
              "      <td>386.1</td>\n",
              "      <td>0.14250</td>\n",
              "      <td>0.28390</td>\n",
              "      <td>0.2414</td>\n",
              "      <td>0.10520</td>\n",
              "      <td>0.2597</td>\n",
              "      <td>0.09744</td>\n",
              "      <td>...</td>\n",
              "      <td>26.50</td>\n",
              "      <td>98.87</td>\n",
              "      <td>567.7</td>\n",
              "      <td>0.2098</td>\n",
              "      <td>0.8663</td>\n",
              "      <td>0.6869</td>\n",
              "      <td>0.2575</td>\n",
              "      <td>0.6638</td>\n",
              "      <td>0.17300</td>\n",
              "      <td>0</td>\n",
              "    </tr>\n",
              "    <tr>\n",
              "      <th>4</th>\n",
              "      <td>20.29</td>\n",
              "      <td>14.34</td>\n",
              "      <td>135.10</td>\n",
              "      <td>1297.0</td>\n",
              "      <td>0.10030</td>\n",
              "      <td>0.13280</td>\n",
              "      <td>0.1980</td>\n",
              "      <td>0.10430</td>\n",
              "      <td>0.1809</td>\n",
              "      <td>0.05883</td>\n",
              "      <td>...</td>\n",
              "      <td>16.67</td>\n",
              "      <td>152.20</td>\n",
              "      <td>1575.0</td>\n",
              "      <td>0.1374</td>\n",
              "      <td>0.2050</td>\n",
              "      <td>0.4000</td>\n",
              "      <td>0.1625</td>\n",
              "      <td>0.2364</td>\n",
              "      <td>0.07678</td>\n",
              "      <td>0</td>\n",
              "    </tr>\n",
              "  </tbody>\n",
              "</table>\n",
              "<p>5 rows × 31 columns</p>\n",
              "</div>\n",
              "      <button class=\"colab-df-convert\" onclick=\"convertToInteractive('df-abed7325-1ca3-40ba-8650-201ac69978d1')\"\n",
              "              title=\"Convert this dataframe to an interactive table.\"\n",
              "              style=\"display:none;\">\n",
              "        \n",
              "  <svg xmlns=\"http://www.w3.org/2000/svg\" height=\"24px\"viewBox=\"0 0 24 24\"\n",
              "       width=\"24px\">\n",
              "    <path d=\"M0 0h24v24H0V0z\" fill=\"none\"/>\n",
              "    <path d=\"M18.56 5.44l.94 2.06.94-2.06 2.06-.94-2.06-.94-.94-2.06-.94 2.06-2.06.94zm-11 1L8.5 8.5l.94-2.06 2.06-.94-2.06-.94L8.5 2.5l-.94 2.06-2.06.94zm10 10l.94 2.06.94-2.06 2.06-.94-2.06-.94-.94-2.06-.94 2.06-2.06.94z\"/><path d=\"M17.41 7.96l-1.37-1.37c-.4-.4-.92-.59-1.43-.59-.52 0-1.04.2-1.43.59L10.3 9.45l-7.72 7.72c-.78.78-.78 2.05 0 2.83L4 21.41c.39.39.9.59 1.41.59.51 0 1.02-.2 1.41-.59l7.78-7.78 2.81-2.81c.8-.78.8-2.07 0-2.86zM5.41 20L4 18.59l7.72-7.72 1.47 1.35L5.41 20z\"/>\n",
              "  </svg>\n",
              "      </button>\n",
              "      \n",
              "  <style>\n",
              "    .colab-df-container {\n",
              "      display:flex;\n",
              "      flex-wrap:wrap;\n",
              "      gap: 12px;\n",
              "    }\n",
              "\n",
              "    .colab-df-convert {\n",
              "      background-color: #E8F0FE;\n",
              "      border: none;\n",
              "      border-radius: 50%;\n",
              "      cursor: pointer;\n",
              "      display: none;\n",
              "      fill: #1967D2;\n",
              "      height: 32px;\n",
              "      padding: 0 0 0 0;\n",
              "      width: 32px;\n",
              "    }\n",
              "\n",
              "    .colab-df-convert:hover {\n",
              "      background-color: #E2EBFA;\n",
              "      box-shadow: 0px 1px 2px rgba(60, 64, 67, 0.3), 0px 1px 3px 1px rgba(60, 64, 67, 0.15);\n",
              "      fill: #174EA6;\n",
              "    }\n",
              "\n",
              "    [theme=dark] .colab-df-convert {\n",
              "      background-color: #3B4455;\n",
              "      fill: #D2E3FC;\n",
              "    }\n",
              "\n",
              "    [theme=dark] .colab-df-convert:hover {\n",
              "      background-color: #434B5C;\n",
              "      box-shadow: 0px 1px 3px 1px rgba(0, 0, 0, 0.15);\n",
              "      filter: drop-shadow(0px 1px 2px rgba(0, 0, 0, 0.3));\n",
              "      fill: #FFFFFF;\n",
              "    }\n",
              "  </style>\n",
              "\n",
              "      <script>\n",
              "        const buttonEl =\n",
              "          document.querySelector('#df-abed7325-1ca3-40ba-8650-201ac69978d1 button.colab-df-convert');\n",
              "        buttonEl.style.display =\n",
              "          google.colab.kernel.accessAllowed ? 'block' : 'none';\n",
              "\n",
              "        async function convertToInteractive(key) {\n",
              "          const element = document.querySelector('#df-abed7325-1ca3-40ba-8650-201ac69978d1');\n",
              "          const dataTable =\n",
              "            await google.colab.kernel.invokeFunction('convertToInteractive',\n",
              "                                                     [key], {});\n",
              "          if (!dataTable) return;\n",
              "\n",
              "          const docLinkHtml = 'Like what you see? Visit the ' +\n",
              "            '<a target=\"_blank\" href=https://colab.research.google.com/notebooks/data_table.ipynb>data table notebook</a>'\n",
              "            + ' to learn more about interactive tables.';\n",
              "          element.innerHTML = '';\n",
              "          dataTable['output_type'] = 'display_data';\n",
              "          await google.colab.output.renderOutput(dataTable, element);\n",
              "          const docLink = document.createElement('div');\n",
              "          docLink.innerHTML = docLinkHtml;\n",
              "          element.appendChild(docLink);\n",
              "        }\n",
              "      </script>\n",
              "    </div>\n",
              "  </div>\n",
              "  "
            ]
          },
          "metadata": {},
          "execution_count": 6
        }
      ]
    },
    {
      "cell_type": "code",
      "source": [
        "X1 = df1.iloc[:, :-1]\n",
        "y1 = np.array(df1['target'])"
      ],
      "metadata": {
        "id": "0RmseyUUfwzG"
      },
      "execution_count": 7,
      "outputs": []
    },
    {
      "cell_type": "code",
      "source": [
        "scaler = StandardScaler()\n",
        "scaled_X1 = scaler.fit_transform(X1)"
      ],
      "metadata": {
        "id": "KNImvUEvgRh9"
      },
      "execution_count": 8,
      "outputs": []
    },
    {
      "cell_type": "code",
      "source": [
        "X1_train, X1_test, y1_train, y1_test = train_test_split(scaled_X1, y1, test_size=0.2, random_state=94)"
      ],
      "metadata": {
        "id": "f7cBb-OqgG7I"
      },
      "execution_count": 9,
      "outputs": []
    },
    {
      "cell_type": "code",
      "source": [
        "dt = DecisionTreeClassifier(random_state=94)\n",
        "dt.fit(X1_train, y1_train)"
      ],
      "metadata": {
        "colab": {
          "base_uri": "https://localhost:8080/"
        },
        "id": "YH-q5joPgcUi",
        "outputId": "e181c9a6-a4a0-4ef3-e1fc-2242db2fbb99"
      },
      "execution_count": 10,
      "outputs": [
        {
          "output_type": "execute_result",
          "data": {
            "text/plain": [
              "DecisionTreeClassifier(random_state=94)"
            ]
          },
          "metadata": {},
          "execution_count": 10
        }
      ]
    },
    {
      "cell_type": "code",
      "source": [
        "pred = dt.predict(X1_test)"
      ],
      "metadata": {
        "id": "r7Tf9pkdg5G7"
      },
      "execution_count": 11,
      "outputs": []
    },
    {
      "cell_type": "code",
      "source": [
        "acc = accuracy_score(y1_test, pred)\n",
        "acc"
      ],
      "metadata": {
        "colab": {
          "base_uri": "https://localhost:8080/"
        },
        "id": "H-G62n85g-n0",
        "outputId": "bfa487ff-11bf-43bb-f60e-49a0d6b6e63c"
      },
      "execution_count": 13,
      "outputs": [
        {
          "output_type": "execute_result",
          "data": {
            "text/plain": [
              "0.9385964912280702"
            ]
          },
          "metadata": {},
          "execution_count": 13
        }
      ]
    },
    {
      "cell_type": "code",
      "source": [
        "# 변수 중요도\n",
        "plt.figure(figsize=(10, 6))\n",
        "sns.barplot(y=X1.columns.tolist(), x=dt.feature_importances_, edgecolor=(0, 0, 0))\n",
        "plt.show"
      ],
      "metadata": {
        "colab": {
          "base_uri": "https://localhost:8080/",
          "height": 380
        },
        "id": "hW9hapg1kpm3",
        "outputId": "23157971-4ce1-4426-9f38-d335934bdab4"
      },
      "execution_count": 35,
      "outputs": [
        {
          "output_type": "execute_result",
          "data": {
            "text/plain": [
              "<function matplotlib.pyplot.show(*args, **kw)>"
            ]
          },
          "metadata": {},
          "execution_count": 35
        },
        {
          "output_type": "display_data",
          "data": {
            "text/plain": [
              "<Figure size 720x432 with 1 Axes>"
            ],
            "image/png": "[encoded data removed]"
          },
          "metadata": {
            "needs_background": "light"
          }
        }
      ]
    },
    {
      "cell_type": "markdown",
      "source": [
        "### 트리 시각화"
      ],
      "metadata": {
        "id": "veRIDXhkhIrn"
      }
    },
    {
      "cell_type": "code",
      "source": [
        "# 텍스트를 통한 시각화\n",
        "r = tree.export_text(decision_tree=dt, feature_names=df1.columns[:-1].tolist())\n",
        "print(r)"
      ],
      "metadata": {
        "colab": {
          "base_uri": "https://localhost:8080/"
        },
        "id": "nLbv-fFMhGap",
        "outputId": "d0c778ce-21d6-47e0-d788-3e60412bc6eb"
      },
      "execution_count": 21,
      "outputs": [
        {
          "output_type": "stream",
          "name": "stdout",
          "text": [
            "|--- worst perimeter <= -0.07\n",
            "|   |--- worst concave points <= 0.31\n",
            "|   |   |--- radius error <= 2.32\n",
            "|   |   |   |--- area error <= 0.19\n",
            "|   |   |   |   |--- smoothness error <= -1.25\n",
            "|   |   |   |   |   |--- mean perimeter <= -0.30\n",
            "|   |   |   |   |   |   |--- class: 1\n",
            "|   |   |   |   |   |--- mean perimeter >  -0.30\n",
            "|   |   |   |   |   |   |--- class: 0\n",
            "|   |   |   |   |--- smoothness error >  -1.25\n",
            "|   |   |   |   |   |--- worst texture <= 1.25\n",
            "|   |   |   |   |   |   |--- class: 1\n",
            "|   |   |   |   |   |--- worst texture >  1.25\n",
            "|   |   |   |   |   |   |--- worst texture <= 1.28\n",
            "|   |   |   |   |   |   |   |--- class: 0\n",
            "|   |   |   |   |   |   |--- worst texture >  1.28\n",
            "|   |   |   |   |   |   |   |--- class: 1\n",
            "|   |   |   |--- area error >  0.19\n",
            "|   |   |   |   |--- symmetry error <= 0.51\n",
            "|   |   |   |   |   |--- class: 0\n",
            "|   |   |   |   |--- symmetry error >  0.51\n",
            "|   |   |   |   |   |--- class: 1\n",
            "|   |   |--- radius error >  2.32\n",
            "|   |   |   |--- class: 0\n",
            "|   |--- worst concave points >  0.31\n",
            "|   |   |--- worst texture <= 0.04\n",
            "|   |   |   |--- class: 1\n",
            "|   |   |--- worst texture >  0.04\n",
            "|   |   |   |--- mean concavity <= 0.10\n",
            "|   |   |   |   |--- compactness error <= -0.39\n",
            "|   |   |   |   |   |--- class: 0\n",
            "|   |   |   |   |--- compactness error >  -0.39\n",
            "|   |   |   |   |   |--- class: 1\n",
            "|   |   |   |--- mean concavity >  0.10\n",
            "|   |   |   |   |--- class: 0\n",
            "|--- worst perimeter >  -0.07\n",
            "|   |--- mean concave points <= -0.00\n",
            "|   |   |--- worst texture <= 0.11\n",
            "|   |   |   |--- worst symmetry <= 0.58\n",
            "|   |   |   |   |--- class: 1\n",
            "|   |   |   |--- worst symmetry >  0.58\n",
            "|   |   |   |   |--- class: 0\n",
            "|   |   |--- worst texture >  0.11\n",
            "|   |   |   |--- concave points error <= -0.21\n",
            "|   |   |   |   |--- class: 0\n",
            "|   |   |   |--- concave points error >  -0.21\n",
            "|   |   |   |   |--- class: 1\n",
            "|   |--- mean concave points >  -0.00\n",
            "|   |   |--- worst concavity <= -0.27\n",
            "|   |   |   |--- class: 1\n",
            "|   |   |--- worst concavity >  -0.27\n",
            "|   |   |   |--- perimeter error <= -0.81\n",
            "|   |   |   |   |--- class: 1\n",
            "|   |   |   |--- perimeter error >  -0.81\n",
            "|   |   |   |   |--- fractal dimension error <= 3.39\n",
            "|   |   |   |   |   |--- mean texture <= -0.92\n",
            "|   |   |   |   |   |   |--- mean concave points <= 0.58\n",
            "|   |   |   |   |   |   |   |--- class: 1\n",
            "|   |   |   |   |   |   |--- mean concave points >  0.58\n",
            "|   |   |   |   |   |   |   |--- class: 0\n",
            "|   |   |   |   |   |--- mean texture >  -0.92\n",
            "|   |   |   |   |   |   |--- class: 0\n",
            "|   |   |   |   |--- fractal dimension error >  3.39\n",
            "|   |   |   |   |   |--- class: 1\n",
            "\n"
          ]
        }
      ]
    },
    {
      "cell_type": "code",
      "source": [
        "# plot tree를 이용한 시각화\n",
        "tree.plot_tree(dt)"
      ],
      "metadata": {
        "colab": {
          "base_uri": "https://localhost:8080/",
          "height": 1000
        },
        "id": "O2TnnT_fhSDX",
        "outputId": "2a749ca4-0c2d-43a1-c32e-39e9f212fd6b"
      },
      "execution_count": 22,
      "outputs": [
        {
          "output_type": "execute_result",
          "data": {
            "text/plain": [
              "[Text(0.5646551724137931, 0.9375, 'X[22] <= -0.069\\ngini = 0.469\\nsamples = 455\\nvalue = [171, 284]'),\n",
              " Text(0.35344827586206895, 0.8125, 'X[27] <= 0.311\\ngini = 0.085\\nsamples = 270\\nvalue = [12, 258]'),\n",
              " Text(0.25862068965517243, 0.6875, 'X[10] <= 2.318\\ngini = 0.031\\nsamples = 254\\nvalue = [4, 250]'),\n",
              " Text(0.22413793103448276, 0.5625, 'X[13] <= 0.19\\ngini = 0.023\\nsamples = 253\\nvalue = [3, 250]'),\n",
              " Text(0.13793103448275862, 0.4375, 'X[14] <= -1.249\\ngini = 0.016\\nsamples = 250\\nvalue = [2, 248]'),\n",
              " Text(0.06896551724137931, 0.3125, 'X[2] <= -0.3\\ngini = 0.375\\nsamples = 4\\nvalue = [1, 3]'),\n",
              " Text(0.034482758620689655, 0.1875, 'gini = 0.0\\nsamples = 3\\nvalue = [0, 3]'),\n",
              " Text(0.10344827586206896, 0.1875, 'gini = 0.0\\nsamples = 1\\nvalue = [1, 0]'),\n",
              " Text(0.20689655172413793, 0.3125, 'X[21] <= 1.249\\ngini = 0.008\\nsamples = 246\\nvalue = [1, 245]'),\n",
              " Text(0.1724137931034483, 0.1875, 'gini = 0.0\\nsamples = 228\\nvalue = [0, 228]'),\n",
              " Text(0.2413793103448276, 0.1875, 'X[21] <= 1.284\\ngini = 0.105\\nsamples = 18\\nvalue = [1, 17]'),\n",
              " Text(0.20689655172413793, 0.0625, 'gini = 0.0\\nsamples = 1\\nvalue = [1, 0]'),\n",
              " Text(0.27586206896551724, 0.0625, 'gini = 0.0\\nsamples = 17\\nvalue = [0, 17]'),\n",
              " Text(0.3103448275862069, 0.4375, 'X[18] <= 0.508\\ngini = 0.444\\nsamples = 3\\nvalue = [1, 2]'),\n",
              " Text(0.27586206896551724, 0.3125, 'gini = 0.0\\nsamples = 1\\nvalue = [1, 0]'),\n",
              " Text(0.3448275862068966, 0.3125, 'gini = 0.0\\nsamples = 2\\nvalue = [0, 2]'),\n",
              " Text(0.29310344827586204, 0.5625, 'gini = 0.0\\nsamples = 1\\nvalue = [1, 0]'),\n",
              " Text(0.4482758620689655, 0.6875, 'X[21] <= 0.044\\ngini = 0.5\\nsamples = 16\\nvalue = [8, 8]'),\n",
              " Text(0.41379310344827586, 0.5625, 'gini = 0.0\\nsamples = 6\\nvalue = [0, 6]'),\n",
              " Text(0.4827586206896552, 0.5625, 'X[6] <= 0.1\\ngini = 0.32\\nsamples = 10\\nvalue = [8, 2]'),\n",
              " Text(0.4482758620689655, 0.4375, 'X[15] <= -0.39\\ngini = 0.444\\nsamples = 3\\nvalue = [1, 2]'),\n",
              " Text(0.41379310344827586, 0.3125, 'gini = 0.0\\nsamples = 1\\nvalue = [1, 0]'),\n",
              " Text(0.4827586206896552, 0.3125, 'gini = 0.0\\nsamples = 2\\nvalue = [0, 2]'),\n",
              " Text(0.5172413793103449, 0.4375, 'gini = 0.0\\nsamples = 7\\nvalue = [7, 0]'),\n",
              " Text(0.7758620689655172, 0.8125, 'X[7] <= -0.001\\ngini = 0.242\\nsamples = 185\\nvalue = [159, 26]'),\n",
              " Text(0.6896551724137931, 0.6875, 'X[21] <= 0.114\\ngini = 0.482\\nsamples = 32\\nvalue = [13, 19]'),\n",
              " Text(0.6206896551724138, 0.5625, 'X[28] <= 0.584\\ngini = 0.124\\nsamples = 15\\nvalue = [1, 14]'),\n",
              " Text(0.5862068965517241, 0.4375, 'gini = 0.0\\nsamples = 14\\nvalue = [0, 14]'),\n",
              " Text(0.6551724137931034, 0.4375, 'gini = 0.0\\nsamples = 1\\nvalue = [1, 0]'),\n",
              " Text(0.7586206896551724, 0.5625, 'X[17] <= -0.209\\ngini = 0.415\\nsamples = 17\\nvalue = [12, 5]'),\n",
              " Text(0.7241379310344828, 0.4375, 'gini = 0.0\\nsamples = 12\\nvalue = [12, 0]'),\n",
              " Text(0.7931034482758621, 0.4375, 'gini = 0.0\\nsamples = 5\\nvalue = [0, 5]'),\n",
              " Text(0.8620689655172413, 0.6875, 'X[26] <= -0.269\\ngini = 0.087\\nsamples = 153\\nvalue = [146, 7]'),\n",
              " Text(0.8275862068965517, 0.5625, 'gini = 0.0\\nsamples = 3\\nvalue = [0, 3]'),\n",
              " Text(0.896551724137931, 0.5625, 'X[12] <= -0.806\\ngini = 0.052\\nsamples = 150\\nvalue = [146, 4]'),\n",
              " Text(0.8620689655172413, 0.4375, 'gini = 0.0\\nsamples = 1\\nvalue = [0, 1]'),\n",
              " Text(0.9310344827586207, 0.4375, 'X[19] <= 3.395\\ngini = 0.039\\nsamples = 149\\nvalue = [146, 3]'),\n",
              " Text(0.896551724137931, 0.3125, 'X[1] <= -0.918\\ngini = 0.027\\nsamples = 148\\nvalue = [146, 2]'),\n",
              " Text(0.8620689655172413, 0.1875, 'X[7] <= 0.576\\ngini = 0.375\\nsamples = 8\\nvalue = [6, 2]'),\n",
              " Text(0.8275862068965517, 0.0625, 'gini = 0.0\\nsamples = 2\\nvalue = [0, 2]'),\n",
              " Text(0.896551724137931, 0.0625, 'gini = 0.0\\nsamples = 6\\nvalue = [6, 0]'),\n",
              " Text(0.9310344827586207, 0.1875, 'gini = 0.0\\nsamples = 140\\nvalue = [140, 0]'),\n",
              " Text(0.9655172413793104, 0.3125, 'gini = 0.0\\nsamples = 1\\nvalue = [0, 1]')]"
            ]
          },
          "metadata": {},
          "execution_count": 22
        },
        {
          "output_type": "display_data",
          "data": {
            "text/plain": [
              "<Figure size 432x288 with 1 Axes>"
            ],
            "image/png": "[encoded data removed]"
          },
          "metadata": {
            "needs_background": "light"
          }
        }
      ]
    },
    {
      "cell_type": "code",
      "source": [
        "# pip install graphviz\n",
        "\n",
        "# graphviz를 이용한 시각화\n",
        "dot_data = tree.export_graphviz(decision_tree=dt, feature_names=df1.columns[:-1].tolist(),\n",
        "                                class_names=['malignant', 'benign'],\n",
        "                                filled=True, rounded=True, special_characters=True)\n",
        "\n",
        "graph = graphviz.Source(dot_data)\n",
        "graph"
      ],
      "metadata": {
        "colab": {
          "base_uri": "https://localhost:8080/",
          "height": 1000
        },
        "id": "glhaI8q7h0lo",
        "outputId": "815696ed-804c-4f3a-a21a-8e1061ad2436"
      },
      "execution_count": 32,
      "outputs": [
        {
          "output_type": "execute_result",
          "data": {
            "text/plain": [
              "<graphviz.files.Source at 0x7f480c822850>"
            ],
            "image/svg+xml": "<?xml version=\"1.0\" encoding=\"UTF-8\" standalone=\"no\"?>\n<!DOCTYPE svg PUBLIC \"-//W3C//DTD SVG 1.1//EN\"\n \"http://www.w3.org/Graphics/SVG/1.1/DTD/svg11.dtd\">\n<!-- Generated by graphviz version 2.40.1 (20161225.0304)\n -->\n<!-- Title: Tree Pages: 1 -->\n<svg width=\"2015pt\" height=\"909pt\"\n viewBox=\"0.00 0.00 2015.00 909.00\" xmlns=\"http://www.w3.org/2000/svg\" xmlns:xlink=\"http://www.w3.org/1999/xlink\">\n<g id=\"graph0\" class=\"graph\" transform=\"scale(1 1) rotate(0) translate(4 905)\">\n<title>Tree</title>\n<polygon fill=\"#ffffff\" stroke=\"transparent\" points=\"-4,4 -4,-905 2011,-905 2011,4 -4,4\"/>\n<!-- 0 -->\n<g id=\"node1\" class=\"node\">\n<title>0</title>\n<path fill=\"#b0d8f5\" stroke=\"#000000\" d=\"M1152,-901C1152,-901 1004,-901 1004,-901 998,-901 992,-895 992,-889 992,-889 992,-830 992,-830 992,-824 998,-818 1004,-818 1004,-818 1152,-818 1152,-818 1158,-818 1164,-824 1164,-830 1164,-830 1164,-889 1164,-889 1164,-895 1158,-901 1152,-901\"/>\n<text text-anchor=\"start\" x=\"1000\" y=\"-885.8\" font-family=\"Helvetica,sans-Serif\" font-size=\"14.00\" fill=\"#000000\">worst perimeter ≤ &#45;0.069</text>\n<text text-anchor=\"start\" x=\"1040\" y=\"-870.8\" font-family=\"Helvetica,sans-Serif\" font-size=\"14.00\" fill=\"#000000\">gini = 0.469</text>\n<text text-anchor=\"start\" x=\"1030\" y=\"-855.8\" font-family=\"Helvetica,sans-Serif\" font-size=\"14.00\" fill=\"#000000\">samples = 455</text>\n<text text-anchor=\"start\" x=\"1020\" y=\"-840.8\" font-family=\"Helvetica,sans-Serif\" font-size=\"14.00\" fill=\"#000000\">value = [171, 284]</text>\n<text text-anchor=\"start\" x=\"1031\" y=\"-825.8\" font-family=\"Helvetica,sans-Serif\" font-size=\"14.00\" fill=\"#000000\">class = benign</text>\n</g>\n<!-- 1 -->\n<g id=\"node2\" class=\"node\">\n<title>1</title>\n<path fill=\"#42a2e6\" stroke=\"#000000\" d=\"M998.5,-782C998.5,-782 817.5,-782 817.5,-782 811.5,-782 805.5,-776 805.5,-770 805.5,-770 805.5,-711 805.5,-711 805.5,-705 811.5,-699 817.5,-699 817.5,-699 998.5,-699 998.5,-699 1004.5,-699 1010.5,-705 1010.5,-711 1010.5,-711 1010.5,-770 1010.5,-770 1010.5,-776 1004.5,-782 998.5,-782\"/>\n<text text-anchor=\"start\" x=\"813.5\" y=\"-766.8\" font-family=\"Helvetica,sans-Serif\" font-size=\"14.00\" fill=\"#000000\">worst concave points ≤ 0.311</text>\n<text text-anchor=\"start\" x=\"870\" y=\"-751.8\" font-family=\"Helvetica,sans-Serif\" font-size=\"14.00\" fill=\"#000000\">gini = 0.085</text>\n<text text-anchor=\"start\" x=\"860\" y=\"-736.8\" font-family=\"Helvetica,sans-Serif\" font-size=\"14.00\" fill=\"#000000\">samples = 270</text>\n<text text-anchor=\"start\" x=\"854\" y=\"-721.8\" font-family=\"Helvetica,sans-Serif\" font-size=\"14.00\" fill=\"#000000\">value = [12, 258]</text>\n<text text-anchor=\"start\" x=\"861\" y=\"-706.8\" font-family=\"Helvetica,sans-Serif\" font-size=\"14.00\" fill=\"#000000\">class = benign</text>\n</g>\n<!-- 0&#45;&gt;1 -->\n<g id=\"edge1\" class=\"edge\">\n<title>0&#45;&gt;1</title>\n<path fill=\"none\" stroke=\"#000000\" d=\"M1018.5422,-817.8796C1004.6954,-808.1868 989.8516,-797.7961 975.6788,-787.8752\"/>\n<polygon fill=\"#000000\" stroke=\"#000000\" points=\"977.6236,-784.9643 967.4242,-782.0969 973.6094,-790.6989 977.6236,-784.9643\"/>\n<text text-anchor=\"middle\" x=\"971.7688\" y=\"-803.0165\" font-family=\"Helvetica,sans-Serif\" font-size=\"14.00\" fill=\"#000000\">True</text>\n</g>\n<!-- 24 -->\n<g id=\"node25\" class=\"node\">\n<title>24</title>\n<path fill=\"#e99659\" stroke=\"#000000\" d=\"M1386,-782C1386,-782 1198,-782 1198,-782 1192,-782 1186,-776 1186,-770 1186,-770 1186,-711 1186,-711 1186,-705 1192,-699 1198,-699 1198,-699 1386,-699 1386,-699 1392,-699 1398,-705 1398,-711 1398,-711 1398,-770 1398,-770 1398,-776 1392,-782 1386,-782\"/>\n<text text-anchor=\"start\" x=\"1194\" y=\"-766.8\" font-family=\"Helvetica,sans-Serif\" font-size=\"14.00\" fill=\"#000000\">mean concave points ≤ &#45;0.001</text>\n<text text-anchor=\"start\" x=\"1254\" y=\"-751.8\" font-family=\"Helvetica,sans-Serif\" font-size=\"14.00\" fill=\"#000000\">gini = 0.242</text>\n<text text-anchor=\"start\" x=\"1244\" y=\"-736.8\" font-family=\"Helvetica,sans-Serif\" font-size=\"14.00\" fill=\"#000000\">samples = 185</text>\n<text text-anchor=\"start\" x=\"1238\" y=\"-721.8\" font-family=\"Helvetica,sans-Serif\" font-size=\"14.00\" fill=\"#000000\">value = [159, 26]</text>\n<text text-anchor=\"start\" x=\"1235.5\" y=\"-706.8\" font-family=\"Helvetica,sans-Serif\" font-size=\"14.00\" fill=\"#000000\">class = malignant</text>\n</g>\n<!-- 0&#45;&gt;24 -->\n<g id=\"edge24\" class=\"edge\">\n<title>0&#45;&gt;24</title>\n<path fill=\"none\" stroke=\"#000000\" d=\"M1152.8468,-817.8796C1170.7663,-807.915 1190.012,-797.2129 1208.303,-787.0418\"/>\n<polygon fill=\"#000000\" stroke=\"#000000\" points=\"1210.1568,-790.0158 1217.1954,-782.0969 1206.7548,-783.898 1210.1568,-790.0158\"/>\n<text text-anchor=\"middle\" x=\"1210.337\" y=\"-802.4377\" font-family=\"Helvetica,sans-Serif\" font-size=\"14.00\" fill=\"#000000\">False</text>\n</g>\n<!-- 2 -->\n<g id=\"node3\" class=\"node\">\n<title>2</title>\n<path fill=\"#3c9fe5\" stroke=\"#000000\" d=\"M745,-663C745,-663 627,-663 627,-663 621,-663 615,-657 615,-651 615,-651 615,-592 615,-592 615,-586 621,-580 627,-580 627,-580 745,-580 745,-580 751,-580 757,-586 757,-592 757,-592 757,-651 757,-651 757,-657 751,-663 745,-663\"/>\n<text text-anchor=\"start\" x=\"623\" y=\"-647.8\" font-family=\"Helvetica,sans-Serif\" font-size=\"14.00\" fill=\"#000000\">radius error ≤ 2.318</text>\n<text text-anchor=\"start\" x=\"648\" y=\"-632.8\" font-family=\"Helvetica,sans-Serif\" font-size=\"14.00\" fill=\"#000000\">gini = 0.031</text>\n<text text-anchor=\"start\" x=\"638\" y=\"-617.8\" font-family=\"Helvetica,sans-Serif\" font-size=\"14.00\" fill=\"#000000\">samples = 254</text>\n<text text-anchor=\"start\" x=\"636\" y=\"-602.8\" font-family=\"Helvetica,sans-Serif\" font-size=\"14.00\" fill=\"#000000\">value = [4, 250]</text>\n<text text-anchor=\"start\" x=\"639\" y=\"-587.8\" font-family=\"Helvetica,sans-Serif\" font-size=\"14.00\" fill=\"#000000\">class = benign</text>\n</g>\n<!-- 1&#45;&gt;2 -->\n<g id=\"edge2\" class=\"edge\">\n<title>1&#45;&gt;2</title>\n<path fill=\"none\" stroke=\"#000000\" d=\"M830.3552,-698.8796C809.568,-687.7369 787.0602,-675.6719 766.141,-664.4584\"/>\n<polygon fill=\"#000000\" stroke=\"#000000\" points=\"767.7497,-661.3497 757.2825,-659.71 764.4425,-667.5192 767.7497,-661.3497\"/>\n</g>\n<!-- 17 -->\n<g id=\"node18\" class=\"node\">\n<title>17</title>\n<path fill=\"#ffffff\" stroke=\"#000000\" d=\"M971.5,-663C971.5,-663 844.5,-663 844.5,-663 838.5,-663 832.5,-657 832.5,-651 832.5,-651 832.5,-592 832.5,-592 832.5,-586 838.5,-580 844.5,-580 844.5,-580 971.5,-580 971.5,-580 977.5,-580 983.5,-586 983.5,-592 983.5,-592 983.5,-651 983.5,-651 983.5,-657 977.5,-663 971.5,-663\"/>\n<text text-anchor=\"start\" x=\"840.5\" y=\"-647.8\" font-family=\"Helvetica,sans-Serif\" font-size=\"14.00\" fill=\"#000000\">worst texture ≤ 0.044</text>\n<text text-anchor=\"start\" x=\"878.5\" y=\"-632.8\" font-family=\"Helvetica,sans-Serif\" font-size=\"14.00\" fill=\"#000000\">gini = 0.5</text>\n<text text-anchor=\"start\" x=\"864\" y=\"-617.8\" font-family=\"Helvetica,sans-Serif\" font-size=\"14.00\" fill=\"#000000\">samples = 16</text>\n<text text-anchor=\"start\" x=\"866.5\" y=\"-602.8\" font-family=\"Helvetica,sans-Serif\" font-size=\"14.00\" fill=\"#000000\">value = [8, 8]</text>\n<text text-anchor=\"start\" x=\"851.5\" y=\"-587.8\" font-family=\"Helvetica,sans-Serif\" font-size=\"14.00\" fill=\"#000000\">class = malignant</text>\n</g>\n<!-- 1&#45;&gt;17 -->\n<g id=\"edge17\" class=\"edge\">\n<title>1&#45;&gt;17</title>\n<path fill=\"none\" stroke=\"#000000\" d=\"M908,-698.8796C908,-690.6838 908,-681.9891 908,-673.5013\"/>\n<polygon fill=\"#000000\" stroke=\"#000000\" points=\"911.5001,-673.298 908,-663.2981 904.5001,-673.2981 911.5001,-673.298\"/>\n</g>\n<!-- 3 -->\n<g id=\"node4\" class=\"node\">\n<title>3</title>\n<path fill=\"#3b9ee5\" stroke=\"#000000\" d=\"M591.5,-544C591.5,-544 492.5,-544 492.5,-544 486.5,-544 480.5,-538 480.5,-532 480.5,-532 480.5,-473 480.5,-473 480.5,-467 486.5,-461 492.5,-461 492.5,-461 591.5,-461 591.5,-461 597.5,-461 603.5,-467 603.5,-473 603.5,-473 603.5,-532 603.5,-532 603.5,-538 597.5,-544 591.5,-544\"/>\n<text text-anchor=\"start\" x=\"488.5\" y=\"-528.8\" font-family=\"Helvetica,sans-Serif\" font-size=\"14.00\" fill=\"#000000\">area error ≤ 0.19</text>\n<text text-anchor=\"start\" x=\"504\" y=\"-513.8\" font-family=\"Helvetica,sans-Serif\" font-size=\"14.00\" fill=\"#000000\">gini = 0.023</text>\n<text text-anchor=\"start\" x=\"494\" y=\"-498.8\" font-family=\"Helvetica,sans-Serif\" font-size=\"14.00\" fill=\"#000000\">samples = 253</text>\n<text text-anchor=\"start\" x=\"492\" y=\"-483.8\" font-family=\"Helvetica,sans-Serif\" font-size=\"14.00\" fill=\"#000000\">value = [3, 250]</text>\n<text text-anchor=\"start\" x=\"495\" y=\"-468.8\" font-family=\"Helvetica,sans-Serif\" font-size=\"14.00\" fill=\"#000000\">class = benign</text>\n</g>\n<!-- 2&#45;&gt;3 -->\n<g id=\"edge3\" class=\"edge\">\n<title>2&#45;&gt;3</title>\n<path fill=\"none\" stroke=\"#000000\" d=\"M635.6358,-579.8796C624.3015,-570.513 612.1785,-560.4948 600.5419,-550.8784\"/>\n<polygon fill=\"#000000\" stroke=\"#000000\" points=\"602.5173,-547.9703 592.5792,-544.2981 598.0581,-553.3663 602.5173,-547.9703\"/>\n</g>\n<!-- 16 -->\n<g id=\"node17\" class=\"node\">\n<title>16</title>\n<path fill=\"#e58139\" stroke=\"#000000\" d=\"M738.5,-536.5C738.5,-536.5 633.5,-536.5 633.5,-536.5 627.5,-536.5 621.5,-530.5 621.5,-524.5 621.5,-524.5 621.5,-480.5 621.5,-480.5 621.5,-474.5 627.5,-468.5 633.5,-468.5 633.5,-468.5 738.5,-468.5 738.5,-468.5 744.5,-468.5 750.5,-474.5 750.5,-480.5 750.5,-480.5 750.5,-524.5 750.5,-524.5 750.5,-530.5 744.5,-536.5 738.5,-536.5\"/>\n<text text-anchor=\"start\" x=\"656.5\" y=\"-521.3\" font-family=\"Helvetica,sans-Serif\" font-size=\"14.00\" fill=\"#000000\">gini = 0.0</text>\n<text text-anchor=\"start\" x=\"646.5\" y=\"-506.3\" font-family=\"Helvetica,sans-Serif\" font-size=\"14.00\" fill=\"#000000\">samples = 1</text>\n<text text-anchor=\"start\" x=\"644.5\" y=\"-491.3\" font-family=\"Helvetica,sans-Serif\" font-size=\"14.00\" fill=\"#000000\">value = [1, 0]</text>\n<text text-anchor=\"start\" x=\"629.5\" y=\"-476.3\" font-family=\"Helvetica,sans-Serif\" font-size=\"14.00\" fill=\"#000000\">class = malignant</text>\n</g>\n<!-- 2&#45;&gt;16 -->\n<g id=\"edge16\" class=\"edge\">\n<title>2&#45;&gt;16</title>\n<path fill=\"none\" stroke=\"#000000\" d=\"M686,-579.8796C686,-569.2134 686,-557.7021 686,-546.9015\"/>\n<polygon fill=\"#000000\" stroke=\"#000000\" points=\"689.5001,-546.8149 686,-536.8149 682.5001,-546.815 689.5001,-546.8149\"/>\n</g>\n<!-- 4 -->\n<g id=\"node5\" class=\"node\">\n<title>4</title>\n<path fill=\"#3b9ee5\" stroke=\"#000000\" d=\"M437,-425C437,-425 275,-425 275,-425 269,-425 263,-419 263,-413 263,-413 263,-354 263,-354 263,-348 269,-342 275,-342 275,-342 437,-342 437,-342 443,-342 449,-348 449,-354 449,-354 449,-413 449,-413 449,-419 443,-425 437,-425\"/>\n<text text-anchor=\"start\" x=\"271\" y=\"-409.8\" font-family=\"Helvetica,sans-Serif\" font-size=\"14.00\" fill=\"#000000\">smoothness error ≤ &#45;1.249</text>\n<text text-anchor=\"start\" x=\"318\" y=\"-394.8\" font-family=\"Helvetica,sans-Serif\" font-size=\"14.00\" fill=\"#000000\">gini = 0.016</text>\n<text text-anchor=\"start\" x=\"308\" y=\"-379.8\" font-family=\"Helvetica,sans-Serif\" font-size=\"14.00\" fill=\"#000000\">samples = 250</text>\n<text text-anchor=\"start\" x=\"306\" y=\"-364.8\" font-family=\"Helvetica,sans-Serif\" font-size=\"14.00\" fill=\"#000000\">value = [2, 248]</text>\n<text text-anchor=\"start\" x=\"309\" y=\"-349.8\" font-family=\"Helvetica,sans-Serif\" font-size=\"14.00\" fill=\"#000000\">class = benign</text>\n</g>\n<!-- 3&#45;&gt;4 -->\n<g id=\"edge4\" class=\"edge\">\n<title>3&#45;&gt;4</title>\n<path fill=\"none\" stroke=\"#000000\" d=\"M480.323,-463.04C464.1139,-452.6696 446.4674,-441.3797 429.6969,-430.6501\"/>\n<polygon fill=\"#000000\" stroke=\"#000000\" points=\"431.3289,-427.5393 421.0191,-425.0982 427.5564,-433.4358 431.3289,-427.5393\"/>\n</g>\n<!-- 13 -->\n<g id=\"node14\" class=\"node\">\n<title>13</title>\n<path fill=\"#9ccef2\" stroke=\"#000000\" d=\"M620.5,-425C620.5,-425 479.5,-425 479.5,-425 473.5,-425 467.5,-419 467.5,-413 467.5,-413 467.5,-354 467.5,-354 467.5,-348 473.5,-342 479.5,-342 479.5,-342 620.5,-342 620.5,-342 626.5,-342 632.5,-348 632.5,-354 632.5,-354 632.5,-413 632.5,-413 632.5,-419 626.5,-425 620.5,-425\"/>\n<text text-anchor=\"start\" x=\"475.5\" y=\"-409.8\" font-family=\"Helvetica,sans-Serif\" font-size=\"14.00\" fill=\"#000000\">symmetry error ≤ 0.508</text>\n<text text-anchor=\"start\" x=\"512\" y=\"-394.8\" font-family=\"Helvetica,sans-Serif\" font-size=\"14.00\" fill=\"#000000\">gini = 0.444</text>\n<text text-anchor=\"start\" x=\"510.5\" y=\"-379.8\" font-family=\"Helvetica,sans-Serif\" font-size=\"14.00\" fill=\"#000000\">samples = 3</text>\n<text text-anchor=\"start\" x=\"508.5\" y=\"-364.8\" font-family=\"Helvetica,sans-Serif\" font-size=\"14.00\" fill=\"#000000\">value = [1, 2]</text>\n<text text-anchor=\"start\" x=\"503\" y=\"-349.8\" font-family=\"Helvetica,sans-Serif\" font-size=\"14.00\" fill=\"#000000\">class = benign</text>\n</g>\n<!-- 3&#45;&gt;13 -->\n<g id=\"edge13\" class=\"edge\">\n<title>3&#45;&gt;13</title>\n<path fill=\"none\" stroke=\"#000000\" d=\"M544.798,-460.8796C545.349,-452.6838 545.9335,-443.9891 546.5041,-435.5013\"/>\n<polygon fill=\"#000000\" stroke=\"#000000\" points=\"550.0113,-435.5103 547.19,-425.2981 543.0271,-435.0408 550.0113,-435.5103\"/>\n</g>\n<!-- 5 -->\n<g id=\"node6\" class=\"node\">\n<title>5</title>\n<path fill=\"#7bbeee\" stroke=\"#000000\" d=\"M252,-306C252,-306 118,-306 118,-306 112,-306 106,-300 106,-294 106,-294 106,-235 106,-235 106,-229 112,-223 118,-223 118,-223 252,-223 252,-223 258,-223 264,-229 264,-235 264,-235 264,-294 264,-294 264,-300 258,-306 252,-306\"/>\n<text text-anchor=\"start\" x=\"114\" y=\"-290.8\" font-family=\"Helvetica,sans-Serif\" font-size=\"14.00\" fill=\"#000000\">mean perimeter ≤ &#45;0.3</text>\n<text text-anchor=\"start\" x=\"147\" y=\"-275.8\" font-family=\"Helvetica,sans-Serif\" font-size=\"14.00\" fill=\"#000000\">gini = 0.375</text>\n<text text-anchor=\"start\" x=\"145.5\" y=\"-260.8\" font-family=\"Helvetica,sans-Serif\" font-size=\"14.00\" fill=\"#000000\">samples = 4</text>\n<text text-anchor=\"start\" x=\"143.5\" y=\"-245.8\" font-family=\"Helvetica,sans-Serif\" font-size=\"14.00\" fill=\"#000000\">value = [1, 3]</text>\n<text text-anchor=\"start\" x=\"138\" y=\"-230.8\" font-family=\"Helvetica,sans-Serif\" font-size=\"14.00\" fill=\"#000000\">class = benign</text>\n</g>\n<!-- 4&#45;&gt;5 -->\n<g id=\"edge5\" class=\"edge\">\n<title>4&#45;&gt;5</title>\n<path fill=\"none\" stroke=\"#000000\" d=\"M296.1925,-341.8796C282.2642,-332.1868 267.3331,-321.7961 253.0769,-311.8752\"/>\n<polygon fill=\"#000000\" stroke=\"#000000\" points=\"254.9811,-308.9362 244.7737,-306.0969 250.9826,-314.6819 254.9811,-308.9362\"/>\n</g>\n<!-- 8 -->\n<g id=\"node9\" class=\"node\">\n<title>8</title>\n<path fill=\"#3a9de5\" stroke=\"#000000\" d=\"M421.5,-306C421.5,-306 294.5,-306 294.5,-306 288.5,-306 282.5,-300 282.5,-294 282.5,-294 282.5,-235 282.5,-235 282.5,-229 288.5,-223 294.5,-223 294.5,-223 421.5,-223 421.5,-223 427.5,-223 433.5,-229 433.5,-235 433.5,-235 433.5,-294 433.5,-294 433.5,-300 427.5,-306 421.5,-306\"/>\n<text text-anchor=\"start\" x=\"290.5\" y=\"-290.8\" font-family=\"Helvetica,sans-Serif\" font-size=\"14.00\" fill=\"#000000\">worst texture ≤ 1.249</text>\n<text text-anchor=\"start\" x=\"320\" y=\"-275.8\" font-family=\"Helvetica,sans-Serif\" font-size=\"14.00\" fill=\"#000000\">gini = 0.008</text>\n<text text-anchor=\"start\" x=\"310\" y=\"-260.8\" font-family=\"Helvetica,sans-Serif\" font-size=\"14.00\" fill=\"#000000\">samples = 246</text>\n<text text-anchor=\"start\" x=\"308\" y=\"-245.8\" font-family=\"Helvetica,sans-Serif\" font-size=\"14.00\" fill=\"#000000\">value = [1, 245]</text>\n<text text-anchor=\"start\" x=\"311\" y=\"-230.8\" font-family=\"Helvetica,sans-Serif\" font-size=\"14.00\" fill=\"#000000\">class = benign</text>\n</g>\n<!-- 4&#45;&gt;8 -->\n<g id=\"edge8\" class=\"edge\">\n<title>4&#45;&gt;8</title>\n<path fill=\"none\" stroke=\"#000000\" d=\"M356.6995,-341.8796C356.8372,-333.6838 356.9834,-324.9891 357.126,-316.5013\"/>\n<polygon fill=\"#000000\" stroke=\"#000000\" points=\"360.6289,-316.3555 357.2975,-306.2981 353.6299,-316.2378 360.6289,-316.3555\"/>\n</g>\n<!-- 6 -->\n<g id=\"node7\" class=\"node\">\n<title>6</title>\n<path fill=\"#399de5\" stroke=\"#000000\" d=\"M98,-179.5C98,-179.5 12,-179.5 12,-179.5 6,-179.5 0,-173.5 0,-167.5 0,-167.5 0,-123.5 0,-123.5 0,-117.5 6,-111.5 12,-111.5 12,-111.5 98,-111.5 98,-111.5 104,-111.5 110,-117.5 110,-123.5 110,-123.5 110,-167.5 110,-167.5 110,-173.5 104,-179.5 98,-179.5\"/>\n<text text-anchor=\"start\" x=\"25.5\" y=\"-164.3\" font-family=\"Helvetica,sans-Serif\" font-size=\"14.00\" fill=\"#000000\">gini = 0.0</text>\n<text text-anchor=\"start\" x=\"15.5\" y=\"-149.3\" font-family=\"Helvetica,sans-Serif\" font-size=\"14.00\" fill=\"#000000\">samples = 3</text>\n<text text-anchor=\"start\" x=\"13.5\" y=\"-134.3\" font-family=\"Helvetica,sans-Serif\" font-size=\"14.00\" fill=\"#000000\">value = [0, 3]</text>\n<text text-anchor=\"start\" x=\"8\" y=\"-119.3\" font-family=\"Helvetica,sans-Serif\" font-size=\"14.00\" fill=\"#000000\">class = benign</text>\n</g>\n<!-- 5&#45;&gt;6 -->\n<g id=\"edge6\" class=\"edge\">\n<title>5&#45;&gt;6</title>\n<path fill=\"none\" stroke=\"#000000\" d=\"M139.5323,-222.8796C126.6789,-211.1138 112.7021,-198.3197 99.8834,-186.5855\"/>\n<polygon fill=\"#000000\" stroke=\"#000000\" points=\"102.2264,-183.9854 92.4869,-179.8149 97.4999,-189.1488 102.2264,-183.9854\"/>\n</g>\n<!-- 7 -->\n<g id=\"node8\" class=\"node\">\n<title>7</title>\n<path fill=\"#e58139\" stroke=\"#000000\" d=\"M245.5,-179.5C245.5,-179.5 140.5,-179.5 140.5,-179.5 134.5,-179.5 128.5,-173.5 128.5,-167.5 128.5,-167.5 128.5,-123.5 128.5,-123.5 128.5,-117.5 134.5,-111.5 140.5,-111.5 140.5,-111.5 245.5,-111.5 245.5,-111.5 251.5,-111.5 257.5,-117.5 257.5,-123.5 257.5,-123.5 257.5,-167.5 257.5,-167.5 257.5,-173.5 251.5,-179.5 245.5,-179.5\"/>\n<text text-anchor=\"start\" x=\"163.5\" y=\"-164.3\" font-family=\"Helvetica,sans-Serif\" font-size=\"14.00\" fill=\"#000000\">gini = 0.0</text>\n<text text-anchor=\"start\" x=\"153.5\" y=\"-149.3\" font-family=\"Helvetica,sans-Serif\" font-size=\"14.00\" fill=\"#000000\">samples = 1</text>\n<text text-anchor=\"start\" x=\"151.5\" y=\"-134.3\" font-family=\"Helvetica,sans-Serif\" font-size=\"14.00\" fill=\"#000000\">value = [1, 0]</text>\n<text text-anchor=\"start\" x=\"136.5\" y=\"-119.3\" font-family=\"Helvetica,sans-Serif\" font-size=\"14.00\" fill=\"#000000\">class = malignant</text>\n</g>\n<!-- 5&#45;&gt;7 -->\n<g id=\"edge7\" class=\"edge\">\n<title>5&#45;&gt;7</title>\n<path fill=\"none\" stroke=\"#000000\" d=\"M187.798,-222.8796C188.5151,-212.2134 189.2889,-200.7021 190.015,-189.9015\"/>\n<polygon fill=\"#000000\" stroke=\"#000000\" points=\"193.5144,-190.0272 190.6931,-179.8149 186.5301,-189.5576 193.5144,-190.0272\"/>\n</g>\n<!-- 9 -->\n<g id=\"node10\" class=\"node\">\n<title>9</title>\n<path fill=\"#399de5\" stroke=\"#000000\" d=\"M396,-179.5C396,-179.5 304,-179.5 304,-179.5 298,-179.5 292,-173.5 292,-167.5 292,-167.5 292,-123.5 292,-123.5 292,-117.5 298,-111.5 304,-111.5 304,-111.5 396,-111.5 396,-111.5 402,-111.5 408,-117.5 408,-123.5 408,-123.5 408,-167.5 408,-167.5 408,-173.5 402,-179.5 396,-179.5\"/>\n<text text-anchor=\"start\" x=\"320.5\" y=\"-164.3\" font-family=\"Helvetica,sans-Serif\" font-size=\"14.00\" fill=\"#000000\">gini = 0.0</text>\n<text text-anchor=\"start\" x=\"302\" y=\"-149.3\" font-family=\"Helvetica,sans-Serif\" font-size=\"14.00\" fill=\"#000000\">samples = 228</text>\n<text text-anchor=\"start\" x=\"300\" y=\"-134.3\" font-family=\"Helvetica,sans-Serif\" font-size=\"14.00\" fill=\"#000000\">value = [0, 228]</text>\n<text text-anchor=\"start\" x=\"303\" y=\"-119.3\" font-family=\"Helvetica,sans-Serif\" font-size=\"14.00\" fill=\"#000000\">class = benign</text>\n</g>\n<!-- 8&#45;&gt;9 -->\n<g id=\"edge9\" class=\"edge\">\n<title>8&#45;&gt;9</title>\n<path fill=\"none\" stroke=\"#000000\" d=\"M355.202,-222.8796C354.4849,-212.2134 353.7111,-200.7021 352.985,-189.9015\"/>\n<polygon fill=\"#000000\" stroke=\"#000000\" points=\"356.4699,-189.5576 352.3069,-179.8149 349.4856,-190.0272 356.4699,-189.5576\"/>\n</g>\n<!-- 10 -->\n<g id=\"node11\" class=\"node\">\n<title>10</title>\n<path fill=\"#45a3e7\" stroke=\"#000000\" d=\"M565.5,-187C565.5,-187 438.5,-187 438.5,-187 432.5,-187 426.5,-181 426.5,-175 426.5,-175 426.5,-116 426.5,-116 426.5,-110 432.5,-104 438.5,-104 438.5,-104 565.5,-104 565.5,-104 571.5,-104 577.5,-110 577.5,-116 577.5,-116 577.5,-175 577.5,-175 577.5,-181 571.5,-187 565.5,-187\"/>\n<text text-anchor=\"start\" x=\"434.5\" y=\"-171.8\" font-family=\"Helvetica,sans-Serif\" font-size=\"14.00\" fill=\"#000000\">worst texture ≤ 1.284</text>\n<text text-anchor=\"start\" x=\"464\" y=\"-156.8\" font-family=\"Helvetica,sans-Serif\" font-size=\"14.00\" fill=\"#000000\">gini = 0.105</text>\n<text text-anchor=\"start\" x=\"458\" y=\"-141.8\" font-family=\"Helvetica,sans-Serif\" font-size=\"14.00\" fill=\"#000000\">samples = 18</text>\n<text text-anchor=\"start\" x=\"456.5\" y=\"-126.8\" font-family=\"Helvetica,sans-Serif\" font-size=\"14.00\" fill=\"#000000\">value = [1, 17]</text>\n<text text-anchor=\"start\" x=\"455\" y=\"-111.8\" font-family=\"Helvetica,sans-Serif\" font-size=\"14.00\" fill=\"#000000\">class = benign</text>\n</g>\n<!-- 8&#45;&gt;10 -->\n<g id=\"edge10\" class=\"edge\">\n<title>8&#45;&gt;10</title>\n<path fill=\"none\" stroke=\"#000000\" d=\"M408.3642,-222.8796C419.6985,-213.513 431.8215,-203.4948 443.4581,-193.8784\"/>\n<polygon fill=\"#000000\" stroke=\"#000000\" points=\"445.9419,-196.3663 451.4208,-187.2981 441.4827,-190.9703 445.9419,-196.3663\"/>\n</g>\n<!-- 11 -->\n<g id=\"node12\" class=\"node\">\n<title>11</title>\n<path fill=\"#e58139\" stroke=\"#000000\" d=\"M485.5,-68C485.5,-68 380.5,-68 380.5,-68 374.5,-68 368.5,-62 368.5,-56 368.5,-56 368.5,-12 368.5,-12 368.5,-6 374.5,0 380.5,0 380.5,0 485.5,0 485.5,0 491.5,0 497.5,-6 497.5,-12 497.5,-12 497.5,-56 497.5,-56 497.5,-62 491.5,-68 485.5,-68\"/>\n<text text-anchor=\"start\" x=\"403.5\" y=\"-52.8\" font-family=\"Helvetica,sans-Serif\" font-size=\"14.00\" fill=\"#000000\">gini = 0.0</text>\n<text text-anchor=\"start\" x=\"393.5\" y=\"-37.8\" font-family=\"Helvetica,sans-Serif\" font-size=\"14.00\" fill=\"#000000\">samples = 1</text>\n<text text-anchor=\"start\" x=\"391.5\" y=\"-22.8\" font-family=\"Helvetica,sans-Serif\" font-size=\"14.00\" fill=\"#000000\">value = [1, 0]</text>\n<text text-anchor=\"start\" x=\"376.5\" y=\"-7.8\" font-family=\"Helvetica,sans-Serif\" font-size=\"14.00\" fill=\"#000000\">class = malignant</text>\n</g>\n<!-- 10&#45;&gt;11 -->\n<g id=\"edge11\" class=\"edge\">\n<title>10&#45;&gt;11</title>\n<path fill=\"none\" stroke=\"#000000\" d=\"M476.3069,-103.9815C470.8469,-95.1585 465.0716,-85.8258 459.5793,-76.9506\"/>\n<polygon fill=\"#000000\" stroke=\"#000000\" points=\"462.442,-74.9254 454.2035,-68.2637 456.4896,-78.609 462.442,-74.9254\"/>\n</g>\n<!-- 12 -->\n<g id=\"node13\" class=\"node\">\n<title>12</title>\n<path fill=\"#399de5\" stroke=\"#000000\" d=\"M614,-68C614,-68 528,-68 528,-68 522,-68 516,-62 516,-56 516,-56 516,-12 516,-12 516,-6 522,0 528,0 528,0 614,0 614,0 620,0 626,-6 626,-12 626,-12 626,-56 626,-56 626,-62 620,-68 614,-68\"/>\n<text text-anchor=\"start\" x=\"541.5\" y=\"-52.8\" font-family=\"Helvetica,sans-Serif\" font-size=\"14.00\" fill=\"#000000\">gini = 0.0</text>\n<text text-anchor=\"start\" x=\"527\" y=\"-37.8\" font-family=\"Helvetica,sans-Serif\" font-size=\"14.00\" fill=\"#000000\">samples = 17</text>\n<text text-anchor=\"start\" x=\"525.5\" y=\"-22.8\" font-family=\"Helvetica,sans-Serif\" font-size=\"14.00\" fill=\"#000000\">value = [0, 17]</text>\n<text text-anchor=\"start\" x=\"524\" y=\"-7.8\" font-family=\"Helvetica,sans-Serif\" font-size=\"14.00\" fill=\"#000000\">class = benign</text>\n</g>\n<!-- 10&#45;&gt;12 -->\n<g id=\"edge12\" class=\"edge\">\n<title>10&#45;&gt;12</title>\n<path fill=\"none\" stroke=\"#000000\" d=\"M527.6931,-103.9815C533.1531,-95.1585 538.9284,-85.8258 544.4207,-76.9506\"/>\n<polygon fill=\"#000000\" stroke=\"#000000\" points=\"547.5104,-78.609 549.7965,-68.2637 541.558,-74.9254 547.5104,-78.609\"/>\n</g>\n<!-- 14 -->\n<g id=\"node15\" class=\"node\">\n<title>14</title>\n<path fill=\"#e58139\" stroke=\"#000000\" d=\"M572.5,-298.5C572.5,-298.5 467.5,-298.5 467.5,-298.5 461.5,-298.5 455.5,-292.5 455.5,-286.5 455.5,-286.5 455.5,-242.5 455.5,-242.5 455.5,-236.5 461.5,-230.5 467.5,-230.5 467.5,-230.5 572.5,-230.5 572.5,-230.5 578.5,-230.5 584.5,-236.5 584.5,-242.5 584.5,-242.5 584.5,-286.5 584.5,-286.5 584.5,-292.5 578.5,-298.5 572.5,-298.5\"/>\n<text text-anchor=\"start\" x=\"490.5\" y=\"-283.3\" font-family=\"Helvetica,sans-Serif\" font-size=\"14.00\" fill=\"#000000\">gini = 0.0</text>\n<text text-anchor=\"start\" x=\"480.5\" y=\"-268.3\" font-family=\"Helvetica,sans-Serif\" font-size=\"14.00\" fill=\"#000000\">samples = 1</text>\n<text text-anchor=\"start\" x=\"478.5\" y=\"-253.3\" font-family=\"Helvetica,sans-Serif\" font-size=\"14.00\" fill=\"#000000\">value = [1, 0]</text>\n<text text-anchor=\"start\" x=\"463.5\" y=\"-238.3\" font-family=\"Helvetica,sans-Serif\" font-size=\"14.00\" fill=\"#000000\">class = malignant</text>\n</g>\n<!-- 13&#45;&gt;14 -->\n<g id=\"edge14\" class=\"edge\">\n<title>13&#45;&gt;14</title>\n<path fill=\"none\" stroke=\"#000000\" d=\"M539.5075,-341.8796C536.7908,-331.1034 533.8566,-319.4647 531.1095,-308.5677\"/>\n<polygon fill=\"#000000\" stroke=\"#000000\" points=\"534.4892,-307.6559 528.6508,-298.8149 527.7016,-309.3672 534.4892,-307.6559\"/>\n</g>\n<!-- 15 -->\n<g id=\"node16\" class=\"node\">\n<title>15</title>\n<path fill=\"#399de5\" stroke=\"#000000\" d=\"M701,-298.5C701,-298.5 615,-298.5 615,-298.5 609,-298.5 603,-292.5 603,-286.5 603,-286.5 603,-242.5 603,-242.5 603,-236.5 609,-230.5 615,-230.5 615,-230.5 701,-230.5 701,-230.5 707,-230.5 713,-236.5 713,-242.5 713,-242.5 713,-286.5 713,-286.5 713,-292.5 707,-298.5 701,-298.5\"/>\n<text text-anchor=\"start\" x=\"628.5\" y=\"-283.3\" font-family=\"Helvetica,sans-Serif\" font-size=\"14.00\" fill=\"#000000\">gini = 0.0</text>\n<text text-anchor=\"start\" x=\"618.5\" y=\"-268.3\" font-family=\"Helvetica,sans-Serif\" font-size=\"14.00\" fill=\"#000000\">samples = 2</text>\n<text text-anchor=\"start\" x=\"616.5\" y=\"-253.3\" font-family=\"Helvetica,sans-Serif\" font-size=\"14.00\" fill=\"#000000\">value = [0, 2]</text>\n<text text-anchor=\"start\" x=\"611\" y=\"-238.3\" font-family=\"Helvetica,sans-Serif\" font-size=\"14.00\" fill=\"#000000\">class = benign</text>\n</g>\n<!-- 13&#45;&gt;15 -->\n<g id=\"edge15\" class=\"edge\">\n<title>13&#45;&gt;15</title>\n<path fill=\"none\" stroke=\"#000000\" d=\"M587.7732,-341.8796C598.2518,-330.3337 609.6291,-317.7976 620.1141,-306.2446\"/>\n<polygon fill=\"#000000\" stroke=\"#000000\" points=\"622.7282,-308.5722 626.857,-298.8149 617.5447,-303.8678 622.7282,-308.5722\"/>\n</g>\n<!-- 18 -->\n<g id=\"node19\" class=\"node\">\n<title>18</title>\n<path fill=\"#399de5\" stroke=\"#000000\" d=\"M867,-536.5C867,-536.5 781,-536.5 781,-536.5 775,-536.5 769,-530.5 769,-524.5 769,-524.5 769,-480.5 769,-480.5 769,-474.5 775,-468.5 781,-468.5 781,-468.5 867,-468.5 867,-468.5 873,-468.5 879,-474.5 879,-480.5 879,-480.5 879,-524.5 879,-524.5 879,-530.5 873,-536.5 867,-536.5\"/>\n<text text-anchor=\"start\" x=\"794.5\" y=\"-521.3\" font-family=\"Helvetica,sans-Serif\" font-size=\"14.00\" fill=\"#000000\">gini = 0.0</text>\n<text text-anchor=\"start\" x=\"784.5\" y=\"-506.3\" font-family=\"Helvetica,sans-Serif\" font-size=\"14.00\" fill=\"#000000\">samples = 6</text>\n<text text-anchor=\"start\" x=\"782.5\" y=\"-491.3\" font-family=\"Helvetica,sans-Serif\" font-size=\"14.00\" fill=\"#000000\">value = [0, 6]</text>\n<text text-anchor=\"start\" x=\"777\" y=\"-476.3\" font-family=\"Helvetica,sans-Serif\" font-size=\"14.00\" fill=\"#000000\">class = benign</text>\n</g>\n<!-- 17&#45;&gt;18 -->\n<g id=\"edge18\" class=\"edge\">\n<title>17&#45;&gt;18</title>\n<path fill=\"none\" stroke=\"#000000\" d=\"M878.6209,-579.8796C870.7037,-568.6636 862.1269,-556.5131 854.1675,-545.2372\"/>\n<polygon fill=\"#000000\" stroke=\"#000000\" points=\"856.8486,-542.9662 848.2223,-536.8149 851.1298,-547.003 856.8486,-542.9662\"/>\n</g>\n<!-- 19 -->\n<g id=\"node20\" class=\"node\">\n<title>19</title>\n<path fill=\"#eca06a\" stroke=\"#000000\" d=\"M1039,-544C1039,-544 909,-544 909,-544 903,-544 897,-538 897,-532 897,-532 897,-473 897,-473 897,-467 903,-461 909,-461 909,-461 1039,-461 1039,-461 1045,-461 1051,-467 1051,-473 1051,-473 1051,-532 1051,-532 1051,-538 1045,-544 1039,-544\"/>\n<text text-anchor=\"start\" x=\"905\" y=\"-528.8\" font-family=\"Helvetica,sans-Serif\" font-size=\"14.00\" fill=\"#000000\">mean concavity ≤ 0.1</text>\n<text text-anchor=\"start\" x=\"940.5\" y=\"-513.8\" font-family=\"Helvetica,sans-Serif\" font-size=\"14.00\" fill=\"#000000\">gini = 0.32</text>\n<text text-anchor=\"start\" x=\"930\" y=\"-498.8\" font-family=\"Helvetica,sans-Serif\" font-size=\"14.00\" fill=\"#000000\">samples = 10</text>\n<text text-anchor=\"start\" x=\"932.5\" y=\"-483.8\" font-family=\"Helvetica,sans-Serif\" font-size=\"14.00\" fill=\"#000000\">value = [8, 2]</text>\n<text text-anchor=\"start\" x=\"917.5\" y=\"-468.8\" font-family=\"Helvetica,sans-Serif\" font-size=\"14.00\" fill=\"#000000\">class = malignant</text>\n</g>\n<!-- 17&#45;&gt;19 -->\n<g id=\"edge19\" class=\"edge\">\n<title>17&#45;&gt;19</title>\n<path fill=\"none\" stroke=\"#000000\" d=\"M931.0836,-579.8796C935.8789,-571.2335 940.9822,-562.0322 945.9338,-553.1042\"/>\n<polygon fill=\"#000000\" stroke=\"#000000\" points=\"949.0284,-554.7407 950.8179,-544.2981 942.9069,-551.3455 949.0284,-554.7407\"/>\n</g>\n<!-- 20 -->\n<g id=\"node21\" class=\"node\">\n<title>20</title>\n<path fill=\"#9ccef2\" stroke=\"#000000\" d=\"M879.5,-425C879.5,-425 718.5,-425 718.5,-425 712.5,-425 706.5,-419 706.5,-413 706.5,-413 706.5,-354 706.5,-354 706.5,-348 712.5,-342 718.5,-342 718.5,-342 879.5,-342 879.5,-342 885.5,-342 891.5,-348 891.5,-354 891.5,-354 891.5,-413 891.5,-413 891.5,-419 885.5,-425 879.5,-425\"/>\n<text text-anchor=\"start\" x=\"714.5\" y=\"-409.8\" font-family=\"Helvetica,sans-Serif\" font-size=\"14.00\" fill=\"#000000\">compactness error ≤ &#45;0.39</text>\n<text text-anchor=\"start\" x=\"761\" y=\"-394.8\" font-family=\"Helvetica,sans-Serif\" font-size=\"14.00\" fill=\"#000000\">gini = 0.444</text>\n<text text-anchor=\"start\" x=\"759.5\" y=\"-379.8\" font-family=\"Helvetica,sans-Serif\" font-size=\"14.00\" fill=\"#000000\">samples = 3</text>\n<text text-anchor=\"start\" x=\"757.5\" y=\"-364.8\" font-family=\"Helvetica,sans-Serif\" font-size=\"14.00\" fill=\"#000000\">value = [1, 2]</text>\n<text text-anchor=\"start\" x=\"752\" y=\"-349.8\" font-family=\"Helvetica,sans-Serif\" font-size=\"14.00\" fill=\"#000000\">class = benign</text>\n</g>\n<!-- 19&#45;&gt;20 -->\n<g id=\"edge20\" class=\"edge\">\n<title>19&#45;&gt;20</title>\n<path fill=\"none\" stroke=\"#000000\" d=\"M912.7935,-460.8796C898.5394,-451.1868 883.259,-440.7961 868.6693,-430.8752\"/>\n<polygon fill=\"#000000\" stroke=\"#000000\" points=\"870.4093,-427.8258 860.1719,-425.0969 866.4731,-433.6143 870.4093,-427.8258\"/>\n</g>\n<!-- 23 -->\n<g id=\"node24\" class=\"node\">\n<title>23</title>\n<path fill=\"#e58139\" stroke=\"#000000\" d=\"M1026.5,-417.5C1026.5,-417.5 921.5,-417.5 921.5,-417.5 915.5,-417.5 909.5,-411.5 909.5,-405.5 909.5,-405.5 909.5,-361.5 909.5,-361.5 909.5,-355.5 915.5,-349.5 921.5,-349.5 921.5,-349.5 1026.5,-349.5 1026.5,-349.5 1032.5,-349.5 1038.5,-355.5 1038.5,-361.5 1038.5,-361.5 1038.5,-405.5 1038.5,-405.5 1038.5,-411.5 1032.5,-417.5 1026.5,-417.5\"/>\n<text text-anchor=\"start\" x=\"944.5\" y=\"-402.3\" font-family=\"Helvetica,sans-Serif\" font-size=\"14.00\" fill=\"#000000\">gini = 0.0</text>\n<text text-anchor=\"start\" x=\"934.5\" y=\"-387.3\" font-family=\"Helvetica,sans-Serif\" font-size=\"14.00\" fill=\"#000000\">samples = 7</text>\n<text text-anchor=\"start\" x=\"932.5\" y=\"-372.3\" font-family=\"Helvetica,sans-Serif\" font-size=\"14.00\" fill=\"#000000\">value = [7, 0]</text>\n<text text-anchor=\"start\" x=\"917.5\" y=\"-357.3\" font-family=\"Helvetica,sans-Serif\" font-size=\"14.00\" fill=\"#000000\">class = malignant</text>\n</g>\n<!-- 19&#45;&gt;23 -->\n<g id=\"edge23\" class=\"edge\">\n<title>19&#45;&gt;23</title>\n<path fill=\"none\" stroke=\"#000000\" d=\"M974,-460.8796C974,-450.2134 974,-438.7021 974,-427.9015\"/>\n<polygon fill=\"#000000\" stroke=\"#000000\" points=\"977.5001,-427.8149 974,-417.8149 970.5001,-427.815 977.5001,-427.8149\"/>\n</g>\n<!-- 21 -->\n<g id=\"node22\" class=\"node\">\n<title>21</title>\n<path fill=\"#e58139\" stroke=\"#000000\" d=\"M850.5,-298.5C850.5,-298.5 745.5,-298.5 745.5,-298.5 739.5,-298.5 733.5,-292.5 733.5,-286.5 733.5,-286.5 733.5,-242.5 733.5,-242.5 733.5,-236.5 739.5,-230.5 745.5,-230.5 745.5,-230.5 850.5,-230.5 850.5,-230.5 856.5,-230.5 862.5,-236.5 862.5,-242.5 862.5,-242.5 862.5,-286.5 862.5,-286.5 862.5,-292.5 856.5,-298.5 850.5,-298.5\"/>\n<text text-anchor=\"start\" x=\"768.5\" y=\"-283.3\" font-family=\"Helvetica,sans-Serif\" font-size=\"14.00\" fill=\"#000000\">gini = 0.0</text>\n<text text-anchor=\"start\" x=\"758.5\" y=\"-268.3\" font-family=\"Helvetica,sans-Serif\" font-size=\"14.00\" fill=\"#000000\">samples = 1</text>\n<text text-anchor=\"start\" x=\"756.5\" y=\"-253.3\" font-family=\"Helvetica,sans-Serif\" font-size=\"14.00\" fill=\"#000000\">value = [1, 0]</text>\n<text text-anchor=\"start\" x=\"741.5\" y=\"-238.3\" font-family=\"Helvetica,sans-Serif\" font-size=\"14.00\" fill=\"#000000\">class = malignant</text>\n</g>\n<!-- 20&#45;&gt;21 -->\n<g id=\"edge21\" class=\"edge\">\n<title>20&#45;&gt;21</title>\n<path fill=\"none\" stroke=\"#000000\" d=\"M798.6502,-341.8796C798.5606,-331.2134 798.4639,-319.7021 798.3731,-308.9015\"/>\n<polygon fill=\"#000000\" stroke=\"#000000\" points=\"801.8724,-308.7851 798.2884,-298.8149 794.8726,-308.844 801.8724,-308.7851\"/>\n</g>\n<!-- 22 -->\n<g id=\"node23\" class=\"node\">\n<title>22</title>\n<path fill=\"#399de5\" stroke=\"#000000\" d=\"M979,-298.5C979,-298.5 893,-298.5 893,-298.5 887,-298.5 881,-292.5 881,-286.5 881,-286.5 881,-242.5 881,-242.5 881,-236.5 887,-230.5 893,-230.5 893,-230.5 979,-230.5 979,-230.5 985,-230.5 991,-236.5 991,-242.5 991,-242.5 991,-286.5 991,-286.5 991,-292.5 985,-298.5 979,-298.5\"/>\n<text text-anchor=\"start\" x=\"906.5\" y=\"-283.3\" font-family=\"Helvetica,sans-Serif\" font-size=\"14.00\" fill=\"#000000\">gini = 0.0</text>\n<text text-anchor=\"start\" x=\"896.5\" y=\"-268.3\" font-family=\"Helvetica,sans-Serif\" font-size=\"14.00\" fill=\"#000000\">samples = 2</text>\n<text text-anchor=\"start\" x=\"894.5\" y=\"-253.3\" font-family=\"Helvetica,sans-Serif\" font-size=\"14.00\" fill=\"#000000\">value = [0, 2]</text>\n<text text-anchor=\"start\" x=\"889\" y=\"-238.3\" font-family=\"Helvetica,sans-Serif\" font-size=\"14.00\" fill=\"#000000\">class = benign</text>\n</g>\n<!-- 20&#45;&gt;22 -->\n<g id=\"edge22\" class=\"edge\">\n<title>20&#45;&gt;22</title>\n<path fill=\"none\" stroke=\"#000000\" d=\"M846.916,-341.8796C860.4615,-330.1138 875.1908,-317.3197 888.6998,-305.5855\"/>\n<polygon fill=\"#000000\" stroke=\"#000000\" points=\"891.2401,-308.015 896.4946,-298.8149 886.6497,-302.7303 891.2401,-308.015\"/>\n</g>\n<!-- 25 -->\n<g id=\"node26\" class=\"node\">\n<title>25</title>\n<path fill=\"#c0e0f7\" stroke=\"#000000\" d=\"M1355.5,-663C1355.5,-663 1228.5,-663 1228.5,-663 1222.5,-663 1216.5,-657 1216.5,-651 1216.5,-651 1216.5,-592 1216.5,-592 1216.5,-586 1222.5,-580 1228.5,-580 1228.5,-580 1355.5,-580 1355.5,-580 1361.5,-580 1367.5,-586 1367.5,-592 1367.5,-592 1367.5,-651 1367.5,-651 1367.5,-657 1361.5,-663 1355.5,-663\"/>\n<text text-anchor=\"start\" x=\"1224.5\" y=\"-647.8\" font-family=\"Helvetica,sans-Serif\" font-size=\"14.00\" fill=\"#000000\">worst texture ≤ 0.114</text>\n<text text-anchor=\"start\" x=\"1254\" y=\"-632.8\" font-family=\"Helvetica,sans-Serif\" font-size=\"14.00\" fill=\"#000000\">gini = 0.482</text>\n<text text-anchor=\"start\" x=\"1248\" y=\"-617.8\" font-family=\"Helvetica,sans-Serif\" font-size=\"14.00\" fill=\"#000000\">samples = 32</text>\n<text text-anchor=\"start\" x=\"1242\" y=\"-602.8\" font-family=\"Helvetica,sans-Serif\" font-size=\"14.00\" fill=\"#000000\">value = [13, 19]</text>\n<text text-anchor=\"start\" x=\"1245\" y=\"-587.8\" font-family=\"Helvetica,sans-Serif\" font-size=\"14.00\" fill=\"#000000\">class = benign</text>\n</g>\n<!-- 24&#45;&gt;25 -->\n<g id=\"edge25\" class=\"edge\">\n<title>24&#45;&gt;25</title>\n<path fill=\"none\" stroke=\"#000000\" d=\"M1292,-698.8796C1292,-690.6838 1292,-681.9891 1292,-673.5013\"/>\n<polygon fill=\"#000000\" stroke=\"#000000\" points=\"1295.5001,-673.298 1292,-663.2981 1288.5001,-673.2981 1295.5001,-673.298\"/>\n</g>\n<!-- 32 -->\n<g id=\"node33\" class=\"node\">\n<title>32</title>\n<path fill=\"#e68742\" stroke=\"#000000\" d=\"M1647.5,-663C1647.5,-663 1498.5,-663 1498.5,-663 1492.5,-663 1486.5,-657 1486.5,-651 1486.5,-651 1486.5,-592 1486.5,-592 1486.5,-586 1492.5,-580 1498.5,-580 1498.5,-580 1647.5,-580 1647.5,-580 1653.5,-580 1659.5,-586 1659.5,-592 1659.5,-592 1659.5,-651 1659.5,-651 1659.5,-657 1653.5,-663 1647.5,-663\"/>\n<text text-anchor=\"start\" x=\"1494.5\" y=\"-647.8\" font-family=\"Helvetica,sans-Serif\" font-size=\"14.00\" fill=\"#000000\">worst concavity ≤ &#45;0.269</text>\n<text text-anchor=\"start\" x=\"1535\" y=\"-632.8\" font-family=\"Helvetica,sans-Serif\" font-size=\"14.00\" fill=\"#000000\">gini = 0.087</text>\n<text text-anchor=\"start\" x=\"1525\" y=\"-617.8\" font-family=\"Helvetica,sans-Serif\" font-size=\"14.00\" fill=\"#000000\">samples = 153</text>\n<text text-anchor=\"start\" x=\"1523\" y=\"-602.8\" font-family=\"Helvetica,sans-Serif\" font-size=\"14.00\" fill=\"#000000\">value = [146, 7]</text>\n<text text-anchor=\"start\" x=\"1516.5\" y=\"-587.8\" font-family=\"Helvetica,sans-Serif\" font-size=\"14.00\" fill=\"#000000\">class = malignant</text>\n</g>\n<!-- 24&#45;&gt;32 -->\n<g id=\"edge32\" class=\"edge\">\n<title>24&#45;&gt;32</title>\n<path fill=\"none\" stroke=\"#000000\" d=\"M1390.2802,-698.8796C1418.4342,-686.9567 1449.0817,-673.9778 1477.0914,-662.1161\"/>\n<polygon fill=\"#000000\" stroke=\"#000000\" points=\"1478.6383,-665.262 1486.4817,-658.1394 1475.9085,-658.8162 1478.6383,-665.262\"/>\n</g>\n<!-- 26 -->\n<g id=\"node27\" class=\"node\">\n<title>26</title>\n<path fill=\"#47a4e7\" stroke=\"#000000\" d=\"M1264,-544C1264,-544 1118,-544 1118,-544 1112,-544 1106,-538 1106,-532 1106,-532 1106,-473 1106,-473 1106,-467 1112,-461 1118,-461 1118,-461 1264,-461 1264,-461 1270,-461 1276,-467 1276,-473 1276,-473 1276,-532 1276,-532 1276,-538 1270,-544 1264,-544\"/>\n<text text-anchor=\"start\" x=\"1114\" y=\"-528.8\" font-family=\"Helvetica,sans-Serif\" font-size=\"14.00\" fill=\"#000000\">worst symmetry ≤ 0.584</text>\n<text text-anchor=\"start\" x=\"1153\" y=\"-513.8\" font-family=\"Helvetica,sans-Serif\" font-size=\"14.00\" fill=\"#000000\">gini = 0.124</text>\n<text text-anchor=\"start\" x=\"1147\" y=\"-498.8\" font-family=\"Helvetica,sans-Serif\" font-size=\"14.00\" fill=\"#000000\">samples = 15</text>\n<text text-anchor=\"start\" x=\"1145.5\" y=\"-483.8\" font-family=\"Helvetica,sans-Serif\" font-size=\"14.00\" fill=\"#000000\">value = [1, 14]</text>\n<text text-anchor=\"start\" x=\"1144\" y=\"-468.8\" font-family=\"Helvetica,sans-Serif\" font-size=\"14.00\" fill=\"#000000\">class = benign</text>\n</g>\n<!-- 25&#45;&gt;26 -->\n<g id=\"edge26\" class=\"edge\">\n<title>25&#45;&gt;26</title>\n<path fill=\"none\" stroke=\"#000000\" d=\"M1256.6751,-579.8796C1249.0311,-570.8733 1240.8757,-561.2644 1233.0039,-551.9897\"/>\n<polygon fill=\"#000000\" stroke=\"#000000\" points=\"1235.6151,-549.6574 1226.4757,-544.2981 1230.2782,-554.1871 1235.6151,-549.6574\"/>\n</g>\n<!-- 29 -->\n<g id=\"node30\" class=\"node\">\n<title>29</title>\n<path fill=\"#f0b58b\" stroke=\"#000000\" d=\"M1487.5,-544C1487.5,-544 1306.5,-544 1306.5,-544 1300.5,-544 1294.5,-538 1294.5,-532 1294.5,-532 1294.5,-473 1294.5,-473 1294.5,-467 1300.5,-461 1306.5,-461 1306.5,-461 1487.5,-461 1487.5,-461 1493.5,-461 1499.5,-467 1499.5,-473 1499.5,-473 1499.5,-532 1499.5,-532 1499.5,-538 1493.5,-544 1487.5,-544\"/>\n<text text-anchor=\"start\" x=\"1302.5\" y=\"-528.8\" font-family=\"Helvetica,sans-Serif\" font-size=\"14.00\" fill=\"#000000\">concave points error ≤ &#45;0.209</text>\n<text text-anchor=\"start\" x=\"1359\" y=\"-513.8\" font-family=\"Helvetica,sans-Serif\" font-size=\"14.00\" fill=\"#000000\">gini = 0.415</text>\n<text text-anchor=\"start\" x=\"1353\" y=\"-498.8\" font-family=\"Helvetica,sans-Serif\" font-size=\"14.00\" fill=\"#000000\">samples = 17</text>\n<text text-anchor=\"start\" x=\"1351.5\" y=\"-483.8\" font-family=\"Helvetica,sans-Serif\" font-size=\"14.00\" fill=\"#000000\">value = [12, 5]</text>\n<text text-anchor=\"start\" x=\"1340.5\" y=\"-468.8\" font-family=\"Helvetica,sans-Serif\" font-size=\"14.00\" fill=\"#000000\">class = malignant</text>\n</g>\n<!-- 25&#45;&gt;29 -->\n<g id=\"edge29\" class=\"edge\">\n<title>25&#45;&gt;29</title>\n<path fill=\"none\" stroke=\"#000000\" d=\"M1328.7239,-579.8796C1336.6707,-570.8733 1345.149,-561.2644 1353.3326,-551.9897\"/>\n<polygon fill=\"#000000\" stroke=\"#000000\" points=\"1356.1275,-554.1122 1360.1193,-544.2981 1350.8787,-549.4808 1356.1275,-554.1122\"/>\n</g>\n<!-- 27 -->\n<g id=\"node28\" class=\"node\">\n<title>27</title>\n<path fill=\"#399de5\" stroke=\"#000000\" d=\"M1155,-417.5C1155,-417.5 1069,-417.5 1069,-417.5 1063,-417.5 1057,-411.5 1057,-405.5 1057,-405.5 1057,-361.5 1057,-361.5 1057,-355.5 1063,-349.5 1069,-349.5 1069,-349.5 1155,-349.5 1155,-349.5 1161,-349.5 1167,-355.5 1167,-361.5 1167,-361.5 1167,-405.5 1167,-405.5 1167,-411.5 1161,-417.5 1155,-417.5\"/>\n<text text-anchor=\"start\" x=\"1082.5\" y=\"-402.3\" font-family=\"Helvetica,sans-Serif\" font-size=\"14.00\" fill=\"#000000\">gini = 0.0</text>\n<text text-anchor=\"start\" x=\"1068\" y=\"-387.3\" font-family=\"Helvetica,sans-Serif\" font-size=\"14.00\" fill=\"#000000\">samples = 14</text>\n<text text-anchor=\"start\" x=\"1066.5\" y=\"-372.3\" font-family=\"Helvetica,sans-Serif\" font-size=\"14.00\" fill=\"#000000\">value = [0, 14]</text>\n<text text-anchor=\"start\" x=\"1065\" y=\"-357.3\" font-family=\"Helvetica,sans-Serif\" font-size=\"14.00\" fill=\"#000000\">class = benign</text>\n</g>\n<!-- 26&#45;&gt;27 -->\n<g id=\"edge27\" class=\"edge\">\n<title>26&#45;&gt;27</title>\n<path fill=\"none\" stroke=\"#000000\" d=\"M1163.3696,-460.8796C1155.9237,-449.6636 1147.8575,-437.5131 1140.3718,-426.2372\"/>\n<polygon fill=\"#000000\" stroke=\"#000000\" points=\"1143.2273,-424.2104 1134.7805,-417.8149 1137.3954,-428.082 1143.2273,-424.2104\"/>\n</g>\n<!-- 28 -->\n<g id=\"node29\" class=\"node\">\n<title>28</title>\n<path fill=\"#e58139\" stroke=\"#000000\" d=\"M1302.5,-417.5C1302.5,-417.5 1197.5,-417.5 1197.5,-417.5 1191.5,-417.5 1185.5,-411.5 1185.5,-405.5 1185.5,-405.5 1185.5,-361.5 1185.5,-361.5 1185.5,-355.5 1191.5,-349.5 1197.5,-349.5 1197.5,-349.5 1302.5,-349.5 1302.5,-349.5 1308.5,-349.5 1314.5,-355.5 1314.5,-361.5 1314.5,-361.5 1314.5,-405.5 1314.5,-405.5 1314.5,-411.5 1308.5,-417.5 1302.5,-417.5\"/>\n<text text-anchor=\"start\" x=\"1220.5\" y=\"-402.3\" font-family=\"Helvetica,sans-Serif\" font-size=\"14.00\" fill=\"#000000\">gini = 0.0</text>\n<text text-anchor=\"start\" x=\"1210.5\" y=\"-387.3\" font-family=\"Helvetica,sans-Serif\" font-size=\"14.00\" fill=\"#000000\">samples = 1</text>\n<text text-anchor=\"start\" x=\"1208.5\" y=\"-372.3\" font-family=\"Helvetica,sans-Serif\" font-size=\"14.00\" fill=\"#000000\">value = [1, 0]</text>\n<text text-anchor=\"start\" x=\"1193.5\" y=\"-357.3\" font-family=\"Helvetica,sans-Serif\" font-size=\"14.00\" fill=\"#000000\">class = malignant</text>\n</g>\n<!-- 26&#45;&gt;28 -->\n<g id=\"edge28\" class=\"edge\">\n<title>26&#45;&gt;28</title>\n<path fill=\"none\" stroke=\"#000000\" d=\"M1211.6353,-460.8796C1217.0872,-449.8835 1222.9843,-437.9893 1228.4816,-426.9015\"/>\n<polygon fill=\"#000000\" stroke=\"#000000\" points=\"1231.6804,-428.3289 1232.9867,-417.8149 1225.4089,-425.2195 1231.6804,-428.3289\"/>\n</g>\n<!-- 30 -->\n<g id=\"node31\" class=\"node\">\n<title>30</title>\n<path fill=\"#e58139\" stroke=\"#000000\" d=\"M1449.5,-417.5C1449.5,-417.5 1344.5,-417.5 1344.5,-417.5 1338.5,-417.5 1332.5,-411.5 1332.5,-405.5 1332.5,-405.5 1332.5,-361.5 1332.5,-361.5 1332.5,-355.5 1338.5,-349.5 1344.5,-349.5 1344.5,-349.5 1449.5,-349.5 1449.5,-349.5 1455.5,-349.5 1461.5,-355.5 1461.5,-361.5 1461.5,-361.5 1461.5,-405.5 1461.5,-405.5 1461.5,-411.5 1455.5,-417.5 1449.5,-417.5\"/>\n<text text-anchor=\"start\" x=\"1367.5\" y=\"-402.3\" font-family=\"Helvetica,sans-Serif\" font-size=\"14.00\" fill=\"#000000\">gini = 0.0</text>\n<text text-anchor=\"start\" x=\"1353\" y=\"-387.3\" font-family=\"Helvetica,sans-Serif\" font-size=\"14.00\" fill=\"#000000\">samples = 12</text>\n<text text-anchor=\"start\" x=\"1351.5\" y=\"-372.3\" font-family=\"Helvetica,sans-Serif\" font-size=\"14.00\" fill=\"#000000\">value = [12, 0]</text>\n<text text-anchor=\"start\" x=\"1340.5\" y=\"-357.3\" font-family=\"Helvetica,sans-Serif\" font-size=\"14.00\" fill=\"#000000\">class = malignant</text>\n</g>\n<!-- 29&#45;&gt;30 -->\n<g id=\"edge30\" class=\"edge\">\n<title>29&#45;&gt;30</title>\n<path fill=\"none\" stroke=\"#000000\" d=\"M1397,-460.8796C1397,-450.2134 1397,-438.7021 1397,-427.9015\"/>\n<polygon fill=\"#000000\" stroke=\"#000000\" points=\"1400.5001,-427.8149 1397,-417.8149 1393.5001,-427.815 1400.5001,-427.8149\"/>\n</g>\n<!-- 31 -->\n<g id=\"node32\" class=\"node\">\n<title>31</title>\n<path fill=\"#399de5\" stroke=\"#000000\" d=\"M1578,-417.5C1578,-417.5 1492,-417.5 1492,-417.5 1486,-417.5 1480,-411.5 1480,-405.5 1480,-405.5 1480,-361.5 1480,-361.5 1480,-355.5 1486,-349.5 1492,-349.5 1492,-349.5 1578,-349.5 1578,-349.5 1584,-349.5 1590,-355.5 1590,-361.5 1590,-361.5 1590,-405.5 1590,-405.5 1590,-411.5 1584,-417.5 1578,-417.5\"/>\n<text text-anchor=\"start\" x=\"1505.5\" y=\"-402.3\" font-family=\"Helvetica,sans-Serif\" font-size=\"14.00\" fill=\"#000000\">gini = 0.0</text>\n<text text-anchor=\"start\" x=\"1495.5\" y=\"-387.3\" font-family=\"Helvetica,sans-Serif\" font-size=\"14.00\" fill=\"#000000\">samples = 5</text>\n<text text-anchor=\"start\" x=\"1493.5\" y=\"-372.3\" font-family=\"Helvetica,sans-Serif\" font-size=\"14.00\" fill=\"#000000\">value = [0, 5]</text>\n<text text-anchor=\"start\" x=\"1488\" y=\"-357.3\" font-family=\"Helvetica,sans-Serif\" font-size=\"14.00\" fill=\"#000000\">class = benign</text>\n</g>\n<!-- 29&#45;&gt;31 -->\n<g id=\"edge31\" class=\"edge\">\n<title>29&#45;&gt;31</title>\n<path fill=\"none\" stroke=\"#000000\" d=\"M1445.2657,-460.8796C1458.9101,-449.1138 1473.7469,-436.3197 1487.3546,-424.5855\"/>\n<polygon fill=\"#000000\" stroke=\"#000000\" points=\"1489.9187,-426.9961 1495.2062,-417.8149 1485.3473,-421.6948 1489.9187,-426.9961\"/>\n</g>\n<!-- 33 -->\n<g id=\"node34\" class=\"node\">\n<title>33</title>\n<path fill=\"#399de5\" stroke=\"#000000\" d=\"M1616,-536.5C1616,-536.5 1530,-536.5 1530,-536.5 1524,-536.5 1518,-530.5 1518,-524.5 1518,-524.5 1518,-480.5 1518,-480.5 1518,-474.5 1524,-468.5 1530,-468.5 1530,-468.5 1616,-468.5 1616,-468.5 1622,-468.5 1628,-474.5 1628,-480.5 1628,-480.5 1628,-524.5 1628,-524.5 1628,-530.5 1622,-536.5 1616,-536.5\"/>\n<text text-anchor=\"start\" x=\"1543.5\" y=\"-521.3\" font-family=\"Helvetica,sans-Serif\" font-size=\"14.00\" fill=\"#000000\">gini = 0.0</text>\n<text text-anchor=\"start\" x=\"1533.5\" y=\"-506.3\" font-family=\"Helvetica,sans-Serif\" font-size=\"14.00\" fill=\"#000000\">samples = 3</text>\n<text text-anchor=\"start\" x=\"1531.5\" y=\"-491.3\" font-family=\"Helvetica,sans-Serif\" font-size=\"14.00\" fill=\"#000000\">value = [0, 3]</text>\n<text text-anchor=\"start\" x=\"1526\" y=\"-476.3\" font-family=\"Helvetica,sans-Serif\" font-size=\"14.00\" fill=\"#000000\">class = benign</text>\n</g>\n<!-- 32&#45;&gt;33 -->\n<g id=\"edge33\" class=\"edge\">\n<title>32&#45;&gt;33</title>\n<path fill=\"none\" stroke=\"#000000\" d=\"M1573,-579.8796C1573,-569.2134 1573,-557.7021 1573,-546.9015\"/>\n<polygon fill=\"#000000\" stroke=\"#000000\" points=\"1576.5001,-546.8149 1573,-536.8149 1569.5001,-546.815 1576.5001,-546.8149\"/>\n</g>\n<!-- 34 -->\n<g id=\"node35\" class=\"node\">\n<title>34</title>\n<path fill=\"#e6843e\" stroke=\"#000000\" d=\"M1801.5,-544C1801.5,-544 1658.5,-544 1658.5,-544 1652.5,-544 1646.5,-538 1646.5,-532 1646.5,-532 1646.5,-473 1646.5,-473 1646.5,-467 1652.5,-461 1658.5,-461 1658.5,-461 1801.5,-461 1801.5,-461 1807.5,-461 1813.5,-467 1813.5,-473 1813.5,-473 1813.5,-532 1813.5,-532 1813.5,-538 1807.5,-544 1801.5,-544\"/>\n<text text-anchor=\"start\" x=\"1654.5\" y=\"-528.8\" font-family=\"Helvetica,sans-Serif\" font-size=\"14.00\" fill=\"#000000\">perimeter error ≤ &#45;0.806</text>\n<text text-anchor=\"start\" x=\"1692\" y=\"-513.8\" font-family=\"Helvetica,sans-Serif\" font-size=\"14.00\" fill=\"#000000\">gini = 0.052</text>\n<text text-anchor=\"start\" x=\"1682\" y=\"-498.8\" font-family=\"Helvetica,sans-Serif\" font-size=\"14.00\" fill=\"#000000\">samples = 150</text>\n<text text-anchor=\"start\" x=\"1680\" y=\"-483.8\" font-family=\"Helvetica,sans-Serif\" font-size=\"14.00\" fill=\"#000000\">value = [146, 4]</text>\n<text text-anchor=\"start\" x=\"1673.5\" y=\"-468.8\" font-family=\"Helvetica,sans-Serif\" font-size=\"14.00\" fill=\"#000000\">class = malignant</text>\n</g>\n<!-- 32&#45;&gt;34 -->\n<g id=\"edge34\" class=\"edge\">\n<title>32&#45;&gt;34</title>\n<path fill=\"none\" stroke=\"#000000\" d=\"M1627.911,-579.8796C1640.5794,-570.2774 1654.1515,-559.9903 1667.1295,-550.1534\"/>\n<polygon fill=\"#000000\" stroke=\"#000000\" points=\"1669.2648,-552.9268 1675.12,-544.0969 1665.0364,-547.3482 1669.2648,-552.9268\"/>\n</g>\n<!-- 35 -->\n<g id=\"node36\" class=\"node\">\n<title>35</title>\n<path fill=\"#399de5\" stroke=\"#000000\" d=\"M1740,-417.5C1740,-417.5 1654,-417.5 1654,-417.5 1648,-417.5 1642,-411.5 1642,-405.5 1642,-405.5 1642,-361.5 1642,-361.5 1642,-355.5 1648,-349.5 1654,-349.5 1654,-349.5 1740,-349.5 1740,-349.5 1746,-349.5 1752,-355.5 1752,-361.5 1752,-361.5 1752,-405.5 1752,-405.5 1752,-411.5 1746,-417.5 1740,-417.5\"/>\n<text text-anchor=\"start\" x=\"1667.5\" y=\"-402.3\" font-family=\"Helvetica,sans-Serif\" font-size=\"14.00\" fill=\"#000000\">gini = 0.0</text>\n<text text-anchor=\"start\" x=\"1657.5\" y=\"-387.3\" font-family=\"Helvetica,sans-Serif\" font-size=\"14.00\" fill=\"#000000\">samples = 1</text>\n<text text-anchor=\"start\" x=\"1655.5\" y=\"-372.3\" font-family=\"Helvetica,sans-Serif\" font-size=\"14.00\" fill=\"#000000\">value = [0, 1]</text>\n<text text-anchor=\"start\" x=\"1650\" y=\"-357.3\" font-family=\"Helvetica,sans-Serif\" font-size=\"14.00\" fill=\"#000000\">class = benign</text>\n</g>\n<!-- 34&#45;&gt;35 -->\n<g id=\"edge35\" class=\"edge\">\n<title>34&#45;&gt;35</title>\n<path fill=\"none\" stroke=\"#000000\" d=\"M1718.4582,-460.8796C1715.4699,-450.1034 1712.2423,-438.4647 1709.2205,-427.5677\"/>\n<polygon fill=\"#000000\" stroke=\"#000000\" points=\"1712.561,-426.516 1706.5159,-417.8149 1705.8155,-428.3866 1712.561,-426.516\"/>\n</g>\n<!-- 36 -->\n<g id=\"node37\" class=\"node\">\n<title>36</title>\n<path fill=\"#e6843d\" stroke=\"#000000\" d=\"M1970,-425C1970,-425 1782,-425 1782,-425 1776,-425 1770,-419 1770,-413 1770,-413 1770,-354 1770,-354 1770,-348 1776,-342 1782,-342 1782,-342 1970,-342 1970,-342 1976,-342 1982,-348 1982,-354 1982,-354 1982,-413 1982,-413 1982,-419 1976,-425 1970,-425\"/>\n<text text-anchor=\"start\" x=\"1778\" y=\"-409.8\" font-family=\"Helvetica,sans-Serif\" font-size=\"14.00\" fill=\"#000000\">fractal dimension error ≤ 3.395</text>\n<text text-anchor=\"start\" x=\"1838\" y=\"-394.8\" font-family=\"Helvetica,sans-Serif\" font-size=\"14.00\" fill=\"#000000\">gini = 0.039</text>\n<text text-anchor=\"start\" x=\"1828\" y=\"-379.8\" font-family=\"Helvetica,sans-Serif\" font-size=\"14.00\" fill=\"#000000\">samples = 149</text>\n<text text-anchor=\"start\" x=\"1826\" y=\"-364.8\" font-family=\"Helvetica,sans-Serif\" font-size=\"14.00\" fill=\"#000000\">value = [146, 3]</text>\n<text text-anchor=\"start\" x=\"1819.5\" y=\"-349.8\" font-family=\"Helvetica,sans-Serif\" font-size=\"14.00\" fill=\"#000000\">class = malignant</text>\n</g>\n<!-- 34&#45;&gt;36 -->\n<g id=\"edge36\" class=\"edge\">\n<title>34&#45;&gt;36</title>\n<path fill=\"none\" stroke=\"#000000\" d=\"M1781.0637,-460.8796C1792.5555,-451.513 1804.8468,-441.4948 1816.645,-431.8784\"/>\n<polygon fill=\"#000000\" stroke=\"#000000\" points=\"1819.1782,-434.329 1824.7183,-425.2981 1814.7556,-428.903 1819.1782,-434.329\"/>\n</g>\n<!-- 37 -->\n<g id=\"node38\" class=\"node\">\n<title>37</title>\n<path fill=\"#e5833c\" stroke=\"#000000\" d=\"M1867,-306C1867,-306 1733,-306 1733,-306 1727,-306 1721,-300 1721,-294 1721,-294 1721,-235 1721,-235 1721,-229 1727,-223 1733,-223 1733,-223 1867,-223 1867,-223 1873,-223 1879,-229 1879,-235 1879,-235 1879,-294 1879,-294 1879,-300 1873,-306 1867,-306\"/>\n<text text-anchor=\"start\" x=\"1729\" y=\"-290.8\" font-family=\"Helvetica,sans-Serif\" font-size=\"14.00\" fill=\"#000000\">mean texture ≤ &#45;0.918</text>\n<text text-anchor=\"start\" x=\"1762\" y=\"-275.8\" font-family=\"Helvetica,sans-Serif\" font-size=\"14.00\" fill=\"#000000\">gini = 0.027</text>\n<text text-anchor=\"start\" x=\"1752\" y=\"-260.8\" font-family=\"Helvetica,sans-Serif\" font-size=\"14.00\" fill=\"#000000\">samples = 148</text>\n<text text-anchor=\"start\" x=\"1750\" y=\"-245.8\" font-family=\"Helvetica,sans-Serif\" font-size=\"14.00\" fill=\"#000000\">value = [146, 2]</text>\n<text text-anchor=\"start\" x=\"1743.5\" y=\"-230.8\" font-family=\"Helvetica,sans-Serif\" font-size=\"14.00\" fill=\"#000000\">class = malignant</text>\n</g>\n<!-- 36&#45;&gt;37 -->\n<g id=\"edge37\" class=\"edge\">\n<title>36&#45;&gt;37</title>\n<path fill=\"none\" stroke=\"#000000\" d=\"M1849.4189,-341.8796C1843.8395,-333.1434 1837.8981,-323.8404 1832.1405,-314.8253\"/>\n<polygon fill=\"#000000\" stroke=\"#000000\" points=\"1835.0269,-312.8421 1826.6946,-306.2981 1829.1274,-316.6098 1835.0269,-312.8421\"/>\n</g>\n<!-- 42 -->\n<g id=\"node43\" class=\"node\">\n<title>42</title>\n<path fill=\"#399de5\" stroke=\"#000000\" d=\"M1995,-298.5C1995,-298.5 1909,-298.5 1909,-298.5 1903,-298.5 1897,-292.5 1897,-286.5 1897,-286.5 1897,-242.5 1897,-242.5 1897,-236.5 1903,-230.5 1909,-230.5 1909,-230.5 1995,-230.5 1995,-230.5 2001,-230.5 2007,-236.5 2007,-242.5 2007,-242.5 2007,-286.5 2007,-286.5 2007,-292.5 2001,-298.5 1995,-298.5\"/>\n<text text-anchor=\"start\" x=\"1922.5\" y=\"-283.3\" font-family=\"Helvetica,sans-Serif\" font-size=\"14.00\" fill=\"#000000\">gini = 0.0</text>\n<text text-anchor=\"start\" x=\"1912.5\" y=\"-268.3\" font-family=\"Helvetica,sans-Serif\" font-size=\"14.00\" fill=\"#000000\">samples = 1</text>\n<text text-anchor=\"start\" x=\"1910.5\" y=\"-253.3\" font-family=\"Helvetica,sans-Serif\" font-size=\"14.00\" fill=\"#000000\">value = [0, 1]</text>\n<text text-anchor=\"start\" x=\"1905\" y=\"-238.3\" font-family=\"Helvetica,sans-Serif\" font-size=\"14.00\" fill=\"#000000\">class = benign</text>\n</g>\n<!-- 36&#45;&gt;42 -->\n<g id=\"edge42\" class=\"edge\">\n<title>36&#45;&gt;42</title>\n<path fill=\"none\" stroke=\"#000000\" d=\"M1902.5811,-341.8796C1909.674,-330.7735 1917.3521,-318.7513 1924.4937,-307.5691\"/>\n<polygon fill=\"#000000\" stroke=\"#000000\" points=\"1927.6518,-309.1267 1930.0846,-298.8149 1921.7523,-305.3589 1927.6518,-309.1267\"/>\n</g>\n<!-- 38 -->\n<g id=\"node39\" class=\"node\">\n<title>38</title>\n<path fill=\"#eeab7b\" stroke=\"#000000\" d=\"M1798.5,-187C1798.5,-187 1615.5,-187 1615.5,-187 1609.5,-187 1603.5,-181 1603.5,-175 1603.5,-175 1603.5,-116 1603.5,-116 1603.5,-110 1609.5,-104 1615.5,-104 1615.5,-104 1798.5,-104 1798.5,-104 1804.5,-104 1810.5,-110 1810.5,-116 1810.5,-116 1810.5,-175 1810.5,-175 1810.5,-181 1804.5,-187 1798.5,-187\"/>\n<text text-anchor=\"start\" x=\"1611.5\" y=\"-171.8\" font-family=\"Helvetica,sans-Serif\" font-size=\"14.00\" fill=\"#000000\">mean concave points ≤ 0.576</text>\n<text text-anchor=\"start\" x=\"1669\" y=\"-156.8\" font-family=\"Helvetica,sans-Serif\" font-size=\"14.00\" fill=\"#000000\">gini = 0.375</text>\n<text text-anchor=\"start\" x=\"1667.5\" y=\"-141.8\" font-family=\"Helvetica,sans-Serif\" font-size=\"14.00\" fill=\"#000000\">samples = 8</text>\n<text text-anchor=\"start\" x=\"1665.5\" y=\"-126.8\" font-family=\"Helvetica,sans-Serif\" font-size=\"14.00\" fill=\"#000000\">value = [6, 2]</text>\n<text text-anchor=\"start\" x=\"1650.5\" y=\"-111.8\" font-family=\"Helvetica,sans-Serif\" font-size=\"14.00\" fill=\"#000000\">class = malignant</text>\n</g>\n<!-- 37&#45;&gt;38 -->\n<g id=\"edge38\" class=\"edge\">\n<title>37&#45;&gt;38</title>\n<path fill=\"none\" stroke=\"#000000\" d=\"M1767.4731,-222.8796C1760.5049,-213.9633 1753.0753,-204.4565 1745.8944,-195.268\"/>\n<polygon fill=\"#000000\" stroke=\"#000000\" points=\"1748.5812,-193.0221 1739.6657,-187.2981 1743.0657,-197.3326 1748.5812,-193.0221\"/>\n</g>\n<!-- 41 -->\n<g id=\"node42\" class=\"node\">\n<title>41</title>\n<path fill=\"#e58139\" stroke=\"#000000\" d=\"M1945.5,-179.5C1945.5,-179.5 1840.5,-179.5 1840.5,-179.5 1834.5,-179.5 1828.5,-173.5 1828.5,-167.5 1828.5,-167.5 1828.5,-123.5 1828.5,-123.5 1828.5,-117.5 1834.5,-111.5 1840.5,-111.5 1840.5,-111.5 1945.5,-111.5 1945.5,-111.5 1951.5,-111.5 1957.5,-117.5 1957.5,-123.5 1957.5,-123.5 1957.5,-167.5 1957.5,-167.5 1957.5,-173.5 1951.5,-179.5 1945.5,-179.5\"/>\n<text text-anchor=\"start\" x=\"1863.5\" y=\"-164.3\" font-family=\"Helvetica,sans-Serif\" font-size=\"14.00\" fill=\"#000000\">gini = 0.0</text>\n<text text-anchor=\"start\" x=\"1845\" y=\"-149.3\" font-family=\"Helvetica,sans-Serif\" font-size=\"14.00\" fill=\"#000000\">samples = 140</text>\n<text text-anchor=\"start\" x=\"1843\" y=\"-134.3\" font-family=\"Helvetica,sans-Serif\" font-size=\"14.00\" fill=\"#000000\">value = [140, 0]</text>\n<text text-anchor=\"start\" x=\"1836.5\" y=\"-119.3\" font-family=\"Helvetica,sans-Serif\" font-size=\"14.00\" fill=\"#000000\">class = malignant</text>\n</g>\n<!-- 37&#45;&gt;41 -->\n<g id=\"edge41\" class=\"edge\">\n<title>37&#45;&gt;41</title>\n<path fill=\"none\" stroke=\"#000000\" d=\"M1832.5269,-222.8796C1841.3783,-211.5536 1850.9743,-199.2748 1859.8593,-187.9058\"/>\n<polygon fill=\"#000000\" stroke=\"#000000\" points=\"1862.7824,-189.8494 1866.1824,-179.8149 1857.2669,-185.539 1862.7824,-189.8494\"/>\n</g>\n<!-- 39 -->\n<g id=\"node40\" class=\"node\">\n<title>39</title>\n<path fill=\"#399de5\" stroke=\"#000000\" d=\"M1681,-68C1681,-68 1595,-68 1595,-68 1589,-68 1583,-62 1583,-56 1583,-56 1583,-12 1583,-12 1583,-6 1589,0 1595,0 1595,0 1681,0 1681,0 1687,0 1693,-6 1693,-12 1693,-12 1693,-56 1693,-56 1693,-62 1687,-68 1681,-68\"/>\n<text text-anchor=\"start\" x=\"1608.5\" y=\"-52.8\" font-family=\"Helvetica,sans-Serif\" font-size=\"14.00\" fill=\"#000000\">gini = 0.0</text>\n<text text-anchor=\"start\" x=\"1598.5\" y=\"-37.8\" font-family=\"Helvetica,sans-Serif\" font-size=\"14.00\" fill=\"#000000\">samples = 2</text>\n<text text-anchor=\"start\" x=\"1596.5\" y=\"-22.8\" font-family=\"Helvetica,sans-Serif\" font-size=\"14.00\" fill=\"#000000\">value = [0, 2]</text>\n<text text-anchor=\"start\" x=\"1591\" y=\"-7.8\" font-family=\"Helvetica,sans-Serif\" font-size=\"14.00\" fill=\"#000000\">class = benign</text>\n</g>\n<!-- 38&#45;&gt;39 -->\n<g id=\"edge39\" class=\"edge\">\n<title>38&#45;&gt;39</title>\n<path fill=\"none\" stroke=\"#000000\" d=\"M1681.3069,-103.9815C1675.8469,-95.1585 1670.0716,-85.8258 1664.5793,-76.9506\"/>\n<polygon fill=\"#000000\" stroke=\"#000000\" points=\"1667.442,-74.9254 1659.2035,-68.2637 1661.4896,-78.609 1667.442,-74.9254\"/>\n</g>\n<!-- 40 -->\n<g id=\"node41\" class=\"node\">\n<title>40</title>\n<path fill=\"#e58139\" stroke=\"#000000\" d=\"M1828.5,-68C1828.5,-68 1723.5,-68 1723.5,-68 1717.5,-68 1711.5,-62 1711.5,-56 1711.5,-56 1711.5,-12 1711.5,-12 1711.5,-6 1717.5,0 1723.5,0 1723.5,0 1828.5,0 1828.5,0 1834.5,0 1840.5,-6 1840.5,-12 1840.5,-12 1840.5,-56 1840.5,-56 1840.5,-62 1834.5,-68 1828.5,-68\"/>\n<text text-anchor=\"start\" x=\"1746.5\" y=\"-52.8\" font-family=\"Helvetica,sans-Serif\" font-size=\"14.00\" fill=\"#000000\">gini = 0.0</text>\n<text text-anchor=\"start\" x=\"1736.5\" y=\"-37.8\" font-family=\"Helvetica,sans-Serif\" font-size=\"14.00\" fill=\"#000000\">samples = 6</text>\n<text text-anchor=\"start\" x=\"1734.5\" y=\"-22.8\" font-family=\"Helvetica,sans-Serif\" font-size=\"14.00\" fill=\"#000000\">value = [6, 0]</text>\n<text text-anchor=\"start\" x=\"1719.5\" y=\"-7.8\" font-family=\"Helvetica,sans-Serif\" font-size=\"14.00\" fill=\"#000000\">class = malignant</text>\n</g>\n<!-- 38&#45;&gt;40 -->\n<g id=\"edge40\" class=\"edge\">\n<title>38&#45;&gt;40</title>\n<path fill=\"none\" stroke=\"#000000\" d=\"M1732.6931,-103.9815C1738.1531,-95.1585 1743.9284,-85.8258 1749.4207,-76.9506\"/>\n<polygon fill=\"#000000\" stroke=\"#000000\" points=\"1752.5104,-78.609 1754.7965,-68.2637 1746.558,-74.9254 1752.5104,-78.609\"/>\n</g>\n</g>\n</svg>\n"
          },
          "metadata": {},
          "execution_count": 32
        }
      ]
    },
    {
      "cell_type": "markdown",
      "source": [
        "## 회귀(Regression)\n",
        "```python\n",
        "model = DecisionTreeRegressor()\n",
        "```"
      ],
      "metadata": {
        "id": "EIrA2zyGkf6L"
      }
    }
  ]
}